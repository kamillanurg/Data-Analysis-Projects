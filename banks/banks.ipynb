{
 "cells": [
  {
   "cell_type": "markdown",
   "metadata": {},
   "source": [
    "# Анализ оттока клиентов банка \"Метанпромбанк\""
   ]
  },
  {
   "cell_type": "markdown",
   "metadata": {},
   "source": [
    "Датасет, поступивший к анализу, содержит данные о клиентах банка «Метанпромбанк». Банк располагается в\n",
    "Ярославле и областных городах: Ростов Великий и Рыбинск. \n",
    "\n",
    "Заказчик - отдел маркетинга “Метанпромбанка”.\n",
    "\n",
    "**Цель:**  исследование оттока клиентов из банка «Метанпромбанк».\n",
    "\n",
    "**Задачи:**\n",
    "- проанализировать клиентов регионального банка;\n",
    "- выделить сегменты клиентов, склонных уходить из банка;\n",
    "- дать рекомендации по удержанию отточных клиентов."
   ]
  },
  {
   "cell_type": "markdown",
   "metadata": {},
   "source": [
    "**План работы:**\n",
    "\n",
    "1. Загрузка и описание данных\n",
    "\n",
    "2. Предобработка данных\n",
    "         \n",
    "3. Исследовательский анализ данных\n",
    "\n",
    "4. Проверка статистических гипотез\n",
    "   \n",
    "5. Общие выводы по исследовательскому анализу\n",
    "\n",
    "6. Сегментация клиентов по признакам отточности\n",
    "\n",
    "7. Общие выводы по исследованию"
   ]
  },
  {
   "cell_type": "markdown",
   "metadata": {},
   "source": [
    "## 1. Загрузка и описание данных"
   ]
  },
  {
   "cell_type": "markdown",
   "metadata": {},
   "source": [
    "Перед началом работы загрузим все необходимые для проведения исследования библиотеки:"
   ]
  },
  {
   "cell_type": "code",
   "execution_count": 1,
   "metadata": {},
   "outputs": [],
   "source": [
    "import pandas as pd # импортируем pandas для работы с таблицами\n",
    "\n",
    "import numpy as np # импортируем библиотеку numpy для работы с массивами\n",
    "\n",
    "from datetime import datetime, timedelta # импортируем библиотеку datetime для работы с данными \n",
    "#в формате даты и времени\n",
    "\n",
    "from matplotlib import pyplot as plt # импортируем библиотеку pyplot для работы с графиками\n",
    "\n",
    "import seaborn as sns # импортируем библиотеку seaborn для работы с инструментами визуализации\n",
    "\n",
    "from scipy import stats as st # импортируем библиотеку scipy.stats для работы со статистическимм тестами\n",
    "\n",
    "import math as mth # импортируем библиотеку math для выполнения математических операций\n",
    "\n",
    "from plotly import graph_objects as go # импортируем библиотеку plotly.express для работы с инструментами \n",
    "#визуализации"
   ]
  },
  {
   "cell_type": "markdown",
   "metadata": {},
   "source": [
    "Загружаем данные:"
   ]
  },
  {
   "cell_type": "code",
   "execution_count": 2,
   "metadata": {},
   "outputs": [
    {
     "data": {
      "text/html": [
       "<div>\n",
       "<style scoped>\n",
       "    .dataframe tbody tr th:only-of-type {\n",
       "        vertical-align: middle;\n",
       "    }\n",
       "\n",
       "    .dataframe tbody tr th {\n",
       "        vertical-align: top;\n",
       "    }\n",
       "\n",
       "    .dataframe thead th {\n",
       "        text-align: right;\n",
       "    }\n",
       "</style>\n",
       "<table border=\"1\" class=\"dataframe\">\n",
       "  <thead>\n",
       "    <tr style=\"text-align: right;\">\n",
       "      <th></th>\n",
       "      <th>USERID</th>\n",
       "      <th>score</th>\n",
       "      <th>city</th>\n",
       "      <th>gender</th>\n",
       "      <th>age</th>\n",
       "      <th>equity</th>\n",
       "      <th>balance</th>\n",
       "      <th>products</th>\n",
       "      <th>credit_card</th>\n",
       "      <th>last_activity</th>\n",
       "      <th>EST_SALARY</th>\n",
       "      <th>churn</th>\n",
       "    </tr>\n",
       "  </thead>\n",
       "  <tbody>\n",
       "    <tr>\n",
       "      <th>0</th>\n",
       "      <td>183012</td>\n",
       "      <td>850.0</td>\n",
       "      <td>Рыбинск</td>\n",
       "      <td>Ж</td>\n",
       "      <td>25.0</td>\n",
       "      <td>1</td>\n",
       "      <td>59214.82</td>\n",
       "      <td>2</td>\n",
       "      <td>0</td>\n",
       "      <td>1</td>\n",
       "      <td>75719.14</td>\n",
       "      <td>1</td>\n",
       "    </tr>\n",
       "    <tr>\n",
       "      <th>1</th>\n",
       "      <td>146556</td>\n",
       "      <td>861.0</td>\n",
       "      <td>Рыбинск</td>\n",
       "      <td>Ж</td>\n",
       "      <td>37.0</td>\n",
       "      <td>5</td>\n",
       "      <td>850594.33</td>\n",
       "      <td>3</td>\n",
       "      <td>1</td>\n",
       "      <td>0</td>\n",
       "      <td>86621.77</td>\n",
       "      <td>0</td>\n",
       "    </tr>\n",
       "    <tr>\n",
       "      <th>2</th>\n",
       "      <td>120722</td>\n",
       "      <td>892.0</td>\n",
       "      <td>Рыбинск</td>\n",
       "      <td>Ж</td>\n",
       "      <td>30.0</td>\n",
       "      <td>0</td>\n",
       "      <td>NaN</td>\n",
       "      <td>1</td>\n",
       "      <td>1</td>\n",
       "      <td>1</td>\n",
       "      <td>107683.34</td>\n",
       "      <td>0</td>\n",
       "    </tr>\n",
       "    <tr>\n",
       "      <th>3</th>\n",
       "      <td>225363</td>\n",
       "      <td>866.0</td>\n",
       "      <td>Ярославль</td>\n",
       "      <td>Ж</td>\n",
       "      <td>51.0</td>\n",
       "      <td>5</td>\n",
       "      <td>1524746.26</td>\n",
       "      <td>2</td>\n",
       "      <td>0</td>\n",
       "      <td>1</td>\n",
       "      <td>174423.53</td>\n",
       "      <td>1</td>\n",
       "    </tr>\n",
       "    <tr>\n",
       "      <th>4</th>\n",
       "      <td>157978</td>\n",
       "      <td>730.0</td>\n",
       "      <td>Ярославль</td>\n",
       "      <td>М</td>\n",
       "      <td>34.0</td>\n",
       "      <td>5</td>\n",
       "      <td>174.00</td>\n",
       "      <td>1</td>\n",
       "      <td>1</td>\n",
       "      <td>0</td>\n",
       "      <td>67353.16</td>\n",
       "      <td>1</td>\n",
       "    </tr>\n",
       "    <tr>\n",
       "      <th>...</th>\n",
       "      <td>...</td>\n",
       "      <td>...</td>\n",
       "      <td>...</td>\n",
       "      <td>...</td>\n",
       "      <td>...</td>\n",
       "      <td>...</td>\n",
       "      <td>...</td>\n",
       "      <td>...</td>\n",
       "      <td>...</td>\n",
       "      <td>...</td>\n",
       "      <td>...</td>\n",
       "      <td>...</td>\n",
       "    </tr>\n",
       "    <tr>\n",
       "      <th>9995</th>\n",
       "      <td>120553</td>\n",
       "      <td>814.0</td>\n",
       "      <td>Рыбинск</td>\n",
       "      <td>М</td>\n",
       "      <td>27.0</td>\n",
       "      <td>1</td>\n",
       "      <td>78144.65</td>\n",
       "      <td>1</td>\n",
       "      <td>0</td>\n",
       "      <td>1</td>\n",
       "      <td>18943.64</td>\n",
       "      <td>0</td>\n",
       "    </tr>\n",
       "    <tr>\n",
       "      <th>9996</th>\n",
       "      <td>139170</td>\n",
       "      <td>894.0</td>\n",
       "      <td>Ярославль</td>\n",
       "      <td>М</td>\n",
       "      <td>46.0</td>\n",
       "      <td>0</td>\n",
       "      <td>NaN</td>\n",
       "      <td>1</td>\n",
       "      <td>1</td>\n",
       "      <td>0</td>\n",
       "      <td>196898.29</td>\n",
       "      <td>0</td>\n",
       "    </tr>\n",
       "    <tr>\n",
       "      <th>9997</th>\n",
       "      <td>115639</td>\n",
       "      <td>903.0</td>\n",
       "      <td>Ярославль</td>\n",
       "      <td>М</td>\n",
       "      <td>24.0</td>\n",
       "      <td>0</td>\n",
       "      <td>NaN</td>\n",
       "      <td>2</td>\n",
       "      <td>1</td>\n",
       "      <td>1</td>\n",
       "      <td>108905.09</td>\n",
       "      <td>0</td>\n",
       "    </tr>\n",
       "    <tr>\n",
       "      <th>9998</th>\n",
       "      <td>148700</td>\n",
       "      <td>777.0</td>\n",
       "      <td>Ярославль</td>\n",
       "      <td>Ж</td>\n",
       "      <td>68.0</td>\n",
       "      <td>3</td>\n",
       "      <td>865457.97</td>\n",
       "      <td>3</td>\n",
       "      <td>0</td>\n",
       "      <td>1</td>\n",
       "      <td>86874.90</td>\n",
       "      <td>0</td>\n",
       "    </tr>\n",
       "    <tr>\n",
       "      <th>9999</th>\n",
       "      <td>96267</td>\n",
       "      <td>828.0</td>\n",
       "      <td>Рыбинск</td>\n",
       "      <td>Ж</td>\n",
       "      <td>58.0</td>\n",
       "      <td>3</td>\n",
       "      <td>1180886.70</td>\n",
       "      <td>4</td>\n",
       "      <td>0</td>\n",
       "      <td>1</td>\n",
       "      <td>21422.37</td>\n",
       "      <td>0</td>\n",
       "    </tr>\n",
       "  </tbody>\n",
       "</table>\n",
       "<p>10000 rows × 12 columns</p>\n",
       "</div>"
      ],
      "text/plain": [
       "      USERID  score       city gender   age  equity     balance  products  \\\n",
       "0     183012  850.0    Рыбинск      Ж  25.0       1    59214.82         2   \n",
       "1     146556  861.0    Рыбинск      Ж  37.0       5   850594.33         3   \n",
       "2     120722  892.0    Рыбинск      Ж  30.0       0         NaN         1   \n",
       "3     225363  866.0  Ярославль      Ж  51.0       5  1524746.26         2   \n",
       "4     157978  730.0  Ярославль      М  34.0       5      174.00         1   \n",
       "...      ...    ...        ...    ...   ...     ...         ...       ...   \n",
       "9995  120553  814.0    Рыбинск      М  27.0       1    78144.65         1   \n",
       "9996  139170  894.0  Ярославль      М  46.0       0         NaN         1   \n",
       "9997  115639  903.0  Ярославль      М  24.0       0         NaN         2   \n",
       "9998  148700  777.0  Ярославль      Ж  68.0       3   865457.97         3   \n",
       "9999   96267  828.0    Рыбинск      Ж  58.0       3  1180886.70         4   \n",
       "\n",
       "      credit_card  last_activity  EST_SALARY  churn  \n",
       "0               0              1    75719.14      1  \n",
       "1               1              0    86621.77      0  \n",
       "2               1              1   107683.34      0  \n",
       "3               0              1   174423.53      1  \n",
       "4               1              0    67353.16      1  \n",
       "...           ...            ...         ...    ...  \n",
       "9995            0              1    18943.64      0  \n",
       "9996            1              0   196898.29      0  \n",
       "9997            1              1   108905.09      0  \n",
       "9998            0              1    86874.90      0  \n",
       "9999            0              1    21422.37      0  \n",
       "\n",
       "[10000 rows x 12 columns]"
      ]
     },
     "execution_count": 2,
     "metadata": {},
     "output_type": "execute_result"
    }
   ],
   "source": [
    "df = pd.read_csv('bank_scrooge.csv')\n",
    "df"
   ]
  },
  {
   "cell_type": "markdown",
   "metadata": {},
   "source": [
    "Познакомимся с данными поближе, используя метод info:"
   ]
  },
  {
   "cell_type": "code",
   "execution_count": 3,
   "metadata": {},
   "outputs": [
    {
     "name": "stdout",
     "output_type": "stream",
     "text": [
      "<class 'pandas.core.frame.DataFrame'>\n",
      "RangeIndex: 10000 entries, 0 to 9999\n",
      "Data columns (total 12 columns):\n",
      " #   Column         Non-Null Count  Dtype  \n",
      "---  ------         --------------  -----  \n",
      " 0   USERID         10000 non-null  int64  \n",
      " 1   score          10000 non-null  float64\n",
      " 2   city           10000 non-null  object \n",
      " 3   gender         10000 non-null  object \n",
      " 4   age            9974 non-null   float64\n",
      " 5   equity         10000 non-null  int64  \n",
      " 6   balance        7705 non-null   float64\n",
      " 7   products       10000 non-null  int64  \n",
      " 8   credit_card    10000 non-null  int64  \n",
      " 9   last_activity  10000 non-null  int64  \n",
      " 10  EST_SALARY     10000 non-null  float64\n",
      " 11  churn          10000 non-null  int64  \n",
      "dtypes: float64(4), int64(6), object(2)\n",
      "memory usage: 937.6+ KB\n"
     ]
    }
   ],
   "source": [
    "df.info()"
   ]
  },
  {
   "cell_type": "markdown",
   "metadata": {},
   "source": [
    "<h6>ВЫВОД:<h6>"
   ]
  },
  {
   "cell_type": "markdown",
   "metadata": {},
   "source": [
    "На вход был получен датасет с данными о клиентах банка \"Метанпромбанк\", состоящий из 10 тысяч строк. Таблица содержит 11 столбцов. Первый столбец - id клиента, все остальные столбцы представляют собой разнообразные характеристики клиента: пол, возраст, кредитный рейтинг, город и др. Названия столбцов прописаны в разных регистрах и стилистиках (с нижним подчеркиванием и без него). Сразу бросаются в глаза пропуски в столбцах с возрастом клиента и балансом на счете. Типы данных: int64, float64, object, изменение типов данных не потребуется.  "
   ]
  },
  {
   "cell_type": "markdown",
   "metadata": {},
   "source": [
    "## 2. Предобработка данных"
   ]
  },
  {
   "cell_type": "markdown",
   "metadata": {},
   "source": [
    "На предыдущем шаге было обнаружено, что названия столбцов датафрейма прописаны в разном регистре и стилистике. Скорректируем заголовки, приведя все к нижнему регистру и добавив нижние подчеркивания вместо пробелов."
   ]
  },
  {
   "cell_type": "code",
   "execution_count": 4,
   "metadata": {},
   "outputs": [
    {
     "data": {
      "text/html": [
       "<div>\n",
       "<style scoped>\n",
       "    .dataframe tbody tr th:only-of-type {\n",
       "        vertical-align: middle;\n",
       "    }\n",
       "\n",
       "    .dataframe tbody tr th {\n",
       "        vertical-align: top;\n",
       "    }\n",
       "\n",
       "    .dataframe thead th {\n",
       "        text-align: right;\n",
       "    }\n",
       "</style>\n",
       "<table border=\"1\" class=\"dataframe\">\n",
       "  <thead>\n",
       "    <tr style=\"text-align: right;\">\n",
       "      <th></th>\n",
       "      <th>user_id</th>\n",
       "      <th>score</th>\n",
       "      <th>city</th>\n",
       "      <th>gender</th>\n",
       "      <th>age</th>\n",
       "      <th>equity</th>\n",
       "      <th>balance</th>\n",
       "      <th>products</th>\n",
       "      <th>credit_card</th>\n",
       "      <th>last_activity</th>\n",
       "      <th>salary</th>\n",
       "      <th>churn</th>\n",
       "    </tr>\n",
       "  </thead>\n",
       "  <tbody>\n",
       "    <tr>\n",
       "      <th>0</th>\n",
       "      <td>183012</td>\n",
       "      <td>850.0</td>\n",
       "      <td>Рыбинск</td>\n",
       "      <td>Ж</td>\n",
       "      <td>25.0</td>\n",
       "      <td>1</td>\n",
       "      <td>59214.82</td>\n",
       "      <td>2</td>\n",
       "      <td>0</td>\n",
       "      <td>1</td>\n",
       "      <td>75719.14</td>\n",
       "      <td>1</td>\n",
       "    </tr>\n",
       "    <tr>\n",
       "      <th>1</th>\n",
       "      <td>146556</td>\n",
       "      <td>861.0</td>\n",
       "      <td>Рыбинск</td>\n",
       "      <td>Ж</td>\n",
       "      <td>37.0</td>\n",
       "      <td>5</td>\n",
       "      <td>850594.33</td>\n",
       "      <td>3</td>\n",
       "      <td>1</td>\n",
       "      <td>0</td>\n",
       "      <td>86621.77</td>\n",
       "      <td>0</td>\n",
       "    </tr>\n",
       "    <tr>\n",
       "      <th>2</th>\n",
       "      <td>120722</td>\n",
       "      <td>892.0</td>\n",
       "      <td>Рыбинск</td>\n",
       "      <td>Ж</td>\n",
       "      <td>30.0</td>\n",
       "      <td>0</td>\n",
       "      <td>NaN</td>\n",
       "      <td>1</td>\n",
       "      <td>1</td>\n",
       "      <td>1</td>\n",
       "      <td>107683.34</td>\n",
       "      <td>0</td>\n",
       "    </tr>\n",
       "    <tr>\n",
       "      <th>3</th>\n",
       "      <td>225363</td>\n",
       "      <td>866.0</td>\n",
       "      <td>Ярославль</td>\n",
       "      <td>Ж</td>\n",
       "      <td>51.0</td>\n",
       "      <td>5</td>\n",
       "      <td>1524746.26</td>\n",
       "      <td>2</td>\n",
       "      <td>0</td>\n",
       "      <td>1</td>\n",
       "      <td>174423.53</td>\n",
       "      <td>1</td>\n",
       "    </tr>\n",
       "    <tr>\n",
       "      <th>4</th>\n",
       "      <td>157978</td>\n",
       "      <td>730.0</td>\n",
       "      <td>Ярославль</td>\n",
       "      <td>М</td>\n",
       "      <td>34.0</td>\n",
       "      <td>5</td>\n",
       "      <td>174.00</td>\n",
       "      <td>1</td>\n",
       "      <td>1</td>\n",
       "      <td>0</td>\n",
       "      <td>67353.16</td>\n",
       "      <td>1</td>\n",
       "    </tr>\n",
       "  </tbody>\n",
       "</table>\n",
       "</div>"
      ],
      "text/plain": [
       "   user_id  score       city gender   age  equity     balance  products  \\\n",
       "0   183012  850.0    Рыбинск      Ж  25.0       1    59214.82         2   \n",
       "1   146556  861.0    Рыбинск      Ж  37.0       5   850594.33         3   \n",
       "2   120722  892.0    Рыбинск      Ж  30.0       0         NaN         1   \n",
       "3   225363  866.0  Ярославль      Ж  51.0       5  1524746.26         2   \n",
       "4   157978  730.0  Ярославль      М  34.0       5      174.00         1   \n",
       "\n",
       "   credit_card  last_activity     salary  churn  \n",
       "0            0              1   75719.14      1  \n",
       "1            1              0   86621.77      0  \n",
       "2            1              1  107683.34      0  \n",
       "3            0              1  174423.53      1  \n",
       "4            1              0   67353.16      1  "
      ]
     },
     "execution_count": 4,
     "metadata": {},
     "output_type": "execute_result"
    }
   ],
   "source": [
    "df = df.rename(columns = {'USERID':'user_id', 'EST_SALARY':'salary'})\n",
    "df.head()"
   ]
  },
  {
   "cell_type": "markdown",
   "metadata": {},
   "source": [
    "Вызов метода info показал наличие пропусков в столбцах age и balance, подсчитаем их:"
   ]
  },
  {
   "cell_type": "code",
   "execution_count": 5,
   "metadata": {},
   "outputs": [
    {
     "name": "stdout",
     "output_type": "stream",
     "text": [
      "Количество пропусков в столбце age: 26. Это составляет 0.26% от общего числа строк \n",
      "Количество пропусков в столбце balance: 2295. Это составляет 22.95% от общего числа строк \n"
     ]
    }
   ],
   "source": [
    "print(f\"Количество пропусков в столбце age: {df['age'].isna().sum()}. \\\n",
    "Это составляет {df['age'].isna().sum()/len(df)*100}% от общего числа строк \")\n",
    "\n",
    "print(f\"Количество пропусков в столбце balance: {df['balance'].isna().sum()}. \\\n",
    "Это составляет {df['balance'].isna().sum()/len(df)*100}% от общего числа строк \")"
   ]
  },
  {
   "cell_type": "markdown",
   "metadata": {},
   "source": [
    "Так как количество пропусков в столбце с возрастом клиентов составляет всего 0,26% от общего числа строк в таблице, можем удалить эти пропуски:"
   ]
  },
  {
   "cell_type": "code",
   "execution_count": 6,
   "metadata": {},
   "outputs": [
    {
     "data": {
      "text/html": [
       "<div>\n",
       "<style scoped>\n",
       "    .dataframe tbody tr th:only-of-type {\n",
       "        vertical-align: middle;\n",
       "    }\n",
       "\n",
       "    .dataframe tbody tr th {\n",
       "        vertical-align: top;\n",
       "    }\n",
       "\n",
       "    .dataframe thead th {\n",
       "        text-align: right;\n",
       "    }\n",
       "</style>\n",
       "<table border=\"1\" class=\"dataframe\">\n",
       "  <thead>\n",
       "    <tr style=\"text-align: right;\">\n",
       "      <th></th>\n",
       "      <th>user_id</th>\n",
       "      <th>score</th>\n",
       "      <th>city</th>\n",
       "      <th>gender</th>\n",
       "      <th>age</th>\n",
       "      <th>equity</th>\n",
       "      <th>balance</th>\n",
       "      <th>products</th>\n",
       "      <th>credit_card</th>\n",
       "      <th>last_activity</th>\n",
       "      <th>salary</th>\n",
       "      <th>churn</th>\n",
       "    </tr>\n",
       "  </thead>\n",
       "  <tbody>\n",
       "    <tr>\n",
       "      <th>0</th>\n",
       "      <td>183012</td>\n",
       "      <td>850.0</td>\n",
       "      <td>Рыбинск</td>\n",
       "      <td>Ж</td>\n",
       "      <td>25.0</td>\n",
       "      <td>1</td>\n",
       "      <td>59214.82</td>\n",
       "      <td>2</td>\n",
       "      <td>0</td>\n",
       "      <td>1</td>\n",
       "      <td>75719.14</td>\n",
       "      <td>1</td>\n",
       "    </tr>\n",
       "    <tr>\n",
       "      <th>1</th>\n",
       "      <td>146556</td>\n",
       "      <td>861.0</td>\n",
       "      <td>Рыбинск</td>\n",
       "      <td>Ж</td>\n",
       "      <td>37.0</td>\n",
       "      <td>5</td>\n",
       "      <td>850594.33</td>\n",
       "      <td>3</td>\n",
       "      <td>1</td>\n",
       "      <td>0</td>\n",
       "      <td>86621.77</td>\n",
       "      <td>0</td>\n",
       "    </tr>\n",
       "    <tr>\n",
       "      <th>2</th>\n",
       "      <td>120722</td>\n",
       "      <td>892.0</td>\n",
       "      <td>Рыбинск</td>\n",
       "      <td>Ж</td>\n",
       "      <td>30.0</td>\n",
       "      <td>0</td>\n",
       "      <td>NaN</td>\n",
       "      <td>1</td>\n",
       "      <td>1</td>\n",
       "      <td>1</td>\n",
       "      <td>107683.34</td>\n",
       "      <td>0</td>\n",
       "    </tr>\n",
       "    <tr>\n",
       "      <th>3</th>\n",
       "      <td>225363</td>\n",
       "      <td>866.0</td>\n",
       "      <td>Ярославль</td>\n",
       "      <td>Ж</td>\n",
       "      <td>51.0</td>\n",
       "      <td>5</td>\n",
       "      <td>1524746.26</td>\n",
       "      <td>2</td>\n",
       "      <td>0</td>\n",
       "      <td>1</td>\n",
       "      <td>174423.53</td>\n",
       "      <td>1</td>\n",
       "    </tr>\n",
       "    <tr>\n",
       "      <th>4</th>\n",
       "      <td>157978</td>\n",
       "      <td>730.0</td>\n",
       "      <td>Ярославль</td>\n",
       "      <td>М</td>\n",
       "      <td>34.0</td>\n",
       "      <td>5</td>\n",
       "      <td>174.00</td>\n",
       "      <td>1</td>\n",
       "      <td>1</td>\n",
       "      <td>0</td>\n",
       "      <td>67353.16</td>\n",
       "      <td>1</td>\n",
       "    </tr>\n",
       "    <tr>\n",
       "      <th>...</th>\n",
       "      <td>...</td>\n",
       "      <td>...</td>\n",
       "      <td>...</td>\n",
       "      <td>...</td>\n",
       "      <td>...</td>\n",
       "      <td>...</td>\n",
       "      <td>...</td>\n",
       "      <td>...</td>\n",
       "      <td>...</td>\n",
       "      <td>...</td>\n",
       "      <td>...</td>\n",
       "      <td>...</td>\n",
       "    </tr>\n",
       "    <tr>\n",
       "      <th>9995</th>\n",
       "      <td>120553</td>\n",
       "      <td>814.0</td>\n",
       "      <td>Рыбинск</td>\n",
       "      <td>М</td>\n",
       "      <td>27.0</td>\n",
       "      <td>1</td>\n",
       "      <td>78144.65</td>\n",
       "      <td>1</td>\n",
       "      <td>0</td>\n",
       "      <td>1</td>\n",
       "      <td>18943.64</td>\n",
       "      <td>0</td>\n",
       "    </tr>\n",
       "    <tr>\n",
       "      <th>9996</th>\n",
       "      <td>139170</td>\n",
       "      <td>894.0</td>\n",
       "      <td>Ярославль</td>\n",
       "      <td>М</td>\n",
       "      <td>46.0</td>\n",
       "      <td>0</td>\n",
       "      <td>NaN</td>\n",
       "      <td>1</td>\n",
       "      <td>1</td>\n",
       "      <td>0</td>\n",
       "      <td>196898.29</td>\n",
       "      <td>0</td>\n",
       "    </tr>\n",
       "    <tr>\n",
       "      <th>9997</th>\n",
       "      <td>115639</td>\n",
       "      <td>903.0</td>\n",
       "      <td>Ярославль</td>\n",
       "      <td>М</td>\n",
       "      <td>24.0</td>\n",
       "      <td>0</td>\n",
       "      <td>NaN</td>\n",
       "      <td>2</td>\n",
       "      <td>1</td>\n",
       "      <td>1</td>\n",
       "      <td>108905.09</td>\n",
       "      <td>0</td>\n",
       "    </tr>\n",
       "    <tr>\n",
       "      <th>9998</th>\n",
       "      <td>148700</td>\n",
       "      <td>777.0</td>\n",
       "      <td>Ярославль</td>\n",
       "      <td>Ж</td>\n",
       "      <td>68.0</td>\n",
       "      <td>3</td>\n",
       "      <td>865457.97</td>\n",
       "      <td>3</td>\n",
       "      <td>0</td>\n",
       "      <td>1</td>\n",
       "      <td>86874.90</td>\n",
       "      <td>0</td>\n",
       "    </tr>\n",
       "    <tr>\n",
       "      <th>9999</th>\n",
       "      <td>96267</td>\n",
       "      <td>828.0</td>\n",
       "      <td>Рыбинск</td>\n",
       "      <td>Ж</td>\n",
       "      <td>58.0</td>\n",
       "      <td>3</td>\n",
       "      <td>1180886.70</td>\n",
       "      <td>4</td>\n",
       "      <td>0</td>\n",
       "      <td>1</td>\n",
       "      <td>21422.37</td>\n",
       "      <td>0</td>\n",
       "    </tr>\n",
       "  </tbody>\n",
       "</table>\n",
       "<p>9974 rows × 12 columns</p>\n",
       "</div>"
      ],
      "text/plain": [
       "      user_id  score       city gender   age  equity     balance  products  \\\n",
       "0      183012  850.0    Рыбинск      Ж  25.0       1    59214.82         2   \n",
       "1      146556  861.0    Рыбинск      Ж  37.0       5   850594.33         3   \n",
       "2      120722  892.0    Рыбинск      Ж  30.0       0         NaN         1   \n",
       "3      225363  866.0  Ярославль      Ж  51.0       5  1524746.26         2   \n",
       "4      157978  730.0  Ярославль      М  34.0       5      174.00         1   \n",
       "...       ...    ...        ...    ...   ...     ...         ...       ...   \n",
       "9995   120553  814.0    Рыбинск      М  27.0       1    78144.65         1   \n",
       "9996   139170  894.0  Ярославль      М  46.0       0         NaN         1   \n",
       "9997   115639  903.0  Ярославль      М  24.0       0         NaN         2   \n",
       "9998   148700  777.0  Ярославль      Ж  68.0       3   865457.97         3   \n",
       "9999    96267  828.0    Рыбинск      Ж  58.0       3  1180886.70         4   \n",
       "\n",
       "      credit_card  last_activity     salary  churn  \n",
       "0               0              1   75719.14      1  \n",
       "1               1              0   86621.77      0  \n",
       "2               1              1  107683.34      0  \n",
       "3               0              1  174423.53      1  \n",
       "4               1              0   67353.16      1  \n",
       "...           ...            ...        ...    ...  \n",
       "9995            0              1   18943.64      0  \n",
       "9996            1              0  196898.29      0  \n",
       "9997            1              1  108905.09      0  \n",
       "9998            0              1   86874.90      0  \n",
       "9999            0              1   21422.37      0  \n",
       "\n",
       "[9974 rows x 12 columns]"
      ]
     },
     "execution_count": 6,
     "metadata": {},
     "output_type": "execute_result"
    }
   ],
   "source": [
    "df = df.dropna(subset=['age'])\n",
    "df"
   ]
  },
  {
   "cell_type": "markdown",
   "metadata": {},
   "source": [
    "Количество пропусков в столбце balance составлет почти 23% от общего числа строк в таблице. Удалить мы их не можем, так как это значительно исказит результаты исследования. Попробуем разобраться с природой пропущенных значений в этом столбце, после чего решим, как их можно обработать.\n",
    "\n",
    "\n",
    "Создадим новый признак, принимающий 1, если для клиента отсутствует значение в столбце balance, и 0, если значение не пропущено. "
   ]
  },
  {
   "cell_type": "code",
   "execution_count": 7,
   "metadata": {},
   "outputs": [
    {
     "data": {
      "text/plain": [
       "0       0\n",
       "1       0\n",
       "2       1\n",
       "3       0\n",
       "4       0\n",
       "       ..\n",
       "9995    0\n",
       "9996    1\n",
       "9997    1\n",
       "9998    0\n",
       "9999    0\n",
       "Name: missing_data, Length: 9974, dtype: int64"
      ]
     },
     "execution_count": 7,
     "metadata": {},
     "output_type": "execute_result"
    }
   ],
   "source": [
    "df['missing_data'] = df['balance'].isna().astype(int)\n",
    "df['missing_data']"
   ]
  },
  {
   "cell_type": "markdown",
   "metadata": {},
   "source": [
    "Построим сводную таблицу, в которой будут отображаться меры центральной тенденции для каждого из признаков, отдельно для клиентов, у которых значение balance пропущено (1), и для клиентов, у которых нет пропусков в balance(0):"
   ]
  },
  {
   "cell_type": "code",
   "execution_count": 8,
   "metadata": {},
   "outputs": [
    {
     "data": {
      "text/html": [
       "<div>\n",
       "<style scoped>\n",
       "    .dataframe tbody tr th:only-of-type {\n",
       "        vertical-align: middle;\n",
       "    }\n",
       "\n",
       "    .dataframe tbody tr th {\n",
       "        vertical-align: top;\n",
       "    }\n",
       "\n",
       "    .dataframe thead th {\n",
       "        text-align: right;\n",
       "    }\n",
       "</style>\n",
       "<table border=\"1\" class=\"dataframe\">\n",
       "  <thead>\n",
       "    <tr style=\"text-align: right;\">\n",
       "      <th>missing_data</th>\n",
       "      <th>0</th>\n",
       "      <th>1</th>\n",
       "    </tr>\n",
       "  </thead>\n",
       "  <tbody>\n",
       "    <tr>\n",
       "      <th>age</th>\n",
       "      <td>42.924366</td>\n",
       "      <td>42.093023</td>\n",
       "    </tr>\n",
       "    <tr>\n",
       "      <th>city</th>\n",
       "      <td>Ярославль</td>\n",
       "      <td>Ярославль</td>\n",
       "    </tr>\n",
       "    <tr>\n",
       "      <th>equity</th>\n",
       "      <td>4.0</td>\n",
       "      <td>0.0</td>\n",
       "    </tr>\n",
       "    <tr>\n",
       "      <th>gender</th>\n",
       "      <td>Ж</td>\n",
       "      <td>М</td>\n",
       "    </tr>\n",
       "    <tr>\n",
       "      <th>products</th>\n",
       "      <td>2.0</td>\n",
       "      <td>1.0</td>\n",
       "    </tr>\n",
       "    <tr>\n",
       "      <th>salary</th>\n",
       "      <td>124520.394264</td>\n",
       "      <td>226345.417464</td>\n",
       "    </tr>\n",
       "    <tr>\n",
       "      <th>score</th>\n",
       "      <td>840.0</td>\n",
       "      <td>903.0</td>\n",
       "    </tr>\n",
       "  </tbody>\n",
       "</table>\n",
       "</div>"
      ],
      "text/plain": [
       "missing_data              0              1\n",
       "age               42.924366      42.093023\n",
       "city              Ярославль      Ярославль\n",
       "equity                  4.0            0.0\n",
       "gender                    Ж              М\n",
       "products                2.0            1.0\n",
       "salary        124520.394264  226345.417464\n",
       "score                 840.0          903.0"
      ]
     },
     "execution_count": 8,
     "metadata": {},
     "output_type": "execute_result"
    }
   ],
   "source": [
    "df.pivot_table(\n",
    "    columns= 'missing_data', \n",
    "    \n",
    "    values = ['score', 'city', 'gender', 'age', 'equity', 'balance', 'products', 'salary'],\n",
    "    \n",
    "    aggfunc = {'age': 'mean', \n",
    "               'salary': 'mean',\n",
    "               \n",
    "               'equity': 'median',\n",
    "               'products': 'median',\n",
    "               'score': 'median',\n",
    "               \n",
    "               'gender': lambda x: pd.Series.mode(x)[0], \n",
    "              'city': lambda x: pd.Series.mode(x)[0]} \n",
    "             )"
   ]
  },
  {
   "cell_type": "markdown",
   "metadata": {},
   "source": [
    "Сразу бросается в глаза разница в доходе клиентов, для которых сумма balance прописана и для которых сумма balance пропущена. Сумма дохода для клиентов с пропусками в balance больше, чем для клиентов без пропущенных значений в этом столбц, почти в два раза.\n",
    "\n",
    "Кроме того, различается медианное количество баллов недвижимости для этих двух групп клиентов. Изучим это различие, построив гистограмму распределения баллов недвижимости:"
   ]
  },
  {
   "cell_type": "code",
   "execution_count": 9,
   "metadata": {},
   "outputs": [
    {
     "data": {
      "image/png": "[encoded data removed]",
      "text/plain": [
       "<Figure size 1200x500 with 1 Axes>"
      ]
     },
     "metadata": {},
     "output_type": "display_data"
    }
   ],
   "source": [
    "plt. figure(figsize=(12, 5))\n",
    "sns.histplot(data=df, x='equity', hue='missing_data', palette='Set1')\n",
    "plt.ylabel('Количество клиентов')\n",
    "plt.xlabel('Количество баллов недвижимости')\n",
    "plt.title('Количество баллов недвижимости для клиентов с пропусками в balance и без')\n",
    "plt.show()"
   ]
  },
  {
   "cell_type": "markdown",
   "metadata": {},
   "source": [
    "Судя по распределению количества баллов недвижимости для клиентов с пропусками в balance и без таковых, чаще всего пропуски встречаются в строчках с данными о клиентах, у которых нет недвижимости. \n",
    "\n",
    "Таким образом, между наличием пропущенных значений в balance и другими характеристиками клиента (equity) есть некоторая связь. Значит, пропуски в balance можно отнести к типу MAR (Missing At Random / Отсутствует случайно)\n",
    "\n",
    "Как уже было указано ранее, удалить строки с пропусками в этом столбце мы не можем, их количество превышает 22% от общего объема данных. Другие возможные варианты обработки пропусков данного типа: заполнение медианным значением balance для людей с нулевым equity или умышленное незаполнение пропусков. Ввиду большого количества пропусков и неоднозначности их природы, выберем второй вариант и оставим пропуски без изменений. "
   ]
  },
  {
   "cell_type": "markdown",
   "metadata": {},
   "source": [
    "Следующим шагом определим наличие дубликатов в датафрейме:"
   ]
  },
  {
   "cell_type": "code",
   "execution_count": 10,
   "metadata": {},
   "outputs": [
    {
     "data": {
      "text/plain": [
       "0"
      ]
     },
     "execution_count": 10,
     "metadata": {},
     "output_type": "execute_result"
    }
   ],
   "source": [
    "df.duplicated().sum()"
   ]
  },
  {
   "cell_type": "markdown",
   "metadata": {},
   "source": [
    "Явных дубликатов необнаружено. Проверим также наличие неявных дубликатов по столбцу user_id:"
   ]
  },
  {
   "cell_type": "code",
   "execution_count": 11,
   "metadata": {},
   "outputs": [
    {
     "data": {
      "text/plain": [
       "100"
      ]
     },
     "execution_count": 11,
     "metadata": {},
     "output_type": "execute_result"
    }
   ],
   "source": [
    "df.duplicated(subset='user_id', keep=False).sum()"
   ]
  },
  {
   "cell_type": "markdown",
   "metadata": {},
   "source": [
    "В таблице есть 100 повторяющихся user_id, посмотрим, что это за клиенты:"
   ]
  },
  {
   "cell_type": "code",
   "execution_count": 12,
   "metadata": {},
   "outputs": [
    {
     "data": {
      "text/html": [
       "<div>\n",
       "<style scoped>\n",
       "    .dataframe tbody tr th:only-of-type {\n",
       "        vertical-align: middle;\n",
       "    }\n",
       "\n",
       "    .dataframe tbody tr th {\n",
       "        vertical-align: top;\n",
       "    }\n",
       "\n",
       "    .dataframe thead th {\n",
       "        text-align: right;\n",
       "    }\n",
       "</style>\n",
       "<table border=\"1\" class=\"dataframe\">\n",
       "  <thead>\n",
       "    <tr style=\"text-align: right;\">\n",
       "      <th></th>\n",
       "      <th>user_id</th>\n",
       "      <th>score</th>\n",
       "      <th>city</th>\n",
       "      <th>gender</th>\n",
       "      <th>age</th>\n",
       "      <th>equity</th>\n",
       "      <th>balance</th>\n",
       "      <th>products</th>\n",
       "      <th>credit_card</th>\n",
       "      <th>last_activity</th>\n",
       "      <th>salary</th>\n",
       "      <th>churn</th>\n",
       "      <th>missing_data</th>\n",
       "    </tr>\n",
       "  </thead>\n",
       "  <tbody>\n",
       "    <tr>\n",
       "      <th>1893</th>\n",
       "      <td>116540</td>\n",
       "      <td>883.0</td>\n",
       "      <td>Рыбинск</td>\n",
       "      <td>Ж</td>\n",
       "      <td>55.0</td>\n",
       "      <td>1</td>\n",
       "      <td>362756.49</td>\n",
       "      <td>3</td>\n",
       "      <td>0</td>\n",
       "      <td>1</td>\n",
       "      <td>175920.48</td>\n",
       "      <td>1</td>\n",
       "      <td>0</td>\n",
       "    </tr>\n",
       "    <tr>\n",
       "      <th>7694</th>\n",
       "      <td>116540</td>\n",
       "      <td>887.0</td>\n",
       "      <td>Ярославль</td>\n",
       "      <td>Ж</td>\n",
       "      <td>38.0</td>\n",
       "      <td>0</td>\n",
       "      <td>NaN</td>\n",
       "      <td>1</td>\n",
       "      <td>0</td>\n",
       "      <td>1</td>\n",
       "      <td>119247.61</td>\n",
       "      <td>0</td>\n",
       "      <td>1</td>\n",
       "    </tr>\n",
       "    <tr>\n",
       "      <th>4866</th>\n",
       "      <td>117943</td>\n",
       "      <td>855.0</td>\n",
       "      <td>Рыбинск</td>\n",
       "      <td>Ж</td>\n",
       "      <td>32.0</td>\n",
       "      <td>6</td>\n",
       "      <td>1036832.93</td>\n",
       "      <td>4</td>\n",
       "      <td>1</td>\n",
       "      <td>1</td>\n",
       "      <td>107792.71</td>\n",
       "      <td>1</td>\n",
       "      <td>0</td>\n",
       "    </tr>\n",
       "    <tr>\n",
       "      <th>7542</th>\n",
       "      <td>117943</td>\n",
       "      <td>880.0</td>\n",
       "      <td>Ярославль</td>\n",
       "      <td>Ж</td>\n",
       "      <td>40.0</td>\n",
       "      <td>0</td>\n",
       "      <td>NaN</td>\n",
       "      <td>1</td>\n",
       "      <td>1</td>\n",
       "      <td>0</td>\n",
       "      <td>137718.93</td>\n",
       "      <td>0</td>\n",
       "      <td>1</td>\n",
       "    </tr>\n",
       "    <tr>\n",
       "      <th>5863</th>\n",
       "      <td>120258</td>\n",
       "      <td>908.0</td>\n",
       "      <td>Рыбинск</td>\n",
       "      <td>Ж</td>\n",
       "      <td>38.0</td>\n",
       "      <td>4</td>\n",
       "      <td>2213581.63</td>\n",
       "      <td>2</td>\n",
       "      <td>0</td>\n",
       "      <td>1</td>\n",
       "      <td>160327.77</td>\n",
       "      <td>1</td>\n",
       "      <td>0</td>\n",
       "    </tr>\n",
       "    <tr>\n",
       "      <th>5896</th>\n",
       "      <td>120258</td>\n",
       "      <td>905.0</td>\n",
       "      <td>Ярославль</td>\n",
       "      <td>М</td>\n",
       "      <td>30.0</td>\n",
       "      <td>0</td>\n",
       "      <td>NaN</td>\n",
       "      <td>1</td>\n",
       "      <td>1</td>\n",
       "      <td>1</td>\n",
       "      <td>146427.96</td>\n",
       "      <td>0</td>\n",
       "      <td>1</td>\n",
       "    </tr>\n",
       "    <tr>\n",
       "      <th>1411</th>\n",
       "      <td>123461</td>\n",
       "      <td>829.0</td>\n",
       "      <td>Ярославль</td>\n",
       "      <td>Ж</td>\n",
       "      <td>59.0</td>\n",
       "      <td>0</td>\n",
       "      <td>96222.44</td>\n",
       "      <td>2</td>\n",
       "      <td>0</td>\n",
       "      <td>1</td>\n",
       "      <td>102771.55</td>\n",
       "      <td>1</td>\n",
       "      <td>0</td>\n",
       "    </tr>\n",
       "    <tr>\n",
       "      <th>8638</th>\n",
       "      <td>123461</td>\n",
       "      <td>934.0</td>\n",
       "      <td>Рыбинск</td>\n",
       "      <td>М</td>\n",
       "      <td>34.0</td>\n",
       "      <td>0</td>\n",
       "      <td>NaN</td>\n",
       "      <td>2</td>\n",
       "      <td>1</td>\n",
       "      <td>0</td>\n",
       "      <td>291619.27</td>\n",
       "      <td>0</td>\n",
       "      <td>1</td>\n",
       "    </tr>\n",
       "    <tr>\n",
       "      <th>9775</th>\n",
       "      <td>124450</td>\n",
       "      <td>758.0</td>\n",
       "      <td>Рыбинск</td>\n",
       "      <td>Ж</td>\n",
       "      <td>36.0</td>\n",
       "      <td>0</td>\n",
       "      <td>73574.07</td>\n",
       "      <td>2</td>\n",
       "      <td>0</td>\n",
       "      <td>1</td>\n",
       "      <td>79963.59</td>\n",
       "      <td>0</td>\n",
       "      <td>0</td>\n",
       "    </tr>\n",
       "    <tr>\n",
       "      <th>8164</th>\n",
       "      <td>124450</td>\n",
       "      <td>859.0</td>\n",
       "      <td>Ярославль</td>\n",
       "      <td>Ж</td>\n",
       "      <td>38.0</td>\n",
       "      <td>6</td>\n",
       "      <td>516811.20</td>\n",
       "      <td>1</td>\n",
       "      <td>1</td>\n",
       "      <td>1</td>\n",
       "      <td>95144.63</td>\n",
       "      <td>1</td>\n",
       "      <td>0</td>\n",
       "    </tr>\n",
       "    <tr>\n",
       "      <th>4850</th>\n",
       "      <td>126368</td>\n",
       "      <td>909.0</td>\n",
       "      <td>Ярославль</td>\n",
       "      <td>Ж</td>\n",
       "      <td>30.0</td>\n",
       "      <td>4</td>\n",
       "      <td>1322623.29</td>\n",
       "      <td>2</td>\n",
       "      <td>0</td>\n",
       "      <td>1</td>\n",
       "      <td>140675.66</td>\n",
       "      <td>1</td>\n",
       "      <td>0</td>\n",
       "    </tr>\n",
       "    <tr>\n",
       "      <th>5420</th>\n",
       "      <td>126368</td>\n",
       "      <td>832.0</td>\n",
       "      <td>Рыбинск</td>\n",
       "      <td>Ж</td>\n",
       "      <td>33.0</td>\n",
       "      <td>0</td>\n",
       "      <td>NaN</td>\n",
       "      <td>1</td>\n",
       "      <td>0</td>\n",
       "      <td>0</td>\n",
       "      <td>118465.34</td>\n",
       "      <td>0</td>\n",
       "      <td>1</td>\n",
       "    </tr>\n",
       "    <tr>\n",
       "      <th>3988</th>\n",
       "      <td>129785</td>\n",
       "      <td>904.0</td>\n",
       "      <td>Рыбинск</td>\n",
       "      <td>М</td>\n",
       "      <td>33.0</td>\n",
       "      <td>5</td>\n",
       "      <td>2427737.60</td>\n",
       "      <td>3</td>\n",
       "      <td>0</td>\n",
       "      <td>1</td>\n",
       "      <td>188856.75</td>\n",
       "      <td>1</td>\n",
       "      <td>0</td>\n",
       "    </tr>\n",
       "    <tr>\n",
       "      <th>9504</th>\n",
       "      <td>129785</td>\n",
       "      <td>949.0</td>\n",
       "      <td>Ярославль</td>\n",
       "      <td>М</td>\n",
       "      <td>43.0</td>\n",
       "      <td>0</td>\n",
       "      <td>NaN</td>\n",
       "      <td>1</td>\n",
       "      <td>1</td>\n",
       "      <td>1</td>\n",
       "      <td>166845.37</td>\n",
       "      <td>0</td>\n",
       "      <td>1</td>\n",
       "    </tr>\n",
       "    <tr>\n",
       "      <th>2138</th>\n",
       "      <td>131419</td>\n",
       "      <td>739.0</td>\n",
       "      <td>Рыбинск</td>\n",
       "      <td>Ж</td>\n",
       "      <td>37.0</td>\n",
       "      <td>3</td>\n",
       "      <td>1307941.65</td>\n",
       "      <td>3</td>\n",
       "      <td>0</td>\n",
       "      <td>0</td>\n",
       "      <td>103867.47</td>\n",
       "      <td>0</td>\n",
       "      <td>0</td>\n",
       "    </tr>\n",
       "    <tr>\n",
       "      <th>904</th>\n",
       "      <td>131419</td>\n",
       "      <td>934.0</td>\n",
       "      <td>Ярославль</td>\n",
       "      <td>М</td>\n",
       "      <td>35.0</td>\n",
       "      <td>5</td>\n",
       "      <td>2348335.95</td>\n",
       "      <td>2</td>\n",
       "      <td>0</td>\n",
       "      <td>0</td>\n",
       "      <td>217105.13</td>\n",
       "      <td>1</td>\n",
       "      <td>0</td>\n",
       "    </tr>\n",
       "    <tr>\n",
       "      <th>1608</th>\n",
       "      <td>140377</td>\n",
       "      <td>802.0</td>\n",
       "      <td>Ярославль</td>\n",
       "      <td>М</td>\n",
       "      <td>26.0</td>\n",
       "      <td>3</td>\n",
       "      <td>539863.29</td>\n",
       "      <td>4</td>\n",
       "      <td>1</td>\n",
       "      <td>1</td>\n",
       "      <td>112167.83</td>\n",
       "      <td>1</td>\n",
       "      <td>0</td>\n",
       "    </tr>\n",
       "    <tr>\n",
       "      <th>7487</th>\n",
       "      <td>140377</td>\n",
       "      <td>930.0</td>\n",
       "      <td>Рыбинск</td>\n",
       "      <td>Ж</td>\n",
       "      <td>34.0</td>\n",
       "      <td>5</td>\n",
       "      <td>1123967.02</td>\n",
       "      <td>1</td>\n",
       "      <td>1</td>\n",
       "      <td>1</td>\n",
       "      <td>148336.26</td>\n",
       "      <td>0</td>\n",
       "      <td>0</td>\n",
       "    </tr>\n",
       "    <tr>\n",
       "      <th>2276</th>\n",
       "      <td>141265</td>\n",
       "      <td>858.0</td>\n",
       "      <td>Ярославль</td>\n",
       "      <td>М</td>\n",
       "      <td>37.0</td>\n",
       "      <td>4</td>\n",
       "      <td>471599.16</td>\n",
       "      <td>2</td>\n",
       "      <td>1</td>\n",
       "      <td>1</td>\n",
       "      <td>148806.88</td>\n",
       "      <td>1</td>\n",
       "      <td>0</td>\n",
       "    </tr>\n",
       "    <tr>\n",
       "      <th>5569</th>\n",
       "      <td>141265</td>\n",
       "      <td>811.0</td>\n",
       "      <td>Рыбинск</td>\n",
       "      <td>Ж</td>\n",
       "      <td>33.0</td>\n",
       "      <td>3</td>\n",
       "      <td>1044316.88</td>\n",
       "      <td>2</td>\n",
       "      <td>1</td>\n",
       "      <td>0</td>\n",
       "      <td>46055.32</td>\n",
       "      <td>0</td>\n",
       "      <td>0</td>\n",
       "    </tr>\n",
       "  </tbody>\n",
       "</table>\n",
       "</div>"
      ],
      "text/plain": [
       "      user_id  score       city gender   age  equity     balance  products  \\\n",
       "1893   116540  883.0    Рыбинск      Ж  55.0       1   362756.49         3   \n",
       "7694   116540  887.0  Ярославль      Ж  38.0       0         NaN         1   \n",
       "4866   117943  855.0    Рыбинск      Ж  32.0       6  1036832.93         4   \n",
       "7542   117943  880.0  Ярославль      Ж  40.0       0         NaN         1   \n",
       "5863   120258  908.0    Рыбинск      Ж  38.0       4  2213581.63         2   \n",
       "5896   120258  905.0  Ярославль      М  30.0       0         NaN         1   \n",
       "1411   123461  829.0  Ярославль      Ж  59.0       0    96222.44         2   \n",
       "8638   123461  934.0    Рыбинск      М  34.0       0         NaN         2   \n",
       "9775   124450  758.0    Рыбинск      Ж  36.0       0    73574.07         2   \n",
       "8164   124450  859.0  Ярославль      Ж  38.0       6   516811.20         1   \n",
       "4850   126368  909.0  Ярославль      Ж  30.0       4  1322623.29         2   \n",
       "5420   126368  832.0    Рыбинск      Ж  33.0       0         NaN         1   \n",
       "3988   129785  904.0    Рыбинск      М  33.0       5  2427737.60         3   \n",
       "9504   129785  949.0  Ярославль      М  43.0       0         NaN         1   \n",
       "2138   131419  739.0    Рыбинск      Ж  37.0       3  1307941.65         3   \n",
       "904    131419  934.0  Ярославль      М  35.0       5  2348335.95         2   \n",
       "1608   140377  802.0  Ярославль      М  26.0       3   539863.29         4   \n",
       "7487   140377  930.0    Рыбинск      Ж  34.0       5  1123967.02         1   \n",
       "2276   141265  858.0  Ярославль      М  37.0       4   471599.16         2   \n",
       "5569   141265  811.0    Рыбинск      Ж  33.0       3  1044316.88         2   \n",
       "\n",
       "      credit_card  last_activity     salary  churn  missing_data  \n",
       "1893            0              1  175920.48      1             0  \n",
       "7694            0              1  119247.61      0             1  \n",
       "4866            1              1  107792.71      1             0  \n",
       "7542            1              0  137718.93      0             1  \n",
       "5863            0              1  160327.77      1             0  \n",
       "5896            1              1  146427.96      0             1  \n",
       "1411            0              1  102771.55      1             0  \n",
       "8638            1              0  291619.27      0             1  \n",
       "9775            0              1   79963.59      0             0  \n",
       "8164            1              1   95144.63      1             0  \n",
       "4850            0              1  140675.66      1             0  \n",
       "5420            0              0  118465.34      0             1  \n",
       "3988            0              1  188856.75      1             0  \n",
       "9504            1              1  166845.37      0             1  \n",
       "2138            0              0  103867.47      0             0  \n",
       "904             0              0  217105.13      1             0  \n",
       "1608            1              1  112167.83      1             0  \n",
       "7487            1              1  148336.26      0             0  \n",
       "2276            1              1  148806.88      1             0  \n",
       "5569            1              0   46055.32      0             0  "
      ]
     },
     "execution_count": 12,
     "metadata": {},
     "output_type": "execute_result"
    }
   ],
   "source": [
    "df[df.duplicated(subset='user_id', keep=False)].sort_values(by='user_id').head(20)"
   ]
  },
  {
   "cell_type": "markdown",
   "metadata": {},
   "source": [
    "По таблице с дубликатами заметно, что для двух клиентов с одним user_id, для одного признак отточности (churn) всегда будет равен 1. Кроме того, для этих клиентов почти всегда будут отличаться пол, возраст и город. Таким образом, делаем вывод, что под одним user_id могут числиться несколько разных клиентов. Объяснением этому может быть тот факт, что когда клиент покидает банк, его user_id переходит к новому пользователю. Так как мы изучаем отток пользователей из банка, нам важно сохранить данные и об отточных пользователях, и о лояльных, поэтому в контексте нашей задачи, удалять строки с повторяющимися user_id будет неправильно."
   ]
  },
  {
   "cell_type": "markdown",
   "metadata": {},
   "source": [
    "Далее создадим вспомогательные для дальнейшего анализа столбцы с кодом категориальных переменных: пола и города клиентов."
   ]
  },
  {
   "cell_type": "code",
   "execution_count": 13,
   "metadata": {},
   "outputs": [
    {
     "data": {
      "text/html": [
       "<div>\n",
       "<style scoped>\n",
       "    .dataframe tbody tr th:only-of-type {\n",
       "        vertical-align: middle;\n",
       "    }\n",
       "\n",
       "    .dataframe tbody tr th {\n",
       "        vertical-align: top;\n",
       "    }\n",
       "\n",
       "    .dataframe thead th {\n",
       "        text-align: right;\n",
       "    }\n",
       "</style>\n",
       "<table border=\"1\" class=\"dataframe\">\n",
       "  <thead>\n",
       "    <tr style=\"text-align: right;\">\n",
       "      <th></th>\n",
       "      <th>user_id</th>\n",
       "      <th>score</th>\n",
       "      <th>city</th>\n",
       "      <th>gender</th>\n",
       "      <th>age</th>\n",
       "      <th>equity</th>\n",
       "      <th>balance</th>\n",
       "      <th>products</th>\n",
       "      <th>credit_card</th>\n",
       "      <th>last_activity</th>\n",
       "      <th>salary</th>\n",
       "      <th>churn</th>\n",
       "      <th>missing_data</th>\n",
       "      <th>gender_code_Ж</th>\n",
       "      <th>gender_code_М</th>\n",
       "      <th>city_code_Ростов</th>\n",
       "      <th>city_code_Рыбинск</th>\n",
       "      <th>city_code_Ярославль</th>\n",
       "    </tr>\n",
       "  </thead>\n",
       "  <tbody>\n",
       "    <tr>\n",
       "      <th>0</th>\n",
       "      <td>183012</td>\n",
       "      <td>850.0</td>\n",
       "      <td>Рыбинск</td>\n",
       "      <td>Ж</td>\n",
       "      <td>25.0</td>\n",
       "      <td>1</td>\n",
       "      <td>59214.82</td>\n",
       "      <td>2</td>\n",
       "      <td>0</td>\n",
       "      <td>1</td>\n",
       "      <td>75719.14</td>\n",
       "      <td>1</td>\n",
       "      <td>0</td>\n",
       "      <td>True</td>\n",
       "      <td>False</td>\n",
       "      <td>False</td>\n",
       "      <td>True</td>\n",
       "      <td>False</td>\n",
       "    </tr>\n",
       "    <tr>\n",
       "      <th>1</th>\n",
       "      <td>146556</td>\n",
       "      <td>861.0</td>\n",
       "      <td>Рыбинск</td>\n",
       "      <td>Ж</td>\n",
       "      <td>37.0</td>\n",
       "      <td>5</td>\n",
       "      <td>850594.33</td>\n",
       "      <td>3</td>\n",
       "      <td>1</td>\n",
       "      <td>0</td>\n",
       "      <td>86621.77</td>\n",
       "      <td>0</td>\n",
       "      <td>0</td>\n",
       "      <td>True</td>\n",
       "      <td>False</td>\n",
       "      <td>False</td>\n",
       "      <td>True</td>\n",
       "      <td>False</td>\n",
       "    </tr>\n",
       "    <tr>\n",
       "      <th>2</th>\n",
       "      <td>120722</td>\n",
       "      <td>892.0</td>\n",
       "      <td>Рыбинск</td>\n",
       "      <td>Ж</td>\n",
       "      <td>30.0</td>\n",
       "      <td>0</td>\n",
       "      <td>NaN</td>\n",
       "      <td>1</td>\n",
       "      <td>1</td>\n",
       "      <td>1</td>\n",
       "      <td>107683.34</td>\n",
       "      <td>0</td>\n",
       "      <td>1</td>\n",
       "      <td>True</td>\n",
       "      <td>False</td>\n",
       "      <td>False</td>\n",
       "      <td>True</td>\n",
       "      <td>False</td>\n",
       "    </tr>\n",
       "    <tr>\n",
       "      <th>3</th>\n",
       "      <td>225363</td>\n",
       "      <td>866.0</td>\n",
       "      <td>Ярославль</td>\n",
       "      <td>Ж</td>\n",
       "      <td>51.0</td>\n",
       "      <td>5</td>\n",
       "      <td>1524746.26</td>\n",
       "      <td>2</td>\n",
       "      <td>0</td>\n",
       "      <td>1</td>\n",
       "      <td>174423.53</td>\n",
       "      <td>1</td>\n",
       "      <td>0</td>\n",
       "      <td>True</td>\n",
       "      <td>False</td>\n",
       "      <td>False</td>\n",
       "      <td>False</td>\n",
       "      <td>True</td>\n",
       "    </tr>\n",
       "    <tr>\n",
       "      <th>4</th>\n",
       "      <td>157978</td>\n",
       "      <td>730.0</td>\n",
       "      <td>Ярославль</td>\n",
       "      <td>М</td>\n",
       "      <td>34.0</td>\n",
       "      <td>5</td>\n",
       "      <td>174.00</td>\n",
       "      <td>1</td>\n",
       "      <td>1</td>\n",
       "      <td>0</td>\n",
       "      <td>67353.16</td>\n",
       "      <td>1</td>\n",
       "      <td>0</td>\n",
       "      <td>False</td>\n",
       "      <td>True</td>\n",
       "      <td>False</td>\n",
       "      <td>False</td>\n",
       "      <td>True</td>\n",
       "    </tr>\n",
       "    <tr>\n",
       "      <th>...</th>\n",
       "      <td>...</td>\n",
       "      <td>...</td>\n",
       "      <td>...</td>\n",
       "      <td>...</td>\n",
       "      <td>...</td>\n",
       "      <td>...</td>\n",
       "      <td>...</td>\n",
       "      <td>...</td>\n",
       "      <td>...</td>\n",
       "      <td>...</td>\n",
       "      <td>...</td>\n",
       "      <td>...</td>\n",
       "      <td>...</td>\n",
       "      <td>...</td>\n",
       "      <td>...</td>\n",
       "      <td>...</td>\n",
       "      <td>...</td>\n",
       "      <td>...</td>\n",
       "    </tr>\n",
       "    <tr>\n",
       "      <th>9995</th>\n",
       "      <td>120553</td>\n",
       "      <td>814.0</td>\n",
       "      <td>Рыбинск</td>\n",
       "      <td>М</td>\n",
       "      <td>27.0</td>\n",
       "      <td>1</td>\n",
       "      <td>78144.65</td>\n",
       "      <td>1</td>\n",
       "      <td>0</td>\n",
       "      <td>1</td>\n",
       "      <td>18943.64</td>\n",
       "      <td>0</td>\n",
       "      <td>0</td>\n",
       "      <td>False</td>\n",
       "      <td>True</td>\n",
       "      <td>False</td>\n",
       "      <td>True</td>\n",
       "      <td>False</td>\n",
       "    </tr>\n",
       "    <tr>\n",
       "      <th>9996</th>\n",
       "      <td>139170</td>\n",
       "      <td>894.0</td>\n",
       "      <td>Ярославль</td>\n",
       "      <td>М</td>\n",
       "      <td>46.0</td>\n",
       "      <td>0</td>\n",
       "      <td>NaN</td>\n",
       "      <td>1</td>\n",
       "      <td>1</td>\n",
       "      <td>0</td>\n",
       "      <td>196898.29</td>\n",
       "      <td>0</td>\n",
       "      <td>1</td>\n",
       "      <td>False</td>\n",
       "      <td>True</td>\n",
       "      <td>False</td>\n",
       "      <td>False</td>\n",
       "      <td>True</td>\n",
       "    </tr>\n",
       "    <tr>\n",
       "      <th>9997</th>\n",
       "      <td>115639</td>\n",
       "      <td>903.0</td>\n",
       "      <td>Ярославль</td>\n",
       "      <td>М</td>\n",
       "      <td>24.0</td>\n",
       "      <td>0</td>\n",
       "      <td>NaN</td>\n",
       "      <td>2</td>\n",
       "      <td>1</td>\n",
       "      <td>1</td>\n",
       "      <td>108905.09</td>\n",
       "      <td>0</td>\n",
       "      <td>1</td>\n",
       "      <td>False</td>\n",
       "      <td>True</td>\n",
       "      <td>False</td>\n",
       "      <td>False</td>\n",
       "      <td>True</td>\n",
       "    </tr>\n",
       "    <tr>\n",
       "      <th>9998</th>\n",
       "      <td>148700</td>\n",
       "      <td>777.0</td>\n",
       "      <td>Ярославль</td>\n",
       "      <td>Ж</td>\n",
       "      <td>68.0</td>\n",
       "      <td>3</td>\n",
       "      <td>865457.97</td>\n",
       "      <td>3</td>\n",
       "      <td>0</td>\n",
       "      <td>1</td>\n",
       "      <td>86874.90</td>\n",
       "      <td>0</td>\n",
       "      <td>0</td>\n",
       "      <td>True</td>\n",
       "      <td>False</td>\n",
       "      <td>False</td>\n",
       "      <td>False</td>\n",
       "      <td>True</td>\n",
       "    </tr>\n",
       "    <tr>\n",
       "      <th>9999</th>\n",
       "      <td>96267</td>\n",
       "      <td>828.0</td>\n",
       "      <td>Рыбинск</td>\n",
       "      <td>Ж</td>\n",
       "      <td>58.0</td>\n",
       "      <td>3</td>\n",
       "      <td>1180886.70</td>\n",
       "      <td>4</td>\n",
       "      <td>0</td>\n",
       "      <td>1</td>\n",
       "      <td>21422.37</td>\n",
       "      <td>0</td>\n",
       "      <td>0</td>\n",
       "      <td>True</td>\n",
       "      <td>False</td>\n",
       "      <td>False</td>\n",
       "      <td>True</td>\n",
       "      <td>False</td>\n",
       "    </tr>\n",
       "  </tbody>\n",
       "</table>\n",
       "<p>9974 rows × 18 columns</p>\n",
       "</div>"
      ],
      "text/plain": [
       "      user_id  score       city gender   age  equity     balance  products  \\\n",
       "0      183012  850.0    Рыбинск      Ж  25.0       1    59214.82         2   \n",
       "1      146556  861.0    Рыбинск      Ж  37.0       5   850594.33         3   \n",
       "2      120722  892.0    Рыбинск      Ж  30.0       0         NaN         1   \n",
       "3      225363  866.0  Ярославль      Ж  51.0       5  1524746.26         2   \n",
       "4      157978  730.0  Ярославль      М  34.0       5      174.00         1   \n",
       "...       ...    ...        ...    ...   ...     ...         ...       ...   \n",
       "9995   120553  814.0    Рыбинск      М  27.0       1    78144.65         1   \n",
       "9996   139170  894.0  Ярославль      М  46.0       0         NaN         1   \n",
       "9997   115639  903.0  Ярославль      М  24.0       0         NaN         2   \n",
       "9998   148700  777.0  Ярославль      Ж  68.0       3   865457.97         3   \n",
       "9999    96267  828.0    Рыбинск      Ж  58.0       3  1180886.70         4   \n",
       "\n",
       "      credit_card  last_activity     salary  churn  missing_data  \\\n",
       "0               0              1   75719.14      1             0   \n",
       "1               1              0   86621.77      0             0   \n",
       "2               1              1  107683.34      0             1   \n",
       "3               0              1  174423.53      1             0   \n",
       "4               1              0   67353.16      1             0   \n",
       "...           ...            ...        ...    ...           ...   \n",
       "9995            0              1   18943.64      0             0   \n",
       "9996            1              0  196898.29      0             1   \n",
       "9997            1              1  108905.09      0             1   \n",
       "9998            0              1   86874.90      0             0   \n",
       "9999            0              1   21422.37      0             0   \n",
       "\n",
       "      gender_code_Ж  gender_code_М  city_code_Ростов  city_code_Рыбинск  \\\n",
       "0              True          False             False               True   \n",
       "1              True          False             False               True   \n",
       "2              True          False             False               True   \n",
       "3              True          False             False              False   \n",
       "4             False           True             False              False   \n",
       "...             ...            ...               ...                ...   \n",
       "9995          False           True             False               True   \n",
       "9996          False           True             False              False   \n",
       "9997          False           True             False              False   \n",
       "9998           True          False             False              False   \n",
       "9999           True          False             False               True   \n",
       "\n",
       "      city_code_Ярославль  \n",
       "0                   False  \n",
       "1                   False  \n",
       "2                   False  \n",
       "3                    True  \n",
       "4                    True  \n",
       "...                   ...  \n",
       "9995                False  \n",
       "9996                 True  \n",
       "9997                 True  \n",
       "9998                 True  \n",
       "9999                False  \n",
       "\n",
       "[9974 rows x 18 columns]"
      ]
     },
     "execution_count": 13,
     "metadata": {},
     "output_type": "execute_result"
    }
   ],
   "source": [
    "df['gender_code'] = df['gender']\n",
    "df['city_code'] = df['city']\n",
    "\n",
    "df = pd.get_dummies(data = df, columns = ['gender_code', 'city_code'])\n",
    "df"
   ]
  },
  {
   "cell_type": "markdown",
   "metadata": {},
   "source": [
    "С помощью метода get_dummies получили 5 вспомогательных столбцов с кодом пола и города клиентов. Один столбец - одно значение из соответсвующих столбцов. 0 - клиент не обладает признаком, 1 - клиент обладает признаком."
   ]
  },
  {
   "cell_type": "markdown",
   "metadata": {},
   "source": [
    "<h6>ВЫВОД:<h6>"
   ]
  },
  {
   "cell_type": "markdown",
   "metadata": {},
   "source": [
    "В ходе предобработки исходных данных были выполнены следующие мероприятия:\n",
    "- названия столбцов датафрейма приведены к единому регистру и стилистике,\n",
    "- проведен подсчет и обработка пропущенных значений,\n",
    "- проведен подсчет и анализ дубликатов,\n",
    "- созданы дополнительные столбцы с кодами категориальных признаков - город и пол.\n",
    "\n",
    "Таким образом, из таблицы были удалены пропуски в столбце age, которые составляли 0,26% от общего числа строк в таблице. Пропуски в столбце balance составляли 22% от общего числа строк в таблице, с целью не исказить результаты исследования, их было принято решение оставить без изменений.\n",
    "\n",
    "Явных дубликатов обнаружено не было. Поиск неявных дубликатов по столбцу user_id показал, что под одним user_id могут числиться несколько разных клиентов. Это может быть связано с тем, что когда клиент покидает банк, его user_id переходит к новому пользователю. В связи с тем, что целью нашего исследования является изучение оттока пользователей, дубликаты по user_id также было принято решение оставить без изменений.\n",
    "\n",
    "С помощью метода get_dummies были созданы 5 вспомогательных столбцов с кодом пола и города клиентов."
   ]
  },
  {
   "cell_type": "markdown",
   "metadata": {},
   "source": [
    "## 3. Исследовательский анализ данных"
   ]
  },
  {
   "cell_type": "markdown",
   "metadata": {},
   "source": [
    "### 3.1 Анализ распределения признаков среди ушедших клиентов банка"
   ]
  },
  {
   "cell_type": "markdown",
   "metadata": {},
   "source": [
    "Проанализируем распределение признаков для отточных и лояльных клиентов.\n",
    "\n",
    "Построим гистограммы распределений непрерывных признаков: score, age, balance, salary."
   ]
  },
  {
   "cell_type": "markdown",
   "metadata": {},
   "source": [
    "Выведем график распределения **кредитного рейтинга** в зависисмости от типа клиента:"
   ]
  },
  {
   "cell_type": "code",
   "execution_count": 14,
   "metadata": {},
   "outputs": [
    {
     "data": {
      "image/png": "[encoded data removed]",
      "text/plain": [
       "<Figure size 1200x500 with 1 Axes>"
      ]
     },
     "metadata": {},
     "output_type": "display_data"
    }
   ],
   "source": [
    "plt. figure(figsize=(12, 5))\n",
    "sns.histplot(data=df, x='score', hue='churn', stat='density', common_norm=False, palette='Set1')\n",
    "plt.ylabel('Доля клиентов')\n",
    "plt.xlabel('Кредитный рейтинг')\n",
    "plt.title('Распределение кредитного рейтинга для отточных и лояльных клиентов')\n",
    "plt.show()"
   ]
  },
  {
   "cell_type": "markdown",
   "metadata": {},
   "source": [
    "По гистограмме заметно, что наиболее низкий кредитный рейтинг имеют лояльные клиенты. Тогда как отточные клиенты в среднем имеют более высокий кредитный рейтинг. Наиболее распространенный показатель кредитного рейтинга для отточных клиентов лежит в промежутке между 820 и 900 баллов."
   ]
  },
  {
   "cell_type": "markdown",
   "metadata": {},
   "source": [
    "Выведем график распределения **возраста** в зависисмости от типа клиента:"
   ]
  },
  {
   "cell_type": "code",
   "execution_count": 15,
   "metadata": {
    "scrolled": true
   },
   "outputs": [
    {
     "data": {
      "image/png": "[encoded data removed]",
      "text/plain": [
       "<Figure size 1200x500 with 1 Axes>"
      ]
     },
     "metadata": {},
     "output_type": "display_data"
    }
   ],
   "source": [
    "plt. figure(figsize=(12, 5))\n",
    "sns.histplot(data=df, x='age', hue='churn', stat='density', common_norm=False, palette='Set1', binwidth=1)\n",
    "plt.ylabel('Доля клиентов')\n",
    "plt.xlabel('Возраст')\n",
    "plt.title('Распределение возраста для отточных и лояльных клиентов')\n",
    "plt.show()"
   ]
  },
  {
   "cell_type": "markdown",
   "metadata": {},
   "source": [
    "Гистограмма распределения возраста клиентов показала, что для большинства возрастных групп доля лояльных и отточных пользователей примерно одинакова. Для отточных пользователей самый распространенный возраст - от 28 до 35 лет. В возрастной группе от 40 до 50 лет наблюдается большее количество лояльных клиентов. В группе от 50 до 60 лет преобладают отточные пользователи. Среди клиентов в возрасте старще 60 лет большинство - лояльных. Клиентов в возрасте до 25 и в возрасте старше 70 в целом достаточно малое количество."
   ]
  },
  {
   "cell_type": "markdown",
   "metadata": {},
   "source": [
    "Выведем график распределения **баланса на счете** в зависисмости от типа клиента. Для наглядности ограничим значения по оси **х** (Баланс на счете) суммой **5 миллионов**:"
   ]
  },
  {
   "cell_type": "code",
   "execution_count": 16,
   "metadata": {},
   "outputs": [
    {
     "data": {
      "image/png": "[encoded data removed]",
      "text/plain": [
       "<Figure size 1200x700 with 1 Axes>"
      ]
     },
     "metadata": {},
     "output_type": "display_data"
    }
   ],
   "source": [
    "plt. figure(figsize=(12, 7))\n",
    "sns.histplot(data=df, x='balance', hue='churn', palette='Set1', stat='density', common_norm=False)\n",
    "plt.ylabel('Доля клиентов')\n",
    "plt.xlabel('Баланс на счете')\n",
    "plt.xlim(0, 5000000)\n",
    "plt.title('Распределение суммы баланса на счете для отточных и лояльных клиентов')\n",
    "plt.show()"
   ]
  },
  {
   "cell_type": "markdown",
   "metadata": {},
   "source": [
    "У большей части пользователей баланс на счете составляет до 1,5 миллионов. Однако в целом размах по суммам остатка очень большой. Наиболее распространенная сумма баланса для лояльных клиентов лежит на отрезке до ~800 тысяч. Примерно та же картина наблюдается для отточных пользователей. В то же время, доля клиентов с более высоким балансом, как правило выше среди отточных, чем среди лояльных."
   ]
  },
  {
   "cell_type": "markdown",
   "metadata": {},
   "source": [
    "Выведем график распределения **дохода** в зависисмости от типа клиента. Для наглядности ограничим значения по оси **х** (Доход) суммой **600 тысяч**:"
   ]
  },
  {
   "cell_type": "code",
   "execution_count": 17,
   "metadata": {},
   "outputs": [
    {
     "data": {
      "image/png": "[encoded data removed]",
      "text/plain": [
       "<Figure size 1200x700 with 1 Axes>"
      ]
     },
     "metadata": {},
     "output_type": "display_data"
    }
   ],
   "source": [
    "plt. figure(figsize=(12, 7))\n",
    "sns.histplot(data=df, x='salary', hue='churn', palette='Set1', stat='density', common_norm=False)\n",
    "plt.ylabel('Доля клиентов')\n",
    "plt.xlabel('Доход')\n",
    "plt.xlim(0, 600000)\n",
    "plt.title('Распределение суммы дохода для отточных и лояльных клиентов')\n",
    "plt.show()"
   ]
  },
  {
   "cell_type": "markdown",
   "metadata": {},
   "source": [
    "Абсолютное большинство пользователей имеет доход 200 тысяч. В доходной группе до ~80 тысяч преобладают лояльные пользователи. Среди отточных пользователей наиболее распространенный размер дохода от 80 до 150 тысяч. Начиная с отметки в 80 тысяч доля отточных пользователей чаще преобладает над лояльными клиентами. "
   ]
  },
  {
   "cell_type": "markdown",
   "metadata": {},
   "source": [
    "Теперь, чтобы оценить распределение дискретных признаков клиентов, построим для них столбчатые диаграммы:"
   ]
  },
  {
   "cell_type": "code",
   "execution_count": 18,
   "metadata": {},
   "outputs": [
    {
     "data": {
      "image/png": "[encoded data removed]",
      "text/plain": [
       "<Figure size 1200x700 with 1 Axes>"
      ]
     },
     "metadata": {},
     "output_type": "display_data"
    }
   ],
   "source": [
    "plt. figure(figsize=(12, 7))\n",
    "sns.barplot(data=df, x='city', y='churn', hue='city', palette='Set1', legend=False, errorbar=None)\n",
    "plt.ylabel('Доля отточных клиентов')\n",
    "plt.xlabel('Город')\n",
    "plt.title('Распределение отточных клиентов по городам')\n",
    "plt.axhline(y=df['churn'].mean(), color='blue', linestyle='--')\n",
    "plt.show()"
   ]
  },
  {
   "cell_type": "markdown",
   "metadata": {},
   "source": [
    "Доля отточных пользователей наиболее высокая в Ярославле. Немного от Ярославля отстает Ростов, уровень оттока пользователей в этих городах выше, чем по банку в целом. Наименьшая доля отточных пользователей находится в Рыбинске."
   ]
  },
  {
   "cell_type": "code",
   "execution_count": 19,
   "metadata": {},
   "outputs": [
    {
     "data": {
      "image/png": "[encoded data removed]",
      "text/plain": [
       "<Figure size 1200x700 with 1 Axes>"
      ]
     },
     "metadata": {},
     "output_type": "display_data"
    }
   ],
   "source": [
    "plt. figure(figsize=(12, 7))\n",
    "sns.barplot(data=df, x='gender', y='churn', hue='gender', palette='Set1', legend=False, errorbar=None)\n",
    "plt.ylabel('Доля отточных клиентов')\n",
    "plt.xlabel('Пол')\n",
    "plt.title('Распределение отточных клиентов по гендеру')\n",
    "plt.axhline(y=df['churn'].mean(), color='blue', linestyle='--')\n",
    "plt.show()"
   ]
  },
  {
   "cell_type": "markdown",
   "metadata": {},
   "source": [
    "Доля отточных клиентов среди мужчин значительно выше, чем среди женщин. Доля отточных клиентов-мужчин значительно выше средней по банку."
   ]
  },
  {
   "cell_type": "code",
   "execution_count": 20,
   "metadata": {},
   "outputs": [
    {
     "data": {
      "image/png": "[encoded data removed]",
      "text/plain": [
       "<Figure size 1200x700 with 1 Axes>"
      ]
     },
     "metadata": {},
     "output_type": "display_data"
    }
   ],
   "source": [
    "plt. figure(figsize=(12, 7))\n",
    "sns.barplot(data=df, x='equity', y='churn', hue='equity', palette='Set1', legend=False, errorbar=None)\n",
    "plt.ylabel('Доля отточных клиентов')\n",
    "plt.xlabel('Количество баллов собственности')\n",
    "plt.title('Распределение отточных клиентов по количеству баллов собственности')\n",
    "plt.axhline(y=df['churn'].mean(), color='blue', linestyle='--')\n",
    "plt.show()"
   ]
  },
  {
   "cell_type": "markdown",
   "metadata": {},
   "source": [
    "Наибольшее количество отточных клиентов принадлежат к группам 3-9 баллов собственности. Доля отточных клиентов внутри этих групп значительно выше средней по банку. Как правило, чем выше балл собственности, тем выше среди клиентов с таким баллом, уровень оттока. "
   ]
  },
  {
   "cell_type": "code",
   "execution_count": 21,
   "metadata": {},
   "outputs": [
    {
     "data": {
      "image/png": "[encoded data removed]",
      "text/plain": [
       "<Figure size 1200x700 with 1 Axes>"
      ]
     },
     "metadata": {},
     "output_type": "display_data"
    }
   ],
   "source": [
    "plt. figure(figsize=(12, 7))\n",
    "sns.barplot(data=df, x='products', y='churn', hue='products', palette='Set1', legend=False, errorbar=None)\n",
    "plt.ylabel('Доля отточных клиентов')\n",
    "plt.xlabel('Количество используемых продуктов банка')\n",
    "plt.title('Распределение отточных клиентов по количеству используемых продуктов банка')\n",
    "plt.axhline(y=df['churn'].mean(), color='blue', linestyle='--')\n",
    "plt.show()"
   ]
  },
  {
   "cell_type": "markdown",
   "metadata": {},
   "source": [
    "В целом, почти все группы пользователей, кроме клиентов с 1 продуктом, превышают средний по банку уровень отточности. \n",
    "\n",
    "Наивысшей показатель отточности демонстрируют клиенты, которые не используют ни одного продукта банка. Это подозрительно. Посчитаем, сколько всего клиентов у нас не использует ни одного продукта:"
   ]
  },
  {
   "cell_type": "code",
   "execution_count": 22,
   "metadata": {},
   "outputs": [
    {
     "data": {
      "text/html": [
       "<div>\n",
       "<style scoped>\n",
       "    .dataframe tbody tr th:only-of-type {\n",
       "        vertical-align: middle;\n",
       "    }\n",
       "\n",
       "    .dataframe tbody tr th {\n",
       "        vertical-align: top;\n",
       "    }\n",
       "\n",
       "    .dataframe thead th {\n",
       "        text-align: right;\n",
       "    }\n",
       "</style>\n",
       "<table border=\"1\" class=\"dataframe\">\n",
       "  <thead>\n",
       "    <tr style=\"text-align: right;\">\n",
       "      <th></th>\n",
       "      <th>user_id</th>\n",
       "      <th>score</th>\n",
       "      <th>city</th>\n",
       "      <th>gender</th>\n",
       "      <th>age</th>\n",
       "      <th>equity</th>\n",
       "      <th>balance</th>\n",
       "      <th>products</th>\n",
       "      <th>credit_card</th>\n",
       "      <th>last_activity</th>\n",
       "      <th>salary</th>\n",
       "      <th>churn</th>\n",
       "      <th>missing_data</th>\n",
       "      <th>gender_code_Ж</th>\n",
       "      <th>gender_code_М</th>\n",
       "      <th>city_code_Ростов</th>\n",
       "      <th>city_code_Рыбинск</th>\n",
       "      <th>city_code_Ярославль</th>\n",
       "    </tr>\n",
       "  </thead>\n",
       "  <tbody>\n",
       "    <tr>\n",
       "      <th>8957</th>\n",
       "      <td>147837</td>\n",
       "      <td>962.0</td>\n",
       "      <td>Рыбинск</td>\n",
       "      <td>Ж</td>\n",
       "      <td>79.0</td>\n",
       "      <td>3</td>\n",
       "      <td>NaN</td>\n",
       "      <td>0</td>\n",
       "      <td>0</td>\n",
       "      <td>0</td>\n",
       "      <td>25063.96</td>\n",
       "      <td>1</td>\n",
       "      <td>1</td>\n",
       "      <td>True</td>\n",
       "      <td>False</td>\n",
       "      <td>False</td>\n",
       "      <td>True</td>\n",
       "      <td>False</td>\n",
       "    </tr>\n",
       "  </tbody>\n",
       "</table>\n",
       "</div>"
      ],
      "text/plain": [
       "      user_id  score     city gender   age  equity  balance  products  \\\n",
       "8957   147837  962.0  Рыбинск      Ж  79.0       3      NaN         0   \n",
       "\n",
       "      credit_card  last_activity    salary  churn  missing_data  \\\n",
       "8957            0              0  25063.96      1             1   \n",
       "\n",
       "      gender_code_Ж  gender_code_М  city_code_Ростов  city_code_Рыбинск  \\\n",
       "8957           True          False             False               True   \n",
       "\n",
       "      city_code_Ярославль  \n",
       "8957                False  "
      ]
     },
     "execution_count": 22,
     "metadata": {},
     "output_type": "execute_result"
    }
   ],
   "source": [
    "df[df['products']==0]"
   ]
  },
  {
   "cell_type": "markdown",
   "metadata": {},
   "source": [
    "Всего один клиент. Похоже на аномалию, так как клиент, который не пользовался услугами банка, не показателен для анализа оттока. Можем удалить:"
   ]
  },
  {
   "cell_type": "code",
   "execution_count": 23,
   "metadata": {},
   "outputs": [
    {
     "data": {
      "image/png": "[encoded data removed]",
      "text/plain": [
       "<Figure size 1200x700 with 1 Axes>"
      ]
     },
     "metadata": {},
     "output_type": "display_data"
    }
   ],
   "source": [
    "df = df[df['products']>0]\n",
    "\n",
    "plt. figure(figsize=(12, 7))\n",
    "sns.barplot(data=df, x='products', y='churn', hue='products', palette='Set1', legend=False, errorbar=None)\n",
    "plt.xlabel('Количество используемых продуктов банка')\n",
    "plt.title('Распределение отточных клиентов по количеству используемых продуктов банка')\n",
    "plt.axhline(y=df['churn'].mean(), color='blue', linestyle='--')\n",
    "plt.show()"
   ]
  },
  {
   "cell_type": "markdown",
   "metadata": {},
   "source": [
    "Теперь наивысший показатель отточности демонстрируют клиенты с 4 продуктами банка. Все группы клиентов с количеством продуктов равным 3 и больше значительно превышают средний по банку уровень отточности."
   ]
  },
  {
   "cell_type": "code",
   "execution_count": 24,
   "metadata": {},
   "outputs": [
    {
     "data": {
      "image/png": "[encoded data removed]",
      "text/plain": [
       "<Figure size 1200x700 with 1 Axes>"
      ]
     },
     "metadata": {},
     "output_type": "display_data"
    }
   ],
   "source": [
    "plt. figure(figsize=(12, 7))\n",
    "sns.barplot(data=df, x='credit_card', y='churn', hue='credit_card', palette='Set1', legend=False, errorbar=None)\n",
    "plt.ylabel('Доля отточных клиентов')\n",
    "plt.xlabel('Наличие кредитной карты')\n",
    "plt.title('Распределение отточных клиентов по по наличию кредитной карты')\n",
    "plt.axhline(y=df['churn'].mean(), color='blue', linestyle='--')\n",
    "plt.show()"
   ]
  },
  {
   "cell_type": "markdown",
   "metadata": {},
   "source": [
    "Уровень отточности выше для клиентов не использующих кредитную карту."
   ]
  },
  {
   "cell_type": "code",
   "execution_count": 25,
   "metadata": {},
   "outputs": [
    {
     "data": {
      "image/png": "[encoded data removed]",
      "text/plain": [
       "<Figure size 1200x700 with 1 Axes>"
      ]
     },
     "metadata": {},
     "output_type": "display_data"
    }
   ],
   "source": [
    "plt. figure(figsize=(12, 7))\n",
    "sns.barplot(data=df, x='last_activity', y='churn', hue='last_activity', palette='Set1', legend=False, errorbar=None)\n",
    "plt.ylabel('Доля отточных клиентов')\n",
    "plt.xlabel('Активность клиента')\n",
    "plt.title('Распределение отточных клиентов по признаку активности')\n",
    "plt.axhline(y=df['churn'].mean(), color='blue', linestyle='--')\n",
    "plt.show()"
   ]
  },
  {
   "cell_type": "markdown",
   "metadata": {},
   "source": [
    "Неожиданно, но среди неактивных клиентов уровень оттока значительно ниже, чем среди активных. Для активных клиентов уровень оттока значительно превышает средний по банку."
   ]
  },
  {
   "cell_type": "markdown",
   "metadata": {},
   "source": [
    "### 3.2 Корреляционный анализ зависимости отточности от признаков"
   ]
  },
  {
   "cell_type": "markdown",
   "metadata": {},
   "source": [
    "Изучим связь параметров клиентов с их оттоком. Для этого будем рассчитывать корреляцию признаков с признаком оттока.\n",
    "\n",
    "Построим тепловую диаграмму, которая покажет взаимосвязь признаков клиентов между собой, предварительно удалив из таблицы user_id и строковые значения."
   ]
  },
  {
   "cell_type": "code",
   "execution_count": 26,
   "metadata": {},
   "outputs": [
    {
     "data": {
      "image/png": "[encoded data removed]",
      "text/plain": [
       "<Figure size 1500x1000 with 2 Axes>"
      ]
     },
     "metadata": {},
     "output_type": "display_data"
    }
   ],
   "source": [
    "plt. figure(figsize=(15, 10))\n",
    "corr = df.drop(['user_id', 'city', 'gender'], axis=1).corr()\n",
    "sns.heatmap(corr, cmap='coolwarm', annot=True, center=0)\n",
    "plt.title('Матрица корреляции признаков клиентов')\n",
    "plt.yticks(rotation=45)\n",
    "plt.show()"
   ]
  },
  {
   "cell_type": "markdown",
   "metadata": {},
   "source": [
    "Обратим внимание на строку churn на диаграмме, пройдемся по значениям в этой строке, чтобы сравнить коэффициенты корреляции признака отточности и других характеристик клиентов.\n",
    "\n",
    "Для интерпретации результатов будем использовать шкалу Чеддока, согласно которой, коэффициент корреляции 0,1 обозначает слабую взаимосвязь. Все, что ниже этого показателя, будем считать не влияющим на отток.\n",
    "\n",
    "Наиболее высокий показатель корреляции в строке наблюдается по признаку \"количество продуктов, используемых клиентом\". Коэффициент корреляции для этого признака и признака отточности составляет 0,3. Данное значение может быть оценено как умеренное. Значение коэффициента положительно, поэтому, можно сказать, что чем больше продуктов используется клиентами, тем выше уровень отточности.\n",
    "\n",
    "На втором месте - коэффициент корреляции признака отточности и количества баллов собственности. Коэффициент составляет 0,27, что указывает на слабую взаимосвязь количества баллов собственности и склонности клиента к оттоку. \n",
    "\n",
    "Слабая взаимосвязь признака отточности также наблюдается с признаком активности, кредитным рейтингом, принадлежностью к мужскому полу. Для всех этих характеристик коэффициент корреляции с признаком отточности выше 0,1.\n",
    "\n",
    "Слабая обратная связь отточности наблюдается с признаками наличия кредитных карт и принадлежностью к женскому полу. Также слабая обратная связь наблюдается между признаком отточности и наличием пропущенных значений в столбце balance. Таким образом, для клиентов, для которых наблюдаются пропуски в столбце balance, склонность к оттоку ниже.\n",
    "\n",
    "Другие признаки на отточность никак не влияют.\n",
    "\n",
    "Обратим также внимание, что между наличием пропусков в столбце balance и количеством баллов собственности наблюдается сильная обратная связь. Коэффициент корреляции для этих величин составляет -0,71."
   ]
  },
  {
   "cell_type": "markdown",
   "metadata": {},
   "source": [
    "### Вывод"
   ]
  },
  {
   "cell_type": "markdown",
   "metadata": {},
   "source": [
    "В ходе исследовательского анализа данных было изучено распределение характеристик клиентов среди двух групп: отточных и лояльных пользователей. Также была сформирована матрица корреляций для проверки взаимосвязи признака отточности с другими характеристиками пользователей. \n",
    "\n",
    "По итогам проведенного анализа, можно сделать следующие выводы:\n",
    "\n",
    "1. Отточные клиенты в среднем имеют более высокий кредитный рейтинг, чем лояльные. При этом коэффициент корреляции кредитного рейтинга с признаком отточности показывает слабую взаимосвязь;\n",
    "\n",
    "2. Для большинства возрастных групп доля лояльных и отточных пользователей примерно одинакова. Клиентов в возрасте до 25 и в возрасте старше 70 в целом достаточно малое количество. Среди клиентов в возрасте старше 60 лет большинство - лояльных. В соответствии со шкалой Чеддока, связь между возрастом и отточностью отсутствует;\n",
    "\n",
    "3. Доля клиентов с более высоким балансом, как правило выше среди отточных, чем среди лояльных. При этом расчет коэффициента корреляции показал отсутствие взаимосвязи между признаками;\n",
    "\n",
    "4. До отметки дохода в 80 тысяч - преобладают лояльные пользователи. Начиная с отметки в 80 тысяч доля отточных пользователей чаще преобладает над лояльными клиентами. При этом взаимосвязь признаков, согласно матрице корреляции, отсутствует;\n",
    "\n",
    "5. В Ярославле и Ростове уровень оттока пользователей значительно выше, чем по банку в целом. При этом взаимосвязь между отточностью и городом, согласно матрице корреляций, не наблюдается;\n",
    "\n",
    "6. Доля отточных клиентов среди мужчин значительно выше, чем среди женщин и чем средняя по банку. Корреляция принадлежности к мужскому полу с отточностью прямая, слабая;\n",
    "\n",
    "7. Расчет коэффициентов корреляции показал, что, чем больше продуктов используется клиентами, тем выше уровень отточности. Начиная с отметки в 3 продукта, уровень отточности выше среднего по банку;\n",
    "\n",
    "8. Взаимосвязь количества баллов собственности и склонности клиента к оттоку слабая. Однако, согласно распределению баллов собственности среди отточных клиентов, чем выше балл собственности, тем выше уровень оттока;\n",
    "\n",
    "9. Уровень отточности выше для клиентов не использующих кредитную карту. Корреляция признаков слабая, отрицательная;\n",
    "\n",
    "10. Среди неактивных клиентов уровень оттока значительно ниже, чем среди активных. Для активных клиентов уровень оттока значительно превышает средний по банку."
   ]
  },
  {
   "cell_type": "markdown",
   "metadata": {},
   "source": [
    "## 4. Проверка статистических гипотез"
   ]
  },
  {
   "cell_type": "markdown",
   "metadata": {},
   "source": [
    "Проверим гипотезы, которые помогут нам установить взаимосвязи характеристик клиентов с их оттоком."
   ]
  },
  {
   "cell_type": "markdown",
   "metadata": {},
   "source": [
    "### 4.1 Различие доходов отточных и лояльных клиентов"
   ]
  },
  {
   "cell_type": "markdown",
   "metadata": {},
   "source": [
    "Первый вопрос, на который нам предстоит ответить: **различны ли доходы ушедших и оставшихся клиентов?**"
   ]
  },
  {
   "cell_type": "markdown",
   "metadata": {},
   "source": [
    "Посчитаем средние суммы дохода отточных и лояльных клиентов:"
   ]
  },
  {
   "cell_type": "code",
   "execution_count": 27,
   "metadata": {},
   "outputs": [
    {
     "name": "stdout",
     "output_type": "stream",
     "text": [
      "Средний доход отточных клиентов:148357.48\n",
      "Средний доход лояльных клиентов:147674.64\n"
     ]
    }
   ],
   "source": [
    "print(f\"Средний доход отточных клиентов:{df.loc[df['churn']==1, 'salary'].mean().round(2)}\")\n",
    "print(f\"Средний доход лояльных клиентов:{df.loc[df['churn']==0, 'salary'].mean().round(2)}\")"
   ]
  },
  {
   "cell_type": "markdown",
   "metadata": {},
   "source": [
    "Средний доход отточных клиентов составляет 148 тысяч, тогда как средний доход лояльных клиентов составляет 147 тысяч. Проверим, является ли эта разница статистически значимой.\n",
    "\n",
    "Сформулируем **нулевую гипотезу**:\n",
    "средняя сумма дохода отточных клиентов не отличается от средней суммы дохода лояльных клиентов\n",
    "\n",
    "**Альтернативная гипотеза:**\n",
    "средние суммы доходов отточных и лояльных клиентов не равны друг другу."
   ]
  },
  {
   "cell_type": "markdown",
   "metadata": {},
   "source": [
    "Для того, чтобы определиться с выбором теста, рассчитаем размер совокупностей, которые мы хотим сравнить: количество отточных и лояльных клиентов"
   ]
  },
  {
   "cell_type": "code",
   "execution_count": 28,
   "metadata": {},
   "outputs": [
    {
     "name": "stdout",
     "output_type": "stream",
     "text": [
      "Количество отточных клиентов: 1818\n",
      "Количество лояльных клиентов: 8155\n"
     ]
    }
   ],
   "source": [
    "print(f\"Количество отточных клиентов: {df.loc[df['churn']==1, 'salary'].count()}\")\n",
    "print(f\"Количество лояльных клиентов: {df.loc[df['churn']==0, 'salary'].count()}\")"
   ]
  },
  {
   "cell_type": "markdown",
   "metadata": {},
   "source": [
    "Итак, у нас есть две генеральные совокупности достаточно большого размера, независимые друг от друга. Нам необходимо сравнить средние значения этих двух совокупностей. Для этого может быть использовать **ttest**.\n",
    "\n",
    "\n",
    "Установим уровень значимости alpha в **0,05**. \n",
    "\n",
    "Так как совокупности разных размеров, для применения теста будем руководствоваться предположением, что дисперсии рассматриваемых генеральных совокупностей разные - используем парамертр **equal_var=False**."
   ]
  },
  {
   "cell_type": "code",
   "execution_count": 29,
   "metadata": {},
   "outputs": [
    {
     "name": "stdout",
     "output_type": "stream",
     "text": [
      "p-значение: 0.8354803526840116\n",
      "Не получилось отвергнуть нулевую гипотезу\n"
     ]
    }
   ],
   "source": [
    "alpha = 0.05\n",
    "\n",
    "results = st.ttest_ind(df.loc[df['churn']==1, 'salary'], df.loc[df['churn']==0, 'salary'], equal_var=False)\n",
    "\n",
    "print('p-значение:', results.pvalue)\n",
    "\n",
    "if results.pvalue < alpha:\n",
    "    print('Отвергаем нулевую гипотезу')\n",
    "else:\n",
    "    print('Не получилось отвергнуть нулевую гипотезу') "
   ]
  },
  {
   "cell_type": "markdown",
   "metadata": {},
   "source": [
    "P-value больше установленного уровня статистической значимости. Нулевую гипотезу, о том, что средняя сумма дохода отточных клиентов не отличается от средней суммы дохода лояльных клиентов, отвергнуть не удалось."
   ]
  },
  {
   "cell_type": "markdown",
   "metadata": {},
   "source": [
    "### 4.2 Различие количества используемых продуктов банка для отточных и лояльных клиентов"
   ]
  },
  {
   "cell_type": "markdown",
   "metadata": {},
   "source": [
    "В качестве второй гипотезы можно взять следующее утверждение: **количество используемых продуктов банка различно для отточных и лояльных клиентов**\n",
    "\n",
    "Для начала посчитаем среднее для обеих совокупностей:"
   ]
  },
  {
   "cell_type": "code",
   "execution_count": 30,
   "metadata": {},
   "outputs": [
    {
     "name": "stdout",
     "output_type": "stream",
     "text": [
      "Среднее количество продуктов, используемых отточными клиентами:        2.38\n",
      "Среднее количество продуктов, используемых лояльными клиентами:        1.76\n"
     ]
    }
   ],
   "source": [
    "print(f\"Среднее количество продуктов, используемых отточными клиентами:\\\n",
    "        {df.loc[df['churn']==1, 'products'].mean().round(2)}\")\n",
    "print(f\"Среднее количество продуктов, используемых лояльными клиентами:\\\n",
    "        {df.loc[df['churn']==0, 'products'].mean().round(2)}\")"
   ]
  },
  {
   "cell_type": "markdown",
   "metadata": {},
   "source": [
    "Среднее количество продуктов банка для отточных клиентов статистически значимо больше среднего количества продуктов банка, используемых лояльными клиентами. Проверим, является, ли эта разница статистически значимой.\n",
    "\n",
    "Сформулируем **нулевую гипотезу**:\n",
    "cреднее количество продуктов, используемых отточными клиентами, не отличается от среднего количества продуктов, используемых лояльными клиентами\n",
    "\n",
    "**Альтернативная гипотеза:**\n",
    "среднее количество продуктов, используемых отточными и лояльными клиентами, не равны друг другу.\n",
    "\n",
    "Гипотеза проверяется на тех же генеральных совокупностях, использовать будем также **ttest**."
   ]
  },
  {
   "cell_type": "code",
   "execution_count": 31,
   "metadata": {},
   "outputs": [
    {
     "name": "stdout",
     "output_type": "stream",
     "text": [
      "p-значение: 1.2671065900765871e-138\n",
      "Отвергаем нулевую гипотезу\n"
     ]
    }
   ],
   "source": [
    "results = st.ttest_ind(df.loc[df['churn']==1, 'products'], df.loc[df['churn']==0, 'products'], equal_var=False)\n",
    "\n",
    "print('p-значение:', results.pvalue)\n",
    "\n",
    "if results.pvalue < alpha:\n",
    "    print('Отвергаем нулевую гипотезу')\n",
    "else:\n",
    "    print('Не получилось отвергнуть нулевую гипотезу') "
   ]
  },
  {
   "cell_type": "markdown",
   "metadata": {},
   "source": [
    "P-value меньше установленного уровня статистической значимсти. Нулевая гипотеза отвергнута. Среднее количество продуктов, используемых отточными и лояльными клиентами, не равны друг другу."
   ]
  },
  {
   "cell_type": "markdown",
   "metadata": {},
   "source": [
    "### 4.3 Различие количества баллов собственности для отточных и лояльных клиентов"
   ]
  },
  {
   "cell_type": "markdown",
   "metadata": {},
   "source": [
    "Еще одной гипотезой выступит утверждение: **количество баллов собственности различно для отточных и лояльных клиентов**"
   ]
  },
  {
   "cell_type": "markdown",
   "metadata": {},
   "source": [
    "Для начала посчитаем среднее количство баллов собственности для пользователей обеих групп:"
   ]
  },
  {
   "cell_type": "code",
   "execution_count": 32,
   "metadata": {},
   "outputs": [
    {
     "name": "stdout",
     "output_type": "stream",
     "text": [
      "Среднее количество баллов собственности отточных клиентов:        3.76\n",
      "Среднее количество баллов собственности лояльных клиентов:        2.38\n"
     ]
    }
   ],
   "source": [
    "print(f\"Среднее количество баллов собственности отточных клиентов:\\\n",
    "        {df.loc[df['churn']==1, 'equity'].mean().round(2)}\")\n",
    "print(f\"Среднее количество баллов собственности лояльных клиентов:\\\n",
    "        {df.loc[df['churn']==0, 'equity'].mean().round(2)}\")"
   ]
  },
  {
   "cell_type": "markdown",
   "metadata": {},
   "source": [
    "Среднее количество баллов собственности отточных клиентов выше среднего количества баллов собственности лояльных пользователей. Посмотрим, является ли эта разница статистически значимой. \n",
    "\n",
    "Сформулируем **нулевую гипотезу**:\n",
    "cреднее количество баллов собственности отточных клиентов, не отличается от среднего количества баллов собственности лояльных клиентов\n",
    "\n",
    "**Альтернативная гипотеза:**\n",
    "среднее количество баллов собственности отточных и лояльных клиентов, не равны друг другу.\n",
    "\n",
    "Гипотеза проверяется на тех же генеральных совокупностях, использовать будем также **ttest**."
   ]
  },
  {
   "cell_type": "code",
   "execution_count": 33,
   "metadata": {},
   "outputs": [
    {
     "name": "stdout",
     "output_type": "stream",
     "text": [
      "p-значение: 2.2265321241808214e-196\n",
      "Отвергаем нулевую гипотезу\n"
     ]
    }
   ],
   "source": [
    "results = st.ttest_ind(df.loc[df['churn']==1, 'equity'], df.loc[df['churn']==0, 'equity'], equal_var=False)\n",
    "\n",
    "print('p-значение:', results.pvalue)\n",
    "\n",
    "if results.pvalue < alpha:\n",
    "    print('Отвергаем нулевую гипотезу')\n",
    "else:\n",
    "    print('Не получилось отвергнуть нулевую гипотезу') "
   ]
  },
  {
   "cell_type": "markdown",
   "metadata": {},
   "source": [
    "P-value меньше установленного уровня статистической значимсти. Нулевая гипотеза отвергнута. Среднее количество баллов собственности отточных и лояльных клиентов, не равны друг другу."
   ]
  },
  {
   "cell_type": "markdown",
   "metadata": {},
   "source": [
    "Проверим, что результат не связан с разницей в пропорции пользователей с количеством баллов собственности, равным нулю. \n",
    "\n",
    "Посчитаем среднее количество баллов собственности для совокупностей:"
   ]
  },
  {
   "cell_type": "code",
   "execution_count": 34,
   "metadata": {},
   "outputs": [
    {
     "name": "stdout",
     "output_type": "stream",
     "text": [
      "Среднее количество баллов собственности отточных клиентов:        3.96\n",
      "Среднее количество баллов собственности лояльных клиентов:        3.42\n"
     ]
    }
   ],
   "source": [
    "print(f\"Среднее количество баллов собственности отточных клиентов:\\\n",
    "        {df.loc[(df['churn']==1)&(df['equity']>0), 'equity'].mean().round(2)}\")\n",
    "print(f\"Среднее количество баллов собственности лояльных клиентов:\\\n",
    "        {df.loc[(df['churn']==0)&(df['equity']>0), 'equity'].mean().round(2)}\")"
   ]
  },
  {
   "cell_type": "markdown",
   "metadata": {},
   "source": [
    "Разница между средними групп стала меньше. Проверим, является ли она статистически значимой."
   ]
  },
  {
   "cell_type": "markdown",
   "metadata": {},
   "source": [
    "Для этого сначала рассчитаем размер новых совокупностей:"
   ]
  },
  {
   "cell_type": "code",
   "execution_count": 35,
   "metadata": {},
   "outputs": [
    {
     "name": "stdout",
     "output_type": "stream",
     "text": [
      "Количество отточных клиентов: 1728\n",
      "Количество лояльных клиентов: 5669\n"
     ]
    }
   ],
   "source": [
    "print(f\"Количество отточных клиентов: {df.loc[(df['churn']==1)&(df['equity']>0), 'equity'].count()}\")\n",
    "print(f\"Количество лояльных клиентов: {df.loc[(df['churn']==0)&(df['equity']>0), 'equity'].count()}\")"
   ]
  },
  {
   "cell_type": "markdown",
   "metadata": {},
   "source": [
    "Совокупности по-прежнему достаточно большие, для проверки гипотез можно использовать **ttest**.\n",
    "\n",
    "Сформулируем **нулевую гипотезу**:\n",
    "cреднее количество баллов собственности отточных клиентов, не отличается от среднего количества баллов собственности лояльных клиентов\n",
    "\n",
    "**Альтернативная гипотеза:**\n",
    "среднее количество баллов собственности отточных и лояльных клиентов, не равны друг другу."
   ]
  },
  {
   "cell_type": "code",
   "execution_count": 36,
   "metadata": {},
   "outputs": [
    {
     "name": "stdout",
     "output_type": "stream",
     "text": [
      "p-значение: 2.928739365132226e-44\n",
      "Отвергаем нулевую гипотезу\n"
     ]
    }
   ],
   "source": [
    "results = st.ttest_ind(\n",
    "    df.loc[(df['churn']==1)&(df['equity']>0), 'equity'], \n",
    "    df.loc[(df['churn']==0)&(df['equity']>0), 'equity'], equal_var=False)\n",
    "\n",
    "print('p-значение:', results.pvalue)\n",
    "\n",
    "if results.pvalue < alpha:\n",
    "    print('Отвергаем нулевую гипотезу')\n",
    "else:\n",
    "    print('Не получилось отвергнуть нулевую гипотезу') "
   ]
  },
  {
   "cell_type": "markdown",
   "metadata": {},
   "source": [
    "P-value меньше установленного уровня статистической значимсти. Нулевая гипотеза отвергнута. Среднее количество баллов собственности отточных и лояльных клиентов, не равны друг другу. Разница в пропорциях нулевых значений не изменила результат. "
   ]
  },
  {
   "cell_type": "markdown",
   "metadata": {},
   "source": [
    "### Вывод"
   ]
  },
  {
   "cell_type": "markdown",
   "metadata": {},
   "source": [
    "По результатам проведенных статистических тестов было определено, что:\n",
    "\n",
    "- различия между средним уровнем дохода отточных и лояльных пользователей статистически незначимы;\n",
    "\n",
    "\n",
    "- различия между средним количеством продуктов банка, используемым отточными и лояльными пользователями, статистически значимые;\n",
    "\n",
    "\n",
    "- различия между средним количеством баллов собственности для отточных и лояльных пользователей статистически значимые, как для ненулевого балла, так и включая нулевой."
   ]
  },
  {
   "cell_type": "markdown",
   "metadata": {},
   "source": [
    "## 5. Общие выводы по исследовательскому анализу данных"
   ]
  },
  {
   "cell_type": "markdown",
   "metadata": {},
   "source": [
    "По итогам проведенного исследовательского анализа, а также по итогам проверки статистических гипотез, можно выделить несколько основных признаков, связанных с отточностью клиентов банка:\n",
    "\n",
    "- высокий кредитный рейтинг выше 820;\n",
    "- принадлежность к мужскому полу;\n",
    "- количество используемых продуктов от 3;\n",
    "- высокий балл собственности от 3;\n",
    "- отсутствие кредитной карты;\n",
    "- активность."
   ]
  },
  {
   "cell_type": "markdown",
   "metadata": {},
   "source": [
    "## 6. Сегментация клиентов по признакам отточности"
   ]
  },
  {
   "cell_type": "markdown",
   "metadata": {},
   "source": [
    "Используя признаки, определенные на предыдущем шаге исследования, определим сегменты клиентов, наиболее склонных к оттоку. \n",
    "\n",
    "Для определения сегментов будем комбинировать характеристики клиентов и рассчитывать долю оттока в них."
   ]
  },
  {
   "cell_type": "markdown",
   "metadata": {},
   "source": [
    "Перед сегментацией рассчитаем средний уровень оттока клиентов по банку, на который будем ориентироваться:"
   ]
  },
  {
   "cell_type": "code",
   "execution_count": 37,
   "metadata": {},
   "outputs": [
    {
     "data": {
      "text/plain": [
       "18.23"
      ]
     },
     "execution_count": 37,
     "metadata": {},
     "output_type": "execute_result"
    }
   ],
   "source": [
    "round(df['churn'].mean()*100,2)"
   ]
  },
  {
   "cell_type": "markdown",
   "metadata": {},
   "source": [
    "Средний уровень оттока по банку **18,23%**. Наша задача определить несколько сегментов клиентов, уровень оттока для которых будет выше этого показателя."
   ]
  },
  {
   "cell_type": "markdown",
   "metadata": {},
   "source": [
    "В первый сегмент выберем два признака с высоким уровнем отточности и с самым высоким уровнем корреляции с отточностью: количество используемых продуктов 3 и выше и количество баллов собственности от 3"
   ]
  },
  {
   "cell_type": "code",
   "execution_count": 38,
   "metadata": {},
   "outputs": [
    {
     "name": "stdout",
     "output_type": "stream",
     "text": [
      "Уровень оттока в первом сегменте: 42.65%\n",
      "Количество клиентов в первом сегменте: 1224\n"
     ]
    }
   ],
   "source": [
    "segment1 = df[(df['products']>=3)&(df['equity']>=3)]\n",
    "print(f\"Уровень оттока в первом сегменте: {round(sum(segment1['churn'])/len(segment1)*100,2)}%\")\n",
    "print(f\"Количество клиентов в первом сегменте: {len(segment1)}\")"
   ]
  },
  {
   "cell_type": "markdown",
   "metadata": {},
   "source": [
    "Втором сегменте скомбинируем клиентов с количеством продуктов от 3 и выше с активными пользователями:"
   ]
  },
  {
   "cell_type": "code",
   "execution_count": 39,
   "metadata": {},
   "outputs": [
    {
     "name": "stdout",
     "output_type": "stream",
     "text": [
      "Уровень оттока во втором сегменте: 47.51%\n",
      "Количество клиентов во втором сегменте: 823\n"
     ]
    }
   ],
   "source": [
    "segment2 = df[(df['last_activity']==1)&(df['products']>=3)]\n",
    "print(f\"Уровень оттока во втором сегменте: {round(sum(segment2['churn'])/len(segment2)*100,2)}%\")\n",
    "print(f\"Количество клиентов во втором сегменте: {len(segment2)}\")"
   ]
  },
  {
   "cell_type": "markdown",
   "metadata": {},
   "source": [
    "В третьем сегменте скомбинируем оставшиеся признаки: клиенты-мужчины с кредитным рейтингом выше 820 и без кредитной карты"
   ]
  },
  {
   "cell_type": "code",
   "execution_count": 40,
   "metadata": {},
   "outputs": [
    {
     "name": "stdout",
     "output_type": "stream",
     "text": [
      "Уровень оттока в третьем сегменте: 41.01%\n",
      "Количество клиентов в третьем сегменте: 995\n"
     ]
    }
   ],
   "source": [
    "segment3 = df[(df['gender']=='М')&(df['score']>820)&(df['credit_card']==0)]\n",
    "print(f\"Уровень оттока в третьем сегменте: {round(sum(segment3['churn'])/len(segment3)*100,2)}%\")\n",
    "print(f\"Количество клиентов в третьем сегменте: {len(segment3)}\")"
   ]
  },
  {
   "cell_type": "markdown",
   "metadata": {},
   "source": [
    "<h6>ВЫВОД:<h6>"
   ]
  },
  {
   "cell_type": "markdown",
   "metadata": {},
   "source": [
    "На данном шаге отточные клиенты банка выделены в 3 сегмента. Сегменты были определены на основании наличия у пользователей определенных признаков:\n",
    "\n",
    "1. В первый сегмент попали клиенты с количеством используемых продуктов >= 3 и количеством баллов собственности >= 3;\n",
    "2. Во второй сегмент попали активные пользователи с количеством используемых продуктов >=3;\n",
    "3. В третий сегмент попали клиенты-мужчины с высоким кредитным рейтингом выше 820 и без кредитной карты.\n",
    "\n",
    "В каждом из сегментов количество клиентов больше 800. Уровень оттока значительно выше среднего банковского. \n",
    "\n",
    "Наиболее высокий процент оттока в 47,51% наблюдается для второго сегмента. Количество пользователей в данном сегменте - 823.\n",
    "\n",
    "Далее идет первый сегмент с 42,65% оттока. Этот сегмент является наиболее многочисленным - 1224.\n",
    "\n",
    "В третьем сегменте самый низкий процент оттока - 41,01%. Количество клиентов в не превышает 1000.\n",
    "\n",
    "Таким образом, в условиях ограниченных ресурсов, отделу маркетинга \"Метанпромбанка\" рекомендуется, начать борьбу с оттоком пользователей со второго сегмента. Данный сегмент, при высоком проценте оттока, является самым малочисленным, поэтому с ним будет удобнее работать. \n",
    "\n",
    "Далее стоит обратить внимание на третий сегмент - уровень оттока в нем несколько ниже, чем в первом сегменте, но количество пользователей значительно ниже. \n",
    "\n",
    "Работа с первым сегментом потребует наибольшее количество трудозатрат. "
   ]
  },
  {
   "cell_type": "markdown",
   "metadata": {},
   "source": [
    "## 7. Итоговые выводы по исследованию"
   ]
  },
  {
   "cell_type": "markdown",
   "metadata": {},
   "source": [
    "На анализ поступил датасет с данными о клиентах банка \"Метанпромбанк\", состоящий из 10 тысяч строк. Исходная таблица содержала 11 столбцов с характеристиками клиентов.\n",
    "\n",
    "**Цель исследования:** анализ оттока клиентов из банка «Метанпромбанк».\n",
    "\n",
    "В ходе предобработки поступивших данных были выполнены следующие мероприятия:\n",
    "\n",
    "- названия столбцов датафрейма приведены к единому регистру и стилистике;\n",
    "- удалены пропуски в столбце age (0,26% от общего количества строк), пропуски в столбце balance (22% от общего числа строк) оставили незаполненными;\n",
    "- проведен подсчет и анализ дубликатов - обнаружено не было;\n",
    "- созданы дополнительные столбцы с кодами категориальных признаков - город и пол.\n",
    "- созданы 5 вспомогательных столбцов с кодами пола и города клиентов.\n",
    "\n",
    "По итогам проведенного исследовательского анализа, а также по итогам проверки статистических гипотез были выделены несколько основных признаков, связанных с отточностью клиентов банка:\n",
    "\n",
    "- высокий кредитный рейтинг выше 820;\n",
    "- принадлежность к мужскому полу;\n",
    "- количество используемых продуктов 3 и выше;\n",
    "- высокий балл собственности 3 и выше;\n",
    "- отсутствие кредитной карты;\n",
    "- активность.\n",
    "\n",
    "На основании этих признаков, отточные клиенты были выделены в 3 сегмента:\n",
    "\n",
    "1. с количеством используемых продуктов >= 3 и количеством баллов собственности >= 3;\n",
    "\n",
    "2. активные пользователи с количеством используемых продуктов >=3;\n",
    "\n",
    "3. клиенты-мужчины с высоким кредитным рейтингом выше 820 и без кредитной карты.\n",
    "\n",
    "Наиболее приоритетной группой для работы с отточностью является второй сегмент. Для него отточность составляет 47,51%. Первый и третий сегменты также имеют высокий уровень отточности выше 40%. Однако стоит отметить, что работа с первым сегментом потребует наибольшее количество трудозатрат. \n",
    "\n",
    "Таким образом, наши **рекомендации** отделу маркетинга \"Метанпромбанк\" могут состоять в следующем:\n",
    "\n",
    "1. выбрать приоритетным для работы сегмент клиентов №2, обладающий признаками: активный пользователь с количеством используемых банковских продуктов 3 и больше;\n",
    "\n",
    " \n",
    "2. так как отточными клиентами являются активные, продвинутые клиенты, использующие большое количество банковских продуктов, провести опрос действующих клиентов банка (сегмент №2) на тему внедрения новых продуктов, а также на тему развития существующих;\n",
    " \n",
    " \n",
    "3. так как среди отточных, много клиентов с высоким баллом собственности, рассмотреть возможность внедрения и развития банковских продуктов, связанных с собственностью клиентов (разные виды страховок, автокредиты, банковские продукты для бизнеса и другое);\n",
    "\n",
    "\n",
    "4. пересмотреть маркетинговую кампанию про продвижению кредитных карт, предложить целевой группе (сегменту №3) воспользоваться этим продуктом. "
   ]
  }
 ],
 "metadata": {
  "ExecuteTimeLog": [
   {
    "duration": 1375,
    "start_time": "2024-10-19T18:43:28.244Z"
   },
   {
    "duration": 143,
    "start_time": "2024-10-19T18:45:24.466Z"
   },
   {
    "duration": 13,
    "start_time": "2024-10-19T18:46:12.101Z"
   },
   {
    "duration": 13,
    "start_time": "2024-10-19T18:46:16.025Z"
   },
   {
    "duration": 35,
    "start_time": "2024-10-19T19:05:03.666Z"
   },
   {
    "duration": 60,
    "start_time": "2024-10-19T19:08:15.585Z"
   },
   {
    "duration": 59,
    "start_time": "2024-10-19T19:09:08.895Z"
   },
   {
    "duration": 4,
    "start_time": "2024-10-19T19:09:48.932Z"
   },
   {
    "duration": 6,
    "start_time": "2024-10-19T19:10:16.730Z"
   },
   {
    "duration": 5,
    "start_time": "2024-10-19T19:10:33.778Z"
   },
   {
    "duration": 5,
    "start_time": "2024-10-19T19:10:55.537Z"
   },
   {
    "duration": 5,
    "start_time": "2024-10-19T19:12:12.017Z"
   },
   {
    "duration": 5,
    "start_time": "2024-10-19T19:12:25.772Z"
   },
   {
    "duration": 55,
    "start_time": "2024-10-19T19:12:43.611Z"
   },
   {
    "duration": 7,
    "start_time": "2024-10-19T19:12:56.285Z"
   },
   {
    "duration": 8,
    "start_time": "2024-10-19T19:13:06.083Z"
   },
   {
    "duration": 7,
    "start_time": "2024-10-19T19:13:10.324Z"
   },
   {
    "duration": 14,
    "start_time": "2024-10-19T19:15:11.499Z"
   },
   {
    "duration": 1248,
    "start_time": "2024-10-22T17:49:40.323Z"
   },
   {
    "duration": 80,
    "start_time": "2024-10-22T17:49:41.573Z"
   },
   {
    "duration": 11,
    "start_time": "2024-10-22T17:49:41.655Z"
   },
   {
    "duration": 13,
    "start_time": "2024-10-22T17:49:41.667Z"
   },
   {
    "duration": 37,
    "start_time": "2024-10-22T17:49:41.681Z"
   },
   {
    "duration": 4,
    "start_time": "2024-10-22T18:04:56.719Z"
   },
   {
    "duration": 18,
    "start_time": "2024-10-22T18:04:58.984Z"
   },
   {
    "duration": 4,
    "start_time": "2024-10-22T18:05:35.223Z"
   },
   {
    "duration": 18,
    "start_time": "2024-10-22T18:05:36.805Z"
   },
   {
    "duration": 7,
    "start_time": "2024-10-22T18:08:18.342Z"
   },
   {
    "duration": 17,
    "start_time": "2024-10-22T18:08:19.837Z"
   },
   {
    "duration": 19,
    "start_time": "2024-10-22T18:08:32.858Z"
   },
   {
    "duration": 6,
    "start_time": "2024-10-22T18:35:32.771Z"
   },
   {
    "duration": 5,
    "start_time": "2024-10-22T18:37:03.443Z"
   },
   {
    "duration": 108,
    "start_time": "2024-10-22T19:03:23.271Z"
   },
   {
    "duration": 8,
    "start_time": "2024-10-22T19:03:55.336Z"
   },
   {
    "duration": 28,
    "start_time": "2024-10-22T19:14:37.408Z"
   },
   {
    "duration": 7,
    "start_time": "2024-10-22T19:15:34.548Z"
   },
   {
    "duration": 72,
    "start_time": "2024-10-22T19:20:44.576Z"
   },
   {
    "duration": 61,
    "start_time": "2024-10-22T19:21:05.390Z"
   },
   {
    "duration": 20,
    "start_time": "2024-10-22T19:23:00.925Z"
   },
   {
    "duration": 21,
    "start_time": "2024-10-22T19:30:26.494Z"
   },
   {
    "duration": 21,
    "start_time": "2024-10-22T19:32:23.533Z"
   },
   {
    "duration": 20,
    "start_time": "2024-10-22T19:33:10.696Z"
   },
   {
    "duration": 1027,
    "start_time": "2024-10-22T20:01:51.248Z"
   },
   {
    "duration": 114,
    "start_time": "2024-10-22T20:01:52.277Z"
   },
   {
    "duration": 12,
    "start_time": "2024-10-22T20:01:52.392Z"
   },
   {
    "duration": 18,
    "start_time": "2024-10-22T20:01:52.406Z"
   },
   {
    "duration": 6,
    "start_time": "2024-10-22T20:01:52.426Z"
   },
   {
    "duration": 29,
    "start_time": "2024-10-22T20:01:52.433Z"
   },
   {
    "duration": 7,
    "start_time": "2024-10-22T20:01:52.463Z"
   },
   {
    "duration": 46,
    "start_time": "2024-10-22T20:01:52.471Z"
   },
   {
    "duration": 841,
    "start_time": "2024-10-22T20:04:03.270Z"
   },
   {
    "duration": 17,
    "start_time": "2024-10-22T20:04:15.859Z"
   },
   {
    "duration": 859,
    "start_time": "2024-10-22T20:04:25.837Z"
   },
   {
    "duration": 19,
    "start_time": "2024-10-22T20:08:07.464Z"
   },
   {
    "duration": 190,
    "start_time": "2024-10-22T20:11:17.881Z"
   },
   {
    "duration": 197,
    "start_time": "2024-10-22T20:13:50.913Z"
   },
   {
    "duration": 211,
    "start_time": "2024-10-22T20:14:17.711Z"
   },
   {
    "duration": 205,
    "start_time": "2024-10-22T20:14:59.654Z"
   },
   {
    "duration": 116,
    "start_time": "2024-10-22T20:15:18.280Z"
   },
   {
    "duration": 253,
    "start_time": "2024-10-22T20:15:22.899Z"
   },
   {
    "duration": 202,
    "start_time": "2024-10-22T20:17:23.851Z"
   },
   {
    "duration": 1349,
    "start_time": "2024-10-23T17:51:28.987Z"
   },
   {
    "duration": 134,
    "start_time": "2024-10-23T17:51:30.338Z"
   },
   {
    "duration": 13,
    "start_time": "2024-10-23T17:51:30.473Z"
   },
   {
    "duration": 47,
    "start_time": "2024-10-23T17:51:30.488Z"
   },
   {
    "duration": 46,
    "start_time": "2024-10-23T17:51:30.536Z"
   },
   {
    "duration": 67,
    "start_time": "2024-10-23T17:51:30.584Z"
   },
   {
    "duration": 7,
    "start_time": "2024-10-23T17:51:30.652Z"
   },
   {
    "duration": 27,
    "start_time": "2024-10-23T17:51:30.660Z"
   },
   {
    "duration": 270,
    "start_time": "2024-10-23T17:51:30.689Z"
   },
   {
    "duration": 12,
    "start_time": "2024-10-23T18:00:08.736Z"
   },
   {
    "duration": 7,
    "start_time": "2024-10-23T18:04:52.738Z"
   },
   {
    "duration": 16,
    "start_time": "2024-10-23T18:05:07.726Z"
   },
   {
    "duration": 28,
    "start_time": "2024-10-23T18:05:38.429Z"
   },
   {
    "duration": 5,
    "start_time": "2024-10-23T18:06:12.299Z"
   },
   {
    "duration": 6,
    "start_time": "2024-10-23T18:07:06.452Z"
   },
   {
    "duration": 8,
    "start_time": "2024-10-23T18:07:16.184Z"
   },
   {
    "duration": 8,
    "start_time": "2024-10-23T18:08:32.826Z"
   },
   {
    "duration": 6,
    "start_time": "2024-10-23T18:08:37.859Z"
   },
   {
    "duration": 6,
    "start_time": "2024-10-23T18:08:42.230Z"
   },
   {
    "duration": 22,
    "start_time": "2024-10-23T18:09:00.017Z"
   },
   {
    "duration": 20,
    "start_time": "2024-10-23T18:10:15.910Z"
   },
   {
    "duration": 8,
    "start_time": "2024-10-23T18:11:49.161Z"
   },
   {
    "duration": 13,
    "start_time": "2024-10-23T18:11:54.656Z"
   },
   {
    "duration": 12,
    "start_time": "2024-10-23T18:12:26.252Z"
   },
   {
    "duration": 15,
    "start_time": "2024-10-23T18:13:25.171Z"
   },
   {
    "duration": 53,
    "start_time": "2024-10-23T18:14:12.614Z"
   },
   {
    "duration": 8,
    "start_time": "2024-10-23T18:15:11.009Z"
   },
   {
    "duration": 14,
    "start_time": "2024-10-23T18:15:59.156Z"
   },
   {
    "duration": 22,
    "start_time": "2024-10-23T18:19:53.381Z"
   },
   {
    "duration": 23,
    "start_time": "2024-10-23T18:19:58.753Z"
   },
   {
    "duration": 104,
    "start_time": "2024-10-23T18:22:22.394Z"
   },
   {
    "duration": 442,
    "start_time": "2024-10-23T18:23:27.073Z"
   },
   {
    "duration": 9,
    "start_time": "2024-10-23T18:23:53.587Z"
   },
   {
    "duration": 19,
    "start_time": "2024-10-23T18:25:53.069Z"
   },
   {
    "duration": 15,
    "start_time": "2024-10-23T18:28:11.873Z"
   },
   {
    "duration": 15,
    "start_time": "2024-10-23T18:29:21.785Z"
   },
   {
    "duration": 25,
    "start_time": "2024-10-23T18:42:19.154Z"
   },
   {
    "duration": 30,
    "start_time": "2024-10-23T18:43:53.593Z"
   },
   {
    "duration": 37,
    "start_time": "2024-10-23T18:43:57.880Z"
   },
   {
    "duration": 23,
    "start_time": "2024-10-23T18:44:09.060Z"
   },
   {
    "duration": 33,
    "start_time": "2024-10-23T19:12:44.964Z"
   },
   {
    "duration": 30,
    "start_time": "2024-10-23T19:13:51.575Z"
   },
   {
    "duration": 329,
    "start_time": "2024-10-23T20:45:22.066Z"
   },
   {
    "duration": 319,
    "start_time": "2024-10-23T20:45:48.563Z"
   },
   {
    "duration": 327,
    "start_time": "2024-10-23T20:46:31.664Z"
   },
   {
    "duration": 421,
    "start_time": "2024-10-23T20:53:21.881Z"
   },
   {
    "duration": 310,
    "start_time": "2024-10-23T20:53:27.815Z"
   },
   {
    "duration": 316,
    "start_time": "2024-10-23T20:57:29.418Z"
   },
   {
    "duration": 1185,
    "start_time": "2024-10-23T20:57:46.560Z"
   },
   {
    "duration": 138,
    "start_time": "2024-10-23T20:57:47.747Z"
   },
   {
    "duration": 13,
    "start_time": "2024-10-23T20:57:47.886Z"
   },
   {
    "duration": 16,
    "start_time": "2024-10-23T20:57:47.902Z"
   },
   {
    "duration": 7,
    "start_time": "2024-10-23T20:57:47.920Z"
   },
   {
    "duration": 23,
    "start_time": "2024-10-23T20:57:47.929Z"
   },
   {
    "duration": 5,
    "start_time": "2024-10-23T20:57:47.954Z"
   },
   {
    "duration": 48,
    "start_time": "2024-10-23T20:57:47.961Z"
   },
   {
    "duration": 284,
    "start_time": "2024-10-23T20:57:48.010Z"
   },
   {
    "duration": 11,
    "start_time": "2024-10-23T20:57:48.297Z"
   },
   {
    "duration": 5,
    "start_time": "2024-10-23T20:57:48.310Z"
   },
   {
    "duration": 22,
    "start_time": "2024-10-23T20:57:48.317Z"
   },
   {
    "duration": 58,
    "start_time": "2024-10-23T20:57:48.341Z"
   },
   {
    "duration": 389,
    "start_time": "2024-10-23T20:57:48.400Z"
   },
   {
    "duration": 1384,
    "start_time": "2024-10-23T20:59:00.382Z"
   },
   {
    "duration": 321,
    "start_time": "2024-10-23T20:59:15.158Z"
   },
   {
    "duration": 4,
    "start_time": "2024-10-23T20:59:53.286Z"
   },
   {
    "duration": 4,
    "start_time": "2024-10-23T21:00:03.829Z"
   },
   {
    "duration": 4,
    "start_time": "2024-10-23T21:00:10.761Z"
   },
   {
    "duration": 1468,
    "start_time": "2024-10-23T21:00:17.324Z"
   },
   {
    "duration": 1424,
    "start_time": "2024-10-23T21:00:31.780Z"
   },
   {
    "duration": 1315,
    "start_time": "2024-10-24T17:18:18.687Z"
   },
   {
    "duration": 132,
    "start_time": "2024-10-24T17:18:20.004Z"
   },
   {
    "duration": 12,
    "start_time": "2024-10-24T17:18:20.138Z"
   },
   {
    "duration": 12,
    "start_time": "2024-10-24T17:18:20.152Z"
   },
   {
    "duration": 5,
    "start_time": "2024-10-24T17:18:20.166Z"
   },
   {
    "duration": 38,
    "start_time": "2024-10-24T17:18:20.172Z"
   },
   {
    "duration": 5,
    "start_time": "2024-10-24T17:18:20.211Z"
   },
   {
    "duration": 25,
    "start_time": "2024-10-24T17:18:20.217Z"
   },
   {
    "duration": 276,
    "start_time": "2024-10-24T17:18:20.244Z"
   },
   {
    "duration": 11,
    "start_time": "2024-10-24T17:18:20.523Z"
   },
   {
    "duration": 6,
    "start_time": "2024-10-24T17:18:20.535Z"
   },
   {
    "duration": 20,
    "start_time": "2024-10-24T17:18:20.543Z"
   },
   {
    "duration": 59,
    "start_time": "2024-10-24T17:18:20.565Z"
   },
   {
    "duration": 1322,
    "start_time": "2024-10-24T17:18:20.626Z"
   },
   {
    "duration": 24,
    "start_time": "2024-10-24T17:23:37.632Z"
   },
   {
    "duration": 380,
    "start_time": "2024-10-24T17:29:36.005Z"
   },
   {
    "duration": 392,
    "start_time": "2024-10-24T17:29:51.431Z"
   },
   {
    "duration": 371,
    "start_time": "2024-10-24T17:29:57.612Z"
   },
   {
    "duration": 493,
    "start_time": "2024-10-24T17:30:33.548Z"
   },
   {
    "duration": 376,
    "start_time": "2024-10-24T17:30:50.156Z"
   },
   {
    "duration": 381,
    "start_time": "2024-10-24T17:31:10.927Z"
   },
   {
    "duration": 1359,
    "start_time": "2024-10-24T17:31:17.236Z"
   },
   {
    "duration": 46,
    "start_time": "2024-10-24T17:32:06.690Z"
   },
   {
    "duration": 1152,
    "start_time": "2024-10-24T17:32:12.134Z"
   },
   {
    "duration": 102,
    "start_time": "2024-10-24T17:32:13.288Z"
   },
   {
    "duration": 11,
    "start_time": "2024-10-24T17:32:13.392Z"
   },
   {
    "duration": 12,
    "start_time": "2024-10-24T17:32:13.404Z"
   },
   {
    "duration": 6,
    "start_time": "2024-10-24T17:32:13.418Z"
   },
   {
    "duration": 26,
    "start_time": "2024-10-24T17:32:13.426Z"
   },
   {
    "duration": 6,
    "start_time": "2024-10-24T17:32:13.453Z"
   },
   {
    "duration": 51,
    "start_time": "2024-10-24T17:32:13.460Z"
   },
   {
    "duration": 264,
    "start_time": "2024-10-24T17:32:13.512Z"
   },
   {
    "duration": 19,
    "start_time": "2024-10-24T17:32:13.777Z"
   },
   {
    "duration": 5,
    "start_time": "2024-10-24T17:32:13.797Z"
   },
   {
    "duration": 27,
    "start_time": "2024-10-24T17:32:13.803Z"
   },
   {
    "duration": 27,
    "start_time": "2024-10-24T17:32:13.832Z"
   },
   {
    "duration": 1333,
    "start_time": "2024-10-24T17:32:13.862Z"
   },
   {
    "duration": 414,
    "start_time": "2024-10-24T17:32:15.197Z"
   },
   {
    "duration": 1187,
    "start_time": "2024-10-24T17:33:51.311Z"
   },
   {
    "duration": 93,
    "start_time": "2024-10-24T17:33:52.500Z"
   },
   {
    "duration": 13,
    "start_time": "2024-10-24T17:33:52.595Z"
   },
   {
    "duration": 13,
    "start_time": "2024-10-24T17:33:52.611Z"
   },
   {
    "duration": 6,
    "start_time": "2024-10-24T17:33:52.625Z"
   },
   {
    "duration": 23,
    "start_time": "2024-10-24T17:33:52.633Z"
   },
   {
    "duration": 39,
    "start_time": "2024-10-24T17:33:52.658Z"
   },
   {
    "duration": 27,
    "start_time": "2024-10-24T17:33:52.699Z"
   },
   {
    "duration": 304,
    "start_time": "2024-10-24T17:33:52.727Z"
   },
   {
    "duration": 10,
    "start_time": "2024-10-24T17:33:53.034Z"
   },
   {
    "duration": 4,
    "start_time": "2024-10-24T17:33:53.045Z"
   },
   {
    "duration": 18,
    "start_time": "2024-10-24T17:33:53.051Z"
   },
   {
    "duration": 51,
    "start_time": "2024-10-24T17:33:53.070Z"
   },
   {
    "duration": 1291,
    "start_time": "2024-10-24T17:33:53.123Z"
   },
   {
    "duration": 401,
    "start_time": "2024-10-24T17:33:54.415Z"
   },
   {
    "duration": 1076,
    "start_time": "2024-10-24T17:35:28.519Z"
   },
   {
    "duration": 101,
    "start_time": "2024-10-24T17:35:29.597Z"
   },
   {
    "duration": 14,
    "start_time": "2024-10-24T17:35:29.700Z"
   },
   {
    "duration": 14,
    "start_time": "2024-10-24T17:35:29.715Z"
   },
   {
    "duration": 5,
    "start_time": "2024-10-24T17:35:29.732Z"
   },
   {
    "duration": 63,
    "start_time": "2024-10-24T17:35:29.739Z"
   },
   {
    "duration": 8,
    "start_time": "2024-10-24T17:35:29.803Z"
   },
   {
    "duration": 25,
    "start_time": "2024-10-24T17:35:29.812Z"
   },
   {
    "duration": 279,
    "start_time": "2024-10-24T17:35:29.839Z"
   },
   {
    "duration": 14,
    "start_time": "2024-10-24T17:35:30.120Z"
   },
   {
    "duration": 38,
    "start_time": "2024-10-24T17:35:30.135Z"
   },
   {
    "duration": 34,
    "start_time": "2024-10-24T17:35:30.174Z"
   },
   {
    "duration": 31,
    "start_time": "2024-10-24T17:35:30.209Z"
   },
   {
    "duration": 1394,
    "start_time": "2024-10-24T17:35:30.243Z"
   },
   {
    "duration": 401,
    "start_time": "2024-10-24T17:35:31.639Z"
   },
   {
    "duration": 1079,
    "start_time": "2024-10-24T17:39:26.807Z"
   },
   {
    "duration": 92,
    "start_time": "2024-10-24T17:39:27.888Z"
   },
   {
    "duration": 11,
    "start_time": "2024-10-24T17:39:27.982Z"
   },
   {
    "duration": 12,
    "start_time": "2024-10-24T17:39:27.994Z"
   },
   {
    "duration": 6,
    "start_time": "2024-10-24T17:39:28.007Z"
   },
   {
    "duration": 25,
    "start_time": "2024-10-24T17:39:28.014Z"
   },
   {
    "duration": 6,
    "start_time": "2024-10-24T17:39:28.040Z"
   },
   {
    "duration": 23,
    "start_time": "2024-10-24T17:39:28.047Z"
   },
   {
    "duration": 254,
    "start_time": "2024-10-24T17:39:28.095Z"
   },
   {
    "duration": 9,
    "start_time": "2024-10-24T17:39:28.351Z"
   },
   {
    "duration": 5,
    "start_time": "2024-10-24T17:39:28.361Z"
   },
   {
    "duration": 39,
    "start_time": "2024-10-24T17:39:28.368Z"
   },
   {
    "duration": 28,
    "start_time": "2024-10-24T17:39:28.408Z"
   },
   {
    "duration": 1317,
    "start_time": "2024-10-24T17:39:28.438Z"
   },
   {
    "duration": 389,
    "start_time": "2024-10-24T17:39:29.757Z"
   },
   {
    "duration": 49,
    "start_time": "2024-10-24T18:31:06.812Z"
   },
   {
    "duration": 1105,
    "start_time": "2024-10-24T18:31:14.208Z"
   },
   {
    "duration": 93,
    "start_time": "2024-10-24T18:31:15.315Z"
   },
   {
    "duration": 12,
    "start_time": "2024-10-24T18:31:15.410Z"
   },
   {
    "duration": 32,
    "start_time": "2024-10-24T18:31:15.424Z"
   },
   {
    "duration": 6,
    "start_time": "2024-10-24T18:31:15.457Z"
   },
   {
    "duration": 30,
    "start_time": "2024-10-24T18:31:15.464Z"
   },
   {
    "duration": 17,
    "start_time": "2024-10-24T18:31:15.496Z"
   },
   {
    "duration": 57,
    "start_time": "2024-10-24T18:31:15.515Z"
   },
   {
    "duration": 250,
    "start_time": "2024-10-24T18:31:15.573Z"
   },
   {
    "duration": 11,
    "start_time": "2024-10-24T18:31:15.825Z"
   },
   {
    "duration": 5,
    "start_time": "2024-10-24T18:31:15.837Z"
   },
   {
    "duration": 21,
    "start_time": "2024-10-24T18:31:15.844Z"
   },
   {
    "duration": 54,
    "start_time": "2024-10-24T18:31:15.866Z"
   },
   {
    "duration": 1304,
    "start_time": "2024-10-24T18:31:15.922Z"
   },
   {
    "duration": 388,
    "start_time": "2024-10-24T18:31:17.228Z"
   },
   {
    "duration": 0,
    "start_time": "2024-10-24T18:32:19.431Z"
   },
   {
    "duration": 3345,
    "start_time": "2024-10-24T18:32:30.293Z"
   },
   {
    "duration": 297,
    "start_time": "2024-10-24T18:32:48.382Z"
   },
   {
    "duration": 379,
    "start_time": "2024-10-24T18:32:54.226Z"
   },
   {
    "duration": 298,
    "start_time": "2024-10-24T18:33:00.763Z"
   },
   {
    "duration": 1196,
    "start_time": "2024-10-24T18:33:05.526Z"
   },
   {
    "duration": 0,
    "start_time": "2024-10-24T18:34:00.269Z"
   },
   {
    "duration": 47,
    "start_time": "2024-10-24T18:43:27.386Z"
   },
   {
    "duration": 1225,
    "start_time": "2024-10-24T18:43:36.678Z"
   },
   {
    "duration": 90,
    "start_time": "2024-10-24T18:43:37.905Z"
   },
   {
    "duration": 12,
    "start_time": "2024-10-24T18:43:37.996Z"
   },
   {
    "duration": 12,
    "start_time": "2024-10-24T18:43:38.010Z"
   },
   {
    "duration": 5,
    "start_time": "2024-10-24T18:43:38.023Z"
   },
   {
    "duration": 21,
    "start_time": "2024-10-24T18:43:38.030Z"
   },
   {
    "duration": 5,
    "start_time": "2024-10-24T18:43:38.053Z"
   },
   {
    "duration": 53,
    "start_time": "2024-10-24T18:43:38.059Z"
   },
   {
    "duration": 276,
    "start_time": "2024-10-24T18:43:38.113Z"
   },
   {
    "duration": 11,
    "start_time": "2024-10-24T18:43:38.394Z"
   },
   {
    "duration": 5,
    "start_time": "2024-10-24T18:43:38.406Z"
   },
   {
    "duration": 19,
    "start_time": "2024-10-24T18:43:38.413Z"
   },
   {
    "duration": 30,
    "start_time": "2024-10-24T18:43:38.433Z"
   },
   {
    "duration": 1321,
    "start_time": "2024-10-24T18:43:38.464Z"
   },
   {
    "duration": 393,
    "start_time": "2024-10-24T18:43:39.794Z"
   },
   {
    "duration": 98,
    "start_time": "2024-10-24T18:43:40.188Z"
   },
   {
    "duration": 0,
    "start_time": "2024-10-24T18:43:40.287Z"
   },
   {
    "duration": 0,
    "start_time": "2024-10-24T18:43:40.289Z"
   },
   {
    "duration": 20,
    "start_time": "2024-10-24T18:43:46.940Z"
   },
   {
    "duration": 16,
    "start_time": "2024-10-24T18:44:00.420Z"
   },
   {
    "duration": 265,
    "start_time": "2024-10-24T18:44:15.506Z"
   },
   {
    "duration": 243,
    "start_time": "2024-10-24T18:44:59.969Z"
   },
   {
    "duration": 270,
    "start_time": "2024-10-24T18:46:07.828Z"
   },
   {
    "duration": 388,
    "start_time": "2024-10-24T18:46:54.161Z"
   },
   {
    "duration": 5721,
    "start_time": "2024-10-24T19:12:19.029Z"
   },
   {
    "duration": 162,
    "start_time": "2024-10-24T19:14:02.302Z"
   },
   {
    "duration": 150,
    "start_time": "2024-10-24T19:14:11.652Z"
   },
   {
    "duration": 5505,
    "start_time": "2024-10-24T19:16:58.466Z"
   },
   {
    "duration": 63,
    "start_time": "2024-10-24T19:17:48.748Z"
   },
   {
    "duration": 49,
    "start_time": "2024-10-24T19:18:18.733Z"
   },
   {
    "duration": 1131,
    "start_time": "2024-10-24T19:18:22.906Z"
   },
   {
    "duration": 87,
    "start_time": "2024-10-24T19:18:24.039Z"
   },
   {
    "duration": 12,
    "start_time": "2024-10-24T19:18:24.127Z"
   },
   {
    "duration": 13,
    "start_time": "2024-10-24T19:18:24.141Z"
   },
   {
    "duration": 6,
    "start_time": "2024-10-24T19:18:24.155Z"
   },
   {
    "duration": 43,
    "start_time": "2024-10-24T19:18:24.162Z"
   },
   {
    "duration": 6,
    "start_time": "2024-10-24T19:18:24.207Z"
   },
   {
    "duration": 26,
    "start_time": "2024-10-24T19:18:24.214Z"
   },
   {
    "duration": 283,
    "start_time": "2024-10-24T19:18:24.241Z"
   },
   {
    "duration": 10,
    "start_time": "2024-10-24T19:18:24.527Z"
   },
   {
    "duration": 5,
    "start_time": "2024-10-24T19:18:24.539Z"
   },
   {
    "duration": 20,
    "start_time": "2024-10-24T19:18:24.545Z"
   },
   {
    "duration": 55,
    "start_time": "2024-10-24T19:18:24.566Z"
   },
   {
    "duration": 1372,
    "start_time": "2024-10-24T19:18:24.623Z"
   },
   {
    "duration": 400,
    "start_time": "2024-10-24T19:18:25.997Z"
   },
   {
    "duration": 99,
    "start_time": "2024-10-24T19:18:26.399Z"
   },
   {
    "duration": 0,
    "start_time": "2024-10-24T19:18:26.500Z"
   },
   {
    "duration": 0,
    "start_time": "2024-10-24T19:18:26.501Z"
   },
   {
    "duration": 47,
    "start_time": "2024-10-24T19:18:54.614Z"
   },
   {
    "duration": 1165,
    "start_time": "2024-10-24T19:19:03.562Z"
   },
   {
    "duration": 82,
    "start_time": "2024-10-24T19:19:04.729Z"
   },
   {
    "duration": 12,
    "start_time": "2024-10-24T19:19:04.814Z"
   },
   {
    "duration": 14,
    "start_time": "2024-10-24T19:19:04.828Z"
   },
   {
    "duration": 15,
    "start_time": "2024-10-24T19:19:04.843Z"
   },
   {
    "duration": 37,
    "start_time": "2024-10-24T19:19:04.859Z"
   },
   {
    "duration": 6,
    "start_time": "2024-10-24T19:19:04.897Z"
   },
   {
    "duration": 23,
    "start_time": "2024-10-24T19:19:04.904Z"
   },
   {
    "duration": 272,
    "start_time": "2024-10-24T19:19:04.928Z"
   },
   {
    "duration": 12,
    "start_time": "2024-10-24T19:19:05.201Z"
   },
   {
    "duration": 6,
    "start_time": "2024-10-24T19:19:05.215Z"
   },
   {
    "duration": 21,
    "start_time": "2024-10-24T19:19:05.223Z"
   },
   {
    "duration": 63,
    "start_time": "2024-10-24T19:19:05.247Z"
   },
   {
    "duration": 1328,
    "start_time": "2024-10-24T19:19:05.312Z"
   },
   {
    "duration": 393,
    "start_time": "2024-10-24T19:19:06.642Z"
   },
   {
    "duration": 5539,
    "start_time": "2024-10-24T19:19:07.036Z"
   },
   {
    "duration": 396,
    "start_time": "2024-10-24T19:19:12.577Z"
   },
   {
    "duration": 5732,
    "start_time": "2024-10-24T19:19:37.252Z"
   },
   {
    "duration": 5,
    "start_time": "2024-10-24T19:20:14.621Z"
   },
   {
    "duration": 5730,
    "start_time": "2024-10-24T19:20:40.811Z"
   },
   {
    "duration": 5900,
    "start_time": "2024-10-24T19:21:45.187Z"
   },
   {
    "duration": 5815,
    "start_time": "2024-10-24T19:22:06.074Z"
   },
   {
    "duration": 5998,
    "start_time": "2024-10-24T19:22:27.199Z"
   },
   {
    "duration": 5797,
    "start_time": "2024-10-24T19:24:16.198Z"
   },
   {
    "duration": 5788,
    "start_time": "2024-10-24T19:24:46.947Z"
   },
   {
    "duration": 49,
    "start_time": "2024-10-24T19:26:04.649Z"
   },
   {
    "duration": 1144,
    "start_time": "2024-10-24T19:26:16.669Z"
   },
   {
    "duration": 151,
    "start_time": "2024-10-24T19:26:17.815Z"
   },
   {
    "duration": 11,
    "start_time": "2024-10-24T19:26:17.967Z"
   },
   {
    "duration": 12,
    "start_time": "2024-10-24T19:26:17.980Z"
   },
   {
    "duration": 6,
    "start_time": "2024-10-24T19:26:17.994Z"
   },
   {
    "duration": 48,
    "start_time": "2024-10-24T19:26:18.002Z"
   },
   {
    "duration": 5,
    "start_time": "2024-10-24T19:26:18.051Z"
   },
   {
    "duration": 27,
    "start_time": "2024-10-24T19:26:18.058Z"
   },
   {
    "duration": 249,
    "start_time": "2024-10-24T19:26:18.087Z"
   },
   {
    "duration": 9,
    "start_time": "2024-10-24T19:26:18.338Z"
   },
   {
    "duration": 4,
    "start_time": "2024-10-24T19:26:18.349Z"
   },
   {
    "duration": 22,
    "start_time": "2024-10-24T19:26:18.354Z"
   },
   {
    "duration": 42,
    "start_time": "2024-10-24T19:26:18.377Z"
   },
   {
    "duration": 320,
    "start_time": "2024-10-24T19:26:18.421Z"
   },
   {
    "duration": 409,
    "start_time": "2024-10-24T19:26:18.742Z"
   },
   {
    "duration": 5764,
    "start_time": "2024-10-24T19:26:19.152Z"
   },
   {
    "duration": 354,
    "start_time": "2024-10-24T19:26:24.917Z"
   },
   {
    "duration": 1230,
    "start_time": "2024-10-25T19:17:24.955Z"
   },
   {
    "duration": 115,
    "start_time": "2024-10-25T19:17:27.490Z"
   },
   {
    "duration": 12,
    "start_time": "2024-10-25T19:17:30.242Z"
   },
   {
    "duration": 15,
    "start_time": "2024-10-25T19:17:33.173Z"
   },
   {
    "duration": 4,
    "start_time": "2024-10-25T19:17:37.053Z"
   },
   {
    "duration": 20,
    "start_time": "2024-10-25T19:17:39.661Z"
   },
   {
    "duration": 6,
    "start_time": "2024-10-25T19:17:42.070Z"
   },
   {
    "duration": 21,
    "start_time": "2024-10-25T19:17:44.322Z"
   },
   {
    "duration": 250,
    "start_time": "2024-10-25T19:17:46.753Z"
   },
   {
    "duration": 9,
    "start_time": "2024-10-25T19:17:51.154Z"
   },
   {
    "duration": 5,
    "start_time": "2024-10-25T19:17:53.114Z"
   },
   {
    "duration": 18,
    "start_time": "2024-10-25T19:17:55.436Z"
   },
   {
    "duration": 25,
    "start_time": "2024-10-25T19:17:57.766Z"
   },
   {
    "duration": 250,
    "start_time": "2024-10-25T19:18:22.152Z"
   },
   {
    "duration": 1555,
    "start_time": "2024-10-26T07:51:12.353Z"
   },
   {
    "duration": 127,
    "start_time": "2024-10-26T07:51:13.911Z"
   },
   {
    "duration": 12,
    "start_time": "2024-10-26T07:51:14.040Z"
   },
   {
    "duration": 14,
    "start_time": "2024-10-26T07:51:14.054Z"
   },
   {
    "duration": 6,
    "start_time": "2024-10-26T07:51:14.070Z"
   },
   {
    "duration": 24,
    "start_time": "2024-10-26T07:51:14.078Z"
   },
   {
    "duration": 7,
    "start_time": "2024-10-26T07:51:14.103Z"
   },
   {
    "duration": 86,
    "start_time": "2024-10-26T07:51:14.112Z"
   },
   {
    "duration": 303,
    "start_time": "2024-10-26T07:51:14.200Z"
   },
   {
    "duration": 11,
    "start_time": "2024-10-26T07:51:14.506Z"
   },
   {
    "duration": 68,
    "start_time": "2024-10-26T07:51:14.519Z"
   },
   {
    "duration": 27,
    "start_time": "2024-10-26T07:51:14.589Z"
   },
   {
    "duration": 33,
    "start_time": "2024-10-26T07:51:14.618Z"
   },
   {
    "duration": 360,
    "start_time": "2024-10-26T07:51:14.653Z"
   },
   {
    "duration": 450,
    "start_time": "2024-10-26T07:51:15.015Z"
   },
   {
    "duration": 6013,
    "start_time": "2024-10-26T07:51:15.466Z"
   },
   {
    "duration": 484,
    "start_time": "2024-10-26T07:51:21.481Z"
   },
   {
    "duration": 660,
    "start_time": "2024-10-26T07:58:16.983Z"
   },
   {
    "duration": 335,
    "start_time": "2024-10-26T08:08:48.278Z"
   },
   {
    "duration": 330,
    "start_time": "2024-10-26T08:09:16.760Z"
   },
   {
    "duration": 346,
    "start_time": "2024-10-26T08:10:05.366Z"
   },
   {
    "duration": 330,
    "start_time": "2024-10-26T08:10:11.861Z"
   },
   {
    "duration": 269,
    "start_time": "2024-10-26T08:10:33.984Z"
   },
   {
    "duration": 6019,
    "start_time": "2024-10-26T08:22:25.690Z"
   },
   {
    "duration": 1066,
    "start_time": "2024-10-26T08:23:30.222Z"
   },
   {
    "duration": 697,
    "start_time": "2024-10-26T08:23:39.881Z"
   },
   {
    "duration": 801,
    "start_time": "2024-10-26T08:23:48.517Z"
   },
   {
    "duration": 5965,
    "start_time": "2024-10-26T08:24:27.452Z"
   },
   {
    "duration": 6246,
    "start_time": "2024-10-26T08:24:39.537Z"
   },
   {
    "duration": 689,
    "start_time": "2024-10-26T08:37:26.387Z"
   },
   {
    "duration": 1062,
    "start_time": "2024-10-26T08:37:34.134Z"
   },
   {
    "duration": 713,
    "start_time": "2024-10-26T08:38:10.021Z"
   },
   {
    "duration": 817,
    "start_time": "2024-10-26T08:39:05.435Z"
   },
   {
    "duration": 688,
    "start_time": "2024-10-26T08:43:04.717Z"
   },
   {
    "duration": 1286,
    "start_time": "2024-10-26T09:08:56.616Z"
   },
   {
    "duration": 101,
    "start_time": "2024-10-26T09:08:57.905Z"
   },
   {
    "duration": 14,
    "start_time": "2024-10-26T09:08:58.007Z"
   },
   {
    "duration": 31,
    "start_time": "2024-10-26T09:08:58.023Z"
   },
   {
    "duration": 18,
    "start_time": "2024-10-26T09:08:58.056Z"
   },
   {
    "duration": 33,
    "start_time": "2024-10-26T09:08:58.077Z"
   },
   {
    "duration": 9,
    "start_time": "2024-10-26T09:08:58.112Z"
   },
   {
    "duration": 52,
    "start_time": "2024-10-26T09:08:58.123Z"
   },
   {
    "duration": 296,
    "start_time": "2024-10-26T09:08:58.177Z"
   },
   {
    "duration": 12,
    "start_time": "2024-10-26T09:08:58.475Z"
   },
   {
    "duration": 6,
    "start_time": "2024-10-26T09:08:58.489Z"
   },
   {
    "duration": 38,
    "start_time": "2024-10-26T09:08:58.496Z"
   },
   {
    "duration": 31,
    "start_time": "2024-10-26T09:08:58.552Z"
   },
   {
    "duration": 402,
    "start_time": "2024-10-26T09:08:58.585Z"
   },
   {
    "duration": 338,
    "start_time": "2024-10-26T09:08:58.989Z"
   },
   {
    "duration": 6299,
    "start_time": "2024-10-26T09:08:59.328Z"
   },
   {
    "duration": 1077,
    "start_time": "2024-10-26T09:09:05.628Z"
   },
   {
    "duration": 431,
    "start_time": "2024-10-26T09:09:06.707Z"
   },
   {
    "duration": 712,
    "start_time": "2024-10-26T09:09:15.459Z"
   },
   {
    "duration": 435,
    "start_time": "2024-10-26T09:11:50.004Z"
   },
   {
    "duration": 129,
    "start_time": "2024-10-26T09:20:21.994Z"
   },
   {
    "duration": 410,
    "start_time": "2024-10-26T09:22:21.146Z"
   },
   {
    "duration": 272,
    "start_time": "2024-10-26T09:22:35.940Z"
   },
   {
    "duration": 278,
    "start_time": "2024-10-26T09:22:41.050Z"
   },
   {
    "duration": 24,
    "start_time": "2024-10-26T09:31:31.322Z"
   },
   {
    "duration": 1113,
    "start_time": "2024-10-26T09:31:43.776Z"
   },
   {
    "duration": 283,
    "start_time": "2024-10-26T09:31:52.321Z"
   },
   {
    "duration": 161,
    "start_time": "2024-10-26T09:35:33.569Z"
   },
   {
    "duration": 137,
    "start_time": "2024-10-26T09:37:23.710Z"
   },
   {
    "duration": 179,
    "start_time": "2024-10-26T09:39:11.520Z"
   },
   {
    "duration": 346,
    "start_time": "2024-10-26T09:40:33.722Z"
   },
   {
    "duration": 301,
    "start_time": "2024-10-26T09:41:26.523Z"
   },
   {
    "duration": 198,
    "start_time": "2024-10-26T09:41:56.907Z"
   },
   {
    "duration": 275,
    "start_time": "2024-10-26T09:42:02.232Z"
   },
   {
    "duration": 368,
    "start_time": "2024-10-26T09:47:26.928Z"
   },
   {
    "duration": 268,
    "start_time": "2024-10-26T09:49:25.930Z"
   },
   {
    "duration": 260,
    "start_time": "2024-10-26T09:49:36.122Z"
   },
   {
    "duration": 253,
    "start_time": "2024-10-26T09:57:48.645Z"
   },
   {
    "duration": 197,
    "start_time": "2024-10-26T09:57:58.404Z"
   },
   {
    "duration": 225,
    "start_time": "2024-10-26T09:58:59.873Z"
   },
   {
    "duration": 21,
    "start_time": "2024-10-26T10:41:36.890Z"
   },
   {
    "duration": 498,
    "start_time": "2024-10-26T10:41:42.515Z"
   },
   {
    "duration": 517,
    "start_time": "2024-10-26T10:42:00.682Z"
   },
   {
    "duration": 549,
    "start_time": "2024-10-26T10:42:09.220Z"
   },
   {
    "duration": 21,
    "start_time": "2024-10-26T10:43:20.787Z"
   },
   {
    "duration": 1897,
    "start_time": "2024-10-26T10:43:25.848Z"
   },
   {
    "duration": 1824,
    "start_time": "2024-10-26T10:43:41.798Z"
   },
   {
    "duration": 1848,
    "start_time": "2024-10-26T10:43:51.239Z"
   },
   {
    "duration": 1952,
    "start_time": "2024-10-26T11:11:51.675Z"
   },
   {
    "duration": 276,
    "start_time": "2024-10-26T11:20:20.952Z"
   },
   {
    "duration": 1200,
    "start_time": "2024-10-26T12:29:52.004Z"
   },
   {
    "duration": 131,
    "start_time": "2024-10-26T12:29:53.206Z"
   },
   {
    "duration": 13,
    "start_time": "2024-10-26T12:29:53.338Z"
   },
   {
    "duration": 35,
    "start_time": "2024-10-26T12:29:53.352Z"
   },
   {
    "duration": 24,
    "start_time": "2024-10-26T12:29:53.389Z"
   },
   {
    "duration": 42,
    "start_time": "2024-10-26T12:29:53.414Z"
   },
   {
    "duration": 7,
    "start_time": "2024-10-26T12:29:53.458Z"
   },
   {
    "duration": 35,
    "start_time": "2024-10-26T12:29:53.467Z"
   },
   {
    "duration": 297,
    "start_time": "2024-10-26T12:29:53.503Z"
   },
   {
    "duration": 12,
    "start_time": "2024-10-26T12:29:53.801Z"
   },
   {
    "duration": 45,
    "start_time": "2024-10-26T12:29:53.815Z"
   },
   {
    "duration": 34,
    "start_time": "2024-10-26T12:29:53.861Z"
   },
   {
    "duration": 56,
    "start_time": "2024-10-26T12:29:53.898Z"
   },
   {
    "duration": 357,
    "start_time": "2024-10-26T12:29:53.958Z"
   },
   {
    "duration": 340,
    "start_time": "2024-10-26T12:29:54.317Z"
   },
   {
    "duration": 6069,
    "start_time": "2024-10-26T12:29:54.659Z"
   },
   {
    "duration": 1047,
    "start_time": "2024-10-26T12:30:00.729Z"
   },
   {
    "duration": 255,
    "start_time": "2024-10-26T12:30:01.778Z"
   },
   {
    "duration": 260,
    "start_time": "2024-10-26T12:30:02.034Z"
   },
   {
    "duration": 314,
    "start_time": "2024-10-26T12:30:02.295Z"
   },
   {
    "duration": 304,
    "start_time": "2024-10-26T12:30:02.610Z"
   },
   {
    "duration": 275,
    "start_time": "2024-10-26T12:30:02.916Z"
   },
   {
    "duration": 219,
    "start_time": "2024-10-26T12:30:03.193Z"
   },
   {
    "duration": 2031,
    "start_time": "2024-10-26T12:30:03.414Z"
   },
   {
    "duration": 1279,
    "start_time": "2024-10-26T14:16:06.822Z"
   },
   {
    "duration": 91,
    "start_time": "2024-10-26T14:16:08.103Z"
   },
   {
    "duration": 14,
    "start_time": "2024-10-26T14:16:08.196Z"
   },
   {
    "duration": 16,
    "start_time": "2024-10-26T14:16:08.212Z"
   },
   {
    "duration": 32,
    "start_time": "2024-10-26T14:16:08.230Z"
   },
   {
    "duration": 80,
    "start_time": "2024-10-26T14:16:08.264Z"
   },
   {
    "duration": 6,
    "start_time": "2024-10-26T14:16:08.346Z"
   },
   {
    "duration": 34,
    "start_time": "2024-10-26T14:16:08.354Z"
   },
   {
    "duration": 295,
    "start_time": "2024-10-26T14:16:08.389Z"
   },
   {
    "duration": 11,
    "start_time": "2024-10-26T14:16:08.686Z"
   },
   {
    "duration": 47,
    "start_time": "2024-10-26T14:16:08.698Z"
   },
   {
    "duration": 22,
    "start_time": "2024-10-26T14:16:08.746Z"
   },
   {
    "duration": 35,
    "start_time": "2024-10-26T14:16:08.769Z"
   },
   {
    "duration": 363,
    "start_time": "2024-10-26T14:16:08.806Z"
   },
   {
    "duration": 346,
    "start_time": "2024-10-26T14:16:09.171Z"
   },
   {
    "duration": 6159,
    "start_time": "2024-10-26T14:16:09.518Z"
   },
   {
    "duration": 1037,
    "start_time": "2024-10-26T14:16:15.679Z"
   },
   {
    "duration": 312,
    "start_time": "2024-10-26T14:16:16.719Z"
   },
   {
    "duration": 261,
    "start_time": "2024-10-26T14:16:17.033Z"
   },
   {
    "duration": 291,
    "start_time": "2024-10-26T14:16:17.296Z"
   },
   {
    "duration": 251,
    "start_time": "2024-10-26T14:16:17.589Z"
   },
   {
    "duration": 261,
    "start_time": "2024-10-26T14:16:17.842Z"
   },
   {
    "duration": 221,
    "start_time": "2024-10-26T14:16:18.104Z"
   },
   {
    "duration": 1950,
    "start_time": "2024-10-26T14:16:18.327Z"
   },
   {
    "duration": 136,
    "start_time": "2024-10-26T14:16:20.278Z"
   },
   {
    "duration": 13,
    "start_time": "2024-10-26T14:16:56.844Z"
   },
   {
    "duration": 11,
    "start_time": "2024-10-26T14:17:03.349Z"
   },
   {
    "duration": 7,
    "start_time": "2024-10-26T14:17:11.239Z"
   },
   {
    "duration": 66,
    "start_time": "2024-10-26T14:18:59.926Z"
   },
   {
    "duration": 8,
    "start_time": "2024-10-26T14:20:37.795Z"
   },
   {
    "duration": 6,
    "start_time": "2024-10-26T14:20:55.324Z"
   },
   {
    "duration": 6,
    "start_time": "2024-10-26T14:30:46.950Z"
   },
   {
    "duration": 8,
    "start_time": "2024-10-26T14:31:21.452Z"
   },
   {
    "duration": 7,
    "start_time": "2024-10-26T14:35:56.703Z"
   },
   {
    "duration": 7,
    "start_time": "2024-10-26T14:37:11.887Z"
   },
   {
    "duration": 8,
    "start_time": "2024-10-26T14:37:25.596Z"
   },
   {
    "duration": 7,
    "start_time": "2024-10-26T14:40:01.395Z"
   },
   {
    "duration": 6,
    "start_time": "2024-10-26T14:40:58.797Z"
   },
   {
    "duration": 5,
    "start_time": "2024-10-26T14:41:03.549Z"
   },
   {
    "duration": 6,
    "start_time": "2024-10-26T14:46:33.442Z"
   },
   {
    "duration": 6,
    "start_time": "2024-10-26T14:47:07.090Z"
   },
   {
    "duration": 5,
    "start_time": "2024-10-26T14:47:14.023Z"
   },
   {
    "duration": 5,
    "start_time": "2024-10-26T14:47:21.323Z"
   },
   {
    "duration": 6,
    "start_time": "2024-10-26T14:47:52.660Z"
   },
   {
    "duration": 6,
    "start_time": "2024-10-26T14:48:19.585Z"
   },
   {
    "duration": 9,
    "start_time": "2024-10-26T15:10:11.219Z"
   },
   {
    "duration": 1421,
    "start_time": "2024-10-26T16:42:05.806Z"
   },
   {
    "duration": 85,
    "start_time": "2024-10-26T16:42:07.229Z"
   },
   {
    "duration": 14,
    "start_time": "2024-10-26T16:42:07.316Z"
   },
   {
    "duration": 32,
    "start_time": "2024-10-26T16:42:07.332Z"
   },
   {
    "duration": 5,
    "start_time": "2024-10-26T16:42:07.366Z"
   },
   {
    "duration": 28,
    "start_time": "2024-10-26T16:42:07.373Z"
   },
   {
    "duration": 7,
    "start_time": "2024-10-26T16:42:07.402Z"
   },
   {
    "duration": 45,
    "start_time": "2024-10-26T16:42:07.410Z"
   },
   {
    "duration": 290,
    "start_time": "2024-10-26T16:42:07.457Z"
   },
   {
    "duration": 12,
    "start_time": "2024-10-26T16:42:07.749Z"
   },
   {
    "duration": 6,
    "start_time": "2024-10-26T16:42:07.763Z"
   },
   {
    "duration": 21,
    "start_time": "2024-10-26T16:42:07.771Z"
   },
   {
    "duration": 63,
    "start_time": "2024-10-26T16:42:07.794Z"
   },
   {
    "duration": 338,
    "start_time": "2024-10-26T16:42:07.859Z"
   },
   {
    "duration": 343,
    "start_time": "2024-10-26T16:42:08.199Z"
   },
   {
    "duration": 5961,
    "start_time": "2024-10-26T16:42:08.544Z"
   },
   {
    "duration": 1022,
    "start_time": "2024-10-26T16:42:14.506Z"
   },
   {
    "duration": 337,
    "start_time": "2024-10-26T16:42:15.530Z"
   },
   {
    "duration": 235,
    "start_time": "2024-10-26T16:42:15.869Z"
   },
   {
    "duration": 312,
    "start_time": "2024-10-26T16:42:16.105Z"
   },
   {
    "duration": 296,
    "start_time": "2024-10-26T16:42:16.419Z"
   },
   {
    "duration": 276,
    "start_time": "2024-10-26T16:42:16.717Z"
   },
   {
    "duration": 221,
    "start_time": "2024-10-26T16:42:16.994Z"
   },
   {
    "duration": 1885,
    "start_time": "2024-10-26T16:42:17.216Z"
   },
   {
    "duration": 5,
    "start_time": "2024-10-26T16:42:19.102Z"
   },
   {
    "duration": 7,
    "start_time": "2024-10-26T16:42:19.109Z"
   },
   {
    "duration": 9,
    "start_time": "2024-10-26T16:42:19.117Z"
   },
   {
    "duration": 6,
    "start_time": "2024-10-26T16:42:19.129Z"
   },
   {
    "duration": 18,
    "start_time": "2024-10-26T16:42:19.137Z"
   },
   {
    "duration": 6,
    "start_time": "2024-10-26T16:42:19.157Z"
   },
   {
    "duration": 6,
    "start_time": "2024-10-26T16:48:28.139Z"
   },
   {
    "duration": 7,
    "start_time": "2024-10-26T16:48:31.426Z"
   },
   {
    "duration": 111,
    "start_time": "2024-10-26T16:49:08.800Z"
   },
   {
    "duration": 5,
    "start_time": "2024-10-26T16:49:24.474Z"
   },
   {
    "duration": 14,
    "start_time": "2024-10-26T16:49:38.356Z"
   },
   {
    "duration": 3,
    "start_time": "2024-10-26T16:49:43.459Z"
   },
   {
    "duration": 14,
    "start_time": "2024-10-26T16:49:48.582Z"
   },
   {
    "duration": 6,
    "start_time": "2024-10-26T16:52:52.035Z"
   },
   {
    "duration": 6,
    "start_time": "2024-10-26T16:53:28.998Z"
   },
   {
    "duration": 7,
    "start_time": "2024-10-26T16:56:01.731Z"
   },
   {
    "duration": 7,
    "start_time": "2024-10-26T16:59:45.870Z"
   },
   {
    "duration": 8,
    "start_time": "2024-10-26T17:01:44.006Z"
   },
   {
    "duration": 8,
    "start_time": "2024-10-26T17:04:19.957Z"
   },
   {
    "duration": 1819,
    "start_time": "2024-10-26T17:42:14.368Z"
   },
   {
    "duration": 9,
    "start_time": "2024-10-26T17:55:31.623Z"
   },
   {
    "duration": 6,
    "start_time": "2024-10-26T18:14:11.451Z"
   },
   {
    "duration": 71,
    "start_time": "2024-10-26T18:38:51.510Z"
   },
   {
    "duration": 62,
    "start_time": "2024-10-26T18:39:04.352Z"
   },
   {
    "duration": 60,
    "start_time": "2024-10-26T18:39:45.483Z"
   },
   {
    "duration": 68,
    "start_time": "2024-10-26T18:40:31.372Z"
   },
   {
    "duration": 63,
    "start_time": "2024-10-26T18:41:02.005Z"
   },
   {
    "duration": 4,
    "start_time": "2024-10-26T18:41:15.100Z"
   },
   {
    "duration": 27,
    "start_time": "2024-10-26T18:41:18.238Z"
   },
   {
    "duration": 25,
    "start_time": "2024-10-26T18:41:39.738Z"
   },
   {
    "duration": 67,
    "start_time": "2024-10-26T18:47:15.827Z"
   },
   {
    "duration": 10,
    "start_time": "2024-10-26T18:47:25.028Z"
   },
   {
    "duration": 5,
    "start_time": "2024-10-26T18:47:38.216Z"
   },
   {
    "duration": 11,
    "start_time": "2024-10-26T18:47:42.241Z"
   },
   {
    "duration": 6,
    "start_time": "2024-10-26T18:48:19.481Z"
   },
   {
    "duration": 62,
    "start_time": "2024-10-26T18:48:33.260Z"
   },
   {
    "duration": 6,
    "start_time": "2024-10-26T18:48:39.936Z"
   },
   {
    "duration": 6,
    "start_time": "2024-10-26T18:48:50.484Z"
   },
   {
    "duration": 6,
    "start_time": "2024-10-26T18:54:01.945Z"
   },
   {
    "duration": 9,
    "start_time": "2024-10-26T19:17:32.265Z"
   },
   {
    "duration": 8,
    "start_time": "2024-10-26T19:17:43.042Z"
   },
   {
    "duration": 6,
    "start_time": "2024-10-26T19:17:55.825Z"
   },
   {
    "duration": 8,
    "start_time": "2024-10-26T19:20:03.030Z"
   },
   {
    "duration": 10,
    "start_time": "2024-10-26T19:20:48.407Z"
   },
   {
    "duration": 12,
    "start_time": "2024-10-26T19:21:56.492Z"
   },
   {
    "duration": 6,
    "start_time": "2024-10-26T19:22:16.008Z"
   },
   {
    "duration": 1273,
    "start_time": "2024-10-26T19:22:52.428Z"
   },
   {
    "duration": 126,
    "start_time": "2024-10-26T19:22:53.703Z"
   },
   {
    "duration": 15,
    "start_time": "2024-10-26T19:22:53.831Z"
   },
   {
    "duration": 18,
    "start_time": "2024-10-26T19:22:53.848Z"
   },
   {
    "duration": 9,
    "start_time": "2024-10-26T19:22:53.868Z"
   },
   {
    "duration": 39,
    "start_time": "2024-10-26T19:22:53.879Z"
   },
   {
    "duration": 58,
    "start_time": "2024-10-26T19:22:53.921Z"
   },
   {
    "duration": 36,
    "start_time": "2024-10-26T19:22:53.982Z"
   },
   {
    "duration": 282,
    "start_time": "2024-10-26T19:22:54.019Z"
   },
   {
    "duration": 10,
    "start_time": "2024-10-26T19:22:54.304Z"
   },
   {
    "duration": 21,
    "start_time": "2024-10-26T19:22:54.316Z"
   },
   {
    "duration": 35,
    "start_time": "2024-10-26T19:22:54.339Z"
   },
   {
    "duration": 35,
    "start_time": "2024-10-26T19:22:54.376Z"
   },
   {
    "duration": 344,
    "start_time": "2024-10-26T19:22:54.412Z"
   },
   {
    "duration": 337,
    "start_time": "2024-10-26T19:22:54.758Z"
   },
   {
    "duration": 5925,
    "start_time": "2024-10-26T19:22:55.096Z"
   },
   {
    "duration": 1032,
    "start_time": "2024-10-26T19:23:01.023Z"
   },
   {
    "duration": 284,
    "start_time": "2024-10-26T19:23:02.057Z"
   },
   {
    "duration": 275,
    "start_time": "2024-10-26T19:23:02.343Z"
   },
   {
    "duration": 314,
    "start_time": "2024-10-26T19:23:02.620Z"
   },
   {
    "duration": 284,
    "start_time": "2024-10-26T19:23:02.936Z"
   },
   {
    "duration": 272,
    "start_time": "2024-10-26T19:23:03.222Z"
   },
   {
    "duration": 221,
    "start_time": "2024-10-26T19:23:03.496Z"
   },
   {
    "duration": 1967,
    "start_time": "2024-10-26T19:23:03.718Z"
   },
   {
    "duration": 7,
    "start_time": "2024-10-26T19:23:05.686Z"
   },
   {
    "duration": 59,
    "start_time": "2024-10-26T19:23:05.694Z"
   },
   {
    "duration": 8,
    "start_time": "2024-10-26T19:23:05.755Z"
   },
   {
    "duration": 6,
    "start_time": "2024-10-26T19:23:05.767Z"
   },
   {
    "duration": 7,
    "start_time": "2024-10-26T19:23:05.776Z"
   },
   {
    "duration": 42,
    "start_time": "2024-10-26T19:23:05.785Z"
   },
   {
    "duration": 17,
    "start_time": "2024-10-26T19:23:05.829Z"
   },
   {
    "duration": 26,
    "start_time": "2024-10-26T19:23:05.848Z"
   },
   {
    "duration": 9,
    "start_time": "2024-10-26T19:23:05.876Z"
   },
   {
    "duration": 88,
    "start_time": "2024-10-26T19:23:05.887Z"
   },
   {
    "duration": 9,
    "start_time": "2024-10-26T19:23:05.977Z"
   },
   {
    "duration": 16,
    "start_time": "2024-10-26T19:23:05.988Z"
   },
   {
    "duration": 31,
    "start_time": "2024-10-26T19:23:06.006Z"
   },
   {
    "duration": 47,
    "start_time": "2024-10-26T19:23:06.038Z"
   },
   {
    "duration": 28,
    "start_time": "2024-10-26T19:23:06.087Z"
   },
   {
    "duration": 10,
    "start_time": "2024-10-26T19:23:53.783Z"
   },
   {
    "duration": 8,
    "start_time": "2024-10-26T19:24:25.577Z"
   },
   {
    "duration": 9,
    "start_time": "2024-10-26T19:25:33.192Z"
   },
   {
    "duration": 9,
    "start_time": "2024-10-26T19:26:39.389Z"
   },
   {
    "duration": 9,
    "start_time": "2024-10-26T19:26:48.788Z"
   },
   {
    "duration": 11,
    "start_time": "2024-10-26T19:26:55.413Z"
   },
   {
    "duration": 10,
    "start_time": "2024-10-26T19:27:05.899Z"
   },
   {
    "duration": 12,
    "start_time": "2024-10-26T19:27:14.211Z"
   },
   {
    "duration": 9,
    "start_time": "2024-10-26T19:27:58.016Z"
   },
   {
    "duration": 12,
    "start_time": "2024-10-26T19:28:12.266Z"
   },
   {
    "duration": 12,
    "start_time": "2024-10-26T19:28:31.690Z"
   },
   {
    "duration": 348,
    "start_time": "2024-10-26T19:28:34.045Z"
   },
   {
    "duration": 14,
    "start_time": "2024-10-26T19:29:19.550Z"
   },
   {
    "duration": 13,
    "start_time": "2024-10-26T19:34:15.287Z"
   },
   {
    "duration": 20,
    "start_time": "2024-10-26T19:34:26.953Z"
   },
   {
    "duration": 12,
    "start_time": "2024-10-26T19:36:00.707Z"
   },
   {
    "duration": 17,
    "start_time": "2024-10-26T19:36:11.505Z"
   },
   {
    "duration": 21,
    "start_time": "2024-10-26T19:37:41.350Z"
   },
   {
    "duration": 17,
    "start_time": "2024-10-26T19:37:47.272Z"
   },
   {
    "duration": 14,
    "start_time": "2024-10-26T19:38:11.352Z"
   },
   {
    "duration": 10,
    "start_time": "2024-10-26T19:38:58.990Z"
   },
   {
    "duration": 14,
    "start_time": "2024-10-26T19:39:05.325Z"
   },
   {
    "duration": 15,
    "start_time": "2024-10-26T19:39:55.337Z"
   },
   {
    "duration": 33,
    "start_time": "2024-10-26T19:54:49.813Z"
   },
   {
    "duration": 12,
    "start_time": "2024-10-26T19:55:47.653Z"
   },
   {
    "duration": 14,
    "start_time": "2024-10-26T19:56:39.381Z"
   },
   {
    "duration": 1191,
    "start_time": "2024-10-26T20:47:54.997Z"
   },
   {
    "duration": 138,
    "start_time": "2024-10-26T20:47:56.190Z"
   },
   {
    "duration": 12,
    "start_time": "2024-10-26T20:47:56.330Z"
   },
   {
    "duration": 13,
    "start_time": "2024-10-26T20:47:56.345Z"
   },
   {
    "duration": 42,
    "start_time": "2024-10-26T20:47:56.360Z"
   },
   {
    "duration": 27,
    "start_time": "2024-10-26T20:47:56.404Z"
   },
   {
    "duration": 7,
    "start_time": "2024-10-26T20:47:56.433Z"
   },
   {
    "duration": 34,
    "start_time": "2024-10-26T20:47:56.441Z"
   },
   {
    "duration": 279,
    "start_time": "2024-10-26T20:47:56.477Z"
   },
   {
    "duration": 11,
    "start_time": "2024-10-26T20:47:56.758Z"
   },
   {
    "duration": 5,
    "start_time": "2024-10-26T20:47:56.771Z"
   },
   {
    "duration": 21,
    "start_time": "2024-10-26T20:47:56.777Z"
   },
   {
    "duration": 60,
    "start_time": "2024-10-26T20:47:56.800Z"
   },
   {
    "duration": 346,
    "start_time": "2024-10-26T20:47:56.862Z"
   },
   {
    "duration": 337,
    "start_time": "2024-10-26T20:47:57.210Z"
   },
   {
    "duration": 5980,
    "start_time": "2024-10-26T20:47:57.552Z"
   },
   {
    "duration": 1052,
    "start_time": "2024-10-26T20:48:03.534Z"
   },
   {
    "duration": 258,
    "start_time": "2024-10-26T20:48:04.588Z"
   },
   {
    "duration": 247,
    "start_time": "2024-10-26T20:48:04.852Z"
   },
   {
    "duration": 325,
    "start_time": "2024-10-26T20:48:05.101Z"
   },
   {
    "duration": 295,
    "start_time": "2024-10-26T20:48:05.428Z"
   },
   {
    "duration": 274,
    "start_time": "2024-10-26T20:48:05.725Z"
   },
   {
    "duration": 254,
    "start_time": "2024-10-26T20:48:06.000Z"
   },
   {
    "duration": 1994,
    "start_time": "2024-10-26T20:48:06.255Z"
   },
   {
    "duration": 6,
    "start_time": "2024-10-26T20:48:08.251Z"
   },
   {
    "duration": 19,
    "start_time": "2024-10-26T20:48:08.259Z"
   },
   {
    "duration": 12,
    "start_time": "2024-10-26T20:48:08.280Z"
   },
   {
    "duration": 8,
    "start_time": "2024-10-26T20:48:08.296Z"
   },
   {
    "duration": 7,
    "start_time": "2024-10-26T20:48:08.305Z"
   },
   {
    "duration": 27,
    "start_time": "2024-10-26T20:48:08.313Z"
   },
   {
    "duration": 39,
    "start_time": "2024-10-26T20:48:08.342Z"
   },
   {
    "duration": 11,
    "start_time": "2024-10-26T20:48:08.383Z"
   },
   {
    "duration": 11,
    "start_time": "2024-10-26T20:48:08.395Z"
   },
   {
    "duration": 6,
    "start_time": "2024-10-26T20:48:08.408Z"
   },
   {
    "duration": 7,
    "start_time": "2024-10-26T20:48:08.416Z"
   },
   {
    "duration": 14,
    "start_time": "2024-10-26T20:48:08.425Z"
   },
   {
    "duration": 18,
    "start_time": "2024-10-26T20:48:08.440Z"
   },
   {
    "duration": 13,
    "start_time": "2024-10-26T20:48:08.460Z"
   },
   {
    "duration": 1210,
    "start_time": "2024-10-26T23:29:53.040Z"
   },
   {
    "duration": 287,
    "start_time": "2024-10-26T23:29:54.252Z"
   },
   {
    "duration": 12,
    "start_time": "2024-10-26T23:29:54.540Z"
   },
   {
    "duration": 88,
    "start_time": "2024-10-26T23:29:54.553Z"
   },
   {
    "duration": 22,
    "start_time": "2024-10-26T23:29:54.644Z"
   },
   {
    "duration": 50,
    "start_time": "2024-10-26T23:29:54.668Z"
   },
   {
    "duration": 19,
    "start_time": "2024-10-26T23:29:54.720Z"
   },
   {
    "duration": 34,
    "start_time": "2024-10-26T23:29:54.740Z"
   },
   {
    "duration": 227,
    "start_time": "2024-10-26T23:29:54.775Z"
   },
   {
    "duration": 10,
    "start_time": "2024-10-26T23:29:55.003Z"
   },
   {
    "duration": 31,
    "start_time": "2024-10-26T23:29:55.014Z"
   },
   {
    "duration": 31,
    "start_time": "2024-10-26T23:29:55.046Z"
   },
   {
    "duration": 26,
    "start_time": "2024-10-26T23:29:55.078Z"
   },
   {
    "duration": 255,
    "start_time": "2024-10-26T23:29:55.106Z"
   },
   {
    "duration": 262,
    "start_time": "2024-10-26T23:29:55.362Z"
   },
   {
    "duration": 4445,
    "start_time": "2024-10-26T23:29:55.625Z"
   },
   {
    "duration": 799,
    "start_time": "2024-10-26T23:30:00.071Z"
   },
   {
    "duration": 307,
    "start_time": "2024-10-26T23:30:00.872Z"
   },
   {
    "duration": 266,
    "start_time": "2024-10-26T23:30:01.181Z"
   },
   {
    "duration": 275,
    "start_time": "2024-10-26T23:30:01.448Z"
   },
   {
    "duration": 242,
    "start_time": "2024-10-26T23:30:01.724Z"
   },
   {
    "duration": 194,
    "start_time": "2024-10-26T23:30:01.967Z"
   },
   {
    "duration": 271,
    "start_time": "2024-10-26T23:30:02.163Z"
   },
   {
    "duration": 1494,
    "start_time": "2024-10-26T23:30:02.435Z"
   },
   {
    "duration": 5,
    "start_time": "2024-10-26T23:30:03.931Z"
   },
   {
    "duration": 54,
    "start_time": "2024-10-26T23:30:03.937Z"
   },
   {
    "duration": 34,
    "start_time": "2024-10-26T23:30:03.992Z"
   },
   {
    "duration": 26,
    "start_time": "2024-10-26T23:30:04.027Z"
   },
   {
    "duration": 48,
    "start_time": "2024-10-26T23:30:04.054Z"
   },
   {
    "duration": 34,
    "start_time": "2024-10-26T23:30:04.103Z"
   },
   {
    "duration": 79,
    "start_time": "2024-10-26T23:30:04.139Z"
   },
   {
    "duration": 22,
    "start_time": "2024-10-26T23:30:04.220Z"
   },
   {
    "duration": 7,
    "start_time": "2024-10-26T23:30:04.244Z"
   },
   {
    "duration": 50,
    "start_time": "2024-10-26T23:30:04.253Z"
   },
   {
    "duration": 14,
    "start_time": "2024-10-26T23:30:04.304Z"
   },
   {
    "duration": 20,
    "start_time": "2024-10-26T23:30:04.319Z"
   },
   {
    "duration": 22,
    "start_time": "2024-10-26T23:30:04.341Z"
   },
   {
    "duration": 32,
    "start_time": "2024-10-26T23:30:04.365Z"
   },
   {
    "duration": 44,
    "start_time": "2024-10-27T07:32:40.286Z"
   },
   {
    "duration": 1245,
    "start_time": "2024-10-27T07:32:48.730Z"
   },
   {
    "duration": 72,
    "start_time": "2024-10-27T07:32:50.661Z"
   },
   {
    "duration": 14,
    "start_time": "2024-10-27T07:32:52.573Z"
   },
   {
    "duration": 11,
    "start_time": "2024-10-27T07:32:54.768Z"
   },
   {
    "duration": 27,
    "start_time": "2024-10-27T07:32:57.631Z"
   },
   {
    "duration": 6,
    "start_time": "2024-10-27T07:33:00.197Z"
   },
   {
    "duration": 20,
    "start_time": "2024-10-27T07:33:02.757Z"
   },
   {
    "duration": 248,
    "start_time": "2024-10-27T07:33:05.002Z"
   },
   {
    "duration": 10,
    "start_time": "2024-10-27T07:33:07.844Z"
   },
   {
    "duration": 6,
    "start_time": "2024-10-27T07:33:09.155Z"
   },
   {
    "duration": 16,
    "start_time": "2024-10-27T07:33:10.949Z"
   },
   {
    "duration": 27,
    "start_time": "2024-10-27T07:33:14.289Z"
   },
   {
    "duration": 257,
    "start_time": "2024-10-27T07:33:19.809Z"
   },
   {
    "duration": 268,
    "start_time": "2024-10-27T07:33:22.672Z"
   },
   {
    "duration": 4415,
    "start_time": "2024-10-27T07:33:26.167Z"
   },
   {
    "duration": 746,
    "start_time": "2024-10-27T07:33:30.584Z"
   },
   {
    "duration": 263,
    "start_time": "2024-10-27T07:33:31.331Z"
   },
   {
    "duration": 271,
    "start_time": "2024-10-27T07:33:33.986Z"
   },
   {
    "duration": 232,
    "start_time": "2024-10-27T07:33:36.250Z"
   },
   {
    "duration": 16,
    "start_time": "2024-10-27T07:33:39.255Z"
   },
   {
    "duration": 228,
    "start_time": "2024-10-27T07:35:45.730Z"
   },
   {
    "duration": 1036,
    "start_time": "2024-10-27T08:36:36.333Z"
   },
   {
    "duration": 79,
    "start_time": "2024-10-27T08:36:37.371Z"
   },
   {
    "duration": 10,
    "start_time": "2024-10-27T08:36:37.451Z"
   },
   {
    "duration": 24,
    "start_time": "2024-10-27T08:36:37.463Z"
   },
   {
    "duration": 17,
    "start_time": "2024-10-27T08:36:37.488Z"
   },
   {
    "duration": 76,
    "start_time": "2024-10-27T08:36:37.506Z"
   },
   {
    "duration": 13,
    "start_time": "2024-10-27T08:36:37.584Z"
   },
   {
    "duration": 24,
    "start_time": "2024-10-27T08:36:37.598Z"
   },
   {
    "duration": 224,
    "start_time": "2024-10-27T08:36:37.623Z"
   },
   {
    "duration": 9,
    "start_time": "2024-10-27T08:36:37.849Z"
   },
   {
    "duration": 9,
    "start_time": "2024-10-27T08:36:37.860Z"
   },
   {
    "duration": 79,
    "start_time": "2024-10-27T08:36:37.871Z"
   },
   {
    "duration": 26,
    "start_time": "2024-10-27T08:36:37.951Z"
   },
   {
    "duration": 350,
    "start_time": "2024-10-27T08:36:37.978Z"
   },
   {
    "duration": 342,
    "start_time": "2024-10-27T08:36:38.329Z"
   },
   {
    "duration": 4551,
    "start_time": "2024-10-27T08:36:38.673Z"
   },
   {
    "duration": 797,
    "start_time": "2024-10-27T08:36:43.226Z"
   },
   {
    "duration": 232,
    "start_time": "2024-10-27T08:36:44.024Z"
   },
   {
    "duration": 192,
    "start_time": "2024-10-27T08:36:44.258Z"
   },
   {
    "duration": 306,
    "start_time": "2024-10-27T08:36:44.452Z"
   },
   {
    "duration": 251,
    "start_time": "2024-10-27T08:36:44.760Z"
   },
   {
    "duration": 13,
    "start_time": "2024-10-27T08:36:45.012Z"
   },
   {
    "duration": 239,
    "start_time": "2024-10-27T08:36:45.027Z"
   },
   {
    "duration": 229,
    "start_time": "2024-10-27T08:36:45.306Z"
   },
   {
    "duration": 212,
    "start_time": "2024-10-27T08:36:45.536Z"
   },
   {
    "duration": 1484,
    "start_time": "2024-10-27T08:36:45.749Z"
   },
   {
    "duration": 5,
    "start_time": "2024-10-27T08:36:47.235Z"
   },
   {
    "duration": 13,
    "start_time": "2024-10-27T08:36:47.243Z"
   },
   {
    "duration": 16,
    "start_time": "2024-10-27T08:36:47.257Z"
   },
   {
    "duration": 9,
    "start_time": "2024-10-27T08:36:47.275Z"
   },
   {
    "duration": 11,
    "start_time": "2024-10-27T08:36:47.285Z"
   },
   {
    "duration": 12,
    "start_time": "2024-10-27T08:36:47.298Z"
   },
   {
    "duration": 7,
    "start_time": "2024-10-27T08:36:47.312Z"
   },
   {
    "duration": 6,
    "start_time": "2024-10-27T08:36:47.320Z"
   },
   {
    "duration": 6,
    "start_time": "2024-10-27T08:36:47.328Z"
   },
   {
    "duration": 12,
    "start_time": "2024-10-27T08:36:47.336Z"
   },
   {
    "duration": 10,
    "start_time": "2024-10-27T08:36:47.349Z"
   },
   {
    "duration": 27,
    "start_time": "2024-10-27T08:36:47.360Z"
   },
   {
    "duration": 28,
    "start_time": "2024-10-27T08:36:47.389Z"
   },
   {
    "duration": 4,
    "start_time": "2024-10-27T08:38:33.123Z"
   },
   {
    "duration": 3,
    "start_time": "2024-10-27T08:38:42.990Z"
   },
   {
    "duration": 215,
    "start_time": "2024-10-27T08:39:42.234Z"
   },
   {
    "duration": 301,
    "start_time": "2024-10-27T08:40:07.538Z"
   },
   {
    "duration": 301,
    "start_time": "2024-10-27T08:40:30.475Z"
   },
   {
    "duration": 4,
    "start_time": "2024-10-27T08:40:52.858Z"
   },
   {
    "duration": 76,
    "start_time": "2024-10-27T08:40:54.396Z"
   },
   {
    "duration": 11,
    "start_time": "2024-10-27T08:40:59.632Z"
   },
   {
    "duration": 4,
    "start_time": "2024-10-27T08:41:02.861Z"
   },
   {
    "duration": 18,
    "start_time": "2024-10-27T08:41:05.042Z"
   },
   {
    "duration": 5,
    "start_time": "2024-10-27T08:41:07.041Z"
   },
   {
    "duration": 22,
    "start_time": "2024-10-27T08:41:08.900Z"
   },
   {
    "duration": 201,
    "start_time": "2024-10-27T08:41:11.003Z"
   },
   {
    "duration": 9,
    "start_time": "2024-10-27T08:41:37.306Z"
   },
   {
    "duration": 5,
    "start_time": "2024-10-27T08:41:38.877Z"
   },
   {
    "duration": 17,
    "start_time": "2024-10-27T08:41:40.500Z"
   },
   {
    "duration": 36,
    "start_time": "2024-10-27T08:41:43.591Z"
   },
   {
    "duration": 309,
    "start_time": "2024-10-27T08:41:47.722Z"
   },
   {
    "duration": 323,
    "start_time": "2024-10-27T08:41:55.919Z"
   },
   {
    "duration": 1311,
    "start_time": "2024-10-27T08:51:46.297Z"
   },
   {
    "duration": 1025,
    "start_time": "2024-10-27T09:06:09.720Z"
   },
   {
    "duration": 88,
    "start_time": "2024-10-27T09:06:10.746Z"
   },
   {
    "duration": 10,
    "start_time": "2024-10-27T09:06:10.836Z"
   },
   {
    "duration": 10,
    "start_time": "2024-10-27T09:06:10.848Z"
   },
   {
    "duration": 10,
    "start_time": "2024-10-27T09:06:10.859Z"
   },
   {
    "duration": 21,
    "start_time": "2024-10-27T09:06:10.870Z"
   },
   {
    "duration": 15,
    "start_time": "2024-10-27T09:06:10.893Z"
   },
   {
    "duration": 25,
    "start_time": "2024-10-27T09:06:10.910Z"
   },
   {
    "duration": 213,
    "start_time": "2024-10-27T09:06:10.937Z"
   },
   {
    "duration": 9,
    "start_time": "2024-10-27T09:06:11.152Z"
   },
   {
    "duration": 53,
    "start_time": "2024-10-27T09:06:11.162Z"
   },
   {
    "duration": 21,
    "start_time": "2024-10-27T09:06:11.217Z"
   },
   {
    "duration": 39,
    "start_time": "2024-10-27T09:06:11.239Z"
   },
   {
    "duration": 257,
    "start_time": "2024-10-27T09:06:11.279Z"
   },
   {
    "duration": 313,
    "start_time": "2024-10-27T09:06:11.537Z"
   },
   {
    "duration": 4420,
    "start_time": "2024-10-27T09:06:11.851Z"
   },
   {
    "duration": 806,
    "start_time": "2024-10-27T09:06:16.272Z"
   },
   {
    "duration": 263,
    "start_time": "2024-10-27T09:06:17.080Z"
   },
   {
    "duration": 203,
    "start_time": "2024-10-27T09:06:17.344Z"
   },
   {
    "duration": 258,
    "start_time": "2024-10-27T09:06:17.549Z"
   },
   {
    "duration": 250,
    "start_time": "2024-10-27T09:06:17.809Z"
   },
   {
    "duration": 13,
    "start_time": "2024-10-27T09:06:18.060Z"
   },
   {
    "duration": 277,
    "start_time": "2024-10-27T09:06:18.074Z"
   },
   {
    "duration": 216,
    "start_time": "2024-10-27T09:06:18.353Z"
   },
   {
    "duration": 189,
    "start_time": "2024-10-27T09:06:18.571Z"
   },
   {
    "duration": 1408,
    "start_time": "2024-10-27T09:06:18.761Z"
   },
   {
    "duration": 5,
    "start_time": "2024-10-27T09:06:20.170Z"
   },
   {
    "duration": 140,
    "start_time": "2024-10-27T09:06:20.178Z"
   },
   {
    "duration": 106,
    "start_time": "2024-10-27T09:06:20.320Z"
   },
   {
    "duration": 92,
    "start_time": "2024-10-27T09:06:20.427Z"
   },
   {
    "duration": 22,
    "start_time": "2024-10-27T09:06:20.520Z"
   },
   {
    "duration": 11,
    "start_time": "2024-10-27T09:06:20.544Z"
   },
   {
    "duration": 6,
    "start_time": "2024-10-27T09:06:20.557Z"
   },
   {
    "duration": 10,
    "start_time": "2024-10-27T09:06:20.565Z"
   },
   {
    "duration": 20,
    "start_time": "2024-10-27T09:06:20.577Z"
   },
   {
    "duration": 39,
    "start_time": "2024-10-27T09:06:20.598Z"
   },
   {
    "duration": 14,
    "start_time": "2024-10-27T09:06:20.639Z"
   },
   {
    "duration": 35,
    "start_time": "2024-10-27T09:06:20.654Z"
   },
   {
    "duration": 11,
    "start_time": "2024-10-27T09:06:20.690Z"
   },
   {
    "duration": 6,
    "start_time": "2024-10-27T09:14:22.868Z"
   },
   {
    "duration": 6,
    "start_time": "2024-10-27T09:14:36.102Z"
   },
   {
    "duration": 4,
    "start_time": "2024-10-27T09:17:14.993Z"
   },
   {
    "duration": 6,
    "start_time": "2024-10-27T09:17:50.344Z"
   },
   {
    "duration": 5,
    "start_time": "2024-10-27T09:17:54.943Z"
   },
   {
    "duration": 98,
    "start_time": "2024-10-27T09:18:09.389Z"
   },
   {
    "duration": 3,
    "start_time": "2024-10-27T09:18:13.965Z"
   },
   {
    "duration": 6,
    "start_time": "2024-10-27T09:23:30.222Z"
   },
   {
    "duration": 8,
    "start_time": "2024-10-27T09:24:27.995Z"
   },
   {
    "duration": 5,
    "start_time": "2024-10-27T09:25:00.130Z"
   },
   {
    "duration": 11,
    "start_time": "2024-10-27T09:25:19.629Z"
   },
   {
    "duration": 10,
    "start_time": "2024-10-27T09:25:36.571Z"
   },
   {
    "duration": 7,
    "start_time": "2024-10-27T09:25:49.259Z"
   },
   {
    "duration": 6,
    "start_time": "2024-10-27T09:26:12.639Z"
   },
   {
    "duration": 5,
    "start_time": "2024-10-27T09:26:28.856Z"
   },
   {
    "duration": 5,
    "start_time": "2024-10-27T09:26:42.501Z"
   },
   {
    "duration": 5,
    "start_time": "2024-10-27T09:27:10.088Z"
   },
   {
    "duration": 5,
    "start_time": "2024-10-27T09:27:23.106Z"
   },
   {
    "duration": 5,
    "start_time": "2024-10-27T09:27:35.908Z"
   },
   {
    "duration": 4,
    "start_time": "2024-10-27T09:27:39.873Z"
   },
   {
    "duration": 5,
    "start_time": "2024-10-27T09:27:56.630Z"
   },
   {
    "duration": 6,
    "start_time": "2024-10-27T09:29:15.932Z"
   },
   {
    "duration": 6,
    "start_time": "2024-10-27T09:29:48.342Z"
   },
   {
    "duration": 6,
    "start_time": "2024-10-27T09:30:22.954Z"
   },
   {
    "duration": 6,
    "start_time": "2024-10-27T09:30:46.328Z"
   },
   {
    "duration": 6,
    "start_time": "2024-10-27T09:33:39.740Z"
   },
   {
    "duration": 7,
    "start_time": "2024-10-27T09:35:09.193Z"
   },
   {
    "duration": 7,
    "start_time": "2024-10-27T09:35:15.006Z"
   },
   {
    "duration": 5,
    "start_time": "2024-10-27T09:36:06.222Z"
   },
   {
    "duration": 8,
    "start_time": "2024-10-27T09:36:10.778Z"
   },
   {
    "duration": 6,
    "start_time": "2024-10-27T09:40:31.294Z"
   },
   {
    "duration": 4,
    "start_time": "2024-10-27T09:41:07.122Z"
   },
   {
    "duration": 6,
    "start_time": "2024-10-27T09:42:09.844Z"
   },
   {
    "duration": 5,
    "start_time": "2024-10-27T09:45:53.855Z"
   },
   {
    "duration": 5,
    "start_time": "2024-10-27T09:52:45.502Z"
   },
   {
    "duration": 6,
    "start_time": "2024-10-27T09:52:59.310Z"
   },
   {
    "duration": 6,
    "start_time": "2024-10-27T09:56:41.982Z"
   },
   {
    "duration": 7,
    "start_time": "2024-10-27T09:56:51.689Z"
   },
   {
    "duration": 5,
    "start_time": "2024-10-27T10:28:52.488Z"
   },
   {
    "duration": 1485,
    "start_time": "2024-10-27T11:44:10.970Z"
   },
   {
    "duration": 178,
    "start_time": "2024-10-27T11:44:12.457Z"
   },
   {
    "duration": 13,
    "start_time": "2024-10-27T11:44:12.636Z"
   },
   {
    "duration": 13,
    "start_time": "2024-10-27T11:44:12.651Z"
   },
   {
    "duration": 6,
    "start_time": "2024-10-27T11:44:12.665Z"
   },
   {
    "duration": 43,
    "start_time": "2024-10-27T11:44:12.673Z"
   },
   {
    "duration": 6,
    "start_time": "2024-10-27T11:44:12.718Z"
   },
   {
    "duration": 27,
    "start_time": "2024-10-27T11:44:12.726Z"
   },
   {
    "duration": 305,
    "start_time": "2024-10-27T11:44:12.754Z"
   },
   {
    "duration": 10,
    "start_time": "2024-10-27T11:44:13.062Z"
   },
   {
    "duration": 5,
    "start_time": "2024-10-27T11:44:13.074Z"
   },
   {
    "duration": 22,
    "start_time": "2024-10-27T11:44:13.097Z"
   },
   {
    "duration": 31,
    "start_time": "2024-10-27T11:44:13.120Z"
   },
   {
    "duration": 330,
    "start_time": "2024-10-27T11:44:13.152Z"
   },
   {
    "duration": 415,
    "start_time": "2024-10-27T11:44:13.484Z"
   },
   {
    "duration": 6035,
    "start_time": "2024-10-27T11:44:13.901Z"
   },
   {
    "duration": 1009,
    "start_time": "2024-10-27T11:44:19.938Z"
   },
   {
    "duration": 337,
    "start_time": "2024-10-27T11:44:20.949Z"
   },
   {
    "duration": 243,
    "start_time": "2024-10-27T11:44:21.288Z"
   },
   {
    "duration": 268,
    "start_time": "2024-10-27T11:44:21.533Z"
   },
   {
    "duration": 261,
    "start_time": "2024-10-27T11:44:21.803Z"
   },
   {
    "duration": 15,
    "start_time": "2024-10-27T11:44:22.066Z"
   },
   {
    "duration": 286,
    "start_time": "2024-10-27T11:44:22.082Z"
   },
   {
    "duration": 268,
    "start_time": "2024-10-27T11:44:22.369Z"
   },
   {
    "duration": 221,
    "start_time": "2024-10-27T11:44:22.639Z"
   },
   {
    "duration": 1737,
    "start_time": "2024-10-27T11:44:22.861Z"
   },
   {
    "duration": 6,
    "start_time": "2024-10-27T11:44:24.601Z"
   },
   {
    "duration": 48,
    "start_time": "2024-10-27T11:44:24.612Z"
   },
   {
    "duration": 8,
    "start_time": "2024-10-27T11:44:24.662Z"
   },
   {
    "duration": 7,
    "start_time": "2024-10-27T11:44:24.672Z"
   },
   {
    "duration": 7,
    "start_time": "2024-10-27T11:44:24.681Z"
   },
   {
    "duration": 9,
    "start_time": "2024-10-27T11:44:24.690Z"
   },
   {
    "duration": 6,
    "start_time": "2024-10-27T11:44:24.701Z"
   },
   {
    "duration": 7,
    "start_time": "2024-10-27T11:44:24.709Z"
   },
   {
    "duration": 7,
    "start_time": "2024-10-27T11:44:24.718Z"
   },
   {
    "duration": 8,
    "start_time": "2024-10-27T11:44:24.727Z"
   },
   {
    "duration": 7,
    "start_time": "2024-10-27T11:44:24.737Z"
   },
   {
    "duration": 16,
    "start_time": "2024-10-27T11:44:24.745Z"
   },
   {
    "duration": 39,
    "start_time": "2024-10-27T11:44:24.762Z"
   },
   {
    "duration": 7,
    "start_time": "2024-10-27T11:44:24.803Z"
   },
   {
    "duration": 56,
    "start_time": "2024-10-27T12:52:30.739Z"
   },
   {
    "duration": 1310,
    "start_time": "2024-10-27T12:52:38.244Z"
   },
   {
    "duration": 138,
    "start_time": "2024-10-27T12:52:39.556Z"
   },
   {
    "duration": 12,
    "start_time": "2024-10-27T12:52:39.695Z"
   },
   {
    "duration": 13,
    "start_time": "2024-10-27T12:52:39.709Z"
   },
   {
    "duration": 7,
    "start_time": "2024-10-27T12:52:39.723Z"
   },
   {
    "duration": 40,
    "start_time": "2024-10-27T12:52:39.732Z"
   },
   {
    "duration": 5,
    "start_time": "2024-10-27T12:52:39.774Z"
   },
   {
    "duration": 41,
    "start_time": "2024-10-27T12:52:39.781Z"
   },
   {
    "duration": 256,
    "start_time": "2024-10-27T12:52:39.823Z"
   },
   {
    "duration": 9,
    "start_time": "2024-10-27T12:52:40.082Z"
   },
   {
    "duration": 5,
    "start_time": "2024-10-27T12:52:40.093Z"
   },
   {
    "duration": 34,
    "start_time": "2024-10-27T12:52:40.099Z"
   },
   {
    "duration": 28,
    "start_time": "2024-10-27T12:52:40.135Z"
   },
   {
    "duration": 316,
    "start_time": "2024-10-27T12:52:40.164Z"
   },
   {
    "duration": 395,
    "start_time": "2024-10-27T12:52:40.482Z"
   },
   {
    "duration": 5544,
    "start_time": "2024-10-27T12:52:40.879Z"
   },
   {
    "duration": 953,
    "start_time": "2024-10-27T12:52:46.424Z"
   },
   {
    "duration": 352,
    "start_time": "2024-10-27T12:52:47.379Z"
   },
   {
    "duration": 229,
    "start_time": "2024-10-27T12:52:47.733Z"
   },
   {
    "duration": 278,
    "start_time": "2024-10-27T12:52:47.963Z"
   },
   {
    "duration": 258,
    "start_time": "2024-10-27T12:52:48.242Z"
   },
   {
    "duration": 21,
    "start_time": "2024-10-27T12:52:48.502Z"
   },
   {
    "duration": 259,
    "start_time": "2024-10-27T12:52:48.525Z"
   },
   {
    "duration": 263,
    "start_time": "2024-10-27T12:52:48.785Z"
   },
   {
    "duration": 216,
    "start_time": "2024-10-27T12:52:49.050Z"
   },
   {
    "duration": 1601,
    "start_time": "2024-10-27T12:52:49.268Z"
   },
   {
    "duration": 5,
    "start_time": "2024-10-27T12:52:50.871Z"
   },
   {
    "duration": 35,
    "start_time": "2024-10-27T12:52:50.879Z"
   },
   {
    "duration": 6,
    "start_time": "2024-10-27T12:52:50.916Z"
   },
   {
    "duration": 6,
    "start_time": "2024-10-27T12:52:50.923Z"
   },
   {
    "duration": 5,
    "start_time": "2024-10-27T12:52:50.930Z"
   },
   {
    "duration": 16,
    "start_time": "2024-10-27T12:52:50.937Z"
   },
   {
    "duration": 6,
    "start_time": "2024-10-27T12:52:50.954Z"
   },
   {
    "duration": 5,
    "start_time": "2024-10-27T12:52:50.961Z"
   },
   {
    "duration": 5,
    "start_time": "2024-10-27T12:52:50.968Z"
   },
   {
    "duration": 9,
    "start_time": "2024-10-27T12:52:50.974Z"
   },
   {
    "duration": 4,
    "start_time": "2024-10-27T12:52:50.984Z"
   },
   {
    "duration": 31,
    "start_time": "2024-10-27T12:52:50.990Z"
   },
   {
    "duration": 6,
    "start_time": "2024-10-27T12:52:51.022Z"
   },
   {
    "duration": 29,
    "start_time": "2024-10-27T12:52:51.029Z"
   },
   {
    "duration": 72,
    "start_time": "2024-10-27T12:55:58.636Z"
   },
   {
    "duration": 595,
    "start_time": "2024-10-27T12:56:04.844Z"
   },
   {
    "duration": 639,
    "start_time": "2024-10-27T12:56:25.982Z"
   },
   {
    "duration": 681,
    "start_time": "2024-10-27T12:56:34.040Z"
   },
   {
    "duration": 632,
    "start_time": "2024-10-27T12:56:38.299Z"
   },
   {
    "duration": 673,
    "start_time": "2024-10-27T12:56:45.875Z"
   },
   {
    "duration": 635,
    "start_time": "2024-10-27T12:56:59.079Z"
   }
  ],
  "kernelspec": {
   "display_name": "Python 3 (ipykernel)",
   "language": "python",
   "name": "python3"
  },
  "language_info": {
   "codemirror_mode": {
    "name": "ipython",
    "version": 3
   },
   "file_extension": ".py",
   "mimetype": "text/x-python",
   "name": "python",
   "nbconvert_exporter": "python",
   "pygments_lexer": "ipython3",
   "version": "3.11.4"
  },
  "toc": {
   "base_numbering": 1,
   "nav_menu": {
    "height": "182.995px",
    "width": "548.993px"
   },
   "number_sections": true,
   "sideBar": true,
   "skip_h1_title": true,
   "title_cell": "Table of Contents",
   "title_sidebar": "Contents",
   "toc_cell": false,
   "toc_position": {
    "height": "calc(100% - 180px)",
    "left": "10px",
    "top": "150px",
    "width": "165px"
   },
   "toc_section_display": true,
   "toc_window_display": true
  }
 },
 "nbformat": 4,
 "nbformat_minor": 2
}
