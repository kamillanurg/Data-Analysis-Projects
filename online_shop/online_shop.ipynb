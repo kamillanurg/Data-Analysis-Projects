{
 "cells": [
  {
   "cell_type": "markdown",
   "metadata": {},
   "source": [
    "# Проверка гипотез для увеличения выручки интернет - магазина."
   ]
  },
  {
   "cell_type": "markdown",
   "metadata": {},
   "source": [
    "В качестве входных данных для исследования получено 9 гипотез, сформулированных совместно с маркетинговым отделом. а также результаты A/B-теста, разбитые на два файла: с заказами и с посещениями. Поставлена задача приоритизировать гипотезы и проанализировать результаты A/B-теста. \n",
    "\n",
    "**Цель исследования:** на основании результатов A/B-теста определить возможные пути увеличения выручки интернет-магазина.\n",
    "\n",
    "**План исследования:**\n",
    "1. Знакомство с данными и подготовка их к дальнейшему анализу\n",
    "2. Приоритизация гипотез\n",
    "3. Анализ результатов A/B-теста\n",
    "4. Общие выводы по проекту"
   ]
  },
  {
   "cell_type": "markdown",
   "metadata": {},
   "source": [
    "## 1. Знакомство с данными и подготовка их к дальнейшему анализу"
   ]
  },
  {
   "cell_type": "markdown",
   "metadata": {},
   "source": [
    "Перед началом исследования загрузим все необходимые для дальнейшей работы библиотеки. "
   ]
  },
  {
   "cell_type": "code",
   "execution_count": 1,
   "metadata": {},
   "outputs": [],
   "source": [
    "import pandas as pd # импортируем pandas для работы с таблицами\n",
    "\n",
    "import numpy as np # импортируем библиотеку numpy для работы с массивами\n",
    "\n",
    "from datetime import datetime, timedelta # импортируем библиотеку datetime для работы с данными \n",
    "#в формате даты и времени\n",
    "\n",
    "from matplotlib import pyplot as plt # импортируем библиотеку pyplot для работы с графиками\n",
    "\n",
    "import seaborn as sns # импортируем библиотеку seaborn для работы с инструментами визуализации\n",
    "\n",
    "from scipy import stats as st # импортируем библиотеку scipy.stats для работы со статистическимм тестами"
   ]
  },
  {
   "cell_type": "markdown",
   "metadata": {},
   "source": [
    "### 1.1 Знакомство с данными"
   ]
  },
  {
   "cell_type": "markdown",
   "metadata": {},
   "source": [
    "Прочитаем данные из предоставленных к анализу файлов:"
   ]
  },
  {
   "cell_type": "code",
   "execution_count": 2,
   "metadata": {},
   "outputs": [],
   "source": [
    "hypothesis = pd.read_csv('hypothesis.csv') # считываем таблицу с гипотезами \n",
    "\n",
    "orders = pd.read_csv('orders.csv') # считываем таблицу с заказами\n",
    "\n",
    "visitors = pd.read_csv('visitors.csv') # считываем таблицу с посещениями"
   ]
  },
  {
   "cell_type": "markdown",
   "metadata": {},
   "source": [
    "Поочередно выгрузим первые несколько строк из каждого массива. Таблицу с гипотезами выгрузим полностью, так как известно, что гипотез всего 9."
   ]
  },
  {
   "cell_type": "code",
   "execution_count": 3,
   "metadata": {
    "scrolled": true
   },
   "outputs": [
    {
     "data": {
      "text/html": [
       "<div>\n",
       "<style scoped>\n",
       "    .dataframe tbody tr th:only-of-type {\n",
       "        vertical-align: middle;\n",
       "    }\n",
       "\n",
       "    .dataframe tbody tr th {\n",
       "        vertical-align: top;\n",
       "    }\n",
       "\n",
       "    .dataframe thead th {\n",
       "        text-align: right;\n",
       "    }\n",
       "</style>\n",
       "<table border=\"1\" class=\"dataframe\">\n",
       "  <thead>\n",
       "    <tr style=\"text-align: right;\">\n",
       "      <th></th>\n",
       "      <th>Hypothesis</th>\n",
       "      <th>Reach</th>\n",
       "      <th>Impact</th>\n",
       "      <th>Confidence</th>\n",
       "      <th>Efforts</th>\n",
       "    </tr>\n",
       "  </thead>\n",
       "  <tbody>\n",
       "    <tr>\n",
       "      <th>0</th>\n",
       "      <td>Добавить два новых канала привлечения трафика, что позволит привлекать на 30% больше пользователей</td>\n",
       "      <td>3</td>\n",
       "      <td>10</td>\n",
       "      <td>8</td>\n",
       "      <td>6</td>\n",
       "    </tr>\n",
       "    <tr>\n",
       "      <th>1</th>\n",
       "      <td>Запустить собственную службу доставки, что сократит срок доставки заказов</td>\n",
       "      <td>2</td>\n",
       "      <td>5</td>\n",
       "      <td>4</td>\n",
       "      <td>10</td>\n",
       "    </tr>\n",
       "    <tr>\n",
       "      <th>2</th>\n",
       "      <td>Добавить блоки рекомендаций товаров на сайт интернет магазина, чтобы повысить конверсию и средний чек заказа</td>\n",
       "      <td>8</td>\n",
       "      <td>3</td>\n",
       "      <td>7</td>\n",
       "      <td>3</td>\n",
       "    </tr>\n",
       "    <tr>\n",
       "      <th>3</th>\n",
       "      <td>Изменить структура категорий, что увеличит конверсию, т.к. пользователи быстрее найдут нужный товар</td>\n",
       "      <td>8</td>\n",
       "      <td>3</td>\n",
       "      <td>3</td>\n",
       "      <td>8</td>\n",
       "    </tr>\n",
       "    <tr>\n",
       "      <th>4</th>\n",
       "      <td>Изменить цвет фона главной страницы, чтобы увеличить вовлеченность пользователей</td>\n",
       "      <td>3</td>\n",
       "      <td>1</td>\n",
       "      <td>1</td>\n",
       "      <td>1</td>\n",
       "    </tr>\n",
       "    <tr>\n",
       "      <th>5</th>\n",
       "      <td>Добавить страницу отзывов клиентов о магазине, что позволит увеличить количество заказов</td>\n",
       "      <td>3</td>\n",
       "      <td>2</td>\n",
       "      <td>2</td>\n",
       "      <td>3</td>\n",
       "    </tr>\n",
       "    <tr>\n",
       "      <th>6</th>\n",
       "      <td>Показать на главной странице баннеры с актуальными акциями и распродажами, чтобы увеличить конверсию</td>\n",
       "      <td>5</td>\n",
       "      <td>3</td>\n",
       "      <td>8</td>\n",
       "      <td>3</td>\n",
       "    </tr>\n",
       "    <tr>\n",
       "      <th>7</th>\n",
       "      <td>Добавить форму подписки на все основные страницы, чтобы собрать базу клиентов для email-рассылок</td>\n",
       "      <td>10</td>\n",
       "      <td>7</td>\n",
       "      <td>8</td>\n",
       "      <td>5</td>\n",
       "    </tr>\n",
       "    <tr>\n",
       "      <th>8</th>\n",
       "      <td>Запустить акцию, дающую скидку на товар в день рождения</td>\n",
       "      <td>1</td>\n",
       "      <td>9</td>\n",
       "      <td>9</td>\n",
       "      <td>5</td>\n",
       "    </tr>\n",
       "  </tbody>\n",
       "</table>\n",
       "</div>"
      ],
      "text/plain": [
       "                                                                                                     Hypothesis  \\\n",
       "0  Добавить два новых канала привлечения трафика, что позволит привлекать на 30% больше пользователей             \n",
       "1  Запустить собственную службу доставки, что сократит срок доставки заказов                                      \n",
       "2  Добавить блоки рекомендаций товаров на сайт интернет магазина, чтобы повысить конверсию и средний чек заказа   \n",
       "3  Изменить структура категорий, что увеличит конверсию, т.к. пользователи быстрее найдут нужный товар            \n",
       "4  Изменить цвет фона главной страницы, чтобы увеличить вовлеченность пользователей                               \n",
       "5  Добавить страницу отзывов клиентов о магазине, что позволит увеличить количество заказов                       \n",
       "6  Показать на главной странице баннеры с актуальными акциями и распродажами, чтобы увеличить конверсию           \n",
       "7  Добавить форму подписки на все основные страницы, чтобы собрать базу клиентов для email-рассылок               \n",
       "8  Запустить акцию, дающую скидку на товар в день рождения                                                        \n",
       "\n",
       "   Reach  Impact  Confidence  Efforts  \n",
       "0  3      10      8           6        \n",
       "1  2      5       4           10       \n",
       "2  8      3       7           3        \n",
       "3  8      3       3           8        \n",
       "4  3      1       1           1        \n",
       "5  3      2       2           3        \n",
       "6  5      3       8           3        \n",
       "7  10     7       8           5        \n",
       "8  1      9       9           5        "
      ]
     },
     "execution_count": 3,
     "metadata": {},
     "output_type": "execute_result"
    }
   ],
   "source": [
    "hypothesis\n",
    "pd.set_option('display.max_colwidth', False)\n",
    "hypothesis"
   ]
  },
  {
   "cell_type": "code",
   "execution_count": 4,
   "metadata": {},
   "outputs": [
    {
     "data": {
      "text/html": [
       "<div>\n",
       "<style scoped>\n",
       "    .dataframe tbody tr th:only-of-type {\n",
       "        vertical-align: middle;\n",
       "    }\n",
       "\n",
       "    .dataframe tbody tr th {\n",
       "        vertical-align: top;\n",
       "    }\n",
       "\n",
       "    .dataframe thead th {\n",
       "        text-align: right;\n",
       "    }\n",
       "</style>\n",
       "<table border=\"1\" class=\"dataframe\">\n",
       "  <thead>\n",
       "    <tr style=\"text-align: right;\">\n",
       "      <th></th>\n",
       "      <th>transactionId</th>\n",
       "      <th>visitorId</th>\n",
       "      <th>date</th>\n",
       "      <th>revenue</th>\n",
       "      <th>group</th>\n",
       "    </tr>\n",
       "  </thead>\n",
       "  <tbody>\n",
       "    <tr>\n",
       "      <th>0</th>\n",
       "      <td>3667963787</td>\n",
       "      <td>3312258926</td>\n",
       "      <td>2019-08-15</td>\n",
       "      <td>1650</td>\n",
       "      <td>B</td>\n",
       "    </tr>\n",
       "    <tr>\n",
       "      <th>1</th>\n",
       "      <td>2804400009</td>\n",
       "      <td>3642806036</td>\n",
       "      <td>2019-08-15</td>\n",
       "      <td>730</td>\n",
       "      <td>B</td>\n",
       "    </tr>\n",
       "    <tr>\n",
       "      <th>2</th>\n",
       "      <td>2961555356</td>\n",
       "      <td>4069496402</td>\n",
       "      <td>2019-08-15</td>\n",
       "      <td>400</td>\n",
       "      <td>A</td>\n",
       "    </tr>\n",
       "    <tr>\n",
       "      <th>3</th>\n",
       "      <td>3797467345</td>\n",
       "      <td>1196621759</td>\n",
       "      <td>2019-08-15</td>\n",
       "      <td>9759</td>\n",
       "      <td>B</td>\n",
       "    </tr>\n",
       "    <tr>\n",
       "      <th>4</th>\n",
       "      <td>2282983706</td>\n",
       "      <td>2322279887</td>\n",
       "      <td>2019-08-15</td>\n",
       "      <td>2308</td>\n",
       "      <td>B</td>\n",
       "    </tr>\n",
       "  </tbody>\n",
       "</table>\n",
       "</div>"
      ],
      "text/plain": [
       "   transactionId   visitorId        date  revenue group\n",
       "0  3667963787     3312258926  2019-08-15  1650     B   \n",
       "1  2804400009     3642806036  2019-08-15  730      B   \n",
       "2  2961555356     4069496402  2019-08-15  400      A   \n",
       "3  3797467345     1196621759  2019-08-15  9759     B   \n",
       "4  2282983706     2322279887  2019-08-15  2308     B   "
      ]
     },
     "execution_count": 4,
     "metadata": {},
     "output_type": "execute_result"
    }
   ],
   "source": [
    "orders.head()"
   ]
  },
  {
   "cell_type": "code",
   "execution_count": 5,
   "metadata": {},
   "outputs": [
    {
     "data": {
      "text/html": [
       "<div>\n",
       "<style scoped>\n",
       "    .dataframe tbody tr th:only-of-type {\n",
       "        vertical-align: middle;\n",
       "    }\n",
       "\n",
       "    .dataframe tbody tr th {\n",
       "        vertical-align: top;\n",
       "    }\n",
       "\n",
       "    .dataframe thead th {\n",
       "        text-align: right;\n",
       "    }\n",
       "</style>\n",
       "<table border=\"1\" class=\"dataframe\">\n",
       "  <thead>\n",
       "    <tr style=\"text-align: right;\">\n",
       "      <th></th>\n",
       "      <th>date</th>\n",
       "      <th>group</th>\n",
       "      <th>visitors</th>\n",
       "    </tr>\n",
       "  </thead>\n",
       "  <tbody>\n",
       "    <tr>\n",
       "      <th>0</th>\n",
       "      <td>2019-08-01</td>\n",
       "      <td>A</td>\n",
       "      <td>719</td>\n",
       "    </tr>\n",
       "    <tr>\n",
       "      <th>1</th>\n",
       "      <td>2019-08-02</td>\n",
       "      <td>A</td>\n",
       "      <td>619</td>\n",
       "    </tr>\n",
       "    <tr>\n",
       "      <th>2</th>\n",
       "      <td>2019-08-03</td>\n",
       "      <td>A</td>\n",
       "      <td>507</td>\n",
       "    </tr>\n",
       "    <tr>\n",
       "      <th>3</th>\n",
       "      <td>2019-08-04</td>\n",
       "      <td>A</td>\n",
       "      <td>717</td>\n",
       "    </tr>\n",
       "    <tr>\n",
       "      <th>4</th>\n",
       "      <td>2019-08-05</td>\n",
       "      <td>A</td>\n",
       "      <td>756</td>\n",
       "    </tr>\n",
       "  </tbody>\n",
       "</table>\n",
       "</div>"
      ],
      "text/plain": [
       "         date group  visitors\n",
       "0  2019-08-01  A     719     \n",
       "1  2019-08-02  A     619     \n",
       "2  2019-08-03  A     507     \n",
       "3  2019-08-04  A     717     \n",
       "4  2019-08-05  A     756     "
      ]
     },
     "execution_count": 5,
     "metadata": {},
     "output_type": "execute_result"
    }
   ],
   "source": [
    "visitors.head()"
   ]
  },
  {
   "cell_type": "markdown",
   "metadata": {},
   "source": [
    "Теперь выведем основные параметры таблиц, с которыми мы познакомились выше."
   ]
  },
  {
   "cell_type": "code",
   "execution_count": 6,
   "metadata": {},
   "outputs": [
    {
     "name": "stdout",
     "output_type": "stream",
     "text": [
      "<class 'pandas.core.frame.DataFrame'>\n",
      "RangeIndex: 9 entries, 0 to 8\n",
      "Data columns (total 5 columns):\n",
      " #   Column      Non-Null Count  Dtype \n",
      "---  ------      --------------  ----- \n",
      " 0   Hypothesis  9 non-null      object\n",
      " 1   Reach       9 non-null      int64 \n",
      " 2   Impact      9 non-null      int64 \n",
      " 3   Confidence  9 non-null      int64 \n",
      " 4   Efforts     9 non-null      int64 \n",
      "dtypes: int64(4), object(1)\n",
      "memory usage: 492.0+ bytes\n"
     ]
    },
    {
     "data": {
      "text/plain": [
       "None"
      ]
     },
     "metadata": {},
     "output_type": "display_data"
    },
    {
     "name": "stdout",
     "output_type": "stream",
     "text": [
      "<class 'pandas.core.frame.DataFrame'>\n",
      "RangeIndex: 1197 entries, 0 to 1196\n",
      "Data columns (total 5 columns):\n",
      " #   Column         Non-Null Count  Dtype \n",
      "---  ------         --------------  ----- \n",
      " 0   transactionId  1197 non-null   int64 \n",
      " 1   visitorId      1197 non-null   int64 \n",
      " 2   date           1197 non-null   object\n",
      " 3   revenue        1197 non-null   int64 \n",
      " 4   group          1197 non-null   object\n",
      "dtypes: int64(3), object(2)\n",
      "memory usage: 46.9+ KB\n"
     ]
    },
    {
     "data": {
      "text/plain": [
       "None"
      ]
     },
     "metadata": {},
     "output_type": "display_data"
    },
    {
     "name": "stdout",
     "output_type": "stream",
     "text": [
      "<class 'pandas.core.frame.DataFrame'>\n",
      "RangeIndex: 62 entries, 0 to 61\n",
      "Data columns (total 3 columns):\n",
      " #   Column    Non-Null Count  Dtype \n",
      "---  ------    --------------  ----- \n",
      " 0   date      62 non-null     object\n",
      " 1   group     62 non-null     object\n",
      " 2   visitors  62 non-null     int64 \n",
      "dtypes: int64(1), object(2)\n",
      "memory usage: 1.6+ KB\n"
     ]
    }
   ],
   "source": [
    "display(hypothesis.info())\n",
    "\n",
    "\n",
    "display(orders.info())\n",
    "\n",
    "\n",
    "visitors.info()\n"
   ]
  },
  {
   "cell_type": "markdown",
   "metadata": {},
   "source": [
    "### 1.2 Приведение оформления датафреймов к единому стилю"
   ]
  },
  {
   "cell_type": "markdown",
   "metadata": {},
   "source": [
    "Заметим, что оформление заголовках в первых двух таблицах (hypothesis и orders) не соответствуют правилам хорошего стиля. Напишем функцию, которая приведет заголовки к нужному виду."
   ]
  },
  {
   "cell_type": "code",
   "execution_count": 7,
   "metadata": {},
   "outputs": [],
   "source": [
    "def good_style(df):\n",
    "    # приводим названия столбцов к нижнему регистру, заменяем пробелы на знак \"_\"\n",
    "    df.columns = df.columns.str.replace('Id', '_id').str.lower()\n",
    "    return df"
   ]
  },
  {
   "cell_type": "markdown",
   "metadata": {},
   "source": [
    "Используем функцию good_style к первым двум датафреймам. Выведем первые несколько строк каждой из таблиц, чтобы проверить работу функции."
   ]
  },
  {
   "cell_type": "code",
   "execution_count": 8,
   "metadata": {},
   "outputs": [
    {
     "data": {
      "text/html": [
       "<div>\n",
       "<style scoped>\n",
       "    .dataframe tbody tr th:only-of-type {\n",
       "        vertical-align: middle;\n",
       "    }\n",
       "\n",
       "    .dataframe tbody tr th {\n",
       "        vertical-align: top;\n",
       "    }\n",
       "\n",
       "    .dataframe thead th {\n",
       "        text-align: right;\n",
       "    }\n",
       "</style>\n",
       "<table border=\"1\" class=\"dataframe\">\n",
       "  <thead>\n",
       "    <tr style=\"text-align: right;\">\n",
       "      <th></th>\n",
       "      <th>hypothesis</th>\n",
       "      <th>reach</th>\n",
       "      <th>impact</th>\n",
       "      <th>confidence</th>\n",
       "      <th>efforts</th>\n",
       "    </tr>\n",
       "  </thead>\n",
       "  <tbody>\n",
       "    <tr>\n",
       "      <th>0</th>\n",
       "      <td>Добавить два новых канала привлечения трафика, что позволит привлекать на 30% больше пользователей</td>\n",
       "      <td>3</td>\n",
       "      <td>10</td>\n",
       "      <td>8</td>\n",
       "      <td>6</td>\n",
       "    </tr>\n",
       "    <tr>\n",
       "      <th>1</th>\n",
       "      <td>Запустить собственную службу доставки, что сократит срок доставки заказов</td>\n",
       "      <td>2</td>\n",
       "      <td>5</td>\n",
       "      <td>4</td>\n",
       "      <td>10</td>\n",
       "    </tr>\n",
       "    <tr>\n",
       "      <th>2</th>\n",
       "      <td>Добавить блоки рекомендаций товаров на сайт интернет магазина, чтобы повысить конверсию и средний чек заказа</td>\n",
       "      <td>8</td>\n",
       "      <td>3</td>\n",
       "      <td>7</td>\n",
       "      <td>3</td>\n",
       "    </tr>\n",
       "    <tr>\n",
       "      <th>3</th>\n",
       "      <td>Изменить структура категорий, что увеличит конверсию, т.к. пользователи быстрее найдут нужный товар</td>\n",
       "      <td>8</td>\n",
       "      <td>3</td>\n",
       "      <td>3</td>\n",
       "      <td>8</td>\n",
       "    </tr>\n",
       "    <tr>\n",
       "      <th>4</th>\n",
       "      <td>Изменить цвет фона главной страницы, чтобы увеличить вовлеченность пользователей</td>\n",
       "      <td>3</td>\n",
       "      <td>1</td>\n",
       "      <td>1</td>\n",
       "      <td>1</td>\n",
       "    </tr>\n",
       "  </tbody>\n",
       "</table>\n",
       "</div>"
      ],
      "text/plain": [
       "                                                                                                     hypothesis  \\\n",
       "0  Добавить два новых канала привлечения трафика, что позволит привлекать на 30% больше пользователей             \n",
       "1  Запустить собственную службу доставки, что сократит срок доставки заказов                                      \n",
       "2  Добавить блоки рекомендаций товаров на сайт интернет магазина, чтобы повысить конверсию и средний чек заказа   \n",
       "3  Изменить структура категорий, что увеличит конверсию, т.к. пользователи быстрее найдут нужный товар            \n",
       "4  Изменить цвет фона главной страницы, чтобы увеличить вовлеченность пользователей                               \n",
       "\n",
       "   reach  impact  confidence  efforts  \n",
       "0  3      10      8           6        \n",
       "1  2      5       4           10       \n",
       "2  8      3       7           3        \n",
       "3  8      3       3           8        \n",
       "4  3      1       1           1        "
      ]
     },
     "metadata": {},
     "output_type": "display_data"
    },
    {
     "data": {
      "text/html": [
       "<div>\n",
       "<style scoped>\n",
       "    .dataframe tbody tr th:only-of-type {\n",
       "        vertical-align: middle;\n",
       "    }\n",
       "\n",
       "    .dataframe tbody tr th {\n",
       "        vertical-align: top;\n",
       "    }\n",
       "\n",
       "    .dataframe thead th {\n",
       "        text-align: right;\n",
       "    }\n",
       "</style>\n",
       "<table border=\"1\" class=\"dataframe\">\n",
       "  <thead>\n",
       "    <tr style=\"text-align: right;\">\n",
       "      <th></th>\n",
       "      <th>transaction_id</th>\n",
       "      <th>visitor_id</th>\n",
       "      <th>date</th>\n",
       "      <th>revenue</th>\n",
       "      <th>group</th>\n",
       "    </tr>\n",
       "  </thead>\n",
       "  <tbody>\n",
       "    <tr>\n",
       "      <th>0</th>\n",
       "      <td>3667963787</td>\n",
       "      <td>3312258926</td>\n",
       "      <td>2019-08-15</td>\n",
       "      <td>1650</td>\n",
       "      <td>B</td>\n",
       "    </tr>\n",
       "    <tr>\n",
       "      <th>1</th>\n",
       "      <td>2804400009</td>\n",
       "      <td>3642806036</td>\n",
       "      <td>2019-08-15</td>\n",
       "      <td>730</td>\n",
       "      <td>B</td>\n",
       "    </tr>\n",
       "    <tr>\n",
       "      <th>2</th>\n",
       "      <td>2961555356</td>\n",
       "      <td>4069496402</td>\n",
       "      <td>2019-08-15</td>\n",
       "      <td>400</td>\n",
       "      <td>A</td>\n",
       "    </tr>\n",
       "    <tr>\n",
       "      <th>3</th>\n",
       "      <td>3797467345</td>\n",
       "      <td>1196621759</td>\n",
       "      <td>2019-08-15</td>\n",
       "      <td>9759</td>\n",
       "      <td>B</td>\n",
       "    </tr>\n",
       "    <tr>\n",
       "      <th>4</th>\n",
       "      <td>2282983706</td>\n",
       "      <td>2322279887</td>\n",
       "      <td>2019-08-15</td>\n",
       "      <td>2308</td>\n",
       "      <td>B</td>\n",
       "    </tr>\n",
       "  </tbody>\n",
       "</table>\n",
       "</div>"
      ],
      "text/plain": [
       "   transaction_id  visitor_id        date  revenue group\n",
       "0  3667963787      3312258926  2019-08-15  1650     B   \n",
       "1  2804400009      3642806036  2019-08-15  730      B   \n",
       "2  2961555356      4069496402  2019-08-15  400      A   \n",
       "3  3797467345      1196621759  2019-08-15  9759     B   \n",
       "4  2282983706      2322279887  2019-08-15  2308     B   "
      ]
     },
     "metadata": {},
     "output_type": "display_data"
    },
    {
     "data": {
      "text/html": [
       "<div>\n",
       "<style scoped>\n",
       "    .dataframe tbody tr th:only-of-type {\n",
       "        vertical-align: middle;\n",
       "    }\n",
       "\n",
       "    .dataframe tbody tr th {\n",
       "        vertical-align: top;\n",
       "    }\n",
       "\n",
       "    .dataframe thead th {\n",
       "        text-align: right;\n",
       "    }\n",
       "</style>\n",
       "<table border=\"1\" class=\"dataframe\">\n",
       "  <thead>\n",
       "    <tr style=\"text-align: right;\">\n",
       "      <th></th>\n",
       "      <th>date</th>\n",
       "      <th>group</th>\n",
       "      <th>visitors</th>\n",
       "    </tr>\n",
       "  </thead>\n",
       "  <tbody>\n",
       "    <tr>\n",
       "      <th>0</th>\n",
       "      <td>2019-08-01</td>\n",
       "      <td>A</td>\n",
       "      <td>719</td>\n",
       "    </tr>\n",
       "    <tr>\n",
       "      <th>1</th>\n",
       "      <td>2019-08-02</td>\n",
       "      <td>A</td>\n",
       "      <td>619</td>\n",
       "    </tr>\n",
       "    <tr>\n",
       "      <th>2</th>\n",
       "      <td>2019-08-03</td>\n",
       "      <td>A</td>\n",
       "      <td>507</td>\n",
       "    </tr>\n",
       "    <tr>\n",
       "      <th>3</th>\n",
       "      <td>2019-08-04</td>\n",
       "      <td>A</td>\n",
       "      <td>717</td>\n",
       "    </tr>\n",
       "    <tr>\n",
       "      <th>4</th>\n",
       "      <td>2019-08-05</td>\n",
       "      <td>A</td>\n",
       "      <td>756</td>\n",
       "    </tr>\n",
       "  </tbody>\n",
       "</table>\n",
       "</div>"
      ],
      "text/plain": [
       "         date group  visitors\n",
       "0  2019-08-01  A     719     \n",
       "1  2019-08-02  A     619     \n",
       "2  2019-08-03  A     507     \n",
       "3  2019-08-04  A     717     \n",
       "4  2019-08-05  A     756     "
      ]
     },
     "metadata": {},
     "output_type": "display_data"
    }
   ],
   "source": [
    "hypothesis = good_style(hypothesis)\n",
    "display(hypothesis.head())\n",
    "\n",
    "\n",
    "orders = good_style(orders)\n",
    "display(orders.head())\n",
    "\n",
    "visitors = good_style(visitors)\n",
    "display(visitors.head())"
   ]
  },
  {
   "cell_type": "markdown",
   "metadata": {},
   "source": [
    "### 1.3 Изменение формата в столбцах с датой"
   ]
  },
  {
   "cell_type": "markdown",
   "metadata": {},
   "source": [
    "Вызов метода info показал, что в таблицах с результатами А/В-теста даты хранятся в формате object. Изменим тип данных в этих столбцах на datetime для удобства при дальнейшем использовании."
   ]
  },
  {
   "cell_type": "code",
   "execution_count": 9,
   "metadata": {},
   "outputs": [],
   "source": [
    "orders['date'] = pd.to_datetime(orders['date'])\n",
    "visitors['date'] = pd.to_datetime(visitors['date'])"
   ]
  },
  {
   "cell_type": "markdown",
   "metadata": {},
   "source": [
    "Повторим вызов метода info, чтобы проверить себя."
   ]
  },
  {
   "cell_type": "code",
   "execution_count": 10,
   "metadata": {},
   "outputs": [
    {
     "name": "stdout",
     "output_type": "stream",
     "text": [
      "<class 'pandas.core.frame.DataFrame'>\n",
      "RangeIndex: 1197 entries, 0 to 1196\n",
      "Data columns (total 5 columns):\n",
      " #   Column          Non-Null Count  Dtype         \n",
      "---  ------          --------------  -----         \n",
      " 0   transaction_id  1197 non-null   int64         \n",
      " 1   visitor_id      1197 non-null   int64         \n",
      " 2   date            1197 non-null   datetime64[ns]\n",
      " 3   revenue         1197 non-null   int64         \n",
      " 4   group           1197 non-null   object        \n",
      "dtypes: datetime64[ns](1), int64(3), object(1)\n",
      "memory usage: 46.9+ KB\n"
     ]
    },
    {
     "data": {
      "text/plain": [
       "None"
      ]
     },
     "metadata": {},
     "output_type": "display_data"
    },
    {
     "name": "stdout",
     "output_type": "stream",
     "text": [
      "<class 'pandas.core.frame.DataFrame'>\n",
      "RangeIndex: 62 entries, 0 to 61\n",
      "Data columns (total 3 columns):\n",
      " #   Column    Non-Null Count  Dtype         \n",
      "---  ------    --------------  -----         \n",
      " 0   date      62 non-null     datetime64[ns]\n",
      " 1   group     62 non-null     object        \n",
      " 2   visitors  62 non-null     int64         \n",
      "dtypes: datetime64[ns](1), int64(1), object(1)\n",
      "memory usage: 1.6+ KB\n"
     ]
    }
   ],
   "source": [
    "display(orders.info())\n",
    "\n",
    "visitors.info()"
   ]
  },
  {
   "cell_type": "markdown",
   "metadata": {},
   "source": [
    "### 1.4 Проверка на наличие пропусков в данных"
   ]
  },
  {
   "cell_type": "markdown",
   "metadata": {},
   "source": [
    "Проверим датафреймы с результатами А/В-теста поочередно на наличие пропусков."
   ]
  },
  {
   "cell_type": "code",
   "execution_count": 11,
   "metadata": {},
   "outputs": [
    {
     "data": {
      "text/plain": [
       "transaction_id    0\n",
       "visitor_id        0\n",
       "date              0\n",
       "revenue           0\n",
       "group             0\n",
       "dtype: int64"
      ]
     },
     "metadata": {},
     "output_type": "display_data"
    },
    {
     "data": {
      "text/plain": [
       "date        0\n",
       "group       0\n",
       "visitors    0\n",
       "dtype: int64"
      ]
     },
     "execution_count": 11,
     "metadata": {},
     "output_type": "execute_result"
    }
   ],
   "source": [
    "display(orders.isna().sum()) # проверяем на наличие пропусков таблицу с данными о заказах\n",
    "\n",
    "visitors.isna().sum() # проверяем на наличие пропусков таблицу с данными о посещениях"
   ]
  },
  {
   "cell_type": "markdown",
   "metadata": {},
   "source": [
    "### 1.5 Проверка на наличие дубликатов в данных"
   ]
  },
  {
   "cell_type": "markdown",
   "metadata": {},
   "source": [
    "Проверим датафреймы с результатами А/В-теста поочередно на наличие явных дубликатов."
   ]
  },
  {
   "cell_type": "code",
   "execution_count": 12,
   "metadata": {},
   "outputs": [
    {
     "data": {
      "text/plain": [
       "0"
      ]
     },
     "metadata": {},
     "output_type": "display_data"
    },
    {
     "data": {
      "text/plain": [
       "0"
      ]
     },
     "execution_count": 12,
     "metadata": {},
     "output_type": "execute_result"
    }
   ],
   "source": [
    "display(orders.duplicated().sum()) # проверяем на наличие дубликатов таблицу данными о заказах\n",
    "\n",
    "visitors.duplicated().sum() # проверяем на наличие дубликатов таблицу с данными о посещениях"
   ]
  },
  {
   "cell_type": "markdown",
   "metadata": {},
   "source": [
    "Дополнительно проверим таблицы orders и visitors на наличие неявных дубликатов."
   ]
  },
  {
   "cell_type": "code",
   "execution_count": 13,
   "metadata": {},
   "outputs": [
    {
     "data": {
      "text/plain": [
       "0"
      ]
     },
     "execution_count": 13,
     "metadata": {},
     "output_type": "execute_result"
    }
   ],
   "source": [
    "# проверяем наличие дубликатов в orders, сравнивая значения в строках по столбцам \n",
    "# с transaction_id и visitor_id \n",
    "orders[['transaction_id', 'visitor_id']].duplicated().sum() "
   ]
  },
  {
   "cell_type": "code",
   "execution_count": 14,
   "metadata": {},
   "outputs": [
    {
     "data": {
      "text/plain": [
       "0"
      ]
     },
     "execution_count": 14,
     "metadata": {},
     "output_type": "execute_result"
    }
   ],
   "source": [
    "# проверяем наличие дубликатов в orders, сравнивая значения в строках по столбцам \n",
    "# с transaction_id и date \n",
    "orders[['transaction_id', 'date']].duplicated().sum() "
   ]
  },
  {
   "cell_type": "code",
   "execution_count": 15,
   "metadata": {},
   "outputs": [
    {
     "data": {
      "text/plain": [
       "0"
      ]
     },
     "execution_count": 15,
     "metadata": {},
     "output_type": "execute_result"
    }
   ],
   "source": [
    "# проверяем наличие дубликатов в visitors, сравнивая значения в строках по столбцам \n",
    "# с date и group\n",
    "visitors[['date', 'group']].duplicated().sum() "
   ]
  },
  {
   "cell_type": "code",
   "execution_count": 16,
   "metadata": {},
   "outputs": [
    {
     "data": {
      "text/plain": [
       "visitor_id\n",
       "5114589       1\n",
       "6958315       1\n",
       "8300375       2\n",
       "11685486      1\n",
       "39475350      1\n",
       "             ..\n",
       "4266935830    2\n",
       "4278982564    1\n",
       "4279090005    1\n",
       "4281247801    1\n",
       "4283872382    1\n",
       "Name: group, Length: 1031, dtype: int64"
      ]
     },
     "execution_count": 16,
     "metadata": {},
     "output_type": "execute_result"
    }
   ],
   "source": [
    "# проверяем, что внутри групп нет повторяющихся пользователей, считая количество уникальных групп \n",
    "# для каждого visitor_id в таблице orders\n",
    "orders.groupby('visitor_id')['group'].nunique()"
   ]
  },
  {
   "cell_type": "markdown",
   "metadata": {},
   "source": [
    "Невооруженным глазом видно, что некоторым visitor_id соответствует несколько уникальных групп. Значит разделение по группам проведено некорректно. Посмотрим, как много пользователей попало в более, чем в одну группу."
   ]
  },
  {
   "cell_type": "code",
   "execution_count": 17,
   "metadata": {},
   "outputs": [
    {
     "data": {
      "text/plain": [
       "58"
      ]
     },
     "execution_count": 17,
     "metadata": {},
     "output_type": "execute_result"
    }
   ],
   "source": [
    "# назовем таблицу с количеством уникальных групп для каждого посетителя unique_groups и \n",
    "# посчитаем, какое количество таких пользовтаелей присутствует в выборке\n",
    "unique_group = orders.groupby('visitor_id')['group'].nunique().reset_index()\n",
    "unique_group.loc[unique_group['group']>1, 'visitor_id'].count()"
   ]
  },
  {
   "cell_type": "markdown",
   "metadata": {},
   "source": [
    "Посчитаем, сколько заказов принадлежит посетителям с visitor_id из получившегося у нас списка. "
   ]
  },
  {
   "cell_type": "code",
   "execution_count": 18,
   "metadata": {},
   "outputs": [
    {
     "data": {
      "text/plain": [
       "181"
      ]
     },
     "execution_count": 18,
     "metadata": {},
     "output_type": "execute_result"
    }
   ],
   "source": [
    "orders.loc[orders['visitor_id'].isin(unique_group.loc[unique_group['group']>1,\\\n",
    "        'visitor_id']), 'transaction_id'].count()"
   ]
  },
  {
   "cell_type": "markdown",
   "metadata": {},
   "source": [
    "Всего в таблице orders 1197 строк. Таким образом, количество строк с заказами пользователей, принадлежность которых к определенной группе под вопросом, составляет около 15% от общего количества строк в массиве. Это критическое значение. Удаление такого большого количества строк серьезно исказит результаты анализа. \n",
    "\n",
    "Кроме того, для проверки гипотез будут использоваться две таблицы с данными о посетителях - orders и visitors. Таблица visitors также содержит данные о пользователях, которые относятся сразу к обеим группам. Но так как данные в visitors агрегированные, удалить оттуда информацию о пересекающихся посетителях нельзя. \n",
    "\n",
    "По перечисленным выше причинам, считаем удаление пользователей, не определенных в конкретную группу, нецелесообразным."
   ]
  },
  {
   "cell_type": "markdown",
   "metadata": {},
   "source": [
    "### Вывод\n",
    "\n",
    "При знакомстве с данными было выявлено, что:\n",
    "\n",
    "- оформление исходных таблиц не соответсвует правилам хорошего стиля;\n",
    "- столбцы с информацией о времени содержат данные в неподходящем для дальнейшей работы формате object.\n",
    "\n",
    "Пропусков и дубликатов в исходных датафреймах обнаружено не было. Однако было выявлено, что некоторые посетители ошибочно определены одновременно в две группы. Так как количество строк с данными о заказах этих посетителей составляет 15% от общего количества строк в массиве orders, а так же в связи с тем, что в таблице visitors также есть данные об этих пользователях, и их нельзя оттуда выделить, было принято решение не удалять информацию из orders.\n",
    "\n",
    "Таким образом, в ходе предобработки данных перед исследованием, были произведены следующие преобразования:\n",
    "\n",
    "- наименования столбцов в исходных датафреймах приведены к правилам хорошего стиля;\n",
    "- столбцы с информацией о времени были приведены к формату datetime, удобному для дальнейшего использования."
   ]
  },
  {
   "cell_type": "markdown",
   "metadata": {},
   "source": [
    "## 2. Приоритизация гипотез"
   ]
  },
  {
   "cell_type": "markdown",
   "metadata": {},
   "source": [
    "Вернемся к нашей первой таблице hypothesis и еще раз посмотрим на информацию, представленную там:"
   ]
  },
  {
   "cell_type": "code",
   "execution_count": 19,
   "metadata": {},
   "outputs": [
    {
     "data": {
      "text/html": [
       "<div>\n",
       "<style scoped>\n",
       "    .dataframe tbody tr th:only-of-type {\n",
       "        vertical-align: middle;\n",
       "    }\n",
       "\n",
       "    .dataframe tbody tr th {\n",
       "        vertical-align: top;\n",
       "    }\n",
       "\n",
       "    .dataframe thead th {\n",
       "        text-align: right;\n",
       "    }\n",
       "</style>\n",
       "<table border=\"1\" class=\"dataframe\">\n",
       "  <thead>\n",
       "    <tr style=\"text-align: right;\">\n",
       "      <th></th>\n",
       "      <th>hypothesis</th>\n",
       "      <th>reach</th>\n",
       "      <th>impact</th>\n",
       "      <th>confidence</th>\n",
       "      <th>efforts</th>\n",
       "    </tr>\n",
       "  </thead>\n",
       "  <tbody>\n",
       "    <tr>\n",
       "      <th>0</th>\n",
       "      <td>Добавить два новых канала привлечения трафика, что позволит привлекать на 30% больше пользователей</td>\n",
       "      <td>3</td>\n",
       "      <td>10</td>\n",
       "      <td>8</td>\n",
       "      <td>6</td>\n",
       "    </tr>\n",
       "    <tr>\n",
       "      <th>1</th>\n",
       "      <td>Запустить собственную службу доставки, что сократит срок доставки заказов</td>\n",
       "      <td>2</td>\n",
       "      <td>5</td>\n",
       "      <td>4</td>\n",
       "      <td>10</td>\n",
       "    </tr>\n",
       "    <tr>\n",
       "      <th>2</th>\n",
       "      <td>Добавить блоки рекомендаций товаров на сайт интернет магазина, чтобы повысить конверсию и средний чек заказа</td>\n",
       "      <td>8</td>\n",
       "      <td>3</td>\n",
       "      <td>7</td>\n",
       "      <td>3</td>\n",
       "    </tr>\n",
       "    <tr>\n",
       "      <th>3</th>\n",
       "      <td>Изменить структура категорий, что увеличит конверсию, т.к. пользователи быстрее найдут нужный товар</td>\n",
       "      <td>8</td>\n",
       "      <td>3</td>\n",
       "      <td>3</td>\n",
       "      <td>8</td>\n",
       "    </tr>\n",
       "    <tr>\n",
       "      <th>4</th>\n",
       "      <td>Изменить цвет фона главной страницы, чтобы увеличить вовлеченность пользователей</td>\n",
       "      <td>3</td>\n",
       "      <td>1</td>\n",
       "      <td>1</td>\n",
       "      <td>1</td>\n",
       "    </tr>\n",
       "    <tr>\n",
       "      <th>5</th>\n",
       "      <td>Добавить страницу отзывов клиентов о магазине, что позволит увеличить количество заказов</td>\n",
       "      <td>3</td>\n",
       "      <td>2</td>\n",
       "      <td>2</td>\n",
       "      <td>3</td>\n",
       "    </tr>\n",
       "    <tr>\n",
       "      <th>6</th>\n",
       "      <td>Показать на главной странице баннеры с актуальными акциями и распродажами, чтобы увеличить конверсию</td>\n",
       "      <td>5</td>\n",
       "      <td>3</td>\n",
       "      <td>8</td>\n",
       "      <td>3</td>\n",
       "    </tr>\n",
       "    <tr>\n",
       "      <th>7</th>\n",
       "      <td>Добавить форму подписки на все основные страницы, чтобы собрать базу клиентов для email-рассылок</td>\n",
       "      <td>10</td>\n",
       "      <td>7</td>\n",
       "      <td>8</td>\n",
       "      <td>5</td>\n",
       "    </tr>\n",
       "    <tr>\n",
       "      <th>8</th>\n",
       "      <td>Запустить акцию, дающую скидку на товар в день рождения</td>\n",
       "      <td>1</td>\n",
       "      <td>9</td>\n",
       "      <td>9</td>\n",
       "      <td>5</td>\n",
       "    </tr>\n",
       "  </tbody>\n",
       "</table>\n",
       "</div>"
      ],
      "text/plain": [
       "                                                                                                     hypothesis  \\\n",
       "0  Добавить два новых канала привлечения трафика, что позволит привлекать на 30% больше пользователей             \n",
       "1  Запустить собственную службу доставки, что сократит срок доставки заказов                                      \n",
       "2  Добавить блоки рекомендаций товаров на сайт интернет магазина, чтобы повысить конверсию и средний чек заказа   \n",
       "3  Изменить структура категорий, что увеличит конверсию, т.к. пользователи быстрее найдут нужный товар            \n",
       "4  Изменить цвет фона главной страницы, чтобы увеличить вовлеченность пользователей                               \n",
       "5  Добавить страницу отзывов клиентов о магазине, что позволит увеличить количество заказов                       \n",
       "6  Показать на главной странице баннеры с актуальными акциями и распродажами, чтобы увеличить конверсию           \n",
       "7  Добавить форму подписки на все основные страницы, чтобы собрать базу клиентов для email-рассылок               \n",
       "8  Запустить акцию, дающую скидку на товар в день рождения                                                        \n",
       "\n",
       "   reach  impact  confidence  efforts  \n",
       "0  3      10      8           6        \n",
       "1  2      5       4           10       \n",
       "2  8      3       7           3        \n",
       "3  8      3       3           8        \n",
       "4  3      1       1           1        \n",
       "5  3      2       2           3        \n",
       "6  5      3       8           3        \n",
       "7  10     7       8           5        \n",
       "8  1      9       9           5        "
      ]
     },
     "execution_count": 19,
     "metadata": {},
     "output_type": "execute_result"
    }
   ],
   "source": [
    "hypothesis"
   ]
  },
  {
   "cell_type": "markdown",
   "metadata": {},
   "source": [
    "Первом столбце перечислены сформулированные совместно с маркетинговым отделом гипотезы, в остальных столбцах зафиксированы параметры: **reach, impact, confidence, efforts**. Данные параметры могут быть испоьзованы для приоритизации гипотез перед проверкой."
   ]
  },
  {
   "cell_type": "markdown",
   "metadata": {},
   "source": [
    "### 2.1 Приоритизация с помощью ICE"
   ]
  },
  {
   "cell_type": "markdown",
   "metadata": {},
   "source": [
    "Применим фреймворк ICE для приоритизации гипотез. Округлим получившиеся значения ICE score до двух знаков полсе запятой и запишем их в отдельный столбец таблицы hypothesis."
   ]
  },
  {
   "cell_type": "code",
   "execution_count": 20,
   "metadata": {},
   "outputs": [],
   "source": [
    "hypothesis['ice_score'] = (hypothesis['impact']*hypothesis['confidence']/hypothesis['efforts']).round(2)"
   ]
  },
  {
   "cell_type": "markdown",
   "metadata": {},
   "source": [
    "Выведем получившуюся таблицу."
   ]
  },
  {
   "cell_type": "code",
   "execution_count": 21,
   "metadata": {},
   "outputs": [
    {
     "data": {
      "text/html": [
       "<div>\n",
       "<style scoped>\n",
       "    .dataframe tbody tr th:only-of-type {\n",
       "        vertical-align: middle;\n",
       "    }\n",
       "\n",
       "    .dataframe tbody tr th {\n",
       "        vertical-align: top;\n",
       "    }\n",
       "\n",
       "    .dataframe thead th {\n",
       "        text-align: right;\n",
       "    }\n",
       "</style>\n",
       "<table border=\"1\" class=\"dataframe\">\n",
       "  <thead>\n",
       "    <tr style=\"text-align: right;\">\n",
       "      <th></th>\n",
       "      <th>hypothesis</th>\n",
       "      <th>reach</th>\n",
       "      <th>impact</th>\n",
       "      <th>confidence</th>\n",
       "      <th>efforts</th>\n",
       "      <th>ice_score</th>\n",
       "    </tr>\n",
       "  </thead>\n",
       "  <tbody>\n",
       "    <tr>\n",
       "      <th>8</th>\n",
       "      <td>Запустить акцию, дающую скидку на товар в день рождения</td>\n",
       "      <td>1</td>\n",
       "      <td>9</td>\n",
       "      <td>9</td>\n",
       "      <td>5</td>\n",
       "      <td>16.20</td>\n",
       "    </tr>\n",
       "    <tr>\n",
       "      <th>0</th>\n",
       "      <td>Добавить два новых канала привлечения трафика, что позволит привлекать на 30% больше пользователей</td>\n",
       "      <td>3</td>\n",
       "      <td>10</td>\n",
       "      <td>8</td>\n",
       "      <td>6</td>\n",
       "      <td>13.33</td>\n",
       "    </tr>\n",
       "    <tr>\n",
       "      <th>7</th>\n",
       "      <td>Добавить форму подписки на все основные страницы, чтобы собрать базу клиентов для email-рассылок</td>\n",
       "      <td>10</td>\n",
       "      <td>7</td>\n",
       "      <td>8</td>\n",
       "      <td>5</td>\n",
       "      <td>11.20</td>\n",
       "    </tr>\n",
       "    <tr>\n",
       "      <th>6</th>\n",
       "      <td>Показать на главной странице баннеры с актуальными акциями и распродажами, чтобы увеличить конверсию</td>\n",
       "      <td>5</td>\n",
       "      <td>3</td>\n",
       "      <td>8</td>\n",
       "      <td>3</td>\n",
       "      <td>8.00</td>\n",
       "    </tr>\n",
       "    <tr>\n",
       "      <th>2</th>\n",
       "      <td>Добавить блоки рекомендаций товаров на сайт интернет магазина, чтобы повысить конверсию и средний чек заказа</td>\n",
       "      <td>8</td>\n",
       "      <td>3</td>\n",
       "      <td>7</td>\n",
       "      <td>3</td>\n",
       "      <td>7.00</td>\n",
       "    </tr>\n",
       "    <tr>\n",
       "      <th>1</th>\n",
       "      <td>Запустить собственную службу доставки, что сократит срок доставки заказов</td>\n",
       "      <td>2</td>\n",
       "      <td>5</td>\n",
       "      <td>4</td>\n",
       "      <td>10</td>\n",
       "      <td>2.00</td>\n",
       "    </tr>\n",
       "    <tr>\n",
       "      <th>5</th>\n",
       "      <td>Добавить страницу отзывов клиентов о магазине, что позволит увеличить количество заказов</td>\n",
       "      <td>3</td>\n",
       "      <td>2</td>\n",
       "      <td>2</td>\n",
       "      <td>3</td>\n",
       "      <td>1.33</td>\n",
       "    </tr>\n",
       "    <tr>\n",
       "      <th>3</th>\n",
       "      <td>Изменить структура категорий, что увеличит конверсию, т.к. пользователи быстрее найдут нужный товар</td>\n",
       "      <td>8</td>\n",
       "      <td>3</td>\n",
       "      <td>3</td>\n",
       "      <td>8</td>\n",
       "      <td>1.12</td>\n",
       "    </tr>\n",
       "    <tr>\n",
       "      <th>4</th>\n",
       "      <td>Изменить цвет фона главной страницы, чтобы увеличить вовлеченность пользователей</td>\n",
       "      <td>3</td>\n",
       "      <td>1</td>\n",
       "      <td>1</td>\n",
       "      <td>1</td>\n",
       "      <td>1.00</td>\n",
       "    </tr>\n",
       "  </tbody>\n",
       "</table>\n",
       "</div>"
      ],
      "text/plain": [
       "                                                                                                     hypothesis  \\\n",
       "8  Запустить акцию, дающую скидку на товар в день рождения                                                        \n",
       "0  Добавить два новых канала привлечения трафика, что позволит привлекать на 30% больше пользователей             \n",
       "7  Добавить форму подписки на все основные страницы, чтобы собрать базу клиентов для email-рассылок               \n",
       "6  Показать на главной странице баннеры с актуальными акциями и распродажами, чтобы увеличить конверсию           \n",
       "2  Добавить блоки рекомендаций товаров на сайт интернет магазина, чтобы повысить конверсию и средний чек заказа   \n",
       "1  Запустить собственную службу доставки, что сократит срок доставки заказов                                      \n",
       "5  Добавить страницу отзывов клиентов о магазине, что позволит увеличить количество заказов                       \n",
       "3  Изменить структура категорий, что увеличит конверсию, т.к. пользователи быстрее найдут нужный товар            \n",
       "4  Изменить цвет фона главной страницы, чтобы увеличить вовлеченность пользователей                               \n",
       "\n",
       "   reach  impact  confidence  efforts  ice_score  \n",
       "8  1      9       9           5        16.20      \n",
       "0  3      10      8           6        13.33      \n",
       "7  10     7       8           5        11.20      \n",
       "6  5      3       8           3        8.00       \n",
       "2  8      3       7           3        7.00       \n",
       "1  2      5       4           10       2.00       \n",
       "5  3      2       2           3        1.33       \n",
       "3  8      3       3           8        1.12       \n",
       "4  3      1       1           1        1.00       "
      ]
     },
     "execution_count": 21,
     "metadata": {},
     "output_type": "execute_result"
    }
   ],
   "source": [
    "hypothesis.sort_values(by='ice_score', ascending=False)"
   ]
  },
  {
   "cell_type": "markdown",
   "metadata": {},
   "source": [
    "Итак, расчеты показали, что наиболее приоритетными являются гипотезы по номерами 8, 0 и 7. Все остальные гипотезы показали значительно меньший ICE score."
   ]
  },
  {
   "cell_type": "markdown",
   "metadata": {},
   "source": [
    "### 2.2 Приоритизация с помощью RICE"
   ]
  },
  {
   "cell_type": "markdown",
   "metadata": {},
   "source": [
    "Применим фреймворк RICE для приоритизации гипотез. Округлим получившиеся значения RICE score до двух знаков полсе запятой и запишем их в отдельный столбец таблицы hypothesis."
   ]
  },
  {
   "cell_type": "code",
   "execution_count": 22,
   "metadata": {},
   "outputs": [],
   "source": [
    "hypothesis['rice_score'] = (hypothesis['reach']*hypothesis['impact']*hypothesis['confidence']/hypothesis['efforts']).round(2)"
   ]
  },
  {
   "cell_type": "markdown",
   "metadata": {},
   "source": [
    "Выведем получившуюся таблицу и отсортируем данные в ней по значениям в столбце RICE score."
   ]
  },
  {
   "cell_type": "code",
   "execution_count": 23,
   "metadata": {},
   "outputs": [
    {
     "data": {
      "text/html": [
       "<div>\n",
       "<style scoped>\n",
       "    .dataframe tbody tr th:only-of-type {\n",
       "        vertical-align: middle;\n",
       "    }\n",
       "\n",
       "    .dataframe tbody tr th {\n",
       "        vertical-align: top;\n",
       "    }\n",
       "\n",
       "    .dataframe thead th {\n",
       "        text-align: right;\n",
       "    }\n",
       "</style>\n",
       "<table border=\"1\" class=\"dataframe\">\n",
       "  <thead>\n",
       "    <tr style=\"text-align: right;\">\n",
       "      <th></th>\n",
       "      <th>hypothesis</th>\n",
       "      <th>reach</th>\n",
       "      <th>impact</th>\n",
       "      <th>confidence</th>\n",
       "      <th>efforts</th>\n",
       "      <th>ice_score</th>\n",
       "      <th>rice_score</th>\n",
       "    </tr>\n",
       "  </thead>\n",
       "  <tbody>\n",
       "    <tr>\n",
       "      <th>7</th>\n",
       "      <td>Добавить форму подписки на все основные страницы, чтобы собрать базу клиентов для email-рассылок</td>\n",
       "      <td>10</td>\n",
       "      <td>7</td>\n",
       "      <td>8</td>\n",
       "      <td>5</td>\n",
       "      <td>11.20</td>\n",
       "      <td>112.0</td>\n",
       "    </tr>\n",
       "    <tr>\n",
       "      <th>2</th>\n",
       "      <td>Добавить блоки рекомендаций товаров на сайт интернет магазина, чтобы повысить конверсию и средний чек заказа</td>\n",
       "      <td>8</td>\n",
       "      <td>3</td>\n",
       "      <td>7</td>\n",
       "      <td>3</td>\n",
       "      <td>7.00</td>\n",
       "      <td>56.0</td>\n",
       "    </tr>\n",
       "    <tr>\n",
       "      <th>0</th>\n",
       "      <td>Добавить два новых канала привлечения трафика, что позволит привлекать на 30% больше пользователей</td>\n",
       "      <td>3</td>\n",
       "      <td>10</td>\n",
       "      <td>8</td>\n",
       "      <td>6</td>\n",
       "      <td>13.33</td>\n",
       "      <td>40.0</td>\n",
       "    </tr>\n",
       "    <tr>\n",
       "      <th>6</th>\n",
       "      <td>Показать на главной странице баннеры с актуальными акциями и распродажами, чтобы увеличить конверсию</td>\n",
       "      <td>5</td>\n",
       "      <td>3</td>\n",
       "      <td>8</td>\n",
       "      <td>3</td>\n",
       "      <td>8.00</td>\n",
       "      <td>40.0</td>\n",
       "    </tr>\n",
       "    <tr>\n",
       "      <th>8</th>\n",
       "      <td>Запустить акцию, дающую скидку на товар в день рождения</td>\n",
       "      <td>1</td>\n",
       "      <td>9</td>\n",
       "      <td>9</td>\n",
       "      <td>5</td>\n",
       "      <td>16.20</td>\n",
       "      <td>16.2</td>\n",
       "    </tr>\n",
       "    <tr>\n",
       "      <th>3</th>\n",
       "      <td>Изменить структура категорий, что увеличит конверсию, т.к. пользователи быстрее найдут нужный товар</td>\n",
       "      <td>8</td>\n",
       "      <td>3</td>\n",
       "      <td>3</td>\n",
       "      <td>8</td>\n",
       "      <td>1.12</td>\n",
       "      <td>9.0</td>\n",
       "    </tr>\n",
       "    <tr>\n",
       "      <th>1</th>\n",
       "      <td>Запустить собственную службу доставки, что сократит срок доставки заказов</td>\n",
       "      <td>2</td>\n",
       "      <td>5</td>\n",
       "      <td>4</td>\n",
       "      <td>10</td>\n",
       "      <td>2.00</td>\n",
       "      <td>4.0</td>\n",
       "    </tr>\n",
       "    <tr>\n",
       "      <th>5</th>\n",
       "      <td>Добавить страницу отзывов клиентов о магазине, что позволит увеличить количество заказов</td>\n",
       "      <td>3</td>\n",
       "      <td>2</td>\n",
       "      <td>2</td>\n",
       "      <td>3</td>\n",
       "      <td>1.33</td>\n",
       "      <td>4.0</td>\n",
       "    </tr>\n",
       "    <tr>\n",
       "      <th>4</th>\n",
       "      <td>Изменить цвет фона главной страницы, чтобы увеличить вовлеченность пользователей</td>\n",
       "      <td>3</td>\n",
       "      <td>1</td>\n",
       "      <td>1</td>\n",
       "      <td>1</td>\n",
       "      <td>1.00</td>\n",
       "      <td>3.0</td>\n",
       "    </tr>\n",
       "  </tbody>\n",
       "</table>\n",
       "</div>"
      ],
      "text/plain": [
       "                                                                                                     hypothesis  \\\n",
       "7  Добавить форму подписки на все основные страницы, чтобы собрать базу клиентов для email-рассылок               \n",
       "2  Добавить блоки рекомендаций товаров на сайт интернет магазина, чтобы повысить конверсию и средний чек заказа   \n",
       "0  Добавить два новых канала привлечения трафика, что позволит привлекать на 30% больше пользователей             \n",
       "6  Показать на главной странице баннеры с актуальными акциями и распродажами, чтобы увеличить конверсию           \n",
       "8  Запустить акцию, дающую скидку на товар в день рождения                                                        \n",
       "3  Изменить структура категорий, что увеличит конверсию, т.к. пользователи быстрее найдут нужный товар            \n",
       "1  Запустить собственную службу доставки, что сократит срок доставки заказов                                      \n",
       "5  Добавить страницу отзывов клиентов о магазине, что позволит увеличить количество заказов                       \n",
       "4  Изменить цвет фона главной страницы, чтобы увеличить вовлеченность пользователей                               \n",
       "\n",
       "   reach  impact  confidence  efforts  ice_score  rice_score  \n",
       "7  10     7       8           5        11.20      112.0       \n",
       "2  8      3       7           3        7.00       56.0        \n",
       "0  3      10      8           6        13.33      40.0        \n",
       "6  5      3       8           3        8.00       40.0        \n",
       "8  1      9       9           5        16.20      16.2        \n",
       "3  8      3       3           8        1.12       9.0         \n",
       "1  2      5       4           10       2.00       4.0         \n",
       "5  3      2       2           3        1.33       4.0         \n",
       "4  3      1       1           1        1.00       3.0         "
      ]
     },
     "execution_count": 23,
     "metadata": {},
     "output_type": "execute_result"
    }
   ],
   "source": [
    "hypothesis.sort_values(by='rice_score', ascending=False)"
   ]
  },
  {
   "cell_type": "markdown",
   "metadata": {},
   "source": [
    "В этот раз в топ-3 приоритетных гипотез вошли гипотезы под номерами 7, 2 и 0. Обратим внимание, что гипотезы 7 и 0 также входили в топ-3 приоритетных гипотез во фреймфорке IСE, однако во фреймфорке RICE гипотеза под номером 7 оказалась приоритетной с огромным отрывом от всех остальных."
   ]
  },
  {
   "cell_type": "markdown",
   "metadata": {},
   "source": [
    "### Вывод:"
   ]
  },
  {
   "cell_type": "markdown",
   "metadata": {},
   "source": [
    "При приоритизации методом ICE наиболее приоритетными оказались гипотезы по номерами 8, 0 и 7. При использовании фреймворка RICE топ-3 приоритетными гипотезами стали гипотезы 7, 2 и 0. Гипотеза под номером 7 имеет намного более высокий RICE score, чем другие гипотезы. Так у гипотезы, занимающей второе место в данном рейтинге, RICE score ровно вдвое ниже, чем у гипотезы 7. \n",
    "\n",
    "Такой результат объясняется тем, что методы приоритизации ICE и RICE отличаются друг от друга одним параметром - reach, то есть охватом пользователей, которых затронет изменение, предложенное в гипотезе. И для гипотезы 7 охват таких пользователей оказался в разы больше, чем у других гипотез."
   ]
  },
  {
   "cell_type": "markdown",
   "metadata": {},
   "source": [
    "## 3. Анализ A/B-теста"
   ]
  },
  {
   "cell_type": "markdown",
   "metadata": {},
   "source": [
    "После приоритизации гипотез и проверки А/В-теста, проведем анализ полученных результатов. Данные об итогах А/В-теста приведены в таблицах orders и visitors. Выведем данные таблицы еще раз на экран."
   ]
  },
  {
   "cell_type": "code",
   "execution_count": 24,
   "metadata": {},
   "outputs": [
    {
     "data": {
      "text/html": [
       "<div>\n",
       "<style scoped>\n",
       "    .dataframe tbody tr th:only-of-type {\n",
       "        vertical-align: middle;\n",
       "    }\n",
       "\n",
       "    .dataframe tbody tr th {\n",
       "        vertical-align: top;\n",
       "    }\n",
       "\n",
       "    .dataframe thead th {\n",
       "        text-align: right;\n",
       "    }\n",
       "</style>\n",
       "<table border=\"1\" class=\"dataframe\">\n",
       "  <thead>\n",
       "    <tr style=\"text-align: right;\">\n",
       "      <th></th>\n",
       "      <th>transaction_id</th>\n",
       "      <th>visitor_id</th>\n",
       "      <th>date</th>\n",
       "      <th>revenue</th>\n",
       "      <th>group</th>\n",
       "    </tr>\n",
       "  </thead>\n",
       "  <tbody>\n",
       "    <tr>\n",
       "      <th>0</th>\n",
       "      <td>3667963787</td>\n",
       "      <td>3312258926</td>\n",
       "      <td>2019-08-15</td>\n",
       "      <td>1650</td>\n",
       "      <td>B</td>\n",
       "    </tr>\n",
       "    <tr>\n",
       "      <th>1</th>\n",
       "      <td>2804400009</td>\n",
       "      <td>3642806036</td>\n",
       "      <td>2019-08-15</td>\n",
       "      <td>730</td>\n",
       "      <td>B</td>\n",
       "    </tr>\n",
       "    <tr>\n",
       "      <th>2</th>\n",
       "      <td>2961555356</td>\n",
       "      <td>4069496402</td>\n",
       "      <td>2019-08-15</td>\n",
       "      <td>400</td>\n",
       "      <td>A</td>\n",
       "    </tr>\n",
       "    <tr>\n",
       "      <th>3</th>\n",
       "      <td>3797467345</td>\n",
       "      <td>1196621759</td>\n",
       "      <td>2019-08-15</td>\n",
       "      <td>9759</td>\n",
       "      <td>B</td>\n",
       "    </tr>\n",
       "    <tr>\n",
       "      <th>4</th>\n",
       "      <td>2282983706</td>\n",
       "      <td>2322279887</td>\n",
       "      <td>2019-08-15</td>\n",
       "      <td>2308</td>\n",
       "      <td>B</td>\n",
       "    </tr>\n",
       "  </tbody>\n",
       "</table>\n",
       "</div>"
      ],
      "text/plain": [
       "   transaction_id  visitor_id       date  revenue group\n",
       "0  3667963787      3312258926 2019-08-15  1650     B   \n",
       "1  2804400009      3642806036 2019-08-15  730      B   \n",
       "2  2961555356      4069496402 2019-08-15  400      A   \n",
       "3  3797467345      1196621759 2019-08-15  9759     B   \n",
       "4  2282983706      2322279887 2019-08-15  2308     B   "
      ]
     },
     "execution_count": 24,
     "metadata": {},
     "output_type": "execute_result"
    }
   ],
   "source": [
    "orders.head(5)"
   ]
  },
  {
   "cell_type": "code",
   "execution_count": 25,
   "metadata": {},
   "outputs": [
    {
     "data": {
      "text/html": [
       "<div>\n",
       "<style scoped>\n",
       "    .dataframe tbody tr th:only-of-type {\n",
       "        vertical-align: middle;\n",
       "    }\n",
       "\n",
       "    .dataframe tbody tr th {\n",
       "        vertical-align: top;\n",
       "    }\n",
       "\n",
       "    .dataframe thead th {\n",
       "        text-align: right;\n",
       "    }\n",
       "</style>\n",
       "<table border=\"1\" class=\"dataframe\">\n",
       "  <thead>\n",
       "    <tr style=\"text-align: right;\">\n",
       "      <th></th>\n",
       "      <th>date</th>\n",
       "      <th>group</th>\n",
       "      <th>visitors</th>\n",
       "    </tr>\n",
       "  </thead>\n",
       "  <tbody>\n",
       "    <tr>\n",
       "      <th>0</th>\n",
       "      <td>2019-08-01</td>\n",
       "      <td>A</td>\n",
       "      <td>719</td>\n",
       "    </tr>\n",
       "    <tr>\n",
       "      <th>1</th>\n",
       "      <td>2019-08-02</td>\n",
       "      <td>A</td>\n",
       "      <td>619</td>\n",
       "    </tr>\n",
       "    <tr>\n",
       "      <th>2</th>\n",
       "      <td>2019-08-03</td>\n",
       "      <td>A</td>\n",
       "      <td>507</td>\n",
       "    </tr>\n",
       "    <tr>\n",
       "      <th>3</th>\n",
       "      <td>2019-08-04</td>\n",
       "      <td>A</td>\n",
       "      <td>717</td>\n",
       "    </tr>\n",
       "    <tr>\n",
       "      <th>4</th>\n",
       "      <td>2019-08-05</td>\n",
       "      <td>A</td>\n",
       "      <td>756</td>\n",
       "    </tr>\n",
       "  </tbody>\n",
       "</table>\n",
       "</div>"
      ],
      "text/plain": [
       "        date group  visitors\n",
       "0 2019-08-01  A     719     \n",
       "1 2019-08-02  A     619     \n",
       "2 2019-08-03  A     507     \n",
       "3 2019-08-04  A     717     \n",
       "4 2019-08-05  A     756     "
      ]
     },
     "execution_count": 25,
     "metadata": {},
     "output_type": "execute_result"
    }
   ],
   "source": [
    "visitors.head(5)"
   ]
  },
  {
   "cell_type": "markdown",
   "metadata": {},
   "source": [
    "### 3.1 График кумулятивной выручки"
   ]
  },
  {
   "cell_type": "markdown",
   "metadata": {},
   "source": [
    "#### 3.1.1 Сбор кумулятивных данных"
   ]
  },
  {
   "cell_type": "markdown",
   "metadata": {},
   "source": [
    "Для построения графика кумулятивной выручки соберем кумулятивные данные о заказах и посетителях из разных дат на определенные даты."
   ]
  },
  {
   "cell_type": "markdown",
   "metadata": {},
   "source": [
    "Первым шагом получим таблицу dates_groups с уникальными парами значений date и group из таблицы orders."
   ]
  },
  {
   "cell_type": "code",
   "execution_count": 26,
   "metadata": {},
   "outputs": [
    {
     "data": {
      "text/html": [
       "<div>\n",
       "<style scoped>\n",
       "    .dataframe tbody tr th:only-of-type {\n",
       "        vertical-align: middle;\n",
       "    }\n",
       "\n",
       "    .dataframe tbody tr th {\n",
       "        vertical-align: top;\n",
       "    }\n",
       "\n",
       "    .dataframe thead th {\n",
       "        text-align: right;\n",
       "    }\n",
       "</style>\n",
       "<table border=\"1\" class=\"dataframe\">\n",
       "  <thead>\n",
       "    <tr style=\"text-align: right;\">\n",
       "      <th></th>\n",
       "      <th>date</th>\n",
       "      <th>group</th>\n",
       "    </tr>\n",
       "  </thead>\n",
       "  <tbody>\n",
       "    <tr>\n",
       "      <th>0</th>\n",
       "      <td>2019-08-15</td>\n",
       "      <td>B</td>\n",
       "    </tr>\n",
       "    <tr>\n",
       "      <th>2</th>\n",
       "      <td>2019-08-15</td>\n",
       "      <td>A</td>\n",
       "    </tr>\n",
       "    <tr>\n",
       "      <th>45</th>\n",
       "      <td>2019-08-16</td>\n",
       "      <td>A</td>\n",
       "    </tr>\n",
       "    <tr>\n",
       "      <th>47</th>\n",
       "      <td>2019-08-16</td>\n",
       "      <td>B</td>\n",
       "    </tr>\n",
       "    <tr>\n",
       "      <th>55</th>\n",
       "      <td>2019-08-01</td>\n",
       "      <td>A</td>\n",
       "    </tr>\n",
       "    <tr>\n",
       "      <th>...</th>\n",
       "      <td>...</td>\n",
       "      <td>...</td>\n",
       "    </tr>\n",
       "    <tr>\n",
       "      <th>1068</th>\n",
       "      <td>2019-08-12</td>\n",
       "      <td>A</td>\n",
       "    </tr>\n",
       "    <tr>\n",
       "      <th>1114</th>\n",
       "      <td>2019-08-13</td>\n",
       "      <td>B</td>\n",
       "    </tr>\n",
       "    <tr>\n",
       "      <th>1116</th>\n",
       "      <td>2019-08-13</td>\n",
       "      <td>A</td>\n",
       "    </tr>\n",
       "    <tr>\n",
       "      <th>1149</th>\n",
       "      <td>2019-08-14</td>\n",
       "      <td>B</td>\n",
       "    </tr>\n",
       "    <tr>\n",
       "      <th>1150</th>\n",
       "      <td>2019-08-14</td>\n",
       "      <td>A</td>\n",
       "    </tr>\n",
       "  </tbody>\n",
       "</table>\n",
       "<p>62 rows × 2 columns</p>\n",
       "</div>"
      ],
      "text/plain": [
       "           date group\n",
       "0    2019-08-15  B   \n",
       "2    2019-08-15  A   \n",
       "45   2019-08-16  A   \n",
       "47   2019-08-16  B   \n",
       "55   2019-08-01  A   \n",
       "...         ... ..   \n",
       "1068 2019-08-12  A   \n",
       "1114 2019-08-13  B   \n",
       "1116 2019-08-13  A   \n",
       "1149 2019-08-14  B   \n",
       "1150 2019-08-14  A   \n",
       "\n",
       "[62 rows x 2 columns]"
      ]
     },
     "execution_count": 26,
     "metadata": {},
     "output_type": "execute_result"
    }
   ],
   "source": [
    "dates_groups = orders[['date', 'group']].drop_duplicates()\n",
    "dates_groups"
   ]
  },
  {
   "cell_type": "markdown",
   "metadata": {},
   "source": [
    "Теперь определим таблицу с кумулятивной информацией о заказах, то есть о: \n",
    "- суммарном количестве уникальных заказов, сделанных пользователями из данной группы по указанную дату включительно; \n",
    "- суммарном количестве уникальных пользователей из группы, совершивших хотя бы одну покупку по указанную дату включительно; \n",
    "- суммарной выручке по заказам, совершенным по текущую дату посететилями из группы."
   ]
  },
  {
   "cell_type": "code",
   "execution_count": 27,
   "metadata": {},
   "outputs": [
    {
     "data": {
      "text/html": [
       "<div>\n",
       "<style scoped>\n",
       "    .dataframe tbody tr th:only-of-type {\n",
       "        vertical-align: middle;\n",
       "    }\n",
       "\n",
       "    .dataframe tbody tr th {\n",
       "        vertical-align: top;\n",
       "    }\n",
       "\n",
       "    .dataframe thead th {\n",
       "        text-align: right;\n",
       "    }\n",
       "</style>\n",
       "<table border=\"1\" class=\"dataframe\">\n",
       "  <thead>\n",
       "    <tr style=\"text-align: right;\">\n",
       "      <th></th>\n",
       "      <th>date</th>\n",
       "      <th>group</th>\n",
       "      <th>transaction_id</th>\n",
       "      <th>visitor_id</th>\n",
       "      <th>revenue</th>\n",
       "    </tr>\n",
       "  </thead>\n",
       "  <tbody>\n",
       "    <tr>\n",
       "      <th>55</th>\n",
       "      <td>2019-08-01</td>\n",
       "      <td>A</td>\n",
       "      <td>24</td>\n",
       "      <td>20</td>\n",
       "      <td>148579</td>\n",
       "    </tr>\n",
       "    <tr>\n",
       "      <th>66</th>\n",
       "      <td>2019-08-01</td>\n",
       "      <td>B</td>\n",
       "      <td>21</td>\n",
       "      <td>20</td>\n",
       "      <td>101217</td>\n",
       "    </tr>\n",
       "    <tr>\n",
       "      <th>175</th>\n",
       "      <td>2019-08-02</td>\n",
       "      <td>A</td>\n",
       "      <td>44</td>\n",
       "      <td>38</td>\n",
       "      <td>242401</td>\n",
       "    </tr>\n",
       "    <tr>\n",
       "      <th>173</th>\n",
       "      <td>2019-08-02</td>\n",
       "      <td>B</td>\n",
       "      <td>45</td>\n",
       "      <td>43</td>\n",
       "      <td>266748</td>\n",
       "    </tr>\n",
       "    <tr>\n",
       "      <th>291</th>\n",
       "      <td>2019-08-03</td>\n",
       "      <td>A</td>\n",
       "      <td>68</td>\n",
       "      <td>62</td>\n",
       "      <td>354874</td>\n",
       "    </tr>\n",
       "    <tr>\n",
       "      <th>...</th>\n",
       "      <td>...</td>\n",
       "      <td>...</td>\n",
       "      <td>...</td>\n",
       "      <td>...</td>\n",
       "      <td>...</td>\n",
       "    </tr>\n",
       "    <tr>\n",
       "      <th>496</th>\n",
       "      <td>2019-08-29</td>\n",
       "      <td>B</td>\n",
       "      <td>596</td>\n",
       "      <td>544</td>\n",
       "      <td>5559398</td>\n",
       "    </tr>\n",
       "    <tr>\n",
       "      <th>730</th>\n",
       "      <td>2019-08-30</td>\n",
       "      <td>A</td>\n",
       "      <td>545</td>\n",
       "      <td>493</td>\n",
       "      <td>4022970</td>\n",
       "    </tr>\n",
       "    <tr>\n",
       "      <th>690</th>\n",
       "      <td>2019-08-30</td>\n",
       "      <td>B</td>\n",
       "      <td>620</td>\n",
       "      <td>567</td>\n",
       "      <td>5774631</td>\n",
       "    </tr>\n",
       "    <tr>\n",
       "      <th>958</th>\n",
       "      <td>2019-08-31</td>\n",
       "      <td>A</td>\n",
       "      <td>557</td>\n",
       "      <td>503</td>\n",
       "      <td>4084803</td>\n",
       "    </tr>\n",
       "    <tr>\n",
       "      <th>930</th>\n",
       "      <td>2019-08-31</td>\n",
       "      <td>B</td>\n",
       "      <td>640</td>\n",
       "      <td>586</td>\n",
       "      <td>5907760</td>\n",
       "    </tr>\n",
       "  </tbody>\n",
       "</table>\n",
       "<p>62 rows × 5 columns</p>\n",
       "</div>"
      ],
      "text/plain": [
       "          date group  transaction_id  visitor_id  revenue\n",
       "55  2019-08-01  A     24              20          148579 \n",
       "66  2019-08-01  B     21              20          101217 \n",
       "175 2019-08-02  A     44              38          242401 \n",
       "173 2019-08-02  B     45              43          266748 \n",
       "291 2019-08-03  A     68              62          354874 \n",
       "..         ... ..     ..              ..             ... \n",
       "496 2019-08-29  B     596             544         5559398\n",
       "730 2019-08-30  A     545             493         4022970\n",
       "690 2019-08-30  B     620             567         5774631\n",
       "958 2019-08-31  A     557             503         4084803\n",
       "930 2019-08-31  B     640             586         5907760\n",
       "\n",
       "[62 rows x 5 columns]"
      ]
     },
     "execution_count": 27,
     "metadata": {},
     "output_type": "execute_result"
    }
   ],
   "source": [
    "orders_agg = dates_groups.apply(lambda x: orders[np.logical_and(orders['date'] <= x['date'],\\\n",
    "orders['group'] == x['group'])].agg({'date' : 'max', 'group' : 'max', 'transaction_id' : 'nunique',\\\n",
    "'visitor_id' : 'nunique', 'revenue' : 'sum'}), axis=1).sort_values(by=['date','group'])\n",
    "orders_agg"
   ]
  },
  {
   "cell_type": "markdown",
   "metadata": {},
   "source": [
    "Затем определим таблицу с кумулятивными данными о посетителя, то есть с информацией о количестве уникальных посетителей в группе теста по указанную дату включительно."
   ]
  },
  {
   "cell_type": "code",
   "execution_count": 28,
   "metadata": {},
   "outputs": [
    {
     "data": {
      "text/html": [
       "<div>\n",
       "<style scoped>\n",
       "    .dataframe tbody tr th:only-of-type {\n",
       "        vertical-align: middle;\n",
       "    }\n",
       "\n",
       "    .dataframe tbody tr th {\n",
       "        vertical-align: top;\n",
       "    }\n",
       "\n",
       "    .dataframe thead th {\n",
       "        text-align: right;\n",
       "    }\n",
       "</style>\n",
       "<table border=\"1\" class=\"dataframe\">\n",
       "  <thead>\n",
       "    <tr style=\"text-align: right;\">\n",
       "      <th></th>\n",
       "      <th>date</th>\n",
       "      <th>group</th>\n",
       "      <th>visitors</th>\n",
       "    </tr>\n",
       "  </thead>\n",
       "  <tbody>\n",
       "    <tr>\n",
       "      <th>55</th>\n",
       "      <td>2019-08-01</td>\n",
       "      <td>A</td>\n",
       "      <td>719</td>\n",
       "    </tr>\n",
       "    <tr>\n",
       "      <th>66</th>\n",
       "      <td>2019-08-01</td>\n",
       "      <td>B</td>\n",
       "      <td>713</td>\n",
       "    </tr>\n",
       "    <tr>\n",
       "      <th>175</th>\n",
       "      <td>2019-08-02</td>\n",
       "      <td>A</td>\n",
       "      <td>1338</td>\n",
       "    </tr>\n",
       "    <tr>\n",
       "      <th>173</th>\n",
       "      <td>2019-08-02</td>\n",
       "      <td>B</td>\n",
       "      <td>1294</td>\n",
       "    </tr>\n",
       "    <tr>\n",
       "      <th>291</th>\n",
       "      <td>2019-08-03</td>\n",
       "      <td>A</td>\n",
       "      <td>1845</td>\n",
       "    </tr>\n",
       "    <tr>\n",
       "      <th>...</th>\n",
       "      <td>...</td>\n",
       "      <td>...</td>\n",
       "      <td>...</td>\n",
       "    </tr>\n",
       "    <tr>\n",
       "      <th>496</th>\n",
       "      <td>2019-08-29</td>\n",
       "      <td>B</td>\n",
       "      <td>17708</td>\n",
       "    </tr>\n",
       "    <tr>\n",
       "      <th>730</th>\n",
       "      <td>2019-08-30</td>\n",
       "      <td>A</td>\n",
       "      <td>18037</td>\n",
       "    </tr>\n",
       "    <tr>\n",
       "      <th>690</th>\n",
       "      <td>2019-08-30</td>\n",
       "      <td>B</td>\n",
       "      <td>18198</td>\n",
       "    </tr>\n",
       "    <tr>\n",
       "      <th>958</th>\n",
       "      <td>2019-08-31</td>\n",
       "      <td>A</td>\n",
       "      <td>18736</td>\n",
       "    </tr>\n",
       "    <tr>\n",
       "      <th>930</th>\n",
       "      <td>2019-08-31</td>\n",
       "      <td>B</td>\n",
       "      <td>18916</td>\n",
       "    </tr>\n",
       "  </tbody>\n",
       "</table>\n",
       "<p>62 rows × 3 columns</p>\n",
       "</div>"
      ],
      "text/plain": [
       "          date group  visitors\n",
       "55  2019-08-01  A     719     \n",
       "66  2019-08-01  B     713     \n",
       "175 2019-08-02  A     1338    \n",
       "173 2019-08-02  B     1294    \n",
       "291 2019-08-03  A     1845    \n",
       "..         ... ..      ...    \n",
       "496 2019-08-29  B     17708   \n",
       "730 2019-08-30  A     18037   \n",
       "690 2019-08-30  B     18198   \n",
       "958 2019-08-31  A     18736   \n",
       "930 2019-08-31  B     18916   \n",
       "\n",
       "[62 rows x 3 columns]"
      ]
     },
     "execution_count": 28,
     "metadata": {},
     "output_type": "execute_result"
    }
   ],
   "source": [
    "visitors_agg = dates_groups.apply(lambda x: visitors[np.logical_and(visitors['date'] <= x['date'],\\\n",
    "visitors['group'] == x['group'])].agg({'date' : 'max', 'group' : 'max', 'visitors' : 'sum'}), axis=1).\\\n",
    "sort_values(by=['date','group'])\n",
    "visitors_agg"
   ]
  },
  {
   "cell_type": "markdown",
   "metadata": {},
   "source": [
    "И последним шагом объедим данные этих таблиц в одну:"
   ]
  },
  {
   "cell_type": "code",
   "execution_count": 29,
   "metadata": {},
   "outputs": [
    {
     "data": {
      "text/html": [
       "<div>\n",
       "<style scoped>\n",
       "    .dataframe tbody tr th:only-of-type {\n",
       "        vertical-align: middle;\n",
       "    }\n",
       "\n",
       "    .dataframe tbody tr th {\n",
       "        vertical-align: top;\n",
       "    }\n",
       "\n",
       "    .dataframe thead th {\n",
       "        text-align: right;\n",
       "    }\n",
       "</style>\n",
       "<table border=\"1\" class=\"dataframe\">\n",
       "  <thead>\n",
       "    <tr style=\"text-align: right;\">\n",
       "      <th></th>\n",
       "      <th>date</th>\n",
       "      <th>group</th>\n",
       "      <th>orders</th>\n",
       "      <th>buyers</th>\n",
       "      <th>revenue</th>\n",
       "      <th>visitors</th>\n",
       "    </tr>\n",
       "  </thead>\n",
       "  <tbody>\n",
       "    <tr>\n",
       "      <th>0</th>\n",
       "      <td>2019-08-01</td>\n",
       "      <td>A</td>\n",
       "      <td>24</td>\n",
       "      <td>20</td>\n",
       "      <td>148579</td>\n",
       "      <td>719</td>\n",
       "    </tr>\n",
       "    <tr>\n",
       "      <th>1</th>\n",
       "      <td>2019-08-01</td>\n",
       "      <td>B</td>\n",
       "      <td>21</td>\n",
       "      <td>20</td>\n",
       "      <td>101217</td>\n",
       "      <td>713</td>\n",
       "    </tr>\n",
       "    <tr>\n",
       "      <th>2</th>\n",
       "      <td>2019-08-02</td>\n",
       "      <td>A</td>\n",
       "      <td>44</td>\n",
       "      <td>38</td>\n",
       "      <td>242401</td>\n",
       "      <td>1338</td>\n",
       "    </tr>\n",
       "    <tr>\n",
       "      <th>3</th>\n",
       "      <td>2019-08-02</td>\n",
       "      <td>B</td>\n",
       "      <td>45</td>\n",
       "      <td>43</td>\n",
       "      <td>266748</td>\n",
       "      <td>1294</td>\n",
       "    </tr>\n",
       "    <tr>\n",
       "      <th>4</th>\n",
       "      <td>2019-08-03</td>\n",
       "      <td>A</td>\n",
       "      <td>68</td>\n",
       "      <td>62</td>\n",
       "      <td>354874</td>\n",
       "      <td>1845</td>\n",
       "    </tr>\n",
       "  </tbody>\n",
       "</table>\n",
       "</div>"
      ],
      "text/plain": [
       "        date group  orders  buyers  revenue  visitors\n",
       "0 2019-08-01  A     24      20      148579   719     \n",
       "1 2019-08-01  B     21      20      101217   713     \n",
       "2 2019-08-02  A     44      38      242401   1338    \n",
       "3 2019-08-02  B     45      43      266748   1294    \n",
       "4 2019-08-03  A     68      62      354874   1845    "
      ]
     },
     "execution_count": 29,
     "metadata": {},
     "output_type": "execute_result"
    }
   ],
   "source": [
    "cumulative_data = orders_agg.merge(visitors_agg, left_on=['date', 'group'], right_on=['date', 'group'])\n",
    "\n",
    "cumulative_data.columns = ['date', 'group', 'orders', 'buyers', 'revenue', 'visitors']\n",
    "\n",
    "cumulative_data.head(5)"
   ]
  },
  {
   "cell_type": "markdown",
   "metadata": {},
   "source": [
    "#### 3.1.2 График кумулятивной выручки по группам"
   ]
  },
  {
   "cell_type": "markdown",
   "metadata": {},
   "source": [
    "Для построения графика кумулятивной выручки каждой из групп, определим таблицы с кумулятивными данными по выручке и количеству заказов для каждой группы. "
   ]
  },
  {
   "cell_type": "markdown",
   "metadata": {},
   "source": [
    "Кумулятивная выручка для группы **А**:"
   ]
  },
  {
   "cell_type": "code",
   "execution_count": 30,
   "metadata": {},
   "outputs": [
    {
     "data": {
      "text/html": [
       "<div>\n",
       "<style scoped>\n",
       "    .dataframe tbody tr th:only-of-type {\n",
       "        vertical-align: middle;\n",
       "    }\n",
       "\n",
       "    .dataframe tbody tr th {\n",
       "        vertical-align: top;\n",
       "    }\n",
       "\n",
       "    .dataframe thead th {\n",
       "        text-align: right;\n",
       "    }\n",
       "</style>\n",
       "<table border=\"1\" class=\"dataframe\">\n",
       "  <thead>\n",
       "    <tr style=\"text-align: right;\">\n",
       "      <th></th>\n",
       "      <th>date</th>\n",
       "      <th>revenue</th>\n",
       "      <th>orders</th>\n",
       "    </tr>\n",
       "  </thead>\n",
       "  <tbody>\n",
       "    <tr>\n",
       "      <th>0</th>\n",
       "      <td>2019-08-01</td>\n",
       "      <td>148579</td>\n",
       "      <td>24</td>\n",
       "    </tr>\n",
       "    <tr>\n",
       "      <th>2</th>\n",
       "      <td>2019-08-02</td>\n",
       "      <td>242401</td>\n",
       "      <td>44</td>\n",
       "    </tr>\n",
       "    <tr>\n",
       "      <th>4</th>\n",
       "      <td>2019-08-03</td>\n",
       "      <td>354874</td>\n",
       "      <td>68</td>\n",
       "    </tr>\n",
       "    <tr>\n",
       "      <th>6</th>\n",
       "      <td>2019-08-04</td>\n",
       "      <td>425699</td>\n",
       "      <td>84</td>\n",
       "    </tr>\n",
       "    <tr>\n",
       "      <th>8</th>\n",
       "      <td>2019-08-05</td>\n",
       "      <td>549917</td>\n",
       "      <td>109</td>\n",
       "    </tr>\n",
       "  </tbody>\n",
       "</table>\n",
       "</div>"
      ],
      "text/plain": [
       "        date  revenue  orders\n",
       "0 2019-08-01  148579   24    \n",
       "2 2019-08-02  242401   44    \n",
       "4 2019-08-03  354874   68    \n",
       "6 2019-08-04  425699   84    \n",
       "8 2019-08-05  549917   109   "
      ]
     },
     "execution_count": 30,
     "metadata": {},
     "output_type": "execute_result"
    }
   ],
   "source": [
    "cumulative_revenue_A = cumulative_data[cumulative_data['group']=='A'][['date','revenue', 'orders']]\n",
    "cumulative_revenue_A.head()"
   ]
  },
  {
   "cell_type": "markdown",
   "metadata": {},
   "source": [
    "Кумулятивная выручка для группы **В**:"
   ]
  },
  {
   "cell_type": "code",
   "execution_count": 31,
   "metadata": {},
   "outputs": [
    {
     "data": {
      "text/html": [
       "<div>\n",
       "<style scoped>\n",
       "    .dataframe tbody tr th:only-of-type {\n",
       "        vertical-align: middle;\n",
       "    }\n",
       "\n",
       "    .dataframe tbody tr th {\n",
       "        vertical-align: top;\n",
       "    }\n",
       "\n",
       "    .dataframe thead th {\n",
       "        text-align: right;\n",
       "    }\n",
       "</style>\n",
       "<table border=\"1\" class=\"dataframe\">\n",
       "  <thead>\n",
       "    <tr style=\"text-align: right;\">\n",
       "      <th></th>\n",
       "      <th>date</th>\n",
       "      <th>revenue</th>\n",
       "      <th>orders</th>\n",
       "    </tr>\n",
       "  </thead>\n",
       "  <tbody>\n",
       "    <tr>\n",
       "      <th>1</th>\n",
       "      <td>2019-08-01</td>\n",
       "      <td>101217</td>\n",
       "      <td>21</td>\n",
       "    </tr>\n",
       "    <tr>\n",
       "      <th>3</th>\n",
       "      <td>2019-08-02</td>\n",
       "      <td>266748</td>\n",
       "      <td>45</td>\n",
       "    </tr>\n",
       "    <tr>\n",
       "      <th>5</th>\n",
       "      <td>2019-08-03</td>\n",
       "      <td>380996</td>\n",
       "      <td>61</td>\n",
       "    </tr>\n",
       "    <tr>\n",
       "      <th>7</th>\n",
       "      <td>2019-08-04</td>\n",
       "      <td>489567</td>\n",
       "      <td>78</td>\n",
       "    </tr>\n",
       "    <tr>\n",
       "      <th>9</th>\n",
       "      <td>2019-08-05</td>\n",
       "      <td>581995</td>\n",
       "      <td>101</td>\n",
       "    </tr>\n",
       "  </tbody>\n",
       "</table>\n",
       "</div>"
      ],
      "text/plain": [
       "        date  revenue  orders\n",
       "1 2019-08-01  101217   21    \n",
       "3 2019-08-02  266748   45    \n",
       "5 2019-08-03  380996   61    \n",
       "7 2019-08-04  489567   78    \n",
       "9 2019-08-05  581995   101   "
      ]
     },
     "execution_count": 31,
     "metadata": {},
     "output_type": "execute_result"
    }
   ],
   "source": [
    "cumulative_revenue_B = cumulative_data[cumulative_data['group']=='B'][['date','revenue', 'orders']]\n",
    "cumulative_revenue_B.head()"
   ]
  },
  {
   "cell_type": "markdown",
   "metadata": {},
   "source": [
    "Теперь можно строить графики:"
   ]
  },
  {
   "cell_type": "code",
   "execution_count": 32,
   "metadata": {},
   "outputs": [
    {
     "data": {
      "image/png": "[encoded data removed]",
      "text/plain": [
       "<Figure size 640x480 with 1 Axes>"
      ]
     },
     "metadata": {},
     "output_type": "display_data"
    }
   ],
   "source": [
    "plt.plot(cumulative_revenue_A['date'], cumulative_revenue_A['revenue'], label='A')\n",
    "plt.plot(cumulative_revenue_B['date'], cumulative_revenue_B['revenue'], label='B')\n",
    "plt.title('Кумулятивная выручка по группам')\n",
    "plt.xticks(rotation=90)\n",
    "plt.legend() \n",
    "plt.show()"
   ]
  },
  {
   "cell_type": "markdown",
   "metadata": {},
   "source": [
    "#### Вывод:"
   ]
  },
  {
   "cell_type": "markdown",
   "metadata": {},
   "source": [
    "До 13 августа включительно кумулятивная выручка от пользователей обеих групп была примерно на одном уровне. В период с 13 по 18 августа кумулятивная выручка от заказов пользователей в группе B постепенно растет и выходит на лидерские позиции. В районе 18 августа случается резкий скачок кумулятивной выручки от группы B. В то время как кумулятивная выручка от группы А продолжает расти медленными темпами. К концу исследуемого периода кумулятивная выручка от заказов пользователей из группы B в 1,5 раза больше кумулятивной выручки, принесенной пользователями группы А."
   ]
  },
  {
   "cell_type": "markdown",
   "metadata": {},
   "source": [
    "### 3.2. График кумулятивного среднего чека"
   ]
  },
  {
   "cell_type": "markdown",
   "metadata": {},
   "source": [
    "Для дальнейшего анализа построик график кумулятивного среднего чека по группам."
   ]
  },
  {
   "cell_type": "markdown",
   "metadata": {},
   "source": [
    "#### 3.2.1 Построение графика кумулятивного среднего чека по группам"
   ]
  },
  {
   "cell_type": "code",
   "execution_count": 33,
   "metadata": {},
   "outputs": [
    {
     "data": {
      "image/png": "[encoded data removed]",
      "text/plain": [
       "<Figure size 640x480 with 1 Axes>"
      ]
     },
     "metadata": {},
     "output_type": "display_data"
    }
   ],
   "source": [
    "plt.plot(cumulative_revenue_A['date'], cumulative_revenue_A['revenue']/cumulative_revenue_A['orders'], label='A')\n",
    "plt.plot(cumulative_revenue_B['date'], cumulative_revenue_B['revenue']/cumulative_revenue_B['orders'], label='B')\n",
    "plt.title('Кумулятивный средний чек по группам')\n",
    "plt.xticks(rotation=90)\n",
    "plt.legend()\n",
    "plt.show()"
   ]
  },
  {
   "cell_type": "markdown",
   "metadata": {},
   "source": [
    "#### Вывод"
   ]
  },
  {
   "cell_type": "markdown",
   "metadata": {},
   "source": [
    "Графики кумулятивного среднего чека сильно колеблятся. В период до 17 августа большую часть времени кумулятивный средний чек заказов пользователей из группы В был больше кумулятивных средних чеков группы А. Лишь 13 августа группе А удается ненадолго вырваться в лидеры. Однако, уже с 17 августа динамика изменения среднего чека становится аналогичной графикам кумулятивной выручки, и где-то в районе 18 августа наблюдается очень резкий скачок кумулятивного среднего чека пользователей из группы B. Вероятно, в это время пользователи из этой группы совершили наиболее дорогостоящие покупки. Весь оставшийся период кумулятивный средний чек группы В оставался на высоком уровне, не опускаясь ниже 9000. Тогда как средний кумулятивный чек группы А едва ли достиг отметки 7000 к концу периода."
   ]
  },
  {
   "cell_type": "markdown",
   "metadata": {},
   "source": [
    "### 3.3 График относительного изменения кумулятивного среднего чека группы B к группе A"
   ]
  },
  {
   "cell_type": "markdown",
   "metadata": {},
   "source": [
    "Для построения графика относительного изменения кумулятивного среднего чека группы В к группе А сначала объединим данные таблиц с кумулятивной выручкой по каждой группе."
   ]
  },
  {
   "cell_type": "code",
   "execution_count": 34,
   "metadata": {},
   "outputs": [
    {
     "data": {
      "text/html": [
       "<div>\n",
       "<style scoped>\n",
       "    .dataframe tbody tr th:only-of-type {\n",
       "        vertical-align: middle;\n",
       "    }\n",
       "\n",
       "    .dataframe tbody tr th {\n",
       "        vertical-align: top;\n",
       "    }\n",
       "\n",
       "    .dataframe thead th {\n",
       "        text-align: right;\n",
       "    }\n",
       "</style>\n",
       "<table border=\"1\" class=\"dataframe\">\n",
       "  <thead>\n",
       "    <tr style=\"text-align: right;\">\n",
       "      <th></th>\n",
       "      <th>date</th>\n",
       "      <th>revenueA</th>\n",
       "      <th>ordersA</th>\n",
       "      <th>revenueB</th>\n",
       "      <th>ordersB</th>\n",
       "    </tr>\n",
       "  </thead>\n",
       "  <tbody>\n",
       "    <tr>\n",
       "      <th>0</th>\n",
       "      <td>2019-08-01</td>\n",
       "      <td>148579</td>\n",
       "      <td>24</td>\n",
       "      <td>101217</td>\n",
       "      <td>21</td>\n",
       "    </tr>\n",
       "    <tr>\n",
       "      <th>1</th>\n",
       "      <td>2019-08-02</td>\n",
       "      <td>242401</td>\n",
       "      <td>44</td>\n",
       "      <td>266748</td>\n",
       "      <td>45</td>\n",
       "    </tr>\n",
       "    <tr>\n",
       "      <th>2</th>\n",
       "      <td>2019-08-03</td>\n",
       "      <td>354874</td>\n",
       "      <td>68</td>\n",
       "      <td>380996</td>\n",
       "      <td>61</td>\n",
       "    </tr>\n",
       "    <tr>\n",
       "      <th>3</th>\n",
       "      <td>2019-08-04</td>\n",
       "      <td>425699</td>\n",
       "      <td>84</td>\n",
       "      <td>489567</td>\n",
       "      <td>78</td>\n",
       "    </tr>\n",
       "    <tr>\n",
       "      <th>4</th>\n",
       "      <td>2019-08-05</td>\n",
       "      <td>549917</td>\n",
       "      <td>109</td>\n",
       "      <td>581995</td>\n",
       "      <td>101</td>\n",
       "    </tr>\n",
       "  </tbody>\n",
       "</table>\n",
       "</div>"
      ],
      "text/plain": [
       "        date  revenueA  ordersA  revenueB  ordersB\n",
       "0 2019-08-01  148579    24       101217    21     \n",
       "1 2019-08-02  242401    44       266748    45     \n",
       "2 2019-08-03  354874    68       380996    61     \n",
       "3 2019-08-04  425699    84       489567    78     \n",
       "4 2019-08-05  549917    109      581995    101    "
      ]
     },
     "execution_count": 34,
     "metadata": {},
     "output_type": "execute_result"
    }
   ],
   "source": [
    "merged_cumulative_revenue = cumulative_revenue_A.merge(cumulative_revenue_B, left_on='date', \\\n",
    "right_on='date', how='left', suffixes=['A', 'B'])\n",
    "merged_cumulative_revenue.head()"
   ]
  },
  {
   "cell_type": "markdown",
   "metadata": {},
   "source": [
    "#### 3.3.1 Построение графика относительного изменения кумулятивного среднего чека группы B к группе A"
   ]
  },
  {
   "cell_type": "markdown",
   "metadata": {},
   "source": [
    "Построим график относительного изменения кумулятивного среднего чека группы В к группе А, используя объединенную таблицу кумулятивной выручки по обеим группам:"
   ]
  },
  {
   "cell_type": "code",
   "execution_count": 35,
   "metadata": {},
   "outputs": [
    {
     "data": {
      "image/png": "[encoded data removed]",
      "text/plain": [
       "<Figure size 640x480 with 1 Axes>"
      ]
     },
     "metadata": {},
     "output_type": "display_data"
    }
   ],
   "source": [
    "plt.plot(merged_cumulative_revenue['date'], (\n",
    "    merged_cumulative_revenue['revenueB']/merged_cumulative_revenue['ordersB'])/\n",
    "         (merged_cumulative_revenue['revenueA']/merged_cumulative_revenue['ordersA'])-1)\n",
    "plt.axhline(y=0, color='black', linestyle='--') \n",
    "plt.title('Относительное изменение кумулятивного среднего чека группы В к группе А')\n",
    "plt.xticks(rotation=90)\n",
    "plt.show()"
   ]
  },
  {
   "cell_type": "markdown",
   "metadata": {},
   "source": [
    "#### Вывод"
   ]
  },
  {
   "cell_type": "markdown",
   "metadata": {},
   "source": [
    "Большую часть времени кумулятивный средний чек пользователей из группы В был больше кумулятивного среднего чека пользователей из группы А. За исключением двух периодов падения: в начале теста и ближе к его середине. В целом, исследуемое отношение резко менялось на протяжении всего периода, от даты к дате, что говорит о большом влиянии \n",
    "дорогостоящих заказов, совершаемых пользователями."
   ]
  },
  {
   "cell_type": "markdown",
   "metadata": {},
   "source": [
    "### 3.4 График кумулятивного среднего количества заказов на посетителя по группам"
   ]
  },
  {
   "cell_type": "markdown",
   "metadata": {},
   "source": [
    "Для начала посчитаем среднее количество заказов на одного пользователя. "
   ]
  },
  {
   "cell_type": "code",
   "execution_count": 36,
   "metadata": {},
   "outputs": [],
   "source": [
    "cumulative_data['conversion'] = cumulative_data['orders']/cumulative_data['visitors']"
   ]
  },
  {
   "cell_type": "markdown",
   "metadata": {},
   "source": [
    "Выделим отдельно средние по группам:"
   ]
  },
  {
   "cell_type": "code",
   "execution_count": 37,
   "metadata": {},
   "outputs": [],
   "source": [
    "cumulative_data_A = cumulative_data[cumulative_data['group']=='A']\n",
    "cumulative_data_B = cumulative_data[cumulative_data['group']=='B']"
   ]
  },
  {
   "cell_type": "markdown",
   "metadata": {},
   "source": [
    "#### 3.4.1 Построение графика кумулятивного среднего количества заказов на посетителя по группам"
   ]
  },
  {
   "cell_type": "markdown",
   "metadata": {},
   "source": [
    "Теперь у нас есть все данные для построения графика:"
   ]
  },
  {
   "cell_type": "code",
   "execution_count": 38,
   "metadata": {},
   "outputs": [
    {
     "data": {
      "image/png": "[encoded data removed]",
      "text/plain": [
       "<Figure size 640x480 with 1 Axes>"
      ]
     },
     "metadata": {},
     "output_type": "display_data"
    }
   ],
   "source": [
    "plt.plot(cumulative_data_A['date'], cumulative_data_A['conversion'], label='A')\n",
    "plt.plot(cumulative_data_B['date'], cumulative_data_B['conversion'], label='B')\n",
    "plt.xticks(rotation=90)\n",
    "plt.title('Кумулятивное среднее количество заказов на посетителя по группам')\n",
    "plt.legend()\n",
    "plt.show()"
   ]
  },
  {
   "cell_type": "markdown",
   "metadata": {},
   "source": [
    "#### Вывод"
   ]
  },
  {
   "cell_type": "markdown",
   "metadata": {},
   "source": [
    "В начале периода кумулятивное среднее количество заказов на одного пользователя было примерно одинаковым в обеих группах. Начиная приблизительно с 6 августа, в количество заказов на одного посетителя стало быстро расти в группе В и также быстро падать в группе А. Графики на этом участке становятся практически симметричными. Начиная с отметки 6 августа среднее количество заказов на одного посетителя в группе А стабильно меньше, чем в группе В, несмотря на постоянные колебания в обеих когортах."
   ]
  },
  {
   "cell_type": "markdown",
   "metadata": {},
   "source": [
    "### 3.5 График относительного изменения кумулятивного среднего количества заказов на посетителя группы B к группе A"
   ]
  },
  {
   "cell_type": "markdown",
   "metadata": {},
   "source": [
    "Перед построением графика объединим данные по среднему количеству заказов на одного пользователя в каждой группе:"
   ]
  },
  {
   "cell_type": "code",
   "execution_count": 39,
   "metadata": {},
   "outputs": [
    {
     "data": {
      "text/html": [
       "<div>\n",
       "<style scoped>\n",
       "    .dataframe tbody tr th:only-of-type {\n",
       "        vertical-align: middle;\n",
       "    }\n",
       "\n",
       "    .dataframe tbody tr th {\n",
       "        vertical-align: top;\n",
       "    }\n",
       "\n",
       "    .dataframe thead th {\n",
       "        text-align: right;\n",
       "    }\n",
       "</style>\n",
       "<table border=\"1\" class=\"dataframe\">\n",
       "  <thead>\n",
       "    <tr style=\"text-align: right;\">\n",
       "      <th></th>\n",
       "      <th>date</th>\n",
       "      <th>conversionA</th>\n",
       "      <th>conversionB</th>\n",
       "    </tr>\n",
       "  </thead>\n",
       "  <tbody>\n",
       "    <tr>\n",
       "      <th>0</th>\n",
       "      <td>2019-08-01</td>\n",
       "      <td>0.033380</td>\n",
       "      <td>0.029453</td>\n",
       "    </tr>\n",
       "    <tr>\n",
       "      <th>1</th>\n",
       "      <td>2019-08-02</td>\n",
       "      <td>0.032885</td>\n",
       "      <td>0.034776</td>\n",
       "    </tr>\n",
       "    <tr>\n",
       "      <th>2</th>\n",
       "      <td>2019-08-03</td>\n",
       "      <td>0.036856</td>\n",
       "      <td>0.033833</td>\n",
       "    </tr>\n",
       "    <tr>\n",
       "      <th>3</th>\n",
       "      <td>2019-08-04</td>\n",
       "      <td>0.032787</td>\n",
       "      <td>0.030315</td>\n",
       "    </tr>\n",
       "    <tr>\n",
       "      <th>4</th>\n",
       "      <td>2019-08-05</td>\n",
       "      <td>0.032851</td>\n",
       "      <td>0.030793</td>\n",
       "    </tr>\n",
       "  </tbody>\n",
       "</table>\n",
       "</div>"
      ],
      "text/plain": [
       "        date  conversionA  conversionB\n",
       "0 2019-08-01  0.033380     0.029453   \n",
       "1 2019-08-02  0.032885     0.034776   \n",
       "2 2019-08-03  0.036856     0.033833   \n",
       "3 2019-08-04  0.032787     0.030315   \n",
       "4 2019-08-05  0.032851     0.030793   "
      ]
     },
     "execution_count": 39,
     "metadata": {},
     "output_type": "execute_result"
    }
   ],
   "source": [
    "merged_cumulative_conversions = cumulative_data_A[['date','conversion']].\\\n",
    "merge(cumulative_data_B[['date','conversion']],left_on='date', right_on='date', how='left', suffixes=['A', 'B'])\n",
    "merged_cumulative_conversions.head()"
   ]
  },
  {
   "cell_type": "markdown",
   "metadata": {},
   "source": [
    "#### 3.5.1 Построение графика относительного изменения кумулятивного среднего количества заказов на посетителя группы B к группе A"
   ]
  },
  {
   "cell_type": "markdown",
   "metadata": {},
   "source": [
    "Переходим к построению графика:"
   ]
  },
  {
   "cell_type": "code",
   "execution_count": 40,
   "metadata": {},
   "outputs": [
    {
     "data": {
      "image/png": "[encoded data removed]",
      "text/plain": [
       "<Figure size 640x480 with 1 Axes>"
      ]
     },
     "metadata": {},
     "output_type": "display_data"
    }
   ],
   "source": [
    "plt.plot(\n",
    "    merged_cumulative_conversions['date'], merged_cumulative_conversions['conversionB']/\n",
    "    merged_cumulative_conversions['conversionA']-1)\n",
    "plt.title('Относительный прирост кумулятивного среднего количества заказов на посетителя группы B к группе A')\n",
    "plt.xticks(rotation=90)\n",
    "plt.axhline(y=0, color='black', linestyle='--')\n",
    "plt.axhline(y=-0.1, color='grey', linestyle='--')\n",
    "plt.axhline(y=0.1, color='black', linestyle='--')\n",
    "plt.axhline(y=0.2, color='black', linestyle='--')\n",
    "plt.show()"
   ]
  },
  {
   "cell_type": "markdown",
   "metadata": {},
   "source": [
    "#### Вывод"
   ]
  },
  {
   "cell_type": "markdown",
   "metadata": {},
   "source": [
    "В начале теста группа B проигрывала группе A по кумулятивному количеству заказов на одного посетителя. Однако затем группа В стремительно вырвалась вперёд. Среднее кумулятивное количество заказов на одного посетителя в этой группе было значительно более высоким, чем у посетителей из группы А, начиная с 6 августа и до конца исследуемого периода."
   ]
  },
  {
   "cell_type": "markdown",
   "metadata": {},
   "source": [
    "### 3.6 Точечный график количества заказов по пользователям"
   ]
  },
  {
   "cell_type": "markdown",
   "metadata": {},
   "source": [
    "Для оценки выбросов по количеству заказов по пользователям в обеих группах, построим точечный график количества заказов по пользователям. Но для начала расчитаем количество заказов на одного пользователя."
   ]
  },
  {
   "cell_type": "code",
   "execution_count": 41,
   "metadata": {},
   "outputs": [
    {
     "data": {
      "text/html": [
       "<div>\n",
       "<style scoped>\n",
       "    .dataframe tbody tr th:only-of-type {\n",
       "        vertical-align: middle;\n",
       "    }\n",
       "\n",
       "    .dataframe tbody tr th {\n",
       "        vertical-align: top;\n",
       "    }\n",
       "\n",
       "    .dataframe thead th {\n",
       "        text-align: right;\n",
       "    }\n",
       "</style>\n",
       "<table border=\"1\" class=\"dataframe\">\n",
       "  <thead>\n",
       "    <tr style=\"text-align: right;\">\n",
       "      <th></th>\n",
       "      <th>visitor_id</th>\n",
       "      <th>orders</th>\n",
       "    </tr>\n",
       "  </thead>\n",
       "  <tbody>\n",
       "    <tr>\n",
       "      <th>1023</th>\n",
       "      <td>4256040402</td>\n",
       "      <td>11</td>\n",
       "    </tr>\n",
       "    <tr>\n",
       "      <th>591</th>\n",
       "      <td>2458001652</td>\n",
       "      <td>11</td>\n",
       "    </tr>\n",
       "    <tr>\n",
       "      <th>569</th>\n",
       "      <td>2378935119</td>\n",
       "      <td>9</td>\n",
       "    </tr>\n",
       "    <tr>\n",
       "      <th>487</th>\n",
       "      <td>2038680547</td>\n",
       "      <td>8</td>\n",
       "    </tr>\n",
       "    <tr>\n",
       "      <th>44</th>\n",
       "      <td>199603092</td>\n",
       "      <td>5</td>\n",
       "    </tr>\n",
       "    <tr>\n",
       "      <th>744</th>\n",
       "      <td>3062433592</td>\n",
       "      <td>5</td>\n",
       "    </tr>\n",
       "    <tr>\n",
       "      <th>55</th>\n",
       "      <td>237748145</td>\n",
       "      <td>5</td>\n",
       "    </tr>\n",
       "    <tr>\n",
       "      <th>917</th>\n",
       "      <td>3803269165</td>\n",
       "      <td>5</td>\n",
       "    </tr>\n",
       "    <tr>\n",
       "      <th>299</th>\n",
       "      <td>1230306981</td>\n",
       "      <td>5</td>\n",
       "    </tr>\n",
       "    <tr>\n",
       "      <th>897</th>\n",
       "      <td>3717692402</td>\n",
       "      <td>5</td>\n",
       "    </tr>\n",
       "  </tbody>\n",
       "</table>\n",
       "</div>"
      ],
      "text/plain": [
       "      visitor_id  orders\n",
       "1023  4256040402  11    \n",
       "591   2458001652  11    \n",
       "569   2378935119  9     \n",
       "487   2038680547  8     \n",
       "44    199603092   5     \n",
       "744   3062433592  5     \n",
       "55    237748145   5     \n",
       "917   3803269165  5     \n",
       "299   1230306981  5     \n",
       "897   3717692402  5     "
      ]
     },
     "execution_count": 41,
     "metadata": {},
     "output_type": "execute_result"
    }
   ],
   "source": [
    "# cгруппируем данные по заказам по visitor_id и посчитаем количество уникальных transaction_id\n",
    "orders_by_users = orders.groupby('visitor_id', as_index=False).agg({'transaction_id': 'nunique'})\n",
    "\n",
    "orders_by_users.columns = ['visitor_id', 'orders']\n",
    "\n",
    "# отсортируем значения по количеству заказов и выведем на экран первые 10 строк\n",
    "orders_by_users.sort_values(by='orders', ascending=False).head(10)"
   ]
  },
  {
   "cell_type": "markdown",
   "metadata": {},
   "source": [
    "#### 3.6.1 Построение точечного графика количества заказов по пользователям"
   ]
  },
  {
   "cell_type": "markdown",
   "metadata": {},
   "source": [
    "Теперь можно переходить к построению графика."
   ]
  },
  {
   "cell_type": "code",
   "execution_count": 42,
   "metadata": {},
   "outputs": [
    {
     "data": {
      "image/png": "[encoded data removed]",
      "text/plain": [
       "<Figure size 640x480 with 1 Axes>"
      ]
     },
     "metadata": {},
     "output_type": "display_data"
    }
   ],
   "source": [
    "x_values = pd.Series(range(0,len(orders_by_users)))\n",
    "\n",
    "plt.scatter(x_values, orders_by_users['orders']) \n",
    "plt.title('Точечный график количества заказов по пользователям')\n",
    "plt.show()"
   ]
  },
  {
   "cell_type": "markdown",
   "metadata": {},
   "source": [
    "#### Вывод"
   ]
  },
  {
   "cell_type": "markdown",
   "metadata": {},
   "source": [
    "У большинства покупателей количество заказов не превышает 1. У достаточно большого количества посетителей количество покупок составляет 2-3. Однако есть несколько посетителей с количеством заказов более 8. Выбросы по количеству заказов на пользователя обнаружены. Пользователи, совершившие такое большое количество покупок, могут сильно повлиять на результаты теста для их групп."
   ]
  },
  {
   "cell_type": "markdown",
   "metadata": {},
   "source": [
    "### 3.7 Подсчет 95-й и 99-й перцентили количества заказов на пользователя"
   ]
  },
  {
   "cell_type": "markdown",
   "metadata": {},
   "source": [
    "Посчитаем 95-й и 99-й перцентили количества заказов на одного пользователя:"
   ]
  },
  {
   "cell_type": "code",
   "execution_count": 43,
   "metadata": {},
   "outputs": [
    {
     "data": {
      "text/plain": [
       "array([2., 4.])"
      ]
     },
     "execution_count": 43,
     "metadata": {},
     "output_type": "execute_result"
    }
   ],
   "source": [
    "np.percentile(orders_by_users['orders'], [95, 99])"
   ]
  },
  {
   "cell_type": "markdown",
   "metadata": {},
   "source": [
    "#### Вывод"
   ]
  },
  {
   "cell_type": "markdown",
   "metadata": {},
   "source": [
    "Не более 5% пользователей оформляли больше, чем 2 заказа. И 1% пользователей делали заказы более 4 раз. Таким образом, количество заказов больше 4 будем считать аномальным."
   ]
  },
  {
   "cell_type": "markdown",
   "metadata": {},
   "source": [
    "### 3.8 Точечный график стоимостей заказов"
   ]
  },
  {
   "cell_type": "markdown",
   "metadata": {},
   "source": [
    "Теперь определим, есть ли выбросы по стоимости заказов. Для этого построим точечный график стоимостей."
   ]
  },
  {
   "cell_type": "code",
   "execution_count": 44,
   "metadata": {},
   "outputs": [
    {
     "data": {
      "image/png": "[encoded data removed]",
      "text/plain": [
       "<Figure size 640x480 with 1 Axes>"
      ]
     },
     "metadata": {},
     "output_type": "display_data"
    }
   ],
   "source": [
    "x_values = pd.Series(range(0,len(orders['revenue'])))\n",
    "plt.scatter(x_values, orders['revenue']) \n",
    "plt.title('Точечный график стоимостей заказов')\n",
    "plt.show()"
   ]
  },
  {
   "cell_type": "markdown",
   "metadata": {},
   "source": [
    "#### Вывод"
   ]
  },
  {
   "cell_type": "markdown",
   "metadata": {},
   "source": [
    "В глаза сразу бросается один очень крупный заказ на сумму 1,2 миллиона. Хотя даже заказ на сумму 0,2 миллиона, судя по графику, уже является аномально дорогостоящим для среднего посетителя. Для большинства покупателей сумма заказа не превышает 100 тысяч."
   ]
  },
  {
   "cell_type": "markdown",
   "metadata": {},
   "source": [
    "### 3.9 Подсчет 95-й и 99-й перцентили стоимости заказов"
   ]
  },
  {
   "cell_type": "markdown",
   "metadata": {},
   "source": [
    "Посчитаем 95-й и 99-й перцентили стоимости заказов:"
   ]
  },
  {
   "cell_type": "code",
   "execution_count": 45,
   "metadata": {},
   "outputs": [
    {
     "data": {
      "text/plain": [
       "array([28000. , 58233.2])"
      ]
     },
     "execution_count": 45,
     "metadata": {},
     "output_type": "execute_result"
    }
   ],
   "source": [
    "np.percentile(orders['revenue'], [95, 99])"
   ]
  },
  {
   "cell_type": "markdown",
   "metadata": {},
   "source": [
    "#### Вывод"
   ]
  },
  {
   "cell_type": "markdown",
   "metadata": {},
   "source": [
    "5% заказов были оформлены на сумму свыше 28 тысяч. И 1% заказов были оформлены на сумму свыше 58,2 тысяч. Таким образом, сумма заказа свыше 58,2 тысяч является экстремально большой, то есть - аномальной."
   ]
  },
  {
   "cell_type": "markdown",
   "metadata": {},
   "source": [
    "### 3.10 Статистическая значимость различий в среднем количестве заказов на посетителя между группами"
   ]
  },
  {
   "cell_type": "markdown",
   "metadata": {},
   "source": [
    "Посчитаем статистическую значимость различий в среднем количестве заказов на пользователя между группами. Расчеты будем производить по данным, включающим информацию об аномальных пользователях и заказах.\n",
    "\n",
    "Сформулируем гипотезы. **Нулевая:** различий в среднем количестве заказов между группами нет. **Альтернативная:** различия в среднем между группами есть."
   ]
  },
  {
   "cell_type": "markdown",
   "metadata": {},
   "source": [
    "#### 3.10.1 Подготовка данных к анализу"
   ]
  },
  {
   "cell_type": "markdown",
   "metadata": {},
   "source": [
    "Подготовим данные для анализа."
   ]
  },
  {
   "cell_type": "markdown",
   "metadata": {},
   "source": [
    "Рассчитаем количество посестителей в день в группе А:"
   ]
  },
  {
   "cell_type": "code",
   "execution_count": 46,
   "metadata": {},
   "outputs": [
    {
     "data": {
      "text/html": [
       "<div>\n",
       "<style scoped>\n",
       "    .dataframe tbody tr th:only-of-type {\n",
       "        vertical-align: middle;\n",
       "    }\n",
       "\n",
       "    .dataframe tbody tr th {\n",
       "        vertical-align: top;\n",
       "    }\n",
       "\n",
       "    .dataframe thead th {\n",
       "        text-align: right;\n",
       "    }\n",
       "</style>\n",
       "<table border=\"1\" class=\"dataframe\">\n",
       "  <thead>\n",
       "    <tr style=\"text-align: right;\">\n",
       "      <th></th>\n",
       "      <th>date</th>\n",
       "      <th>visitors_per_date_A</th>\n",
       "    </tr>\n",
       "  </thead>\n",
       "  <tbody>\n",
       "    <tr>\n",
       "      <th>0</th>\n",
       "      <td>2019-08-01</td>\n",
       "      <td>719</td>\n",
       "    </tr>\n",
       "    <tr>\n",
       "      <th>1</th>\n",
       "      <td>2019-08-02</td>\n",
       "      <td>619</td>\n",
       "    </tr>\n",
       "    <tr>\n",
       "      <th>2</th>\n",
       "      <td>2019-08-03</td>\n",
       "      <td>507</td>\n",
       "    </tr>\n",
       "    <tr>\n",
       "      <th>3</th>\n",
       "      <td>2019-08-04</td>\n",
       "      <td>717</td>\n",
       "    </tr>\n",
       "    <tr>\n",
       "      <th>4</th>\n",
       "      <td>2019-08-05</td>\n",
       "      <td>756</td>\n",
       "    </tr>\n",
       "  </tbody>\n",
       "</table>\n",
       "</div>"
      ],
      "text/plain": [
       "        date  visitors_per_date_A\n",
       "0 2019-08-01  719                \n",
       "1 2019-08-02  619                \n",
       "2 2019-08-03  507                \n",
       "3 2019-08-04  717                \n",
       "4 2019-08-05  756                "
      ]
     },
     "execution_count": 46,
     "metadata": {},
     "output_type": "execute_result"
    }
   ],
   "source": [
    "visitors_A_daily = visitors[visitors['group'] == 'A'][['date', 'visitors']]\n",
    "visitors_A_daily.columns = ['date', 'visitors_per_date_A']\n",
    "visitors_A_daily.head()"
   ]
  },
  {
   "cell_type": "markdown",
   "metadata": {},
   "source": [
    "Теперь рассчитаем кумулятивное количество пользователей в день в группе А:"
   ]
  },
  {
   "cell_type": "code",
   "execution_count": 47,
   "metadata": {},
   "outputs": [
    {
     "data": {
      "text/html": [
       "<div>\n",
       "<style scoped>\n",
       "    .dataframe tbody tr th:only-of-type {\n",
       "        vertical-align: middle;\n",
       "    }\n",
       "\n",
       "    .dataframe tbody tr th {\n",
       "        vertical-align: top;\n",
       "    }\n",
       "\n",
       "    .dataframe thead th {\n",
       "        text-align: right;\n",
       "    }\n",
       "</style>\n",
       "<table border=\"1\" class=\"dataframe\">\n",
       "  <thead>\n",
       "    <tr style=\"text-align: right;\">\n",
       "      <th></th>\n",
       "      <th>date</th>\n",
       "      <th>visitors_A_сummulative</th>\n",
       "    </tr>\n",
       "  </thead>\n",
       "  <tbody>\n",
       "    <tr>\n",
       "      <th>0</th>\n",
       "      <td>2019-08-01</td>\n",
       "      <td>719</td>\n",
       "    </tr>\n",
       "    <tr>\n",
       "      <th>1</th>\n",
       "      <td>2019-08-02</td>\n",
       "      <td>1338</td>\n",
       "    </tr>\n",
       "    <tr>\n",
       "      <th>2</th>\n",
       "      <td>2019-08-03</td>\n",
       "      <td>1845</td>\n",
       "    </tr>\n",
       "    <tr>\n",
       "      <th>3</th>\n",
       "      <td>2019-08-04</td>\n",
       "      <td>2562</td>\n",
       "    </tr>\n",
       "    <tr>\n",
       "      <th>4</th>\n",
       "      <td>2019-08-05</td>\n",
       "      <td>3318</td>\n",
       "    </tr>\n",
       "  </tbody>\n",
       "</table>\n",
       "</div>"
      ],
      "text/plain": [
       "        date  visitors_A_сummulative\n",
       "0 2019-08-01  719                   \n",
       "1 2019-08-02  1338                  \n",
       "2 2019-08-03  1845                  \n",
       "3 2019-08-04  2562                  \n",
       "4 2019-08-05  3318                  "
      ]
     },
     "execution_count": 47,
     "metadata": {},
     "output_type": "execute_result"
    }
   ],
   "source": [
    "visitors_A_сummulative = visitors_A_daily.apply(lambda x: visitors_A_daily[visitors_A_daily['date'] <= x['date']]\\\n",
    ".agg({'date': 'max', 'visitors_per_date_A': 'sum'}), axis=1)\n",
    "\n",
    "visitors_A_сummulative.columns = ['date', 'visitors_A_сummulative']\n",
    "visitors_A_сummulative.head()"
   ]
  },
  {
   "cell_type": "markdown",
   "metadata": {},
   "source": [
    "Аналогичные подсчеты сделаем для группы В."
   ]
  },
  {
   "cell_type": "code",
   "execution_count": 48,
   "metadata": {},
   "outputs": [
    {
     "data": {
      "text/html": [
       "<div>\n",
       "<style scoped>\n",
       "    .dataframe tbody tr th:only-of-type {\n",
       "        vertical-align: middle;\n",
       "    }\n",
       "\n",
       "    .dataframe tbody tr th {\n",
       "        vertical-align: top;\n",
       "    }\n",
       "\n",
       "    .dataframe thead th {\n",
       "        text-align: right;\n",
       "    }\n",
       "</style>\n",
       "<table border=\"1\" class=\"dataframe\">\n",
       "  <thead>\n",
       "    <tr style=\"text-align: right;\">\n",
       "      <th></th>\n",
       "      <th>date</th>\n",
       "      <th>visitors_per_date_B</th>\n",
       "    </tr>\n",
       "  </thead>\n",
       "  <tbody>\n",
       "    <tr>\n",
       "      <th>31</th>\n",
       "      <td>2019-08-01</td>\n",
       "      <td>713</td>\n",
       "    </tr>\n",
       "    <tr>\n",
       "      <th>32</th>\n",
       "      <td>2019-08-02</td>\n",
       "      <td>581</td>\n",
       "    </tr>\n",
       "    <tr>\n",
       "      <th>33</th>\n",
       "      <td>2019-08-03</td>\n",
       "      <td>509</td>\n",
       "    </tr>\n",
       "    <tr>\n",
       "      <th>34</th>\n",
       "      <td>2019-08-04</td>\n",
       "      <td>770</td>\n",
       "    </tr>\n",
       "    <tr>\n",
       "      <th>35</th>\n",
       "      <td>2019-08-05</td>\n",
       "      <td>707</td>\n",
       "    </tr>\n",
       "  </tbody>\n",
       "</table>\n",
       "</div>"
      ],
      "text/plain": [
       "         date  visitors_per_date_B\n",
       "31 2019-08-01  713                \n",
       "32 2019-08-02  581                \n",
       "33 2019-08-03  509                \n",
       "34 2019-08-04  770                \n",
       "35 2019-08-05  707                "
      ]
     },
     "execution_count": 48,
     "metadata": {},
     "output_type": "execute_result"
    }
   ],
   "source": [
    "# подсчитаем количество посетителей в группе В в день\n",
    "\n",
    "visitors_B_daily = visitors[visitors['group'] == 'B'][['date', 'visitors']]\n",
    "visitors_B_daily.columns = ['date', 'visitors_per_date_B']\n",
    "visitors_B_daily.head()"
   ]
  },
  {
   "cell_type": "code",
   "execution_count": 49,
   "metadata": {},
   "outputs": [
    {
     "data": {
      "text/html": [
       "<div>\n",
       "<style scoped>\n",
       "    .dataframe tbody tr th:only-of-type {\n",
       "        vertical-align: middle;\n",
       "    }\n",
       "\n",
       "    .dataframe tbody tr th {\n",
       "        vertical-align: top;\n",
       "    }\n",
       "\n",
       "    .dataframe thead th {\n",
       "        text-align: right;\n",
       "    }\n",
       "</style>\n",
       "<table border=\"1\" class=\"dataframe\">\n",
       "  <thead>\n",
       "    <tr style=\"text-align: right;\">\n",
       "      <th></th>\n",
       "      <th>date</th>\n",
       "      <th>visitors_cummulative_B</th>\n",
       "    </tr>\n",
       "  </thead>\n",
       "  <tbody>\n",
       "    <tr>\n",
       "      <th>31</th>\n",
       "      <td>2019-08-01</td>\n",
       "      <td>713</td>\n",
       "    </tr>\n",
       "    <tr>\n",
       "      <th>32</th>\n",
       "      <td>2019-08-02</td>\n",
       "      <td>1294</td>\n",
       "    </tr>\n",
       "    <tr>\n",
       "      <th>33</th>\n",
       "      <td>2019-08-03</td>\n",
       "      <td>1803</td>\n",
       "    </tr>\n",
       "    <tr>\n",
       "      <th>34</th>\n",
       "      <td>2019-08-04</td>\n",
       "      <td>2573</td>\n",
       "    </tr>\n",
       "    <tr>\n",
       "      <th>35</th>\n",
       "      <td>2019-08-05</td>\n",
       "      <td>3280</td>\n",
       "    </tr>\n",
       "  </tbody>\n",
       "</table>\n",
       "</div>"
      ],
      "text/plain": [
       "         date  visitors_cummulative_B\n",
       "31 2019-08-01  713                   \n",
       "32 2019-08-02  1294                  \n",
       "33 2019-08-03  1803                  \n",
       "34 2019-08-04  2573                  \n",
       "35 2019-08-05  3280                  "
      ]
     },
     "execution_count": 49,
     "metadata": {},
     "output_type": "execute_result"
    }
   ],
   "source": [
    "# подсчитаем кумулятивное количество посетителей в группе В в день\n",
    "\n",
    "visitors_B_сummulative = visitors_B_daily.apply(lambda x: visitors_B_daily[visitors_B_daily['date'] <= x['date']]\\\n",
    ".agg({'date': 'max', 'visitors_per_date_B': 'sum'}), axis=1)\n",
    "\n",
    "visitors_B_сummulative.columns = ['date', 'visitors_cummulative_B']\n",
    "visitors_B_сummulative.head()"
   ]
  },
  {
   "cell_type": "markdown",
   "metadata": {},
   "source": [
    "Далее рассчитаем количество заказов в день в каждой группе."
   ]
  },
  {
   "cell_type": "code",
   "execution_count": 50,
   "metadata": {},
   "outputs": [
    {
     "data": {
      "text/html": [
       "<div>\n",
       "<style scoped>\n",
       "    .dataframe tbody tr th:only-of-type {\n",
       "        vertical-align: middle;\n",
       "    }\n",
       "\n",
       "    .dataframe tbody tr th {\n",
       "        vertical-align: top;\n",
       "    }\n",
       "\n",
       "    .dataframe thead th {\n",
       "        text-align: right;\n",
       "    }\n",
       "</style>\n",
       "<table border=\"1\" class=\"dataframe\">\n",
       "  <thead>\n",
       "    <tr style=\"text-align: right;\">\n",
       "      <th></th>\n",
       "      <th>date</th>\n",
       "      <th>orders_per_date_A</th>\n",
       "      <th>revenue_per_date_A</th>\n",
       "    </tr>\n",
       "  </thead>\n",
       "  <tbody>\n",
       "    <tr>\n",
       "      <th>0</th>\n",
       "      <td>2019-08-01</td>\n",
       "      <td>24</td>\n",
       "      <td>148579</td>\n",
       "    </tr>\n",
       "    <tr>\n",
       "      <th>1</th>\n",
       "      <td>2019-08-02</td>\n",
       "      <td>20</td>\n",
       "      <td>93822</td>\n",
       "    </tr>\n",
       "    <tr>\n",
       "      <th>2</th>\n",
       "      <td>2019-08-03</td>\n",
       "      <td>24</td>\n",
       "      <td>112473</td>\n",
       "    </tr>\n",
       "    <tr>\n",
       "      <th>3</th>\n",
       "      <td>2019-08-04</td>\n",
       "      <td>16</td>\n",
       "      <td>70825</td>\n",
       "    </tr>\n",
       "    <tr>\n",
       "      <th>4</th>\n",
       "      <td>2019-08-05</td>\n",
       "      <td>25</td>\n",
       "      <td>124218</td>\n",
       "    </tr>\n",
       "  </tbody>\n",
       "</table>\n",
       "</div>"
      ],
      "text/plain": [
       "        date  orders_per_date_A  revenue_per_date_A\n",
       "0 2019-08-01  24                 148579            \n",
       "1 2019-08-02  20                 93822             \n",
       "2 2019-08-03  24                 112473            \n",
       "3 2019-08-04  16                 70825             \n",
       "4 2019-08-05  25                 124218            "
      ]
     },
     "execution_count": 50,
     "metadata": {},
     "output_type": "execute_result"
    }
   ],
   "source": [
    "# считаем количество заказов в день в группе А\n",
    "\n",
    "orders_A_daily = orders[orders['group'] == 'A'][['date', 'transaction_id', 'visitor_id', 'revenue']].\\\n",
    "groupby('date', as_index=False).agg({'transaction_id': pd.Series.nunique, 'revenue': 'sum'})\n",
    "orders_A_daily.columns = ['date', 'orders_per_date_A', 'revenue_per_date_A']\n",
    "orders_A_daily.head()"
   ]
  },
  {
   "cell_type": "code",
   "execution_count": 51,
   "metadata": {},
   "outputs": [
    {
     "data": {
      "text/html": [
       "<div>\n",
       "<style scoped>\n",
       "    .dataframe tbody tr th:only-of-type {\n",
       "        vertical-align: middle;\n",
       "    }\n",
       "\n",
       "    .dataframe tbody tr th {\n",
       "        vertical-align: top;\n",
       "    }\n",
       "\n",
       "    .dataframe thead th {\n",
       "        text-align: right;\n",
       "    }\n",
       "</style>\n",
       "<table border=\"1\" class=\"dataframe\">\n",
       "  <thead>\n",
       "    <tr style=\"text-align: right;\">\n",
       "      <th></th>\n",
       "      <th>date</th>\n",
       "      <th>orders_cummulative_A</th>\n",
       "      <th>revenue_cummulative_A</th>\n",
       "    </tr>\n",
       "  </thead>\n",
       "  <tbody>\n",
       "    <tr>\n",
       "      <th>0</th>\n",
       "      <td>2019-08-01</td>\n",
       "      <td>24</td>\n",
       "      <td>148579</td>\n",
       "    </tr>\n",
       "    <tr>\n",
       "      <th>1</th>\n",
       "      <td>2019-08-02</td>\n",
       "      <td>44</td>\n",
       "      <td>242401</td>\n",
       "    </tr>\n",
       "    <tr>\n",
       "      <th>2</th>\n",
       "      <td>2019-08-03</td>\n",
       "      <td>68</td>\n",
       "      <td>354874</td>\n",
       "    </tr>\n",
       "    <tr>\n",
       "      <th>3</th>\n",
       "      <td>2019-08-04</td>\n",
       "      <td>84</td>\n",
       "      <td>425699</td>\n",
       "    </tr>\n",
       "    <tr>\n",
       "      <th>4</th>\n",
       "      <td>2019-08-05</td>\n",
       "      <td>109</td>\n",
       "      <td>549917</td>\n",
       "    </tr>\n",
       "  </tbody>\n",
       "</table>\n",
       "</div>"
      ],
      "text/plain": [
       "        date  orders_cummulative_A  revenue_cummulative_A\n",
       "0 2019-08-01  24                    148579               \n",
       "1 2019-08-02  44                    242401               \n",
       "2 2019-08-03  68                    354874               \n",
       "3 2019-08-04  84                    425699               \n",
       "4 2019-08-05  109                   549917               "
      ]
     },
     "execution_count": 51,
     "metadata": {},
     "output_type": "execute_result"
    }
   ],
   "source": [
    "# считаем кумулятивное количество заказов в день в группе А\n",
    "\n",
    "orders_A_сummulative = orders_A_daily.apply(lambda x: orders_A_daily[orders_A_daily['date'] <= x['date']].\\\n",
    "agg({'date': 'max', 'orders_per_date_A': 'sum', 'revenue_per_date_A': 'sum'}),axis=1).sort_values(by=['date'])\n",
    "\n",
    "orders_A_сummulative.columns = ['date','orders_cummulative_A','revenue_cummulative_A']\n",
    "orders_A_сummulative.head()"
   ]
  },
  {
   "cell_type": "code",
   "execution_count": 52,
   "metadata": {},
   "outputs": [
    {
     "data": {
      "text/html": [
       "<div>\n",
       "<style scoped>\n",
       "    .dataframe tbody tr th:only-of-type {\n",
       "        vertical-align: middle;\n",
       "    }\n",
       "\n",
       "    .dataframe tbody tr th {\n",
       "        vertical-align: top;\n",
       "    }\n",
       "\n",
       "    .dataframe thead th {\n",
       "        text-align: right;\n",
       "    }\n",
       "</style>\n",
       "<table border=\"1\" class=\"dataframe\">\n",
       "  <thead>\n",
       "    <tr style=\"text-align: right;\">\n",
       "      <th></th>\n",
       "      <th>date</th>\n",
       "      <th>orders_per_date_B</th>\n",
       "      <th>revenue_per_date_B</th>\n",
       "    </tr>\n",
       "  </thead>\n",
       "  <tbody>\n",
       "    <tr>\n",
       "      <th>0</th>\n",
       "      <td>2019-08-01</td>\n",
       "      <td>21</td>\n",
       "      <td>101217</td>\n",
       "    </tr>\n",
       "    <tr>\n",
       "      <th>1</th>\n",
       "      <td>2019-08-02</td>\n",
       "      <td>24</td>\n",
       "      <td>165531</td>\n",
       "    </tr>\n",
       "    <tr>\n",
       "      <th>2</th>\n",
       "      <td>2019-08-03</td>\n",
       "      <td>16</td>\n",
       "      <td>114248</td>\n",
       "    </tr>\n",
       "    <tr>\n",
       "      <th>3</th>\n",
       "      <td>2019-08-04</td>\n",
       "      <td>17</td>\n",
       "      <td>108571</td>\n",
       "    </tr>\n",
       "    <tr>\n",
       "      <th>4</th>\n",
       "      <td>2019-08-05</td>\n",
       "      <td>23</td>\n",
       "      <td>92428</td>\n",
       "    </tr>\n",
       "  </tbody>\n",
       "</table>\n",
       "</div>"
      ],
      "text/plain": [
       "        date  orders_per_date_B  revenue_per_date_B\n",
       "0 2019-08-01  21                 101217            \n",
       "1 2019-08-02  24                 165531            \n",
       "2 2019-08-03  16                 114248            \n",
       "3 2019-08-04  17                 108571            \n",
       "4 2019-08-05  23                 92428             "
      ]
     },
     "execution_count": 52,
     "metadata": {},
     "output_type": "execute_result"
    }
   ],
   "source": [
    "# считаем количество заказов в день в группе B\n",
    "orders_B_daily = orders[orders['group'] == 'B'][['date', 'transaction_id', 'visitor_id', 'revenue']]\\\n",
    "    .groupby('date', as_index=False).agg({'transaction_id': pd.Series.nunique, 'revenue': 'sum'})\n",
    "\n",
    "orders_B_daily.columns = ['date', 'orders_per_date_B', 'revenue_per_date_B']\n",
    "orders_B_daily.head()"
   ]
  },
  {
   "cell_type": "code",
   "execution_count": 53,
   "metadata": {},
   "outputs": [
    {
     "data": {
      "text/html": [
       "<div>\n",
       "<style scoped>\n",
       "    .dataframe tbody tr th:only-of-type {\n",
       "        vertical-align: middle;\n",
       "    }\n",
       "\n",
       "    .dataframe tbody tr th {\n",
       "        vertical-align: top;\n",
       "    }\n",
       "\n",
       "    .dataframe thead th {\n",
       "        text-align: right;\n",
       "    }\n",
       "</style>\n",
       "<table border=\"1\" class=\"dataframe\">\n",
       "  <thead>\n",
       "    <tr style=\"text-align: right;\">\n",
       "      <th></th>\n",
       "      <th>date</th>\n",
       "      <th>orders_cummulative_B</th>\n",
       "      <th>revenue_cummulative_B</th>\n",
       "    </tr>\n",
       "  </thead>\n",
       "  <tbody>\n",
       "    <tr>\n",
       "      <th>0</th>\n",
       "      <td>2019-08-01</td>\n",
       "      <td>21</td>\n",
       "      <td>101217</td>\n",
       "    </tr>\n",
       "    <tr>\n",
       "      <th>1</th>\n",
       "      <td>2019-08-02</td>\n",
       "      <td>45</td>\n",
       "      <td>266748</td>\n",
       "    </tr>\n",
       "    <tr>\n",
       "      <th>2</th>\n",
       "      <td>2019-08-03</td>\n",
       "      <td>61</td>\n",
       "      <td>380996</td>\n",
       "    </tr>\n",
       "    <tr>\n",
       "      <th>3</th>\n",
       "      <td>2019-08-04</td>\n",
       "      <td>78</td>\n",
       "      <td>489567</td>\n",
       "    </tr>\n",
       "    <tr>\n",
       "      <th>4</th>\n",
       "      <td>2019-08-05</td>\n",
       "      <td>101</td>\n",
       "      <td>581995</td>\n",
       "    </tr>\n",
       "  </tbody>\n",
       "</table>\n",
       "</div>"
      ],
      "text/plain": [
       "        date  orders_cummulative_B  revenue_cummulative_B\n",
       "0 2019-08-01  21                    101217               \n",
       "1 2019-08-02  45                    266748               \n",
       "2 2019-08-03  61                    380996               \n",
       "3 2019-08-04  78                    489567               \n",
       "4 2019-08-05  101                   581995               "
      ]
     },
     "execution_count": 53,
     "metadata": {},
     "output_type": "execute_result"
    }
   ],
   "source": [
    "# считаем кумулятивное количество заказов в день в группе B\n",
    "\n",
    "orders_B_сummulative = orders_B_daily.apply(lambda x: orders_B_daily[orders_B_daily['date'] <= x['date']].\\\n",
    "agg({'date': 'max', 'orders_per_date_B': 'sum', 'revenue_per_date_B': 'sum'}),axis=1).sort_values(by=['date'])\n",
    "\n",
    "orders_B_сummulative.columns = ['date','orders_cummulative_B','revenue_cummulative_B']\n",
    "orders_B_сummulative.head()"
   ]
  },
  {
   "cell_type": "markdown",
   "metadata": {},
   "source": [
    "Объединим таблицы с данными о количестве пользователей и заказов в день в каждой группе с данными о кумулятивном количестве пользователей и заказов в день в каждой группе:"
   ]
  },
  {
   "cell_type": "code",
   "execution_count": 54,
   "metadata": {},
   "outputs": [
    {
     "data": {
      "text/html": [
       "<div>\n",
       "<style scoped>\n",
       "    .dataframe tbody tr th:only-of-type {\n",
       "        vertical-align: middle;\n",
       "    }\n",
       "\n",
       "    .dataframe tbody tr th {\n",
       "        vertical-align: top;\n",
       "    }\n",
       "\n",
       "    .dataframe thead th {\n",
       "        text-align: right;\n",
       "    }\n",
       "</style>\n",
       "<table border=\"1\" class=\"dataframe\">\n",
       "  <thead>\n",
       "    <tr style=\"text-align: right;\">\n",
       "      <th></th>\n",
       "      <th>date</th>\n",
       "      <th>orders_per_date_A</th>\n",
       "      <th>revenue_per_date_A</th>\n",
       "      <th>orders_per_date_B</th>\n",
       "      <th>revenue_per_date_B</th>\n",
       "      <th>orders_cummulative_A</th>\n",
       "      <th>revenue_cummulative_A</th>\n",
       "      <th>orders_cummulative_B</th>\n",
       "      <th>revenue_cummulative_B</th>\n",
       "      <th>visitors_per_date_A</th>\n",
       "      <th>visitors_per_date_B</th>\n",
       "      <th>visitors_A_сummulative</th>\n",
       "      <th>visitors_cummulative_B</th>\n",
       "    </tr>\n",
       "  </thead>\n",
       "  <tbody>\n",
       "    <tr>\n",
       "      <th>0</th>\n",
       "      <td>2019-08-01</td>\n",
       "      <td>24</td>\n",
       "      <td>148579</td>\n",
       "      <td>21</td>\n",
       "      <td>101217</td>\n",
       "      <td>24</td>\n",
       "      <td>148579</td>\n",
       "      <td>21</td>\n",
       "      <td>101217</td>\n",
       "      <td>719</td>\n",
       "      <td>713</td>\n",
       "      <td>719</td>\n",
       "      <td>713</td>\n",
       "    </tr>\n",
       "    <tr>\n",
       "      <th>1</th>\n",
       "      <td>2019-08-02</td>\n",
       "      <td>20</td>\n",
       "      <td>93822</td>\n",
       "      <td>24</td>\n",
       "      <td>165531</td>\n",
       "      <td>44</td>\n",
       "      <td>242401</td>\n",
       "      <td>45</td>\n",
       "      <td>266748</td>\n",
       "      <td>619</td>\n",
       "      <td>581</td>\n",
       "      <td>1338</td>\n",
       "      <td>1294</td>\n",
       "    </tr>\n",
       "    <tr>\n",
       "      <th>2</th>\n",
       "      <td>2019-08-03</td>\n",
       "      <td>24</td>\n",
       "      <td>112473</td>\n",
       "      <td>16</td>\n",
       "      <td>114248</td>\n",
       "      <td>68</td>\n",
       "      <td>354874</td>\n",
       "      <td>61</td>\n",
       "      <td>380996</td>\n",
       "      <td>507</td>\n",
       "      <td>509</td>\n",
       "      <td>1845</td>\n",
       "      <td>1803</td>\n",
       "    </tr>\n",
       "    <tr>\n",
       "      <th>3</th>\n",
       "      <td>2019-08-04</td>\n",
       "      <td>16</td>\n",
       "      <td>70825</td>\n",
       "      <td>17</td>\n",
       "      <td>108571</td>\n",
       "      <td>84</td>\n",
       "      <td>425699</td>\n",
       "      <td>78</td>\n",
       "      <td>489567</td>\n",
       "      <td>717</td>\n",
       "      <td>770</td>\n",
       "      <td>2562</td>\n",
       "      <td>2573</td>\n",
       "    </tr>\n",
       "    <tr>\n",
       "      <th>4</th>\n",
       "      <td>2019-08-05</td>\n",
       "      <td>25</td>\n",
       "      <td>124218</td>\n",
       "      <td>23</td>\n",
       "      <td>92428</td>\n",
       "      <td>109</td>\n",
       "      <td>549917</td>\n",
       "      <td>101</td>\n",
       "      <td>581995</td>\n",
       "      <td>756</td>\n",
       "      <td>707</td>\n",
       "      <td>3318</td>\n",
       "      <td>3280</td>\n",
       "    </tr>\n",
       "  </tbody>\n",
       "</table>\n",
       "</div>"
      ],
      "text/plain": [
       "        date  orders_per_date_A  revenue_per_date_A  orders_per_date_B  \\\n",
       "0 2019-08-01  24                 148579              21                  \n",
       "1 2019-08-02  20                 93822               24                  \n",
       "2 2019-08-03  24                 112473              16                  \n",
       "3 2019-08-04  16                 70825               17                  \n",
       "4 2019-08-05  25                 124218              23                  \n",
       "\n",
       "   revenue_per_date_B  orders_cummulative_A  revenue_cummulative_A  \\\n",
       "0  101217              24                    148579                  \n",
       "1  165531              44                    242401                  \n",
       "2  114248              68                    354874                  \n",
       "3  108571              84                    425699                  \n",
       "4  92428               109                   549917                  \n",
       "\n",
       "   orders_cummulative_B  revenue_cummulative_B  visitors_per_date_A  \\\n",
       "0  21                    101217                 719                   \n",
       "1  45                    266748                 619                   \n",
       "2  61                    380996                 507                   \n",
       "3  78                    489567                 717                   \n",
       "4  101                   581995                 756                   \n",
       "\n",
       "   visitors_per_date_B  visitors_A_сummulative  visitors_cummulative_B  \n",
       "0  713                  719                     713                     \n",
       "1  581                  1338                    1294                    \n",
       "2  509                  1845                    1803                    \n",
       "3  770                  2562                    2573                    \n",
       "4  707                  3318                    3280                    "
      ]
     },
     "execution_count": 54,
     "metadata": {},
     "output_type": "execute_result"
    }
   ],
   "source": [
    "data = (\n",
    "    orders_A_daily.merge(\n",
    "        orders_B_daily, left_on='date', right_on='date', how='left'\n",
    "    )\n",
    "    .merge(orders_A_сummulative, left_on='date', right_on='date', how='left')\n",
    "    .merge(orders_B_сummulative, left_on='date', right_on='date', how='left')\n",
    "    .merge(visitors_A_daily, left_on='date', right_on='date', how='left')\n",
    "    .merge(visitors_B_daily, left_on='date', right_on='date', how='left')\n",
    "    .merge(visitors_A_сummulative, left_on='date', right_on='date', how='left')\n",
    "    .merge(visitors_B_сummulative, left_on='date', right_on='date', how='left')\n",
    ")\n",
    "data.head()"
   ]
  },
  {
   "cell_type": "markdown",
   "metadata": {},
   "source": [
    "Рассчитаем количество заказов на одного посетителя в группе А:"
   ]
  },
  {
   "cell_type": "code",
   "execution_count": 55,
   "metadata": {},
   "outputs": [
    {
     "data": {
      "text/html": [
       "<div>\n",
       "<style scoped>\n",
       "    .dataframe tbody tr th:only-of-type {\n",
       "        vertical-align: middle;\n",
       "    }\n",
       "\n",
       "    .dataframe tbody tr th {\n",
       "        vertical-align: top;\n",
       "    }\n",
       "\n",
       "    .dataframe thead th {\n",
       "        text-align: right;\n",
       "    }\n",
       "</style>\n",
       "<table border=\"1\" class=\"dataframe\">\n",
       "  <thead>\n",
       "    <tr style=\"text-align: right;\">\n",
       "      <th></th>\n",
       "      <th>user_id</th>\n",
       "      <th>orders</th>\n",
       "    </tr>\n",
       "  </thead>\n",
       "  <tbody>\n",
       "    <tr>\n",
       "      <th>0</th>\n",
       "      <td>8300375</td>\n",
       "      <td>1</td>\n",
       "    </tr>\n",
       "    <tr>\n",
       "      <th>1</th>\n",
       "      <td>11685486</td>\n",
       "      <td>1</td>\n",
       "    </tr>\n",
       "    <tr>\n",
       "      <th>2</th>\n",
       "      <td>54447517</td>\n",
       "      <td>1</td>\n",
       "    </tr>\n",
       "    <tr>\n",
       "      <th>3</th>\n",
       "      <td>66685450</td>\n",
       "      <td>1</td>\n",
       "    </tr>\n",
       "    <tr>\n",
       "      <th>4</th>\n",
       "      <td>78758296</td>\n",
       "      <td>1</td>\n",
       "    </tr>\n",
       "  </tbody>\n",
       "</table>\n",
       "</div>"
      ],
      "text/plain": [
       "    user_id  orders\n",
       "0  8300375   1     \n",
       "1  11685486  1     \n",
       "2  54447517  1     \n",
       "3  66685450  1     \n",
       "4  78758296  1     "
      ]
     },
     "execution_count": 55,
     "metadata": {},
     "output_type": "execute_result"
    }
   ],
   "source": [
    "orders_by_users_A = (\n",
    "    orders[orders['group'] == 'A']\n",
    "    .groupby('visitor_id', as_index=False)\n",
    "    .agg({'transaction_id': pd.Series.nunique})\n",
    ")\n",
    "\n",
    "orders_by_users_A.columns = ['user_id', 'orders']\n",
    "orders_by_users_A.head()"
   ]
  },
  {
   "cell_type": "markdown",
   "metadata": {},
   "source": [
    "Рассчитаем количество заказов на одного посетителя в группе B:"
   ]
  },
  {
   "cell_type": "code",
   "execution_count": 56,
   "metadata": {},
   "outputs": [
    {
     "data": {
      "text/html": [
       "<div>\n",
       "<style scoped>\n",
       "    .dataframe tbody tr th:only-of-type {\n",
       "        vertical-align: middle;\n",
       "    }\n",
       "\n",
       "    .dataframe tbody tr th {\n",
       "        vertical-align: top;\n",
       "    }\n",
       "\n",
       "    .dataframe thead th {\n",
       "        text-align: right;\n",
       "    }\n",
       "</style>\n",
       "<table border=\"1\" class=\"dataframe\">\n",
       "  <thead>\n",
       "    <tr style=\"text-align: right;\">\n",
       "      <th></th>\n",
       "      <th>user_id</th>\n",
       "      <th>orders</th>\n",
       "    </tr>\n",
       "  </thead>\n",
       "  <tbody>\n",
       "    <tr>\n",
       "      <th>0</th>\n",
       "      <td>5114589</td>\n",
       "      <td>1</td>\n",
       "    </tr>\n",
       "    <tr>\n",
       "      <th>1</th>\n",
       "      <td>6958315</td>\n",
       "      <td>1</td>\n",
       "    </tr>\n",
       "    <tr>\n",
       "      <th>2</th>\n",
       "      <td>8300375</td>\n",
       "      <td>1</td>\n",
       "    </tr>\n",
       "    <tr>\n",
       "      <th>3</th>\n",
       "      <td>39475350</td>\n",
       "      <td>1</td>\n",
       "    </tr>\n",
       "    <tr>\n",
       "      <th>4</th>\n",
       "      <td>47206413</td>\n",
       "      <td>1</td>\n",
       "    </tr>\n",
       "  </tbody>\n",
       "</table>\n",
       "</div>"
      ],
      "text/plain": [
       "    user_id  orders\n",
       "0  5114589   1     \n",
       "1  6958315   1     \n",
       "2  8300375   1     \n",
       "3  39475350  1     \n",
       "4  47206413  1     "
      ]
     },
     "execution_count": 56,
     "metadata": {},
     "output_type": "execute_result"
    }
   ],
   "source": [
    "orders_by_users_B = (\n",
    "    orders[orders['group'] == 'B']\n",
    "    .groupby('visitor_id', as_index=False)\n",
    "    .agg({'transaction_id': pd.Series.nunique})\n",
    ")\n",
    "\n",
    "orders_by_users_B.columns = ['user_id', 'orders']\n",
    "orders_by_users_B.head()"
   ]
  },
  {
   "cell_type": "markdown",
   "metadata": {},
   "source": [
    "Составим таблицу с пользователям и с заказами, в которой пользователям с заказами будет соответствовать число заказов пользователя. А пользователям без заказов — нули. "
   ]
  },
  {
   "cell_type": "code",
   "execution_count": 57,
   "metadata": {},
   "outputs": [
    {
     "data": {
      "text/plain": [
       "0    1\n",
       "1    1\n",
       "2    1\n",
       "3    1\n",
       "4    1\n",
       "Name: orders, dtype: int64"
      ]
     },
     "execution_count": 57,
     "metadata": {},
     "output_type": "execute_result"
    }
   ],
   "source": [
    "# для группы А\n",
    "sample_A = pd.concat([orders_by_users_A['orders'],pd.Series(0, index=np.arange(data['visitors_per_date_A'].sum()\\\n",
    "- len(orders_by_users_A['orders'])), name='orders',),],axis=0,)\n",
    "sample_A.head()"
   ]
  },
  {
   "cell_type": "code",
   "execution_count": 58,
   "metadata": {},
   "outputs": [
    {
     "data": {
      "text/plain": [
       "0    1\n",
       "1    1\n",
       "2    1\n",
       "3    1\n",
       "4    1\n",
       "Name: orders, dtype: int64"
      ]
     },
     "execution_count": 58,
     "metadata": {},
     "output_type": "execute_result"
    }
   ],
   "source": [
    "# для группы В\n",
    "sample_B = pd.concat([orders_by_users_B['orders'],pd.Series(0, index=np.arange(data['visitors_per_date_B'].sum()\\\n",
    "- len(orders_by_users_B['orders'])), name='orders',),],axis=0,)\n",
    "sample_B.head()"
   ]
  },
  {
   "cell_type": "markdown",
   "metadata": {},
   "source": [
    "#### 3.10.2 Расчет статистической значимости различий в среднем количестве заказов на посетителя между группами"
   ]
  },
  {
   "cell_type": "markdown",
   "metadata": {},
   "source": [
    "Для проверки гипотезы о равенстве среднего количества заказов на посетителя в разных группах будем использовать тест Манна-Уитни. "
   ]
  },
  {
   "cell_type": "code",
   "execution_count": 59,
   "metadata": {},
   "outputs": [
    {
     "name": "stdout",
     "output_type": "stream",
     "text": [
      "p-значение:  0.016792355056752604\n",
      "Отвергаем нулевую гипотезу: разница статистически значима\n"
     ]
    }
   ],
   "source": [
    "alpha = 0.05  # задаем критический уровень статистической значимости\n",
    "\n",
    "results = st.mannwhitneyu(sample_A, sample_B)\n",
    "\n",
    "print('p-значение: ', results.pvalue)\n",
    "\n",
    "if results.pvalue < alpha:\n",
    "    print('Отвергаем нулевую гипотезу: разница статистически значима')\n",
    "else:\n",
    "    print(\n",
    "        'Не получилось отвергнуть нулевую гипотезу'\n",
    "    ) "
   ]
  },
  {
   "cell_type": "markdown",
   "metadata": {},
   "source": [
    "Дополнительно рассчитаем относительное различие в среднем между группами:"
   ]
  },
  {
   "cell_type": "code",
   "execution_count": 60,
   "metadata": {},
   "outputs": [
    {
     "data": {
      "text/plain": [
       "0.138"
      ]
     },
     "execution_count": 60,
     "metadata": {},
     "output_type": "execute_result"
    }
   ],
   "source": [
    "(sample_B.mean() / sample_A.mean()-1).round(3)"
   ]
  },
  {
   "cell_type": "markdown",
   "metadata": {},
   "source": [
    "Действительно, среднее количество заказов на одного пользователя в группе В выше среднего в группе А."
   ]
  },
  {
   "cell_type": "markdown",
   "metadata": {},
   "source": [
    "#### Вывод"
   ]
  },
  {
   "cell_type": "markdown",
   "metadata": {},
   "source": [
    "P-value, полученный на основе результатов теста Манна-Уитни оказался ниже определенного уровня статистической значимости. Нулевую гипотезу отвергаем, разница между средним количеством заказов на одного посетителя в разных группах статистически значима.\n",
    "\n",
    "То же показал расчет относительного различия между группами. Среднее количество заказов на одного пользователя в группе В больше в 1,14 раза среднего количества заказов на одного пользователя из группы А."
   ]
  },
  {
   "cell_type": "markdown",
   "metadata": {},
   "source": [
    "### 3.11 Cтатистическая значимость различий в среднем чеке заказа между группами "
   ]
  },
  {
   "cell_type": "markdown",
   "metadata": {},
   "source": [
    "Теперь посчитаем статистическую значимость различий среднего чека заказа между группами. Расчеты будем производить по данным, включающим информацию об аномальных пользователях и заказах.\n",
    "\n",
    "Сформулируем гипотезы. **Нулевая**: различий в среднем чеке заказа между группами нет. **Альтернативная**: различия в среднем между группами есть."
   ]
  },
  {
   "cell_type": "markdown",
   "metadata": {},
   "source": [
    "#### 3.11.1 Расчет статистической значимости различий в среднем чеке заказа между группами"
   ]
  },
  {
   "cell_type": "code",
   "execution_count": 61,
   "metadata": {},
   "outputs": [
    {
     "name": "stdout",
     "output_type": "stream",
     "text": [
      "p-значение:  0.7292909855432458\n",
      "Не получилось отвергнуть нулевую гипотезу\n"
     ]
    }
   ],
   "source": [
    "results = st.mannwhitneyu(orders[orders['group']=='A']['revenue'], orders[orders['group']=='B']['revenue'])\n",
    "\n",
    "print('p-значение: ', results.pvalue)\n",
    "\n",
    "if results.pvalue < alpha:\n",
    "    print('Отвергаем нулевую гипотезу: разница статистически значима')\n",
    "else:\n",
    "    print(\n",
    "        'Не получилось отвергнуть нулевую гипотезу'\n",
    "    ) "
   ]
  },
  {
   "cell_type": "markdown",
   "metadata": {},
   "source": [
    "Дополнительно рассчитаем относительный прирост среднего чека группы B:"
   ]
  },
  {
   "cell_type": "code",
   "execution_count": 62,
   "metadata": {},
   "outputs": [
    {
     "data": {
      "text/plain": [
       "0.259"
      ]
     },
     "execution_count": 62,
     "metadata": {},
     "output_type": "execute_result"
    }
   ],
   "source": [
    "(orders[orders['group']=='B']['revenue'].mean()/orders[orders['group']=='A']['revenue'].mean()-1).round(3)"
   ]
  },
  {
   "cell_type": "markdown",
   "metadata": {},
   "source": [
    "Прирост среднего чека группы В составил 0.259. Это означает, что средний чек группы В выше среднего чека группы А в 1,259 раз."
   ]
  },
  {
   "cell_type": "markdown",
   "metadata": {},
   "source": [
    "#### Вывод"
   ]
  },
  {
   "cell_type": "markdown",
   "metadata": {},
   "source": [
    "P-value, полученный на основе результатов теста Манна-Уитни оказался выше определенного уровня статистической значимости. Нулевую гипотезу отвергнуть не получилось. Разница между средним чеком в разных группах статистически не значима."
   ]
  },
  {
   "cell_type": "markdown",
   "metadata": {},
   "source": [
    "### 3.12 Статистическая значимость различий в среднем количестве заказов на посетителя между группами, рассчитанная по «очищенным» данным"
   ]
  },
  {
   "cell_type": "markdown",
   "metadata": {},
   "source": [
    "Уберем из данных информацию об аномальных пользователях и заказах, то есть о пользователях, которые совершали экстремально большое количество покупок, и заказах, с нереалистично большой суммой, и посчитаем статистическую значимость различий в среднем количестве заказов на пользователя между группами еще раз. \n",
    "\n",
    "Сформулируем гипотезы. **Нулевая**: различий в среднем количестве заказов между группами нет. **Альтернативная**: различия в среднем между группами есть."
   ]
  },
  {
   "cell_type": "markdown",
   "metadata": {},
   "source": [
    "#### 3.12.1 Подготовка данных"
   ]
  },
  {
   "cell_type": "markdown",
   "metadata": {},
   "source": [
    "Напомним, что за аномальные мы приняли:\n",
    "- пользователей, совершивших 4 и более заказов; \n",
    "- заказы на сумму свыше 58,2 тысяч рублей.\n",
    "\n",
    "\n",
    "Очищая данные, удалять будем именно пользователей, так как наша цель проанализировать поведение пользователей в разных группах. Для этого сначала найдем аномальные заказы, затем удалим пользователей, совершивших их."
   ]
  },
  {
   "cell_type": "markdown",
   "metadata": {},
   "source": [
    "Определим пользователей с числом заказов 4 и больше. Для этого объединим таблицы c данными о заказах пользователей из разных групп, отфильтровав их по количеству заказов пользователей."
   ]
  },
  {
   "cell_type": "code",
   "execution_count": 63,
   "metadata": {},
   "outputs": [
    {
     "data": {
      "text/plain": [
       "18     199603092 \n",
       "23     237748145 \n",
       "227    2038680547\n",
       "269    2378935119\n",
       "278    2458001652\n",
       "499    4256040402\n",
       "326    2378935119\n",
       "340    2458001652\n",
       "424    3062433592\n",
       "501    3717692402\n",
       "514    3803269165\n",
       "580    4256040402\n",
       "Name: user_id, dtype: int64"
      ]
     },
     "execution_count": 63,
     "metadata": {},
     "output_type": "execute_result"
    }
   ],
   "source": [
    "users_with_many_orders = pd.concat(\n",
    "    [orders_by_users_A[orders_by_users_A['orders'] >= 4]['user_id'],\n",
    "     orders_by_users_B[orders_by_users_B['orders'] >= 4]['user_id']], axis=0)\n",
    "users_with_many_orders"
   ]
  },
  {
   "cell_type": "markdown",
   "metadata": {},
   "source": [
    "Определим пользователей с суммой заказа свыше 58,2 тысяч:"
   ]
  },
  {
   "cell_type": "code",
   "execution_count": 64,
   "metadata": {},
   "outputs": [
    {
     "data": {
      "text/plain": [
       "60     4256040402\n",
       "131    2254586615\n",
       "287    2254456485\n",
       "425    1920142716\n",
       "613    3931967268\n",
       "Name: visitor_id, dtype: int64"
      ]
     },
     "execution_count": 64,
     "metadata": {},
     "output_type": "execute_result"
    }
   ],
   "source": [
    "users_with_expensive_orders = orders[orders['revenue'] > 52800]['visitor_id']\n",
    "users_with_expensive_orders.head()"
   ]
  },
  {
   "cell_type": "markdown",
   "metadata": {},
   "source": [
    "Объединим данные о тех и других пользователях в одной таблице:"
   ]
  },
  {
   "cell_type": "code",
   "execution_count": 65,
   "metadata": {},
   "outputs": [
    {
     "data": {
      "text/plain": [
       "1099    148427295\n",
       "18      199603092\n",
       "23      237748145\n",
       "949     887908475\n",
       "744     888512513\n",
       "dtype: int64"
      ]
     },
     "execution_count": 65,
     "metadata": {},
     "output_type": "execute_result"
    }
   ],
   "source": [
    "abnormal_users = (\n",
    "    pd.concat([users_with_many_orders, users_with_expensive_orders], axis=0)\n",
    "    .drop_duplicates()\n",
    "    .sort_values()\n",
    ")\n",
    "abnormal_users.head()"
   ]
  },
  {
   "cell_type": "markdown",
   "metadata": {},
   "source": [
    "Составим таблицы с пользователями и с заказами, в которой пользователям с заказами будет соответствовать число заказов пользователя. А пользователям без заказов — нули. В этот раз будем использовать очищенные данные  — без\n",
    "аномальных пользователей. "
   ]
  },
  {
   "cell_type": "code",
   "execution_count": 66,
   "metadata": {},
   "outputs": [
    {
     "data": {
      "text/plain": [
       "0    1\n",
       "1    1\n",
       "2    1\n",
       "3    1\n",
       "4    1\n",
       "Name: orders, dtype: int64"
      ]
     },
     "execution_count": 66,
     "metadata": {},
     "output_type": "execute_result"
    }
   ],
   "source": [
    "sample_A_filtered = pd.concat(\n",
    "    [orders_by_users_A[\n",
    "            np.logical_not(orders_by_users_A['user_id'].isin(abnormal_users))]['orders'],\\\n",
    "     pd.Series(0,index=np.arange(data['visitors_per_date_A'].sum() - len(orders_by_users_A['orders'])),name='orders')],\\\n",
    "     axis=0)\n",
    "sample_A_filtered.head()"
   ]
  },
  {
   "cell_type": "code",
   "execution_count": 67,
   "metadata": {},
   "outputs": [
    {
     "data": {
      "text/plain": [
       "0    1\n",
       "1    1\n",
       "2    1\n",
       "3    1\n",
       "4    1\n",
       "Name: orders, dtype: int64"
      ]
     },
     "execution_count": 67,
     "metadata": {},
     "output_type": "execute_result"
    }
   ],
   "source": [
    "sample_B_filtered = pd.concat(\n",
    "    [orders_by_users_B[np.logical_not(orders_by_users_B['user_id'].isin(abnormal_users))]['orders'],\\\n",
    "        pd.Series(0,index=np.arange(data['visitors_per_date_B'].sum()\\\n",
    "    - len(orders_by_users_B['orders'])),name='orders')], axis=0) \n",
    "\n",
    "sample_B_filtered.head()"
   ]
  },
  {
   "cell_type": "markdown",
   "metadata": {},
   "source": [
    "#### 3.12.2 Рассчет статистической значимости различий в среднем количестве заказов на посетителя между группами по «очищенным» данным"
   ]
  },
  {
   "cell_type": "code",
   "execution_count": 68,
   "metadata": {},
   "outputs": [
    {
     "name": "stdout",
     "output_type": "stream",
     "text": [
      "p-значение:  0.01254484555969441\n",
      "Отвергаем нулевую гипотезу: разница статистически значима\n"
     ]
    }
   ],
   "source": [
    "results = st.mannwhitneyu(sample_A_filtered, sample_B_filtered)\n",
    "\n",
    "print('p-значение: ', results.pvalue)\n",
    "\n",
    "if results.pvalue < alpha:\n",
    "    print('Отвергаем нулевую гипотезу: разница статистически значима')\n",
    "else:\n",
    "    print(\n",
    "        'Не получилось отвергнуть нулевую гипотезу'\n",
    "    ) "
   ]
  },
  {
   "cell_type": "markdown",
   "metadata": {},
   "source": [
    "Расчитаем также относительную разницу среднего количества по группам:"
   ]
  },
  {
   "cell_type": "code",
   "execution_count": 69,
   "metadata": {},
   "outputs": [
    {
     "data": {
      "text/plain": [
       "0.154"
      ]
     },
     "execution_count": 69,
     "metadata": {},
     "output_type": "execute_result"
    }
   ],
   "source": [
    "(sample_B_filtered.mean() / sample_A_filtered.mean()-1).round(3)"
   ]
  },
  {
   "cell_type": "markdown",
   "metadata": {},
   "source": [
    "Расчеты показали, что разница между средним количеством заказов составляет менее 1,2 раз."
   ]
  },
  {
   "cell_type": "markdown",
   "metadata": {},
   "source": [
    "#### Вывод"
   ]
  },
  {
   "cell_type": "markdown",
   "metadata": {},
   "source": [
    "P-value, полученный на основе результатов теста Манна-Уитни оказался ниже определенного уровня статистической значимости. Отвергаем нулевую гипотезу. Разница между средним количеством заказов на посетителя в разных группах осталась статистически незначимой даже после очистки данных от аномальных пользователей. Показатель p-value после удаления аномальных пользователей также слегка занизился. Тогла как относительная разница между группами слегка увеличилась."
   ]
  },
  {
   "cell_type": "markdown",
   "metadata": {},
   "source": [
    "### 3.13 Статистическая значимость различий в среднем чеке заказа между группами, рассчитаная по «очищенным» данным"
   ]
  },
  {
   "cell_type": "markdown",
   "metadata": {},
   "source": [
    "Также на основе очищенных данных, посчитаем статистическую значимость различий среднего чека заказа между группами. \n",
    "\n",
    "Сформулируем гипотезы. **Нулевая**: различий в среднем чеке заказа между группами нет. **Альтернативная**: различия в среднем между группами есть."
   ]
  },
  {
   "cell_type": "markdown",
   "metadata": {},
   "source": [
    "#### 3.13.1 Расчет статистической значимости различий в среднем чеке заказа между группами на основе \"очищенных\" данных"
   ]
  },
  {
   "cell_type": "code",
   "execution_count": 70,
   "metadata": {},
   "outputs": [
    {
     "name": "stdout",
     "output_type": "stream",
     "text": [
      "p-значение:  0.9014216691855337\n",
      "Не получилось отвергнуть нулевую гипотезу\n"
     ]
    }
   ],
   "source": [
    "results = st.mannwhitneyu(orders[np.logical_and(orders['group'] == 'A',np.logical_not(orders['visitor_id'].\\\n",
    "        isin(abnormal_users)))]['revenue'], orders[np.logical_and(orders['group'] == 'B',\\\n",
    "        np.logical_not(orders['visitor_id'].isin(abnormal_users)))]['revenue'])\n",
    "\n",
    "print('p-значение: ', results.pvalue)\n",
    "\n",
    "if results.pvalue < alpha:\n",
    "    print('Отвергаем нулевую гипотезу: разница статистически значима')\n",
    "else:\n",
    "    print(\n",
    "        'Не получилось отвергнуть нулевую гипотезу'\n",
    "    ) "
   ]
  },
  {
   "cell_type": "markdown",
   "metadata": {},
   "source": [
    "Также посчитаем относительный прирост среднего чека в группе В для очищенных данных:"
   ]
  },
  {
   "cell_type": "code",
   "execution_count": 71,
   "metadata": {},
   "outputs": [
    {
     "data": {
      "text/plain": [
       "0.004"
      ]
     },
     "execution_count": 71,
     "metadata": {},
     "output_type": "execute_result"
    }
   ],
   "source": [
    "(orders[np.logical_and(orders['group'] == 'B',np.logical_not(orders['visitor_id'].\\\n",
    "        isin(abnormal_users)))]['revenue'].mean()/orders[np.logical_and(orders['group'] == 'A',\\\n",
    "          np.logical_not(orders['visitor_id'].isin(abnormal_users)))]['revenue'].mean()-1).round(3)"
   ]
  },
  {
   "cell_type": "markdown",
   "metadata": {},
   "source": [
    "Прирост среднего чека в группе В значительно уменьшился, относительно рассчитанного по \"сырым\" данным."
   ]
  },
  {
   "cell_type": "markdown",
   "metadata": {},
   "source": [
    "#### Вывод"
   ]
  },
  {
   "cell_type": "markdown",
   "metadata": {},
   "source": [
    "На результат теста Манна-Уитни, при расчете статистической значимости различий в среднем чеке заказа между группами, удаление аномальных пользователей также повлияло мало. Нулевую гипотезу вновь не удалось отвергнуть. Однако p-value значительно вырос. Разница между средним чеком в разных группах стала еще более статистически не значима. Об этом говорит и относительная разница средних чеков в разных группах. При расчете на очищенных данных она значительно уменьшилась и составила 1,004 раз. "
   ]
  },
  {
   "cell_type": "markdown",
   "metadata": {},
   "source": [
    "### 3.14 Итоги А/B теста"
   ]
  },
  {
   "cell_type": "markdown",
   "metadata": {},
   "source": [
    "По результатам А/В теста можно сделать следующие выводы:\n",
    "\n",
    " - Есть статистически значимое различие по среднему количеству заказов между группами, как по «сырым», так и по данным после фильтрации аномалий;\n",
    " - Нет статистически значимого различия по среднему чеку между группами ни по «сырым», ни по данным после фильтрации аномалий;\n",
    " - График различия среднего количества заказов между группами сообщает, что результаты группы B лучше группы A.  Среднее кумулятивное количество заказов на одного посетителя в этой группе было значительно более высоким, чем у посетителей из группы А, начиная с 6 августа и до конца исследуемого периода;\n",
    "- График различия среднего чека говорит о том, что хотя отношение среднего чека группы В к среднему чеку группы А и было подвержено резким скачкам, кумулятивный средний чек пользователей из группы В большую часть времени проведения теста был выше кумулятивного среднего чека пользователей из группы А.\n",
    "\n",
    "Исходя из обнаруженных фактов, тест следует остановить и признать его успешным. Однако следует учитывать, что тест был проведен не совсем корректно: у 58 пользователей, участвующих в тесте, принадлежность к группе не была четко определена. Так как удалить эти данные из анализа не было возможности, при принятии окончательного решения необходимо иметь в виду этот нюанс."
   ]
  },
  {
   "cell_type": "markdown",
   "metadata": {},
   "source": [
    "## 4 Общие выводы"
   ]
  },
  {
   "cell_type": "markdown",
   "metadata": {},
   "source": [
    "В качестве входных данных для исследования было получено 9 гипотез. А также результаты A/B-теста, разбитые на два файла: с заказами и с посещениями сайта интернет-магазина. Была поставлена задача приоритизировать гипотезы и проанализировать результаты A/B-теста.\n",
    "\n",
    "Целью исследования было на основании результатов A/B-теста определить возможные пути увеличения выручки интернет-магазина.\n",
    "\n",
    "\n",
    "Первым делом мы познакомились с данными и подготовили их к дальнейшему анализу. При знакомстве с данными было выявлено, что:\n",
    "- оформление исходных таблиц не соответсвует правилам хорошего стиля;\n",
    "- столбцы с информацией о времени содержат данные в неподходящем для дальнейшей работы формате object;\n",
    "- 58 пользователей ошибочно определены одновременно в две группы. \n",
    "\n",
    "Так, наименования столбцов в исходных датафреймах были приведены к правилам хорошего стиля, столбцы с информацией о времени были приведены к формату datetime.\n",
    "\n",
    "Что касается пользователей, которых определили сразу в две группы, так как количество строк с данными о заказах этих посетителей составляет 15% от общего количества строк в массиве orders, а так же в связи с тем, что в таблице visitors также есть данные об этих пользователях, и их нельзя оттуда выделить, было принято решение не удалять информацию о них и из orders.\n",
    "\n",
    "Далее мы приоритизировали гипотезы. При приоритизации методом ICE наиболее приоритетными оказались гипотезы по номерами 8, 0 и 7. При использовании фреймворка RICE топ-3 приоритетными гипотезами стали гипотезы 7, 2 и 0. Гипотезы 7 и 0 также входили в топ-3 приоритетных гипотез во фреймфорке IСE, однако во фреймфорке RICE гипотеза под номером 7 оказалась приоритетной с огромным отрывом от всех остальных. \n",
    "\n",
    "Таким образом, предположим, что имеющиеся результаты А/В теста показывают итоги добавления для одной из групп пользователей формы подписки на все основные страницы интернет-магазина, с целью собрать базу клиентов для email-рассылок. \n",
    "\n",
    "\n",
    "Анализ этих результатов показал, что:\n",
    "\n",
    "- среднее количество заказов на пользователя в группе В статистически значимо больше среднего количества заказов на пользователя в группе А;\n",
    "- разница между средними чеками покупок в разных группах статистически не значима;\n",
    "- среднее кумулятивное количество заказов на одного посетителя в группе В было значительно более высоким, чем у посетителей из группы А, начиная с 6 августа и до конца исследуемого периода;\n",
    "- кумулятивный средний чек пользователей из группы В большую часть времени проведения теста был выше кумулятивного среднего чека пользователей из группы А.\n",
    "\n",
    "Исходя из этого мы можем сделать вывод, что группа В лучше группы А. Тест следует остановить и признать его успешным. Добавление формы подписки на все основные страницы интернет-магазина приносит результат. Внедрение почтовых рассылок действительно может стать хорошим способом увеличения выручки интернет-магазина.\n",
    "\n",
    "Однако следует учитывать, что тест был проведен не совсем корректно. Выше мы указали на то, что у 58 пользователей, участвующих в тесте, принадлежность к группе не была четко определена. Так как удалить эти данные из анализа не было возможности, при принятии окончательного решения необходимо иметь в виду этот нюанс. Возможно, также стоит провести дополнительное расследование на тему того, действительно ли эти посетители пользовались обеими версиями сайта или ошибка в самой выгрузке данных. "
   ]
  }
 ],
 "metadata": {
  "ExecuteTimeLog": [
   {
    "duration": 431,
    "start_time": "2024-08-19T18:15:05.652Z"
   },
   {
    "duration": 93,
    "start_time": "2024-08-19T18:15:28.237Z"
   },
   {
    "duration": 109,
    "start_time": "2024-08-19T18:15:55.436Z"
   },
   {
    "duration": 15,
    "start_time": "2024-08-19T18:16:00.241Z"
   },
   {
    "duration": 13,
    "start_time": "2024-08-19T18:16:06.431Z"
   },
   {
    "duration": 84,
    "start_time": "2024-08-19T18:17:27.664Z"
   },
   {
    "duration": 10,
    "start_time": "2024-08-19T18:17:35.992Z"
   },
   {
    "duration": 3,
    "start_time": "2024-08-19T18:35:10.230Z"
   },
   {
    "duration": 993,
    "start_time": "2024-08-19T18:35:31.088Z"
   },
   {
    "duration": 2,
    "start_time": "2024-08-19T18:36:31.685Z"
   },
   {
    "duration": 89,
    "start_time": "2024-08-19T18:38:22.682Z"
   },
   {
    "duration": 9,
    "start_time": "2024-08-19T18:40:08.428Z"
   },
   {
    "duration": 9,
    "start_time": "2024-08-19T18:41:35.112Z"
   },
   {
    "duration": 7,
    "start_time": "2024-08-19T18:41:52.154Z"
   },
   {
    "duration": 11,
    "start_time": "2024-08-19T18:47:22.459Z"
   },
   {
    "duration": 23,
    "start_time": "2024-08-19T18:47:40.753Z"
   },
   {
    "duration": 22,
    "start_time": "2024-08-19T18:47:49.406Z"
   },
   {
    "duration": 24,
    "start_time": "2024-08-19T18:48:25.145Z"
   },
   {
    "duration": 3,
    "start_time": "2024-08-19T18:50:58.535Z"
   },
   {
    "duration": 101,
    "start_time": "2024-08-19T18:52:13.205Z"
   },
   {
    "duration": 11,
    "start_time": "2024-08-19T18:52:19.969Z"
   },
   {
    "duration": 5,
    "start_time": "2024-08-19T18:52:47.239Z"
   },
   {
    "duration": 10,
    "start_time": "2024-08-19T18:54:21.228Z"
   },
   {
    "duration": 10,
    "start_time": "2024-08-19T18:54:45.510Z"
   },
   {
    "duration": 19,
    "start_time": "2024-08-19T18:55:04.633Z"
   },
   {
    "duration": 3,
    "start_time": "2024-08-19T19:00:23.012Z"
   },
   {
    "duration": 13,
    "start_time": "2024-08-19T19:00:28.040Z"
   },
   {
    "duration": 3,
    "start_time": "2024-08-19T19:00:34.341Z"
   },
   {
    "duration": 905,
    "start_time": "2024-08-19T19:00:35.978Z"
   },
   {
    "duration": 3,
    "start_time": "2024-08-19T19:00:40.563Z"
   },
   {
    "duration": 19,
    "start_time": "2024-08-19T19:00:41.705Z"
   },
   {
    "duration": 89,
    "start_time": "2024-08-19T19:01:08.935Z"
   },
   {
    "duration": 3,
    "start_time": "2024-08-19T19:01:17.753Z"
   },
   {
    "duration": 30,
    "start_time": "2024-08-19T19:01:18.502Z"
   },
   {
    "duration": 3,
    "start_time": "2024-08-19T19:04:05.225Z"
   },
   {
    "duration": 87,
    "start_time": "2024-08-19T19:04:11.566Z"
   },
   {
    "duration": 19,
    "start_time": "2024-08-19T19:04:16.196Z"
   },
   {
    "duration": 3,
    "start_time": "2024-08-19T19:04:37.071Z"
   },
   {
    "duration": 21,
    "start_time": "2024-08-19T19:04:42.191Z"
   },
   {
    "duration": 3,
    "start_time": "2024-08-19T19:04:56.549Z"
   },
   {
    "duration": 20,
    "start_time": "2024-08-19T19:04:57.947Z"
   },
   {
    "duration": 91,
    "start_time": "2024-08-19T19:05:07.333Z"
   },
   {
    "duration": 3,
    "start_time": "2024-08-19T19:05:12.969Z"
   },
   {
    "duration": 21,
    "start_time": "2024-08-19T19:05:14.701Z"
   },
   {
    "duration": 1221,
    "start_time": "2024-08-19T19:33:54.886Z"
   },
   {
    "duration": 89,
    "start_time": "2024-08-19T19:33:56.108Z"
   },
   {
    "duration": 12,
    "start_time": "2024-08-19T19:33:56.199Z"
   },
   {
    "duration": 8,
    "start_time": "2024-08-19T19:33:56.213Z"
   },
   {
    "duration": 16,
    "start_time": "2024-08-19T19:33:56.222Z"
   },
   {
    "duration": 51,
    "start_time": "2024-08-19T19:33:56.240Z"
   },
   {
    "duration": 4,
    "start_time": "2024-08-19T19:33:56.293Z"
   },
   {
    "duration": 27,
    "start_time": "2024-08-19T19:33:56.299Z"
   },
   {
    "duration": 8,
    "start_time": "2024-08-19T19:37:30.594Z"
   },
   {
    "duration": 29,
    "start_time": "2024-08-19T19:38:41.265Z"
   },
   {
    "duration": 10,
    "start_time": "2024-08-19T19:42:02.047Z"
   },
   {
    "duration": 9,
    "start_time": "2024-08-19T19:42:19.511Z"
   },
   {
    "duration": 8,
    "start_time": "2024-08-19T19:47:13.278Z"
   },
   {
    "duration": 106,
    "start_time": "2024-08-19T19:49:59.233Z"
   },
   {
    "duration": 7,
    "start_time": "2024-08-19T19:50:03.382Z"
   },
   {
    "duration": 13,
    "start_time": "2024-08-19T19:50:11.369Z"
   },
   {
    "duration": 8,
    "start_time": "2024-08-19T19:52:13.268Z"
   },
   {
    "duration": 8,
    "start_time": "2024-08-19T19:54:58.747Z"
   },
   {
    "duration": 5,
    "start_time": "2024-08-19T19:55:19.541Z"
   },
   {
    "duration": 10,
    "start_time": "2024-08-19T19:59:07.699Z"
   },
   {
    "duration": 9,
    "start_time": "2024-08-19T20:02:01.358Z"
   },
   {
    "duration": 1315,
    "start_time": "2024-08-24T13:19:56.335Z"
   },
   {
    "duration": 224,
    "start_time": "2024-08-24T13:19:57.652Z"
   },
   {
    "duration": 11,
    "start_time": "2024-08-24T13:19:57.877Z"
   },
   {
    "duration": 23,
    "start_time": "2024-08-24T13:19:57.890Z"
   },
   {
    "duration": 10,
    "start_time": "2024-08-24T13:19:57.914Z"
   },
   {
    "duration": 30,
    "start_time": "2024-08-24T13:19:57.925Z"
   },
   {
    "duration": 3,
    "start_time": "2024-08-24T13:19:57.956Z"
   },
   {
    "duration": 19,
    "start_time": "2024-08-24T13:19:57.960Z"
   },
   {
    "duration": 6,
    "start_time": "2024-08-24T13:19:57.981Z"
   },
   {
    "duration": 48,
    "start_time": "2024-08-24T13:19:57.989Z"
   },
   {
    "duration": 8,
    "start_time": "2024-08-24T13:19:58.039Z"
   },
   {
    "duration": 7,
    "start_time": "2024-08-24T13:19:58.049Z"
   },
   {
    "duration": 7,
    "start_time": "2024-08-24T13:19:58.057Z"
   },
   {
    "duration": 7,
    "start_time": "2024-08-24T13:19:58.065Z"
   },
   {
    "duration": 11,
    "start_time": "2024-08-24T13:19:58.073Z"
   },
   {
    "duration": 7,
    "start_time": "2024-08-24T13:38:57.289Z"
   },
   {
    "duration": 9,
    "start_time": "2024-08-24T13:42:20.887Z"
   },
   {
    "duration": 5,
    "start_time": "2024-08-24T13:42:38.864Z"
   },
   {
    "duration": 8,
    "start_time": "2024-08-24T13:42:40.607Z"
   },
   {
    "duration": 4,
    "start_time": "2024-08-24T13:48:27.086Z"
   },
   {
    "duration": 98,
    "start_time": "2024-08-24T13:49:58.793Z"
   },
   {
    "duration": 11,
    "start_time": "2024-08-24T13:50:23.315Z"
   },
   {
    "duration": 12,
    "start_time": "2024-08-24T13:50:43.020Z"
   },
   {
    "duration": 1055,
    "start_time": "2024-08-24T13:50:49.094Z"
   },
   {
    "duration": 74,
    "start_time": "2024-08-24T13:50:50.151Z"
   },
   {
    "duration": 10,
    "start_time": "2024-08-24T13:50:50.227Z"
   },
   {
    "duration": 7,
    "start_time": "2024-08-24T13:50:50.239Z"
   },
   {
    "duration": 6,
    "start_time": "2024-08-24T13:50:50.248Z"
   },
   {
    "duration": 26,
    "start_time": "2024-08-24T13:50:50.255Z"
   },
   {
    "duration": 3,
    "start_time": "2024-08-24T13:50:50.282Z"
   },
   {
    "duration": 18,
    "start_time": "2024-08-24T13:50:50.286Z"
   },
   {
    "duration": 34,
    "start_time": "2024-08-24T13:50:50.306Z"
   },
   {
    "duration": 32,
    "start_time": "2024-08-24T13:50:50.342Z"
   },
   {
    "duration": 12,
    "start_time": "2024-08-24T13:50:50.375Z"
   },
   {
    "duration": 7,
    "start_time": "2024-08-24T13:50:50.388Z"
   },
   {
    "duration": 8,
    "start_time": "2024-08-24T13:50:50.396Z"
   },
   {
    "duration": 5,
    "start_time": "2024-08-24T13:50:50.406Z"
   },
   {
    "duration": 21,
    "start_time": "2024-08-24T13:50:50.412Z"
   },
   {
    "duration": 6,
    "start_time": "2024-08-24T13:50:50.438Z"
   },
   {
    "duration": 10,
    "start_time": "2024-08-24T13:50:50.445Z"
   },
   {
    "duration": 16,
    "start_time": "2024-08-24T13:50:50.456Z"
   },
   {
    "duration": 11,
    "start_time": "2024-08-24T13:50:50.473Z"
   },
   {
    "duration": 12,
    "start_time": "2024-08-24T15:51:55.487Z"
   },
   {
    "duration": 127,
    "start_time": "2024-08-24T15:52:03.593Z"
   },
   {
    "duration": 8,
    "start_time": "2024-08-24T15:52:09.075Z"
   },
   {
    "duration": 16,
    "start_time": "2024-08-24T15:56:04.837Z"
   },
   {
    "duration": 5,
    "start_time": "2024-08-24T16:08:45.566Z"
   },
   {
    "duration": 9,
    "start_time": "2024-08-24T16:10:05.943Z"
   },
   {
    "duration": 162,
    "start_time": "2024-08-24T16:10:12.138Z"
   },
   {
    "duration": 17,
    "start_time": "2024-08-24T16:10:23.847Z"
   },
   {
    "duration": 19,
    "start_time": "2024-08-24T16:10:59.739Z"
   },
   {
    "duration": 15,
    "start_time": "2024-08-24T16:11:42.830Z"
   },
   {
    "duration": 19,
    "start_time": "2024-08-24T16:12:12.672Z"
   },
   {
    "duration": 10,
    "start_time": "2024-08-24T16:13:19.262Z"
   },
   {
    "duration": 14,
    "start_time": "2024-08-24T16:13:21.482Z"
   },
   {
    "duration": 17,
    "start_time": "2024-08-24T16:13:34.052Z"
   },
   {
    "duration": 9,
    "start_time": "2024-08-24T16:14:34.102Z"
   },
   {
    "duration": 13,
    "start_time": "2024-08-24T16:14:37.434Z"
   },
   {
    "duration": 18,
    "start_time": "2024-08-24T16:14:54.664Z"
   },
   {
    "duration": 10,
    "start_time": "2024-08-24T16:15:31.939Z"
   },
   {
    "duration": 9,
    "start_time": "2024-08-24T16:15:33.938Z"
   },
   {
    "duration": 11,
    "start_time": "2024-08-24T16:15:37.498Z"
   },
   {
    "duration": 6,
    "start_time": "2024-08-24T16:19:17.301Z"
   },
   {
    "duration": 11,
    "start_time": "2024-08-24T16:19:48.360Z"
   },
   {
    "duration": 14,
    "start_time": "2024-08-24T16:22:04.579Z"
   },
   {
    "duration": 4,
    "start_time": "2024-08-24T16:23:47.845Z"
   },
   {
    "duration": 10,
    "start_time": "2024-08-24T16:23:53.804Z"
   },
   {
    "duration": 10,
    "start_time": "2024-08-24T16:28:42.634Z"
   },
   {
    "duration": 1056,
    "start_time": "2024-08-24T16:28:57.084Z"
   },
   {
    "duration": 10,
    "start_time": "2024-08-24T16:29:04.797Z"
   },
   {
    "duration": 19,
    "start_time": "2024-08-24T17:32:55.510Z"
   },
   {
    "duration": 8,
    "start_time": "2024-08-24T17:32:59.923Z"
   },
   {
    "duration": 7,
    "start_time": "2024-08-24T17:33:01.718Z"
   },
   {
    "duration": 5,
    "start_time": "2024-08-24T17:33:17.081Z"
   },
   {
    "duration": 6,
    "start_time": "2024-08-24T17:33:18.961Z"
   },
   {
    "duration": 9,
    "start_time": "2024-08-24T17:44:55.765Z"
   },
   {
    "duration": 8,
    "start_time": "2024-08-24T17:47:07.353Z"
   },
   {
    "duration": 10,
    "start_time": "2024-08-24T17:47:14.999Z"
   },
   {
    "duration": 63,
    "start_time": "2024-08-24T17:47:38.455Z"
   },
   {
    "duration": 11,
    "start_time": "2024-08-24T17:47:41.540Z"
   },
   {
    "duration": 6,
    "start_time": "2024-08-24T17:47:44.745Z"
   },
   {
    "duration": 9,
    "start_time": "2024-08-24T17:47:47.156Z"
   },
   {
    "duration": 624,
    "start_time": "2024-08-24T17:48:15.029Z"
   },
   {
    "duration": 4,
    "start_time": "2024-08-24T17:54:16.820Z"
   },
   {
    "duration": 512,
    "start_time": "2024-08-24T17:54:41.898Z"
   },
   {
    "duration": 56,
    "start_time": "2024-08-24T17:55:53.670Z"
   },
   {
    "duration": 499,
    "start_time": "2024-08-24T17:56:31.886Z"
   },
   {
    "duration": 508,
    "start_time": "2024-08-24T17:57:12.634Z"
   },
   {
    "duration": 469,
    "start_time": "2024-08-24T17:57:40.160Z"
   },
   {
    "duration": 1215,
    "start_time": "2024-08-24T17:57:59.937Z"
   },
   {
    "duration": 78,
    "start_time": "2024-08-24T17:58:01.154Z"
   },
   {
    "duration": 11,
    "start_time": "2024-08-24T17:58:01.234Z"
   },
   {
    "duration": 28,
    "start_time": "2024-08-24T17:58:01.248Z"
   },
   {
    "duration": 24,
    "start_time": "2024-08-24T17:58:01.278Z"
   },
   {
    "duration": 30,
    "start_time": "2024-08-24T17:58:01.303Z"
   },
   {
    "duration": 3,
    "start_time": "2024-08-24T17:58:01.335Z"
   },
   {
    "duration": 32,
    "start_time": "2024-08-24T17:58:01.339Z"
   },
   {
    "duration": 6,
    "start_time": "2024-08-24T17:58:01.372Z"
   },
   {
    "duration": 26,
    "start_time": "2024-08-24T17:58:01.381Z"
   },
   {
    "duration": 8,
    "start_time": "2024-08-24T17:58:01.409Z"
   },
   {
    "duration": 40,
    "start_time": "2024-08-24T17:58:01.418Z"
   },
   {
    "duration": 35,
    "start_time": "2024-08-24T17:58:01.459Z"
   },
   {
    "duration": 6,
    "start_time": "2024-08-24T17:58:01.496Z"
   },
   {
    "duration": 9,
    "start_time": "2024-08-24T17:58:01.504Z"
   },
   {
    "duration": 10,
    "start_time": "2024-08-24T17:58:01.514Z"
   },
   {
    "duration": 16,
    "start_time": "2024-08-24T17:58:01.525Z"
   },
   {
    "duration": 46,
    "start_time": "2024-08-24T17:58:01.543Z"
   },
   {
    "duration": 13,
    "start_time": "2024-08-24T17:58:01.591Z"
   },
   {
    "duration": 9,
    "start_time": "2024-08-24T17:58:01.606Z"
   },
   {
    "duration": 10,
    "start_time": "2024-08-24T17:58:01.616Z"
   },
   {
    "duration": 12,
    "start_time": "2024-08-24T17:58:01.627Z"
   },
   {
    "duration": 12,
    "start_time": "2024-08-24T17:58:01.640Z"
   },
   {
    "duration": 661,
    "start_time": "2024-08-24T17:58:01.654Z"
   },
   {
    "duration": 0,
    "start_time": "2024-08-24T17:58:02.316Z"
   },
   {
    "duration": 10,
    "start_time": "2024-08-24T17:58:19.244Z"
   },
   {
    "duration": 513,
    "start_time": "2024-08-24T17:58:43.098Z"
   },
   {
    "duration": 6,
    "start_time": "2024-08-24T17:59:02.211Z"
   },
   {
    "duration": 76,
    "start_time": "2024-08-24T18:00:00.063Z"
   },
   {
    "duration": 18,
    "start_time": "2024-08-24T18:00:19.522Z"
   },
   {
    "duration": 9,
    "start_time": "2024-08-24T18:00:25.903Z"
   },
   {
    "duration": 10,
    "start_time": "2024-08-24T18:01:59.239Z"
   },
   {
    "duration": 1285,
    "start_time": "2024-08-24T19:45:53.368Z"
   },
   {
    "duration": 224,
    "start_time": "2024-08-24T19:45:54.655Z"
   },
   {
    "duration": 10,
    "start_time": "2024-08-24T19:45:54.881Z"
   },
   {
    "duration": 11,
    "start_time": "2024-08-24T19:45:54.893Z"
   },
   {
    "duration": 14,
    "start_time": "2024-08-24T19:45:54.905Z"
   },
   {
    "duration": 43,
    "start_time": "2024-08-24T19:45:54.920Z"
   },
   {
    "duration": 3,
    "start_time": "2024-08-24T19:45:54.964Z"
   },
   {
    "duration": 23,
    "start_time": "2024-08-24T19:45:54.968Z"
   },
   {
    "duration": 5,
    "start_time": "2024-08-24T19:45:54.993Z"
   },
   {
    "duration": 32,
    "start_time": "2024-08-24T19:45:55.000Z"
   },
   {
    "duration": 20,
    "start_time": "2024-08-24T19:45:55.033Z"
   },
   {
    "duration": 7,
    "start_time": "2024-08-24T19:45:55.054Z"
   },
   {
    "duration": 5,
    "start_time": "2024-08-24T19:45:55.062Z"
   },
   {
    "duration": 6,
    "start_time": "2024-08-24T19:45:55.068Z"
   },
   {
    "duration": 9,
    "start_time": "2024-08-24T19:45:55.075Z"
   },
   {
    "duration": 14,
    "start_time": "2024-08-24T19:45:55.085Z"
   },
   {
    "duration": 24,
    "start_time": "2024-08-24T19:45:55.100Z"
   },
   {
    "duration": 23,
    "start_time": "2024-08-24T19:45:55.125Z"
   },
   {
    "duration": 7,
    "start_time": "2024-08-24T19:45:55.149Z"
   },
   {
    "duration": 14,
    "start_time": "2024-08-24T19:45:55.158Z"
   },
   {
    "duration": 8,
    "start_time": "2024-08-24T19:45:55.173Z"
   },
   {
    "duration": 8,
    "start_time": "2024-08-24T19:45:55.182Z"
   },
   {
    "duration": 6,
    "start_time": "2024-08-24T19:49:07.601Z"
   },
   {
    "duration": 5,
    "start_time": "2024-08-24T19:49:22.429Z"
   },
   {
    "duration": 6,
    "start_time": "2024-08-24T19:51:05.845Z"
   },
   {
    "duration": 94,
    "start_time": "2024-08-24T19:53:48.495Z"
   },
   {
    "duration": 26,
    "start_time": "2024-08-24T19:53:58.913Z"
   },
   {
    "duration": 158,
    "start_time": "2024-08-24T19:54:31.452Z"
   },
   {
    "duration": 160,
    "start_time": "2024-08-24T19:54:43.672Z"
   },
   {
    "duration": 5,
    "start_time": "2024-08-24T19:56:04.187Z"
   },
   {
    "duration": 155,
    "start_time": "2024-08-24T19:56:05.446Z"
   },
   {
    "duration": 156,
    "start_time": "2024-08-24T19:59:57.236Z"
   },
   {
    "duration": 11,
    "start_time": "2024-08-24T20:09:19.104Z"
   },
   {
    "duration": 112,
    "start_time": "2024-08-24T20:09:24.544Z"
   },
   {
    "duration": 131,
    "start_time": "2024-08-24T20:09:38.150Z"
   },
   {
    "duration": 13,
    "start_time": "2024-08-24T20:10:53.670Z"
   },
   {
    "duration": 7,
    "start_time": "2024-08-24T20:17:15.295Z"
   },
   {
    "duration": 13,
    "start_time": "2024-08-24T20:17:25.773Z"
   },
   {
    "duration": 5,
    "start_time": "2024-08-24T20:21:25.891Z"
   },
   {
    "duration": 9,
    "start_time": "2024-08-24T20:21:44.780Z"
   },
   {
    "duration": 8,
    "start_time": "2024-08-24T20:21:51.827Z"
   },
   {
    "duration": 9,
    "start_time": "2024-08-24T20:21:56.776Z"
   },
   {
    "duration": 226,
    "start_time": "2024-08-24T20:25:59.362Z"
   },
   {
    "duration": 154,
    "start_time": "2024-08-24T20:28:15.856Z"
   },
   {
    "duration": 149,
    "start_time": "2024-08-24T20:28:32.363Z"
   },
   {
    "duration": 67,
    "start_time": "2024-08-24T20:29:09.772Z"
   },
   {
    "duration": 153,
    "start_time": "2024-08-24T20:29:16.263Z"
   },
   {
    "duration": 160,
    "start_time": "2024-08-24T20:29:21.832Z"
   },
   {
    "duration": 154,
    "start_time": "2024-08-24T20:30:12.541Z"
   },
   {
    "duration": 227,
    "start_time": "2024-08-24T20:30:45.585Z"
   },
   {
    "duration": 174,
    "start_time": "2024-08-24T20:30:53.350Z"
   },
   {
    "duration": 157,
    "start_time": "2024-08-24T20:31:04.995Z"
   },
   {
    "duration": 159,
    "start_time": "2024-08-24T20:31:07.363Z"
   },
   {
    "duration": 150,
    "start_time": "2024-08-24T20:31:18.125Z"
   },
   {
    "duration": 234,
    "start_time": "2024-08-24T20:31:25.818Z"
   },
   {
    "duration": 160,
    "start_time": "2024-08-24T20:31:33.524Z"
   },
   {
    "duration": 188,
    "start_time": "2024-08-24T20:31:37.125Z"
   },
   {
    "duration": 151,
    "start_time": "2024-08-24T20:32:25.961Z"
   },
   {
    "duration": 242,
    "start_time": "2024-08-24T20:34:08.445Z"
   },
   {
    "duration": 158,
    "start_time": "2024-08-24T20:34:16.430Z"
   },
   {
    "duration": 239,
    "start_time": "2024-08-24T20:34:52.014Z"
   },
   {
    "duration": 176,
    "start_time": "2024-08-24T20:35:31.791Z"
   },
   {
    "duration": 163,
    "start_time": "2024-08-24T20:35:48.390Z"
   },
   {
    "duration": 1423,
    "start_time": "2024-08-26T18:23:58.046Z"
   },
   {
    "duration": 236,
    "start_time": "2024-08-26T18:23:59.472Z"
   },
   {
    "duration": 13,
    "start_time": "2024-08-26T18:23:59.709Z"
   },
   {
    "duration": 6,
    "start_time": "2024-08-26T18:23:59.725Z"
   },
   {
    "duration": 7,
    "start_time": "2024-08-26T18:23:59.733Z"
   },
   {
    "duration": 29,
    "start_time": "2024-08-26T18:23:59.741Z"
   },
   {
    "duration": 3,
    "start_time": "2024-08-26T18:23:59.772Z"
   },
   {
    "duration": 19,
    "start_time": "2024-08-26T18:23:59.776Z"
   },
   {
    "duration": 6,
    "start_time": "2024-08-26T18:23:59.796Z"
   },
   {
    "duration": 50,
    "start_time": "2024-08-26T18:23:59.804Z"
   },
   {
    "duration": 8,
    "start_time": "2024-08-26T18:23:59.855Z"
   },
   {
    "duration": 6,
    "start_time": "2024-08-26T18:23:59.865Z"
   },
   {
    "duration": 10,
    "start_time": "2024-08-26T18:23:59.874Z"
   },
   {
    "duration": 6,
    "start_time": "2024-08-26T18:23:59.885Z"
   },
   {
    "duration": 31,
    "start_time": "2024-08-26T18:23:59.893Z"
   },
   {
    "duration": 30,
    "start_time": "2024-08-26T18:23:59.926Z"
   },
   {
    "duration": 9,
    "start_time": "2024-08-26T18:23:59.957Z"
   },
   {
    "duration": 11,
    "start_time": "2024-08-26T18:23:59.968Z"
   },
   {
    "duration": 6,
    "start_time": "2024-08-26T18:23:59.980Z"
   },
   {
    "duration": 11,
    "start_time": "2024-08-26T18:23:59.987Z"
   },
   {
    "duration": 44,
    "start_time": "2024-08-26T18:24:00.000Z"
   },
   {
    "duration": 70,
    "start_time": "2024-08-26T18:24:00.046Z"
   },
   {
    "duration": 43,
    "start_time": "2024-08-26T18:24:00.118Z"
   },
   {
    "duration": 215,
    "start_time": "2024-08-26T18:24:00.163Z"
   },
   {
    "duration": 131,
    "start_time": "2024-08-26T18:24:00.380Z"
   },
   {
    "duration": 12,
    "start_time": "2024-08-26T18:24:00.513Z"
   },
   {
    "duration": 25,
    "start_time": "2024-08-26T18:24:00.527Z"
   },
   {
    "duration": 9,
    "start_time": "2024-08-26T18:24:00.556Z"
   },
   {
    "duration": 347,
    "start_time": "2024-08-26T18:24:00.566Z"
   },
   {
    "duration": 185,
    "start_time": "2024-08-26T18:37:58.963Z"
   },
   {
    "duration": 6,
    "start_time": "2024-08-26T18:54:23.956Z"
   },
   {
    "duration": 11,
    "start_time": "2024-08-26T18:54:33.733Z"
   },
   {
    "duration": 100,
    "start_time": "2024-08-26T18:56:05.724Z"
   },
   {
    "duration": 360,
    "start_time": "2024-08-26T18:56:47.327Z"
   },
   {
    "duration": 253,
    "start_time": "2024-08-26T18:56:59.269Z"
   },
   {
    "duration": 4,
    "start_time": "2024-08-26T19:31:13.837Z"
   },
   {
    "duration": 5,
    "start_time": "2024-08-26T19:32:40.696Z"
   },
   {
    "duration": 173,
    "start_time": "2024-08-26T19:34:24.370Z"
   },
   {
    "duration": 244,
    "start_time": "2024-08-26T19:34:57.008Z"
   },
   {
    "duration": 212,
    "start_time": "2024-08-26T19:36:35.074Z"
   },
   {
    "duration": 261,
    "start_time": "2024-08-26T19:41:49.947Z"
   },
   {
    "duration": 181,
    "start_time": "2024-08-26T19:42:03.189Z"
   },
   {
    "duration": 181,
    "start_time": "2024-08-26T19:42:31.481Z"
   },
   {
    "duration": 7,
    "start_time": "2024-08-26T19:50:37.098Z"
   },
   {
    "duration": 14,
    "start_time": "2024-08-26T19:50:45.210Z"
   },
   {
    "duration": 293,
    "start_time": "2024-08-26T19:52:48.777Z"
   },
   {
    "duration": 279,
    "start_time": "2024-08-26T19:54:04.282Z"
   },
   {
    "duration": 272,
    "start_time": "2024-08-26T19:54:41.877Z"
   },
   {
    "duration": 201,
    "start_time": "2024-08-26T19:55:26.995Z"
   },
   {
    "duration": 258,
    "start_time": "2024-08-26T19:56:11.181Z"
   },
   {
    "duration": 298,
    "start_time": "2024-08-26T19:57:27.868Z"
   },
   {
    "duration": 9,
    "start_time": "2024-08-26T20:05:47.507Z"
   },
   {
    "duration": 1319,
    "start_time": "2024-08-27T17:36:52.865Z"
   },
   {
    "duration": 217,
    "start_time": "2024-08-27T17:36:54.186Z"
   },
   {
    "duration": 12,
    "start_time": "2024-08-27T17:36:54.405Z"
   },
   {
    "duration": 7,
    "start_time": "2024-08-27T17:36:54.419Z"
   },
   {
    "duration": 6,
    "start_time": "2024-08-27T17:36:54.428Z"
   },
   {
    "duration": 25,
    "start_time": "2024-08-27T17:36:54.436Z"
   },
   {
    "duration": 2,
    "start_time": "2024-08-27T17:36:54.463Z"
   },
   {
    "duration": 28,
    "start_time": "2024-08-27T17:36:54.467Z"
   },
   {
    "duration": 5,
    "start_time": "2024-08-27T17:36:54.497Z"
   },
   {
    "duration": 21,
    "start_time": "2024-08-27T17:36:54.505Z"
   },
   {
    "duration": 9,
    "start_time": "2024-08-27T17:36:54.527Z"
   },
   {
    "duration": 9,
    "start_time": "2024-08-27T17:36:54.562Z"
   },
   {
    "duration": 7,
    "start_time": "2024-08-27T17:36:54.573Z"
   },
   {
    "duration": 6,
    "start_time": "2024-08-27T17:36:54.582Z"
   },
   {
    "duration": 17,
    "start_time": "2024-08-27T17:36:54.590Z"
   },
   {
    "duration": 8,
    "start_time": "2024-08-27T17:36:54.609Z"
   },
   {
    "duration": 5,
    "start_time": "2024-08-27T17:36:54.618Z"
   },
   {
    "duration": 41,
    "start_time": "2024-08-27T17:36:54.625Z"
   },
   {
    "duration": 4,
    "start_time": "2024-08-27T17:36:54.668Z"
   },
   {
    "duration": 32,
    "start_time": "2024-08-27T17:36:54.673Z"
   },
   {
    "duration": 14,
    "start_time": "2024-08-27T17:36:54.707Z"
   },
   {
    "duration": 7,
    "start_time": "2024-08-27T17:36:54.723Z"
   },
   {
    "duration": 12,
    "start_time": "2024-08-27T17:36:54.732Z"
   },
   {
    "duration": 175,
    "start_time": "2024-08-27T17:36:54.745Z"
   },
   {
    "duration": 139,
    "start_time": "2024-08-27T17:36:54.922Z"
   },
   {
    "duration": 11,
    "start_time": "2024-08-27T17:36:55.063Z"
   },
   {
    "duration": 35,
    "start_time": "2024-08-27T17:36:55.076Z"
   },
   {
    "duration": 8,
    "start_time": "2024-08-27T17:36:55.114Z"
   },
   {
    "duration": 252,
    "start_time": "2024-08-27T17:36:55.123Z"
   },
   {
    "duration": 168,
    "start_time": "2024-08-27T17:36:55.376Z"
   },
   {
    "duration": 18,
    "start_time": "2024-08-27T17:36:55.545Z"
   },
   {
    "duration": 324,
    "start_time": "2024-08-27T17:36:55.565Z"
   },
   {
    "duration": 4,
    "start_time": "2024-08-27T17:36:55.891Z"
   },
   {
    "duration": 17,
    "start_time": "2024-08-27T17:36:55.896Z"
   },
   {
    "duration": 218,
    "start_time": "2024-08-27T17:36:55.915Z"
   },
   {
    "duration": 13,
    "start_time": "2024-08-27T17:36:56.135Z"
   },
   {
    "duration": 300,
    "start_time": "2024-08-27T17:36:56.149Z"
   },
   {
    "duration": 119,
    "start_time": "2024-08-27T17:53:41.100Z"
   },
   {
    "duration": 100,
    "start_time": "2024-08-27T17:56:12.946Z"
   },
   {
    "duration": 8,
    "start_time": "2024-08-27T17:56:19.154Z"
   },
   {
    "duration": 216,
    "start_time": "2024-08-27T17:56:23.785Z"
   },
   {
    "duration": 115,
    "start_time": "2024-08-27T17:56:44.115Z"
   },
   {
    "duration": 49,
    "start_time": "2024-08-27T17:57:08.674Z"
   },
   {
    "duration": 6,
    "start_time": "2024-08-27T17:57:20.478Z"
   },
   {
    "duration": 17,
    "start_time": "2024-08-27T18:06:22.489Z"
   },
   {
    "duration": 9,
    "start_time": "2024-08-27T18:07:23.033Z"
   },
   {
    "duration": 111,
    "start_time": "2024-08-27T18:09:04.875Z"
   },
   {
    "duration": 118,
    "start_time": "2024-08-27T18:09:43.439Z"
   },
   {
    "duration": 10,
    "start_time": "2024-08-27T18:11:45.430Z"
   },
   {
    "duration": 11,
    "start_time": "2024-08-27T18:12:22.638Z"
   },
   {
    "duration": 5,
    "start_time": "2024-08-27T18:35:13.239Z"
   },
   {
    "duration": 4,
    "start_time": "2024-08-27T18:35:42.871Z"
   },
   {
    "duration": 123,
    "start_time": "2024-08-27T18:42:47.667Z"
   },
   {
    "duration": 122,
    "start_time": "2024-08-27T18:43:10.385Z"
   },
   {
    "duration": 6,
    "start_time": "2024-08-27T18:49:55.171Z"
   },
   {
    "duration": 6,
    "start_time": "2024-08-27T19:13:06.315Z"
   },
   {
    "duration": 12,
    "start_time": "2024-08-27T19:13:18.397Z"
   },
   {
    "duration": 10,
    "start_time": "2024-08-27T19:13:26.662Z"
   },
   {
    "duration": 25,
    "start_time": "2024-08-27T19:15:22.632Z"
   },
   {
    "duration": 16,
    "start_time": "2024-08-27T19:15:33.038Z"
   },
   {
    "duration": 20,
    "start_time": "2024-08-27T19:16:08.135Z"
   },
   {
    "duration": 11,
    "start_time": "2024-08-27T19:17:20.120Z"
   },
   {
    "duration": 29,
    "start_time": "2024-08-27T19:17:21.845Z"
   },
   {
    "duration": 19,
    "start_time": "2024-08-27T19:17:23.737Z"
   },
   {
    "duration": 1125,
    "start_time": "2024-08-27T19:17:42.144Z"
   },
   {
    "duration": 72,
    "start_time": "2024-08-27T19:17:43.271Z"
   },
   {
    "duration": 10,
    "start_time": "2024-08-27T19:17:43.345Z"
   },
   {
    "duration": 6,
    "start_time": "2024-08-27T19:17:43.357Z"
   },
   {
    "duration": 8,
    "start_time": "2024-08-27T19:17:43.364Z"
   },
   {
    "duration": 26,
    "start_time": "2024-08-27T19:17:43.373Z"
   },
   {
    "duration": 3,
    "start_time": "2024-08-27T19:17:43.401Z"
   },
   {
    "duration": 23,
    "start_time": "2024-08-27T19:17:43.405Z"
   },
   {
    "duration": 32,
    "start_time": "2024-08-27T19:17:43.430Z"
   },
   {
    "duration": 19,
    "start_time": "2024-08-27T19:17:43.465Z"
   },
   {
    "duration": 15,
    "start_time": "2024-08-27T19:17:43.486Z"
   },
   {
    "duration": 18,
    "start_time": "2024-08-27T19:17:43.503Z"
   },
   {
    "duration": 10,
    "start_time": "2024-08-27T19:17:43.523Z"
   },
   {
    "duration": 27,
    "start_time": "2024-08-27T19:17:43.535Z"
   },
   {
    "duration": 6,
    "start_time": "2024-08-27T19:17:43.563Z"
   },
   {
    "duration": 15,
    "start_time": "2024-08-27T19:17:43.571Z"
   },
   {
    "duration": 9,
    "start_time": "2024-08-27T19:17:43.587Z"
   },
   {
    "duration": 9,
    "start_time": "2024-08-27T19:17:43.597Z"
   },
   {
    "duration": 8,
    "start_time": "2024-08-27T19:17:43.608Z"
   },
   {
    "duration": 12,
    "start_time": "2024-08-27T19:17:43.617Z"
   },
   {
    "duration": 12,
    "start_time": "2024-08-27T19:17:43.630Z"
   },
   {
    "duration": 8,
    "start_time": "2024-08-27T19:17:43.661Z"
   },
   {
    "duration": 22,
    "start_time": "2024-08-27T19:17:43.671Z"
   },
   {
    "duration": 177,
    "start_time": "2024-08-27T19:17:43.695Z"
   },
   {
    "duration": 130,
    "start_time": "2024-08-27T19:17:43.874Z"
   },
   {
    "duration": 12,
    "start_time": "2024-08-27T19:17:44.006Z"
   },
   {
    "duration": 9,
    "start_time": "2024-08-27T19:17:44.019Z"
   },
   {
    "duration": 11,
    "start_time": "2024-08-27T19:17:44.031Z"
   },
   {
    "duration": 257,
    "start_time": "2024-08-27T19:17:44.061Z"
   },
   {
    "duration": 170,
    "start_time": "2024-08-27T19:17:44.319Z"
   },
   {
    "duration": 11,
    "start_time": "2024-08-27T19:17:44.490Z"
   },
   {
    "duration": 266,
    "start_time": "2024-08-27T19:17:44.502Z"
   },
   {
    "duration": 4,
    "start_time": "2024-08-27T19:17:44.769Z"
   },
   {
    "duration": 7,
    "start_time": "2024-08-27T19:17:44.775Z"
   },
   {
    "duration": 202,
    "start_time": "2024-08-27T19:17:44.783Z"
   },
   {
    "duration": 13,
    "start_time": "2024-08-27T19:17:44.987Z"
   },
   {
    "duration": 309,
    "start_time": "2024-08-27T19:17:45.002Z"
   },
   {
    "duration": 11,
    "start_time": "2024-08-27T19:17:45.313Z"
   },
   {
    "duration": 139,
    "start_time": "2024-08-27T19:17:45.326Z"
   },
   {
    "duration": 4,
    "start_time": "2024-08-27T19:17:45.467Z"
   },
   {
    "duration": 138,
    "start_time": "2024-08-27T19:17:45.473Z"
   },
   {
    "duration": 4,
    "start_time": "2024-08-27T19:17:45.613Z"
   },
   {
    "duration": 12,
    "start_time": "2024-08-27T19:17:45.619Z"
   },
   {
    "duration": 116,
    "start_time": "2024-08-27T19:17:45.632Z"
   },
   {
    "duration": 1154,
    "start_time": "2024-08-27T19:18:35.814Z"
   },
   {
    "duration": 73,
    "start_time": "2024-08-27T19:18:36.970Z"
   },
   {
    "duration": 11,
    "start_time": "2024-08-27T19:18:37.044Z"
   },
   {
    "duration": 7,
    "start_time": "2024-08-27T19:18:37.058Z"
   },
   {
    "duration": 19,
    "start_time": "2024-08-27T19:18:37.066Z"
   },
   {
    "duration": 62,
    "start_time": "2024-08-27T19:18:37.086Z"
   },
   {
    "duration": 3,
    "start_time": "2024-08-27T19:18:37.150Z"
   },
   {
    "duration": 20,
    "start_time": "2024-08-27T19:18:37.155Z"
   },
   {
    "duration": 6,
    "start_time": "2024-08-27T19:18:37.177Z"
   },
   {
    "duration": 27,
    "start_time": "2024-08-27T19:18:37.185Z"
   },
   {
    "duration": 14,
    "start_time": "2024-08-27T19:18:37.213Z"
   },
   {
    "duration": 10,
    "start_time": "2024-08-27T19:18:37.229Z"
   },
   {
    "duration": 26,
    "start_time": "2024-08-27T19:18:37.240Z"
   },
   {
    "duration": 16,
    "start_time": "2024-08-27T19:18:37.268Z"
   },
   {
    "duration": 8,
    "start_time": "2024-08-27T19:18:37.285Z"
   },
   {
    "duration": 28,
    "start_time": "2024-08-27T19:18:37.295Z"
   },
   {
    "duration": 9,
    "start_time": "2024-08-27T19:18:37.325Z"
   },
   {
    "duration": 11,
    "start_time": "2024-08-27T19:18:37.336Z"
   },
   {
    "duration": 13,
    "start_time": "2024-08-27T19:18:37.348Z"
   },
   {
    "duration": 20,
    "start_time": "2024-08-27T19:18:37.362Z"
   },
   {
    "duration": 27,
    "start_time": "2024-08-27T19:18:37.383Z"
   },
   {
    "duration": 27,
    "start_time": "2024-08-27T19:18:37.411Z"
   },
   {
    "duration": 13,
    "start_time": "2024-08-27T19:18:37.439Z"
   },
   {
    "duration": 164,
    "start_time": "2024-08-27T19:18:37.453Z"
   },
   {
    "duration": 126,
    "start_time": "2024-08-27T19:18:37.618Z"
   },
   {
    "duration": 24,
    "start_time": "2024-08-27T19:18:37.745Z"
   },
   {
    "duration": 30,
    "start_time": "2024-08-27T19:18:37.771Z"
   },
   {
    "duration": 17,
    "start_time": "2024-08-27T19:18:37.805Z"
   },
   {
    "duration": 270,
    "start_time": "2024-08-27T19:18:37.824Z"
   },
   {
    "duration": 190,
    "start_time": "2024-08-27T19:18:38.096Z"
   },
   {
    "duration": 15,
    "start_time": "2024-08-27T19:18:38.288Z"
   },
   {
    "duration": 316,
    "start_time": "2024-08-27T19:18:38.306Z"
   },
   {
    "duration": 4,
    "start_time": "2024-08-27T19:18:38.623Z"
   },
   {
    "duration": 10,
    "start_time": "2024-08-27T19:18:38.629Z"
   },
   {
    "duration": 214,
    "start_time": "2024-08-27T19:18:38.641Z"
   },
   {
    "duration": 17,
    "start_time": "2024-08-27T19:18:38.856Z"
   },
   {
    "duration": 297,
    "start_time": "2024-08-27T19:18:38.875Z"
   },
   {
    "duration": 11,
    "start_time": "2024-08-27T19:18:39.174Z"
   },
   {
    "duration": 128,
    "start_time": "2024-08-27T19:18:39.186Z"
   },
   {
    "duration": 5,
    "start_time": "2024-08-27T19:18:39.316Z"
   },
   {
    "duration": 144,
    "start_time": "2024-08-27T19:18:39.323Z"
   },
   {
    "duration": 5,
    "start_time": "2024-08-27T19:18:39.468Z"
   },
   {
    "duration": 10,
    "start_time": "2024-08-27T19:18:39.474Z"
   },
   {
    "duration": 135,
    "start_time": "2024-08-27T19:18:39.485Z"
   },
   {
    "duration": 5,
    "start_time": "2024-08-27T19:20:52.977Z"
   },
   {
    "duration": 10,
    "start_time": "2024-08-27T19:21:01.648Z"
   },
   {
    "duration": 148,
    "start_time": "2024-08-27T19:23:03.943Z"
   },
   {
    "duration": 47,
    "start_time": "2024-08-27T19:23:53.036Z"
   },
   {
    "duration": 48,
    "start_time": "2024-08-27T19:24:22.711Z"
   },
   {
    "duration": 49,
    "start_time": "2024-08-27T19:24:28.870Z"
   },
   {
    "duration": 46,
    "start_time": "2024-08-27T19:24:40.035Z"
   },
   {
    "duration": 12,
    "start_time": "2024-08-27T19:27:22.186Z"
   },
   {
    "duration": 13,
    "start_time": "2024-08-27T19:28:03.409Z"
   },
   {
    "duration": 18,
    "start_time": "2024-08-27T19:29:01.498Z"
   },
   {
    "duration": 18,
    "start_time": "2024-08-27T19:29:42.666Z"
   },
   {
    "duration": 65,
    "start_time": "2024-08-27T19:31:55.313Z"
   },
   {
    "duration": 43,
    "start_time": "2024-08-27T19:32:55.215Z"
   },
   {
    "duration": 53,
    "start_time": "2024-08-27T19:33:02.065Z"
   },
   {
    "duration": 18,
    "start_time": "2024-08-27T19:35:00.563Z"
   },
   {
    "duration": 54,
    "start_time": "2024-08-27T19:35:48.954Z"
   },
   {
    "duration": 14,
    "start_time": "2024-08-27T19:38:34.761Z"
   },
   {
    "duration": 15,
    "start_time": "2024-08-27T19:38:51.615Z"
   },
   {
    "duration": 30,
    "start_time": "2024-08-27T19:39:05.625Z"
   },
   {
    "duration": 21,
    "start_time": "2024-08-27T19:39:15.746Z"
   },
   {
    "duration": 23,
    "start_time": "2024-08-27T19:39:53.026Z"
   },
   {
    "duration": 21,
    "start_time": "2024-08-27T19:40:03.544Z"
   },
   {
    "duration": 25,
    "start_time": "2024-08-27T19:40:10.387Z"
   },
   {
    "duration": 11,
    "start_time": "2024-08-27T19:41:25.739Z"
   },
   {
    "duration": 66,
    "start_time": "2024-08-27T19:42:08.365Z"
   },
   {
    "duration": 70,
    "start_time": "2024-08-27T19:42:17.266Z"
   },
   {
    "duration": 68,
    "start_time": "2024-08-27T19:42:36.272Z"
   },
   {
    "duration": 73,
    "start_time": "2024-08-27T19:44:49.497Z"
   },
   {
    "duration": 7,
    "start_time": "2024-08-27T19:46:57.253Z"
   },
   {
    "duration": 7,
    "start_time": "2024-08-27T19:47:16.121Z"
   },
   {
    "duration": 6,
    "start_time": "2024-08-27T19:48:28.719Z"
   },
   {
    "duration": 9,
    "start_time": "2024-08-27T19:48:34.904Z"
   },
   {
    "duration": 1252,
    "start_time": "2024-08-31T13:21:44.703Z"
   },
   {
    "duration": 235,
    "start_time": "2024-08-31T13:21:45.957Z"
   },
   {
    "duration": 10,
    "start_time": "2024-08-31T13:21:46.193Z"
   },
   {
    "duration": 5,
    "start_time": "2024-08-31T13:21:46.205Z"
   },
   {
    "duration": 7,
    "start_time": "2024-08-31T13:21:46.211Z"
   },
   {
    "duration": 21,
    "start_time": "2024-08-31T13:21:46.219Z"
   },
   {
    "duration": 2,
    "start_time": "2024-08-31T13:21:46.241Z"
   },
   {
    "duration": 33,
    "start_time": "2024-08-31T13:21:46.244Z"
   },
   {
    "duration": 6,
    "start_time": "2024-08-31T13:21:46.278Z"
   },
   {
    "duration": 31,
    "start_time": "2024-08-31T13:21:46.287Z"
   },
   {
    "duration": 6,
    "start_time": "2024-08-31T13:21:46.320Z"
   },
   {
    "duration": 11,
    "start_time": "2024-08-31T13:21:46.327Z"
   },
   {
    "duration": 7,
    "start_time": "2024-08-31T13:21:46.339Z"
   },
   {
    "duration": 19,
    "start_time": "2024-08-31T13:21:46.347Z"
   },
   {
    "duration": 9,
    "start_time": "2024-08-31T13:21:46.367Z"
   },
   {
    "duration": 10,
    "start_time": "2024-08-31T13:21:46.378Z"
   },
   {
    "duration": 13,
    "start_time": "2024-08-31T13:21:46.389Z"
   },
   {
    "duration": 12,
    "start_time": "2024-08-31T13:21:46.403Z"
   },
   {
    "duration": 10,
    "start_time": "2024-08-31T13:21:46.415Z"
   },
   {
    "duration": 15,
    "start_time": "2024-08-31T13:21:46.427Z"
   },
   {
    "duration": 16,
    "start_time": "2024-08-31T13:21:46.443Z"
   },
   {
    "duration": 13,
    "start_time": "2024-08-31T13:21:46.460Z"
   },
   {
    "duration": 24,
    "start_time": "2024-08-31T13:21:46.474Z"
   },
   {
    "duration": 134,
    "start_time": "2024-08-31T13:21:46.500Z"
   },
   {
    "duration": 117,
    "start_time": "2024-08-31T13:21:46.635Z"
   },
   {
    "duration": 10,
    "start_time": "2024-08-31T13:21:46.753Z"
   },
   {
    "duration": 19,
    "start_time": "2024-08-31T13:21:46.764Z"
   },
   {
    "duration": 22,
    "start_time": "2024-08-31T13:21:46.785Z"
   },
   {
    "duration": 219,
    "start_time": "2024-08-31T13:21:46.809Z"
   },
   {
    "duration": 150,
    "start_time": "2024-08-31T13:21:47.029Z"
   },
   {
    "duration": 11,
    "start_time": "2024-08-31T13:21:47.181Z"
   },
   {
    "duration": 315,
    "start_time": "2024-08-31T13:21:47.194Z"
   },
   {
    "duration": 3,
    "start_time": "2024-08-31T13:21:47.510Z"
   },
   {
    "duration": 47,
    "start_time": "2024-08-31T13:21:47.514Z"
   },
   {
    "duration": 193,
    "start_time": "2024-08-31T13:21:47.562Z"
   },
   {
    "duration": 11,
    "start_time": "2024-08-31T13:21:47.757Z"
   },
   {
    "duration": 286,
    "start_time": "2024-08-31T13:21:47.770Z"
   },
   {
    "duration": 8,
    "start_time": "2024-08-31T13:21:48.058Z"
   },
   {
    "duration": 107,
    "start_time": "2024-08-31T13:21:48.068Z"
   },
   {
    "duration": 5,
    "start_time": "2024-08-31T13:21:48.177Z"
   },
   {
    "duration": 118,
    "start_time": "2024-08-31T13:21:48.183Z"
   },
   {
    "duration": 5,
    "start_time": "2024-08-31T13:21:48.302Z"
   },
   {
    "duration": 26,
    "start_time": "2024-08-31T13:21:48.309Z"
   },
   {
    "duration": 90,
    "start_time": "2024-08-31T13:21:48.336Z"
   },
   {
    "duration": 10,
    "start_time": "2024-08-31T13:21:48.427Z"
   },
   {
    "duration": 43,
    "start_time": "2024-08-31T13:21:48.438Z"
   },
   {
    "duration": 13,
    "start_time": "2024-08-31T13:21:48.482Z"
   },
   {
    "duration": 48,
    "start_time": "2024-08-31T13:21:48.496Z"
   },
   {
    "duration": 75,
    "start_time": "2024-08-31T13:21:48.545Z"
   },
   {
    "duration": 40,
    "start_time": "2024-08-31T13:21:48.621Z"
   },
   {
    "duration": 22,
    "start_time": "2024-08-31T13:21:48.662Z"
   },
   {
    "duration": 70,
    "start_time": "2024-08-31T13:21:48.685Z"
   },
   {
    "duration": 73,
    "start_time": "2024-08-31T13:21:48.756Z"
   },
   {
    "duration": 5,
    "start_time": "2024-08-31T13:21:48.830Z"
   },
   {
    "duration": 70,
    "start_time": "2024-08-31T13:21:48.836Z"
   },
   {
    "duration": 3,
    "start_time": "2024-08-31T13:25:52.770Z"
   },
   {
    "duration": 75,
    "start_time": "2024-08-31T13:25:54.773Z"
   },
   {
    "duration": 3,
    "start_time": "2024-08-31T13:26:03.496Z"
   },
   {
    "duration": 16,
    "start_time": "2024-08-31T13:26:05.515Z"
   },
   {
    "duration": 5,
    "start_time": "2024-08-31T13:26:08.699Z"
   },
   {
    "duration": 10,
    "start_time": "2024-08-31T13:26:13.325Z"
   },
   {
    "duration": 7,
    "start_time": "2024-08-31T13:26:15.640Z"
   },
   {
    "duration": 5,
    "start_time": "2024-08-31T13:26:18.288Z"
   },
   {
    "duration": 6,
    "start_time": "2024-08-31T13:26:20.487Z"
   },
   {
    "duration": 7,
    "start_time": "2024-08-31T13:26:22.035Z"
   },
   {
    "duration": 6,
    "start_time": "2024-08-31T13:26:35.404Z"
   },
   {
    "duration": 10,
    "start_time": "2024-08-31T13:26:52.252Z"
   },
   {
    "duration": 6,
    "start_time": "2024-08-31T13:28:55.543Z"
   },
   {
    "duration": 3,
    "start_time": "2024-08-31T13:40:14.164Z"
   },
   {
    "duration": 76,
    "start_time": "2024-08-31T13:40:22.121Z"
   },
   {
    "duration": 5,
    "start_time": "2024-08-31T13:40:36.562Z"
   },
   {
    "duration": 8,
    "start_time": "2024-08-31T13:40:39.889Z"
   },
   {
    "duration": 7,
    "start_time": "2024-08-31T13:41:13.971Z"
   },
   {
    "duration": 7,
    "start_time": "2024-08-31T13:45:04.452Z"
   },
   {
    "duration": 86,
    "start_time": "2024-08-31T13:45:42.394Z"
   },
   {
    "duration": 11,
    "start_time": "2024-08-31T13:45:51.764Z"
   },
   {
    "duration": 18,
    "start_time": "2024-08-31T13:46:06.370Z"
   },
   {
    "duration": 6,
    "start_time": "2024-08-31T13:46:11.512Z"
   },
   {
    "duration": 6,
    "start_time": "2024-08-31T13:46:13.957Z"
   },
   {
    "duration": 6,
    "start_time": "2024-08-31T13:47:32.437Z"
   },
   {
    "duration": 2,
    "start_time": "2024-08-31T13:50:36.560Z"
   },
   {
    "duration": 9,
    "start_time": "2024-08-31T13:51:51.562Z"
   },
   {
    "duration": 11,
    "start_time": "2024-08-31T13:52:11.130Z"
   },
   {
    "duration": 7,
    "start_time": "2024-08-31T13:52:59.862Z"
   },
   {
    "duration": 6,
    "start_time": "2024-08-31T13:53:03.985Z"
   },
   {
    "duration": 6,
    "start_time": "2024-08-31T13:56:31.537Z"
   },
   {
    "duration": 11,
    "start_time": "2024-08-31T14:18:53.030Z"
   },
   {
    "duration": 4,
    "start_time": "2024-08-31T14:25:04.322Z"
   },
   {
    "duration": 8,
    "start_time": "2024-08-31T14:26:05.853Z"
   },
   {
    "duration": 9,
    "start_time": "2024-08-31T14:28:16.201Z"
   },
   {
    "duration": 9,
    "start_time": "2024-08-31T14:28:32.734Z"
   },
   {
    "duration": 4,
    "start_time": "2024-08-31T14:31:46.061Z"
   },
   {
    "duration": 5,
    "start_time": "2024-08-31T14:32:15.704Z"
   },
   {
    "duration": 10,
    "start_time": "2024-08-31T14:32:31.364Z"
   },
   {
    "duration": 3,
    "start_time": "2024-08-31T14:32:39.400Z"
   },
   {
    "duration": 13,
    "start_time": "2024-08-31T14:32:46.208Z"
   },
   {
    "duration": 3,
    "start_time": "2024-08-31T14:32:51.151Z"
   },
   {
    "duration": 12,
    "start_time": "2024-08-31T14:32:52.621Z"
   },
   {
    "duration": 4,
    "start_time": "2024-08-31T14:33:06.116Z"
   },
   {
    "duration": 10,
    "start_time": "2024-08-31T14:33:07.965Z"
   },
   {
    "duration": 74,
    "start_time": "2024-08-31T14:33:19.150Z"
   },
   {
    "duration": 3,
    "start_time": "2024-08-31T14:33:25.169Z"
   },
   {
    "duration": 14,
    "start_time": "2024-08-31T14:33:26.951Z"
   },
   {
    "duration": 5,
    "start_time": "2024-08-31T14:33:30.296Z"
   },
   {
    "duration": 7,
    "start_time": "2024-08-31T14:33:34.080Z"
   },
   {
    "duration": 7,
    "start_time": "2024-08-31T14:33:36.878Z"
   },
   {
    "duration": 4,
    "start_time": "2024-08-31T14:33:38.203Z"
   },
   {
    "duration": 5,
    "start_time": "2024-08-31T14:33:40.240Z"
   },
   {
    "duration": 5,
    "start_time": "2024-08-31T14:33:42.148Z"
   },
   {
    "duration": 5,
    "start_time": "2024-08-31T14:33:44.814Z"
   },
   {
    "duration": 6,
    "start_time": "2024-08-31T14:33:47.676Z"
   },
   {
    "duration": 4,
    "start_time": "2024-08-31T14:33:51.374Z"
   },
   {
    "duration": 10,
    "start_time": "2024-08-31T14:33:53.765Z"
   },
   {
    "duration": 4,
    "start_time": "2024-08-31T14:35:10.967Z"
   },
   {
    "duration": 10,
    "start_time": "2024-08-31T14:35:12.903Z"
   },
   {
    "duration": 8,
    "start_time": "2024-08-31T14:38:48.995Z"
   },
   {
    "duration": 4,
    "start_time": "2024-08-31T14:39:53.833Z"
   },
   {
    "duration": 9,
    "start_time": "2024-08-31T14:39:55.567Z"
   },
   {
    "duration": 6,
    "start_time": "2024-08-31T14:42:17.632Z"
   },
   {
    "duration": 5,
    "start_time": "2024-08-31T14:43:49.746Z"
   },
   {
    "duration": 140,
    "start_time": "2024-08-31T14:43:56.718Z"
   },
   {
    "duration": 4,
    "start_time": "2024-08-31T14:44:17.891Z"
   },
   {
    "duration": 8,
    "start_time": "2024-08-31T15:07:05.222Z"
   },
   {
    "duration": 4,
    "start_time": "2024-08-31T15:07:12.717Z"
   },
   {
    "duration": 11,
    "start_time": "2024-08-31T15:07:20.235Z"
   },
   {
    "duration": 8,
    "start_time": "2024-08-31T15:52:52.553Z"
   },
   {
    "duration": 2,
    "start_time": "2024-08-31T15:56:12.295Z"
   },
   {
    "duration": 18,
    "start_time": "2024-08-31T15:56:21.882Z"
   },
   {
    "duration": 18,
    "start_time": "2024-08-31T16:01:32.464Z"
   },
   {
    "duration": 8,
    "start_time": "2024-08-31T16:55:40.448Z"
   },
   {
    "duration": 991,
    "start_time": "2024-08-31T16:55:49.559Z"
   },
   {
    "duration": 76,
    "start_time": "2024-08-31T16:55:50.551Z"
   },
   {
    "duration": 9,
    "start_time": "2024-08-31T16:55:50.628Z"
   },
   {
    "duration": 6,
    "start_time": "2024-08-31T16:55:50.639Z"
   },
   {
    "duration": 9,
    "start_time": "2024-08-31T16:55:50.646Z"
   },
   {
    "duration": 31,
    "start_time": "2024-08-31T16:55:50.656Z"
   },
   {
    "duration": 2,
    "start_time": "2024-08-31T16:55:50.688Z"
   },
   {
    "duration": 32,
    "start_time": "2024-08-31T16:55:50.691Z"
   },
   {
    "duration": 4,
    "start_time": "2024-08-31T16:55:50.724Z"
   },
   {
    "duration": 14,
    "start_time": "2024-08-31T16:55:50.730Z"
   },
   {
    "duration": 6,
    "start_time": "2024-08-31T16:55:50.746Z"
   },
   {
    "duration": 17,
    "start_time": "2024-08-31T16:55:50.753Z"
   },
   {
    "duration": 6,
    "start_time": "2024-08-31T16:55:50.771Z"
   },
   {
    "duration": 6,
    "start_time": "2024-08-31T16:55:50.778Z"
   },
   {
    "duration": 22,
    "start_time": "2024-08-31T16:55:50.785Z"
   },
   {
    "duration": 6,
    "start_time": "2024-08-31T16:55:50.809Z"
   },
   {
    "duration": 6,
    "start_time": "2024-08-31T16:55:50.816Z"
   },
   {
    "duration": 21,
    "start_time": "2024-08-31T16:55:50.823Z"
   },
   {
    "duration": 9,
    "start_time": "2024-08-31T16:55:50.845Z"
   },
   {
    "duration": 8,
    "start_time": "2024-08-31T16:55:50.855Z"
   },
   {
    "duration": 29,
    "start_time": "2024-08-31T16:55:50.865Z"
   },
   {
    "duration": 31,
    "start_time": "2024-08-31T16:55:50.896Z"
   },
   {
    "duration": 50,
    "start_time": "2024-08-31T16:55:50.928Z"
   },
   {
    "duration": 38,
    "start_time": "2024-08-31T16:55:50.980Z"
   },
   {
    "duration": 24,
    "start_time": "2024-08-31T16:55:51.019Z"
   },
   {
    "duration": 37,
    "start_time": "2024-08-31T16:55:51.044Z"
   },
   {
    "duration": 37,
    "start_time": "2024-08-31T16:55:51.083Z"
   },
   {
    "duration": 148,
    "start_time": "2024-08-31T16:55:51.123Z"
   },
   {
    "duration": 114,
    "start_time": "2024-08-31T16:55:51.273Z"
   },
   {
    "duration": 19,
    "start_time": "2024-08-31T16:55:51.388Z"
   },
   {
    "duration": 9,
    "start_time": "2024-08-31T16:55:51.408Z"
   },
   {
    "duration": 15,
    "start_time": "2024-08-31T16:55:51.419Z"
   },
   {
    "duration": 218,
    "start_time": "2024-08-31T16:55:51.435Z"
   },
   {
    "duration": 166,
    "start_time": "2024-08-31T16:55:51.654Z"
   },
   {
    "duration": 9,
    "start_time": "2024-08-31T16:55:51.821Z"
   },
   {
    "duration": 383,
    "start_time": "2024-08-31T16:55:51.831Z"
   },
   {
    "duration": 3,
    "start_time": "2024-08-31T16:55:52.216Z"
   },
   {
    "duration": 26,
    "start_time": "2024-08-31T16:55:52.220Z"
   },
   {
    "duration": 225,
    "start_time": "2024-08-31T16:55:52.247Z"
   },
   {
    "duration": 10,
    "start_time": "2024-08-31T16:55:52.473Z"
   },
   {
    "duration": 295,
    "start_time": "2024-08-31T16:55:52.484Z"
   },
   {
    "duration": 9,
    "start_time": "2024-08-31T16:55:52.780Z"
   },
   {
    "duration": 101,
    "start_time": "2024-08-31T16:55:52.790Z"
   },
   {
    "duration": 5,
    "start_time": "2024-08-31T16:55:52.892Z"
   },
   {
    "duration": 109,
    "start_time": "2024-08-31T16:55:52.906Z"
   },
   {
    "duration": 5,
    "start_time": "2024-08-31T16:55:53.017Z"
   },
   {
    "duration": 14,
    "start_time": "2024-08-31T16:55:53.024Z"
   },
   {
    "duration": 104,
    "start_time": "2024-08-31T16:55:53.040Z"
   },
   {
    "duration": 7,
    "start_time": "2024-08-31T16:55:53.145Z"
   },
   {
    "duration": 57,
    "start_time": "2024-08-31T16:55:53.153Z"
   },
   {
    "duration": 26,
    "start_time": "2024-08-31T16:55:53.211Z"
   },
   {
    "duration": 44,
    "start_time": "2024-08-31T16:55:53.238Z"
   },
   {
    "duration": 25,
    "start_time": "2024-08-31T16:55:53.283Z"
   },
   {
    "duration": 43,
    "start_time": "2024-08-31T16:55:53.310Z"
   },
   {
    "duration": 23,
    "start_time": "2024-08-31T16:55:53.355Z"
   },
   {
    "duration": 135,
    "start_time": "2024-08-31T16:55:53.379Z"
   },
   {
    "duration": 69,
    "start_time": "2024-08-31T16:55:53.515Z"
   },
   {
    "duration": 25,
    "start_time": "2024-08-31T16:55:53.586Z"
   },
   {
    "duration": 14,
    "start_time": "2024-08-31T16:55:53.612Z"
   },
   {
    "duration": 25,
    "start_time": "2024-08-31T16:55:53.627Z"
   },
   {
    "duration": 84,
    "start_time": "2024-08-31T16:55:53.653Z"
   },
   {
    "duration": 6,
    "start_time": "2024-08-31T16:56:00.555Z"
   },
   {
    "duration": 2,
    "start_time": "2024-08-31T16:56:45.964Z"
   },
   {
    "duration": 2,
    "start_time": "2024-08-31T16:57:03.204Z"
   },
   {
    "duration": 11,
    "start_time": "2024-08-31T17:24:17.234Z"
   },
   {
    "duration": 5,
    "start_time": "2024-08-31T17:24:28.558Z"
   },
   {
    "duration": 6,
    "start_time": "2024-08-31T17:25:50.174Z"
   },
   {
    "duration": 5,
    "start_time": "2024-08-31T17:26:35.353Z"
   },
   {
    "duration": 6,
    "start_time": "2024-08-31T17:26:43.769Z"
   },
   {
    "duration": 6,
    "start_time": "2024-08-31T17:26:55.923Z"
   },
   {
    "duration": 4,
    "start_time": "2024-08-31T17:28:33.470Z"
   },
   {
    "duration": 5,
    "start_time": "2024-08-31T17:29:41.529Z"
   },
   {
    "duration": 1068,
    "start_time": "2024-08-31T17:30:26.813Z"
   },
   {
    "duration": 5,
    "start_time": "2024-08-31T17:30:43.000Z"
   },
   {
    "duration": 5,
    "start_time": "2024-08-31T17:30:49.491Z"
   },
   {
    "duration": 9,
    "start_time": "2024-08-31T17:31:50.398Z"
   },
   {
    "duration": 3,
    "start_time": "2024-08-31T17:31:56.057Z"
   },
   {
    "duration": 6,
    "start_time": "2024-08-31T17:32:08.697Z"
   },
   {
    "duration": 5,
    "start_time": "2024-08-31T17:32:30.615Z"
   },
   {
    "duration": 5,
    "start_time": "2024-08-31T17:32:37.914Z"
   },
   {
    "duration": 5,
    "start_time": "2024-08-31T17:32:45.425Z"
   },
   {
    "duration": 5,
    "start_time": "2024-08-31T17:32:48.195Z"
   },
   {
    "duration": 10,
    "start_time": "2024-08-31T17:38:24.493Z"
   },
   {
    "duration": 4,
    "start_time": "2024-08-31T17:38:31.745Z"
   },
   {
    "duration": 5,
    "start_time": "2024-08-31T17:38:37.784Z"
   },
   {
    "duration": 6,
    "start_time": "2024-08-31T17:38:46.487Z"
   },
   {
    "duration": 9,
    "start_time": "2024-08-31T17:40:33.958Z"
   },
   {
    "duration": 9,
    "start_time": "2024-08-31T17:41:02.116Z"
   },
   {
    "duration": 1066,
    "start_time": "2024-08-31T17:41:12.814Z"
   },
   {
    "duration": 971,
    "start_time": "2024-08-31T17:41:53.105Z"
   },
   {
    "duration": 8,
    "start_time": "2024-08-31T17:42:17.118Z"
   },
   {
    "duration": 20,
    "start_time": "2024-08-31T17:43:50.207Z"
   },
   {
    "duration": 1157,
    "start_time": "2024-08-31T17:53:39.255Z"
   },
   {
    "duration": 9,
    "start_time": "2024-08-31T17:54:13.550Z"
   },
   {
    "duration": 8,
    "start_time": "2024-08-31T17:54:19.966Z"
   },
   {
    "duration": 1885,
    "start_time": "2024-08-31T17:54:26.934Z"
   },
   {
    "duration": 8,
    "start_time": "2024-08-31T17:54:41.314Z"
   },
   {
    "duration": 1041,
    "start_time": "2024-08-31T19:02:37.084Z"
   },
   {
    "duration": 75,
    "start_time": "2024-08-31T19:02:38.126Z"
   },
   {
    "duration": 10,
    "start_time": "2024-08-31T19:02:38.203Z"
   },
   {
    "duration": 14,
    "start_time": "2024-08-31T19:02:38.215Z"
   },
   {
    "duration": 7,
    "start_time": "2024-08-31T19:02:38.231Z"
   },
   {
    "duration": 31,
    "start_time": "2024-08-31T19:02:38.240Z"
   },
   {
    "duration": 57,
    "start_time": "2024-08-31T19:02:38.273Z"
   },
   {
    "duration": 16,
    "start_time": "2024-08-31T19:02:38.331Z"
   },
   {
    "duration": 5,
    "start_time": "2024-08-31T19:02:38.349Z"
   },
   {
    "duration": 17,
    "start_time": "2024-08-31T19:02:38.357Z"
   },
   {
    "duration": 7,
    "start_time": "2024-08-31T19:02:38.376Z"
   },
   {
    "duration": 7,
    "start_time": "2024-08-31T19:02:38.385Z"
   },
   {
    "duration": 6,
    "start_time": "2024-08-31T19:02:38.407Z"
   },
   {
    "duration": 6,
    "start_time": "2024-08-31T19:02:38.414Z"
   },
   {
    "duration": 153,
    "start_time": "2024-08-31T19:02:38.422Z"
   },
   {
    "duration": 21,
    "start_time": "2024-08-31T19:02:38.577Z"
   },
   {
    "duration": 12,
    "start_time": "2024-08-31T19:02:38.600Z"
   },
   {
    "duration": 5,
    "start_time": "2024-08-31T19:02:38.613Z"
   },
   {
    "duration": 15,
    "start_time": "2024-08-31T19:02:38.619Z"
   },
   {
    "duration": 7,
    "start_time": "2024-08-31T19:02:38.635Z"
   },
   {
    "duration": 4,
    "start_time": "2024-08-31T19:02:38.644Z"
   },
   {
    "duration": 9,
    "start_time": "2024-08-31T19:02:38.649Z"
   },
   {
    "duration": 22,
    "start_time": "2024-08-31T19:02:38.660Z"
   },
   {
    "duration": 10,
    "start_time": "2024-08-31T19:02:38.683Z"
   },
   {
    "duration": 7,
    "start_time": "2024-08-31T19:02:38.694Z"
   },
   {
    "duration": 18,
    "start_time": "2024-08-31T19:02:38.702Z"
   },
   {
    "duration": 20,
    "start_time": "2024-08-31T19:02:38.721Z"
   },
   {
    "duration": 136,
    "start_time": "2024-08-31T19:02:38.745Z"
   },
   {
    "duration": 95,
    "start_time": "2024-08-31T19:02:38.882Z"
   },
   {
    "duration": 9,
    "start_time": "2024-08-31T19:02:38.978Z"
   },
   {
    "duration": 25,
    "start_time": "2024-08-31T19:02:38.988Z"
   },
   {
    "duration": 9,
    "start_time": "2024-08-31T19:02:39.015Z"
   },
   {
    "duration": 245,
    "start_time": "2024-08-31T19:02:39.025Z"
   },
   {
    "duration": 150,
    "start_time": "2024-08-31T19:02:39.271Z"
   },
   {
    "duration": 9,
    "start_time": "2024-08-31T19:02:39.423Z"
   },
   {
    "duration": 275,
    "start_time": "2024-08-31T19:02:39.434Z"
   },
   {
    "duration": 4,
    "start_time": "2024-08-31T19:02:39.710Z"
   },
   {
    "duration": 6,
    "start_time": "2024-08-31T19:02:39.715Z"
   },
   {
    "duration": 165,
    "start_time": "2024-08-31T19:02:39.722Z"
   },
   {
    "duration": 10,
    "start_time": "2024-08-31T19:02:39.888Z"
   },
   {
    "duration": 273,
    "start_time": "2024-08-31T19:02:39.906Z"
   },
   {
    "duration": 9,
    "start_time": "2024-08-31T19:02:40.180Z"
   },
   {
    "duration": 104,
    "start_time": "2024-08-31T19:02:40.190Z"
   },
   {
    "duration": 4,
    "start_time": "2024-08-31T19:02:40.295Z"
   },
   {
    "duration": 127,
    "start_time": "2024-08-31T19:02:40.306Z"
   },
   {
    "duration": 4,
    "start_time": "2024-08-31T19:02:40.434Z"
   },
   {
    "duration": 114,
    "start_time": "2024-08-31T19:02:40.439Z"
   },
   {
    "duration": 98,
    "start_time": "2024-08-31T19:02:40.554Z"
   },
   {
    "duration": 7,
    "start_time": "2024-08-31T19:02:40.653Z"
   },
   {
    "duration": 47,
    "start_time": "2024-08-31T19:02:40.661Z"
   },
   {
    "duration": 16,
    "start_time": "2024-08-31T19:02:40.709Z"
   },
   {
    "duration": 42,
    "start_time": "2024-08-31T19:02:40.726Z"
   },
   {
    "duration": 29,
    "start_time": "2024-08-31T19:02:40.769Z"
   },
   {
    "duration": 44,
    "start_time": "2024-08-31T19:02:40.800Z"
   },
   {
    "duration": 29,
    "start_time": "2024-08-31T19:02:40.845Z"
   },
   {
    "duration": 68,
    "start_time": "2024-08-31T19:02:40.876Z"
   },
   {
    "duration": 94,
    "start_time": "2024-08-31T19:02:40.945Z"
   },
   {
    "duration": 6,
    "start_time": "2024-08-31T19:02:41.041Z"
   },
   {
    "duration": 6,
    "start_time": "2024-08-31T19:02:41.048Z"
   },
   {
    "duration": 19,
    "start_time": "2024-08-31T19:02:41.056Z"
   },
   {
    "duration": 36,
    "start_time": "2024-08-31T19:02:41.076Z"
   },
   {
    "duration": 10,
    "start_time": "2024-08-31T19:02:41.113Z"
   },
   {
    "duration": 20,
    "start_time": "2024-08-31T19:02:41.124Z"
   },
   {
    "duration": 6,
    "start_time": "2024-08-31T19:02:41.146Z"
   },
   {
    "duration": 14,
    "start_time": "2024-08-31T19:02:41.153Z"
   },
   {
    "duration": 23,
    "start_time": "2024-08-31T19:02:41.168Z"
   },
   {
    "duration": 32,
    "start_time": "2024-08-31T19:02:41.192Z"
   },
   {
    "duration": 9,
    "start_time": "2024-08-31T19:02:41.225Z"
   },
   {
    "duration": 85,
    "start_time": "2024-08-31T19:12:49.047Z"
   },
   {
    "duration": 4,
    "start_time": "2024-08-31T19:12:53.424Z"
   },
   {
    "duration": 4,
    "start_time": "2024-08-31T19:16:40.034Z"
   },
   {
    "duration": 5,
    "start_time": "2024-08-31T19:16:44.899Z"
   },
   {
    "duration": 3,
    "start_time": "2024-08-31T19:17:07.441Z"
   },
   {
    "duration": 4,
    "start_time": "2024-08-31T19:17:10.070Z"
   },
   {
    "duration": 3,
    "start_time": "2024-08-31T19:18:07.031Z"
   },
   {
    "duration": 20,
    "start_time": "2024-08-31T19:22:14.320Z"
   },
   {
    "duration": 6,
    "start_time": "2024-08-31T19:26:48.320Z"
   },
   {
    "duration": 7,
    "start_time": "2024-08-31T19:44:31.714Z"
   },
   {
    "duration": 9,
    "start_time": "2024-08-31T19:51:34.386Z"
   },
   {
    "duration": 543,
    "start_time": "2024-08-31T21:08:10.267Z"
   },
   {
    "duration": 960,
    "start_time": "2024-08-31T21:08:43.034Z"
   },
   {
    "duration": 883,
    "start_time": "2024-08-31T21:09:06.323Z"
   },
   {
    "duration": 13,
    "start_time": "2024-08-31T21:09:14.826Z"
   },
   {
    "duration": 3,
    "start_time": "2024-08-31T21:09:32.746Z"
   },
   {
    "duration": 3,
    "start_time": "2024-08-31T21:09:46.116Z"
   },
   {
    "duration": 1021,
    "start_time": "2024-08-31T21:18:14.292Z"
   },
   {
    "duration": 75,
    "start_time": "2024-08-31T21:18:15.314Z"
   },
   {
    "duration": 10,
    "start_time": "2024-08-31T21:18:15.393Z"
   },
   {
    "duration": 22,
    "start_time": "2024-08-31T21:18:15.404Z"
   },
   {
    "duration": 87,
    "start_time": "2024-08-31T21:18:15.427Z"
   },
   {
    "duration": 39,
    "start_time": "2024-08-31T21:18:15.515Z"
   },
   {
    "duration": 68,
    "start_time": "2024-08-31T21:18:15.555Z"
   },
   {
    "duration": 46,
    "start_time": "2024-08-31T21:18:15.624Z"
   },
   {
    "duration": 40,
    "start_time": "2024-08-31T21:18:15.672Z"
   },
   {
    "duration": 48,
    "start_time": "2024-08-31T21:18:15.713Z"
   },
   {
    "duration": 15,
    "start_time": "2024-08-31T21:18:15.762Z"
   },
   {
    "duration": 16,
    "start_time": "2024-08-31T21:18:15.778Z"
   },
   {
    "duration": 7,
    "start_time": "2024-08-31T21:18:15.795Z"
   },
   {
    "duration": 25,
    "start_time": "2024-08-31T21:18:15.804Z"
   },
   {
    "duration": 16,
    "start_time": "2024-08-31T21:18:15.830Z"
   },
   {
    "duration": 30,
    "start_time": "2024-08-31T21:18:15.847Z"
   },
   {
    "duration": 17,
    "start_time": "2024-08-31T21:18:15.879Z"
   },
   {
    "duration": 9,
    "start_time": "2024-08-31T21:18:15.897Z"
   },
   {
    "duration": 14,
    "start_time": "2024-08-31T21:18:15.907Z"
   },
   {
    "duration": 4,
    "start_time": "2024-08-31T21:18:15.923Z"
   },
   {
    "duration": 19,
    "start_time": "2024-08-31T21:18:15.929Z"
   },
   {
    "duration": 13,
    "start_time": "2024-08-31T21:18:15.949Z"
   },
   {
    "duration": 19,
    "start_time": "2024-08-31T21:18:15.963Z"
   },
   {
    "duration": 24,
    "start_time": "2024-08-31T21:18:15.984Z"
   },
   {
    "duration": 6,
    "start_time": "2024-08-31T21:18:16.009Z"
   },
   {
    "duration": 11,
    "start_time": "2024-08-31T21:18:16.017Z"
   },
   {
    "duration": 148,
    "start_time": "2024-08-31T21:18:16.031Z"
   },
   {
    "duration": 100,
    "start_time": "2024-08-31T21:18:16.181Z"
   },
   {
    "duration": 10,
    "start_time": "2024-08-31T21:18:16.282Z"
   },
   {
    "duration": 7,
    "start_time": "2024-08-31T21:18:16.307Z"
   },
   {
    "duration": 14,
    "start_time": "2024-08-31T21:18:16.315Z"
   },
   {
    "duration": 216,
    "start_time": "2024-08-31T21:18:16.330Z"
   },
   {
    "duration": 147,
    "start_time": "2024-08-31T21:18:16.547Z"
   },
   {
    "duration": 13,
    "start_time": "2024-08-31T21:18:16.695Z"
   },
   {
    "duration": 260,
    "start_time": "2024-08-31T21:18:16.709Z"
   },
   {
    "duration": 3,
    "start_time": "2024-08-31T21:18:16.970Z"
   },
   {
    "duration": 11,
    "start_time": "2024-08-31T21:18:16.974Z"
   },
   {
    "duration": 188,
    "start_time": "2024-08-31T21:18:16.986Z"
   },
   {
    "duration": 11,
    "start_time": "2024-08-31T21:18:17.175Z"
   },
   {
    "duration": 299,
    "start_time": "2024-08-31T21:18:17.188Z"
   },
   {
    "duration": 19,
    "start_time": "2024-08-31T21:18:17.488Z"
   },
   {
    "duration": 103,
    "start_time": "2024-08-31T21:18:17.509Z"
   },
   {
    "duration": 4,
    "start_time": "2024-08-31T21:18:17.614Z"
   },
   {
    "duration": 119,
    "start_time": "2024-08-31T21:18:17.620Z"
   },
   {
    "duration": 4,
    "start_time": "2024-08-31T21:18:17.740Z"
   },
   {
    "duration": 26,
    "start_time": "2024-08-31T21:18:17.745Z"
   },
   {
    "duration": 147,
    "start_time": "2024-08-31T21:18:17.772Z"
   },
   {
    "duration": 12,
    "start_time": "2024-08-31T21:18:17.920Z"
   },
   {
    "duration": 39,
    "start_time": "2024-08-31T21:18:17.933Z"
   },
   {
    "duration": 18,
    "start_time": "2024-08-31T21:18:17.973Z"
   },
   {
    "duration": 52,
    "start_time": "2024-08-31T21:18:17.992Z"
   },
   {
    "duration": 17,
    "start_time": "2024-08-31T21:18:18.045Z"
   },
   {
    "duration": 50,
    "start_time": "2024-08-31T21:18:18.063Z"
   },
   {
    "duration": 23,
    "start_time": "2024-08-31T21:18:18.114Z"
   },
   {
    "duration": 53,
    "start_time": "2024-08-31T21:18:18.138Z"
   },
   {
    "duration": 80,
    "start_time": "2024-08-31T21:18:18.207Z"
   },
   {
    "duration": 5,
    "start_time": "2024-08-31T21:18:18.289Z"
   },
   {
    "duration": 12,
    "start_time": "2024-08-31T21:18:18.295Z"
   },
   {
    "duration": 25,
    "start_time": "2024-08-31T21:18:18.308Z"
   },
   {
    "duration": 4,
    "start_time": "2024-08-31T21:18:18.334Z"
   },
   {
    "duration": 13,
    "start_time": "2024-08-31T21:18:18.339Z"
   },
   {
    "duration": 5,
    "start_time": "2024-08-31T21:18:18.354Z"
   },
   {
    "duration": 21,
    "start_time": "2024-08-31T21:18:18.360Z"
   },
   {
    "duration": 8,
    "start_time": "2024-08-31T21:18:18.382Z"
   },
   {
    "duration": 6,
    "start_time": "2024-08-31T21:18:18.391Z"
   },
   {
    "duration": 6,
    "start_time": "2024-08-31T21:18:18.399Z"
   },
   {
    "duration": 35,
    "start_time": "2024-08-31T21:18:18.407Z"
   },
   {
    "duration": 22,
    "start_time": "2024-08-31T21:18:18.443Z"
   },
   {
    "duration": 3,
    "start_time": "2024-08-31T21:18:18.467Z"
   },
   {
    "duration": 20,
    "start_time": "2024-08-31T21:18:18.472Z"
   },
   {
    "duration": 10,
    "start_time": "2024-08-31T21:18:18.494Z"
   },
   {
    "duration": 48,
    "start_time": "2024-09-01T06:57:37.820Z"
   },
   {
    "duration": 1294,
    "start_time": "2024-09-01T06:57:42.227Z"
   },
   {
    "duration": 267,
    "start_time": "2024-09-01T06:57:44.456Z"
   },
   {
    "duration": 3,
    "start_time": "2024-09-01T06:57:54.738Z"
   },
   {
    "duration": 12,
    "start_time": "2024-09-01T06:58:00.712Z"
   },
   {
    "duration": 70,
    "start_time": "2024-09-01T08:17:26.541Z"
   },
   {
    "duration": 1254,
    "start_time": "2024-09-01T08:17:35.873Z"
   },
   {
    "duration": 92,
    "start_time": "2024-09-01T08:17:37.129Z"
   },
   {
    "duration": 13,
    "start_time": "2024-09-01T08:17:37.222Z"
   },
   {
    "duration": 46,
    "start_time": "2024-09-01T08:17:37.237Z"
   },
   {
    "duration": 18,
    "start_time": "2024-09-01T08:17:37.285Z"
   },
   {
    "duration": 29,
    "start_time": "2024-09-01T08:17:37.305Z"
   },
   {
    "duration": 4,
    "start_time": "2024-09-01T08:17:37.336Z"
   },
   {
    "duration": 34,
    "start_time": "2024-09-01T08:17:37.342Z"
   },
   {
    "duration": 6,
    "start_time": "2024-09-01T08:17:37.398Z"
   },
   {
    "duration": 18,
    "start_time": "2024-09-01T08:17:37.407Z"
   },
   {
    "duration": 15,
    "start_time": "2024-09-01T08:17:37.426Z"
   },
   {
    "duration": 19,
    "start_time": "2024-09-01T08:17:37.442Z"
   },
   {
    "duration": 7,
    "start_time": "2024-09-01T08:17:37.463Z"
   },
   {
    "duration": 32,
    "start_time": "2024-09-01T08:17:37.471Z"
   },
   {
    "duration": 10,
    "start_time": "2024-09-01T08:17:37.504Z"
   },
   {
    "duration": 7,
    "start_time": "2024-09-01T08:17:37.515Z"
   },
   {
    "duration": 13,
    "start_time": "2024-09-01T08:17:37.523Z"
   },
   {
    "duration": 15,
    "start_time": "2024-09-01T08:17:37.538Z"
   },
   {
    "duration": 11,
    "start_time": "2024-09-01T08:17:37.555Z"
   },
   {
    "duration": 5,
    "start_time": "2024-09-01T08:17:37.567Z"
   },
   {
    "duration": 11,
    "start_time": "2024-09-01T08:17:37.597Z"
   },
   {
    "duration": 4,
    "start_time": "2024-09-01T08:17:37.610Z"
   },
   {
    "duration": 12,
    "start_time": "2024-09-01T08:17:37.616Z"
   },
   {
    "duration": 8,
    "start_time": "2024-09-01T08:17:37.630Z"
   },
   {
    "duration": 15,
    "start_time": "2024-09-01T08:17:37.640Z"
   },
   {
    "duration": 65,
    "start_time": "2024-09-01T08:17:37.657Z"
   },
   {
    "duration": 341,
    "start_time": "2024-09-01T08:17:37.724Z"
   },
   {
    "duration": 233,
    "start_time": "2024-09-01T08:17:38.097Z"
   },
   {
    "duration": 12,
    "start_time": "2024-09-01T08:17:38.332Z"
   },
   {
    "duration": 21,
    "start_time": "2024-09-01T08:17:38.346Z"
   },
   {
    "duration": 12,
    "start_time": "2024-09-01T08:17:38.369Z"
   },
   {
    "duration": 302,
    "start_time": "2024-09-01T08:17:38.398Z"
   },
   {
    "duration": 200,
    "start_time": "2024-09-01T08:17:38.702Z"
   },
   {
    "duration": 13,
    "start_time": "2024-09-01T08:17:38.904Z"
   },
   {
    "duration": 308,
    "start_time": "2024-09-01T08:17:38.919Z"
   },
   {
    "duration": 6,
    "start_time": "2024-09-01T08:17:39.230Z"
   },
   {
    "duration": 21,
    "start_time": "2024-09-01T08:17:39.238Z"
   },
   {
    "duration": 231,
    "start_time": "2024-09-01T08:17:39.261Z"
   },
   {
    "duration": 14,
    "start_time": "2024-09-01T08:17:39.498Z"
   },
   {
    "duration": 295,
    "start_time": "2024-09-01T08:17:39.514Z"
   },
   {
    "duration": 12,
    "start_time": "2024-09-01T08:17:39.811Z"
   },
   {
    "duration": 181,
    "start_time": "2024-09-01T08:17:39.825Z"
   },
   {
    "duration": 6,
    "start_time": "2024-09-01T08:17:40.008Z"
   },
   {
    "duration": 166,
    "start_time": "2024-09-01T08:17:40.016Z"
   },
   {
    "duration": 5,
    "start_time": "2024-09-01T08:17:40.184Z"
   },
   {
    "duration": 11,
    "start_time": "2024-09-01T08:17:40.198Z"
   },
   {
    "duration": 145,
    "start_time": "2024-09-01T08:17:40.210Z"
   },
   {
    "duration": 8,
    "start_time": "2024-09-01T08:17:40.357Z"
   },
   {
    "duration": 63,
    "start_time": "2024-09-01T08:17:40.367Z"
   },
   {
    "duration": 36,
    "start_time": "2024-09-01T08:17:40.432Z"
   },
   {
    "duration": 57,
    "start_time": "2024-09-01T08:17:40.469Z"
   },
   {
    "duration": 51,
    "start_time": "2024-09-01T08:17:40.528Z"
   },
   {
    "duration": 70,
    "start_time": "2024-09-01T08:17:40.581Z"
   },
   {
    "duration": 31,
    "start_time": "2024-09-01T08:17:40.653Z"
   },
   {
    "duration": 75,
    "start_time": "2024-09-01T08:17:40.697Z"
   },
   {
    "duration": 116,
    "start_time": "2024-09-01T08:17:40.773Z"
   },
   {
    "duration": 6,
    "start_time": "2024-09-01T08:17:40.891Z"
   },
   {
    "duration": 6,
    "start_time": "2024-09-01T08:17:40.899Z"
   },
   {
    "duration": 26,
    "start_time": "2024-09-01T08:17:40.906Z"
   },
   {
    "duration": 4,
    "start_time": "2024-09-01T08:17:40.934Z"
   },
   {
    "duration": 21,
    "start_time": "2024-09-01T08:17:40.939Z"
   },
   {
    "duration": 15,
    "start_time": "2024-09-01T08:17:40.962Z"
   },
   {
    "duration": 21,
    "start_time": "2024-09-01T08:17:40.978Z"
   },
   {
    "duration": 15,
    "start_time": "2024-09-01T08:17:41.001Z"
   },
   {
    "duration": 6,
    "start_time": "2024-09-01T08:17:41.017Z"
   },
   {
    "duration": 16,
    "start_time": "2024-09-01T08:17:41.025Z"
   },
   {
    "duration": 29,
    "start_time": "2024-09-01T08:17:41.043Z"
   },
   {
    "duration": 24,
    "start_time": "2024-09-01T08:17:41.074Z"
   },
   {
    "duration": 5,
    "start_time": "2024-09-01T08:17:41.099Z"
   },
   {
    "duration": 11,
    "start_time": "2024-09-01T08:17:41.105Z"
   },
   {
    "duration": 30,
    "start_time": "2024-09-01T08:17:41.117Z"
   },
   {
    "duration": 106,
    "start_time": "2024-09-01T08:22:52.733Z"
   },
   {
    "duration": 7,
    "start_time": "2024-09-01T08:22:57.526Z"
   },
   {
    "duration": 5,
    "start_time": "2024-09-01T08:23:11.666Z"
   },
   {
    "duration": 7,
    "start_time": "2024-09-01T08:23:29.563Z"
   },
   {
    "duration": 10,
    "start_time": "2024-09-01T08:23:39.574Z"
   },
   {
    "duration": 6,
    "start_time": "2024-09-01T08:23:49.562Z"
   },
   {
    "duration": 6,
    "start_time": "2024-09-01T08:24:17.690Z"
   }
  ],
  "kernelspec": {
   "display_name": "Python 3 (ipykernel)",
   "language": "python",
   "name": "python3"
  },
  "language_info": {
   "codemirror_mode": {
    "name": "ipython",
    "version": 3
   },
   "file_extension": ".py",
   "mimetype": "text/x-python",
   "name": "python",
   "nbconvert_exporter": "python",
   "pygments_lexer": "ipython3",
   "version": "3.11.4"
  },
  "toc": {
   "base_numbering": 1,
   "nav_menu": {},
   "number_sections": true,
   "sideBar": true,
   "skip_h1_title": true,
   "title_cell": "Table of Contents",
   "title_sidebar": "Contents",
   "toc_cell": false,
   "toc_position": {},
   "toc_section_display": true,
   "toc_window_display": false
  }
 },
 "nbformat": 4,
 "nbformat_minor": 2
}
