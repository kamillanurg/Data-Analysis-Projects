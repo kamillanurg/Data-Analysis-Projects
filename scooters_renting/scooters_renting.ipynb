{
 "cells": [
  {
   "cell_type": "markdown",
   "id": "ff8a1759",
   "metadata": {},
   "source": [
    "# Исследование данных о работе сервиса аренды самокатов\n",
    "\n",
    "\n",
    "Исследование проходит на данных от популярного сервиса аренды самокатов GoFast. Нам передали данные о некоторых пользователях из нескольких городов, а также об их поездках. Чтобы совершать поездки по городу, пользователи сервиса GoFast пользуются мобильным приложением. Сервисом можно пользоваться с подпиской и без подписки. В зависимости от этого, у пользователей разные стоимость старта, стоимость 1 минуты пользования и абонентская плата.\n",
    "\n",
    "**Цель исследования**: проанализировать данные и проверить некоторые гипотезы, которые могут помочь бизнесу вырасти.\n",
    "\n",
    "**План исследования:**\n",
    " 1. Загрузка данных.\n",
    " 2. Предобработка данных.\n",
    " 3. Исследовательский анализ данных\n",
    " 4. Объединение данных из трех датафреймов в один массив, сравнение основных характеристик пользователей с подпиской и без\n",
    " 5. Подсчет выручки\n",
    " 6. Проверка гипотез\n",
    " 7. Общий вывод\n"
   ]
  },
  {
   "cell_type": "code",
   "execution_count": 1,
   "id": "72576667",
   "metadata": {},
   "outputs": [],
   "source": [
    "# импортируем все необходимые для анализа библиотеки\n",
    "import pandas as pd # импортируем библиотеку pandas \n",
    "import matplotlib.pyplot as plt #импортируем библиотеку matplotlib \n",
    "import numpy as np #импортируем библиотеку numpy \n",
    "from scipy import stats as st #импортируем модуль stats из библиотеки scipy"
   ]
  },
  {
   "cell_type": "markdown",
   "id": "c42cbe00",
   "metadata": {},
   "source": [
    "# 1. Загрузка данных"
   ]
  },
  {
   "cell_type": "code",
   "execution_count": 2,
   "id": "eff9f206",
   "metadata": {},
   "outputs": [],
   "source": [
    "# считываем исходные данные\n",
    "\n",
    "users_go = pd.read_csv('users_go.csv')\n",
    "riders_go = pd.read_csv('rides_go.csv')\n",
    "subscriptions_go = pd.read_csv('subscriptions_go.csv')"
   ]
  },
  {
   "cell_type": "markdown",
   "id": "5768a93e",
   "metadata": {},
   "source": [
    "Ознакомимся с данными, представленными в каждой таблице."
   ]
  },
  {
   "cell_type": "code",
   "execution_count": 3,
   "id": "2a0652b4",
   "metadata": {},
   "outputs": [
    {
     "data": {
      "text/html": [
       "<div>\n",
       "<style scoped>\n",
       "    .dataframe tbody tr th:only-of-type {\n",
       "        vertical-align: middle;\n",
       "    }\n",
       "\n",
       "    .dataframe tbody tr th {\n",
       "        vertical-align: top;\n",
       "    }\n",
       "\n",
       "    .dataframe thead th {\n",
       "        text-align: right;\n",
       "    }\n",
       "</style>\n",
       "<table border=\"1\" class=\"dataframe\">\n",
       "  <thead>\n",
       "    <tr style=\"text-align: right;\">\n",
       "      <th></th>\n",
       "      <th>user_id</th>\n",
       "      <th>name</th>\n",
       "      <th>age</th>\n",
       "      <th>city</th>\n",
       "      <th>subscription_type</th>\n",
       "    </tr>\n",
       "  </thead>\n",
       "  <tbody>\n",
       "    <tr>\n",
       "      <th>0</th>\n",
       "      <td>1</td>\n",
       "      <td>Кира</td>\n",
       "      <td>22</td>\n",
       "      <td>Тюмень</td>\n",
       "      <td>ultra</td>\n",
       "    </tr>\n",
       "    <tr>\n",
       "      <th>1</th>\n",
       "      <td>2</td>\n",
       "      <td>Станислав</td>\n",
       "      <td>31</td>\n",
       "      <td>Омск</td>\n",
       "      <td>ultra</td>\n",
       "    </tr>\n",
       "    <tr>\n",
       "      <th>2</th>\n",
       "      <td>3</td>\n",
       "      <td>Алексей</td>\n",
       "      <td>20</td>\n",
       "      <td>Москва</td>\n",
       "      <td>ultra</td>\n",
       "    </tr>\n",
       "    <tr>\n",
       "      <th>3</th>\n",
       "      <td>4</td>\n",
       "      <td>Константин</td>\n",
       "      <td>26</td>\n",
       "      <td>Ростов-на-Дону</td>\n",
       "      <td>ultra</td>\n",
       "    </tr>\n",
       "    <tr>\n",
       "      <th>4</th>\n",
       "      <td>5</td>\n",
       "      <td>Адель</td>\n",
       "      <td>28</td>\n",
       "      <td>Омск</td>\n",
       "      <td>ultra</td>\n",
       "    </tr>\n",
       "    <tr>\n",
       "      <th>5</th>\n",
       "      <td>6</td>\n",
       "      <td>Регина</td>\n",
       "      <td>25</td>\n",
       "      <td>Краснодар</td>\n",
       "      <td>ultra</td>\n",
       "    </tr>\n",
       "    <tr>\n",
       "      <th>6</th>\n",
       "      <td>7</td>\n",
       "      <td>Игорь</td>\n",
       "      <td>23</td>\n",
       "      <td>Омск</td>\n",
       "      <td>ultra</td>\n",
       "    </tr>\n",
       "    <tr>\n",
       "      <th>7</th>\n",
       "      <td>8</td>\n",
       "      <td>Юрий</td>\n",
       "      <td>23</td>\n",
       "      <td>Краснодар</td>\n",
       "      <td>ultra</td>\n",
       "    </tr>\n",
       "    <tr>\n",
       "      <th>8</th>\n",
       "      <td>9</td>\n",
       "      <td>Ян</td>\n",
       "      <td>21</td>\n",
       "      <td>Пятигорск</td>\n",
       "      <td>ultra</td>\n",
       "    </tr>\n",
       "    <tr>\n",
       "      <th>9</th>\n",
       "      <td>10</td>\n",
       "      <td>Валерий</td>\n",
       "      <td>18</td>\n",
       "      <td>Екатеринбург</td>\n",
       "      <td>ultra</td>\n",
       "    </tr>\n",
       "  </tbody>\n",
       "</table>\n",
       "</div>"
      ],
      "text/plain": [
       "   user_id        name  age            city subscription_type\n",
       "0        1        Кира   22          Тюмень             ultra\n",
       "1        2   Станислав   31            Омск             ultra\n",
       "2        3     Алексей   20          Москва             ultra\n",
       "3        4  Константин   26  Ростов-на-Дону             ultra\n",
       "4        5       Адель   28            Омск             ultra\n",
       "5        6      Регина   25       Краснодар             ultra\n",
       "6        7       Игорь   23            Омск             ultra\n",
       "7        8        Юрий   23       Краснодар             ultra\n",
       "8        9          Ян   21       Пятигорск             ultra\n",
       "9       10     Валерий   18    Екатеринбург             ultra"
      ]
     },
     "execution_count": 3,
     "metadata": {},
     "output_type": "execute_result"
    }
   ],
   "source": [
    "users_go.head(10) # выведем первые 10 строчек таблицы с данными о пользователях"
   ]
  },
  {
   "cell_type": "code",
   "execution_count": 4,
   "id": "132c130a",
   "metadata": {},
   "outputs": [
    {
     "name": "stdout",
     "output_type": "stream",
     "text": [
      "<class 'pandas.core.frame.DataFrame'>\n",
      "RangeIndex: 1565 entries, 0 to 1564\n",
      "Data columns (total 5 columns):\n",
      " #   Column             Non-Null Count  Dtype \n",
      "---  ------             --------------  ----- \n",
      " 0   user_id            1565 non-null   int64 \n",
      " 1   name               1565 non-null   object\n",
      " 2   age                1565 non-null   int64 \n",
      " 3   city               1565 non-null   object\n",
      " 4   subscription_type  1565 non-null   object\n",
      "dtypes: int64(2), object(3)\n",
      "memory usage: 61.3+ KB\n"
     ]
    }
   ],
   "source": [
    "users_go.info() # вызовем метод info для знакомства с параметрами таблицы с данными о пользователях"
   ]
  },
  {
   "cell_type": "code",
   "execution_count": 5,
   "id": "f57086be",
   "metadata": {},
   "outputs": [
    {
     "data": {
      "text/html": [
       "<div>\n",
       "<style scoped>\n",
       "    .dataframe tbody tr th:only-of-type {\n",
       "        vertical-align: middle;\n",
       "    }\n",
       "\n",
       "    .dataframe tbody tr th {\n",
       "        vertical-align: top;\n",
       "    }\n",
       "\n",
       "    .dataframe thead th {\n",
       "        text-align: right;\n",
       "    }\n",
       "</style>\n",
       "<table border=\"1\" class=\"dataframe\">\n",
       "  <thead>\n",
       "    <tr style=\"text-align: right;\">\n",
       "      <th></th>\n",
       "      <th>user_id</th>\n",
       "      <th>distance</th>\n",
       "      <th>duration</th>\n",
       "      <th>date</th>\n",
       "    </tr>\n",
       "  </thead>\n",
       "  <tbody>\n",
       "    <tr>\n",
       "      <th>0</th>\n",
       "      <td>1</td>\n",
       "      <td>4409.919140</td>\n",
       "      <td>25.599769</td>\n",
       "      <td>2021-01-01</td>\n",
       "    </tr>\n",
       "    <tr>\n",
       "      <th>1</th>\n",
       "      <td>1</td>\n",
       "      <td>2617.592153</td>\n",
       "      <td>15.816871</td>\n",
       "      <td>2021-01-18</td>\n",
       "    </tr>\n",
       "    <tr>\n",
       "      <th>2</th>\n",
       "      <td>1</td>\n",
       "      <td>754.159807</td>\n",
       "      <td>6.232113</td>\n",
       "      <td>2021-04-20</td>\n",
       "    </tr>\n",
       "    <tr>\n",
       "      <th>3</th>\n",
       "      <td>1</td>\n",
       "      <td>2694.783254</td>\n",
       "      <td>18.511000</td>\n",
       "      <td>2021-08-11</td>\n",
       "    </tr>\n",
       "    <tr>\n",
       "      <th>4</th>\n",
       "      <td>1</td>\n",
       "      <td>4028.687306</td>\n",
       "      <td>26.265803</td>\n",
       "      <td>2021-08-28</td>\n",
       "    </tr>\n",
       "    <tr>\n",
       "      <th>5</th>\n",
       "      <td>1</td>\n",
       "      <td>2770.890808</td>\n",
       "      <td>16.650138</td>\n",
       "      <td>2021-10-09</td>\n",
       "    </tr>\n",
       "    <tr>\n",
       "      <th>6</th>\n",
       "      <td>1</td>\n",
       "      <td>3039.020292</td>\n",
       "      <td>14.927879</td>\n",
       "      <td>2021-10-19</td>\n",
       "    </tr>\n",
       "    <tr>\n",
       "      <th>7</th>\n",
       "      <td>1</td>\n",
       "      <td>2842.118050</td>\n",
       "      <td>23.117468</td>\n",
       "      <td>2021-11-06</td>\n",
       "    </tr>\n",
       "    <tr>\n",
       "      <th>8</th>\n",
       "      <td>1</td>\n",
       "      <td>3412.690668</td>\n",
       "      <td>15.238072</td>\n",
       "      <td>2021-11-14</td>\n",
       "    </tr>\n",
       "    <tr>\n",
       "      <th>9</th>\n",
       "      <td>1</td>\n",
       "      <td>748.690645</td>\n",
       "      <td>15.041884</td>\n",
       "      <td>2021-11-22</td>\n",
       "    </tr>\n",
       "  </tbody>\n",
       "</table>\n",
       "</div>"
      ],
      "text/plain": [
       "   user_id     distance   duration        date\n",
       "0        1  4409.919140  25.599769  2021-01-01\n",
       "1        1  2617.592153  15.816871  2021-01-18\n",
       "2        1   754.159807   6.232113  2021-04-20\n",
       "3        1  2694.783254  18.511000  2021-08-11\n",
       "4        1  4028.687306  26.265803  2021-08-28\n",
       "5        1  2770.890808  16.650138  2021-10-09\n",
       "6        1  3039.020292  14.927879  2021-10-19\n",
       "7        1  2842.118050  23.117468  2021-11-06\n",
       "8        1  3412.690668  15.238072  2021-11-14\n",
       "9        1   748.690645  15.041884  2021-11-22"
      ]
     },
     "execution_count": 5,
     "metadata": {},
     "output_type": "execute_result"
    }
   ],
   "source": [
    "riders_go.head(10) # выведем первые 10 строчек таблицы с данными о поездках"
   ]
  },
  {
   "cell_type": "code",
   "execution_count": 6,
   "id": "84cefb31",
   "metadata": {},
   "outputs": [
    {
     "name": "stdout",
     "output_type": "stream",
     "text": [
      "<class 'pandas.core.frame.DataFrame'>\n",
      "RangeIndex: 18068 entries, 0 to 18067\n",
      "Data columns (total 4 columns):\n",
      " #   Column    Non-Null Count  Dtype  \n",
      "---  ------    --------------  -----  \n",
      " 0   user_id   18068 non-null  int64  \n",
      " 1   distance  18068 non-null  float64\n",
      " 2   duration  18068 non-null  float64\n",
      " 3   date      18068 non-null  object \n",
      "dtypes: float64(2), int64(1), object(1)\n",
      "memory usage: 564.8+ KB\n"
     ]
    }
   ],
   "source": [
    "riders_go.info() # вызовем метод info для знакомства с параметрами таблицы с данными о поездках"
   ]
  },
  {
   "cell_type": "markdown",
   "id": "61f6ffb0",
   "metadata": {},
   "source": [
    "И выведем таблицу с данными о подписках. Выводим полностью, так как видов подписки у нас всего два:"
   ]
  },
  {
   "cell_type": "code",
   "execution_count": 7,
   "id": "18b2e009",
   "metadata": {},
   "outputs": [
    {
     "data": {
      "text/html": [
       "<div>\n",
       "<style scoped>\n",
       "    .dataframe tbody tr th:only-of-type {\n",
       "        vertical-align: middle;\n",
       "    }\n",
       "\n",
       "    .dataframe tbody tr th {\n",
       "        vertical-align: top;\n",
       "    }\n",
       "\n",
       "    .dataframe thead th {\n",
       "        text-align: right;\n",
       "    }\n",
       "</style>\n",
       "<table border=\"1\" class=\"dataframe\">\n",
       "  <thead>\n",
       "    <tr style=\"text-align: right;\">\n",
       "      <th></th>\n",
       "      <th>subscription_type</th>\n",
       "      <th>minute_price</th>\n",
       "      <th>start_ride_price</th>\n",
       "      <th>subscription_fee</th>\n",
       "    </tr>\n",
       "  </thead>\n",
       "  <tbody>\n",
       "    <tr>\n",
       "      <th>0</th>\n",
       "      <td>free</td>\n",
       "      <td>8</td>\n",
       "      <td>50</td>\n",
       "      <td>0</td>\n",
       "    </tr>\n",
       "    <tr>\n",
       "      <th>1</th>\n",
       "      <td>ultra</td>\n",
       "      <td>6</td>\n",
       "      <td>0</td>\n",
       "      <td>199</td>\n",
       "    </tr>\n",
       "  </tbody>\n",
       "</table>\n",
       "</div>"
      ],
      "text/plain": [
       "  subscription_type  minute_price  start_ride_price  subscription_fee\n",
       "0              free             8                50                 0\n",
       "1             ultra             6                 0               199"
      ]
     },
     "execution_count": 7,
     "metadata": {},
     "output_type": "execute_result"
    }
   ],
   "source": [
    "subscriptions_go "
   ]
  },
  {
   "cell_type": "markdown",
   "id": "88252f6e",
   "metadata": {},
   "source": [
    "**Вывод:**\n",
    "\n",
    "На первом шаге нашего исследования мы считали исходные данные из файлов и поближе с ними познакомились. На входе у нас имеются три таблицы разных размеров: с данными о пользователях сервиса, с данными о поездках и с данными о подписках (всего два вида). "
   ]
  },
  {
   "cell_type": "markdown",
   "id": "e95ebca7",
   "metadata": {},
   "source": [
    "# 2. Предобработка данных"
   ]
  },
  {
   "cell_type": "markdown",
   "id": "daab158e",
   "metadata": {},
   "source": [
    "##### 2.1 Изменение типов данных"
   ]
  },
  {
   "cell_type": "markdown",
   "id": "cb7c6237",
   "metadata": {},
   "source": [
    "На предыдущем шаге было выявлено, что в таблице **riders_go** с данными о поездках, даты поездок представлены в формате *object*. С таким типом данных будет тяжело работать в дальнейшем. Приведем данные в столбце **date** к типу *DateTime*."
   ]
  },
  {
   "cell_type": "code",
   "execution_count": 8,
   "id": "52380b9f",
   "metadata": {},
   "outputs": [],
   "source": [
    "riders_go['date'] = pd.to_datetime(riders_go['date'], format='%Y-%m-%d')"
   ]
  },
  {
   "cell_type": "markdown",
   "id": "2a2eb3da",
   "metadata": {},
   "source": [
    "Проверим, удалась ли корректировка, вызывав метод *info*."
   ]
  },
  {
   "cell_type": "code",
   "execution_count": 9,
   "id": "b09dcc95",
   "metadata": {},
   "outputs": [
    {
     "name": "stdout",
     "output_type": "stream",
     "text": [
      "<class 'pandas.core.frame.DataFrame'>\n",
      "RangeIndex: 18068 entries, 0 to 18067\n",
      "Data columns (total 4 columns):\n",
      " #   Column    Non-Null Count  Dtype         \n",
      "---  ------    --------------  -----         \n",
      " 0   user_id   18068 non-null  int64         \n",
      " 1   distance  18068 non-null  float64       \n",
      " 2   duration  18068 non-null  float64       \n",
      " 3   date      18068 non-null  datetime64[ns]\n",
      "dtypes: datetime64[ns](1), float64(2), int64(1)\n",
      "memory usage: 564.8 KB\n"
     ]
    }
   ],
   "source": [
    "riders_go.info()"
   ]
  },
  {
   "cell_type": "markdown",
   "id": "f160c452",
   "metadata": {},
   "source": [
    "##### 2.2 Обработка пропущенных значений и дубликатов"
   ]
  },
  {
   "cell_type": "markdown",
   "id": "c2420656",
   "metadata": {},
   "source": [
    "Проверим массивы данных о пользователях и поездках на наличие пропусков."
   ]
  },
  {
   "cell_type": "code",
   "execution_count": 10,
   "id": "afc0216c",
   "metadata": {},
   "outputs": [
    {
     "data": {
      "text/plain": [
       "user_id              0\n",
       "name                 0\n",
       "age                  0\n",
       "city                 0\n",
       "subscription_type    0\n",
       "dtype: int64"
      ]
     },
     "execution_count": 10,
     "metadata": {},
     "output_type": "execute_result"
    }
   ],
   "source": [
    "users_go.isna().sum() # проверяем таблицу с данными о пользователях"
   ]
  },
  {
   "cell_type": "code",
   "execution_count": 11,
   "id": "4e9d2c73",
   "metadata": {},
   "outputs": [
    {
     "data": {
      "text/plain": [
       "user_id     0\n",
       "distance    0\n",
       "duration    0\n",
       "date        0\n",
       "dtype: int64"
      ]
     },
     "execution_count": 11,
     "metadata": {},
     "output_type": "execute_result"
    }
   ],
   "source": [
    "riders_go.isna().sum() # проверяем таблицу с данными о поездках"
   ]
  },
  {
   "cell_type": "markdown",
   "id": "02c32e3c",
   "metadata": {},
   "source": [
    "Таблицу с данными о подписках проверять не будем - там всего две строчки, наличие пропусков можно оценить визуально. \n",
    "\n",
    "Теперь проверим таблицы **users_go** и **riders_go** на наличие явных и неявных дубликатов."
   ]
  },
  {
   "cell_type": "code",
   "execution_count": 12,
   "id": "c4134db9",
   "metadata": {},
   "outputs": [
    {
     "data": {
      "text/plain": [
       "31"
      ]
     },
     "execution_count": 12,
     "metadata": {},
     "output_type": "execute_result"
    }
   ],
   "source": [
    "users_go.duplicated().sum() # проверяем таблицу с данными о пользователях"
   ]
  },
  {
   "cell_type": "code",
   "execution_count": 13,
   "id": "3242e80e",
   "metadata": {
    "scrolled": true
   },
   "outputs": [
    {
     "data": {
      "text/plain": [
       "0"
      ]
     },
     "execution_count": 13,
     "metadata": {},
     "output_type": "execute_result"
    }
   ],
   "source": [
    "riders_go.duplicated().sum() # проверяем таблицу с данными о поездках"
   ]
  },
  {
   "cell_type": "markdown",
   "id": "643e9825",
   "metadata": {},
   "source": [
    "Выявлены явные дубликаты в таблицы с данными о пользователях. Количество строк с дубликатами небольшое - меньше 2% от общего объема данных. Можем удалить этистроки. "
   ]
  },
  {
   "cell_type": "code",
   "execution_count": 14,
   "id": "2b46e4fc",
   "metadata": {},
   "outputs": [],
   "source": [
    "users_go = users_go.drop_duplicates().reset_index(drop=True)"
   ]
  },
  {
   "cell_type": "markdown",
   "id": "cfede5d7",
   "metadata": {},
   "source": [
    "Дополнительно проверим на наличие дубликатов столбец с ID пользователей. "
   ]
  },
  {
   "cell_type": "code",
   "execution_count": 15,
   "id": "474e9aba",
   "metadata": {},
   "outputs": [
    {
     "data": {
      "text/plain": [
       "0"
      ]
     },
     "execution_count": 15,
     "metadata": {},
     "output_type": "execute_result"
    }
   ],
   "source": [
    "users_go.duplicated('user_id').sum() "
   ]
  },
  {
   "cell_type": "markdown",
   "id": "7874b1c6",
   "metadata": {},
   "source": [
    "Дубликатов не обнаружено. Повторяющихся значений в столбце с ID нет."
   ]
  },
  {
   "cell_type": "markdown",
   "id": "47fe963d",
   "metadata": {},
   "source": [
    "Выявление неявных дубликатов возможно только в таблице с данными о пользователях. А именно в столбце с названием города."
   ]
  },
  {
   "cell_type": "code",
   "execution_count": 16,
   "id": "b98d700e",
   "metadata": {},
   "outputs": [
    {
     "data": {
      "text/plain": [
       "array(['Тюмень', 'Омск', 'Москва', 'Ростов-на-Дону', 'Краснодар',\n",
       "       'Пятигорск', 'Екатеринбург', 'Сочи'], dtype=object)"
      ]
     },
     "execution_count": 16,
     "metadata": {},
     "output_type": "execute_result"
    }
   ],
   "source": [
    "users_go['city'].unique() "
   ]
  },
  {
   "cell_type": "markdown",
   "id": "c54c2ed4",
   "metadata": {},
   "source": [
    "Никаких опечаток или разных регистров - неявных дубликатов в столбце не обнаружено."
   ]
  },
  {
   "cell_type": "markdown",
   "id": "de707058",
   "metadata": {},
   "source": [
    "##### 2.3 Создание дополнительных столбцов"
   ]
  },
  {
   "cell_type": "markdown",
   "id": "0d3b5c53",
   "metadata": {},
   "source": [
    "Введем в таблицу с данными о поездках дополнительный столбец с номером месяца. Этот параметр понадобится нам при дальнейшем анализе. "
   ]
  },
  {
   "cell_type": "code",
   "execution_count": 17,
   "id": "84b67d49",
   "metadata": {},
   "outputs": [],
   "source": [
    "riders_go['month'] = riders_go['date'].dt.month"
   ]
  },
  {
   "cell_type": "code",
   "execution_count": 18,
   "id": "ed5fb80c",
   "metadata": {
    "scrolled": true
   },
   "outputs": [
    {
     "data": {
      "text/html": [
       "<div>\n",
       "<style scoped>\n",
       "    .dataframe tbody tr th:only-of-type {\n",
       "        vertical-align: middle;\n",
       "    }\n",
       "\n",
       "    .dataframe tbody tr th {\n",
       "        vertical-align: top;\n",
       "    }\n",
       "\n",
       "    .dataframe thead th {\n",
       "        text-align: right;\n",
       "    }\n",
       "</style>\n",
       "<table border=\"1\" class=\"dataframe\">\n",
       "  <thead>\n",
       "    <tr style=\"text-align: right;\">\n",
       "      <th></th>\n",
       "      <th>user_id</th>\n",
       "      <th>distance</th>\n",
       "      <th>duration</th>\n",
       "      <th>date</th>\n",
       "      <th>month</th>\n",
       "    </tr>\n",
       "  </thead>\n",
       "  <tbody>\n",
       "    <tr>\n",
       "      <th>0</th>\n",
       "      <td>1</td>\n",
       "      <td>4409.919140</td>\n",
       "      <td>25.599769</td>\n",
       "      <td>2021-01-01</td>\n",
       "      <td>1</td>\n",
       "    </tr>\n",
       "    <tr>\n",
       "      <th>1</th>\n",
       "      <td>1</td>\n",
       "      <td>2617.592153</td>\n",
       "      <td>15.816871</td>\n",
       "      <td>2021-01-18</td>\n",
       "      <td>1</td>\n",
       "    </tr>\n",
       "    <tr>\n",
       "      <th>2</th>\n",
       "      <td>1</td>\n",
       "      <td>754.159807</td>\n",
       "      <td>6.232113</td>\n",
       "      <td>2021-04-20</td>\n",
       "      <td>4</td>\n",
       "    </tr>\n",
       "    <tr>\n",
       "      <th>3</th>\n",
       "      <td>1</td>\n",
       "      <td>2694.783254</td>\n",
       "      <td>18.511000</td>\n",
       "      <td>2021-08-11</td>\n",
       "      <td>8</td>\n",
       "    </tr>\n",
       "    <tr>\n",
       "      <th>4</th>\n",
       "      <td>1</td>\n",
       "      <td>4028.687306</td>\n",
       "      <td>26.265803</td>\n",
       "      <td>2021-08-28</td>\n",
       "      <td>8</td>\n",
       "    </tr>\n",
       "  </tbody>\n",
       "</table>\n",
       "</div>"
      ],
      "text/plain": [
       "   user_id     distance   duration       date  month\n",
       "0        1  4409.919140  25.599769 2021-01-01      1\n",
       "1        1  2617.592153  15.816871 2021-01-18      1\n",
       "2        1   754.159807   6.232113 2021-04-20      4\n",
       "3        1  2694.783254  18.511000 2021-08-11      8\n",
       "4        1  4028.687306  26.265803 2021-08-28      8"
      ]
     },
     "execution_count": 18,
     "metadata": {},
     "output_type": "execute_result"
    }
   ],
   "source": [
    "riders_go.head() # сделаем проверку и выведем первые 5 строк таблицы с riders_go"
   ]
  },
  {
   "cell_type": "markdown",
   "id": "e50d6a42",
   "metadata": {},
   "source": [
    "**Вывод:**\n",
    "\n",
    "В ходе предобработки исходных массивов тип данных в столбце **date** в таблице с информацией о поездках был изменен на формат *DateTime*. Пропусков ни в одной из трех таблиц выявлено не было. Также как и неявных дубликатов. Зато были обнаружены явные -  в таблице с данными о пользователях. Строки-дубликаты было принято решение удалить, так как их количество не превышало 2% от общего количества строк в указанной таблице.  "
   ]
  },
  {
   "cell_type": "markdown",
   "id": "212593c7",
   "metadata": {},
   "source": [
    "# 3. Исследовательский анализ данных"
   ]
  },
  {
   "cell_type": "markdown",
   "id": "57c23c86",
   "metadata": {},
   "source": [
    "Исследуем данные о пользователях и поездках более пристально."
   ]
  },
  {
   "cell_type": "markdown",
   "id": "a99e5c78",
   "metadata": {},
   "source": [
    "##### 3.1 Анализ информации о пользователях"
   ]
  },
  {
   "cell_type": "markdown",
   "id": "1f86ebb3",
   "metadata": {},
   "source": [
    "Перед тем как начать более детальный анализ данных о пользователях, вспомним какую информацию содержит указанный датафрейм:"
   ]
  },
  {
   "cell_type": "code",
   "execution_count": 19,
   "id": "17703a9b",
   "metadata": {},
   "outputs": [
    {
     "data": {
      "text/html": [
       "<div>\n",
       "<style scoped>\n",
       "    .dataframe tbody tr th:only-of-type {\n",
       "        vertical-align: middle;\n",
       "    }\n",
       "\n",
       "    .dataframe tbody tr th {\n",
       "        vertical-align: top;\n",
       "    }\n",
       "\n",
       "    .dataframe thead th {\n",
       "        text-align: right;\n",
       "    }\n",
       "</style>\n",
       "<table border=\"1\" class=\"dataframe\">\n",
       "  <thead>\n",
       "    <tr style=\"text-align: right;\">\n",
       "      <th></th>\n",
       "      <th>user_id</th>\n",
       "      <th>name</th>\n",
       "      <th>age</th>\n",
       "      <th>city</th>\n",
       "      <th>subscription_type</th>\n",
       "    </tr>\n",
       "  </thead>\n",
       "  <tbody>\n",
       "    <tr>\n",
       "      <th>0</th>\n",
       "      <td>1</td>\n",
       "      <td>Кира</td>\n",
       "      <td>22</td>\n",
       "      <td>Тюмень</td>\n",
       "      <td>ultra</td>\n",
       "    </tr>\n",
       "    <tr>\n",
       "      <th>1</th>\n",
       "      <td>2</td>\n",
       "      <td>Станислав</td>\n",
       "      <td>31</td>\n",
       "      <td>Омск</td>\n",
       "      <td>ultra</td>\n",
       "    </tr>\n",
       "    <tr>\n",
       "      <th>2</th>\n",
       "      <td>3</td>\n",
       "      <td>Алексей</td>\n",
       "      <td>20</td>\n",
       "      <td>Москва</td>\n",
       "      <td>ultra</td>\n",
       "    </tr>\n",
       "    <tr>\n",
       "      <th>3</th>\n",
       "      <td>4</td>\n",
       "      <td>Константин</td>\n",
       "      <td>26</td>\n",
       "      <td>Ростов-на-Дону</td>\n",
       "      <td>ultra</td>\n",
       "    </tr>\n",
       "    <tr>\n",
       "      <th>4</th>\n",
       "      <td>5</td>\n",
       "      <td>Адель</td>\n",
       "      <td>28</td>\n",
       "      <td>Омск</td>\n",
       "      <td>ultra</td>\n",
       "    </tr>\n",
       "  </tbody>\n",
       "</table>\n",
       "</div>"
      ],
      "text/plain": [
       "   user_id        name  age            city subscription_type\n",
       "0        1        Кира   22          Тюмень             ultra\n",
       "1        2   Станислав   31            Омск             ultra\n",
       "2        3     Алексей   20          Москва             ultra\n",
       "3        4  Константин   26  Ростов-на-Дону             ultra\n",
       "4        5       Адель   28            Омск             ultra"
      ]
     },
     "execution_count": 19,
     "metadata": {},
     "output_type": "execute_result"
    }
   ],
   "source": [
    "users_go.head()"
   ]
  },
  {
   "cell_type": "markdown",
   "id": "bf23d57f",
   "metadata": {},
   "source": [
    "###### 3.2 Присутствие сервиса в разных городах"
   ]
  },
  {
   "cell_type": "markdown",
   "id": "31a89e70",
   "metadata": {},
   "source": [
    "Начнем с анализа распространенности сервиса в разных городах. \n",
    "\n",
    "Сгруппируем данные по названию города и посчитаем, как часто те или иные города встречаются в таблице:"
   ]
  },
  {
   "cell_type": "code",
   "execution_count": 20,
   "id": "86b28fc7",
   "metadata": {},
   "outputs": [
    {
     "data": {
      "text/plain": [
       "city\n",
       "Пятигорск         219\n",
       "Екатеринбург      204\n",
       "Ростов-на-Дону    198\n",
       "Краснодар         193\n",
       "Сочи              189\n",
       "Омск              183\n",
       "Тюмень            180\n",
       "Москва            168\n",
       "Name: user_id, dtype: int64"
      ]
     },
     "execution_count": 20,
     "metadata": {},
     "output_type": "execute_result"
    }
   ],
   "source": [
    "users_go.groupby('city')['user_id'].count().sort_values(ascending= False)"
   ]
  },
  {
   "cell_type": "markdown",
   "id": "420dd961",
   "metadata": {},
   "source": [
    "Для наглядности также построим график с частотностью городов."
   ]
  },
  {
   "cell_type": "code",
   "execution_count": 21,
   "id": "8635d534",
   "metadata": {},
   "outputs": [
    {
     "data": {
      "image/png": "[encoded data removed]",
      "text/plain": [
       "<Figure size 640x480 with 1 Axes>"
      ]
     },
     "metadata": {},
     "output_type": "display_data"
    }
   ],
   "source": [
    "users_go.pivot_table(index='city', values='user_id', aggfunc='count').sort_values(by='user_id').plot(kind='bar', legend=False)\n",
    "plt.ylabel('Количество пользователей')\n",
    "plt.xlabel('Город')\n",
    "plt.title('Количество пользователей по городам')\n",
    "plt.show()"
   ]
  },
  {
   "cell_type": "markdown",
   "id": "5c73e442",
   "metadata": {},
   "source": [
    "Наибольшее количество пользователей сервиса *GoFast* проживают в Пятигорске - 219 человек. Немного отстает Екатеринбург - 204 пользователя. Тройку лидеров завершает Ростов-на-Дону - 204 пользователя. Удивительно плохо представлена в выборке Москва. \n",
    "\n",
    "В целом можно сказать, что пользователи распределены по городам присутствия достаточно равномерно. Разброс между максимальным и минимальным количеством пользователей небольшой - 41 человек. "
   ]
  },
  {
   "cell_type": "markdown",
   "id": "1334f079",
   "metadata": {},
   "source": [
    "###### 3.3 Пользователи с подписками и без"
   ]
  },
  {
   "cell_type": "markdown",
   "id": "1641836f",
   "metadata": {},
   "source": [
    "Проанализируем количество пользователей сервиса с подпиской и без нее."
   ]
  },
  {
   "cell_type": "code",
   "execution_count": 22,
   "id": "476b4333",
   "metadata": {},
   "outputs": [
    {
     "data": {
      "text/plain": [
       "subscription_type\n",
       "free     835\n",
       "ultra    699\n",
       "Name: user_id, dtype: int64"
      ]
     },
     "execution_count": 22,
     "metadata": {},
     "output_type": "execute_result"
    }
   ],
   "source": [
    "users_go.groupby('subscription_type')['user_id'].count() # сгруппируем данные по типу подписки и выведем \n",
    "# соответствующее количество пользователей"
   ]
  },
  {
   "cell_type": "code",
   "execution_count": 23,
   "id": "37a89fae",
   "metadata": {},
   "outputs": [
    {
     "data": {
      "text/plain": [
       "subscription_type\n",
       "free     0.544329\n",
       "ultra    0.455671\n",
       "Name: user_id, dtype: float64"
      ]
     },
     "execution_count": 23,
     "metadata": {},
     "output_type": "execute_result"
    }
   ],
   "source": [
    "users_go.groupby('subscription_type')['user_id'].count()/len(users_go) # посчитаем доли пользователей с \n",
    "# подпиской и без"
   ]
  },
  {
   "cell_type": "code",
   "execution_count": 24,
   "id": "adf3ef57",
   "metadata": {},
   "outputs": [
    {
     "data": {
      "image/png": "[encoded data removed]",
      "text/plain": [
       "<Figure size 640x480 with 1 Axes>"
      ]
     },
     "metadata": {},
     "output_type": "display_data"
    }
   ],
   "source": [
    "# выведем диаграмму по количеству пользователей с подпиской и без\n",
    "\n",
    "users_go.pivot_table(index='subscription_type', values='user_id', aggfunc='count').\\\n",
    "plot.pie(y='user_id', autopct='%.1f%%')\n",
    "plt.title('Количество пользователей с подпиской и без')\n",
    "plt.ylabel('')\n",
    "plt.show()"
   ]
  },
  {
   "cell_type": "markdown",
   "id": "ca4f362d",
   "metadata": {},
   "source": [
    "Больше половины пользователей сервиса пользуются им без оформления подписки. Количество людей с подпиской на 8.8% меньше, чем без нее."
   ]
  },
  {
   "cell_type": "markdown",
   "id": "aa3d99cf",
   "metadata": {},
   "source": [
    "###### 3.4 Возраст пользователей"
   ]
  },
  {
   "cell_type": "markdown",
   "id": "2ffb644e",
   "metadata": {},
   "source": [
    "Выведем на экран диаграмму возрастов пользователей: "
   ]
  },
  {
   "cell_type": "code",
   "execution_count": 25,
   "id": "54f7ad0c",
   "metadata": {},
   "outputs": [
    {
     "data": {
      "image/png": "[encoded data removed]",
      "text/plain": [
       "<Figure size 700x700 with 1 Axes>"
      ]
     },
     "metadata": {},
     "output_type": "display_data"
    }
   ],
   "source": [
    "users_go.pivot_table(index='age', values='user_id', aggfunc='count').plot(kind='bar', figsize=(7,7), legend=False)\n",
    "plt.ylabel('Количество пользователей')\n",
    "plt.xlabel('Возраст')\n",
    "plt.title('Количество пользователей разных возрастов')\n",
    "plt.show()"
   ]
  },
  {
   "cell_type": "markdown",
   "id": "089166e1",
   "metadata": {},
   "source": [
    "Опишем основные параметры распределения пользователей по возрастам:"
   ]
  },
  {
   "cell_type": "code",
   "execution_count": 26,
   "id": "b2bd634a",
   "metadata": {},
   "outputs": [
    {
     "data": {
      "text/plain": [
       "count    1534.000000\n",
       "mean       24.903520\n",
       "std         4.572367\n",
       "min        12.000000\n",
       "25%        22.000000\n",
       "50%        25.000000\n",
       "75%        28.000000\n",
       "max        43.000000\n",
       "Name: age, dtype: float64"
      ]
     },
     "execution_count": 26,
     "metadata": {},
     "output_type": "execute_result"
    }
   ],
   "source": [
    "users_go['age'].describe()"
   ]
  },
  {
   "cell_type": "markdown",
   "id": "3146b3db",
   "metadata": {},
   "source": [
    "Медианный возраст пользователя сервиса - 25 лет. Этот же возраст является наиболее часто встречающимся. Есть среди пользоватлей несовершеннолетние. В целом чаще всего сервисом пользуется молодежь в возрасте от 22 до 28 лет. Самому старшему пользователю в выборке - 43 года."
   ]
  },
  {
   "cell_type": "markdown",
   "id": "69036355",
   "metadata": {},
   "source": [
    "##### 3.4 Анализ информации о поездках"
   ]
  },
  {
   "cell_type": "markdown",
   "id": "1290713c",
   "metadata": {},
   "source": [
    "Перед началом анализа данных о поездках вспомним, какие данные представлены в таблице:"
   ]
  },
  {
   "cell_type": "code",
   "execution_count": 27,
   "id": "4fdc0ebd",
   "metadata": {},
   "outputs": [
    {
     "data": {
      "text/html": [
       "<div>\n",
       "<style scoped>\n",
       "    .dataframe tbody tr th:only-of-type {\n",
       "        vertical-align: middle;\n",
       "    }\n",
       "\n",
       "    .dataframe tbody tr th {\n",
       "        vertical-align: top;\n",
       "    }\n",
       "\n",
       "    .dataframe thead th {\n",
       "        text-align: right;\n",
       "    }\n",
       "</style>\n",
       "<table border=\"1\" class=\"dataframe\">\n",
       "  <thead>\n",
       "    <tr style=\"text-align: right;\">\n",
       "      <th></th>\n",
       "      <th>user_id</th>\n",
       "      <th>distance</th>\n",
       "      <th>duration</th>\n",
       "      <th>date</th>\n",
       "      <th>month</th>\n",
       "    </tr>\n",
       "  </thead>\n",
       "  <tbody>\n",
       "    <tr>\n",
       "      <th>0</th>\n",
       "      <td>1</td>\n",
       "      <td>4409.919140</td>\n",
       "      <td>25.599769</td>\n",
       "      <td>2021-01-01</td>\n",
       "      <td>1</td>\n",
       "    </tr>\n",
       "    <tr>\n",
       "      <th>1</th>\n",
       "      <td>1</td>\n",
       "      <td>2617.592153</td>\n",
       "      <td>15.816871</td>\n",
       "      <td>2021-01-18</td>\n",
       "      <td>1</td>\n",
       "    </tr>\n",
       "    <tr>\n",
       "      <th>2</th>\n",
       "      <td>1</td>\n",
       "      <td>754.159807</td>\n",
       "      <td>6.232113</td>\n",
       "      <td>2021-04-20</td>\n",
       "      <td>4</td>\n",
       "    </tr>\n",
       "    <tr>\n",
       "      <th>3</th>\n",
       "      <td>1</td>\n",
       "      <td>2694.783254</td>\n",
       "      <td>18.511000</td>\n",
       "      <td>2021-08-11</td>\n",
       "      <td>8</td>\n",
       "    </tr>\n",
       "    <tr>\n",
       "      <th>4</th>\n",
       "      <td>1</td>\n",
       "      <td>4028.687306</td>\n",
       "      <td>26.265803</td>\n",
       "      <td>2021-08-28</td>\n",
       "      <td>8</td>\n",
       "    </tr>\n",
       "  </tbody>\n",
       "</table>\n",
       "</div>"
      ],
      "text/plain": [
       "   user_id     distance   duration       date  month\n",
       "0        1  4409.919140  25.599769 2021-01-01      1\n",
       "1        1  2617.592153  15.816871 2021-01-18      1\n",
       "2        1   754.159807   6.232113 2021-04-20      4\n",
       "3        1  2694.783254  18.511000 2021-08-11      8\n",
       "4        1  4028.687306  26.265803 2021-08-28      8"
      ]
     },
     "execution_count": 27,
     "metadata": {},
     "output_type": "execute_result"
    }
   ],
   "source": [
    "riders_go.head()"
   ]
  },
  {
   "cell_type": "markdown",
   "id": "bfc881ad",
   "metadata": {},
   "source": [
    "###### 3.5 Расстояние, которое пользователь преодолел за одну поездку"
   ]
  },
  {
   "cell_type": "markdown",
   "id": "b100ee61",
   "metadata": {},
   "source": [
    "Посмотрим, как различается расстояние, преодолеваемое пользователем от поездки к поездке."
   ]
  },
  {
   "cell_type": "code",
   "execution_count": 28,
   "id": "f07564d0",
   "metadata": {
    "scrolled": true
   },
   "outputs": [
    {
     "data": {
      "image/png": "[encoded data removed]",
      "text/plain": [
       "<Figure size 640x480 with 1 Axes>"
      ]
     },
     "metadata": {},
     "output_type": "display_data"
    }
   ],
   "source": [
    "riders_go.hist('distance', bins=20)\n",
    "plt.xlabel('Расстояние')\n",
    "plt.ylabel('Количество поездок')\n",
    "plt.title('Распределение параметра \"Расстояние\"')\n",
    "plt.show()"
   ]
  },
  {
   "cell_type": "markdown",
   "id": "a8c83386",
   "metadata": {},
   "source": [
    "Опишем основные параметры распределения дистанций по каждой поездке:"
   ]
  },
  {
   "cell_type": "code",
   "execution_count": 29,
   "id": "7a5ec99e",
   "metadata": {},
   "outputs": [
    {
     "data": {
      "text/plain": [
       "count    18068.000000\n",
       "mean      3070.659976\n",
       "std       1116.831209\n",
       "min          0.855683\n",
       "25%       2543.226360\n",
       "50%       3133.609994\n",
       "75%       3776.222735\n",
       "max       7211.007745\n",
       "Name: distance, dtype: float64"
      ]
     },
     "execution_count": 29,
     "metadata": {},
     "output_type": "execute_result"
    }
   ],
   "source": [
    "riders_go['distance'].describe()"
   ]
  },
  {
   "cell_type": "markdown",
   "id": "c43c6aed",
   "metadata": {},
   "source": [
    "Стандартное расстояние, преодолеваемое пользователем за одну сессию составляет около 3 километров. Большинство поездок совершались на расстояние от 2.5 до 3.8 километров. Есть рекордные заезды дальностью до 7 километров. Некоторые поездки аномально короткие - минимальное расстояние, преодолеваемое за одну сессию, составляет меньше метра.\n",
    "\n",
    "Немного пристальнее взглянем на наиболее короткие заезды."
   ]
  },
  {
   "cell_type": "code",
   "execution_count": 30,
   "id": "dc7dd07f",
   "metadata": {},
   "outputs": [
    {
     "data": {
      "image/png": "[encoded data removed]",
      "text/plain": [
       "<Figure size 640x480 with 1 Axes>"
      ]
     },
     "metadata": {},
     "output_type": "display_data"
    }
   ],
   "source": [
    "riders_go.hist('distance', bins=20, range=(0,100)) # построим гистограмму по предельному расстоянию 100 метров\n",
    "plt.xlabel('Расстояние')\n",
    "plt.ylabel('Количество поездок')\n",
    "plt.title('Распределение параметра \"Расстояние\" для поездок до 100 метров')\n",
    "plt.show()"
   ]
  },
  {
   "cell_type": "code",
   "execution_count": 31,
   "id": "b6f57b12",
   "metadata": {},
   "outputs": [
    {
     "data": {
      "text/plain": [
       "78"
      ]
     },
     "execution_count": 31,
     "metadata": {},
     "output_type": "execute_result"
    }
   ],
   "source": [
    "riders_go.query('distance<100')['user_id'].count() # посчитаем общее количество поездок до 100 метров"
   ]
  },
  {
   "cell_type": "markdown",
   "id": "e6e409fe",
   "metadata": {},
   "source": [
    "Видно, что поездок с аномально небольшим пройденным расстоянием достаточно большое количество. Вряд ли это связано с тем, что пункт назначения пользователя находился слишком близко. Иных причин может быть множество: сложность управления самокатом, неисправность транспорта. Кроме того, такой показатель может сигнализировать о том, что пользователю сложно разобраться с интерфейсом приложения и с функционалом сервиса."
   ]
  },
  {
   "cell_type": "markdown",
   "id": "4836c8e7",
   "metadata": {},
   "source": [
    "######  3.6 Продолжительность поездок"
   ]
  },
  {
   "cell_type": "markdown",
   "id": "262a83b8",
   "metadata": {},
   "source": [
    "Теперь сравним , как отличаются данные о пройденном расстоянии от данных о продолжительности поездок."
   ]
  },
  {
   "cell_type": "code",
   "execution_count": 32,
   "id": "2b1cb41b",
   "metadata": {},
   "outputs": [
    {
     "data": {
      "image/png": "[encoded data removed]",
      "text/plain": [
       "<Figure size 640x480 with 1 Axes>"
      ]
     },
     "metadata": {},
     "output_type": "display_data"
    }
   ],
   "source": [
    "riders_go.hist('duration') # построим гистограмму по данным о длительности поездок \n",
    "plt.xlabel('Длительность')\n",
    "plt.ylabel('Количество поездок')\n",
    "plt.title('Распределение параметра \"Длительность\"')\n",
    "plt.show()"
   ]
  },
  {
   "cell_type": "code",
   "execution_count": 33,
   "id": "f68e8483",
   "metadata": {},
   "outputs": [
    {
     "data": {
      "text/plain": [
       "count    18068.000000\n",
       "mean        17.805011\n",
       "std          6.091051\n",
       "min          0.500000\n",
       "25%         13.597563\n",
       "50%         17.678395\n",
       "75%         21.724800\n",
       "max         40.823963\n",
       "Name: duration, dtype: float64"
      ]
     },
     "execution_count": 33,
     "metadata": {},
     "output_type": "execute_result"
    }
   ],
   "source": [
    "riders_go['duration'].describe() # опишем основные параметры распределения длительности поездок"
   ]
  },
  {
   "cell_type": "markdown",
   "id": "b3fe7ec0",
   "metadata": {},
   "source": [
    "Длительность стандартной поездки на самокате сервиса *GoFast* составляет 18 минут. Большинство поездок длятся от 14 до 22 минут. Максимальное время поездки - 40 минут. Достаточно большое количество поездок с длительностью приближенной к нулю. Изучим их чуть внимательнее. "
   ]
  },
  {
   "cell_type": "code",
   "execution_count": 34,
   "id": "31842612",
   "metadata": {},
   "outputs": [
    {
     "data": {
      "image/png": "[encoded data removed]",
      "text/plain": [
       "<Figure size 640x480 with 1 Axes>"
      ]
     },
     "metadata": {},
     "output_type": "display_data"
    }
   ],
   "source": [
    "riders_go.hist('duration', range=(0,5)) # построим гистограмму по предельной длительности поездок в 5 минут\n",
    "plt.xlabel('Длительность')\n",
    "plt.ylabel('Количество поездок')\n",
    "plt.title('Распределение параметра \"Длительность\" для поездок до 5 минут')\n",
    "plt.show()"
   ]
  },
  {
   "cell_type": "markdown",
   "id": "8b80a7f6",
   "metadata": {},
   "source": [
    "Более 80 поездок не продлились и 1 минуты. Возможно, это примерно те же поездки, что и с преодоленным расстоянием до 100 метров."
   ]
  },
  {
   "cell_type": "code",
   "execution_count": 35,
   "id": "2bac6561",
   "metadata": {
    "scrolled": true
   },
   "outputs": [
    {
     "data": {
      "image/png": "[encoded data removed]",
      "text/plain": [
       "<Figure size 640x480 with 1 Axes>"
      ]
     },
     "metadata": {},
     "output_type": "display_data"
    }
   ],
   "source": [
    "riders_go.query('duration<1')['distance'].hist() # отфильтруем данные по длительности поездки до минуты и построим\n",
    "# гистограмму по преодоленному пользователем расстоянию\n",
    "plt.xlabel('Расстояние')\n",
    "plt.ylabel('Количество поездок')\n",
    "plt.title('Распределение параметра \"Расстояние\" для поездок меньше 1 минуты')\n",
    "plt.show()"
   ]
  },
  {
   "cell_type": "code",
   "execution_count": 36,
   "id": "66986662",
   "metadata": {},
   "outputs": [
    {
     "data": {
      "text/html": [
       "<div>\n",
       "<style scoped>\n",
       "    .dataframe tbody tr th:only-of-type {\n",
       "        vertical-align: middle;\n",
       "    }\n",
       "\n",
       "    .dataframe tbody tr th {\n",
       "        vertical-align: top;\n",
       "    }\n",
       "\n",
       "    .dataframe thead th {\n",
       "        text-align: right;\n",
       "    }\n",
       "</style>\n",
       "<table border=\"1\" class=\"dataframe\">\n",
       "  <thead>\n",
       "    <tr style=\"text-align: right;\">\n",
       "      <th></th>\n",
       "      <th>user_id</th>\n",
       "      <th>distance</th>\n",
       "      <th>duration</th>\n",
       "      <th>date</th>\n",
       "      <th>month</th>\n",
       "    </tr>\n",
       "  </thead>\n",
       "  <tbody>\n",
       "    <tr>\n",
       "      <th>6531</th>\n",
       "      <td>701</td>\n",
       "      <td>4196.445201</td>\n",
       "      <td>0.5</td>\n",
       "      <td>2021-08-31</td>\n",
       "      <td>8</td>\n",
       "    </tr>\n",
       "    <tr>\n",
       "      <th>6570</th>\n",
       "      <td>704</td>\n",
       "      <td>4830.824371</td>\n",
       "      <td>0.5</td>\n",
       "      <td>2021-10-14</td>\n",
       "      <td>10</td>\n",
       "    </tr>\n",
       "    <tr>\n",
       "      <th>6680</th>\n",
       "      <td>712</td>\n",
       "      <td>4684.004397</td>\n",
       "      <td>0.5</td>\n",
       "      <td>2021-03-04</td>\n",
       "      <td>3</td>\n",
       "    </tr>\n",
       "    <tr>\n",
       "      <th>6695</th>\n",
       "      <td>713</td>\n",
       "      <td>5215.642710</td>\n",
       "      <td>0.5</td>\n",
       "      <td>2021-02-25</td>\n",
       "      <td>2</td>\n",
       "    </tr>\n",
       "    <tr>\n",
       "      <th>6768</th>\n",
       "      <td>718</td>\n",
       "      <td>5197.436649</td>\n",
       "      <td>0.5</td>\n",
       "      <td>2021-02-11</td>\n",
       "      <td>2</td>\n",
       "    </tr>\n",
       "    <tr>\n",
       "      <th>6860</th>\n",
       "      <td>724</td>\n",
       "      <td>6225.520342</td>\n",
       "      <td>0.5</td>\n",
       "      <td>2021-12-16</td>\n",
       "      <td>12</td>\n",
       "    </tr>\n",
       "    <tr>\n",
       "      <th>6883</th>\n",
       "      <td>726</td>\n",
       "      <td>4452.491518</td>\n",
       "      <td>0.5</td>\n",
       "      <td>2021-03-01</td>\n",
       "      <td>3</td>\n",
       "    </tr>\n",
       "    <tr>\n",
       "      <th>7018</th>\n",
       "      <td>735</td>\n",
       "      <td>4406.954812</td>\n",
       "      <td>0.5</td>\n",
       "      <td>2021-04-13</td>\n",
       "      <td>4</td>\n",
       "    </tr>\n",
       "    <tr>\n",
       "      <th>7160</th>\n",
       "      <td>745</td>\n",
       "      <td>5286.167732</td>\n",
       "      <td>0.5</td>\n",
       "      <td>2021-08-17</td>\n",
       "      <td>8</td>\n",
       "    </tr>\n",
       "    <tr>\n",
       "      <th>7364</th>\n",
       "      <td>760</td>\n",
       "      <td>4881.391865</td>\n",
       "      <td>0.5</td>\n",
       "      <td>2021-08-29</td>\n",
       "      <td>8</td>\n",
       "    </tr>\n",
       "    <tr>\n",
       "      <th>7437</th>\n",
       "      <td>766</td>\n",
       "      <td>4539.088310</td>\n",
       "      <td>0.5</td>\n",
       "      <td>2021-12-22</td>\n",
       "      <td>12</td>\n",
       "    </tr>\n",
       "    <tr>\n",
       "      <th>7508</th>\n",
       "      <td>772</td>\n",
       "      <td>4718.820996</td>\n",
       "      <td>0.5</td>\n",
       "      <td>2021-05-22</td>\n",
       "      <td>5</td>\n",
       "    </tr>\n",
       "    <tr>\n",
       "      <th>7537</th>\n",
       "      <td>774</td>\n",
       "      <td>5488.141903</td>\n",
       "      <td>0.5</td>\n",
       "      <td>2021-05-27</td>\n",
       "      <td>5</td>\n",
       "    </tr>\n",
       "    <tr>\n",
       "      <th>7612</th>\n",
       "      <td>780</td>\n",
       "      <td>6112.644835</td>\n",
       "      <td>0.5</td>\n",
       "      <td>2021-11-23</td>\n",
       "      <td>11</td>\n",
       "    </tr>\n",
       "    <tr>\n",
       "      <th>7679</th>\n",
       "      <td>784</td>\n",
       "      <td>5202.815712</td>\n",
       "      <td>0.5</td>\n",
       "      <td>2021-06-03</td>\n",
       "      <td>6</td>\n",
       "    </tr>\n",
       "    <tr>\n",
       "      <th>7791</th>\n",
       "      <td>792</td>\n",
       "      <td>5353.189287</td>\n",
       "      <td>0.5</td>\n",
       "      <td>2021-11-06</td>\n",
       "      <td>11</td>\n",
       "    </tr>\n",
       "    <tr>\n",
       "      <th>7830</th>\n",
       "      <td>795</td>\n",
       "      <td>6262.302747</td>\n",
       "      <td>0.5</td>\n",
       "      <td>2021-09-09</td>\n",
       "      <td>9</td>\n",
       "    </tr>\n",
       "    <tr>\n",
       "      <th>7883</th>\n",
       "      <td>800</td>\n",
       "      <td>5052.410425</td>\n",
       "      <td>0.5</td>\n",
       "      <td>2021-07-19</td>\n",
       "      <td>7</td>\n",
       "    </tr>\n",
       "    <tr>\n",
       "      <th>7932</th>\n",
       "      <td>804</td>\n",
       "      <td>5547.830031</td>\n",
       "      <td>0.5</td>\n",
       "      <td>2021-05-10</td>\n",
       "      <td>5</td>\n",
       "    </tr>\n",
       "    <tr>\n",
       "      <th>8329</th>\n",
       "      <td>836</td>\n",
       "      <td>4958.922077</td>\n",
       "      <td>0.5</td>\n",
       "      <td>2021-01-12</td>\n",
       "      <td>1</td>\n",
       "    </tr>\n",
       "  </tbody>\n",
       "</table>\n",
       "</div>"
      ],
      "text/plain": [
       "      user_id     distance  duration       date  month\n",
       "6531      701  4196.445201       0.5 2021-08-31      8\n",
       "6570      704  4830.824371       0.5 2021-10-14     10\n",
       "6680      712  4684.004397       0.5 2021-03-04      3\n",
       "6695      713  5215.642710       0.5 2021-02-25      2\n",
       "6768      718  5197.436649       0.5 2021-02-11      2\n",
       "6860      724  6225.520342       0.5 2021-12-16     12\n",
       "6883      726  4452.491518       0.5 2021-03-01      3\n",
       "7018      735  4406.954812       0.5 2021-04-13      4\n",
       "7160      745  5286.167732       0.5 2021-08-17      8\n",
       "7364      760  4881.391865       0.5 2021-08-29      8\n",
       "7437      766  4539.088310       0.5 2021-12-22     12\n",
       "7508      772  4718.820996       0.5 2021-05-22      5\n",
       "7537      774  5488.141903       0.5 2021-05-27      5\n",
       "7612      780  6112.644835       0.5 2021-11-23     11\n",
       "7679      784  5202.815712       0.5 2021-06-03      6\n",
       "7791      792  5353.189287       0.5 2021-11-06     11\n",
       "7830      795  6262.302747       0.5 2021-09-09      9\n",
       "7883      800  5052.410425       0.5 2021-07-19      7\n",
       "7932      804  5547.830031       0.5 2021-05-10      5\n",
       "8329      836  4958.922077       0.5 2021-01-12      1"
      ]
     },
     "execution_count": 36,
     "metadata": {},
     "output_type": "execute_result"
    }
   ],
   "source": [
    "riders_go.query('duration<1').head(20) # еще раз выведем 20 первых строк таблицы с данными о поездках, \n",
    "# отфильтровав их по длительности до 1 минуты"
   ]
  },
  {
   "cell_type": "markdown",
   "id": "375bdc86",
   "metadata": {},
   "source": [
    "Кажется, здесь какая-то ошибка. При длительности поездки меньше минуты некоторые пользователи умудряются проехать несколько километров пути. Кажется, наш сервис считает время поездки не совсем корректно. "
   ]
  },
  {
   "cell_type": "markdown",
   "id": "50579438",
   "metadata": {},
   "source": [
    "**Вывод:**\n",
    "\n",
    "Наибольшее количество пользователей сервиса *GoFast* проживают в Пятигорске. При этом, в целом можно сказать, что пользователи распределены по городам присутствия достаточно равномерно. Разброс между максимальным и минимальным количеством пользователей в разных городах небольшой - 41 человек. \n",
    "\n",
    "Больше половины пользователей сервиса пользуются им без оформления подписки.\n",
    "\n",
    "Сервис пользуется популярностью у молодежи в возрасте от 22 до 28 лет. Средний возраст пользователя - 25 лет. \n",
    "\n",
    "Стандартное расстояние, преодолеваемое пользователем за одну сессию составляет около 3 километров. При этом в массиве присутствуют данные об аномально коротких поездках - 100 метров и меньше. Возможными причинами таких заездов могут быть: сложность управления самокатом, неисправность транспорта, неинтуитивный интерфейс приложения, проблемы с функционалом сервиса.\n",
    "\n",
    "Длительность стандартной поездки на самокате сервиса *GoFast* составляет 18 минут. Более 80 поездок не продлились и 1 минуты. При этом пройденное расстояние для таких поездок может составлять несколько километров. Это может указывать на ошибки в расчетах времени поездки сервисом. "
   ]
  },
  {
   "cell_type": "markdown",
   "id": "4ef51331",
   "metadata": {},
   "source": [
    "# 4. Объединение данных"
   ]
  },
  {
   "cell_type": "markdown",
   "id": "d8849367",
   "metadata": {},
   "source": [
    "Для дальнейшего исследования объединим имеющиеся у нас три датафрейма в один, используя метод *merge*."
   ]
  },
  {
   "cell_type": "code",
   "execution_count": 37,
   "id": "81a66e60",
   "metadata": {},
   "outputs": [],
   "source": [
    "# объединим таблицы с данными о пользователях и поездках\n",
    "\n",
    "total_go = riders_go.merge(users_go, on='user_id', how = 'left') "
   ]
  },
  {
   "cell_type": "code",
   "execution_count": 38,
   "id": "287532d0",
   "metadata": {},
   "outputs": [],
   "source": [
    "# объединим таблицу с данными о пользователях и поездках с данными о подписках\n",
    "\n",
    "total_go = total_go.merge(subscriptions_go, on='subscription_type', how='left')"
   ]
  },
  {
   "cell_type": "markdown",
   "id": "b2985489",
   "metadata": {},
   "source": [
    "Выведем на экран первые несколько строк получившейся после слияния таблицы."
   ]
  },
  {
   "cell_type": "code",
   "execution_count": 39,
   "id": "ee619921",
   "metadata": {
    "scrolled": true
   },
   "outputs": [
    {
     "data": {
      "text/html": [
       "<div>\n",
       "<style scoped>\n",
       "    .dataframe tbody tr th:only-of-type {\n",
       "        vertical-align: middle;\n",
       "    }\n",
       "\n",
       "    .dataframe tbody tr th {\n",
       "        vertical-align: top;\n",
       "    }\n",
       "\n",
       "    .dataframe thead th {\n",
       "        text-align: right;\n",
       "    }\n",
       "</style>\n",
       "<table border=\"1\" class=\"dataframe\">\n",
       "  <thead>\n",
       "    <tr style=\"text-align: right;\">\n",
       "      <th></th>\n",
       "      <th>user_id</th>\n",
       "      <th>distance</th>\n",
       "      <th>duration</th>\n",
       "      <th>date</th>\n",
       "      <th>month</th>\n",
       "      <th>name</th>\n",
       "      <th>age</th>\n",
       "      <th>city</th>\n",
       "      <th>subscription_type</th>\n",
       "      <th>minute_price</th>\n",
       "      <th>start_ride_price</th>\n",
       "      <th>subscription_fee</th>\n",
       "    </tr>\n",
       "  </thead>\n",
       "  <tbody>\n",
       "    <tr>\n",
       "      <th>0</th>\n",
       "      <td>1</td>\n",
       "      <td>4409.919140</td>\n",
       "      <td>25.599769</td>\n",
       "      <td>2021-01-01</td>\n",
       "      <td>1</td>\n",
       "      <td>Кира</td>\n",
       "      <td>22</td>\n",
       "      <td>Тюмень</td>\n",
       "      <td>ultra</td>\n",
       "      <td>6</td>\n",
       "      <td>0</td>\n",
       "      <td>199</td>\n",
       "    </tr>\n",
       "    <tr>\n",
       "      <th>1</th>\n",
       "      <td>1</td>\n",
       "      <td>2617.592153</td>\n",
       "      <td>15.816871</td>\n",
       "      <td>2021-01-18</td>\n",
       "      <td>1</td>\n",
       "      <td>Кира</td>\n",
       "      <td>22</td>\n",
       "      <td>Тюмень</td>\n",
       "      <td>ultra</td>\n",
       "      <td>6</td>\n",
       "      <td>0</td>\n",
       "      <td>199</td>\n",
       "    </tr>\n",
       "    <tr>\n",
       "      <th>2</th>\n",
       "      <td>1</td>\n",
       "      <td>754.159807</td>\n",
       "      <td>6.232113</td>\n",
       "      <td>2021-04-20</td>\n",
       "      <td>4</td>\n",
       "      <td>Кира</td>\n",
       "      <td>22</td>\n",
       "      <td>Тюмень</td>\n",
       "      <td>ultra</td>\n",
       "      <td>6</td>\n",
       "      <td>0</td>\n",
       "      <td>199</td>\n",
       "    </tr>\n",
       "    <tr>\n",
       "      <th>3</th>\n",
       "      <td>1</td>\n",
       "      <td>2694.783254</td>\n",
       "      <td>18.511000</td>\n",
       "      <td>2021-08-11</td>\n",
       "      <td>8</td>\n",
       "      <td>Кира</td>\n",
       "      <td>22</td>\n",
       "      <td>Тюмень</td>\n",
       "      <td>ultra</td>\n",
       "      <td>6</td>\n",
       "      <td>0</td>\n",
       "      <td>199</td>\n",
       "    </tr>\n",
       "    <tr>\n",
       "      <th>4</th>\n",
       "      <td>1</td>\n",
       "      <td>4028.687306</td>\n",
       "      <td>26.265803</td>\n",
       "      <td>2021-08-28</td>\n",
       "      <td>8</td>\n",
       "      <td>Кира</td>\n",
       "      <td>22</td>\n",
       "      <td>Тюмень</td>\n",
       "      <td>ultra</td>\n",
       "      <td>6</td>\n",
       "      <td>0</td>\n",
       "      <td>199</td>\n",
       "    </tr>\n",
       "  </tbody>\n",
       "</table>\n",
       "</div>"
      ],
      "text/plain": [
       "   user_id     distance   duration       date  month  name  age    city  \\\n",
       "0        1  4409.919140  25.599769 2021-01-01      1  Кира   22  Тюмень   \n",
       "1        1  2617.592153  15.816871 2021-01-18      1  Кира   22  Тюмень   \n",
       "2        1   754.159807   6.232113 2021-04-20      4  Кира   22  Тюмень   \n",
       "3        1  2694.783254  18.511000 2021-08-11      8  Кира   22  Тюмень   \n",
       "4        1  4028.687306  26.265803 2021-08-28      8  Кира   22  Тюмень   \n",
       "\n",
       "  subscription_type  minute_price  start_ride_price  subscription_fee  \n",
       "0             ultra             6                 0               199  \n",
       "1             ultra             6                 0               199  \n",
       "2             ultra             6                 0               199  \n",
       "3             ultra             6                 0               199  \n",
       "4             ultra             6                 0               199  "
      ]
     },
     "execution_count": 39,
     "metadata": {},
     "output_type": "execute_result"
    }
   ],
   "source": [
    "total_go.head() "
   ]
  },
  {
   "cell_type": "markdown",
   "id": "ee281a68",
   "metadata": {},
   "source": [
    "Теперь разделим получившийся датафрем на два новых массива: на данные о пользователях с подпиской и без нее."
   ]
  },
  {
   "cell_type": "code",
   "execution_count": 40,
   "id": "f0a1ca75",
   "metadata": {},
   "outputs": [
    {
     "data": {
      "text/html": [
       "<div>\n",
       "<style scoped>\n",
       "    .dataframe tbody tr th:only-of-type {\n",
       "        vertical-align: middle;\n",
       "    }\n",
       "\n",
       "    .dataframe tbody tr th {\n",
       "        vertical-align: top;\n",
       "    }\n",
       "\n",
       "    .dataframe thead th {\n",
       "        text-align: right;\n",
       "    }\n",
       "</style>\n",
       "<table border=\"1\" class=\"dataframe\">\n",
       "  <thead>\n",
       "    <tr style=\"text-align: right;\">\n",
       "      <th></th>\n",
       "      <th>user_id</th>\n",
       "      <th>distance</th>\n",
       "      <th>duration</th>\n",
       "      <th>date</th>\n",
       "      <th>month</th>\n",
       "      <th>name</th>\n",
       "      <th>age</th>\n",
       "      <th>city</th>\n",
       "      <th>subscription_type</th>\n",
       "      <th>minute_price</th>\n",
       "      <th>start_ride_price</th>\n",
       "      <th>subscription_fee</th>\n",
       "    </tr>\n",
       "  </thead>\n",
       "  <tbody>\n",
       "    <tr>\n",
       "      <th>0</th>\n",
       "      <td>1</td>\n",
       "      <td>4409.919140</td>\n",
       "      <td>25.599769</td>\n",
       "      <td>2021-01-01</td>\n",
       "      <td>1</td>\n",
       "      <td>Кира</td>\n",
       "      <td>22</td>\n",
       "      <td>Тюмень</td>\n",
       "      <td>ultra</td>\n",
       "      <td>6</td>\n",
       "      <td>0</td>\n",
       "      <td>199</td>\n",
       "    </tr>\n",
       "    <tr>\n",
       "      <th>1</th>\n",
       "      <td>1</td>\n",
       "      <td>2617.592153</td>\n",
       "      <td>15.816871</td>\n",
       "      <td>2021-01-18</td>\n",
       "      <td>1</td>\n",
       "      <td>Кира</td>\n",
       "      <td>22</td>\n",
       "      <td>Тюмень</td>\n",
       "      <td>ultra</td>\n",
       "      <td>6</td>\n",
       "      <td>0</td>\n",
       "      <td>199</td>\n",
       "    </tr>\n",
       "    <tr>\n",
       "      <th>2</th>\n",
       "      <td>1</td>\n",
       "      <td>754.159807</td>\n",
       "      <td>6.232113</td>\n",
       "      <td>2021-04-20</td>\n",
       "      <td>4</td>\n",
       "      <td>Кира</td>\n",
       "      <td>22</td>\n",
       "      <td>Тюмень</td>\n",
       "      <td>ultra</td>\n",
       "      <td>6</td>\n",
       "      <td>0</td>\n",
       "      <td>199</td>\n",
       "    </tr>\n",
       "    <tr>\n",
       "      <th>3</th>\n",
       "      <td>1</td>\n",
       "      <td>2694.783254</td>\n",
       "      <td>18.511000</td>\n",
       "      <td>2021-08-11</td>\n",
       "      <td>8</td>\n",
       "      <td>Кира</td>\n",
       "      <td>22</td>\n",
       "      <td>Тюмень</td>\n",
       "      <td>ultra</td>\n",
       "      <td>6</td>\n",
       "      <td>0</td>\n",
       "      <td>199</td>\n",
       "    </tr>\n",
       "    <tr>\n",
       "      <th>4</th>\n",
       "      <td>1</td>\n",
       "      <td>4028.687306</td>\n",
       "      <td>26.265803</td>\n",
       "      <td>2021-08-28</td>\n",
       "      <td>8</td>\n",
       "      <td>Кира</td>\n",
       "      <td>22</td>\n",
       "      <td>Тюмень</td>\n",
       "      <td>ultra</td>\n",
       "      <td>6</td>\n",
       "      <td>0</td>\n",
       "      <td>199</td>\n",
       "    </tr>\n",
       "  </tbody>\n",
       "</table>\n",
       "</div>"
      ],
      "text/plain": [
       "   user_id     distance   duration       date  month  name  age    city  \\\n",
       "0        1  4409.919140  25.599769 2021-01-01      1  Кира   22  Тюмень   \n",
       "1        1  2617.592153  15.816871 2021-01-18      1  Кира   22  Тюмень   \n",
       "2        1   754.159807   6.232113 2021-04-20      4  Кира   22  Тюмень   \n",
       "3        1  2694.783254  18.511000 2021-08-11      8  Кира   22  Тюмень   \n",
       "4        1  4028.687306  26.265803 2021-08-28      8  Кира   22  Тюмень   \n",
       "\n",
       "  subscription_type  minute_price  start_ride_price  subscription_fee  \n",
       "0             ultra             6                 0               199  \n",
       "1             ultra             6                 0               199  \n",
       "2             ultra             6                 0               199  \n",
       "3             ultra             6                 0               199  \n",
       "4             ultra             6                 0               199  "
      ]
     },
     "execution_count": 40,
     "metadata": {},
     "output_type": "execute_result"
    }
   ],
   "source": [
    "ultra_users = total_go.query('subscription_type==\"ultra\"')\n",
    "ultra_users.head()"
   ]
  },
  {
   "cell_type": "code",
   "execution_count": 41,
   "id": "c8b9e172",
   "metadata": {},
   "outputs": [
    {
     "data": {
      "text/html": [
       "<div>\n",
       "<style scoped>\n",
       "    .dataframe tbody tr th:only-of-type {\n",
       "        vertical-align: middle;\n",
       "    }\n",
       "\n",
       "    .dataframe tbody tr th {\n",
       "        vertical-align: top;\n",
       "    }\n",
       "\n",
       "    .dataframe thead th {\n",
       "        text-align: right;\n",
       "    }\n",
       "</style>\n",
       "<table border=\"1\" class=\"dataframe\">\n",
       "  <thead>\n",
       "    <tr style=\"text-align: right;\">\n",
       "      <th></th>\n",
       "      <th>user_id</th>\n",
       "      <th>distance</th>\n",
       "      <th>duration</th>\n",
       "      <th>date</th>\n",
       "      <th>month</th>\n",
       "      <th>name</th>\n",
       "      <th>age</th>\n",
       "      <th>city</th>\n",
       "      <th>subscription_type</th>\n",
       "      <th>minute_price</th>\n",
       "      <th>start_ride_price</th>\n",
       "      <th>subscription_fee</th>\n",
       "    </tr>\n",
       "  </thead>\n",
       "  <tbody>\n",
       "    <tr>\n",
       "      <th>6500</th>\n",
       "      <td>700</td>\n",
       "      <td>2515.690719</td>\n",
       "      <td>14.944286</td>\n",
       "      <td>2021-01-02</td>\n",
       "      <td>1</td>\n",
       "      <td>Айдар</td>\n",
       "      <td>22</td>\n",
       "      <td>Омск</td>\n",
       "      <td>free</td>\n",
       "      <td>8</td>\n",
       "      <td>50</td>\n",
       "      <td>0</td>\n",
       "    </tr>\n",
       "    <tr>\n",
       "      <th>6501</th>\n",
       "      <td>700</td>\n",
       "      <td>846.932642</td>\n",
       "      <td>16.234663</td>\n",
       "      <td>2021-02-01</td>\n",
       "      <td>2</td>\n",
       "      <td>Айдар</td>\n",
       "      <td>22</td>\n",
       "      <td>Омск</td>\n",
       "      <td>free</td>\n",
       "      <td>8</td>\n",
       "      <td>50</td>\n",
       "      <td>0</td>\n",
       "    </tr>\n",
       "    <tr>\n",
       "      <th>6502</th>\n",
       "      <td>700</td>\n",
       "      <td>4004.434142</td>\n",
       "      <td>20.016628</td>\n",
       "      <td>2021-02-04</td>\n",
       "      <td>2</td>\n",
       "      <td>Айдар</td>\n",
       "      <td>22</td>\n",
       "      <td>Омск</td>\n",
       "      <td>free</td>\n",
       "      <td>8</td>\n",
       "      <td>50</td>\n",
       "      <td>0</td>\n",
       "    </tr>\n",
       "    <tr>\n",
       "      <th>6503</th>\n",
       "      <td>700</td>\n",
       "      <td>1205.911290</td>\n",
       "      <td>9.782872</td>\n",
       "      <td>2021-02-10</td>\n",
       "      <td>2</td>\n",
       "      <td>Айдар</td>\n",
       "      <td>22</td>\n",
       "      <td>Омск</td>\n",
       "      <td>free</td>\n",
       "      <td>8</td>\n",
       "      <td>50</td>\n",
       "      <td>0</td>\n",
       "    </tr>\n",
       "    <tr>\n",
       "      <th>6504</th>\n",
       "      <td>700</td>\n",
       "      <td>3047.379435</td>\n",
       "      <td>17.427673</td>\n",
       "      <td>2021-02-14</td>\n",
       "      <td>2</td>\n",
       "      <td>Айдар</td>\n",
       "      <td>22</td>\n",
       "      <td>Омск</td>\n",
       "      <td>free</td>\n",
       "      <td>8</td>\n",
       "      <td>50</td>\n",
       "      <td>0</td>\n",
       "    </tr>\n",
       "  </tbody>\n",
       "</table>\n",
       "</div>"
      ],
      "text/plain": [
       "      user_id     distance   duration       date  month   name  age  city  \\\n",
       "6500      700  2515.690719  14.944286 2021-01-02      1  Айдар   22  Омск   \n",
       "6501      700   846.932642  16.234663 2021-02-01      2  Айдар   22  Омск   \n",
       "6502      700  4004.434142  20.016628 2021-02-04      2  Айдар   22  Омск   \n",
       "6503      700  1205.911290   9.782872 2021-02-10      2  Айдар   22  Омск   \n",
       "6504      700  3047.379435  17.427673 2021-02-14      2  Айдар   22  Омск   \n",
       "\n",
       "     subscription_type  minute_price  start_ride_price  subscription_fee  \n",
       "6500              free             8                50                 0  \n",
       "6501              free             8                50                 0  \n",
       "6502              free             8                50                 0  \n",
       "6503              free             8                50                 0  \n",
       "6504              free             8                50                 0  "
      ]
     },
     "execution_count": 41,
     "metadata": {},
     "output_type": "execute_result"
    }
   ],
   "source": [
    "free_users = total_go.query('subscription_type==\"free\"')\n",
    "free_users.head()"
   ]
  },
  {
   "cell_type": "markdown",
   "id": "85e6b719",
   "metadata": {},
   "source": [
    "Познакомимся с общими характеристиками вновь образовавшихся датафреймов:"
   ]
  },
  {
   "cell_type": "code",
   "execution_count": 42,
   "id": "76007c20",
   "metadata": {},
   "outputs": [
    {
     "name": "stdout",
     "output_type": "stream",
     "text": [
      "<class 'pandas.core.frame.DataFrame'>\n",
      "Index: 6500 entries, 0 to 6499\n",
      "Data columns (total 12 columns):\n",
      " #   Column             Non-Null Count  Dtype         \n",
      "---  ------             --------------  -----         \n",
      " 0   user_id            6500 non-null   int64         \n",
      " 1   distance           6500 non-null   float64       \n",
      " 2   duration           6500 non-null   float64       \n",
      " 3   date               6500 non-null   datetime64[ns]\n",
      " 4   month              6500 non-null   int32         \n",
      " 5   name               6500 non-null   object        \n",
      " 6   age                6500 non-null   int64         \n",
      " 7   city               6500 non-null   object        \n",
      " 8   subscription_type  6500 non-null   object        \n",
      " 9   minute_price       6500 non-null   int64         \n",
      " 10  start_ride_price   6500 non-null   int64         \n",
      " 11  subscription_fee   6500 non-null   int64         \n",
      "dtypes: datetime64[ns](1), float64(2), int32(1), int64(5), object(3)\n",
      "memory usage: 634.8+ KB\n"
     ]
    }
   ],
   "source": [
    "ultra_users.info()"
   ]
  },
  {
   "cell_type": "code",
   "execution_count": 43,
   "id": "93b6e995",
   "metadata": {},
   "outputs": [
    {
     "name": "stdout",
     "output_type": "stream",
     "text": [
      "<class 'pandas.core.frame.DataFrame'>\n",
      "Index: 11568 entries, 6500 to 18067\n",
      "Data columns (total 12 columns):\n",
      " #   Column             Non-Null Count  Dtype         \n",
      "---  ------             --------------  -----         \n",
      " 0   user_id            11568 non-null  int64         \n",
      " 1   distance           11568 non-null  float64       \n",
      " 2   duration           11568 non-null  float64       \n",
      " 3   date               11568 non-null  datetime64[ns]\n",
      " 4   month              11568 non-null  int32         \n",
      " 5   name               11568 non-null  object        \n",
      " 6   age                11568 non-null  int64         \n",
      " 7   city               11568 non-null  object        \n",
      " 8   subscription_type  11568 non-null  object        \n",
      " 9   minute_price       11568 non-null  int64         \n",
      " 10  start_ride_price   11568 non-null  int64         \n",
      " 11  subscription_fee   11568 non-null  int64         \n",
      "dtypes: datetime64[ns](1), float64(2), int32(1), int64(5), object(3)\n",
      "memory usage: 1.1+ MB\n"
     ]
    }
   ],
   "source": [
    "free_users.info()"
   ]
  },
  {
   "cell_type": "markdown",
   "id": "411893a1",
   "metadata": {},
   "source": [
    "Теперь изучим информацию о расстоянии и времени поездок для пользователей обеих категорий."
   ]
  },
  {
   "cell_type": "code",
   "execution_count": 44,
   "id": "d7678cce",
   "metadata": {},
   "outputs": [
    {
     "data": {
      "image/png": "[encoded data removed]",
      "text/plain": [
       "<Figure size 640x480 with 1 Axes>"
      ]
     },
     "metadata": {},
     "output_type": "display_data"
    }
   ],
   "source": [
    "# построим гистограмму по данным о расстоянии поездок пользователей с подпиской\n",
    "ultra_users['distance'].hist(bins=20, label = 'ultra', alpha=0.5)    \n",
    "    \n",
    "# построим гистограмму по данным о расстоянии поездок пользователей без подписки\n",
    "free_users['distance'].hist(bins=20, label = 'free', alpha=0.5)    \n",
    "\n",
    "plt.title('Распределение параметра \"Расстояние\" для пользователей с подпиской и без')\n",
    "plt.xlabel('Расстояние, м')\n",
    "plt.ylabel('Количество поездок')\n",
    "plt.legend()\n",
    "plt.show()\n",
    "    "
   ]
  },
  {
   "cell_type": "code",
   "execution_count": 45,
   "id": "784bfc8c",
   "metadata": {},
   "outputs": [
    {
     "data": {
      "text/plain": [
       "count    6500.000000\n",
       "mean     3115.445388\n",
       "std       836.895330\n",
       "min       244.210438\n",
       "25%      2785.444017\n",
       "50%      3148.637229\n",
       "75%      3560.574425\n",
       "max      5699.769662\n",
       "Name: distance, dtype: float64"
      ]
     },
     "execution_count": 45,
     "metadata": {},
     "output_type": "execute_result"
    }
   ],
   "source": [
    "ultra_users['distance'].describe() # выведем на экран основные характеристики распредления дальности поездок \n",
    "# пользователей с подпиской"
   ]
  },
  {
   "cell_type": "code",
   "execution_count": 46,
   "id": "7f5b4afe",
   "metadata": {},
   "outputs": [
    {
     "data": {
      "text/plain": [
       "count    11568.000000\n",
       "mean      3045.495282\n",
       "std       1246.173806\n",
       "min          0.855683\n",
       "25%       2366.562689\n",
       "50%       3114.648465\n",
       "75%       3905.697894\n",
       "max       7211.007745\n",
       "Name: distance, dtype: float64"
      ]
     },
     "execution_count": 46,
     "metadata": {},
     "output_type": "execute_result"
    }
   ],
   "source": [
    "free_users['distance'].describe() # выведем на экран основные характеристики распредления дальности поездок \n",
    "# пользователей без подписки"
   ]
  },
  {
   "cell_type": "markdown",
   "id": "e73fa2ae",
   "metadata": {},
   "source": [
    "Стандартная дальность поездки для обеих групп примерно одинакова - 3 километра. Аномально короткие и длинные поездки чаще встречаются у пользователей, не имеющих подписку. Разброс данных во второй таблице вдвое больше."
   ]
  },
  {
   "cell_type": "code",
   "execution_count": 47,
   "id": "dc9e5775",
   "metadata": {},
   "outputs": [
    {
     "data": {
      "image/png": "[encoded data removed]",
      "text/plain": [
       "<Figure size 640x480 with 1 Axes>"
      ]
     },
     "metadata": {},
     "output_type": "display_data"
    }
   ],
   "source": [
    "# построим гистограмму по данным о длительности поездок пользователей с подпиской\n",
    "ultra_users['duration'].hist(bins=20, label = 'ultra', alpha=0.5)    \n",
    "    \n",
    "# # построим гистограмму по данным о длительности поездок пользователей без подписки\n",
    "free_users['duration'].hist(bins=20, label = 'free', alpha=0.5)    \n",
    "\n",
    "plt.xlabel('Длительность')\n",
    "plt.ylabel('Количество поездок')\n",
    "plt.title('Распределение параметра \"Длительность\" для поездок пользователей с подпиской и без')\n",
    "plt.legend()\n",
    "plt.show()"
   ]
  },
  {
   "cell_type": "code",
   "execution_count": 48,
   "id": "c196d68d",
   "metadata": {},
   "outputs": [
    {
     "data": {
      "text/plain": [
       "count    6500.000000\n",
       "mean       18.541985\n",
       "std         5.572048\n",
       "min         3.760353\n",
       "25%        14.524654\n",
       "50%        18.178153\n",
       "75%        21.884129\n",
       "max        40.823963\n",
       "Name: duration, dtype: float64"
      ]
     },
     "execution_count": 48,
     "metadata": {},
     "output_type": "execute_result"
    }
   ],
   "source": [
    "ultra_users['duration'].describe() # выведем на экран основные характеристики распредления дальности поездок \n",
    "# пользователей с подпиской"
   ]
  },
  {
   "cell_type": "code",
   "execution_count": 49,
   "id": "c19025a3",
   "metadata": {},
   "outputs": [
    {
     "data": {
      "text/plain": [
       "count    11568.000000\n",
       "mean        17.390909\n",
       "std          6.326803\n",
       "min          0.500000\n",
       "25%         12.958437\n",
       "50%         17.326890\n",
       "75%         21.594071\n",
       "max         34.948498\n",
       "Name: duration, dtype: float64"
      ]
     },
     "execution_count": 49,
     "metadata": {},
     "output_type": "execute_result"
    }
   ],
   "source": [
    "free_users['duration'].describe() # выведем на экран основные характеристики распредления дальности поездок \n",
    "# пользователей без подписки"
   ]
  },
  {
   "cell_type": "markdown",
   "id": "21720459",
   "metadata": {},
   "source": [
    "Среднее время поездок для обеих групп примерно одинаково и составляет около 17-18 минут. В целом, длительность поездок для разных групп пользователей выглядит довольно схожей, кроме наличия у группы пользователей без подписки аномально коротких поездок меньше минуты. "
   ]
  },
  {
   "cell_type": "markdown",
   "id": "bcb52ee5",
   "metadata": {},
   "source": [
    "**Вывод:**\n",
    "\n",
    "Для дальнейшего анализа, путем двухэтапного преобразования, из исходных данных мы получили два новых массива: с информацией о поездках пользователей, имеющих подписку, и с информацией о поездках пользователей, использующих сервис без нее. Первый датафрейм получился практически вдвое меньше, чем второй.\n",
    "\n",
    "Проанализировав данные о дальности и длительности поездок пользователей разных групп, мы пришли к выводу, что в данных о поездках пользователей без подписок больше аномальных значений. Так, для этой группы характерны аномально короткие и длинные поездки. А также непродолжительные поездки меньше минуты.  "
   ]
  },
  {
   "cell_type": "markdown",
   "id": "402d620f",
   "metadata": {},
   "source": [
    "# 5. Подсчёт выручки"
   ]
  },
  {
   "cell_type": "markdown",
   "id": "ecfe8e82",
   "metadata": {},
   "source": [
    "Посчитаем стоимость каждой поездки и внесем полученное значение в новый столбец общего массива данных обо всех поездках **total_go**. "
   ]
  },
  {
   "cell_type": "code",
   "execution_count": 50,
   "id": "0e548741",
   "metadata": {},
   "outputs": [],
   "source": [
    "# для начала округлим значения в столбце с длительностью поездки \n",
    "total_go['duration'] = np.ceil(total_go['duration']) "
   ]
  },
  {
   "cell_type": "markdown",
   "id": "84d363e3",
   "metadata": {},
   "source": [
    "Теперь сгруппируем данные по месяцам и рассчитаем суммарные дистанцию, время и количество поездок."
   ]
  },
  {
   "cell_type": "code",
   "execution_count": 51,
   "id": "5e8a2f48",
   "metadata": {},
   "outputs": [
    {
     "data": {
      "text/html": [
       "<div>\n",
       "<style scoped>\n",
       "    .dataframe tbody tr th:only-of-type {\n",
       "        vertical-align: middle;\n",
       "    }\n",
       "\n",
       "    .dataframe tbody tr th {\n",
       "        vertical-align: top;\n",
       "    }\n",
       "\n",
       "    .dataframe thead th {\n",
       "        text-align: right;\n",
       "    }\n",
       "</style>\n",
       "<table border=\"1\" class=\"dataframe\">\n",
       "  <thead>\n",
       "    <tr style=\"text-align: right;\">\n",
       "      <th></th>\n",
       "      <th></th>\n",
       "      <th>distance</th>\n",
       "      <th>duration</th>\n",
       "      <th>name</th>\n",
       "    </tr>\n",
       "    <tr>\n",
       "      <th>user_id</th>\n",
       "      <th>month</th>\n",
       "      <th></th>\n",
       "      <th></th>\n",
       "      <th></th>\n",
       "    </tr>\n",
       "  </thead>\n",
       "  <tbody>\n",
       "    <tr>\n",
       "      <th rowspan=\"5\" valign=\"top\">1</th>\n",
       "      <th>1</th>\n",
       "      <td>7027.511294</td>\n",
       "      <td>42.0</td>\n",
       "      <td>2</td>\n",
       "    </tr>\n",
       "    <tr>\n",
       "      <th>4</th>\n",
       "      <td>754.159807</td>\n",
       "      <td>7.0</td>\n",
       "      <td>1</td>\n",
       "    </tr>\n",
       "    <tr>\n",
       "      <th>8</th>\n",
       "      <td>6723.470560</td>\n",
       "      <td>46.0</td>\n",
       "      <td>2</td>\n",
       "    </tr>\n",
       "    <tr>\n",
       "      <th>10</th>\n",
       "      <td>5809.911100</td>\n",
       "      <td>32.0</td>\n",
       "      <td>2</td>\n",
       "    </tr>\n",
       "    <tr>\n",
       "      <th>11</th>\n",
       "      <td>7003.499363</td>\n",
       "      <td>56.0</td>\n",
       "      <td>3</td>\n",
       "    </tr>\n",
       "  </tbody>\n",
       "</table>\n",
       "</div>"
      ],
      "text/plain": [
       "                  distance  duration  name\n",
       "user_id month                             \n",
       "1       1      7027.511294      42.0     2\n",
       "        4       754.159807       7.0     1\n",
       "        8      6723.470560      46.0     2\n",
       "        10     5809.911100      32.0     2\n",
       "        11     7003.499363      56.0     3"
      ]
     },
     "execution_count": 51,
     "metadata": {},
     "output_type": "execute_result"
    }
   ],
   "source": [
    "total_monthly = total_go.groupby(['user_id', 'month']).\\\n",
    "agg({'distance': 'sum', 'duration': 'sum', 'name':'count'})\n",
    "total_monthly.head()"
   ]
  },
  {
   "cell_type": "markdown",
   "id": "a16a22f9",
   "metadata": {},
   "source": [
    "В коде выше мы считали количество поездок в месяц для каждого пользователя, считая, сколько раз встречается его имя в отфильтрованных строчках. Переименуем колонку с названием **name** на **quantuty** (с англ. \"количество\")."
   ]
  },
  {
   "cell_type": "code",
   "execution_count": 52,
   "id": "729b4a9d",
   "metadata": {},
   "outputs": [
    {
     "data": {
      "text/html": [
       "<div>\n",
       "<style scoped>\n",
       "    .dataframe tbody tr th:only-of-type {\n",
       "        vertical-align: middle;\n",
       "    }\n",
       "\n",
       "    .dataframe tbody tr th {\n",
       "        vertical-align: top;\n",
       "    }\n",
       "\n",
       "    .dataframe thead th {\n",
       "        text-align: right;\n",
       "    }\n",
       "</style>\n",
       "<table border=\"1\" class=\"dataframe\">\n",
       "  <thead>\n",
       "    <tr style=\"text-align: right;\">\n",
       "      <th></th>\n",
       "      <th></th>\n",
       "      <th>distance</th>\n",
       "      <th>duration</th>\n",
       "      <th>quantity</th>\n",
       "    </tr>\n",
       "    <tr>\n",
       "      <th>user_id</th>\n",
       "      <th>month</th>\n",
       "      <th></th>\n",
       "      <th></th>\n",
       "      <th></th>\n",
       "    </tr>\n",
       "  </thead>\n",
       "  <tbody>\n",
       "    <tr>\n",
       "      <th rowspan=\"5\" valign=\"top\">1</th>\n",
       "      <th>1</th>\n",
       "      <td>7027.511294</td>\n",
       "      <td>42.0</td>\n",
       "      <td>2</td>\n",
       "    </tr>\n",
       "    <tr>\n",
       "      <th>4</th>\n",
       "      <td>754.159807</td>\n",
       "      <td>7.0</td>\n",
       "      <td>1</td>\n",
       "    </tr>\n",
       "    <tr>\n",
       "      <th>8</th>\n",
       "      <td>6723.470560</td>\n",
       "      <td>46.0</td>\n",
       "      <td>2</td>\n",
       "    </tr>\n",
       "    <tr>\n",
       "      <th>10</th>\n",
       "      <td>5809.911100</td>\n",
       "      <td>32.0</td>\n",
       "      <td>2</td>\n",
       "    </tr>\n",
       "    <tr>\n",
       "      <th>11</th>\n",
       "      <td>7003.499363</td>\n",
       "      <td>56.0</td>\n",
       "      <td>3</td>\n",
       "    </tr>\n",
       "  </tbody>\n",
       "</table>\n",
       "</div>"
      ],
      "text/plain": [
       "                  distance  duration  quantity\n",
       "user_id month                                 \n",
       "1       1      7027.511294      42.0         2\n",
       "        4       754.159807       7.0         1\n",
       "        8      6723.470560      46.0         2\n",
       "        10     5809.911100      32.0         2\n",
       "        11     7003.499363      56.0         3"
      ]
     },
     "execution_count": 52,
     "metadata": {},
     "output_type": "execute_result"
    }
   ],
   "source": [
    "total_monthly = total_monthly.rename(columns={'name':'quantity'}) \n",
    "total_monthly.head()"
   ]
  },
  {
   "cell_type": "code",
   "execution_count": 53,
   "id": "1742fd1e",
   "metadata": {},
   "outputs": [],
   "source": [
    "total_monthly = total_monthly.reset_index() # изменим индексы в сводной таблице, чтобы работать с user_id\n",
    "# как со столбцом"
   ]
  },
  {
   "cell_type": "markdown",
   "id": "75a8f3bf",
   "metadata": {},
   "source": [
    "Добавим в таблицу с месячными показателями для каждого пользователя информацию о стоимости старта поездки, стоимости минуты пользования и стоимости подписки. "
   ]
  },
  {
   "cell_type": "code",
   "execution_count": 54,
   "id": "38136c18",
   "metadata": {
    "scrolled": true
   },
   "outputs": [
    {
     "data": {
      "text/html": [
       "<div>\n",
       "<style scoped>\n",
       "    .dataframe tbody tr th:only-of-type {\n",
       "        vertical-align: middle;\n",
       "    }\n",
       "\n",
       "    .dataframe tbody tr th {\n",
       "        vertical-align: top;\n",
       "    }\n",
       "\n",
       "    .dataframe thead th {\n",
       "        text-align: right;\n",
       "    }\n",
       "</style>\n",
       "<table border=\"1\" class=\"dataframe\">\n",
       "  <thead>\n",
       "    <tr style=\"text-align: right;\">\n",
       "      <th></th>\n",
       "      <th>user_id</th>\n",
       "      <th>month</th>\n",
       "      <th>distance</th>\n",
       "      <th>duration</th>\n",
       "      <th>quantity</th>\n",
       "      <th>start_ride_price</th>\n",
       "      <th>minute_price</th>\n",
       "      <th>subscription_fee</th>\n",
       "    </tr>\n",
       "  </thead>\n",
       "  <tbody>\n",
       "    <tr>\n",
       "      <th>0</th>\n",
       "      <td>1</td>\n",
       "      <td>1</td>\n",
       "      <td>7027.511294</td>\n",
       "      <td>42.0</td>\n",
       "      <td>2</td>\n",
       "      <td>0</td>\n",
       "      <td>6</td>\n",
       "      <td>199</td>\n",
       "    </tr>\n",
       "    <tr>\n",
       "      <th>1</th>\n",
       "      <td>1</td>\n",
       "      <td>4</td>\n",
       "      <td>754.159807</td>\n",
       "      <td>7.0</td>\n",
       "      <td>1</td>\n",
       "      <td>0</td>\n",
       "      <td>6</td>\n",
       "      <td>199</td>\n",
       "    </tr>\n",
       "    <tr>\n",
       "      <th>2</th>\n",
       "      <td>1</td>\n",
       "      <td>8</td>\n",
       "      <td>6723.470560</td>\n",
       "      <td>46.0</td>\n",
       "      <td>2</td>\n",
       "      <td>0</td>\n",
       "      <td>6</td>\n",
       "      <td>199</td>\n",
       "    </tr>\n",
       "    <tr>\n",
       "      <th>3</th>\n",
       "      <td>1</td>\n",
       "      <td>10</td>\n",
       "      <td>5809.911100</td>\n",
       "      <td>32.0</td>\n",
       "      <td>2</td>\n",
       "      <td>0</td>\n",
       "      <td>6</td>\n",
       "      <td>199</td>\n",
       "    </tr>\n",
       "    <tr>\n",
       "      <th>4</th>\n",
       "      <td>1</td>\n",
       "      <td>11</td>\n",
       "      <td>7003.499363</td>\n",
       "      <td>56.0</td>\n",
       "      <td>3</td>\n",
       "      <td>0</td>\n",
       "      <td>6</td>\n",
       "      <td>199</td>\n",
       "    </tr>\n",
       "  </tbody>\n",
       "</table>\n",
       "</div>"
      ],
      "text/plain": [
       "   user_id  month     distance  duration  quantity  start_ride_price  \\\n",
       "0        1      1  7027.511294      42.0         2                 0   \n",
       "1        1      4   754.159807       7.0         1                 0   \n",
       "2        1      8  6723.470560      46.0         2                 0   \n",
       "3        1     10  5809.911100      32.0         2                 0   \n",
       "4        1     11  7003.499363      56.0         3                 0   \n",
       "\n",
       "   minute_price  subscription_fee  \n",
       "0             6               199  \n",
       "1             6               199  \n",
       "2             6               199  \n",
       "3             6               199  \n",
       "4             6               199  "
      ]
     },
     "execution_count": 54,
     "metadata": {},
     "output_type": "execute_result"
    }
   ],
   "source": [
    "total_monthly = pd.merge(total_monthly, total_go[['user_id', 'start_ride_price', 'minute_price', 'subscription_fee']].\\\n",
    "drop_duplicates(), on=['user_id'], how='left')\n",
    "total_monthly.head()"
   ]
  },
  {
   "cell_type": "markdown",
   "id": "bcbfc44f",
   "metadata": {},
   "source": [
    "Посчитаем месячную выручку для каждого пользователя и запишем ее в новый столбец:"
   ]
  },
  {
   "cell_type": "code",
   "execution_count": 55,
   "id": "18545757",
   "metadata": {},
   "outputs": [
    {
     "data": {
      "text/html": [
       "<div>\n",
       "<style scoped>\n",
       "    .dataframe tbody tr th:only-of-type {\n",
       "        vertical-align: middle;\n",
       "    }\n",
       "\n",
       "    .dataframe tbody tr th {\n",
       "        vertical-align: top;\n",
       "    }\n",
       "\n",
       "    .dataframe thead th {\n",
       "        text-align: right;\n",
       "    }\n",
       "</style>\n",
       "<table border=\"1\" class=\"dataframe\">\n",
       "  <thead>\n",
       "    <tr style=\"text-align: right;\">\n",
       "      <th></th>\n",
       "      <th>user_id</th>\n",
       "      <th>month</th>\n",
       "      <th>distance</th>\n",
       "      <th>duration</th>\n",
       "      <th>quantity</th>\n",
       "      <th>start_ride_price</th>\n",
       "      <th>minute_price</th>\n",
       "      <th>subscription_fee</th>\n",
       "      <th>revenue</th>\n",
       "    </tr>\n",
       "  </thead>\n",
       "  <tbody>\n",
       "    <tr>\n",
       "      <th>0</th>\n",
       "      <td>1</td>\n",
       "      <td>1</td>\n",
       "      <td>7027.511294</td>\n",
       "      <td>42.0</td>\n",
       "      <td>2</td>\n",
       "      <td>0</td>\n",
       "      <td>6</td>\n",
       "      <td>199</td>\n",
       "      <td>451.0</td>\n",
       "    </tr>\n",
       "    <tr>\n",
       "      <th>1</th>\n",
       "      <td>1</td>\n",
       "      <td>4</td>\n",
       "      <td>754.159807</td>\n",
       "      <td>7.0</td>\n",
       "      <td>1</td>\n",
       "      <td>0</td>\n",
       "      <td>6</td>\n",
       "      <td>199</td>\n",
       "      <td>241.0</td>\n",
       "    </tr>\n",
       "    <tr>\n",
       "      <th>2</th>\n",
       "      <td>1</td>\n",
       "      <td>8</td>\n",
       "      <td>6723.470560</td>\n",
       "      <td>46.0</td>\n",
       "      <td>2</td>\n",
       "      <td>0</td>\n",
       "      <td>6</td>\n",
       "      <td>199</td>\n",
       "      <td>475.0</td>\n",
       "    </tr>\n",
       "    <tr>\n",
       "      <th>3</th>\n",
       "      <td>1</td>\n",
       "      <td>10</td>\n",
       "      <td>5809.911100</td>\n",
       "      <td>32.0</td>\n",
       "      <td>2</td>\n",
       "      <td>0</td>\n",
       "      <td>6</td>\n",
       "      <td>199</td>\n",
       "      <td>391.0</td>\n",
       "    </tr>\n",
       "    <tr>\n",
       "      <th>4</th>\n",
       "      <td>1</td>\n",
       "      <td>11</td>\n",
       "      <td>7003.499363</td>\n",
       "      <td>56.0</td>\n",
       "      <td>3</td>\n",
       "      <td>0</td>\n",
       "      <td>6</td>\n",
       "      <td>199</td>\n",
       "      <td>535.0</td>\n",
       "    </tr>\n",
       "  </tbody>\n",
       "</table>\n",
       "</div>"
      ],
      "text/plain": [
       "   user_id  month     distance  duration  quantity  start_ride_price  \\\n",
       "0        1      1  7027.511294      42.0         2                 0   \n",
       "1        1      4   754.159807       7.0         1                 0   \n",
       "2        1      8  6723.470560      46.0         2                 0   \n",
       "3        1     10  5809.911100      32.0         2                 0   \n",
       "4        1     11  7003.499363      56.0         3                 0   \n",
       "\n",
       "   minute_price  subscription_fee  revenue  \n",
       "0             6               199    451.0  \n",
       "1             6               199    241.0  \n",
       "2             6               199    475.0  \n",
       "3             6               199    391.0  \n",
       "4             6               199    535.0  "
      ]
     },
     "execution_count": 55,
     "metadata": {},
     "output_type": "execute_result"
    }
   ],
   "source": [
    "total_monthly['revenue'] = (total_monthly['start_ride_price']*total_monthly['quantity']+\n",
    "                            total_monthly['minute_price']*total_monthly['duration']+\n",
    "                           total_monthly['subscription_fee'])\n",
    "total_monthly.head()"
   ]
  },
  {
   "cell_type": "markdown",
   "id": "ac8dd9fd",
   "metadata": {},
   "source": [
    "**Вывод:**\n",
    "\n",
    "По итогам выполнения Шага 5, мы сформировали сводную таблицу с данными о месячной выручке, принесенной каждым пользователем. Она будет использована при проверке гипотез, которые могут помочь бизнесу вырасти."
   ]
  },
  {
   "cell_type": "markdown",
   "id": "41545ac0",
   "metadata": {},
   "source": [
    "# 6. Проверка гипотез"
   ]
  },
  {
   "cell_type": "markdown",
   "id": "07455120",
   "metadata": {},
   "source": [
    "##### 6.1 Время поездок пользователей с подпиской и без"
   ]
  },
  {
   "cell_type": "markdown",
   "id": "5a0e6459",
   "metadata": {},
   "source": [
    "Проверим, тратят ли пользователи с подпиской больше времени на поездки, чем пользователи без нее. Нулевой гипотезой в данном случае может выступать утверждение: время поездки пользователя с подпиской (t1) = времени поездки пользователя без подписки (t2). Альтернативная гипотеза: t1**>**t2."
   ]
  },
  {
   "cell_type": "markdown",
   "id": "558f2a28",
   "metadata": {},
   "source": [
    "Используем *ttest* для проверки односторонней гипотезы о равенстве средних двух генеральных совокупностей, обозначив дополнительный параметр *alternative* - альтернативную гипотезу."
   ]
  },
  {
   "cell_type": "code",
   "execution_count": 56,
   "id": "4633418e",
   "metadata": {},
   "outputs": [],
   "source": [
    "results_1 = st.ttest_ind(ultra_users['duration'], free_users['duration'], alternative='greater')"
   ]
  },
  {
   "cell_type": "markdown",
   "id": "a7811f03",
   "metadata": {},
   "source": [
    "Посчитаем вероятность того, что среднее время в пути пользователя с подпиской будет равно среднему времени в пути пользователя без подписки:"
   ]
  },
  {
   "cell_type": "code",
   "execution_count": 57,
   "id": "38458ca7",
   "metadata": {
    "scrolled": false
   },
   "outputs": [
    {
     "data": {
      "text/plain": [
       "1.2804098316645618e-34"
      ]
     },
     "execution_count": 57,
     "metadata": {},
     "output_type": "execute_result"
    }
   ],
   "source": [
    "results_1.pvalue"
   ]
  },
  {
   "cell_type": "markdown",
   "id": "73aef377",
   "metadata": {},
   "source": [
    "Сравним ее со статистической значимостью равной 0.05:"
   ]
  },
  {
   "cell_type": "code",
   "execution_count": 58,
   "id": "e0ea1326",
   "metadata": {},
   "outputs": [
    {
     "data": {
      "text/plain": [
       "True"
      ]
     },
     "execution_count": 58,
     "metadata": {},
     "output_type": "execute_result"
    }
   ],
   "source": [
    "results_1.pvalue<0.5"
   ]
  },
  {
   "cell_type": "markdown",
   "id": "57e1eff5",
   "metadata": {},
   "source": [
    "Вероятность такого события меньше статистически значимой. Значит нулевую гипотезу мы отвергаем: среднее время поездки пользователя с подпиской действительно больше среднего времени поездки пользователя без подписки."
   ]
  },
  {
   "cell_type": "markdown",
   "id": "4c6ee6ab",
   "metadata": {},
   "source": [
    "##### 6.2 Расстояние, преодолеваемое пользователями с подпиской"
   ]
  },
  {
   "cell_type": "markdown",
   "id": "88670cbc",
   "metadata": {},
   "source": [
    "Расстояние одной поездки в 3130 метров — оптимальное с точки зрения износа самоката. Проверим, можно ли сказать, что среднее расстояние, которое проезжают пользователи с подпиской за одну поездку, не превышает 3130 метров. \n",
    "\n",
    "Нулевой гипотезой в данном случае выступит утверждение: среднее расстояние, преодолеваемое пользователями с подпиской за одну поездку (S) = 3130 метров. Альтернативная гипотеза: S>3130."
   ]
  },
  {
   "cell_type": "markdown",
   "id": "031781a6",
   "metadata": {},
   "source": [
    "Используем *ttest* для проверки односторонней гипотезы о равенстве  заданного значения среднему расстоянию преодолеваемому пользователем с подпиской за одну поездку."
   ]
  },
  {
   "cell_type": "code",
   "execution_count": 59,
   "id": "3fb64e85",
   "metadata": {},
   "outputs": [],
   "source": [
    "max_distance = 3130\n",
    "results_2 = results = st.ttest_1samp(ultra_users['distance'], max_distance, alternative='greater')"
   ]
  },
  {
   "cell_type": "markdown",
   "id": "bd9132d4",
   "metadata": {},
   "source": [
    "Посчитаем вероятность того, что среднее расстояние преодолеваемое пользователем с подпиской за одну поездку равно 3130 метрам:"
   ]
  },
  {
   "cell_type": "code",
   "execution_count": 60,
   "id": "5d8586db",
   "metadata": {
    "scrolled": true
   },
   "outputs": [
    {
     "data": {
      "text/plain": [
       "0.9195368847849785"
      ]
     },
     "execution_count": 60,
     "metadata": {},
     "output_type": "execute_result"
    }
   ],
   "source": [
    "results_2.pvalue"
   ]
  },
  {
   "cell_type": "markdown",
   "id": "0c65ee78",
   "metadata": {},
   "source": [
    "Cравним ее со статистической значимостью равной 0.05:"
   ]
  },
  {
   "cell_type": "code",
   "execution_count": 61,
   "id": "89c9d78f",
   "metadata": {
    "scrolled": true
   },
   "outputs": [
    {
     "data": {
      "text/plain": [
       "False"
      ]
     },
     "execution_count": 61,
     "metadata": {},
     "output_type": "execute_result"
    }
   ],
   "source": [
    "results_2.pvalue<0.05"
   ]
  },
  {
   "cell_type": "markdown",
   "id": "c8b8c06f",
   "metadata": {},
   "source": [
    "Значение p-value больше 0,05. Нулевая гипотеза не опровергнута.\n",
    "Среднее расстояние, которое проезжают пользователи с подпиской за одну поездку, статистически не превышает 3130 метров. "
   ]
  },
  {
   "cell_type": "markdown",
   "id": "f45de1ac",
   "metadata": {},
   "source": [
    "##### 6.3 Помесячная выручка от разных групп пользователей"
   ]
  },
  {
   "cell_type": "markdown",
   "id": "37ae7941",
   "metadata": {},
   "source": [
    "Проверим, будет ли помесячная выручка от пользователей с подпиской по месяцам выше, чем выручка от пользователей без подписки. Нулевая гипотеза в данном случае может быть сформулирована так: выручка от пользователей с подпиской равна выручке от пользователей без нее. Альтернативная гипотеза: месячная выручка от пользователей с подпиской выше месячной выручки от пользоватлей без подписки."
   ]
  },
  {
   "cell_type": "markdown",
   "id": "882647eb",
   "metadata": {},
   "source": [
    "Проверить нулевую гипотезу мы можем используя знакомый *ttest* для проверки односторонней гипотезы о равенстве средних двух генеральных совокупностей. Обозначим наши генеральные совокупности, отфильтровав данные таблицы **total_monthly** по стоимости подписки и выбрав столбец с помесячной выручкой. "
   ]
  },
  {
   "cell_type": "code",
   "execution_count": 62,
   "id": "640546c3",
   "metadata": {},
   "outputs": [],
   "source": [
    "# задаем генеральную совокупность с данными о помесячной выручке от пользователей с подпиской\n",
    "gen_ultra = total_monthly.loc[total_monthly['subscription_fee']==199, 'revenue']\n",
    "\n",
    "# задаем генеральную совокупность с данными о помесячной выручке от пользователей без подписки\n",
    "gen_free = total_monthly.loc[total_monthly['subscription_fee']==0, 'revenue']"
   ]
  },
  {
   "cell_type": "code",
   "execution_count": 63,
   "id": "3f8212fe",
   "metadata": {},
   "outputs": [],
   "source": [
    "# используем ttest\n",
    "results_3 = st.ttest_ind(gen_ultra, gen_free, alternative='greater')"
   ]
  },
  {
   "cell_type": "markdown",
   "id": "b9c6ccf1",
   "metadata": {},
   "source": [
    "Посчитаем вероятность того, что средняя помесячная выручка от пользователей с подпиской равна средней помесячной выручке от пользователей без подписки:"
   ]
  },
  {
   "cell_type": "code",
   "execution_count": 64,
   "id": "e0ed7b76",
   "metadata": {},
   "outputs": [
    {
     "data": {
      "text/plain": [
       "1.8850394384715216e-31"
      ]
     },
     "execution_count": 64,
     "metadata": {},
     "output_type": "execute_result"
    }
   ],
   "source": [
    "results_3.pvalue"
   ]
  },
  {
   "cell_type": "markdown",
   "id": "15776ac6",
   "metadata": {},
   "source": [
    "И сравним ее со статистической значимостью равной 0.05:"
   ]
  },
  {
   "cell_type": "code",
   "execution_count": 65,
   "id": "981e0293",
   "metadata": {},
   "outputs": [
    {
     "data": {
      "text/plain": [
       "True"
      ]
     },
     "execution_count": 65,
     "metadata": {},
     "output_type": "execute_result"
    }
   ],
   "source": [
    "results_3.pvalue<0.05"
   ]
  },
  {
   "cell_type": "markdown",
   "id": "ad9fa79d",
   "metadata": {},
   "source": [
    "Вероятность такого события меньше статистически значимой. Нулевая гипотеза не подтвердилась. Средняя помесячная выручка от пользователей с подпиской выше, чем от пользователей без подписки. "
   ]
  },
  {
   "cell_type": "markdown",
   "id": "fc7e3474",
   "metadata": {},
   "source": [
    "**Вывод:**\n",
    "\n",
    "Проверка гипотез показала, что вероятнее всего среднее время поездки пользователя с подпиской действительно больше среднего времени поездки пользователя без подписки. Среднее расстояние, которое проезжают пользователи с подпиской за одну поездку, не превышает 3130 метров, а значит этот вид пользователей больше склонен совершать поездки оптимальные для износа самоката. Средняя помесячная выручка от пользователей с подпиской также выше, чем от пользователей без подписки. \n",
    "\n",
    "Таким образом, пользователи с подпиской действительно \"выгоднее\" для сервиса."
   ]
  },
  {
   "cell_type": "markdown",
   "id": "61213c5e",
   "metadata": {},
   "source": [
    "# 7. Общий вывод"
   ]
  },
  {
   "cell_type": "markdown",
   "id": "28d31304",
   "metadata": {},
   "source": [
    "В ходе исследования мы работали с данными, предоставленными популярным сервисом аренды самокатов GoFast. Анализу была подвергнута информация о некоторых пользователях из нескольких городов, а также об их поездках.\n",
    "\n",
    "По результатам предобработки исходных данных были выявлены следующие проблемы:\n",
    " 1. некорректный тип данных в таблице с информацией о поездках - был скорректирован на на формат *DateTime*;\n",
    " 2. явные дубликаты в таблице с данными о пользователях - были удалены, количество не превышало 2% от общего количества строк в указанной таблице.\n",
    " \n",
    "Наибольшее количество пользователей сервиса *GoFast* проживают в Пятигорске. Хуже всего сервис представлен в Москве.\n",
    "\n",
    "Больше половины пользователей сервиса пользуются им без оформления подписки. Наибольшей популярностью сервис пользуется популярностью у молодежи в возрасте от 22 до 28 лет. Средний возраст пользователя - 25 лет. \n",
    "\n",
    "Стандартное расстояние, преодолеваемое пользователем за одну сессию составляет около 3 километров. Данное расстояние является оптимальным для равномерного износа самоката. В то же время, достаточно много поездок дальностью 100 метров и меньше.  Возможными причинами таких заездов могут быть: сложность управления самокатом, неисправность транспорта, неинтуитивный интерфейс приложения, проблемы с функционалом сервиса.\n",
    "\n",
    "Длительность стандартной поездки на самокате сервиса *GoFast* составляет 18 минут. Более 80 поездок не продлились и 1 минуты. При этом пройденное расстояние для таких поездок может составлять несколько километров. Это может указывать на ошибки в данных, в расчетах времени поездки сервисом или на махинации пользователей. \n",
    "\n",
    "Проверка гипотез показала, что пользователи с подпиской \"выгоднее\" для сервиса. На данный момент их меньшинство. Для роста бизнеса необходимо проводить разнообразные акции для стимуляции приобретения подписки на сервис.\n",
    "\n",
    "Кроме того, о необходимости увеличения числа пользователей с подпиской, говорит наличие разнообразных аномалий в данных о поездках пользователей без подписки. Так, для пользователей без подписки наиболее характерны аномально короткие и длинные поездки. А также непродолжительные поездки меньше минуты. \n",
    "\n",
    "По итогам всего выше сказаного, помимо увеличения числа подписок, для улучшения работы сервиса (и, как следствие, для роста выручки), можно провести следующие мероприятия:\n",
    "- дополнительное исследование причин поездок на небольшие расстояния (до 100 метров);\n",
    "- проверка системы расчета времени поездки;\n",
    "- определение путей защиты приложения от мошенников, искусственно занижающих время поездки."
   ]
  }
 ],
 "metadata": {
  "ExecuteTimeLog": [
   {
    "duration": 413,
    "start_time": "2024-05-25T13:32:34.986Z"
   },
   {
    "duration": 195,
    "start_time": "2024-05-25T13:32:38.180Z"
   },
   {
    "duration": 15,
    "start_time": "2024-05-25T13:33:30.473Z"
   },
   {
    "duration": 9,
    "start_time": "2024-05-25T13:33:32.825Z"
   },
   {
    "duration": 7,
    "start_time": "2024-05-25T13:33:34.586Z"
   },
   {
    "duration": 16,
    "start_time": "2024-05-25T16:44:19.439Z"
   },
   {
    "duration": 6,
    "start_time": "2024-05-25T16:45:09.258Z"
   },
   {
    "duration": 2,
    "start_time": "2024-05-25T16:45:27.190Z"
   },
   {
    "duration": 64,
    "start_time": "2024-05-25T16:45:28.738Z"
   },
   {
    "duration": 8,
    "start_time": "2024-05-25T16:45:30.941Z"
   },
   {
    "duration": 7,
    "start_time": "2024-05-25T16:45:32.937Z"
   },
   {
    "duration": 6,
    "start_time": "2024-05-25T16:45:34.988Z"
   },
   {
    "duration": 403,
    "start_time": "2024-05-25T16:45:42.995Z"
   },
   {
    "duration": 64,
    "start_time": "2024-05-25T16:45:43.400Z"
   },
   {
    "duration": 15,
    "start_time": "2024-05-25T16:45:43.465Z"
   },
   {
    "duration": 8,
    "start_time": "2024-05-25T16:45:43.481Z"
   },
   {
    "duration": 8,
    "start_time": "2024-05-25T16:45:43.491Z"
   },
   {
    "duration": 6,
    "start_time": "2024-05-25T16:46:25.162Z"
   },
   {
    "duration": 64,
    "start_time": "2024-05-25T16:46:59.392Z"
   },
   {
    "duration": 8,
    "start_time": "2024-05-25T16:47:01.282Z"
   },
   {
    "duration": 11,
    "start_time": "2024-05-25T16:47:04.086Z"
   },
   {
    "duration": 6,
    "start_time": "2024-05-25T16:47:06.875Z"
   },
   {
    "duration": 7,
    "start_time": "2024-05-25T16:47:26.716Z"
   },
   {
    "duration": 10,
    "start_time": "2024-05-25T16:47:30.412Z"
   },
   {
    "duration": 10,
    "start_time": "2024-05-25T16:47:48.627Z"
   },
   {
    "duration": 8,
    "start_time": "2024-05-25T16:50:38.834Z"
   },
   {
    "duration": 9,
    "start_time": "2024-05-25T16:51:02.259Z"
   },
   {
    "duration": 6,
    "start_time": "2024-05-25T17:02:32.264Z"
   },
   {
    "duration": 6,
    "start_time": "2024-05-25T17:07:52.464Z"
   },
   {
    "duration": 8,
    "start_time": "2024-05-25T17:08:05.253Z"
   },
   {
    "duration": 10,
    "start_time": "2024-05-25T17:08:11.169Z"
   },
   {
    "duration": 8,
    "start_time": "2024-05-25T17:26:20.452Z"
   },
   {
    "duration": 9,
    "start_time": "2024-05-25T17:26:23.078Z"
   },
   {
    "duration": 6,
    "start_time": "2024-05-25T17:26:25.544Z"
   },
   {
    "duration": 35,
    "start_time": "2024-05-25T17:26:29.524Z"
   },
   {
    "duration": 10,
    "start_time": "2024-05-25T17:26:31.623Z"
   },
   {
    "duration": 2,
    "start_time": "2024-05-25T17:26:33.460Z"
   },
   {
    "duration": 11,
    "start_time": "2024-05-25T17:28:04.257Z"
   },
   {
    "duration": 6,
    "start_time": "2024-05-25T17:28:12.370Z"
   },
   {
    "duration": 6,
    "start_time": "2024-05-25T17:28:33.069Z"
   },
   {
    "duration": 6,
    "start_time": "2024-05-25T17:28:46.534Z"
   },
   {
    "duration": 6,
    "start_time": "2024-05-25T17:31:47.383Z"
   },
   {
    "duration": 7,
    "start_time": "2024-05-25T17:31:49.307Z"
   },
   {
    "duration": 8,
    "start_time": "2024-05-25T17:34:00.819Z"
   },
   {
    "duration": 11,
    "start_time": "2024-05-25T17:34:47.237Z"
   },
   {
    "duration": 6,
    "start_time": "2024-05-25T17:38:00.679Z"
   },
   {
    "duration": 6,
    "start_time": "2024-05-25T17:38:46.024Z"
   },
   {
    "duration": 387,
    "start_time": "2024-05-25T17:39:06.512Z"
   },
   {
    "duration": 64,
    "start_time": "2024-05-25T17:39:06.901Z"
   },
   {
    "duration": 13,
    "start_time": "2024-05-25T17:39:06.967Z"
   },
   {
    "duration": 9,
    "start_time": "2024-05-25T17:39:06.982Z"
   },
   {
    "duration": 8,
    "start_time": "2024-05-25T17:39:06.993Z"
   },
   {
    "duration": 13,
    "start_time": "2024-05-25T17:39:07.002Z"
   },
   {
    "duration": 6,
    "start_time": "2024-05-25T17:39:07.016Z"
   },
   {
    "duration": 8,
    "start_time": "2024-05-25T17:39:07.023Z"
   },
   {
    "duration": 10,
    "start_time": "2024-05-25T17:39:07.033Z"
   },
   {
    "duration": 6,
    "start_time": "2024-05-25T17:39:07.045Z"
   },
   {
    "duration": 7,
    "start_time": "2024-05-25T17:39:07.052Z"
   },
   {
    "duration": 5,
    "start_time": "2024-05-25T17:39:07.060Z"
   },
   {
    "duration": 8,
    "start_time": "2024-05-25T17:39:07.066Z"
   },
   {
    "duration": 38,
    "start_time": "2024-05-25T17:39:07.076Z"
   },
   {
    "duration": 63,
    "start_time": "2024-05-25T17:42:16.310Z"
   },
   {
    "duration": 5,
    "start_time": "2024-05-25T17:42:25.366Z"
   },
   {
    "duration": 71,
    "start_time": "2024-05-25T17:42:37.888Z"
   },
   {
    "duration": 8,
    "start_time": "2024-05-25T17:42:39.779Z"
   },
   {
    "duration": 9,
    "start_time": "2024-05-25T17:43:12.585Z"
   },
   {
    "duration": 4,
    "start_time": "2024-05-25T17:54:07.276Z"
   },
   {
    "duration": 4,
    "start_time": "2024-05-25T17:54:33.119Z"
   },
   {
    "duration": 6,
    "start_time": "2024-05-25T17:54:59.264Z"
   },
   {
    "duration": 4,
    "start_time": "2024-05-25T17:55:04.470Z"
   },
   {
    "duration": 4,
    "start_time": "2024-05-25T17:56:50.964Z"
   },
   {
    "duration": 6,
    "start_time": "2024-05-25T18:02:42.709Z"
   },
   {
    "duration": 5,
    "start_time": "2024-05-25T18:02:48.489Z"
   },
   {
    "duration": 4,
    "start_time": "2024-05-25T18:03:50.256Z"
   },
   {
    "duration": 2,
    "start_time": "2024-05-25T18:12:55.974Z"
   },
   {
    "duration": 7,
    "start_time": "2024-05-25T18:14:48.042Z"
   },
   {
    "duration": 325,
    "start_time": "2024-05-25T18:16:14.453Z"
   },
   {
    "duration": 79,
    "start_time": "2024-05-25T18:17:13.409Z"
   },
   {
    "duration": 352,
    "start_time": "2024-05-25T18:17:18.752Z"
   },
   {
    "duration": 224,
    "start_time": "2024-05-25T18:17:19.106Z"
   },
   {
    "duration": 65,
    "start_time": "2024-05-25T18:17:19.333Z"
   },
   {
    "duration": 12,
    "start_time": "2024-05-25T18:17:19.400Z"
   },
   {
    "duration": 10,
    "start_time": "2024-05-25T18:17:19.413Z"
   },
   {
    "duration": 11,
    "start_time": "2024-05-25T18:17:19.425Z"
   },
   {
    "duration": 9,
    "start_time": "2024-05-25T18:17:19.438Z"
   },
   {
    "duration": 6,
    "start_time": "2024-05-25T18:17:19.448Z"
   },
   {
    "duration": 10,
    "start_time": "2024-05-25T18:17:19.456Z"
   },
   {
    "duration": 10,
    "start_time": "2024-05-25T18:17:19.467Z"
   },
   {
    "duration": 38,
    "start_time": "2024-05-25T18:17:19.478Z"
   },
   {
    "duration": 8,
    "start_time": "2024-05-25T18:17:19.517Z"
   },
   {
    "duration": 6,
    "start_time": "2024-05-25T18:17:19.527Z"
   },
   {
    "duration": 14,
    "start_time": "2024-05-25T18:17:19.534Z"
   },
   {
    "duration": 6,
    "start_time": "2024-05-25T18:17:19.549Z"
   },
   {
    "duration": 7,
    "start_time": "2024-05-25T18:17:19.556Z"
   },
   {
    "duration": 5,
    "start_time": "2024-05-25T18:17:19.565Z"
   },
   {
    "duration": 10,
    "start_time": "2024-05-25T18:17:19.572Z"
   },
   {
    "duration": 29,
    "start_time": "2024-05-25T18:17:19.584Z"
   },
   {
    "duration": 7,
    "start_time": "2024-05-25T18:17:19.614Z"
   },
   {
    "duration": 90,
    "start_time": "2024-05-25T18:17:19.623Z"
   },
   {
    "duration": 143,
    "start_time": "2024-05-25T18:23:39.420Z"
   },
   {
    "duration": 4,
    "start_time": "2024-05-25T18:24:07.141Z"
   },
   {
    "duration": 6,
    "start_time": "2024-05-25T18:24:47.378Z"
   },
   {
    "duration": 10,
    "start_time": "2024-05-25T18:26:47.243Z"
   },
   {
    "duration": 7,
    "start_time": "2024-05-25T18:27:03.509Z"
   },
   {
    "duration": 412,
    "start_time": "2024-05-25T18:46:16.381Z"
   },
   {
    "duration": 223,
    "start_time": "2024-05-25T18:46:16.796Z"
   },
   {
    "duration": 66,
    "start_time": "2024-05-25T18:46:17.021Z"
   },
   {
    "duration": 12,
    "start_time": "2024-05-25T18:46:17.089Z"
   },
   {
    "duration": 10,
    "start_time": "2024-05-25T18:46:17.103Z"
   },
   {
    "duration": 10,
    "start_time": "2024-05-25T18:46:17.114Z"
   },
   {
    "duration": 15,
    "start_time": "2024-05-25T18:46:17.125Z"
   },
   {
    "duration": 5,
    "start_time": "2024-05-25T18:46:17.142Z"
   },
   {
    "duration": 15,
    "start_time": "2024-05-25T18:46:17.149Z"
   },
   {
    "duration": 10,
    "start_time": "2024-05-25T18:46:17.165Z"
   },
   {
    "duration": 5,
    "start_time": "2024-05-25T18:46:17.177Z"
   },
   {
    "duration": 29,
    "start_time": "2024-05-25T18:46:17.184Z"
   },
   {
    "duration": 15,
    "start_time": "2024-05-25T18:46:17.215Z"
   },
   {
    "duration": 7,
    "start_time": "2024-05-25T18:46:17.234Z"
   },
   {
    "duration": 5,
    "start_time": "2024-05-25T18:46:17.243Z"
   },
   {
    "duration": 5,
    "start_time": "2024-05-25T18:46:17.249Z"
   },
   {
    "duration": 4,
    "start_time": "2024-05-25T18:46:17.256Z"
   },
   {
    "duration": 5,
    "start_time": "2024-05-25T18:46:17.262Z"
   },
   {
    "duration": 8,
    "start_time": "2024-05-25T18:46:17.269Z"
   },
   {
    "duration": 8,
    "start_time": "2024-05-25T18:46:17.312Z"
   },
   {
    "duration": 6,
    "start_time": "2024-05-25T18:46:17.322Z"
   },
   {
    "duration": 170,
    "start_time": "2024-05-25T18:46:17.330Z"
   },
   {
    "duration": 10,
    "start_time": "2024-05-25T18:46:17.502Z"
   },
   {
    "duration": 76,
    "start_time": "2024-05-25T18:51:09.233Z"
   },
   {
    "duration": 9,
    "start_time": "2024-05-25T18:51:29.463Z"
   },
   {
    "duration": 110,
    "start_time": "2024-05-25T18:53:26.038Z"
   },
   {
    "duration": 208,
    "start_time": "2024-05-25T18:54:03.223Z"
   },
   {
    "duration": 136,
    "start_time": "2024-05-25T18:54:26.648Z"
   },
   {
    "duration": 6,
    "start_time": "2024-05-25T18:55:03.196Z"
   },
   {
    "duration": 136,
    "start_time": "2024-05-25T18:55:09.863Z"
   },
   {
    "duration": 117,
    "start_time": "2024-05-25T18:56:06.331Z"
   },
   {
    "duration": 132,
    "start_time": "2024-05-25T18:56:35.317Z"
   },
   {
    "duration": 111,
    "start_time": "2024-05-25T18:56:43.374Z"
   },
   {
    "duration": 385,
    "start_time": "2024-05-25T18:57:36.632Z"
   },
   {
    "duration": 221,
    "start_time": "2024-05-25T18:57:37.019Z"
   },
   {
    "duration": 65,
    "start_time": "2024-05-25T18:57:37.241Z"
   },
   {
    "duration": 10,
    "start_time": "2024-05-25T18:57:37.308Z"
   },
   {
    "duration": 9,
    "start_time": "2024-05-25T18:57:37.320Z"
   },
   {
    "duration": 8,
    "start_time": "2024-05-25T18:57:37.331Z"
   },
   {
    "duration": 12,
    "start_time": "2024-05-25T18:57:37.340Z"
   },
   {
    "duration": 6,
    "start_time": "2024-05-25T18:57:37.354Z"
   },
   {
    "duration": 7,
    "start_time": "2024-05-25T18:57:37.361Z"
   },
   {
    "duration": 9,
    "start_time": "2024-05-25T18:57:37.370Z"
   },
   {
    "duration": 35,
    "start_time": "2024-05-25T18:57:37.381Z"
   },
   {
    "duration": 6,
    "start_time": "2024-05-25T18:57:37.417Z"
   },
   {
    "duration": 5,
    "start_time": "2024-05-25T18:57:37.424Z"
   },
   {
    "duration": 7,
    "start_time": "2024-05-25T18:57:37.430Z"
   },
   {
    "duration": 4,
    "start_time": "2024-05-25T18:57:37.438Z"
   },
   {
    "duration": 9,
    "start_time": "2024-05-25T18:57:37.444Z"
   },
   {
    "duration": 13,
    "start_time": "2024-05-25T18:57:37.454Z"
   },
   {
    "duration": 5,
    "start_time": "2024-05-25T18:57:37.468Z"
   },
   {
    "duration": 8,
    "start_time": "2024-05-25T18:57:37.474Z"
   },
   {
    "duration": 35,
    "start_time": "2024-05-25T18:57:37.483Z"
   },
   {
    "duration": 6,
    "start_time": "2024-05-25T18:57:37.519Z"
   },
   {
    "duration": 160,
    "start_time": "2024-05-25T18:57:37.527Z"
   },
   {
    "duration": 6,
    "start_time": "2024-05-25T18:57:37.688Z"
   },
   {
    "duration": 117,
    "start_time": "2024-05-25T18:57:37.695Z"
   },
   {
    "duration": 392,
    "start_time": "2024-05-25T18:57:55.713Z"
   },
   {
    "duration": 220,
    "start_time": "2024-05-25T18:57:56.107Z"
   },
   {
    "duration": 64,
    "start_time": "2024-05-25T18:57:56.328Z"
   },
   {
    "duration": 12,
    "start_time": "2024-05-25T18:57:56.393Z"
   },
   {
    "duration": 10,
    "start_time": "2024-05-25T18:57:56.407Z"
   },
   {
    "duration": 19,
    "start_time": "2024-05-25T18:57:56.419Z"
   },
   {
    "duration": 14,
    "start_time": "2024-05-25T18:57:56.439Z"
   },
   {
    "duration": 7,
    "start_time": "2024-05-25T18:57:56.455Z"
   },
   {
    "duration": 7,
    "start_time": "2024-05-25T18:57:56.463Z"
   },
   {
    "duration": 9,
    "start_time": "2024-05-25T18:57:56.472Z"
   },
   {
    "duration": 5,
    "start_time": "2024-05-25T18:57:56.483Z"
   },
   {
    "duration": 5,
    "start_time": "2024-05-25T18:57:56.511Z"
   },
   {
    "duration": 5,
    "start_time": "2024-05-25T18:57:56.517Z"
   },
   {
    "duration": 8,
    "start_time": "2024-05-25T18:57:56.524Z"
   },
   {
    "duration": 4,
    "start_time": "2024-05-25T18:57:56.534Z"
   },
   {
    "duration": 8,
    "start_time": "2024-05-25T18:57:56.540Z"
   },
   {
    "duration": 6,
    "start_time": "2024-05-25T18:57:56.549Z"
   },
   {
    "duration": 27,
    "start_time": "2024-05-25T18:57:56.556Z"
   },
   {
    "duration": 8,
    "start_time": "2024-05-25T18:57:56.585Z"
   },
   {
    "duration": 7,
    "start_time": "2024-05-25T18:57:56.594Z"
   },
   {
    "duration": 6,
    "start_time": "2024-05-25T18:57:56.612Z"
   },
   {
    "duration": 157,
    "start_time": "2024-05-25T18:57:56.619Z"
   },
   {
    "duration": 6,
    "start_time": "2024-05-25T18:57:56.777Z"
   },
   {
    "duration": 400,
    "start_time": "2024-05-25T18:58:17.812Z"
   },
   {
    "duration": 214,
    "start_time": "2024-05-25T18:58:18.213Z"
   },
   {
    "duration": 65,
    "start_time": "2024-05-25T18:58:18.429Z"
   },
   {
    "duration": 12,
    "start_time": "2024-05-25T18:58:18.496Z"
   },
   {
    "duration": 10,
    "start_time": "2024-05-25T18:58:18.510Z"
   },
   {
    "duration": 11,
    "start_time": "2024-05-25T18:58:18.521Z"
   },
   {
    "duration": 10,
    "start_time": "2024-05-25T18:58:18.534Z"
   },
   {
    "duration": 6,
    "start_time": "2024-05-25T18:58:18.545Z"
   },
   {
    "duration": 13,
    "start_time": "2024-05-25T18:58:18.552Z"
   },
   {
    "duration": 8,
    "start_time": "2024-05-25T18:58:18.568Z"
   },
   {
    "duration": 5,
    "start_time": "2024-05-25T18:58:18.577Z"
   },
   {
    "duration": 31,
    "start_time": "2024-05-25T18:58:18.584Z"
   },
   {
    "duration": 7,
    "start_time": "2024-05-25T18:58:18.617Z"
   },
   {
    "duration": 7,
    "start_time": "2024-05-25T18:58:18.626Z"
   },
   {
    "duration": 4,
    "start_time": "2024-05-25T18:58:18.634Z"
   },
   {
    "duration": 22,
    "start_time": "2024-05-25T18:58:18.639Z"
   },
   {
    "duration": 4,
    "start_time": "2024-05-25T18:58:18.662Z"
   },
   {
    "duration": 4,
    "start_time": "2024-05-25T18:58:18.668Z"
   },
   {
    "duration": 8,
    "start_time": "2024-05-25T18:58:18.673Z"
   },
   {
    "duration": 33,
    "start_time": "2024-05-25T18:58:18.682Z"
   },
   {
    "duration": 6,
    "start_time": "2024-05-25T18:58:18.716Z"
   },
   {
    "duration": 156,
    "start_time": "2024-05-25T18:58:18.724Z"
   },
   {
    "duration": 5,
    "start_time": "2024-05-25T18:58:18.882Z"
   },
   {
    "duration": 114,
    "start_time": "2024-05-25T18:58:18.888Z"
   },
   {
    "duration": 5,
    "start_time": "2024-05-25T19:02:52.643Z"
   },
   {
    "duration": 109,
    "start_time": "2024-05-25T19:03:25.084Z"
   },
   {
    "duration": 6,
    "start_time": "2024-05-25T19:07:13.523Z"
   },
   {
    "duration": 3,
    "start_time": "2024-05-25T19:09:00.688Z"
   },
   {
    "duration": 627,
    "start_time": "2024-05-25T19:09:25.645Z"
   },
   {
    "duration": 221,
    "start_time": "2024-05-25T19:09:40.663Z"
   },
   {
    "duration": 126,
    "start_time": "2024-05-25T19:10:16.761Z"
   },
   {
    "duration": 5,
    "start_time": "2024-05-25T19:11:40.534Z"
   },
   {
    "duration": 73,
    "start_time": "2024-05-25T19:13:20.217Z"
   },
   {
    "duration": 216,
    "start_time": "2024-05-25T19:13:22.559Z"
   },
   {
    "duration": 256,
    "start_time": "2024-05-25T19:13:35.571Z"
   },
   {
    "duration": 13,
    "start_time": "2024-05-25T19:16:34.767Z"
   },
   {
    "duration": 7,
    "start_time": "2024-05-25T19:16:51.180Z"
   },
   {
    "duration": 8,
    "start_time": "2024-05-25T19:22:14.041Z"
   },
   {
    "duration": 122,
    "start_time": "2024-05-25T19:26:24.273Z"
   },
   {
    "duration": 8,
    "start_time": "2024-05-25T19:26:57.478Z"
   },
   {
    "duration": 155,
    "start_time": "2024-05-25T19:31:24.120Z"
   },
   {
    "duration": 137,
    "start_time": "2024-05-25T19:31:28.330Z"
   },
   {
    "duration": 194,
    "start_time": "2024-05-25T19:31:32.034Z"
   },
   {
    "duration": 144,
    "start_time": "2024-05-25T19:31:35.074Z"
   },
   {
    "duration": 131,
    "start_time": "2024-05-25T19:39:30.743Z"
   },
   {
    "duration": 115,
    "start_time": "2024-05-25T19:41:17.432Z"
   },
   {
    "duration": 123,
    "start_time": "2024-05-25T19:41:26.857Z"
   },
   {
    "duration": 117,
    "start_time": "2024-05-25T19:41:35.944Z"
   },
   {
    "duration": 131,
    "start_time": "2024-05-25T19:41:38.324Z"
   },
   {
    "duration": 146,
    "start_time": "2024-05-25T19:41:44.828Z"
   },
   {
    "duration": 138,
    "start_time": "2024-05-25T19:41:49.711Z"
   },
   {
    "duration": 142,
    "start_time": "2024-05-25T19:41:52.252Z"
   },
   {
    "duration": 132,
    "start_time": "2024-05-25T19:41:54.651Z"
   },
   {
    "duration": 201,
    "start_time": "2024-05-25T19:42:39.311Z"
   },
   {
    "duration": 134,
    "start_time": "2024-05-25T19:42:49.448Z"
   },
   {
    "duration": 147,
    "start_time": "2024-05-25T19:43:21.887Z"
   },
   {
    "duration": 148,
    "start_time": "2024-05-25T19:45:03.563Z"
   },
   {
    "duration": 112,
    "start_time": "2024-05-25T19:45:13.741Z"
   },
   {
    "duration": 134,
    "start_time": "2024-05-25T19:45:21.027Z"
   },
   {
    "duration": 125,
    "start_time": "2024-05-25T19:45:36.476Z"
   },
   {
    "duration": 114,
    "start_time": "2024-05-25T19:45:39.366Z"
   },
   {
    "duration": 140,
    "start_time": "2024-05-25T19:46:18.156Z"
   },
   {
    "duration": 228,
    "start_time": "2024-05-25T19:46:25.445Z"
   },
   {
    "duration": 134,
    "start_time": "2024-05-25T19:46:39.856Z"
   },
   {
    "duration": 186,
    "start_time": "2024-05-25T19:46:47.946Z"
   },
   {
    "duration": 9,
    "start_time": "2024-05-25T19:48:00.555Z"
   },
   {
    "duration": 6,
    "start_time": "2024-05-25T19:48:09.235Z"
   },
   {
    "duration": 5,
    "start_time": "2024-05-25T19:48:57.554Z"
   },
   {
    "duration": 114,
    "start_time": "2024-05-25T19:50:09.169Z"
   },
   {
    "duration": 6,
    "start_time": "2024-05-25T19:50:25.857Z"
   },
   {
    "duration": 128,
    "start_time": "2024-05-25T19:59:26.128Z"
   },
   {
    "duration": 117,
    "start_time": "2024-05-25T19:59:31.864Z"
   },
   {
    "duration": 8,
    "start_time": "2024-05-25T20:00:42.616Z"
   },
   {
    "duration": 116,
    "start_time": "2024-05-25T20:01:20.766Z"
   },
   {
    "duration": 103,
    "start_time": "2024-05-25T20:01:25.557Z"
   },
   {
    "duration": 116,
    "start_time": "2024-05-25T20:11:37.277Z"
   },
   {
    "duration": 8,
    "start_time": "2024-05-25T20:11:40.046Z"
   },
   {
    "duration": 106,
    "start_time": "2024-05-25T20:11:41.912Z"
   },
   {
    "duration": 400,
    "start_time": "2024-05-25T20:22:14.298Z"
   },
   {
    "duration": 212,
    "start_time": "2024-05-25T20:22:14.700Z"
   },
   {
    "duration": 64,
    "start_time": "2024-05-25T20:22:14.914Z"
   },
   {
    "duration": 12,
    "start_time": "2024-05-25T20:22:14.979Z"
   },
   {
    "duration": 14,
    "start_time": "2024-05-25T20:22:14.993Z"
   },
   {
    "duration": 8,
    "start_time": "2024-05-25T20:22:15.008Z"
   },
   {
    "duration": 27,
    "start_time": "2024-05-25T20:22:15.017Z"
   },
   {
    "duration": 7,
    "start_time": "2024-05-25T20:22:15.045Z"
   },
   {
    "duration": 17,
    "start_time": "2024-05-25T20:22:15.053Z"
   },
   {
    "duration": 39,
    "start_time": "2024-05-25T20:22:15.072Z"
   },
   {
    "duration": 11,
    "start_time": "2024-05-25T20:22:15.112Z"
   },
   {
    "duration": 7,
    "start_time": "2024-05-25T20:22:15.124Z"
   },
   {
    "duration": 5,
    "start_time": "2024-05-25T20:22:15.133Z"
   },
   {
    "duration": 7,
    "start_time": "2024-05-25T20:22:15.140Z"
   },
   {
    "duration": 12,
    "start_time": "2024-05-25T20:22:15.148Z"
   },
   {
    "duration": 5,
    "start_time": "2024-05-25T20:22:15.161Z"
   },
   {
    "duration": 4,
    "start_time": "2024-05-25T20:22:15.167Z"
   },
   {
    "duration": 7,
    "start_time": "2024-05-25T20:22:15.172Z"
   },
   {
    "duration": 8,
    "start_time": "2024-05-25T20:22:15.180Z"
   },
   {
    "duration": 7,
    "start_time": "2024-05-25T20:22:15.212Z"
   },
   {
    "duration": 11,
    "start_time": "2024-05-25T20:22:15.221Z"
   },
   {
    "duration": 157,
    "start_time": "2024-05-25T20:22:15.233Z"
   },
   {
    "duration": 5,
    "start_time": "2024-05-25T20:22:15.391Z"
   },
   {
    "duration": 111,
    "start_time": "2024-05-25T20:22:15.397Z"
   },
   {
    "duration": 249,
    "start_time": "2024-05-25T20:22:15.512Z"
   },
   {
    "duration": 7,
    "start_time": "2024-05-25T20:22:15.762Z"
   },
   {
    "duration": 8,
    "start_time": "2024-05-25T20:22:15.770Z"
   },
   {
    "duration": 178,
    "start_time": "2024-05-25T20:22:15.779Z"
   },
   {
    "duration": 7,
    "start_time": "2024-05-25T20:22:15.959Z"
   },
   {
    "duration": 129,
    "start_time": "2024-05-25T20:22:15.967Z"
   },
   {
    "duration": 6,
    "start_time": "2024-05-25T20:22:16.098Z"
   },
   {
    "duration": 120,
    "start_time": "2024-05-25T20:22:16.112Z"
   },
   {
    "duration": 7,
    "start_time": "2024-05-25T20:22:16.233Z"
   },
   {
    "duration": 120,
    "start_time": "2024-05-25T20:22:16.241Z"
   },
   {
    "duration": 6,
    "start_time": "2024-05-25T20:28:06.392Z"
   },
   {
    "duration": 13,
    "start_time": "2024-05-25T20:29:34.252Z"
   },
   {
    "duration": 121,
    "start_time": "2024-05-25T20:30:44.080Z"
   },
   {
    "duration": 122,
    "start_time": "2024-05-25T20:32:37.259Z"
   },
   {
    "duration": 14,
    "start_time": "2024-05-25T20:32:59.773Z"
   },
   {
    "duration": 13,
    "start_time": "2024-05-25T20:33:12.490Z"
   },
   {
    "duration": 12,
    "start_time": "2024-05-25T20:33:16.945Z"
   },
   {
    "duration": 12,
    "start_time": "2024-05-25T20:37:20.778Z"
   },
   {
    "duration": 10,
    "start_time": "2024-05-25T21:02:05.851Z"
   },
   {
    "duration": 9,
    "start_time": "2024-05-25T21:03:48.812Z"
   },
   {
    "duration": 11,
    "start_time": "2024-05-25T21:04:01.993Z"
   },
   {
    "duration": 8,
    "start_time": "2024-05-25T21:06:15.736Z"
   },
   {
    "duration": 8,
    "start_time": "2024-05-25T21:06:40.464Z"
   },
   {
    "duration": 8,
    "start_time": "2024-05-25T21:09:30.982Z"
   },
   {
    "duration": 6,
    "start_time": "2024-05-25T21:09:37.549Z"
   },
   {
    "duration": 5,
    "start_time": "2024-05-25T21:09:51.658Z"
   },
   {
    "duration": 14,
    "start_time": "2024-05-25T21:10:07.754Z"
   },
   {
    "duration": 13,
    "start_time": "2024-05-25T21:10:16.869Z"
   },
   {
    "duration": 56,
    "start_time": "2024-05-25T21:11:35.715Z"
   },
   {
    "duration": 11,
    "start_time": "2024-05-25T21:11:53.855Z"
   },
   {
    "duration": 11,
    "start_time": "2024-05-25T21:12:08.244Z"
   },
   {
    "duration": 138,
    "start_time": "2024-05-25T21:17:25.914Z"
   },
   {
    "duration": 110,
    "start_time": "2024-05-25T21:17:28.203Z"
   },
   {
    "duration": 122,
    "start_time": "2024-05-25T21:17:31.527Z"
   },
   {
    "duration": 137,
    "start_time": "2024-05-25T21:17:33.717Z"
   },
   {
    "duration": 132,
    "start_time": "2024-05-25T21:17:35.958Z"
   },
   {
    "duration": 174,
    "start_time": "2024-05-25T21:19:52.188Z"
   },
   {
    "duration": 106,
    "start_time": "2024-05-25T21:20:39.782Z"
   },
   {
    "duration": 117,
    "start_time": "2024-05-25T21:20:48.135Z"
   },
   {
    "duration": 127,
    "start_time": "2024-05-25T21:20:56.954Z"
   },
   {
    "duration": 129,
    "start_time": "2024-05-25T21:21:03.326Z"
   },
   {
    "duration": 27,
    "start_time": "2024-05-25T21:24:05.655Z"
   },
   {
    "duration": 7,
    "start_time": "2024-05-25T21:24:14.933Z"
   },
   {
    "duration": 8,
    "start_time": "2024-05-25T21:24:29.645Z"
   },
   {
    "duration": 7,
    "start_time": "2024-05-25T21:25:30.353Z"
   },
   {
    "duration": 9,
    "start_time": "2024-05-25T21:27:56.707Z"
   },
   {
    "duration": 7,
    "start_time": "2024-05-25T21:27:58.341Z"
   },
   {
    "duration": 118,
    "start_time": "2024-05-25T21:28:21.599Z"
   },
   {
    "duration": 133,
    "start_time": "2024-05-25T21:28:30.139Z"
   },
   {
    "duration": 113,
    "start_time": "2024-05-25T21:28:33.749Z"
   },
   {
    "duration": 294,
    "start_time": "2024-05-25T21:50:53.129Z"
   },
   {
    "duration": 12,
    "start_time": "2024-05-25T21:53:21.359Z"
   },
   {
    "duration": 489,
    "start_time": "2024-05-26T09:21:32.857Z"
   },
   {
    "duration": 478,
    "start_time": "2024-05-26T09:21:33.348Z"
   },
   {
    "duration": 4,
    "start_time": "2024-05-26T09:21:33.828Z"
   },
   {
    "duration": 231,
    "start_time": "2024-05-26T09:21:33.835Z"
   },
   {
    "duration": 19,
    "start_time": "2024-05-26T09:21:34.068Z"
   },
   {
    "duration": 21,
    "start_time": "2024-05-26T09:21:34.090Z"
   },
   {
    "duration": 15,
    "start_time": "2024-05-26T09:21:34.114Z"
   },
   {
    "duration": 16,
    "start_time": "2024-05-26T09:21:34.132Z"
   },
   {
    "duration": 7,
    "start_time": "2024-05-26T09:21:34.150Z"
   },
   {
    "duration": 13,
    "start_time": "2024-05-26T09:21:34.183Z"
   },
   {
    "duration": 17,
    "start_time": "2024-05-26T09:21:34.198Z"
   },
   {
    "duration": 8,
    "start_time": "2024-05-26T09:21:34.217Z"
   },
   {
    "duration": 6,
    "start_time": "2024-05-26T09:21:34.228Z"
   },
   {
    "duration": 6,
    "start_time": "2024-05-26T09:21:34.236Z"
   },
   {
    "duration": 45,
    "start_time": "2024-05-26T09:21:34.243Z"
   },
   {
    "duration": 6,
    "start_time": "2024-05-26T09:21:34.290Z"
   },
   {
    "duration": 7,
    "start_time": "2024-05-26T09:21:34.297Z"
   },
   {
    "duration": 5,
    "start_time": "2024-05-26T09:21:34.306Z"
   },
   {
    "duration": 11,
    "start_time": "2024-05-26T09:21:34.313Z"
   },
   {
    "duration": 10,
    "start_time": "2024-05-26T09:21:34.328Z"
   },
   {
    "duration": 63,
    "start_time": "2024-05-26T09:21:34.339Z"
   },
   {
    "duration": 7,
    "start_time": "2024-05-26T09:21:34.404Z"
   },
   {
    "duration": 207,
    "start_time": "2024-05-26T09:21:34.413Z"
   },
   {
    "duration": 8,
    "start_time": "2024-05-26T09:21:34.623Z"
   },
   {
    "duration": 170,
    "start_time": "2024-05-26T09:21:34.633Z"
   },
   {
    "duration": 335,
    "start_time": "2024-05-26T09:21:34.805Z"
   },
   {
    "duration": 11,
    "start_time": "2024-05-26T09:21:35.142Z"
   },
   {
    "duration": 30,
    "start_time": "2024-05-26T09:21:35.158Z"
   },
   {
    "duration": 311,
    "start_time": "2024-05-26T09:21:35.196Z"
   },
   {
    "duration": 12,
    "start_time": "2024-05-26T09:21:35.509Z"
   },
   {
    "duration": 181,
    "start_time": "2024-05-26T09:21:35.523Z"
   },
   {
    "duration": 8,
    "start_time": "2024-05-26T09:21:35.706Z"
   },
   {
    "duration": 179,
    "start_time": "2024-05-26T09:21:35.716Z"
   },
   {
    "duration": 11,
    "start_time": "2024-05-26T09:21:35.897Z"
   },
   {
    "duration": 173,
    "start_time": "2024-05-26T09:21:35.910Z"
   },
   {
    "duration": 172,
    "start_time": "2024-05-26T09:21:36.086Z"
   },
   {
    "duration": 14,
    "start_time": "2024-05-26T09:21:36.260Z"
   },
   {
    "duration": 16,
    "start_time": "2024-05-26T09:21:36.283Z"
   },
   {
    "duration": 12,
    "start_time": "2024-05-26T09:21:36.301Z"
   },
   {
    "duration": 22,
    "start_time": "2024-05-26T09:21:36.315Z"
   },
   {
    "duration": 21,
    "start_time": "2024-05-26T09:21:36.338Z"
   },
   {
    "duration": 32,
    "start_time": "2024-05-26T09:21:36.361Z"
   },
   {
    "duration": 20,
    "start_time": "2024-05-26T09:21:36.395Z"
   },
   {
    "duration": 19,
    "start_time": "2024-05-26T09:21:36.417Z"
   },
   {
    "duration": 166,
    "start_time": "2024-05-26T09:21:36.438Z"
   },
   {
    "duration": 171,
    "start_time": "2024-05-26T09:21:36.607Z"
   },
   {
    "duration": 9,
    "start_time": "2024-05-26T09:21:36.782Z"
   },
   {
    "duration": 9,
    "start_time": "2024-05-26T09:21:36.792Z"
   },
   {
    "duration": 190,
    "start_time": "2024-05-26T09:21:36.802Z"
   },
   {
    "duration": 171,
    "start_time": "2024-05-26T09:21:36.994Z"
   },
   {
    "duration": 21,
    "start_time": "2024-05-26T09:21:37.166Z"
   },
   {
    "duration": 11,
    "start_time": "2024-05-26T09:21:37.190Z"
   },
   {
    "duration": 17,
    "start_time": "2024-05-26T09:21:37.203Z"
   },
   {
    "duration": 78,
    "start_time": "2024-05-26T09:22:44.699Z"
   },
   {
    "duration": 5,
    "start_time": "2024-05-26T09:23:29.669Z"
   },
   {
    "duration": 26,
    "start_time": "2024-05-26T09:23:32.073Z"
   },
   {
    "duration": 4,
    "start_time": "2024-05-26T09:23:55.672Z"
   },
   {
    "duration": 10,
    "start_time": "2024-05-26T09:24:03.816Z"
   },
   {
    "duration": 4,
    "start_time": "2024-05-26T09:24:21.075Z"
   },
   {
    "duration": 6,
    "start_time": "2024-05-26T09:25:26.917Z"
   },
   {
    "duration": 7,
    "start_time": "2024-05-26T09:26:16.741Z"
   },
   {
    "duration": 477,
    "start_time": "2024-05-26T09:26:35.775Z"
   },
   {
    "duration": 298,
    "start_time": "2024-05-26T09:26:36.254Z"
   },
   {
    "duration": 2,
    "start_time": "2024-05-26T09:26:36.554Z"
   },
   {
    "duration": 95,
    "start_time": "2024-05-26T09:26:36.558Z"
   },
   {
    "duration": 14,
    "start_time": "2024-05-26T09:26:36.656Z"
   },
   {
    "duration": 14,
    "start_time": "2024-05-26T09:26:36.672Z"
   },
   {
    "duration": 19,
    "start_time": "2024-05-26T09:26:36.688Z"
   },
   {
    "duration": 20,
    "start_time": "2024-05-26T09:26:36.709Z"
   },
   {
    "duration": 8,
    "start_time": "2024-05-26T09:26:36.731Z"
   },
   {
    "duration": 17,
    "start_time": "2024-05-26T09:26:36.741Z"
   },
   {
    "duration": 23,
    "start_time": "2024-05-26T09:26:36.760Z"
   },
   {
    "duration": 19,
    "start_time": "2024-05-26T09:26:36.786Z"
   },
   {
    "duration": 8,
    "start_time": "2024-05-26T09:26:36.807Z"
   },
   {
    "duration": 9,
    "start_time": "2024-05-26T09:26:36.820Z"
   },
   {
    "duration": 8,
    "start_time": "2024-05-26T09:26:36.830Z"
   },
   {
    "duration": 17,
    "start_time": "2024-05-26T09:26:36.840Z"
   },
   {
    "duration": 40,
    "start_time": "2024-05-26T09:26:36.859Z"
   },
   {
    "duration": 6,
    "start_time": "2024-05-26T09:26:36.901Z"
   },
   {
    "duration": 8,
    "start_time": "2024-05-26T09:26:36.908Z"
   },
   {
    "duration": 12,
    "start_time": "2024-05-26T09:26:36.918Z"
   },
   {
    "duration": 14,
    "start_time": "2024-05-26T09:26:36.932Z"
   },
   {
    "duration": 7,
    "start_time": "2024-05-26T09:26:36.948Z"
   },
   {
    "duration": 216,
    "start_time": "2024-05-26T09:26:36.986Z"
   },
   {
    "duration": 8,
    "start_time": "2024-05-26T09:26:37.204Z"
   },
   {
    "duration": 159,
    "start_time": "2024-05-26T09:26:37.214Z"
   },
   {
    "duration": 420,
    "start_time": "2024-05-26T09:26:37.375Z"
   },
   {
    "duration": 13,
    "start_time": "2024-05-26T09:26:37.798Z"
   },
   {
    "duration": 15,
    "start_time": "2024-05-26T09:26:37.815Z"
   },
   {
    "duration": 314,
    "start_time": "2024-05-26T09:26:37.833Z"
   },
   {
    "duration": 10,
    "start_time": "2024-05-26T09:26:38.150Z"
   },
   {
    "duration": 201,
    "start_time": "2024-05-26T09:26:38.162Z"
   },
   {
    "duration": 10,
    "start_time": "2024-05-26T09:26:38.364Z"
   },
   {
    "duration": 183,
    "start_time": "2024-05-26T09:26:38.376Z"
   },
   {
    "duration": 27,
    "start_time": "2024-05-26T09:26:38.562Z"
   },
   {
    "duration": 148,
    "start_time": "2024-05-26T09:26:38.591Z"
   },
   {
    "duration": 187,
    "start_time": "2024-05-26T09:26:38.740Z"
   },
   {
    "duration": 15,
    "start_time": "2024-05-26T09:26:38.930Z"
   },
   {
    "duration": 11,
    "start_time": "2024-05-26T09:26:38.947Z"
   },
   {
    "duration": 35,
    "start_time": "2024-05-26T09:26:38.960Z"
   },
   {
    "duration": 16,
    "start_time": "2024-05-26T09:26:38.997Z"
   },
   {
    "duration": 20,
    "start_time": "2024-05-26T09:26:39.018Z"
   },
   {
    "duration": 44,
    "start_time": "2024-05-26T09:26:39.040Z"
   },
   {
    "duration": 13,
    "start_time": "2024-05-26T09:26:39.087Z"
   },
   {
    "duration": 20,
    "start_time": "2024-05-26T09:26:39.102Z"
   },
   {
    "duration": 164,
    "start_time": "2024-05-26T09:26:39.124Z"
   },
   {
    "duration": 174,
    "start_time": "2024-05-26T09:26:39.290Z"
   },
   {
    "duration": 9,
    "start_time": "2024-05-26T09:26:39.466Z"
   },
   {
    "duration": 10,
    "start_time": "2024-05-26T09:26:39.483Z"
   },
   {
    "duration": 212,
    "start_time": "2024-05-26T09:26:39.495Z"
   },
   {
    "duration": 195,
    "start_time": "2024-05-26T09:26:39.709Z"
   },
   {
    "duration": 11,
    "start_time": "2024-05-26T09:26:39.906Z"
   },
   {
    "duration": 70,
    "start_time": "2024-05-26T09:26:39.919Z"
   },
   {
    "duration": 6,
    "start_time": "2024-05-26T09:26:39.992Z"
   },
   {
    "duration": 116,
    "start_time": "2024-05-26T09:26:40.001Z"
   },
   {
    "duration": 306,
    "start_time": "2024-05-26T09:29:16.053Z"
   },
   {
    "duration": 412,
    "start_time": "2024-05-26T09:29:31.254Z"
   },
   {
    "duration": 7,
    "start_time": "2024-05-26T09:29:59.994Z"
   },
   {
    "duration": 3,
    "start_time": "2024-05-26T09:30:17.780Z"
   },
   {
    "duration": 4,
    "start_time": "2024-05-26T09:31:46.589Z"
   },
   {
    "duration": 12,
    "start_time": "2024-05-26T09:31:51.052Z"
   },
   {
    "duration": 4,
    "start_time": "2024-05-26T09:31:56.528Z"
   },
   {
    "duration": 13,
    "start_time": "2024-05-26T09:32:08.822Z"
   },
   {
    "duration": 9,
    "start_time": "2024-05-26T09:32:24.186Z"
   },
   {
    "duration": 5,
    "start_time": "2024-05-26T09:33:48.044Z"
   },
   {
    "duration": 5,
    "start_time": "2024-05-26T09:33:50.748Z"
   },
   {
    "duration": 6,
    "start_time": "2024-05-26T09:36:09.531Z"
   },
   {
    "duration": 8,
    "start_time": "2024-05-26T09:37:41.365Z"
   },
   {
    "duration": 4,
    "start_time": "2024-05-26T09:37:45.081Z"
   },
   {
    "duration": 30,
    "start_time": "2024-05-26T09:37:46.596Z"
   },
   {
    "duration": 16,
    "start_time": "2024-05-26T09:37:59.987Z"
   },
   {
    "duration": 13,
    "start_time": "2024-05-26T09:38:03.331Z"
   },
   {
    "duration": 21,
    "start_time": "2024-05-26T09:40:56.382Z"
   },
   {
    "duration": 19,
    "start_time": "2024-05-26T09:41:01.885Z"
   },
   {
    "duration": 34,
    "start_time": "2024-05-26T09:41:56.481Z"
   },
   {
    "duration": 90,
    "start_time": "2024-05-26T09:44:13.676Z"
   },
   {
    "duration": 60,
    "start_time": "2024-05-26T09:45:04.468Z"
   },
   {
    "duration": 71,
    "start_time": "2024-05-26T09:45:14.587Z"
   },
   {
    "duration": 54,
    "start_time": "2024-05-26T09:45:26.853Z"
   },
   {
    "duration": 7,
    "start_time": "2024-05-26T09:45:55.290Z"
   },
   {
    "duration": 37,
    "start_time": "2024-05-26T09:47:23.662Z"
   },
   {
    "duration": 24,
    "start_time": "2024-05-26T09:50:26.191Z"
   },
   {
    "duration": 16,
    "start_time": "2024-05-26T09:51:27.159Z"
   },
   {
    "duration": 16,
    "start_time": "2024-05-26T09:51:39.972Z"
   },
   {
    "duration": 10,
    "start_time": "2024-05-26T10:14:04.203Z"
   },
   {
    "duration": 5,
    "start_time": "2024-05-26T10:15:14.399Z"
   },
   {
    "duration": 9,
    "start_time": "2024-05-26T10:15:38.157Z"
   },
   {
    "duration": 4,
    "start_time": "2024-05-26T10:15:41.806Z"
   },
   {
    "duration": 10,
    "start_time": "2024-05-26T10:15:43.836Z"
   },
   {
    "duration": 2,
    "start_time": "2024-05-26T10:16:09.112Z"
   },
   {
    "duration": 440,
    "start_time": "2024-05-26T10:16:14.705Z"
   },
   {
    "duration": 322,
    "start_time": "2024-05-26T10:16:15.146Z"
   },
   {
    "duration": 3,
    "start_time": "2024-05-26T10:16:15.470Z"
   },
   {
    "duration": 83,
    "start_time": "2024-05-26T10:16:15.474Z"
   },
   {
    "duration": 13,
    "start_time": "2024-05-26T10:16:15.560Z"
   },
   {
    "duration": 26,
    "start_time": "2024-05-26T10:16:15.574Z"
   },
   {
    "duration": 10,
    "start_time": "2024-05-26T10:16:15.602Z"
   },
   {
    "duration": 12,
    "start_time": "2024-05-26T10:16:15.614Z"
   },
   {
    "duration": 7,
    "start_time": "2024-05-26T10:16:15.629Z"
   },
   {
    "duration": 21,
    "start_time": "2024-05-26T10:16:15.638Z"
   },
   {
    "duration": 26,
    "start_time": "2024-05-26T10:16:15.661Z"
   },
   {
    "duration": 10,
    "start_time": "2024-05-26T10:16:15.689Z"
   },
   {
    "duration": 8,
    "start_time": "2024-05-26T10:16:15.701Z"
   },
   {
    "duration": 6,
    "start_time": "2024-05-26T10:16:15.712Z"
   },
   {
    "duration": 13,
    "start_time": "2024-05-26T10:16:15.720Z"
   },
   {
    "duration": 6,
    "start_time": "2024-05-26T10:16:15.735Z"
   },
   {
    "duration": 8,
    "start_time": "2024-05-26T10:16:15.742Z"
   },
   {
    "duration": 36,
    "start_time": "2024-05-26T10:16:15.752Z"
   },
   {
    "duration": 22,
    "start_time": "2024-05-26T10:16:15.790Z"
   },
   {
    "duration": 11,
    "start_time": "2024-05-26T10:16:15.814Z"
   },
   {
    "duration": 15,
    "start_time": "2024-05-26T10:16:15.827Z"
   },
   {
    "duration": 9,
    "start_time": "2024-05-26T10:16:15.844Z"
   },
   {
    "duration": 260,
    "start_time": "2024-05-26T10:16:15.855Z"
   },
   {
    "duration": 8,
    "start_time": "2024-05-26T10:16:16.117Z"
   },
   {
    "duration": 146,
    "start_time": "2024-05-26T10:16:16.127Z"
   },
   {
    "duration": 306,
    "start_time": "2024-05-26T10:16:16.275Z"
   },
   {
    "duration": 13,
    "start_time": "2024-05-26T10:16:16.584Z"
   },
   {
    "duration": 11,
    "start_time": "2024-05-26T10:16:16.600Z"
   },
   {
    "duration": 258,
    "start_time": "2024-05-26T10:16:16.613Z"
   },
   {
    "duration": 13,
    "start_time": "2024-05-26T10:16:16.873Z"
   },
   {
    "duration": 172,
    "start_time": "2024-05-26T10:16:16.888Z"
   },
   {
    "duration": 8,
    "start_time": "2024-05-26T10:16:17.062Z"
   },
   {
    "duration": 197,
    "start_time": "2024-05-26T10:16:17.072Z"
   },
   {
    "duration": 18,
    "start_time": "2024-05-26T10:16:17.271Z"
   },
   {
    "duration": 154,
    "start_time": "2024-05-26T10:16:17.291Z"
   },
   {
    "duration": 169,
    "start_time": "2024-05-26T10:16:17.447Z"
   },
   {
    "duration": 14,
    "start_time": "2024-05-26T10:16:17.618Z"
   },
   {
    "duration": 22,
    "start_time": "2024-05-26T10:16:17.633Z"
   },
   {
    "duration": 11,
    "start_time": "2024-05-26T10:16:17.657Z"
   },
   {
    "duration": 30,
    "start_time": "2024-05-26T10:16:17.669Z"
   },
   {
    "duration": 18,
    "start_time": "2024-05-26T10:16:17.704Z"
   },
   {
    "duration": 17,
    "start_time": "2024-05-26T10:16:17.724Z"
   },
   {
    "duration": 14,
    "start_time": "2024-05-26T10:16:17.742Z"
   },
   {
    "duration": 22,
    "start_time": "2024-05-26T10:16:17.782Z"
   },
   {
    "duration": 157,
    "start_time": "2024-05-26T10:16:17.806Z"
   },
   {
    "duration": 178,
    "start_time": "2024-05-26T10:16:17.965Z"
   },
   {
    "duration": 8,
    "start_time": "2024-05-26T10:16:18.145Z"
   },
   {
    "duration": 9,
    "start_time": "2024-05-26T10:16:18.154Z"
   },
   {
    "duration": 191,
    "start_time": "2024-05-26T10:16:18.164Z"
   },
   {
    "duration": 159,
    "start_time": "2024-05-26T10:16:18.357Z"
   },
   {
    "duration": 9,
    "start_time": "2024-05-26T10:16:18.517Z"
   },
   {
    "duration": 25,
    "start_time": "2024-05-26T10:16:18.528Z"
   },
   {
    "duration": 3,
    "start_time": "2024-05-26T10:16:18.555Z"
   },
   {
    "duration": 41,
    "start_time": "2024-05-26T10:16:18.560Z"
   },
   {
    "duration": 21,
    "start_time": "2024-05-26T10:17:16.792Z"
   },
   {
    "duration": 24,
    "start_time": "2024-05-26T10:17:23.587Z"
   },
   {
    "duration": 4,
    "start_time": "2024-05-26T10:19:22.056Z"
   },
   {
    "duration": 96,
    "start_time": "2024-05-26T10:19:35.050Z"
   },
   {
    "duration": 11,
    "start_time": "2024-05-26T10:19:39.346Z"
   },
   {
    "duration": 21,
    "start_time": "2024-05-26T10:21:21.804Z"
   },
   {
    "duration": 9,
    "start_time": "2024-05-26T10:25:44.829Z"
   },
   {
    "duration": 4,
    "start_time": "2024-05-26T10:28:20.156Z"
   },
   {
    "duration": 519,
    "start_time": "2024-05-26T10:29:35.492Z"
   },
   {
    "duration": 333,
    "start_time": "2024-05-26T10:29:36.014Z"
   },
   {
    "duration": 3,
    "start_time": "2024-05-26T10:29:36.348Z"
   },
   {
    "duration": 84,
    "start_time": "2024-05-26T10:29:36.353Z"
   },
   {
    "duration": 14,
    "start_time": "2024-05-26T10:29:36.439Z"
   },
   {
    "duration": 16,
    "start_time": "2024-05-26T10:29:36.454Z"
   },
   {
    "duration": 49,
    "start_time": "2024-05-26T10:29:36.472Z"
   },
   {
    "duration": 13,
    "start_time": "2024-05-26T10:29:36.522Z"
   },
   {
    "duration": 7,
    "start_time": "2024-05-26T10:29:36.537Z"
   },
   {
    "duration": 11,
    "start_time": "2024-05-26T10:29:36.547Z"
   },
   {
    "duration": 15,
    "start_time": "2024-05-26T10:29:36.561Z"
   },
   {
    "duration": 10,
    "start_time": "2024-05-26T10:29:36.578Z"
   },
   {
    "duration": 10,
    "start_time": "2024-05-26T10:29:36.591Z"
   },
   {
    "duration": 7,
    "start_time": "2024-05-26T10:29:36.606Z"
   },
   {
    "duration": 12,
    "start_time": "2024-05-26T10:29:36.614Z"
   },
   {
    "duration": 6,
    "start_time": "2024-05-26T10:29:36.628Z"
   },
   {
    "duration": 16,
    "start_time": "2024-05-26T10:29:36.682Z"
   },
   {
    "duration": 4,
    "start_time": "2024-05-26T10:29:36.703Z"
   },
   {
    "duration": 5,
    "start_time": "2024-05-26T10:29:36.709Z"
   },
   {
    "duration": 10,
    "start_time": "2024-05-26T10:29:36.716Z"
   },
   {
    "duration": 9,
    "start_time": "2024-05-26T10:29:36.727Z"
   },
   {
    "duration": 11,
    "start_time": "2024-05-26T10:29:36.782Z"
   },
   {
    "duration": 256,
    "start_time": "2024-05-26T10:29:36.795Z"
   },
   {
    "duration": 10,
    "start_time": "2024-05-26T10:29:37.082Z"
   },
   {
    "duration": 214,
    "start_time": "2024-05-26T10:29:37.094Z"
   },
   {
    "duration": 343,
    "start_time": "2024-05-26T10:29:37.309Z"
   },
   {
    "duration": 12,
    "start_time": "2024-05-26T10:29:37.654Z"
   },
   {
    "duration": 22,
    "start_time": "2024-05-26T10:29:37.669Z"
   },
   {
    "duration": 286,
    "start_time": "2024-05-26T10:29:37.693Z"
   },
   {
    "duration": 16,
    "start_time": "2024-05-26T10:29:37.982Z"
   },
   {
    "duration": 187,
    "start_time": "2024-05-26T10:29:38.000Z"
   },
   {
    "duration": 10,
    "start_time": "2024-05-26T10:29:38.189Z"
   },
   {
    "duration": 179,
    "start_time": "2024-05-26T10:29:38.201Z"
   },
   {
    "duration": 16,
    "start_time": "2024-05-26T10:29:38.382Z"
   },
   {
    "duration": 153,
    "start_time": "2024-05-26T10:29:38.400Z"
   },
   {
    "duration": 186,
    "start_time": "2024-05-26T10:29:38.554Z"
   },
   {
    "duration": 15,
    "start_time": "2024-05-26T10:29:38.742Z"
   },
   {
    "duration": 23,
    "start_time": "2024-05-26T10:29:38.759Z"
   },
   {
    "duration": 21,
    "start_time": "2024-05-26T10:29:38.785Z"
   },
   {
    "duration": 15,
    "start_time": "2024-05-26T10:29:38.808Z"
   },
   {
    "duration": 19,
    "start_time": "2024-05-26T10:29:38.829Z"
   },
   {
    "duration": 48,
    "start_time": "2024-05-26T10:29:38.850Z"
   },
   {
    "duration": 19,
    "start_time": "2024-05-26T10:29:38.900Z"
   },
   {
    "duration": 16,
    "start_time": "2024-05-26T10:29:38.921Z"
   },
   {
    "duration": 180,
    "start_time": "2024-05-26T10:29:38.939Z"
   },
   {
    "duration": 184,
    "start_time": "2024-05-26T10:29:39.121Z"
   },
   {
    "duration": 9,
    "start_time": "2024-05-26T10:29:39.307Z"
   },
   {
    "duration": 9,
    "start_time": "2024-05-26T10:29:39.319Z"
   },
   {
    "duration": 204,
    "start_time": "2024-05-26T10:29:39.330Z"
   },
   {
    "duration": 179,
    "start_time": "2024-05-26T10:29:39.536Z"
   },
   {
    "duration": 11,
    "start_time": "2024-05-26T10:29:39.717Z"
   },
   {
    "duration": 12,
    "start_time": "2024-05-26T10:29:39.730Z"
   },
   {
    "duration": 42,
    "start_time": "2024-05-26T10:29:39.744Z"
   },
   {
    "duration": 18,
    "start_time": "2024-05-26T10:29:39.788Z"
   },
   {
    "duration": 25,
    "start_time": "2024-05-26T10:29:39.808Z"
   },
   {
    "duration": 3,
    "start_time": "2024-05-26T10:29:39.836Z"
   },
   {
    "duration": 76,
    "start_time": "2024-05-26T10:29:39.841Z"
   },
   {
    "duration": 59,
    "start_time": "2024-05-26T10:32:33.739Z"
   },
   {
    "duration": 77,
    "start_time": "2024-05-26T10:33:14.424Z"
   },
   {
    "duration": 112,
    "start_time": "2024-05-26T10:33:33.793Z"
   },
   {
    "duration": 7,
    "start_time": "2024-05-26T10:34:29.417Z"
   },
   {
    "duration": 5,
    "start_time": "2024-05-26T10:34:43.334Z"
   },
   {
    "duration": 430,
    "start_time": "2024-05-26T10:34:48.209Z"
   },
   {
    "duration": 276,
    "start_time": "2024-05-26T10:34:48.641Z"
   },
   {
    "duration": 4,
    "start_time": "2024-05-26T10:34:48.918Z"
   },
   {
    "duration": 73,
    "start_time": "2024-05-26T10:34:48.924Z"
   },
   {
    "duration": 17,
    "start_time": "2024-05-26T10:34:49.000Z"
   },
   {
    "duration": 16,
    "start_time": "2024-05-26T10:34:49.019Z"
   },
   {
    "duration": 21,
    "start_time": "2024-05-26T10:34:49.038Z"
   },
   {
    "duration": 40,
    "start_time": "2024-05-26T10:34:49.060Z"
   },
   {
    "duration": 8,
    "start_time": "2024-05-26T10:34:49.102Z"
   },
   {
    "duration": 56,
    "start_time": "2024-05-26T10:34:49.112Z"
   },
   {
    "duration": 29,
    "start_time": "2024-05-26T10:34:49.171Z"
   },
   {
    "duration": 6,
    "start_time": "2024-05-26T10:34:49.203Z"
   },
   {
    "duration": 8,
    "start_time": "2024-05-26T10:34:49.211Z"
   },
   {
    "duration": 6,
    "start_time": "2024-05-26T10:34:49.222Z"
   },
   {
    "duration": 9,
    "start_time": "2024-05-26T10:34:49.230Z"
   },
   {
    "duration": 6,
    "start_time": "2024-05-26T10:34:49.240Z"
   },
   {
    "duration": 36,
    "start_time": "2024-05-26T10:34:49.248Z"
   },
   {
    "duration": 7,
    "start_time": "2024-05-26T10:34:49.287Z"
   },
   {
    "duration": 8,
    "start_time": "2024-05-26T10:34:49.296Z"
   },
   {
    "duration": 11,
    "start_time": "2024-05-26T10:34:49.306Z"
   },
   {
    "duration": 16,
    "start_time": "2024-05-26T10:34:49.319Z"
   },
   {
    "duration": 47,
    "start_time": "2024-05-26T10:34:49.337Z"
   },
   {
    "duration": 212,
    "start_time": "2024-05-26T10:34:49.387Z"
   },
   {
    "duration": 8,
    "start_time": "2024-05-26T10:34:49.602Z"
   },
   {
    "duration": 156,
    "start_time": "2024-05-26T10:34:49.611Z"
   },
   {
    "duration": 373,
    "start_time": "2024-05-26T10:34:49.769Z"
   },
   {
    "duration": 11,
    "start_time": "2024-05-26T10:34:50.144Z"
   },
   {
    "duration": 48,
    "start_time": "2024-05-26T10:34:50.157Z"
   },
   {
    "duration": 296,
    "start_time": "2024-05-26T10:34:50.207Z"
   },
   {
    "duration": 10,
    "start_time": "2024-05-26T10:34:50.504Z"
   },
   {
    "duration": 164,
    "start_time": "2024-05-26T10:34:50.516Z"
   },
   {
    "duration": 12,
    "start_time": "2024-05-26T10:34:50.683Z"
   },
   {
    "duration": 185,
    "start_time": "2024-05-26T10:34:50.698Z"
   },
   {
    "duration": 18,
    "start_time": "2024-05-26T10:34:50.885Z"
   },
   {
    "duration": 169,
    "start_time": "2024-05-26T10:34:50.906Z"
   },
   {
    "duration": 188,
    "start_time": "2024-05-26T10:34:51.076Z"
   },
   {
    "duration": 24,
    "start_time": "2024-05-26T10:34:51.266Z"
   },
   {
    "duration": 30,
    "start_time": "2024-05-26T10:34:51.292Z"
   },
   {
    "duration": 28,
    "start_time": "2024-05-26T10:34:51.324Z"
   },
   {
    "duration": 30,
    "start_time": "2024-05-26T10:34:51.354Z"
   },
   {
    "duration": 42,
    "start_time": "2024-05-26T10:34:51.391Z"
   },
   {
    "duration": 27,
    "start_time": "2024-05-26T10:34:51.436Z"
   },
   {
    "duration": 26,
    "start_time": "2024-05-26T10:34:51.465Z"
   },
   {
    "duration": 19,
    "start_time": "2024-05-26T10:34:51.493Z"
   },
   {
    "duration": 225,
    "start_time": "2024-05-26T10:34:51.515Z"
   },
   {
    "duration": 245,
    "start_time": "2024-05-26T10:34:51.742Z"
   },
   {
    "duration": 13,
    "start_time": "2024-05-26T10:34:51.989Z"
   },
   {
    "duration": 15,
    "start_time": "2024-05-26T10:34:52.005Z"
   },
   {
    "duration": 223,
    "start_time": "2024-05-26T10:34:52.022Z"
   },
   {
    "duration": 173,
    "start_time": "2024-05-26T10:34:52.247Z"
   },
   {
    "duration": 9,
    "start_time": "2024-05-26T10:34:52.422Z"
   },
   {
    "duration": 10,
    "start_time": "2024-05-26T10:34:52.433Z"
   },
   {
    "duration": 48,
    "start_time": "2024-05-26T10:34:52.445Z"
   },
   {
    "duration": 13,
    "start_time": "2024-05-26T10:34:52.496Z"
   },
   {
    "duration": 20,
    "start_time": "2024-05-26T10:34:52.511Z"
   },
   {
    "duration": 7,
    "start_time": "2024-05-26T10:34:52.533Z"
   },
   {
    "duration": 35,
    "start_time": "2024-05-26T10:34:52.544Z"
   },
   {
    "duration": 5,
    "start_time": "2024-05-26T10:37:09.241Z"
   },
   {
    "duration": 1063,
    "start_time": "2024-05-26T10:39:24.744Z"
   },
   {
    "duration": 6,
    "start_time": "2024-05-26T10:47:34.037Z"
   },
   {
    "duration": 4,
    "start_time": "2024-05-26T10:50:34.068Z"
   },
   {
    "duration": 14,
    "start_time": "2024-05-26T10:52:36.355Z"
   },
   {
    "duration": 3,
    "start_time": "2024-05-26T10:53:27.466Z"
   },
   {
    "duration": 7,
    "start_time": "2024-05-26T11:13:39.490Z"
   },
   {
    "duration": 5,
    "start_time": "2024-05-26T11:15:43.721Z"
   },
   {
    "duration": 479,
    "start_time": "2024-05-26T11:15:48.475Z"
   },
   {
    "duration": 284,
    "start_time": "2024-05-26T11:15:48.956Z"
   },
   {
    "duration": 3,
    "start_time": "2024-05-26T11:15:49.242Z"
   },
   {
    "duration": 92,
    "start_time": "2024-05-26T11:15:49.247Z"
   },
   {
    "duration": 18,
    "start_time": "2024-05-26T11:15:49.341Z"
   },
   {
    "duration": 14,
    "start_time": "2024-05-26T11:15:49.361Z"
   },
   {
    "duration": 35,
    "start_time": "2024-05-26T11:15:49.377Z"
   },
   {
    "duration": 17,
    "start_time": "2024-05-26T11:15:49.414Z"
   },
   {
    "duration": 16,
    "start_time": "2024-05-26T11:15:49.433Z"
   },
   {
    "duration": 11,
    "start_time": "2024-05-26T11:15:49.452Z"
   },
   {
    "duration": 25,
    "start_time": "2024-05-26T11:15:49.465Z"
   },
   {
    "duration": 8,
    "start_time": "2024-05-26T11:15:49.492Z"
   },
   {
    "duration": 7,
    "start_time": "2024-05-26T11:15:49.503Z"
   },
   {
    "duration": 6,
    "start_time": "2024-05-26T11:15:49.512Z"
   },
   {
    "duration": 11,
    "start_time": "2024-05-26T11:15:49.519Z"
   },
   {
    "duration": 5,
    "start_time": "2024-05-26T11:15:49.531Z"
   },
   {
    "duration": 13,
    "start_time": "2024-05-26T11:15:49.538Z"
   },
   {
    "duration": 7,
    "start_time": "2024-05-26T11:15:49.584Z"
   },
   {
    "duration": 7,
    "start_time": "2024-05-26T11:15:49.594Z"
   },
   {
    "duration": 11,
    "start_time": "2024-05-26T11:15:49.603Z"
   },
   {
    "duration": 10,
    "start_time": "2024-05-26T11:15:49.616Z"
   },
   {
    "duration": 6,
    "start_time": "2024-05-26T11:15:49.628Z"
   },
   {
    "duration": 239,
    "start_time": "2024-05-26T11:15:49.636Z"
   },
   {
    "duration": 11,
    "start_time": "2024-05-26T11:15:49.877Z"
   },
   {
    "duration": 151,
    "start_time": "2024-05-26T11:15:49.890Z"
   },
   {
    "duration": 321,
    "start_time": "2024-05-26T11:15:50.043Z"
   },
   {
    "duration": 8,
    "start_time": "2024-05-26T11:15:50.366Z"
   },
   {
    "duration": 20,
    "start_time": "2024-05-26T11:15:50.377Z"
   },
   {
    "duration": 255,
    "start_time": "2024-05-26T11:15:50.399Z"
   },
   {
    "duration": 10,
    "start_time": "2024-05-26T11:15:50.655Z"
   },
   {
    "duration": 183,
    "start_time": "2024-05-26T11:15:50.666Z"
   },
   {
    "duration": 7,
    "start_time": "2024-05-26T11:15:50.851Z"
   },
   {
    "duration": 186,
    "start_time": "2024-05-26T11:15:50.860Z"
   },
   {
    "duration": 9,
    "start_time": "2024-05-26T11:15:51.048Z"
   },
   {
    "duration": 164,
    "start_time": "2024-05-26T11:15:51.059Z"
   },
   {
    "duration": 196,
    "start_time": "2024-05-26T11:15:51.225Z"
   },
   {
    "duration": 19,
    "start_time": "2024-05-26T11:15:51.423Z"
   },
   {
    "duration": 14,
    "start_time": "2024-05-26T11:15:51.444Z"
   },
   {
    "duration": 35,
    "start_time": "2024-05-26T11:15:51.460Z"
   },
   {
    "duration": 16,
    "start_time": "2024-05-26T11:15:51.498Z"
   },
   {
    "duration": 20,
    "start_time": "2024-05-26T11:15:51.515Z"
   },
   {
    "duration": 15,
    "start_time": "2024-05-26T11:15:51.537Z"
   },
   {
    "duration": 46,
    "start_time": "2024-05-26T11:15:51.554Z"
   },
   {
    "duration": 12,
    "start_time": "2024-05-26T11:15:51.602Z"
   },
   {
    "duration": 163,
    "start_time": "2024-05-26T11:15:51.616Z"
   },
   {
    "duration": 175,
    "start_time": "2024-05-26T11:15:51.782Z"
   },
   {
    "duration": 8,
    "start_time": "2024-05-26T11:15:51.959Z"
   },
   {
    "duration": 15,
    "start_time": "2024-05-26T11:15:51.981Z"
   },
   {
    "duration": 172,
    "start_time": "2024-05-26T11:15:51.998Z"
   },
   {
    "duration": 170,
    "start_time": "2024-05-26T11:15:52.172Z"
   },
   {
    "duration": 9,
    "start_time": "2024-05-26T11:15:52.344Z"
   },
   {
    "duration": 41,
    "start_time": "2024-05-26T11:15:52.355Z"
   },
   {
    "duration": 19,
    "start_time": "2024-05-26T11:15:52.398Z"
   },
   {
    "duration": 9,
    "start_time": "2024-05-26T11:15:52.419Z"
   },
   {
    "duration": 5,
    "start_time": "2024-05-26T11:15:52.430Z"
   },
   {
    "duration": 13,
    "start_time": "2024-05-26T11:15:52.436Z"
   },
   {
    "duration": 35,
    "start_time": "2024-05-26T11:15:52.451Z"
   },
   {
    "duration": 438,
    "start_time": "2024-05-26T11:19:59.835Z"
   },
   {
    "duration": 280,
    "start_time": "2024-05-26T11:20:00.275Z"
   },
   {
    "duration": 2,
    "start_time": "2024-05-26T11:20:00.557Z"
   },
   {
    "duration": 174,
    "start_time": "2024-05-26T11:20:00.561Z"
   },
   {
    "duration": 36,
    "start_time": "2024-05-26T11:20:00.737Z"
   },
   {
    "duration": 305,
    "start_time": "2024-05-26T11:20:00.775Z"
   },
   {
    "duration": 150,
    "start_time": "2024-05-26T11:20:01.082Z"
   },
   {
    "duration": 176,
    "start_time": "2024-05-26T11:20:01.234Z"
   },
   {
    "duration": 32,
    "start_time": "2024-05-26T11:20:01.412Z"
   },
   {
    "duration": 62,
    "start_time": "2024-05-26T11:20:01.447Z"
   },
   {
    "duration": 74,
    "start_time": "2024-05-26T11:20:01.510Z"
   },
   {
    "duration": 94,
    "start_time": "2024-05-26T11:20:01.586Z"
   },
   {
    "duration": 92,
    "start_time": "2024-05-26T11:20:01.682Z"
   },
   {
    "duration": 58,
    "start_time": "2024-05-26T11:20:01.775Z"
   },
   {
    "duration": 91,
    "start_time": "2024-05-26T11:20:01.834Z"
   },
   {
    "duration": 42,
    "start_time": "2024-05-26T11:20:01.927Z"
   },
   {
    "duration": 49,
    "start_time": "2024-05-26T11:20:01.971Z"
   },
   {
    "duration": 80,
    "start_time": "2024-05-26T11:20:02.022Z"
   },
   {
    "duration": 33,
    "start_time": "2024-05-26T11:20:02.104Z"
   },
   {
    "duration": 42,
    "start_time": "2024-05-26T11:20:02.139Z"
   },
   {
    "duration": 40,
    "start_time": "2024-05-26T11:20:02.182Z"
   },
   {
    "duration": 27,
    "start_time": "2024-05-26T11:20:02.224Z"
   },
   {
    "duration": 246,
    "start_time": "2024-05-26T11:20:02.253Z"
   },
   {
    "duration": 8,
    "start_time": "2024-05-26T11:20:02.501Z"
   },
   {
    "duration": 234,
    "start_time": "2024-05-26T11:20:02.511Z"
   },
   {
    "duration": 357,
    "start_time": "2024-05-26T11:20:02.748Z"
   },
   {
    "duration": 10,
    "start_time": "2024-05-26T11:20:03.107Z"
   },
   {
    "duration": 20,
    "start_time": "2024-05-26T11:20:03.122Z"
   },
   {
    "duration": 322,
    "start_time": "2024-05-26T11:20:03.144Z"
   },
   {
    "duration": 16,
    "start_time": "2024-05-26T11:20:03.468Z"
   },
   {
    "duration": 175,
    "start_time": "2024-05-26T11:20:03.487Z"
   },
   {
    "duration": 7,
    "start_time": "2024-05-26T11:20:03.664Z"
   },
   {
    "duration": 184,
    "start_time": "2024-05-26T11:20:03.673Z"
   },
   {
    "duration": 10,
    "start_time": "2024-05-26T11:20:03.859Z"
   },
   {
    "duration": 162,
    "start_time": "2024-05-26T11:20:03.870Z"
   },
   {
    "duration": 177,
    "start_time": "2024-05-26T11:20:04.034Z"
   },
   {
    "duration": 14,
    "start_time": "2024-05-26T11:20:04.213Z"
   },
   {
    "duration": 53,
    "start_time": "2024-05-26T11:20:04.228Z"
   },
   {
    "duration": 45,
    "start_time": "2024-05-26T11:20:04.284Z"
   },
   {
    "duration": 76,
    "start_time": "2024-05-26T11:20:04.330Z"
   },
   {
    "duration": 50,
    "start_time": "2024-05-26T11:20:04.408Z"
   },
   {
    "duration": 21,
    "start_time": "2024-05-26T11:20:04.461Z"
   },
   {
    "duration": 23,
    "start_time": "2024-05-26T11:20:04.484Z"
   },
   {
    "duration": 32,
    "start_time": "2024-05-26T11:20:04.509Z"
   },
   {
    "duration": 181,
    "start_time": "2024-05-26T11:20:04.543Z"
   },
   {
    "duration": 173,
    "start_time": "2024-05-26T11:20:04.726Z"
   },
   {
    "duration": 8,
    "start_time": "2024-05-26T11:20:04.902Z"
   },
   {
    "duration": 37,
    "start_time": "2024-05-26T11:20:04.912Z"
   },
   {
    "duration": 212,
    "start_time": "2024-05-26T11:20:04.950Z"
   },
   {
    "duration": 170,
    "start_time": "2024-05-26T11:20:05.164Z"
   },
   {
    "duration": 10,
    "start_time": "2024-05-26T11:20:05.335Z"
   },
   {
    "duration": 30,
    "start_time": "2024-05-26T11:20:05.347Z"
   },
   {
    "duration": 38,
    "start_time": "2024-05-26T11:20:05.379Z"
   },
   {
    "duration": 51,
    "start_time": "2024-05-26T11:20:05.419Z"
   },
   {
    "duration": 56,
    "start_time": "2024-05-26T11:20:05.472Z"
   },
   {
    "duration": 0,
    "start_time": "2024-05-26T11:20:05.530Z"
   },
   {
    "duration": 31,
    "start_time": "2024-05-26T11:20:53.991Z"
   },
   {
    "duration": 12,
    "start_time": "2024-05-26T11:21:21.858Z"
   },
   {
    "duration": 12,
    "start_time": "2024-05-26T11:21:59.327Z"
   },
   {
    "duration": 92,
    "start_time": "2024-05-26T11:35:45.462Z"
   },
   {
    "duration": 573,
    "start_time": "2024-05-26T11:36:16.744Z"
   },
   {
    "duration": 3,
    "start_time": "2024-05-26T11:37:27.152Z"
   },
   {
    "duration": 447,
    "start_time": "2024-05-26T11:37:39.809Z"
   },
   {
    "duration": 287,
    "start_time": "2024-05-26T11:37:40.258Z"
   },
   {
    "duration": 3,
    "start_time": "2024-05-26T11:37:40.547Z"
   },
   {
    "duration": 524,
    "start_time": "2024-05-26T11:37:40.554Z"
   },
   {
    "duration": 82,
    "start_time": "2024-05-26T11:37:41.080Z"
   },
   {
    "duration": 14,
    "start_time": "2024-05-26T11:37:41.164Z"
   },
   {
    "duration": 24,
    "start_time": "2024-05-26T11:37:41.180Z"
   },
   {
    "duration": 19,
    "start_time": "2024-05-26T11:37:41.206Z"
   },
   {
    "duration": 17,
    "start_time": "2024-05-26T11:37:41.227Z"
   },
   {
    "duration": 7,
    "start_time": "2024-05-26T11:37:41.248Z"
   },
   {
    "duration": 8,
    "start_time": "2024-05-26T11:37:41.257Z"
   },
   {
    "duration": 18,
    "start_time": "2024-05-26T11:37:41.267Z"
   },
   {
    "duration": 10,
    "start_time": "2024-05-26T11:37:41.287Z"
   },
   {
    "duration": 7,
    "start_time": "2024-05-26T11:37:41.299Z"
   },
   {
    "duration": 6,
    "start_time": "2024-05-26T11:37:41.308Z"
   },
   {
    "duration": 10,
    "start_time": "2024-05-26T11:37:41.316Z"
   },
   {
    "duration": 6,
    "start_time": "2024-05-26T11:37:41.328Z"
   },
   {
    "duration": 50,
    "start_time": "2024-05-26T11:37:41.336Z"
   },
   {
    "duration": 6,
    "start_time": "2024-05-26T11:37:41.389Z"
   },
   {
    "duration": 11,
    "start_time": "2024-05-26T11:37:41.397Z"
   },
   {
    "duration": 9,
    "start_time": "2024-05-26T11:37:41.410Z"
   },
   {
    "duration": 12,
    "start_time": "2024-05-26T11:37:41.421Z"
   },
   {
    "duration": 7,
    "start_time": "2024-05-26T11:37:41.435Z"
   },
   {
    "duration": 226,
    "start_time": "2024-05-26T11:37:41.443Z"
   },
   {
    "duration": 14,
    "start_time": "2024-05-26T11:37:41.671Z"
   },
   {
    "duration": 169,
    "start_time": "2024-05-26T11:37:41.688Z"
   },
   {
    "duration": 342,
    "start_time": "2024-05-26T11:37:41.860Z"
   },
   {
    "duration": 8,
    "start_time": "2024-05-26T11:37:42.206Z"
   },
   {
    "duration": 10,
    "start_time": "2024-05-26T11:37:42.215Z"
   },
   {
    "duration": 224,
    "start_time": "2024-05-26T11:37:42.226Z"
   },
   {
    "duration": 12,
    "start_time": "2024-05-26T11:37:42.452Z"
   },
   {
    "duration": 179,
    "start_time": "2024-05-26T11:37:42.468Z"
   },
   {
    "duration": 7,
    "start_time": "2024-05-26T11:37:42.649Z"
   },
   {
    "duration": 164,
    "start_time": "2024-05-26T11:37:42.657Z"
   },
   {
    "duration": 10,
    "start_time": "2024-05-26T11:37:42.823Z"
   },
   {
    "duration": 149,
    "start_time": "2024-05-26T11:37:42.834Z"
   },
   {
    "duration": 176,
    "start_time": "2024-05-26T11:37:42.986Z"
   },
   {
    "duration": 14,
    "start_time": "2024-05-26T11:37:43.164Z"
   },
   {
    "duration": 21,
    "start_time": "2024-05-26T11:37:43.182Z"
   },
   {
    "duration": 14,
    "start_time": "2024-05-26T11:37:43.205Z"
   },
   {
    "duration": 18,
    "start_time": "2024-05-26T11:37:43.221Z"
   },
   {
    "duration": 52,
    "start_time": "2024-05-26T11:37:43.241Z"
   },
   {
    "duration": 106,
    "start_time": "2024-05-26T11:37:43.295Z"
   },
   {
    "duration": 17,
    "start_time": "2024-05-26T11:37:43.403Z"
   },
   {
    "duration": 17,
    "start_time": "2024-05-26T11:37:43.422Z"
   },
   {
    "duration": 172,
    "start_time": "2024-05-26T11:37:43.441Z"
   },
   {
    "duration": 165,
    "start_time": "2024-05-26T11:37:43.615Z"
   },
   {
    "duration": 13,
    "start_time": "2024-05-26T11:37:43.782Z"
   },
   {
    "duration": 12,
    "start_time": "2024-05-26T11:37:43.797Z"
   },
   {
    "duration": 214,
    "start_time": "2024-05-26T11:37:43.811Z"
   },
   {
    "duration": 174,
    "start_time": "2024-05-26T11:37:44.028Z"
   },
   {
    "duration": 13,
    "start_time": "2024-05-26T11:37:44.204Z"
   },
   {
    "duration": 10,
    "start_time": "2024-05-26T11:37:44.219Z"
   },
   {
    "duration": 3,
    "start_time": "2024-05-26T11:37:44.231Z"
   },
   {
    "duration": 29,
    "start_time": "2024-05-26T11:37:44.235Z"
   },
   {
    "duration": 44,
    "start_time": "2024-05-26T11:37:44.266Z"
   },
   {
    "duration": 13,
    "start_time": "2024-05-26T11:37:44.312Z"
   },
   {
    "duration": 5,
    "start_time": "2024-05-26T11:37:44.327Z"
   },
   {
    "duration": 5,
    "start_time": "2024-05-26T11:40:18.800Z"
   },
   {
    "duration": 4,
    "start_time": "2024-05-26T11:40:35.999Z"
   },
   {
    "duration": 4,
    "start_time": "2024-05-26T11:41:29.659Z"
   },
   {
    "duration": 5,
    "start_time": "2024-05-26T11:41:34.809Z"
   },
   {
    "duration": 5,
    "start_time": "2024-05-26T11:43:17.418Z"
   },
   {
    "duration": 4,
    "start_time": "2024-05-26T11:43:19.002Z"
   },
   {
    "duration": 6,
    "start_time": "2024-05-26T11:43:22.181Z"
   },
   {
    "duration": 466,
    "start_time": "2024-05-26T11:43:27.394Z"
   },
   {
    "duration": 380,
    "start_time": "2024-05-26T11:43:27.863Z"
   },
   {
    "duration": 3,
    "start_time": "2024-05-26T11:43:28.245Z"
   },
   {
    "duration": 517,
    "start_time": "2024-05-26T11:43:28.281Z"
   },
   {
    "duration": 69,
    "start_time": "2024-05-26T11:43:28.800Z"
   },
   {
    "duration": 14,
    "start_time": "2024-05-26T11:43:28.871Z"
   },
   {
    "duration": 16,
    "start_time": "2024-05-26T11:43:28.887Z"
   },
   {
    "duration": 9,
    "start_time": "2024-05-26T11:43:28.905Z"
   },
   {
    "duration": 15,
    "start_time": "2024-05-26T11:43:28.916Z"
   },
   {
    "duration": 6,
    "start_time": "2024-05-26T11:43:28.935Z"
   },
   {
    "duration": 8,
    "start_time": "2024-05-26T11:43:28.942Z"
   },
   {
    "duration": 44,
    "start_time": "2024-05-26T11:43:28.951Z"
   },
   {
    "duration": 7,
    "start_time": "2024-05-26T11:43:28.997Z"
   },
   {
    "duration": 7,
    "start_time": "2024-05-26T11:43:29.006Z"
   },
   {
    "duration": 7,
    "start_time": "2024-05-26T11:43:29.014Z"
   },
   {
    "duration": 8,
    "start_time": "2024-05-26T11:43:29.022Z"
   },
   {
    "duration": 4,
    "start_time": "2024-05-26T11:43:29.032Z"
   },
   {
    "duration": 46,
    "start_time": "2024-05-26T11:43:29.038Z"
   },
   {
    "duration": 6,
    "start_time": "2024-05-26T11:43:29.088Z"
   },
   {
    "duration": 5,
    "start_time": "2024-05-26T11:43:29.099Z"
   },
   {
    "duration": 11,
    "start_time": "2024-05-26T11:43:29.106Z"
   },
   {
    "duration": 20,
    "start_time": "2024-05-26T11:43:29.118Z"
   },
   {
    "duration": 7,
    "start_time": "2024-05-26T11:43:29.140Z"
   },
   {
    "duration": 210,
    "start_time": "2024-05-26T11:43:29.149Z"
   },
   {
    "duration": 7,
    "start_time": "2024-05-26T11:43:29.361Z"
   },
   {
    "duration": 154,
    "start_time": "2024-05-26T11:43:29.369Z"
   },
   {
    "duration": 317,
    "start_time": "2024-05-26T11:43:29.525Z"
   },
   {
    "duration": 9,
    "start_time": "2024-05-26T11:43:29.847Z"
   },
   {
    "duration": 28,
    "start_time": "2024-05-26T11:43:29.859Z"
   },
   {
    "duration": 203,
    "start_time": "2024-05-26T11:43:29.890Z"
   },
   {
    "duration": 13,
    "start_time": "2024-05-26T11:43:30.096Z"
   },
   {
    "duration": 189,
    "start_time": "2024-05-26T11:43:30.110Z"
   },
   {
    "duration": 8,
    "start_time": "2024-05-26T11:43:30.301Z"
   },
   {
    "duration": 216,
    "start_time": "2024-05-26T11:43:30.311Z"
   },
   {
    "duration": 12,
    "start_time": "2024-05-26T11:43:30.529Z"
   },
   {
    "duration": 218,
    "start_time": "2024-05-26T11:43:30.543Z"
   },
   {
    "duration": 174,
    "start_time": "2024-05-26T11:43:30.763Z"
   },
   {
    "duration": 14,
    "start_time": "2024-05-26T11:43:30.939Z"
   },
   {
    "duration": 47,
    "start_time": "2024-05-26T11:43:30.955Z"
   },
   {
    "duration": 41,
    "start_time": "2024-05-26T11:43:31.004Z"
   },
   {
    "duration": 32,
    "start_time": "2024-05-26T11:43:31.046Z"
   },
   {
    "duration": 85,
    "start_time": "2024-05-26T11:43:31.080Z"
   },
   {
    "duration": 105,
    "start_time": "2024-05-26T11:43:31.166Z"
   },
   {
    "duration": 24,
    "start_time": "2024-05-26T11:43:31.273Z"
   },
   {
    "duration": 55,
    "start_time": "2024-05-26T11:43:31.300Z"
   },
   {
    "duration": 190,
    "start_time": "2024-05-26T11:43:31.356Z"
   },
   {
    "duration": 187,
    "start_time": "2024-05-26T11:43:31.548Z"
   },
   {
    "duration": 11,
    "start_time": "2024-05-26T11:43:31.738Z"
   },
   {
    "duration": 10,
    "start_time": "2024-05-26T11:43:31.752Z"
   },
   {
    "duration": 190,
    "start_time": "2024-05-26T11:43:31.764Z"
   },
   {
    "duration": 168,
    "start_time": "2024-05-26T11:43:31.956Z"
   },
   {
    "duration": 10,
    "start_time": "2024-05-26T11:43:32.126Z"
   },
   {
    "duration": 36,
    "start_time": "2024-05-26T11:43:32.137Z"
   },
   {
    "duration": 4,
    "start_time": "2024-05-26T11:43:32.175Z"
   },
   {
    "duration": 16,
    "start_time": "2024-05-26T11:43:32.181Z"
   },
   {
    "duration": 27,
    "start_time": "2024-05-26T11:43:32.199Z"
   },
   {
    "duration": 11,
    "start_time": "2024-05-26T11:43:32.228Z"
   },
   {
    "duration": 5,
    "start_time": "2024-05-26T11:43:32.241Z"
   },
   {
    "duration": 4,
    "start_time": "2024-05-26T11:43:32.247Z"
   },
   {
    "duration": 5,
    "start_time": "2024-05-26T11:43:37.145Z"
   },
   {
    "duration": 5,
    "start_time": "2024-05-26T11:45:20.924Z"
   },
   {
    "duration": 11,
    "start_time": "2024-05-26T11:45:23.579Z"
   },
   {
    "duration": 450,
    "start_time": "2024-05-26T12:58:06.398Z"
   },
   {
    "duration": 268,
    "start_time": "2024-05-26T12:58:06.849Z"
   },
   {
    "duration": 3,
    "start_time": "2024-05-26T12:58:07.119Z"
   },
   {
    "duration": 546,
    "start_time": "2024-05-26T12:58:07.123Z"
   },
   {
    "duration": 82,
    "start_time": "2024-05-26T12:58:07.672Z"
   },
   {
    "duration": 16,
    "start_time": "2024-05-26T12:58:07.757Z"
   },
   {
    "duration": 16,
    "start_time": "2024-05-26T12:58:07.776Z"
   },
   {
    "duration": 14,
    "start_time": "2024-05-26T12:58:07.795Z"
   },
   {
    "duration": 14,
    "start_time": "2024-05-26T12:58:07.810Z"
   },
   {
    "duration": 32,
    "start_time": "2024-05-26T12:58:07.826Z"
   },
   {
    "duration": 22,
    "start_time": "2024-05-26T12:58:07.860Z"
   },
   {
    "duration": 21,
    "start_time": "2024-05-26T12:58:07.886Z"
   },
   {
    "duration": 9,
    "start_time": "2024-05-26T12:58:07.909Z"
   },
   {
    "duration": 10,
    "start_time": "2024-05-26T12:58:07.920Z"
   },
   {
    "duration": 6,
    "start_time": "2024-05-26T12:58:07.932Z"
   },
   {
    "duration": 9,
    "start_time": "2024-05-26T12:58:07.940Z"
   },
   {
    "duration": 32,
    "start_time": "2024-05-26T12:58:07.950Z"
   },
   {
    "duration": 9,
    "start_time": "2024-05-26T12:58:07.984Z"
   },
   {
    "duration": 7,
    "start_time": "2024-05-26T12:58:07.995Z"
   },
   {
    "duration": 12,
    "start_time": "2024-05-26T12:58:08.004Z"
   },
   {
    "duration": 13,
    "start_time": "2024-05-26T12:58:08.018Z"
   },
   {
    "duration": 11,
    "start_time": "2024-05-26T12:58:08.033Z"
   },
   {
    "duration": 47,
    "start_time": "2024-05-26T12:58:08.046Z"
   },
   {
    "duration": 205,
    "start_time": "2024-05-26T12:58:08.095Z"
   },
   {
    "duration": 6,
    "start_time": "2024-05-26T12:58:08.301Z"
   },
   {
    "duration": 142,
    "start_time": "2024-05-26T12:58:08.309Z"
   },
   {
    "duration": 317,
    "start_time": "2024-05-26T12:58:08.453Z"
   },
   {
    "duration": 8,
    "start_time": "2024-05-26T12:58:08.774Z"
   },
   {
    "duration": 19,
    "start_time": "2024-05-26T12:58:08.785Z"
   },
   {
    "duration": 196,
    "start_time": "2024-05-26T12:58:08.805Z"
   },
   {
    "duration": 9,
    "start_time": "2024-05-26T12:58:09.003Z"
   },
   {
    "duration": 169,
    "start_time": "2024-05-26T12:58:09.013Z"
   },
   {
    "duration": 12,
    "start_time": "2024-05-26T12:58:09.185Z"
   },
   {
    "duration": 207,
    "start_time": "2024-05-26T12:58:09.198Z"
   },
   {
    "duration": 10,
    "start_time": "2024-05-26T12:58:09.407Z"
   },
   {
    "duration": 145,
    "start_time": "2024-05-26T12:58:09.418Z"
   },
   {
    "duration": 192,
    "start_time": "2024-05-26T12:58:09.565Z"
   },
   {
    "duration": 14,
    "start_time": "2024-05-26T12:58:09.758Z"
   },
   {
    "duration": 23,
    "start_time": "2024-05-26T12:58:09.774Z"
   },
   {
    "duration": 12,
    "start_time": "2024-05-26T12:58:09.799Z"
   },
   {
    "duration": 31,
    "start_time": "2024-05-26T12:58:09.813Z"
   },
   {
    "duration": 20,
    "start_time": "2024-05-26T12:58:09.846Z"
   },
   {
    "duration": 120,
    "start_time": "2024-05-26T12:58:09.868Z"
   },
   {
    "duration": 17,
    "start_time": "2024-05-26T12:58:09.991Z"
   },
   {
    "duration": 13,
    "start_time": "2024-05-26T12:58:10.011Z"
   },
   {
    "duration": 169,
    "start_time": "2024-05-26T12:58:10.026Z"
   },
   {
    "duration": 163,
    "start_time": "2024-05-26T12:58:10.197Z"
   },
   {
    "duration": 9,
    "start_time": "2024-05-26T12:58:10.361Z"
   },
   {
    "duration": 21,
    "start_time": "2024-05-26T12:58:10.371Z"
   },
   {
    "duration": 195,
    "start_time": "2024-05-26T12:58:10.395Z"
   },
   {
    "duration": 148,
    "start_time": "2024-05-26T12:58:10.593Z"
   },
   {
    "duration": 8,
    "start_time": "2024-05-26T12:58:10.742Z"
   },
   {
    "duration": 41,
    "start_time": "2024-05-26T12:58:10.752Z"
   },
   {
    "duration": 5,
    "start_time": "2024-05-26T12:58:10.796Z"
   },
   {
    "duration": 7,
    "start_time": "2024-05-26T12:58:10.803Z"
   },
   {
    "duration": 22,
    "start_time": "2024-05-26T12:58:10.811Z"
   },
   {
    "duration": 11,
    "start_time": "2024-05-26T12:58:10.835Z"
   },
   {
    "duration": 4,
    "start_time": "2024-05-26T12:58:10.848Z"
   },
   {
    "duration": 6,
    "start_time": "2024-05-26T12:58:10.883Z"
   },
   {
    "duration": 5,
    "start_time": "2024-05-26T12:58:10.894Z"
   },
   {
    "duration": 5,
    "start_time": "2024-05-26T13:00:31.613Z"
   },
   {
    "duration": 459,
    "start_time": "2024-05-26T14:19:23.380Z"
   },
   {
    "duration": 492,
    "start_time": "2024-05-26T14:19:23.841Z"
   },
   {
    "duration": 3,
    "start_time": "2024-05-26T14:19:24.334Z"
   },
   {
    "duration": 582,
    "start_time": "2024-05-26T14:19:24.339Z"
   },
   {
    "duration": 217,
    "start_time": "2024-05-26T14:19:24.923Z"
   },
   {
    "duration": 18,
    "start_time": "2024-05-26T14:19:25.142Z"
   },
   {
    "duration": 15,
    "start_time": "2024-05-26T14:19:25.162Z"
   },
   {
    "duration": 21,
    "start_time": "2024-05-26T14:19:25.178Z"
   },
   {
    "duration": 15,
    "start_time": "2024-05-26T14:19:25.200Z"
   },
   {
    "duration": 7,
    "start_time": "2024-05-26T14:19:25.218Z"
   },
   {
    "duration": 7,
    "start_time": "2024-05-26T14:19:25.227Z"
   },
   {
    "duration": 11,
    "start_time": "2024-05-26T14:19:25.235Z"
   },
   {
    "duration": 6,
    "start_time": "2024-05-26T14:19:25.248Z"
   },
   {
    "duration": 11,
    "start_time": "2024-05-26T14:19:25.284Z"
   },
   {
    "duration": 7,
    "start_time": "2024-05-26T14:19:25.298Z"
   },
   {
    "duration": 8,
    "start_time": "2024-05-26T14:19:25.307Z"
   },
   {
    "duration": 5,
    "start_time": "2024-05-26T14:19:25.316Z"
   },
   {
    "duration": 11,
    "start_time": "2024-05-26T14:19:25.323Z"
   },
   {
    "duration": 11,
    "start_time": "2024-05-26T14:19:25.336Z"
   },
   {
    "duration": 33,
    "start_time": "2024-05-26T14:19:25.349Z"
   },
   {
    "duration": 18,
    "start_time": "2024-05-26T14:19:25.385Z"
   },
   {
    "duration": 9,
    "start_time": "2024-05-26T14:19:25.405Z"
   },
   {
    "duration": 9,
    "start_time": "2024-05-26T14:19:25.416Z"
   },
   {
    "duration": 216,
    "start_time": "2024-05-26T14:19:25.426Z"
   },
   {
    "duration": 6,
    "start_time": "2024-05-26T14:19:25.643Z"
   },
   {
    "duration": 155,
    "start_time": "2024-05-26T14:19:25.651Z"
   },
   {
    "duration": 342,
    "start_time": "2024-05-26T14:19:25.807Z"
   },
   {
    "duration": 8,
    "start_time": "2024-05-26T14:19:26.153Z"
   },
   {
    "duration": 21,
    "start_time": "2024-05-26T14:19:26.163Z"
   },
   {
    "duration": 191,
    "start_time": "2024-05-26T14:19:26.186Z"
   },
   {
    "duration": 15,
    "start_time": "2024-05-26T14:19:26.378Z"
   },
   {
    "duration": 180,
    "start_time": "2024-05-26T14:19:26.395Z"
   },
   {
    "duration": 14,
    "start_time": "2024-05-26T14:19:26.577Z"
   },
   {
    "duration": 168,
    "start_time": "2024-05-26T14:19:26.593Z"
   },
   {
    "duration": 9,
    "start_time": "2024-05-26T14:19:26.763Z"
   },
   {
    "duration": 153,
    "start_time": "2024-05-26T14:19:26.781Z"
   },
   {
    "duration": 173,
    "start_time": "2024-05-26T14:19:26.935Z"
   },
   {
    "duration": 13,
    "start_time": "2024-05-26T14:19:27.110Z"
   },
   {
    "duration": 10,
    "start_time": "2024-05-26T14:19:27.125Z"
   },
   {
    "duration": 11,
    "start_time": "2024-05-26T14:19:27.136Z"
   },
   {
    "duration": 40,
    "start_time": "2024-05-26T14:19:27.148Z"
   },
   {
    "duration": 22,
    "start_time": "2024-05-26T14:19:27.190Z"
   },
   {
    "duration": 113,
    "start_time": "2024-05-26T14:19:27.214Z"
   },
   {
    "duration": 21,
    "start_time": "2024-05-26T14:19:27.329Z"
   },
   {
    "duration": 13,
    "start_time": "2024-05-26T14:19:27.351Z"
   },
   {
    "duration": 155,
    "start_time": "2024-05-26T14:19:27.366Z"
   },
   {
    "duration": 159,
    "start_time": "2024-05-26T14:19:27.523Z"
   },
   {
    "duration": 13,
    "start_time": "2024-05-26T14:19:27.684Z"
   },
   {
    "duration": 9,
    "start_time": "2024-05-26T14:19:27.699Z"
   },
   {
    "duration": 208,
    "start_time": "2024-05-26T14:19:27.709Z"
   },
   {
    "duration": 168,
    "start_time": "2024-05-26T14:19:27.919Z"
   },
   {
    "duration": 13,
    "start_time": "2024-05-26T14:19:28.089Z"
   },
   {
    "duration": 16,
    "start_time": "2024-05-26T14:19:28.103Z"
   },
   {
    "duration": 16,
    "start_time": "2024-05-26T14:19:28.121Z"
   },
   {
    "duration": 8,
    "start_time": "2024-05-26T14:19:28.139Z"
   },
   {
    "duration": 52,
    "start_time": "2024-05-26T14:19:28.148Z"
   },
   {
    "duration": 10,
    "start_time": "2024-05-26T14:19:28.202Z"
   },
   {
    "duration": 12,
    "start_time": "2024-05-26T14:19:28.213Z"
   },
   {
    "duration": 5,
    "start_time": "2024-05-26T14:19:28.226Z"
   },
   {
    "duration": 4,
    "start_time": "2024-05-26T14:19:28.233Z"
   },
   {
    "duration": 7,
    "start_time": "2024-05-26T14:19:28.239Z"
   },
   {
    "duration": 67,
    "start_time": "2024-05-26T14:19:28.247Z"
   },
   {
    "duration": 1126,
    "start_time": "2024-05-26T14:21:14.870Z"
   },
   {
    "duration": 1009,
    "start_time": "2024-05-26T14:21:59.190Z"
   },
   {
    "duration": 3,
    "start_time": "2024-05-26T14:22:10.541Z"
   },
   {
    "duration": 5,
    "start_time": "2024-05-26T14:51:06.001Z"
   },
   {
    "duration": 3,
    "start_time": "2024-05-26T14:51:09.946Z"
   },
   {
    "duration": 5,
    "start_time": "2024-05-26T14:55:04.947Z"
   },
   {
    "duration": 12,
    "start_time": "2024-05-26T14:56:02.615Z"
   },
   {
    "duration": 17,
    "start_time": "2024-05-26T14:56:32.225Z"
   },
   {
    "duration": 17,
    "start_time": "2024-05-26T14:59:23.952Z"
   },
   {
    "duration": 17,
    "start_time": "2024-05-26T14:59:57.856Z"
   },
   {
    "duration": 17,
    "start_time": "2024-05-26T15:00:06.694Z"
   },
   {
    "duration": 5,
    "start_time": "2024-05-26T15:00:16.606Z"
   },
   {
    "duration": 50,
    "start_time": "2024-05-26T15:03:02.788Z"
   },
   {
    "duration": 18,
    "start_time": "2024-05-26T15:03:29.709Z"
   },
   {
    "duration": 32,
    "start_time": "2024-05-26T15:04:28.932Z"
   },
   {
    "duration": 25,
    "start_time": "2024-05-26T15:04:33.890Z"
   },
   {
    "duration": 22,
    "start_time": "2024-05-26T15:08:24.622Z"
   },
   {
    "duration": 1010,
    "start_time": "2024-05-26T15:28:34.059Z"
   },
   {
    "duration": 447,
    "start_time": "2024-05-26T15:28:49.110Z"
   },
   {
    "duration": 282,
    "start_time": "2024-05-26T15:28:49.559Z"
   },
   {
    "duration": 2,
    "start_time": "2024-05-26T15:28:49.843Z"
   },
   {
    "duration": 519,
    "start_time": "2024-05-26T15:28:49.847Z"
   },
   {
    "duration": 72,
    "start_time": "2024-05-26T15:28:50.368Z"
   },
   {
    "duration": 13,
    "start_time": "2024-05-26T15:28:50.442Z"
   },
   {
    "duration": 12,
    "start_time": "2024-05-26T15:28:50.456Z"
   },
   {
    "duration": 14,
    "start_time": "2024-05-26T15:28:50.469Z"
   },
   {
    "duration": 17,
    "start_time": "2024-05-26T15:28:50.485Z"
   },
   {
    "duration": 8,
    "start_time": "2024-05-26T15:28:50.504Z"
   },
   {
    "duration": 12,
    "start_time": "2024-05-26T15:28:50.514Z"
   },
   {
    "duration": 10,
    "start_time": "2024-05-26T15:28:50.529Z"
   },
   {
    "duration": 6,
    "start_time": "2024-05-26T15:28:50.541Z"
   },
   {
    "duration": 12,
    "start_time": "2024-05-26T15:28:50.587Z"
   },
   {
    "duration": 7,
    "start_time": "2024-05-26T15:28:50.601Z"
   },
   {
    "duration": 18,
    "start_time": "2024-05-26T15:28:50.609Z"
   },
   {
    "duration": 28,
    "start_time": "2024-05-26T15:28:50.629Z"
   },
   {
    "duration": 14,
    "start_time": "2024-05-26T15:28:50.659Z"
   },
   {
    "duration": 5,
    "start_time": "2024-05-26T15:28:50.675Z"
   },
   {
    "duration": 16,
    "start_time": "2024-05-26T15:28:50.682Z"
   },
   {
    "duration": 9,
    "start_time": "2024-05-26T15:28:50.700Z"
   },
   {
    "duration": 9,
    "start_time": "2024-05-26T15:28:50.711Z"
   },
   {
    "duration": 11,
    "start_time": "2024-05-26T15:28:50.722Z"
   },
   {
    "duration": 217,
    "start_time": "2024-05-26T15:28:50.735Z"
   },
   {
    "duration": 6,
    "start_time": "2024-05-26T15:28:50.954Z"
   },
   {
    "duration": 158,
    "start_time": "2024-05-26T15:28:50.961Z"
   },
   {
    "duration": 309,
    "start_time": "2024-05-26T15:28:51.121Z"
   },
   {
    "duration": 8,
    "start_time": "2024-05-26T15:28:51.432Z"
   },
   {
    "duration": 34,
    "start_time": "2024-05-26T15:28:51.442Z"
   },
   {
    "duration": 180,
    "start_time": "2024-05-26T15:28:51.478Z"
   },
   {
    "duration": 9,
    "start_time": "2024-05-26T15:28:51.660Z"
   },
   {
    "duration": 166,
    "start_time": "2024-05-26T15:28:51.671Z"
   },
   {
    "duration": 8,
    "start_time": "2024-05-26T15:28:51.839Z"
   },
   {
    "duration": 200,
    "start_time": "2024-05-26T15:28:51.849Z"
   },
   {
    "duration": 10,
    "start_time": "2024-05-26T15:28:52.050Z"
   },
   {
    "duration": 155,
    "start_time": "2024-05-26T15:28:52.061Z"
   },
   {
    "duration": 188,
    "start_time": "2024-05-26T15:28:52.217Z"
   },
   {
    "duration": 14,
    "start_time": "2024-05-26T15:28:52.407Z"
   },
   {
    "duration": 14,
    "start_time": "2024-05-26T15:28:52.423Z"
   },
   {
    "duration": 11,
    "start_time": "2024-05-26T15:28:52.439Z"
   },
   {
    "duration": 31,
    "start_time": "2024-05-26T15:28:52.454Z"
   },
   {
    "duration": 63,
    "start_time": "2024-05-26T15:28:52.486Z"
   },
   {
    "duration": 25,
    "start_time": "2024-05-26T15:28:52.552Z"
   },
   {
    "duration": 115,
    "start_time": "2024-05-26T15:28:52.579Z"
   },
   {
    "duration": 16,
    "start_time": "2024-05-26T15:28:52.697Z"
   },
   {
    "duration": 158,
    "start_time": "2024-05-26T15:28:52.714Z"
   },
   {
    "duration": 180,
    "start_time": "2024-05-26T15:28:52.874Z"
   },
   {
    "duration": 10,
    "start_time": "2024-05-26T15:28:53.056Z"
   },
   {
    "duration": 25,
    "start_time": "2024-05-26T15:28:53.068Z"
   },
   {
    "duration": 179,
    "start_time": "2024-05-26T15:28:53.096Z"
   },
   {
    "duration": 159,
    "start_time": "2024-05-26T15:28:53.276Z"
   },
   {
    "duration": 8,
    "start_time": "2024-05-26T15:28:53.437Z"
   },
   {
    "duration": 9,
    "start_time": "2024-05-26T15:28:53.446Z"
   },
   {
    "duration": 3,
    "start_time": "2024-05-26T15:28:53.457Z"
   },
   {
    "duration": 24,
    "start_time": "2024-05-26T15:28:53.462Z"
   },
   {
    "duration": 25,
    "start_time": "2024-05-26T15:28:53.488Z"
   },
   {
    "duration": 11,
    "start_time": "2024-05-26T15:28:53.514Z"
   },
   {
    "duration": 5,
    "start_time": "2024-05-26T15:28:53.526Z"
   },
   {
    "duration": 5,
    "start_time": "2024-05-26T15:28:53.532Z"
   },
   {
    "duration": 4,
    "start_time": "2024-05-26T15:28:53.538Z"
   },
   {
    "duration": 40,
    "start_time": "2024-05-26T15:28:53.544Z"
   },
   {
    "duration": 6,
    "start_time": "2024-05-26T15:28:53.585Z"
   },
   {
    "duration": 31,
    "start_time": "2024-05-26T15:28:53.594Z"
   },
   {
    "duration": 8,
    "start_time": "2024-05-26T15:28:53.627Z"
   },
   {
    "duration": 76,
    "start_time": "2024-05-26T15:28:53.637Z"
   },
   {
    "duration": 7,
    "start_time": "2024-05-26T15:31:45.757Z"
   },
   {
    "duration": 4,
    "start_time": "2024-05-26T15:32:00.481Z"
   },
   {
    "duration": 5,
    "start_time": "2024-05-26T15:34:27.566Z"
   },
   {
    "duration": 5,
    "start_time": "2024-05-26T15:34:44.915Z"
   },
   {
    "duration": 438,
    "start_time": "2024-05-26T15:36:59.614Z"
   },
   {
    "duration": 289,
    "start_time": "2024-05-26T15:37:00.054Z"
   },
   {
    "duration": 2,
    "start_time": "2024-05-26T15:37:00.345Z"
   },
   {
    "duration": 561,
    "start_time": "2024-05-26T15:37:00.349Z"
   },
   {
    "duration": 70,
    "start_time": "2024-05-26T15:37:00.913Z"
   },
   {
    "duration": 19,
    "start_time": "2024-05-26T15:37:00.986Z"
   },
   {
    "duration": 43,
    "start_time": "2024-05-26T15:37:01.007Z"
   },
   {
    "duration": 56,
    "start_time": "2024-05-26T15:37:01.052Z"
   },
   {
    "duration": 60,
    "start_time": "2024-05-26T15:37:01.110Z"
   },
   {
    "duration": 34,
    "start_time": "2024-05-26T15:37:01.172Z"
   },
   {
    "duration": 42,
    "start_time": "2024-05-26T15:37:01.208Z"
   },
   {
    "duration": 54,
    "start_time": "2024-05-26T15:37:01.252Z"
   },
   {
    "duration": 36,
    "start_time": "2024-05-26T15:37:01.309Z"
   },
   {
    "duration": 51,
    "start_time": "2024-05-26T15:37:01.349Z"
   },
   {
    "duration": 49,
    "start_time": "2024-05-26T15:37:01.402Z"
   },
   {
    "duration": 48,
    "start_time": "2024-05-26T15:37:01.453Z"
   },
   {
    "duration": 23,
    "start_time": "2024-05-26T15:37:01.503Z"
   },
   {
    "duration": 87,
    "start_time": "2024-05-26T15:37:01.528Z"
   },
   {
    "duration": 126,
    "start_time": "2024-05-26T15:37:01.617Z"
   },
   {
    "duration": 22,
    "start_time": "2024-05-26T15:37:01.745Z"
   },
   {
    "duration": 39,
    "start_time": "2024-05-26T15:37:01.769Z"
   },
   {
    "duration": 33,
    "start_time": "2024-05-26T15:37:01.810Z"
   },
   {
    "duration": 32,
    "start_time": "2024-05-26T15:37:01.845Z"
   },
   {
    "duration": 253,
    "start_time": "2024-05-26T15:37:01.881Z"
   },
   {
    "duration": 6,
    "start_time": "2024-05-26T15:37:02.135Z"
   },
   {
    "duration": 156,
    "start_time": "2024-05-26T15:37:02.142Z"
   },
   {
    "duration": 326,
    "start_time": "2024-05-26T15:37:02.300Z"
   },
   {
    "duration": 8,
    "start_time": "2024-05-26T15:37:02.628Z"
   },
   {
    "duration": 32,
    "start_time": "2024-05-26T15:37:02.637Z"
   },
   {
    "duration": 187,
    "start_time": "2024-05-26T15:37:02.671Z"
   },
   {
    "duration": 9,
    "start_time": "2024-05-26T15:37:02.859Z"
   },
   {
    "duration": 170,
    "start_time": "2024-05-26T15:37:02.869Z"
   },
   {
    "duration": 6,
    "start_time": "2024-05-26T15:37:03.041Z"
   },
   {
    "duration": 182,
    "start_time": "2024-05-26T15:37:03.049Z"
   },
   {
    "duration": 10,
    "start_time": "2024-05-26T15:37:03.233Z"
   },
   {
    "duration": 166,
    "start_time": "2024-05-26T15:37:03.245Z"
   },
   {
    "duration": 164,
    "start_time": "2024-05-26T15:37:03.413Z"
   },
   {
    "duration": 25,
    "start_time": "2024-05-26T15:37:03.579Z"
   },
   {
    "duration": 18,
    "start_time": "2024-05-26T15:37:03.606Z"
   },
   {
    "duration": 10,
    "start_time": "2024-05-26T15:37:03.626Z"
   },
   {
    "duration": 12,
    "start_time": "2024-05-26T15:37:03.641Z"
   },
   {
    "duration": 53,
    "start_time": "2024-05-26T15:37:03.655Z"
   },
   {
    "duration": 21,
    "start_time": "2024-05-26T15:37:03.710Z"
   },
   {
    "duration": 120,
    "start_time": "2024-05-26T15:37:03.733Z"
   },
   {
    "duration": 14,
    "start_time": "2024-05-26T15:37:03.855Z"
   },
   {
    "duration": 158,
    "start_time": "2024-05-26T15:37:03.871Z"
   },
   {
    "duration": 154,
    "start_time": "2024-05-26T15:37:04.031Z"
   },
   {
    "duration": 13,
    "start_time": "2024-05-26T15:37:04.188Z"
   },
   {
    "duration": 15,
    "start_time": "2024-05-26T15:37:04.202Z"
   },
   {
    "duration": 191,
    "start_time": "2024-05-26T15:37:04.218Z"
   },
   {
    "duration": 153,
    "start_time": "2024-05-26T15:37:04.411Z"
   },
   {
    "duration": 16,
    "start_time": "2024-05-26T15:37:04.566Z"
   },
   {
    "duration": 16,
    "start_time": "2024-05-26T15:37:04.585Z"
   },
   {
    "duration": 4,
    "start_time": "2024-05-26T15:37:04.602Z"
   },
   {
    "duration": 12,
    "start_time": "2024-05-26T15:37:04.608Z"
   },
   {
    "duration": 21,
    "start_time": "2024-05-26T15:37:04.621Z"
   },
   {
    "duration": 10,
    "start_time": "2024-05-26T15:37:04.643Z"
   },
   {
    "duration": 42,
    "start_time": "2024-05-26T15:37:04.655Z"
   },
   {
    "duration": 5,
    "start_time": "2024-05-26T15:37:04.699Z"
   },
   {
    "duration": 3,
    "start_time": "2024-05-26T15:37:04.706Z"
   },
   {
    "duration": 4,
    "start_time": "2024-05-26T15:37:04.711Z"
   },
   {
    "duration": 5,
    "start_time": "2024-05-26T15:37:04.716Z"
   },
   {
    "duration": 36,
    "start_time": "2024-05-26T15:37:04.723Z"
   },
   {
    "duration": 5,
    "start_time": "2024-05-26T15:37:04.761Z"
   },
   {
    "duration": 14,
    "start_time": "2024-05-26T15:37:04.768Z"
   },
   {
    "duration": 6,
    "start_time": "2024-05-26T15:37:04.784Z"
   },
   {
    "duration": 404,
    "start_time": "2024-05-26T16:50:24.537Z"
   },
   {
    "duration": 261,
    "start_time": "2024-05-26T16:50:24.943Z"
   },
   {
    "duration": 3,
    "start_time": "2024-05-26T16:50:25.205Z"
   },
   {
    "duration": 464,
    "start_time": "2024-05-26T16:50:25.209Z"
   },
   {
    "duration": 70,
    "start_time": "2024-05-26T16:50:25.676Z"
   },
   {
    "duration": 13,
    "start_time": "2024-05-26T16:50:25.748Z"
   },
   {
    "duration": 12,
    "start_time": "2024-05-26T16:50:25.762Z"
   },
   {
    "duration": 14,
    "start_time": "2024-05-26T16:50:25.775Z"
   },
   {
    "duration": 17,
    "start_time": "2024-05-26T16:50:25.792Z"
   },
   {
    "duration": 8,
    "start_time": "2024-05-26T16:50:25.811Z"
   },
   {
    "duration": 14,
    "start_time": "2024-05-26T16:50:25.821Z"
   },
   {
    "duration": 12,
    "start_time": "2024-05-26T16:50:25.836Z"
   },
   {
    "duration": 36,
    "start_time": "2024-05-26T16:50:25.849Z"
   },
   {
    "duration": 9,
    "start_time": "2024-05-26T16:50:25.891Z"
   },
   {
    "duration": 8,
    "start_time": "2024-05-26T16:50:25.902Z"
   },
   {
    "duration": 15,
    "start_time": "2024-05-26T16:50:25.912Z"
   },
   {
    "duration": 7,
    "start_time": "2024-05-26T16:50:25.929Z"
   },
   {
    "duration": 6,
    "start_time": "2024-05-26T16:50:25.939Z"
   },
   {
    "duration": 7,
    "start_time": "2024-05-26T16:50:25.985Z"
   },
   {
    "duration": 7,
    "start_time": "2024-05-26T16:50:25.995Z"
   },
   {
    "duration": 15,
    "start_time": "2024-05-26T16:50:26.004Z"
   },
   {
    "duration": 14,
    "start_time": "2024-05-26T16:50:26.020Z"
   },
   {
    "duration": 10,
    "start_time": "2024-05-26T16:50:26.036Z"
   },
   {
    "duration": 227,
    "start_time": "2024-05-26T16:50:26.048Z"
   },
   {
    "duration": 10,
    "start_time": "2024-05-26T16:50:26.277Z"
   },
   {
    "duration": 145,
    "start_time": "2024-05-26T16:50:26.289Z"
   },
   {
    "duration": 335,
    "start_time": "2024-05-26T16:50:26.436Z"
   },
   {
    "duration": 8,
    "start_time": "2024-05-26T16:50:26.773Z"
   },
   {
    "duration": 16,
    "start_time": "2024-05-26T16:50:26.783Z"
   },
   {
    "duration": 318,
    "start_time": "2024-05-26T16:50:26.801Z"
   },
   {
    "duration": 8,
    "start_time": "2024-05-26T16:50:27.121Z"
   },
   {
    "duration": 171,
    "start_time": "2024-05-26T16:50:27.131Z"
   },
   {
    "duration": 7,
    "start_time": "2024-05-26T16:50:27.304Z"
   },
   {
    "duration": 158,
    "start_time": "2024-05-26T16:50:27.313Z"
   },
   {
    "duration": 13,
    "start_time": "2024-05-26T16:50:27.472Z"
   },
   {
    "duration": 151,
    "start_time": "2024-05-26T16:50:27.488Z"
   },
   {
    "duration": 166,
    "start_time": "2024-05-26T16:50:27.640Z"
   },
   {
    "duration": 13,
    "start_time": "2024-05-26T16:50:27.808Z"
   },
   {
    "duration": 27,
    "start_time": "2024-05-26T16:50:27.823Z"
   },
   {
    "duration": 14,
    "start_time": "2024-05-26T16:50:27.852Z"
   },
   {
    "duration": 32,
    "start_time": "2024-05-26T16:50:27.872Z"
   },
   {
    "duration": 23,
    "start_time": "2024-05-26T16:50:27.906Z"
   },
   {
    "duration": 16,
    "start_time": "2024-05-26T16:50:27.931Z"
   },
   {
    "duration": 113,
    "start_time": "2024-05-26T16:50:27.949Z"
   },
   {
    "duration": 12,
    "start_time": "2024-05-26T16:50:28.064Z"
   },
   {
    "duration": 150,
    "start_time": "2024-05-26T16:50:28.077Z"
   },
   {
    "duration": 149,
    "start_time": "2024-05-26T16:50:28.229Z"
   },
   {
    "duration": 14,
    "start_time": "2024-05-26T16:50:28.379Z"
   },
   {
    "duration": 22,
    "start_time": "2024-05-26T16:50:28.395Z"
   },
   {
    "duration": 186,
    "start_time": "2024-05-26T16:50:28.419Z"
   },
   {
    "duration": 146,
    "start_time": "2024-05-26T16:50:28.606Z"
   },
   {
    "duration": 9,
    "start_time": "2024-05-26T16:50:28.753Z"
   },
   {
    "duration": 22,
    "start_time": "2024-05-26T16:50:28.764Z"
   },
   {
    "duration": 6,
    "start_time": "2024-05-26T16:50:28.788Z"
   },
   {
    "duration": 7,
    "start_time": "2024-05-26T16:50:28.796Z"
   },
   {
    "duration": 25,
    "start_time": "2024-05-26T16:50:28.804Z"
   },
   {
    "duration": 10,
    "start_time": "2024-05-26T16:50:28.830Z"
   },
   {
    "duration": 4,
    "start_time": "2024-05-26T16:50:28.842Z"
   },
   {
    "duration": 37,
    "start_time": "2024-05-26T16:50:28.847Z"
   },
   {
    "duration": 7,
    "start_time": "2024-05-26T16:50:28.886Z"
   },
   {
    "duration": 14,
    "start_time": "2024-05-26T16:50:28.895Z"
   },
   {
    "duration": 5,
    "start_time": "2024-05-26T16:50:28.911Z"
   },
   {
    "duration": 32,
    "start_time": "2024-05-26T16:50:28.918Z"
   },
   {
    "duration": 31,
    "start_time": "2024-05-26T16:50:28.952Z"
   },
   {
    "duration": 5,
    "start_time": "2024-05-26T16:50:28.985Z"
   },
   {
    "duration": 5,
    "start_time": "2024-05-26T16:50:28.992Z"
   },
   {
    "duration": 695,
    "start_time": "2024-05-27T11:01:18.494Z"
   },
   {
    "duration": 417,
    "start_time": "2024-05-27T11:01:19.192Z"
   },
   {
    "duration": 2,
    "start_time": "2024-05-27T11:01:19.611Z"
   },
   {
    "duration": 576,
    "start_time": "2024-05-27T11:01:19.615Z"
   },
   {
    "duration": 283,
    "start_time": "2024-05-27T11:01:20.194Z"
   },
   {
    "duration": 19,
    "start_time": "2024-05-27T11:01:20.479Z"
   },
   {
    "duration": 16,
    "start_time": "2024-05-27T11:01:20.500Z"
   },
   {
    "duration": 11,
    "start_time": "2024-05-27T11:01:20.573Z"
   },
   {
    "duration": 87,
    "start_time": "2024-05-27T11:01:20.586Z"
   },
   {
    "duration": 8,
    "start_time": "2024-05-27T11:01:20.675Z"
   },
   {
    "duration": 15,
    "start_time": "2024-05-27T11:01:20.684Z"
   },
   {
    "duration": 79,
    "start_time": "2024-05-27T11:01:20.701Z"
   },
   {
    "duration": 6,
    "start_time": "2024-05-27T11:01:20.782Z"
   },
   {
    "duration": 15,
    "start_time": "2024-05-27T11:01:20.792Z"
   },
   {
    "duration": 65,
    "start_time": "2024-05-27T11:01:20.809Z"
   },
   {
    "duration": 8,
    "start_time": "2024-05-27T11:01:20.876Z"
   },
   {
    "duration": 5,
    "start_time": "2024-05-27T11:01:20.886Z"
   },
   {
    "duration": 21,
    "start_time": "2024-05-27T11:01:20.892Z"
   },
   {
    "duration": 62,
    "start_time": "2024-05-27T11:01:20.914Z"
   },
   {
    "duration": 20,
    "start_time": "2024-05-27T11:01:20.978Z"
   },
   {
    "duration": 14,
    "start_time": "2024-05-27T11:01:21.000Z"
   },
   {
    "duration": 63,
    "start_time": "2024-05-27T11:01:21.015Z"
   },
   {
    "duration": 14,
    "start_time": "2024-05-27T11:01:21.079Z"
   },
   {
    "duration": 228,
    "start_time": "2024-05-27T11:01:21.095Z"
   },
   {
    "duration": 6,
    "start_time": "2024-05-27T11:01:21.324Z"
   },
   {
    "duration": 160,
    "start_time": "2024-05-27T11:01:21.331Z"
   },
   {
    "duration": 300,
    "start_time": "2024-05-27T11:01:21.493Z"
   },
   {
    "duration": 8,
    "start_time": "2024-05-27T11:01:21.795Z"
   },
   {
    "duration": 24,
    "start_time": "2024-05-27T11:01:21.804Z"
   },
   {
    "duration": 181,
    "start_time": "2024-05-27T11:01:21.829Z"
   },
   {
    "duration": 10,
    "start_time": "2024-05-27T11:01:22.012Z"
   },
   {
    "duration": 153,
    "start_time": "2024-05-27T11:01:22.023Z"
   },
   {
    "duration": 7,
    "start_time": "2024-05-27T11:01:22.177Z"
   },
   {
    "duration": 180,
    "start_time": "2024-05-27T11:01:22.186Z"
   },
   {
    "duration": 12,
    "start_time": "2024-05-27T11:01:22.368Z"
   },
   {
    "duration": 153,
    "start_time": "2024-05-27T11:01:22.382Z"
   },
   {
    "duration": 168,
    "start_time": "2024-05-27T11:01:22.537Z"
   },
   {
    "duration": 14,
    "start_time": "2024-05-27T11:01:22.707Z"
   },
   {
    "duration": 23,
    "start_time": "2024-05-27T11:01:22.722Z"
   },
   {
    "duration": 15,
    "start_time": "2024-05-27T11:01:22.746Z"
   },
   {
    "duration": 18,
    "start_time": "2024-05-27T11:01:22.765Z"
   },
   {
    "duration": 20,
    "start_time": "2024-05-27T11:01:22.784Z"
   },
   {
    "duration": 21,
    "start_time": "2024-05-27T11:01:22.806Z"
   },
   {
    "duration": 105,
    "start_time": "2024-05-27T11:01:22.829Z"
   },
   {
    "duration": 14,
    "start_time": "2024-05-27T11:01:22.936Z"
   },
   {
    "duration": 189,
    "start_time": "2024-05-27T11:01:22.952Z"
   },
   {
    "duration": 269,
    "start_time": "2024-05-27T11:01:23.143Z"
   },
   {
    "duration": 65,
    "start_time": "2024-05-27T11:01:23.414Z"
   },
   {
    "duration": 23,
    "start_time": "2024-05-27T11:01:23.480Z"
   },
   {
    "duration": 308,
    "start_time": "2024-05-27T11:01:23.505Z"
   },
   {
    "duration": 246,
    "start_time": "2024-05-27T11:01:23.815Z"
   },
   {
    "duration": 19,
    "start_time": "2024-05-27T11:01:24.062Z"
   },
   {
    "duration": 13,
    "start_time": "2024-05-27T11:01:24.083Z"
   },
   {
    "duration": 11,
    "start_time": "2024-05-27T11:01:24.098Z"
   },
   {
    "duration": 17,
    "start_time": "2024-05-27T11:01:24.111Z"
   },
   {
    "duration": 96,
    "start_time": "2024-05-27T11:01:24.129Z"
   },
   {
    "duration": 12,
    "start_time": "2024-05-27T11:01:24.227Z"
   },
   {
    "duration": 73,
    "start_time": "2024-05-27T11:01:24.241Z"
   },
   {
    "duration": 14,
    "start_time": "2024-05-27T11:01:24.316Z"
   },
   {
    "duration": 10,
    "start_time": "2024-05-27T11:01:24.332Z"
   },
   {
    "duration": 7,
    "start_time": "2024-05-27T11:01:24.344Z"
   },
   {
    "duration": 5,
    "start_time": "2024-05-27T11:01:24.353Z"
   },
   {
    "duration": 21,
    "start_time": "2024-05-27T11:01:24.359Z"
   },
   {
    "duration": 5,
    "start_time": "2024-05-27T11:01:24.382Z"
   },
   {
    "duration": 16,
    "start_time": "2024-05-27T11:01:24.389Z"
   },
   {
    "duration": 5,
    "start_time": "2024-05-27T11:01:24.406Z"
   },
   {
    "duration": 407,
    "start_time": "2024-05-27T11:35:47.633Z"
   },
   {
    "duration": 256,
    "start_time": "2024-05-27T11:35:48.042Z"
   },
   {
    "duration": 3,
    "start_time": "2024-05-27T11:35:48.299Z"
   },
   {
    "duration": 539,
    "start_time": "2024-05-27T11:35:48.304Z"
   },
   {
    "duration": 66,
    "start_time": "2024-05-27T11:35:48.845Z"
   },
   {
    "duration": 13,
    "start_time": "2024-05-27T11:35:48.913Z"
   },
   {
    "duration": 19,
    "start_time": "2024-05-27T11:35:48.928Z"
   },
   {
    "duration": 34,
    "start_time": "2024-05-27T11:35:48.949Z"
   },
   {
    "duration": 26,
    "start_time": "2024-05-27T11:35:48.985Z"
   },
   {
    "duration": 28,
    "start_time": "2024-05-27T11:35:49.012Z"
   },
   {
    "duration": 30,
    "start_time": "2024-05-27T11:35:49.042Z"
   },
   {
    "duration": 16,
    "start_time": "2024-05-27T11:35:49.074Z"
   },
   {
    "duration": 16,
    "start_time": "2024-05-27T11:35:49.092Z"
   },
   {
    "duration": 18,
    "start_time": "2024-05-27T11:35:49.111Z"
   },
   {
    "duration": 9,
    "start_time": "2024-05-27T11:35:49.130Z"
   },
   {
    "duration": 37,
    "start_time": "2024-05-27T11:35:49.141Z"
   },
   {
    "duration": 9,
    "start_time": "2024-05-27T11:35:49.179Z"
   },
   {
    "duration": 13,
    "start_time": "2024-05-27T11:35:49.190Z"
   },
   {
    "duration": 20,
    "start_time": "2024-05-27T11:35:49.205Z"
   },
   {
    "duration": 22,
    "start_time": "2024-05-27T11:35:49.227Z"
   },
   {
    "duration": 40,
    "start_time": "2024-05-27T11:35:49.250Z"
   },
   {
    "duration": 16,
    "start_time": "2024-05-27T11:35:49.291Z"
   },
   {
    "duration": 18,
    "start_time": "2024-05-27T11:35:49.308Z"
   },
   {
    "duration": 183,
    "start_time": "2024-05-27T11:35:49.327Z"
   },
   {
    "duration": 6,
    "start_time": "2024-05-27T11:35:49.512Z"
   },
   {
    "duration": 140,
    "start_time": "2024-05-27T11:35:49.519Z"
   },
   {
    "duration": 286,
    "start_time": "2024-05-27T11:35:49.660Z"
   },
   {
    "duration": 8,
    "start_time": "2024-05-27T11:35:49.948Z"
   },
   {
    "duration": 17,
    "start_time": "2024-05-27T11:35:49.973Z"
   },
   {
    "duration": 186,
    "start_time": "2024-05-27T11:35:49.992Z"
   },
   {
    "duration": 9,
    "start_time": "2024-05-27T11:35:50.180Z"
   },
   {
    "duration": 157,
    "start_time": "2024-05-27T11:35:50.190Z"
   },
   {
    "duration": 8,
    "start_time": "2024-05-27T11:35:50.348Z"
   },
   {
    "duration": 222,
    "start_time": "2024-05-27T11:35:50.357Z"
   },
   {
    "duration": 11,
    "start_time": "2024-05-27T11:35:50.581Z"
   },
   {
    "duration": 164,
    "start_time": "2024-05-27T11:35:50.594Z"
   },
   {
    "duration": 156,
    "start_time": "2024-05-27T11:35:50.760Z"
   },
   {
    "duration": 14,
    "start_time": "2024-05-27T11:35:50.917Z"
   },
   {
    "duration": 31,
    "start_time": "2024-05-27T11:35:50.932Z"
   },
   {
    "duration": 16,
    "start_time": "2024-05-27T11:35:50.965Z"
   },
   {
    "duration": 12,
    "start_time": "2024-05-27T11:35:50.985Z"
   },
   {
    "duration": 31,
    "start_time": "2024-05-27T11:35:50.999Z"
   },
   {
    "duration": 15,
    "start_time": "2024-05-27T11:35:51.032Z"
   },
   {
    "duration": 91,
    "start_time": "2024-05-27T11:35:51.048Z"
   },
   {
    "duration": 13,
    "start_time": "2024-05-27T11:35:51.140Z"
   },
   {
    "duration": 144,
    "start_time": "2024-05-27T11:35:51.154Z"
   },
   {
    "duration": 145,
    "start_time": "2024-05-27T11:35:51.299Z"
   },
   {
    "duration": 8,
    "start_time": "2024-05-27T11:35:51.445Z"
   },
   {
    "duration": 20,
    "start_time": "2024-05-27T11:35:51.455Z"
   },
   {
    "duration": 159,
    "start_time": "2024-05-27T11:35:51.476Z"
   },
   {
    "duration": 145,
    "start_time": "2024-05-27T11:35:51.637Z"
   },
   {
    "duration": 8,
    "start_time": "2024-05-27T11:35:51.784Z"
   },
   {
    "duration": 13,
    "start_time": "2024-05-27T11:35:51.794Z"
   },
   {
    "duration": 17,
    "start_time": "2024-05-27T11:35:51.809Z"
   },
   {
    "duration": 15,
    "start_time": "2024-05-27T11:35:51.828Z"
   },
   {
    "duration": 31,
    "start_time": "2024-05-27T11:35:51.844Z"
   },
   {
    "duration": 22,
    "start_time": "2024-05-27T11:35:51.877Z"
   },
   {
    "duration": 10,
    "start_time": "2024-05-27T11:35:51.901Z"
   },
   {
    "duration": 8,
    "start_time": "2024-05-27T11:35:51.912Z"
   },
   {
    "duration": 11,
    "start_time": "2024-05-27T11:35:51.921Z"
   },
   {
    "duration": 8,
    "start_time": "2024-05-27T11:35:51.933Z"
   },
   {
    "duration": 18,
    "start_time": "2024-05-27T11:35:51.942Z"
   },
   {
    "duration": 11,
    "start_time": "2024-05-27T11:35:51.962Z"
   },
   {
    "duration": 24,
    "start_time": "2024-05-27T11:35:51.974Z"
   },
   {
    "duration": 6,
    "start_time": "2024-05-27T11:35:51.999Z"
   },
   {
    "duration": 8,
    "start_time": "2024-05-27T11:35:52.007Z"
   },
   {
    "duration": 6,
    "start_time": "2024-05-27T11:35:52.016Z"
   },
   {
    "duration": 4,
    "start_time": "2024-05-27T11:39:35.241Z"
   },
   {
    "duration": 425,
    "start_time": "2024-05-27T11:45:06.997Z"
   },
   {
    "duration": 253,
    "start_time": "2024-05-27T11:45:07.424Z"
   },
   {
    "duration": 3,
    "start_time": "2024-05-27T11:45:07.678Z"
   },
   {
    "duration": 494,
    "start_time": "2024-05-27T11:45:07.683Z"
   },
   {
    "duration": 67,
    "start_time": "2024-05-27T11:45:08.179Z"
   },
   {
    "duration": 13,
    "start_time": "2024-05-27T11:45:08.247Z"
   },
   {
    "duration": 20,
    "start_time": "2024-05-27T11:45:08.261Z"
   },
   {
    "duration": 24,
    "start_time": "2024-05-27T11:45:08.282Z"
   },
   {
    "duration": 38,
    "start_time": "2024-05-27T11:45:08.308Z"
   },
   {
    "duration": 46,
    "start_time": "2024-05-27T11:45:08.348Z"
   },
   {
    "duration": 71,
    "start_time": "2024-05-27T11:45:08.395Z"
   },
   {
    "duration": 51,
    "start_time": "2024-05-27T11:45:08.468Z"
   },
   {
    "duration": 6,
    "start_time": "2024-05-27T11:45:08.520Z"
   },
   {
    "duration": 12,
    "start_time": "2024-05-27T11:45:08.529Z"
   },
   {
    "duration": 26,
    "start_time": "2024-05-27T11:45:08.543Z"
   },
   {
    "duration": 12,
    "start_time": "2024-05-27T11:45:08.571Z"
   },
   {
    "duration": 10,
    "start_time": "2024-05-27T11:45:08.584Z"
   },
   {
    "duration": 37,
    "start_time": "2024-05-27T11:45:08.595Z"
   },
   {
    "duration": 22,
    "start_time": "2024-05-27T11:45:08.633Z"
   },
   {
    "duration": 25,
    "start_time": "2024-05-27T11:45:08.657Z"
   },
   {
    "duration": 23,
    "start_time": "2024-05-27T11:45:08.684Z"
   },
   {
    "duration": 18,
    "start_time": "2024-05-27T11:45:08.708Z"
   },
   {
    "duration": 21,
    "start_time": "2024-05-27T11:45:08.728Z"
   },
   {
    "duration": 191,
    "start_time": "2024-05-27T11:45:08.751Z"
   },
   {
    "duration": 6,
    "start_time": "2024-05-27T11:45:08.943Z"
   },
   {
    "duration": 144,
    "start_time": "2024-05-27T11:45:08.951Z"
   },
   {
    "duration": 303,
    "start_time": "2024-05-27T11:45:09.097Z"
   },
   {
    "duration": 8,
    "start_time": "2024-05-27T11:45:09.402Z"
   },
   {
    "duration": 28,
    "start_time": "2024-05-27T11:45:09.412Z"
   },
   {
    "duration": 181,
    "start_time": "2024-05-27T11:45:09.442Z"
   },
   {
    "duration": 9,
    "start_time": "2024-05-27T11:45:09.625Z"
   },
   {
    "duration": 149,
    "start_time": "2024-05-27T11:45:09.635Z"
   },
   {
    "duration": 7,
    "start_time": "2024-05-27T11:45:09.786Z"
   },
   {
    "duration": 160,
    "start_time": "2024-05-27T11:45:09.795Z"
   },
   {
    "duration": 9,
    "start_time": "2024-05-27T11:45:09.956Z"
   },
   {
    "duration": 136,
    "start_time": "2024-05-27T11:45:09.972Z"
   },
   {
    "duration": 161,
    "start_time": "2024-05-27T11:45:10.110Z"
   },
   {
    "duration": 13,
    "start_time": "2024-05-27T11:45:10.273Z"
   },
   {
    "duration": 11,
    "start_time": "2024-05-27T11:45:10.288Z"
   },
   {
    "duration": 10,
    "start_time": "2024-05-27T11:45:10.301Z"
   },
   {
    "duration": 12,
    "start_time": "2024-05-27T11:45:10.315Z"
   },
   {
    "duration": 81,
    "start_time": "2024-05-27T11:45:10.328Z"
   },
   {
    "duration": 22,
    "start_time": "2024-05-27T11:45:10.411Z"
   },
   {
    "duration": 140,
    "start_time": "2024-05-27T11:45:10.435Z"
   },
   {
    "duration": 12,
    "start_time": "2024-05-27T11:45:10.577Z"
   },
   {
    "duration": 140,
    "start_time": "2024-05-27T11:45:10.590Z"
   },
   {
    "duration": 153,
    "start_time": "2024-05-27T11:45:10.732Z"
   },
   {
    "duration": 9,
    "start_time": "2024-05-27T11:45:10.886Z"
   },
   {
    "duration": 13,
    "start_time": "2024-05-27T11:45:10.896Z"
   },
   {
    "duration": 189,
    "start_time": "2024-05-27T11:45:10.911Z"
   },
   {
    "duration": 145,
    "start_time": "2024-05-27T11:45:11.102Z"
   },
   {
    "duration": 8,
    "start_time": "2024-05-27T11:45:11.249Z"
   },
   {
    "duration": 16,
    "start_time": "2024-05-27T11:45:11.258Z"
   },
   {
    "duration": 4,
    "start_time": "2024-05-27T11:45:11.275Z"
   },
   {
    "duration": 6,
    "start_time": "2024-05-27T11:45:11.280Z"
   },
   {
    "duration": 28,
    "start_time": "2024-05-27T11:45:11.287Z"
   },
   {
    "duration": 11,
    "start_time": "2024-05-27T11:45:11.316Z"
   },
   {
    "duration": 16,
    "start_time": "2024-05-27T11:45:11.329Z"
   },
   {
    "duration": 3,
    "start_time": "2024-05-27T11:45:11.347Z"
   },
   {
    "duration": 23,
    "start_time": "2024-05-27T11:45:11.352Z"
   },
   {
    "duration": 5,
    "start_time": "2024-05-27T11:45:11.377Z"
   },
   {
    "duration": 7,
    "start_time": "2024-05-27T11:45:11.384Z"
   },
   {
    "duration": 24,
    "start_time": "2024-05-27T11:45:11.392Z"
   },
   {
    "duration": 5,
    "start_time": "2024-05-27T11:45:11.418Z"
   },
   {
    "duration": 11,
    "start_time": "2024-05-27T11:45:11.425Z"
   },
   {
    "duration": 7,
    "start_time": "2024-05-27T11:45:11.438Z"
   },
   {
    "duration": 52,
    "start_time": "2024-05-27T16:20:29.716Z"
   },
   {
    "duration": 378,
    "start_time": "2024-05-27T16:20:38.438Z"
   },
   {
    "duration": 388,
    "start_time": "2024-05-27T16:20:39.880Z"
   },
   {
    "duration": 3,
    "start_time": "2024-05-27T16:20:41.335Z"
   },
   {
    "duration": 448,
    "start_time": "2024-05-27T16:20:43.006Z"
   },
   {
    "duration": 290,
    "start_time": "2024-05-27T16:20:45.232Z"
   },
   {
    "duration": 10,
    "start_time": "2024-05-27T16:20:54.565Z"
   },
   {
    "duration": 7,
    "start_time": "2024-05-27T16:21:11.432Z"
   },
   {
    "duration": 7,
    "start_time": "2024-05-27T16:21:13.915Z"
   },
   {
    "duration": 6,
    "start_time": "2024-05-27T16:21:19.670Z"
   },
   {
    "duration": 7,
    "start_time": "2024-05-27T16:21:28.522Z"
   },
   {
    "duration": 16,
    "start_time": "2024-05-27T16:21:30.586Z"
   },
   {
    "duration": 174,
    "start_time": "2024-05-27T16:21:38.782Z"
   },
   {
    "duration": 241,
    "start_time": "2024-05-27T16:23:42.464Z"
   },
   {
    "duration": 154,
    "start_time": "2024-05-27T16:24:25.393Z"
   },
   {
    "duration": 51,
    "start_time": "2024-05-27T16:25:26.996Z"
   },
   {
    "duration": 70,
    "start_time": "2024-05-27T16:25:31.820Z"
   },
   {
    "duration": 7,
    "start_time": "2024-05-27T16:29:41.084Z"
   },
   {
    "duration": 7,
    "start_time": "2024-05-27T16:30:12.802Z"
   },
   {
    "duration": 145,
    "start_time": "2024-05-27T16:32:04.976Z"
   },
   {
    "duration": 8,
    "start_time": "2024-05-27T16:32:16.343Z"
   },
   {
    "duration": 122,
    "start_time": "2024-05-27T16:33:28.852Z"
   },
   {
    "duration": 135,
    "start_time": "2024-05-27T16:36:39.140Z"
   },
   {
    "duration": 208,
    "start_time": "2024-05-27T16:36:58.926Z"
   },
   {
    "duration": 139,
    "start_time": "2024-05-27T16:37:04.318Z"
   },
   {
    "duration": 143,
    "start_time": "2024-05-27T16:37:16.273Z"
   },
   {
    "duration": 480,
    "start_time": "2024-05-27T17:03:40.233Z"
   },
   {
    "duration": 249,
    "start_time": "2024-05-27T17:03:40.715Z"
   },
   {
    "duration": 2,
    "start_time": "2024-05-27T17:03:40.966Z"
   },
   {
    "duration": 495,
    "start_time": "2024-05-27T17:03:40.980Z"
   },
   {
    "duration": 67,
    "start_time": "2024-05-27T17:03:41.477Z"
   },
   {
    "duration": 13,
    "start_time": "2024-05-27T17:03:41.545Z"
   },
   {
    "duration": 30,
    "start_time": "2024-05-27T17:03:41.560Z"
   },
   {
    "duration": 28,
    "start_time": "2024-05-27T17:03:41.592Z"
   },
   {
    "duration": 17,
    "start_time": "2024-05-27T17:03:41.622Z"
   },
   {
    "duration": 20,
    "start_time": "2024-05-27T17:03:41.642Z"
   },
   {
    "duration": 23,
    "start_time": "2024-05-27T17:03:41.664Z"
   },
   {
    "duration": 34,
    "start_time": "2024-05-27T17:03:41.690Z"
   },
   {
    "duration": 13,
    "start_time": "2024-05-27T17:03:41.726Z"
   },
   {
    "duration": 54,
    "start_time": "2024-05-27T17:03:41.740Z"
   },
   {
    "duration": 22,
    "start_time": "2024-05-27T17:03:41.797Z"
   },
   {
    "duration": 27,
    "start_time": "2024-05-27T17:03:41.821Z"
   },
   {
    "duration": 18,
    "start_time": "2024-05-27T17:03:41.850Z"
   },
   {
    "duration": 22,
    "start_time": "2024-05-27T17:03:41.869Z"
   },
   {
    "duration": 20,
    "start_time": "2024-05-27T17:03:41.893Z"
   },
   {
    "duration": 34,
    "start_time": "2024-05-27T17:03:41.916Z"
   },
   {
    "duration": 38,
    "start_time": "2024-05-27T17:03:41.952Z"
   },
   {
    "duration": 38,
    "start_time": "2024-05-27T17:03:41.992Z"
   },
   {
    "duration": 27,
    "start_time": "2024-05-27T17:03:42.032Z"
   },
   {
    "duration": 183,
    "start_time": "2024-05-27T17:03:42.061Z"
   },
   {
    "duration": 6,
    "start_time": "2024-05-27T17:03:42.246Z"
   },
   {
    "duration": 51,
    "start_time": "2024-05-27T17:03:42.254Z"
   },
   {
    "duration": 150,
    "start_time": "2024-05-27T17:03:42.308Z"
   },
   {
    "duration": 277,
    "start_time": "2024-05-27T17:03:42.462Z"
   },
   {
    "duration": 9,
    "start_time": "2024-05-27T17:03:42.740Z"
   },
   {
    "duration": 47,
    "start_time": "2024-05-27T17:03:42.750Z"
   },
   {
    "duration": 174,
    "start_time": "2024-05-27T17:03:42.799Z"
   },
   {
    "duration": 18,
    "start_time": "2024-05-27T17:03:42.975Z"
   },
   {
    "duration": 145,
    "start_time": "2024-05-27T17:03:42.995Z"
   },
   {
    "duration": 7,
    "start_time": "2024-05-27T17:03:43.142Z"
   },
   {
    "duration": 153,
    "start_time": "2024-05-27T17:03:43.151Z"
   },
   {
    "duration": 9,
    "start_time": "2024-05-27T17:03:43.306Z"
   },
   {
    "duration": 147,
    "start_time": "2024-05-27T17:03:43.316Z"
   },
   {
    "duration": 164,
    "start_time": "2024-05-27T17:03:43.465Z"
   },
   {
    "duration": 12,
    "start_time": "2024-05-27T17:03:43.631Z"
   },
   {
    "duration": 53,
    "start_time": "2024-05-27T17:03:43.645Z"
   },
   {
    "duration": 27,
    "start_time": "2024-05-27T17:03:43.700Z"
   },
   {
    "duration": 22,
    "start_time": "2024-05-27T17:03:43.728Z"
   },
   {
    "duration": 55,
    "start_time": "2024-05-27T17:03:43.752Z"
   },
   {
    "duration": 141,
    "start_time": "2024-05-27T17:03:43.809Z"
   },
   {
    "duration": 12,
    "start_time": "2024-05-27T17:03:43.951Z"
   },
   {
    "duration": 15,
    "start_time": "2024-05-27T17:03:43.965Z"
   },
   {
    "duration": 154,
    "start_time": "2024-05-27T17:03:43.988Z"
   },
   {
    "duration": 166,
    "start_time": "2024-05-27T17:03:44.148Z"
   },
   {
    "duration": 8,
    "start_time": "2024-05-27T17:03:44.316Z"
   },
   {
    "duration": 8,
    "start_time": "2024-05-27T17:03:44.326Z"
   },
   {
    "duration": 205,
    "start_time": "2024-05-27T17:03:44.335Z"
   },
   {
    "duration": 183,
    "start_time": "2024-05-27T17:03:44.542Z"
   },
   {
    "duration": 9,
    "start_time": "2024-05-27T17:03:44.726Z"
   },
   {
    "duration": 8,
    "start_time": "2024-05-27T17:03:44.736Z"
   },
   {
    "duration": 9,
    "start_time": "2024-05-27T17:03:44.745Z"
   },
   {
    "duration": 8,
    "start_time": "2024-05-27T17:03:44.756Z"
   },
   {
    "duration": 29,
    "start_time": "2024-05-27T17:03:44.779Z"
   },
   {
    "duration": 12,
    "start_time": "2024-05-27T17:03:44.810Z"
   },
   {
    "duration": 3,
    "start_time": "2024-05-27T17:03:44.824Z"
   },
   {
    "duration": 7,
    "start_time": "2024-05-27T17:03:44.828Z"
   },
   {
    "duration": 29,
    "start_time": "2024-05-27T17:03:44.836Z"
   },
   {
    "duration": 12,
    "start_time": "2024-05-27T17:03:44.866Z"
   },
   {
    "duration": 5,
    "start_time": "2024-05-27T17:03:44.881Z"
   },
   {
    "duration": 26,
    "start_time": "2024-05-27T17:03:44.887Z"
   },
   {
    "duration": 9,
    "start_time": "2024-05-27T17:03:44.915Z"
   },
   {
    "duration": 5,
    "start_time": "2024-05-27T17:03:44.926Z"
   },
   {
    "duration": 4,
    "start_time": "2024-05-27T17:03:44.933Z"
   },
   {
    "duration": 140,
    "start_time": "2024-05-27T17:05:43.927Z"
   },
   {
    "duration": 19,
    "start_time": "2024-05-27T17:10:44.938Z"
   },
   {
    "duration": 19,
    "start_time": "2024-05-27T17:11:22.189Z"
   },
   {
    "duration": 9,
    "start_time": "2024-05-27T17:13:14.422Z"
   },
   {
    "duration": 19,
    "start_time": "2024-05-27T17:13:24.452Z"
   },
   {
    "duration": 457,
    "start_time": "2024-05-27T17:15:31.109Z"
   },
   {
    "duration": 325,
    "start_time": "2024-05-27T17:15:31.568Z"
   },
   {
    "duration": 4,
    "start_time": "2024-05-27T17:15:31.899Z"
   },
   {
    "duration": 647,
    "start_time": "2024-05-27T17:15:31.910Z"
   },
   {
    "duration": 93,
    "start_time": "2024-05-27T17:15:32.560Z"
   },
   {
    "duration": 13,
    "start_time": "2024-05-27T17:15:32.655Z"
   },
   {
    "duration": 34,
    "start_time": "2024-05-27T17:15:32.670Z"
   },
   {
    "duration": 15,
    "start_time": "2024-05-27T17:15:32.706Z"
   },
   {
    "duration": 14,
    "start_time": "2024-05-27T17:15:32.723Z"
   },
   {
    "duration": 7,
    "start_time": "2024-05-27T17:15:32.739Z"
   },
   {
    "duration": 9,
    "start_time": "2024-05-27T17:15:32.748Z"
   },
   {
    "duration": 48,
    "start_time": "2024-05-27T17:15:32.758Z"
   },
   {
    "duration": 9,
    "start_time": "2024-05-27T17:15:32.808Z"
   },
   {
    "duration": 18,
    "start_time": "2024-05-27T17:15:32.821Z"
   },
   {
    "duration": 26,
    "start_time": "2024-05-27T17:15:32.841Z"
   },
   {
    "duration": 10,
    "start_time": "2024-05-27T17:15:32.869Z"
   },
   {
    "duration": 15,
    "start_time": "2024-05-27T17:15:32.885Z"
   },
   {
    "duration": 7,
    "start_time": "2024-05-27T17:15:32.903Z"
   },
   {
    "duration": 7,
    "start_time": "2024-05-27T17:15:32.912Z"
   },
   {
    "duration": 11,
    "start_time": "2024-05-27T17:15:32.920Z"
   },
   {
    "duration": 9,
    "start_time": "2024-05-27T17:15:32.933Z"
   },
   {
    "duration": 8,
    "start_time": "2024-05-27T17:15:32.944Z"
   },
   {
    "duration": 44,
    "start_time": "2024-05-27T17:15:32.953Z"
   },
   {
    "duration": 178,
    "start_time": "2024-05-27T17:15:33.000Z"
   },
   {
    "duration": 10,
    "start_time": "2024-05-27T17:15:33.181Z"
   },
   {
    "duration": 15,
    "start_time": "2024-05-27T17:15:33.193Z"
   },
   {
    "duration": 142,
    "start_time": "2024-05-27T17:15:33.210Z"
   },
   {
    "duration": 1,
    "start_time": "2024-05-27T17:15:33.354Z"
   },
   {
    "duration": 0,
    "start_time": "2024-05-27T17:15:33.356Z"
   },
   {
    "duration": 0,
    "start_time": "2024-05-27T17:15:33.357Z"
   },
   {
    "duration": 0,
    "start_time": "2024-05-27T17:15:33.358Z"
   },
   {
    "duration": 0,
    "start_time": "2024-05-27T17:15:33.359Z"
   },
   {
    "duration": 0,
    "start_time": "2024-05-27T17:15:33.361Z"
   },
   {
    "duration": 0,
    "start_time": "2024-05-27T17:15:33.361Z"
   },
   {
    "duration": 0,
    "start_time": "2024-05-27T17:15:33.363Z"
   },
   {
    "duration": 0,
    "start_time": "2024-05-27T17:15:33.364Z"
   },
   {
    "duration": 0,
    "start_time": "2024-05-27T17:15:33.383Z"
   },
   {
    "duration": 0,
    "start_time": "2024-05-27T17:15:33.385Z"
   },
   {
    "duration": 0,
    "start_time": "2024-05-27T17:15:33.387Z"
   },
   {
    "duration": 0,
    "start_time": "2024-05-27T17:15:33.388Z"
   },
   {
    "duration": 0,
    "start_time": "2024-05-27T17:15:33.391Z"
   },
   {
    "duration": 0,
    "start_time": "2024-05-27T17:15:33.394Z"
   },
   {
    "duration": 0,
    "start_time": "2024-05-27T17:15:33.396Z"
   },
   {
    "duration": 0,
    "start_time": "2024-05-27T17:15:33.401Z"
   },
   {
    "duration": 0,
    "start_time": "2024-05-27T17:15:33.403Z"
   },
   {
    "duration": 0,
    "start_time": "2024-05-27T17:15:33.404Z"
   },
   {
    "duration": 0,
    "start_time": "2024-05-27T17:15:33.406Z"
   },
   {
    "duration": 0,
    "start_time": "2024-05-27T17:15:33.407Z"
   },
   {
    "duration": 0,
    "start_time": "2024-05-27T17:15:33.409Z"
   },
   {
    "duration": 0,
    "start_time": "2024-05-27T17:15:33.410Z"
   },
   {
    "duration": 0,
    "start_time": "2024-05-27T17:15:33.412Z"
   },
   {
    "duration": 0,
    "start_time": "2024-05-27T17:15:33.413Z"
   },
   {
    "duration": 0,
    "start_time": "2024-05-27T17:15:33.414Z"
   },
   {
    "duration": 0,
    "start_time": "2024-05-27T17:15:33.415Z"
   },
   {
    "duration": 0,
    "start_time": "2024-05-27T17:15:33.416Z"
   },
   {
    "duration": 0,
    "start_time": "2024-05-27T17:15:33.417Z"
   },
   {
    "duration": 0,
    "start_time": "2024-05-27T17:15:33.418Z"
   },
   {
    "duration": 0,
    "start_time": "2024-05-27T17:15:33.419Z"
   },
   {
    "duration": 0,
    "start_time": "2024-05-27T17:15:33.420Z"
   },
   {
    "duration": 0,
    "start_time": "2024-05-27T17:15:33.421Z"
   },
   {
    "duration": 0,
    "start_time": "2024-05-27T17:15:33.422Z"
   },
   {
    "duration": 0,
    "start_time": "2024-05-27T17:15:33.423Z"
   },
   {
    "duration": 0,
    "start_time": "2024-05-27T17:15:33.424Z"
   },
   {
    "duration": 0,
    "start_time": "2024-05-27T17:15:33.425Z"
   },
   {
    "duration": 0,
    "start_time": "2024-05-27T17:15:33.480Z"
   },
   {
    "duration": 0,
    "start_time": "2024-05-27T17:15:33.481Z"
   },
   {
    "duration": 0,
    "start_time": "2024-05-27T17:15:33.482Z"
   },
   {
    "duration": 0,
    "start_time": "2024-05-27T17:15:33.483Z"
   },
   {
    "duration": 0,
    "start_time": "2024-05-27T17:15:33.485Z"
   },
   {
    "duration": 458,
    "start_time": "2024-05-27T17:16:14.804Z"
   },
   {
    "duration": 278,
    "start_time": "2024-05-27T17:16:15.264Z"
   },
   {
    "duration": 2,
    "start_time": "2024-05-27T17:16:15.544Z"
   },
   {
    "duration": 510,
    "start_time": "2024-05-27T17:16:15.548Z"
   },
   {
    "duration": 78,
    "start_time": "2024-05-27T17:16:16.060Z"
   },
   {
    "duration": 11,
    "start_time": "2024-05-27T17:16:16.140Z"
   },
   {
    "duration": 11,
    "start_time": "2024-05-27T17:16:16.153Z"
   },
   {
    "duration": 31,
    "start_time": "2024-05-27T17:16:16.166Z"
   },
   {
    "duration": 29,
    "start_time": "2024-05-27T17:16:16.199Z"
   },
   {
    "duration": 7,
    "start_time": "2024-05-27T17:16:16.229Z"
   },
   {
    "duration": 7,
    "start_time": "2024-05-27T17:16:16.238Z"
   },
   {
    "duration": 18,
    "start_time": "2024-05-27T17:16:16.246Z"
   },
   {
    "duration": 6,
    "start_time": "2024-05-27T17:16:16.265Z"
   },
   {
    "duration": 11,
    "start_time": "2024-05-27T17:16:16.288Z"
   },
   {
    "duration": 13,
    "start_time": "2024-05-27T17:16:16.301Z"
   },
   {
    "duration": 8,
    "start_time": "2024-05-27T17:16:16.316Z"
   },
   {
    "duration": 5,
    "start_time": "2024-05-27T17:16:16.325Z"
   },
   {
    "duration": 5,
    "start_time": "2024-05-27T17:16:16.332Z"
   },
   {
    "duration": 4,
    "start_time": "2024-05-27T17:16:16.339Z"
   },
   {
    "duration": 5,
    "start_time": "2024-05-27T17:16:16.345Z"
   },
   {
    "duration": 37,
    "start_time": "2024-05-27T17:16:16.351Z"
   },
   {
    "duration": 23,
    "start_time": "2024-05-27T17:16:16.391Z"
   },
   {
    "duration": 13,
    "start_time": "2024-05-27T17:16:16.415Z"
   },
   {
    "duration": 215,
    "start_time": "2024-05-27T17:16:16.429Z"
   },
   {
    "duration": 6,
    "start_time": "2024-05-27T17:16:16.646Z"
   },
   {
    "duration": 7,
    "start_time": "2024-05-27T17:16:16.653Z"
   },
   {
    "duration": 162,
    "start_time": "2024-05-27T17:16:16.662Z"
   },
   {
    "duration": 0,
    "start_time": "2024-05-27T17:16:16.826Z"
   },
   {
    "duration": 0,
    "start_time": "2024-05-27T17:16:16.827Z"
   },
   {
    "duration": 0,
    "start_time": "2024-05-27T17:16:16.828Z"
   },
   {
    "duration": 0,
    "start_time": "2024-05-27T17:16:16.829Z"
   },
   {
    "duration": 0,
    "start_time": "2024-05-27T17:16:16.830Z"
   },
   {
    "duration": 0,
    "start_time": "2024-05-27T17:16:16.831Z"
   },
   {
    "duration": 0,
    "start_time": "2024-05-27T17:16:16.832Z"
   },
   {
    "duration": 0,
    "start_time": "2024-05-27T17:16:16.833Z"
   },
   {
    "duration": 0,
    "start_time": "2024-05-27T17:16:16.835Z"
   },
   {
    "duration": 0,
    "start_time": "2024-05-27T17:16:16.836Z"
   },
   {
    "duration": 0,
    "start_time": "2024-05-27T17:16:16.837Z"
   },
   {
    "duration": 0,
    "start_time": "2024-05-27T17:16:16.838Z"
   },
   {
    "duration": 0,
    "start_time": "2024-05-27T17:16:16.839Z"
   },
   {
    "duration": 0,
    "start_time": "2024-05-27T17:16:16.840Z"
   },
   {
    "duration": 0,
    "start_time": "2024-05-27T17:16:16.841Z"
   },
   {
    "duration": 0,
    "start_time": "2024-05-27T17:16:16.842Z"
   },
   {
    "duration": 0,
    "start_time": "2024-05-27T17:16:16.843Z"
   },
   {
    "duration": 0,
    "start_time": "2024-05-27T17:16:16.844Z"
   },
   {
    "duration": 0,
    "start_time": "2024-05-27T17:16:16.845Z"
   },
   {
    "duration": 0,
    "start_time": "2024-05-27T17:16:16.846Z"
   },
   {
    "duration": 0,
    "start_time": "2024-05-27T17:16:16.847Z"
   },
   {
    "duration": 0,
    "start_time": "2024-05-27T17:16:16.880Z"
   },
   {
    "duration": 0,
    "start_time": "2024-05-27T17:16:16.889Z"
   },
   {
    "duration": 1,
    "start_time": "2024-05-27T17:16:16.890Z"
   },
   {
    "duration": 0,
    "start_time": "2024-05-27T17:16:16.892Z"
   },
   {
    "duration": 0,
    "start_time": "2024-05-27T17:16:16.894Z"
   },
   {
    "duration": 0,
    "start_time": "2024-05-27T17:16:16.895Z"
   },
   {
    "duration": 0,
    "start_time": "2024-05-27T17:16:16.897Z"
   },
   {
    "duration": 0,
    "start_time": "2024-05-27T17:16:16.898Z"
   },
   {
    "duration": 0,
    "start_time": "2024-05-27T17:16:16.899Z"
   },
   {
    "duration": 0,
    "start_time": "2024-05-27T17:16:16.901Z"
   },
   {
    "duration": 0,
    "start_time": "2024-05-27T17:16:16.902Z"
   },
   {
    "duration": 0,
    "start_time": "2024-05-27T17:16:16.903Z"
   },
   {
    "duration": 0,
    "start_time": "2024-05-27T17:16:16.904Z"
   },
   {
    "duration": 0,
    "start_time": "2024-05-27T17:16:16.905Z"
   },
   {
    "duration": 0,
    "start_time": "2024-05-27T17:16:16.907Z"
   },
   {
    "duration": 0,
    "start_time": "2024-05-27T17:16:16.909Z"
   },
   {
    "duration": 0,
    "start_time": "2024-05-27T17:16:16.911Z"
   },
   {
    "duration": 0,
    "start_time": "2024-05-27T17:16:16.913Z"
   },
   {
    "duration": 0,
    "start_time": "2024-05-27T17:16:16.915Z"
   },
   {
    "duration": 0,
    "start_time": "2024-05-27T17:16:16.916Z"
   },
   {
    "duration": 0,
    "start_time": "2024-05-27T17:16:16.917Z"
   },
   {
    "duration": 3,
    "start_time": "2024-05-27T17:16:36.774Z"
   },
   {
    "duration": 485,
    "start_time": "2024-05-27T17:16:43.984Z"
   },
   {
    "duration": 299,
    "start_time": "2024-05-27T17:16:44.471Z"
   },
   {
    "duration": 3,
    "start_time": "2024-05-27T17:16:44.772Z"
   },
   {
    "duration": 526,
    "start_time": "2024-05-27T17:16:44.779Z"
   },
   {
    "duration": 64,
    "start_time": "2024-05-27T17:16:45.307Z"
   },
   {
    "duration": 26,
    "start_time": "2024-05-27T17:16:45.373Z"
   },
   {
    "duration": 12,
    "start_time": "2024-05-27T17:16:45.401Z"
   },
   {
    "duration": 20,
    "start_time": "2024-05-27T17:16:45.414Z"
   },
   {
    "duration": 28,
    "start_time": "2024-05-27T17:16:45.436Z"
   },
   {
    "duration": 13,
    "start_time": "2024-05-27T17:16:45.466Z"
   },
   {
    "duration": 16,
    "start_time": "2024-05-27T17:16:45.482Z"
   },
   {
    "duration": 20,
    "start_time": "2024-05-27T17:16:45.500Z"
   },
   {
    "duration": 6,
    "start_time": "2024-05-27T17:16:45.522Z"
   },
   {
    "duration": 12,
    "start_time": "2024-05-27T17:16:45.530Z"
   },
   {
    "duration": 6,
    "start_time": "2024-05-27T17:16:45.543Z"
   },
   {
    "duration": 12,
    "start_time": "2024-05-27T17:16:45.550Z"
   },
   {
    "duration": 21,
    "start_time": "2024-05-27T17:16:45.564Z"
   },
   {
    "duration": 9,
    "start_time": "2024-05-27T17:16:45.588Z"
   },
   {
    "duration": 8,
    "start_time": "2024-05-27T17:16:45.599Z"
   },
   {
    "duration": 6,
    "start_time": "2024-05-27T17:16:45.609Z"
   },
   {
    "duration": 15,
    "start_time": "2024-05-27T17:16:45.616Z"
   },
   {
    "duration": 13,
    "start_time": "2024-05-27T17:16:45.632Z"
   },
   {
    "duration": 35,
    "start_time": "2024-05-27T17:16:45.646Z"
   },
   {
    "duration": 216,
    "start_time": "2024-05-27T17:16:45.683Z"
   },
   {
    "duration": 11,
    "start_time": "2024-05-27T17:16:45.901Z"
   },
   {
    "duration": 13,
    "start_time": "2024-05-27T17:16:45.914Z"
   },
   {
    "duration": 122,
    "start_time": "2024-05-27T17:16:45.928Z"
   },
   {
    "duration": 0,
    "start_time": "2024-05-27T17:16:46.054Z"
   },
   {
    "duration": 0,
    "start_time": "2024-05-27T17:16:46.055Z"
   },
   {
    "duration": 0,
    "start_time": "2024-05-27T17:16:46.056Z"
   },
   {
    "duration": 0,
    "start_time": "2024-05-27T17:16:46.057Z"
   },
   {
    "duration": 0,
    "start_time": "2024-05-27T17:16:46.058Z"
   },
   {
    "duration": 0,
    "start_time": "2024-05-27T17:16:46.059Z"
   },
   {
    "duration": 0,
    "start_time": "2024-05-27T17:16:46.060Z"
   },
   {
    "duration": 0,
    "start_time": "2024-05-27T17:16:46.061Z"
   },
   {
    "duration": 0,
    "start_time": "2024-05-27T17:16:46.062Z"
   },
   {
    "duration": 0,
    "start_time": "2024-05-27T17:16:46.063Z"
   },
   {
    "duration": 0,
    "start_time": "2024-05-27T17:16:46.064Z"
   },
   {
    "duration": 0,
    "start_time": "2024-05-27T17:16:46.081Z"
   },
   {
    "duration": 1,
    "start_time": "2024-05-27T17:16:46.082Z"
   },
   {
    "duration": 0,
    "start_time": "2024-05-27T17:16:46.084Z"
   },
   {
    "duration": 0,
    "start_time": "2024-05-27T17:16:46.085Z"
   },
   {
    "duration": 1,
    "start_time": "2024-05-27T17:16:46.086Z"
   },
   {
    "duration": 0,
    "start_time": "2024-05-27T17:16:46.088Z"
   },
   {
    "duration": 0,
    "start_time": "2024-05-27T17:16:46.089Z"
   },
   {
    "duration": 0,
    "start_time": "2024-05-27T17:16:46.092Z"
   },
   {
    "duration": 0,
    "start_time": "2024-05-27T17:16:46.094Z"
   },
   {
    "duration": 0,
    "start_time": "2024-05-27T17:16:46.095Z"
   },
   {
    "duration": 0,
    "start_time": "2024-05-27T17:16:46.097Z"
   },
   {
    "duration": 0,
    "start_time": "2024-05-27T17:16:46.099Z"
   },
   {
    "duration": 0,
    "start_time": "2024-05-27T17:16:46.100Z"
   },
   {
    "duration": 0,
    "start_time": "2024-05-27T17:16:46.102Z"
   },
   {
    "duration": 0,
    "start_time": "2024-05-27T17:16:46.105Z"
   },
   {
    "duration": 0,
    "start_time": "2024-05-27T17:16:46.106Z"
   },
   {
    "duration": 0,
    "start_time": "2024-05-27T17:16:46.108Z"
   },
   {
    "duration": 0,
    "start_time": "2024-05-27T17:16:46.110Z"
   },
   {
    "duration": 0,
    "start_time": "2024-05-27T17:16:46.112Z"
   },
   {
    "duration": 0,
    "start_time": "2024-05-27T17:16:46.114Z"
   },
   {
    "duration": 0,
    "start_time": "2024-05-27T17:16:46.116Z"
   },
   {
    "duration": 0,
    "start_time": "2024-05-27T17:16:46.117Z"
   },
   {
    "duration": 0,
    "start_time": "2024-05-27T17:16:46.119Z"
   },
   {
    "duration": 0,
    "start_time": "2024-05-27T17:16:46.120Z"
   },
   {
    "duration": 0,
    "start_time": "2024-05-27T17:16:46.121Z"
   },
   {
    "duration": 0,
    "start_time": "2024-05-27T17:16:46.122Z"
   },
   {
    "duration": 0,
    "start_time": "2024-05-27T17:16:46.124Z"
   },
   {
    "duration": 0,
    "start_time": "2024-05-27T17:16:46.180Z"
   },
   {
    "duration": 0,
    "start_time": "2024-05-27T17:16:46.182Z"
   },
   {
    "duration": 0,
    "start_time": "2024-05-27T17:16:46.183Z"
   },
   {
    "duration": 0,
    "start_time": "2024-05-27T17:16:46.185Z"
   },
   {
    "duration": 163,
    "start_time": "2024-05-27T17:17:24.407Z"
   },
   {
    "duration": 10,
    "start_time": "2024-05-27T17:17:47.532Z"
   },
   {
    "duration": 10,
    "start_time": "2024-05-27T17:17:50.637Z"
   },
   {
    "duration": 13,
    "start_time": "2024-05-27T17:17:53.455Z"
   },
   {
    "duration": 17,
    "start_time": "2024-05-27T17:17:58.116Z"
   },
   {
    "duration": 15,
    "start_time": "2024-05-27T17:18:00.447Z"
   },
   {
    "duration": 4,
    "start_time": "2024-05-27T17:18:16.637Z"
   },
   {
    "duration": 27,
    "start_time": "2024-05-27T17:18:19.813Z"
   },
   {
    "duration": 14,
    "start_time": "2024-05-27T17:18:24.049Z"
   },
   {
    "duration": 5,
    "start_time": "2024-05-27T17:18:27.244Z"
   },
   {
    "duration": 21,
    "start_time": "2024-05-27T17:18:30.109Z"
   },
   {
    "duration": 3,
    "start_time": "2024-05-27T17:23:17.209Z"
   },
   {
    "duration": 4,
    "start_time": "2024-05-27T17:23:23.422Z"
   },
   {
    "duration": 15,
    "start_time": "2024-05-27T17:23:34.921Z"
   },
   {
    "duration": 30,
    "start_time": "2024-05-27T17:24:21.692Z"
   },
   {
    "duration": 12,
    "start_time": "2024-05-27T17:24:24.249Z"
   },
   {
    "duration": 6,
    "start_time": "2024-05-27T17:24:27.226Z"
   },
   {
    "duration": 19,
    "start_time": "2024-05-27T17:24:30.554Z"
   },
   {
    "duration": 53,
    "start_time": "2024-05-27T17:25:34.094Z"
   },
   {
    "duration": 10,
    "start_time": "2024-05-27T17:25:55.212Z"
   },
   {
    "duration": 8,
    "start_time": "2024-05-27T17:26:00.282Z"
   },
   {
    "duration": 5,
    "start_time": "2024-05-27T17:26:02.041Z"
   },
   {
    "duration": 5,
    "start_time": "2024-05-27T17:27:06.305Z"
   },
   {
    "duration": 10,
    "start_time": "2024-05-27T17:27:29.392Z"
   },
   {
    "duration": 9,
    "start_time": "2024-05-27T17:32:31.636Z"
   },
   {
    "duration": 5,
    "start_time": "2024-05-27T17:32:36.632Z"
   },
   {
    "duration": 7,
    "start_time": "2024-05-27T17:32:48.293Z"
   },
   {
    "duration": 6,
    "start_time": "2024-05-27T17:33:04.014Z"
   },
   {
    "duration": 52,
    "start_time": "2024-05-27T17:33:56.017Z"
   },
   {
    "duration": 413,
    "start_time": "2024-05-27T17:43:48.508Z"
   },
   {
    "duration": 239,
    "start_time": "2024-05-27T17:43:48.923Z"
   },
   {
    "duration": 3,
    "start_time": "2024-05-27T17:43:49.163Z"
   },
   {
    "duration": 506,
    "start_time": "2024-05-27T17:43:49.167Z"
   },
   {
    "duration": 73,
    "start_time": "2024-05-27T17:43:49.676Z"
   },
   {
    "duration": 13,
    "start_time": "2024-05-27T17:43:49.751Z"
   },
   {
    "duration": 11,
    "start_time": "2024-05-27T17:43:49.766Z"
   },
   {
    "duration": 25,
    "start_time": "2024-05-27T17:43:49.779Z"
   },
   {
    "duration": 13,
    "start_time": "2024-05-27T17:43:49.806Z"
   },
   {
    "duration": 7,
    "start_time": "2024-05-27T17:43:49.820Z"
   },
   {
    "duration": 8,
    "start_time": "2024-05-27T17:43:49.829Z"
   },
   {
    "duration": 10,
    "start_time": "2024-05-27T17:43:49.839Z"
   },
   {
    "duration": 7,
    "start_time": "2024-05-27T17:43:49.851Z"
   },
   {
    "duration": 14,
    "start_time": "2024-05-27T17:43:49.887Z"
   },
   {
    "duration": 9,
    "start_time": "2024-05-27T17:43:49.902Z"
   },
   {
    "duration": 9,
    "start_time": "2024-05-27T17:43:49.913Z"
   },
   {
    "duration": 8,
    "start_time": "2024-05-27T17:43:49.924Z"
   },
   {
    "duration": 7,
    "start_time": "2024-05-27T17:43:49.934Z"
   },
   {
    "duration": 5,
    "start_time": "2024-05-27T17:43:49.942Z"
   },
   {
    "duration": 7,
    "start_time": "2024-05-27T17:43:49.948Z"
   },
   {
    "duration": 42,
    "start_time": "2024-05-27T17:43:49.956Z"
   },
   {
    "duration": 26,
    "start_time": "2024-05-27T17:43:49.999Z"
   },
   {
    "duration": 8,
    "start_time": "2024-05-27T17:43:50.026Z"
   },
   {
    "duration": 182,
    "start_time": "2024-05-27T17:43:50.035Z"
   },
   {
    "duration": 6,
    "start_time": "2024-05-27T17:43:50.219Z"
   },
   {
    "duration": 19,
    "start_time": "2024-05-27T17:43:50.226Z"
   },
   {
    "duration": 161,
    "start_time": "2024-05-27T17:43:50.247Z"
   },
   {
    "duration": 312,
    "start_time": "2024-05-27T17:43:50.410Z"
   },
   {
    "duration": 7,
    "start_time": "2024-05-27T17:43:50.724Z"
   },
   {
    "duration": 14,
    "start_time": "2024-05-27T17:43:50.733Z"
   },
   {
    "duration": 186,
    "start_time": "2024-05-27T17:43:50.748Z"
   },
   {
    "duration": 9,
    "start_time": "2024-05-27T17:43:50.935Z"
   },
   {
    "duration": 157,
    "start_time": "2024-05-27T17:43:50.946Z"
   },
   {
    "duration": 8,
    "start_time": "2024-05-27T17:43:51.104Z"
   },
   {
    "duration": 150,
    "start_time": "2024-05-27T17:43:51.113Z"
   },
   {
    "duration": 20,
    "start_time": "2024-05-27T17:43:51.265Z"
   },
   {
    "duration": 131,
    "start_time": "2024-05-27T17:43:51.287Z"
   },
   {
    "duration": 180,
    "start_time": "2024-05-27T17:43:51.420Z"
   },
   {
    "duration": 13,
    "start_time": "2024-05-27T17:43:51.602Z"
   },
   {
    "duration": 12,
    "start_time": "2024-05-27T17:43:51.617Z"
   },
   {
    "duration": 10,
    "start_time": "2024-05-27T17:43:51.634Z"
   },
   {
    "duration": 13,
    "start_time": "2024-05-27T17:43:51.645Z"
   },
   {
    "duration": 31,
    "start_time": "2024-05-27T17:43:51.681Z"
   },
   {
    "duration": 17,
    "start_time": "2024-05-27T17:43:51.714Z"
   },
   {
    "duration": 99,
    "start_time": "2024-05-27T17:43:51.733Z"
   },
   {
    "duration": 12,
    "start_time": "2024-05-27T17:43:51.833Z"
   },
   {
    "duration": 149,
    "start_time": "2024-05-27T17:43:51.846Z"
   },
   {
    "duration": 163,
    "start_time": "2024-05-27T17:43:51.997Z"
   },
   {
    "duration": 8,
    "start_time": "2024-05-27T17:43:52.162Z"
   },
   {
    "duration": 24,
    "start_time": "2024-05-27T17:43:52.172Z"
   },
   {
    "duration": 166,
    "start_time": "2024-05-27T17:43:52.197Z"
   },
   {
    "duration": 148,
    "start_time": "2024-05-27T17:43:52.365Z"
   },
   {
    "duration": 10,
    "start_time": "2024-05-27T17:43:52.515Z"
   },
   {
    "duration": 10,
    "start_time": "2024-05-27T17:43:52.526Z"
   },
   {
    "duration": 6,
    "start_time": "2024-05-27T17:43:52.538Z"
   },
   {
    "duration": 25,
    "start_time": "2024-05-27T17:43:52.545Z"
   },
   {
    "duration": 32,
    "start_time": "2024-05-27T17:43:52.572Z"
   },
   {
    "duration": 11,
    "start_time": "2024-05-27T17:43:52.606Z"
   },
   {
    "duration": 13,
    "start_time": "2024-05-27T17:43:52.619Z"
   },
   {
    "duration": 22,
    "start_time": "2024-05-27T17:43:52.634Z"
   },
   {
    "duration": 5,
    "start_time": "2024-05-27T17:43:52.657Z"
   },
   {
    "duration": 9,
    "start_time": "2024-05-27T17:43:52.681Z"
   },
   {
    "duration": 14,
    "start_time": "2024-05-27T17:43:52.691Z"
   },
   {
    "duration": 4,
    "start_time": "2024-05-27T17:43:52.707Z"
   },
   {
    "duration": 21,
    "start_time": "2024-05-27T17:43:52.712Z"
   },
   {
    "duration": 9,
    "start_time": "2024-05-27T17:43:52.735Z"
   },
   {
    "duration": 13,
    "start_time": "2024-05-27T17:43:52.746Z"
   },
   {
    "duration": 109,
    "start_time": "2024-05-27T17:43:52.761Z"
   },
   {
    "duration": 0,
    "start_time": "2024-05-27T17:43:52.872Z"
   },
   {
    "duration": 0,
    "start_time": "2024-05-27T17:43:52.873Z"
   },
   {
    "duration": 0,
    "start_time": "2024-05-27T17:43:52.880Z"
   },
   {
    "duration": 0,
    "start_time": "2024-05-27T17:43:52.881Z"
   },
   {
    "duration": 0,
    "start_time": "2024-05-27T17:43:52.882Z"
   },
   {
    "duration": 0,
    "start_time": "2024-05-27T17:43:52.882Z"
   },
   {
    "duration": 413,
    "start_time": "2024-05-27T17:44:38.147Z"
   },
   {
    "duration": 276,
    "start_time": "2024-05-27T17:44:38.562Z"
   },
   {
    "duration": 2,
    "start_time": "2024-05-27T17:44:38.840Z"
   },
   {
    "duration": 528,
    "start_time": "2024-05-27T17:44:38.844Z"
   },
   {
    "duration": 78,
    "start_time": "2024-05-27T17:44:39.373Z"
   },
   {
    "duration": 12,
    "start_time": "2024-05-27T17:44:39.453Z"
   },
   {
    "duration": 11,
    "start_time": "2024-05-27T17:44:39.466Z"
   },
   {
    "duration": 31,
    "start_time": "2024-05-27T17:44:39.478Z"
   },
   {
    "duration": 14,
    "start_time": "2024-05-27T17:44:39.511Z"
   },
   {
    "duration": 7,
    "start_time": "2024-05-27T17:44:39.527Z"
   },
   {
    "duration": 18,
    "start_time": "2024-05-27T17:44:39.535Z"
   },
   {
    "duration": 10,
    "start_time": "2024-05-27T17:44:39.554Z"
   },
   {
    "duration": 5,
    "start_time": "2024-05-27T17:44:39.566Z"
   },
   {
    "duration": 9,
    "start_time": "2024-05-27T17:44:39.573Z"
   },
   {
    "duration": 20,
    "start_time": "2024-05-27T17:44:39.583Z"
   },
   {
    "duration": 15,
    "start_time": "2024-05-27T17:44:39.604Z"
   },
   {
    "duration": 4,
    "start_time": "2024-05-27T17:44:39.621Z"
   },
   {
    "duration": 5,
    "start_time": "2024-05-27T17:44:39.626Z"
   },
   {
    "duration": 7,
    "start_time": "2024-05-27T17:44:39.633Z"
   },
   {
    "duration": 6,
    "start_time": "2024-05-27T17:44:39.642Z"
   },
   {
    "duration": 25,
    "start_time": "2024-05-27T17:44:39.649Z"
   },
   {
    "duration": 33,
    "start_time": "2024-05-27T17:44:39.676Z"
   },
   {
    "duration": 6,
    "start_time": "2024-05-27T17:44:39.710Z"
   },
   {
    "duration": 185,
    "start_time": "2024-05-27T17:44:39.717Z"
   },
   {
    "duration": 8,
    "start_time": "2024-05-27T17:44:39.905Z"
   },
   {
    "duration": 7,
    "start_time": "2024-05-27T17:44:39.914Z"
   },
   {
    "duration": 175,
    "start_time": "2024-05-27T17:44:39.922Z"
   },
   {
    "duration": 301,
    "start_time": "2024-05-27T17:44:40.107Z"
   },
   {
    "duration": 9,
    "start_time": "2024-05-27T17:44:40.410Z"
   },
   {
    "duration": 10,
    "start_time": "2024-05-27T17:44:40.420Z"
   },
   {
    "duration": 188,
    "start_time": "2024-05-27T17:44:40.432Z"
   },
   {
    "duration": 12,
    "start_time": "2024-05-27T17:44:40.622Z"
   },
   {
    "duration": 185,
    "start_time": "2024-05-27T17:44:40.636Z"
   },
   {
    "duration": 7,
    "start_time": "2024-05-27T17:44:40.823Z"
   },
   {
    "duration": 170,
    "start_time": "2024-05-27T17:44:40.832Z"
   },
   {
    "duration": 11,
    "start_time": "2024-05-27T17:44:41.011Z"
   },
   {
    "duration": 175,
    "start_time": "2024-05-27T17:44:41.023Z"
   },
   {
    "duration": 160,
    "start_time": "2024-05-27T17:44:41.206Z"
   },
   {
    "duration": 33,
    "start_time": "2024-05-27T17:44:41.368Z"
   },
   {
    "duration": 12,
    "start_time": "2024-05-27T17:44:41.409Z"
   },
   {
    "duration": 10,
    "start_time": "2024-05-27T17:44:41.422Z"
   },
   {
    "duration": 16,
    "start_time": "2024-05-27T17:44:41.433Z"
   },
   {
    "duration": 45,
    "start_time": "2024-05-27T17:44:41.450Z"
   },
   {
    "duration": 116,
    "start_time": "2024-05-27T17:44:41.497Z"
   },
   {
    "duration": 12,
    "start_time": "2024-05-27T17:44:41.614Z"
   },
   {
    "duration": 28,
    "start_time": "2024-05-27T17:44:41.627Z"
   },
   {
    "duration": 150,
    "start_time": "2024-05-27T17:44:41.657Z"
   },
   {
    "duration": 147,
    "start_time": "2024-05-27T17:44:41.809Z"
   },
   {
    "duration": 8,
    "start_time": "2024-05-27T17:44:41.957Z"
   },
   {
    "duration": 44,
    "start_time": "2024-05-27T17:44:41.966Z"
   },
   {
    "duration": 200,
    "start_time": "2024-05-27T17:44:42.012Z"
   },
   {
    "duration": 155,
    "start_time": "2024-05-27T17:44:42.215Z"
   },
   {
    "duration": 33,
    "start_time": "2024-05-27T17:44:42.373Z"
   },
   {
    "duration": 21,
    "start_time": "2024-05-27T17:44:42.409Z"
   },
   {
    "duration": 44,
    "start_time": "2024-05-27T17:44:42.431Z"
   },
   {
    "duration": 20,
    "start_time": "2024-05-27T17:44:42.477Z"
   },
   {
    "duration": 23,
    "start_time": "2024-05-27T17:44:42.499Z"
   },
   {
    "duration": 11,
    "start_time": "2024-05-27T17:44:42.524Z"
   },
   {
    "duration": 9,
    "start_time": "2024-05-27T17:44:42.537Z"
   },
   {
    "duration": 21,
    "start_time": "2024-05-27T17:44:42.548Z"
   },
   {
    "duration": 17,
    "start_time": "2024-05-27T17:44:42.584Z"
   },
   {
    "duration": 20,
    "start_time": "2024-05-27T17:44:42.603Z"
   },
   {
    "duration": 11,
    "start_time": "2024-05-27T17:44:42.625Z"
   },
   {
    "duration": 8,
    "start_time": "2024-05-27T17:44:42.638Z"
   },
   {
    "duration": 31,
    "start_time": "2024-05-27T17:44:42.648Z"
   },
   {
    "duration": 19,
    "start_time": "2024-05-27T17:44:42.681Z"
   },
   {
    "duration": 18,
    "start_time": "2024-05-27T17:44:42.702Z"
   },
   {
    "duration": 45,
    "start_time": "2024-05-27T17:44:42.722Z"
   },
   {
    "duration": 849,
    "start_time": "2024-05-27T17:44:42.768Z"
   },
   {
    "duration": 0,
    "start_time": "2024-05-27T17:44:43.619Z"
   },
   {
    "duration": 0,
    "start_time": "2024-05-27T17:44:43.620Z"
   },
   {
    "duration": 0,
    "start_time": "2024-05-27T17:44:43.621Z"
   },
   {
    "duration": 0,
    "start_time": "2024-05-27T17:44:43.623Z"
   },
   {
    "duration": 25,
    "start_time": "2024-05-27T18:00:53.721Z"
   },
   {
    "duration": 26,
    "start_time": "2024-05-27T18:01:14.720Z"
   },
   {
    "duration": 50,
    "start_time": "2024-05-27T18:03:12.063Z"
   },
   {
    "duration": 36,
    "start_time": "2024-05-27T18:04:13.877Z"
   },
   {
    "duration": 12,
    "start_time": "2024-05-27T18:04:17.598Z"
   },
   {
    "duration": 4,
    "start_time": "2024-05-27T18:04:19.559Z"
   },
   {
    "duration": 22,
    "start_time": "2024-05-27T18:04:21.929Z"
   },
   {
    "duration": 6,
    "start_time": "2024-05-27T18:06:45.409Z"
   },
   {
    "duration": 18,
    "start_time": "2024-05-27T18:06:54.242Z"
   },
   {
    "duration": 3,
    "start_time": "2024-05-27T18:09:30.640Z"
   },
   {
    "duration": 16,
    "start_time": "2024-05-27T18:12:10.434Z"
   },
   {
    "duration": 5,
    "start_time": "2024-05-27T18:13:41.845Z"
   },
   {
    "duration": 4,
    "start_time": "2024-05-27T18:14:14.010Z"
   },
   {
    "duration": 4,
    "start_time": "2024-05-27T18:14:29.432Z"
   },
   {
    "duration": 9,
    "start_time": "2024-05-27T18:14:31.991Z"
   },
   {
    "duration": 49,
    "start_time": "2024-05-27T18:14:33.826Z"
   },
   {
    "duration": 4,
    "start_time": "2024-05-27T18:14:40.644Z"
   },
   {
    "duration": 4,
    "start_time": "2024-05-27T18:37:06.346Z"
   },
   {
    "duration": 5,
    "start_time": "2024-05-27T18:37:08.832Z"
   },
   {
    "duration": 4,
    "start_time": "2024-05-27T18:37:11.074Z"
   },
   {
    "duration": 402,
    "start_time": "2024-05-27T18:54:51.596Z"
   },
   {
    "duration": 233,
    "start_time": "2024-05-27T18:54:52.000Z"
   },
   {
    "duration": 3,
    "start_time": "2024-05-27T18:54:52.234Z"
   },
   {
    "duration": 536,
    "start_time": "2024-05-27T18:54:52.239Z"
   },
   {
    "duration": 66,
    "start_time": "2024-05-27T18:54:52.777Z"
   },
   {
    "duration": 13,
    "start_time": "2024-05-27T18:54:52.845Z"
   },
   {
    "duration": 22,
    "start_time": "2024-05-27T18:54:52.860Z"
   },
   {
    "duration": 9,
    "start_time": "2024-05-27T18:54:52.884Z"
   },
   {
    "duration": 22,
    "start_time": "2024-05-27T18:54:52.895Z"
   },
   {
    "duration": 16,
    "start_time": "2024-05-27T18:54:52.921Z"
   },
   {
    "duration": 29,
    "start_time": "2024-05-27T18:54:52.938Z"
   },
   {
    "duration": 30,
    "start_time": "2024-05-27T18:54:52.968Z"
   },
   {
    "duration": 6,
    "start_time": "2024-05-27T18:54:52.999Z"
   },
   {
    "duration": 22,
    "start_time": "2024-05-27T18:54:53.007Z"
   },
   {
    "duration": 37,
    "start_time": "2024-05-27T18:54:53.031Z"
   },
   {
    "duration": 63,
    "start_time": "2024-05-27T18:54:53.070Z"
   },
   {
    "duration": 13,
    "start_time": "2024-05-27T18:54:53.134Z"
   },
   {
    "duration": 21,
    "start_time": "2024-05-27T18:54:53.149Z"
   },
   {
    "duration": 31,
    "start_time": "2024-05-27T18:54:53.171Z"
   },
   {
    "duration": 143,
    "start_time": "2024-05-27T18:54:53.203Z"
   },
   {
    "duration": 31,
    "start_time": "2024-05-27T18:54:53.347Z"
   },
   {
    "duration": 38,
    "start_time": "2024-05-27T18:54:53.379Z"
   },
   {
    "duration": 14,
    "start_time": "2024-05-27T18:54:53.419Z"
   },
   {
    "duration": 190,
    "start_time": "2024-05-27T18:54:53.435Z"
   },
   {
    "duration": 8,
    "start_time": "2024-05-27T18:54:53.632Z"
   },
   {
    "duration": 9,
    "start_time": "2024-05-27T18:54:53.643Z"
   },
   {
    "duration": 154,
    "start_time": "2024-05-27T18:54:53.653Z"
   },
   {
    "duration": 284,
    "start_time": "2024-05-27T18:54:53.811Z"
   },
   {
    "duration": 9,
    "start_time": "2024-05-27T18:54:54.097Z"
   },
   {
    "duration": 16,
    "start_time": "2024-05-27T18:54:54.107Z"
   },
   {
    "duration": 180,
    "start_time": "2024-05-27T18:54:54.124Z"
   },
   {
    "duration": 7,
    "start_time": "2024-05-27T18:54:54.306Z"
   },
   {
    "duration": 142,
    "start_time": "2024-05-27T18:54:54.314Z"
   },
   {
    "duration": 7,
    "start_time": "2024-05-27T18:54:54.457Z"
   },
   {
    "duration": 150,
    "start_time": "2024-05-27T18:54:54.465Z"
   },
   {
    "duration": 10,
    "start_time": "2024-05-27T18:54:54.617Z"
   },
   {
    "duration": 136,
    "start_time": "2024-05-27T18:54:54.628Z"
   },
   {
    "duration": 154,
    "start_time": "2024-05-27T18:54:54.766Z"
   },
   {
    "duration": 13,
    "start_time": "2024-05-27T18:54:54.922Z"
   },
   {
    "duration": 22,
    "start_time": "2024-05-27T18:54:54.937Z"
   },
   {
    "duration": 21,
    "start_time": "2024-05-27T18:54:54.960Z"
   },
   {
    "duration": 28,
    "start_time": "2024-05-27T18:54:54.983Z"
   },
   {
    "duration": 27,
    "start_time": "2024-05-27T18:54:55.013Z"
   },
   {
    "duration": 93,
    "start_time": "2024-05-27T18:54:55.042Z"
   },
   {
    "duration": 12,
    "start_time": "2024-05-27T18:54:55.136Z"
   },
   {
    "duration": 13,
    "start_time": "2024-05-27T18:54:55.149Z"
   },
   {
    "duration": 141,
    "start_time": "2024-05-27T18:54:55.163Z"
   },
   {
    "duration": 144,
    "start_time": "2024-05-27T18:54:55.306Z"
   },
   {
    "duration": 8,
    "start_time": "2024-05-27T18:54:55.452Z"
   },
   {
    "duration": 40,
    "start_time": "2024-05-27T18:54:55.461Z"
   },
   {
    "duration": 159,
    "start_time": "2024-05-27T18:54:55.502Z"
   },
   {
    "duration": 142,
    "start_time": "2024-05-27T18:54:55.662Z"
   },
   {
    "duration": 8,
    "start_time": "2024-05-27T18:54:55.805Z"
   },
   {
    "duration": 18,
    "start_time": "2024-05-27T18:54:55.814Z"
   },
   {
    "duration": 28,
    "start_time": "2024-05-27T18:54:55.833Z"
   },
   {
    "duration": 4,
    "start_time": "2024-05-27T18:54:55.866Z"
   },
   {
    "duration": 39,
    "start_time": "2024-05-27T18:54:55.872Z"
   },
   {
    "duration": 11,
    "start_time": "2024-05-27T18:54:55.913Z"
   },
   {
    "duration": 31,
    "start_time": "2024-05-27T18:54:55.926Z"
   },
   {
    "duration": 39,
    "start_time": "2024-05-27T18:54:55.958Z"
   },
   {
    "duration": 18,
    "start_time": "2024-05-27T18:54:55.998Z"
   },
   {
    "duration": 10,
    "start_time": "2024-05-27T18:54:56.017Z"
   },
   {
    "duration": 11,
    "start_time": "2024-05-27T18:54:56.029Z"
   },
   {
    "duration": 26,
    "start_time": "2024-05-27T18:54:56.041Z"
   },
   {
    "duration": 16,
    "start_time": "2024-05-27T18:54:56.068Z"
   },
   {
    "duration": 5,
    "start_time": "2024-05-27T18:54:56.085Z"
   },
   {
    "duration": 15,
    "start_time": "2024-05-27T18:54:56.092Z"
   },
   {
    "duration": 25,
    "start_time": "2024-05-27T18:54:56.109Z"
   },
   {
    "duration": 13,
    "start_time": "2024-05-27T18:54:56.136Z"
   },
   {
    "duration": 20,
    "start_time": "2024-05-27T18:54:56.150Z"
   },
   {
    "duration": 19,
    "start_time": "2024-05-27T18:54:56.171Z"
   },
   {
    "duration": 16,
    "start_time": "2024-05-27T18:54:56.192Z"
   },
   {
    "duration": 263,
    "start_time": "2024-05-27T18:56:52.880Z"
   },
   {
    "duration": 272,
    "start_time": "2024-05-27T18:57:23.951Z"
   },
   {
    "duration": 252,
    "start_time": "2024-05-27T18:57:41.758Z"
   },
   {
    "duration": 427,
    "start_time": "2024-05-27T19:00:27.271Z"
   },
   {
    "duration": 228,
    "start_time": "2024-05-27T19:00:27.700Z"
   },
   {
    "duration": 2,
    "start_time": "2024-05-27T19:00:27.929Z"
   },
   {
    "duration": 503,
    "start_time": "2024-05-27T19:00:27.933Z"
   },
   {
    "duration": 64,
    "start_time": "2024-05-27T19:00:28.438Z"
   },
   {
    "duration": 15,
    "start_time": "2024-05-27T19:00:28.504Z"
   },
   {
    "duration": 18,
    "start_time": "2024-05-27T19:00:28.521Z"
   },
   {
    "duration": 25,
    "start_time": "2024-05-27T19:00:28.541Z"
   },
   {
    "duration": 23,
    "start_time": "2024-05-27T19:00:28.568Z"
   },
   {
    "duration": 8,
    "start_time": "2024-05-27T19:00:28.593Z"
   },
   {
    "duration": 8,
    "start_time": "2024-05-27T19:00:28.603Z"
   },
   {
    "duration": 11,
    "start_time": "2024-05-27T19:00:28.613Z"
   },
   {
    "duration": 7,
    "start_time": "2024-05-27T19:00:28.626Z"
   },
   {
    "duration": 7,
    "start_time": "2024-05-27T19:00:28.634Z"
   },
   {
    "duration": 43,
    "start_time": "2024-05-27T19:00:28.643Z"
   },
   {
    "duration": 20,
    "start_time": "2024-05-27T19:00:28.688Z"
   },
   {
    "duration": 5,
    "start_time": "2024-05-27T19:00:28.710Z"
   },
   {
    "duration": 5,
    "start_time": "2024-05-27T19:00:28.717Z"
   },
   {
    "duration": 5,
    "start_time": "2024-05-27T19:00:28.723Z"
   },
   {
    "duration": 11,
    "start_time": "2024-05-27T19:00:28.729Z"
   },
   {
    "duration": 23,
    "start_time": "2024-05-27T19:00:28.742Z"
   },
   {
    "duration": 32,
    "start_time": "2024-05-27T19:00:28.767Z"
   },
   {
    "duration": 30,
    "start_time": "2024-05-27T19:00:28.801Z"
   },
   {
    "duration": 170,
    "start_time": "2024-05-27T19:00:28.832Z"
   },
   {
    "duration": 6,
    "start_time": "2024-05-27T19:00:29.004Z"
   },
   {
    "duration": 9,
    "start_time": "2024-05-27T19:00:29.011Z"
   },
   {
    "duration": 148,
    "start_time": "2024-05-27T19:00:29.021Z"
   },
   {
    "duration": 267,
    "start_time": "2024-05-27T19:00:29.172Z"
   },
   {
    "duration": 8,
    "start_time": "2024-05-27T19:00:29.441Z"
   },
   {
    "duration": 23,
    "start_time": "2024-05-27T19:00:29.450Z"
   },
   {
    "duration": 162,
    "start_time": "2024-05-27T19:00:29.474Z"
   },
   {
    "duration": 8,
    "start_time": "2024-05-27T19:00:29.637Z"
   },
   {
    "duration": 144,
    "start_time": "2024-05-27T19:00:29.647Z"
   },
   {
    "duration": 8,
    "start_time": "2024-05-27T19:00:29.792Z"
   },
   {
    "duration": 145,
    "start_time": "2024-05-27T19:00:29.801Z"
   },
   {
    "duration": 8,
    "start_time": "2024-05-27T19:00:29.947Z"
   },
   {
    "duration": 133,
    "start_time": "2024-05-27T19:00:29.957Z"
   },
   {
    "duration": 152,
    "start_time": "2024-05-27T19:00:30.092Z"
   },
   {
    "duration": 13,
    "start_time": "2024-05-27T19:00:30.245Z"
   },
   {
    "duration": 109,
    "start_time": "2024-05-27T19:00:30.259Z"
   },
   {
    "duration": 100,
    "start_time": "2024-05-27T19:00:30.369Z"
   },
   {
    "duration": 66,
    "start_time": "2024-05-27T19:00:30.471Z"
   },
   {
    "duration": 61,
    "start_time": "2024-05-27T19:00:30.539Z"
   },
   {
    "duration": 137,
    "start_time": "2024-05-27T19:00:30.602Z"
   },
   {
    "duration": 13,
    "start_time": "2024-05-27T19:00:30.741Z"
   },
   {
    "duration": 49,
    "start_time": "2024-05-27T19:00:30.755Z"
   },
   {
    "duration": 158,
    "start_time": "2024-05-27T19:00:30.805Z"
   },
   {
    "duration": 154,
    "start_time": "2024-05-27T19:00:30.964Z"
   },
   {
    "duration": 9,
    "start_time": "2024-05-27T19:00:31.119Z"
   },
   {
    "duration": 44,
    "start_time": "2024-05-27T19:00:31.130Z"
   },
   {
    "duration": 175,
    "start_time": "2024-05-27T19:00:31.175Z"
   },
   {
    "duration": 143,
    "start_time": "2024-05-27T19:00:31.352Z"
   },
   {
    "duration": 9,
    "start_time": "2024-05-27T19:00:31.497Z"
   },
   {
    "duration": 47,
    "start_time": "2024-05-27T19:00:31.507Z"
   },
   {
    "duration": 190,
    "start_time": "2024-05-27T19:00:31.555Z"
   },
   {
    "duration": 44,
    "start_time": "2024-05-27T19:00:31.747Z"
   },
   {
    "duration": 49,
    "start_time": "2024-05-27T19:00:31.793Z"
   },
   {
    "duration": 13,
    "start_time": "2024-05-27T19:00:31.843Z"
   },
   {
    "duration": 7,
    "start_time": "2024-05-27T19:00:31.857Z"
   },
   {
    "duration": 32,
    "start_time": "2024-05-27T19:00:31.865Z"
   },
   {
    "duration": 18,
    "start_time": "2024-05-27T19:00:31.899Z"
   },
   {
    "duration": 4,
    "start_time": "2024-05-27T19:00:31.918Z"
   },
   {
    "duration": 15,
    "start_time": "2024-05-27T19:00:31.924Z"
   },
   {
    "duration": 10,
    "start_time": "2024-05-27T19:00:31.941Z"
   },
   {
    "duration": 12,
    "start_time": "2024-05-27T19:00:31.953Z"
   },
   {
    "duration": 18,
    "start_time": "2024-05-27T19:00:31.967Z"
   },
   {
    "duration": 22,
    "start_time": "2024-05-27T19:00:31.987Z"
   },
   {
    "duration": 29,
    "start_time": "2024-05-27T19:00:32.011Z"
   },
   {
    "duration": 28,
    "start_time": "2024-05-27T19:00:32.042Z"
   },
   {
    "duration": 9,
    "start_time": "2024-05-27T19:00:32.072Z"
   },
   {
    "duration": 22,
    "start_time": "2024-05-27T19:00:32.083Z"
   },
   {
    "duration": 19,
    "start_time": "2024-05-27T19:00:32.107Z"
   },
   {
    "duration": 176,
    "start_time": "2024-05-27T19:03:45.789Z"
   },
   {
    "duration": 178,
    "start_time": "2024-05-27T19:04:58.910Z"
   },
   {
    "duration": 186,
    "start_time": "2024-05-27T19:05:40.790Z"
   },
   {
    "duration": 176,
    "start_time": "2024-05-27T19:05:45.262Z"
   },
   {
    "duration": 56,
    "start_time": "2024-05-27T19:06:57.219Z"
   },
   {
    "duration": 264,
    "start_time": "2024-05-27T19:06:59.716Z"
   },
   {
    "duration": 166,
    "start_time": "2024-05-27T19:07:09.647Z"
   },
   {
    "duration": 152,
    "start_time": "2024-05-27T19:07:15.102Z"
   },
   {
    "duration": 247,
    "start_time": "2024-05-27T19:07:20.378Z"
   },
   {
    "duration": 160,
    "start_time": "2024-05-27T19:07:34.609Z"
   },
   {
    "duration": 141,
    "start_time": "2024-05-27T19:07:58.102Z"
   },
   {
    "duration": 142,
    "start_time": "2024-05-27T19:08:29.792Z"
   },
   {
    "duration": 149,
    "start_time": "2024-05-27T19:08:51.837Z"
   },
   {
    "duration": 171,
    "start_time": "2024-05-27T19:10:01.030Z"
   },
   {
    "duration": 168,
    "start_time": "2024-05-27T19:10:08.112Z"
   },
   {
    "duration": 153,
    "start_time": "2024-05-27T19:10:12.078Z"
   },
   {
    "duration": 168,
    "start_time": "2024-05-27T19:10:21.036Z"
   },
   {
    "duration": 191,
    "start_time": "2024-05-27T19:11:12.827Z"
   },
   {
    "duration": 206,
    "start_time": "2024-05-27T19:11:34.598Z"
   },
   {
    "duration": 287,
    "start_time": "2024-05-27T19:12:05.757Z"
   },
   {
    "duration": 157,
    "start_time": "2024-05-27T19:12:28.750Z"
   },
   {
    "duration": 24,
    "start_time": "2024-05-27T19:13:41.880Z"
   },
   {
    "duration": 56,
    "start_time": "2024-05-27T19:15:18.140Z"
   },
   {
    "duration": 29,
    "start_time": "2024-05-27T19:15:32.894Z"
   },
   {
    "duration": 18,
    "start_time": "2024-05-27T19:15:43.946Z"
   },
   {
    "duration": 11,
    "start_time": "2024-05-27T19:15:45.943Z"
   },
   {
    "duration": 5,
    "start_time": "2024-05-27T19:15:48.482Z"
   },
   {
    "duration": 22,
    "start_time": "2024-05-27T19:15:52.170Z"
   },
   {
    "duration": 19,
    "start_time": "2024-05-27T19:15:59.185Z"
   },
   {
    "duration": 18,
    "start_time": "2024-05-27T19:16:08.148Z"
   },
   {
    "duration": 11,
    "start_time": "2024-05-27T19:16:10.571Z"
   },
   {
    "duration": 18,
    "start_time": "2024-05-27T19:16:13.015Z"
   },
   {
    "duration": 12,
    "start_time": "2024-05-27T19:16:26.554Z"
   },
   {
    "duration": 419,
    "start_time": "2024-05-27T19:17:12.682Z"
   },
   {
    "duration": 239,
    "start_time": "2024-05-27T19:17:13.103Z"
   },
   {
    "duration": 3,
    "start_time": "2024-05-27T19:17:13.343Z"
   },
   {
    "duration": 504,
    "start_time": "2024-05-27T19:17:13.348Z"
   },
   {
    "duration": 65,
    "start_time": "2024-05-27T19:17:13.854Z"
   },
   {
    "duration": 13,
    "start_time": "2024-05-27T19:17:13.921Z"
   },
   {
    "duration": 18,
    "start_time": "2024-05-27T19:17:13.936Z"
   },
   {
    "duration": 33,
    "start_time": "2024-05-27T19:17:13.955Z"
   },
   {
    "duration": 16,
    "start_time": "2024-05-27T19:17:13.990Z"
   },
   {
    "duration": 13,
    "start_time": "2024-05-27T19:17:14.009Z"
   },
   {
    "duration": 15,
    "start_time": "2024-05-27T19:17:14.024Z"
   },
   {
    "duration": 11,
    "start_time": "2024-05-27T19:17:14.041Z"
   },
   {
    "duration": 6,
    "start_time": "2024-05-27T19:17:14.054Z"
   },
   {
    "duration": 6,
    "start_time": "2024-05-27T19:17:14.081Z"
   },
   {
    "duration": 22,
    "start_time": "2024-05-27T19:17:14.088Z"
   },
   {
    "duration": 15,
    "start_time": "2024-05-27T19:17:14.111Z"
   },
   {
    "duration": 5,
    "start_time": "2024-05-27T19:17:14.127Z"
   },
   {
    "duration": 24,
    "start_time": "2024-05-27T19:17:14.134Z"
   },
   {
    "duration": 13,
    "start_time": "2024-05-27T19:17:14.159Z"
   },
   {
    "duration": 10,
    "start_time": "2024-05-27T19:17:14.174Z"
   },
   {
    "duration": 32,
    "start_time": "2024-05-27T19:17:14.185Z"
   },
   {
    "duration": 15,
    "start_time": "2024-05-27T19:17:14.218Z"
   },
   {
    "duration": 19,
    "start_time": "2024-05-27T19:17:14.235Z"
   },
   {
    "duration": 188,
    "start_time": "2024-05-27T19:17:14.256Z"
   },
   {
    "duration": 5,
    "start_time": "2024-05-27T19:17:14.446Z"
   },
   {
    "duration": 11,
    "start_time": "2024-05-27T19:17:14.452Z"
   },
   {
    "duration": 147,
    "start_time": "2024-05-27T19:17:14.465Z"
   },
   {
    "duration": 265,
    "start_time": "2024-05-27T19:17:14.616Z"
   },
   {
    "duration": 7,
    "start_time": "2024-05-27T19:17:14.883Z"
   },
   {
    "duration": 14,
    "start_time": "2024-05-27T19:17:14.891Z"
   },
   {
    "duration": 173,
    "start_time": "2024-05-27T19:17:14.907Z"
   },
   {
    "duration": 8,
    "start_time": "2024-05-27T19:17:15.082Z"
   },
   {
    "duration": 177,
    "start_time": "2024-05-27T19:17:15.091Z"
   },
   {
    "duration": 7,
    "start_time": "2024-05-27T19:17:15.270Z"
   },
   {
    "duration": 162,
    "start_time": "2024-05-27T19:17:15.280Z"
   },
   {
    "duration": 9,
    "start_time": "2024-05-27T19:17:15.444Z"
   },
   {
    "duration": 180,
    "start_time": "2024-05-27T19:17:15.455Z"
   },
   {
    "duration": 204,
    "start_time": "2024-05-27T19:17:15.637Z"
   },
   {
    "duration": 14,
    "start_time": "2024-05-27T19:17:15.842Z"
   },
   {
    "duration": 15,
    "start_time": "2024-05-27T19:17:15.857Z"
   },
   {
    "duration": 13,
    "start_time": "2024-05-27T19:17:15.874Z"
   },
   {
    "duration": 20,
    "start_time": "2024-05-27T19:17:15.889Z"
   },
   {
    "duration": 24,
    "start_time": "2024-05-27T19:17:15.910Z"
   },
   {
    "duration": 90,
    "start_time": "2024-05-27T19:17:15.935Z"
   },
   {
    "duration": 12,
    "start_time": "2024-05-27T19:17:16.026Z"
   },
   {
    "duration": 49,
    "start_time": "2024-05-27T19:17:16.040Z"
   },
   {
    "duration": 231,
    "start_time": "2024-05-27T19:17:16.091Z"
   },
   {
    "duration": 257,
    "start_time": "2024-05-27T19:17:16.324Z"
   },
   {
    "duration": 8,
    "start_time": "2024-05-27T19:17:16.583Z"
   },
   {
    "duration": 37,
    "start_time": "2024-05-27T19:17:16.592Z"
   },
   {
    "duration": 178,
    "start_time": "2024-05-27T19:17:16.631Z"
   },
   {
    "duration": 186,
    "start_time": "2024-05-27T19:17:16.811Z"
   },
   {
    "duration": 8,
    "start_time": "2024-05-27T19:17:16.998Z"
   },
   {
    "duration": 9,
    "start_time": "2024-05-27T19:17:17.007Z"
   },
   {
    "duration": 3,
    "start_time": "2024-05-27T19:17:17.018Z"
   },
   {
    "duration": 24,
    "start_time": "2024-05-27T19:17:17.022Z"
   },
   {
    "duration": 26,
    "start_time": "2024-05-27T19:17:17.048Z"
   },
   {
    "duration": 9,
    "start_time": "2024-05-27T19:17:17.075Z"
   },
   {
    "duration": 4,
    "start_time": "2024-05-27T19:17:17.085Z"
   },
   {
    "duration": 46,
    "start_time": "2024-05-27T19:17:17.090Z"
   },
   {
    "duration": 12,
    "start_time": "2024-05-27T19:17:17.137Z"
   },
   {
    "duration": 3,
    "start_time": "2024-05-27T19:17:17.151Z"
   },
   {
    "duration": 8,
    "start_time": "2024-05-27T19:17:17.155Z"
   },
   {
    "duration": 19,
    "start_time": "2024-05-27T19:17:17.165Z"
   },
   {
    "duration": 11,
    "start_time": "2024-05-27T19:17:17.185Z"
   },
   {
    "duration": 11,
    "start_time": "2024-05-27T19:17:17.197Z"
   },
   {
    "duration": 25,
    "start_time": "2024-05-27T19:17:17.209Z"
   },
   {
    "duration": 19,
    "start_time": "2024-05-27T19:17:17.236Z"
   },
   {
    "duration": 8,
    "start_time": "2024-05-27T19:17:17.257Z"
   },
   {
    "duration": 6,
    "start_time": "2024-05-27T19:17:17.266Z"
   },
   {
    "duration": 13,
    "start_time": "2024-05-27T19:17:17.273Z"
   },
   {
    "duration": 7,
    "start_time": "2024-05-27T19:17:17.288Z"
   },
   {
    "duration": 410,
    "start_time": "2024-05-27T19:28:29.448Z"
   },
   {
    "duration": 224,
    "start_time": "2024-05-27T19:28:29.860Z"
   },
   {
    "duration": 3,
    "start_time": "2024-05-27T19:28:30.085Z"
   },
   {
    "duration": 454,
    "start_time": "2024-05-27T19:28:30.090Z"
   },
   {
    "duration": 72,
    "start_time": "2024-05-27T19:28:30.546Z"
   },
   {
    "duration": 13,
    "start_time": "2024-05-27T19:28:30.619Z"
   },
   {
    "duration": 37,
    "start_time": "2024-05-27T19:28:30.633Z"
   },
   {
    "duration": 40,
    "start_time": "2024-05-27T19:28:30.672Z"
   },
   {
    "duration": 40,
    "start_time": "2024-05-27T19:28:30.714Z"
   },
   {
    "duration": 20,
    "start_time": "2024-05-27T19:28:30.756Z"
   },
   {
    "duration": 53,
    "start_time": "2024-05-27T19:28:30.777Z"
   },
   {
    "duration": 54,
    "start_time": "2024-05-27T19:28:30.831Z"
   },
   {
    "duration": 40,
    "start_time": "2024-05-27T19:28:30.887Z"
   },
   {
    "duration": 41,
    "start_time": "2024-05-27T19:28:30.929Z"
   },
   {
    "duration": 27,
    "start_time": "2024-05-27T19:28:30.972Z"
   },
   {
    "duration": 43,
    "start_time": "2024-05-27T19:28:31.001Z"
   },
   {
    "duration": 66,
    "start_time": "2024-05-27T19:28:31.046Z"
   },
   {
    "duration": 57,
    "start_time": "2024-05-27T19:28:31.114Z"
   },
   {
    "duration": 43,
    "start_time": "2024-05-27T19:28:31.173Z"
   },
   {
    "duration": 28,
    "start_time": "2024-05-27T19:28:31.219Z"
   },
   {
    "duration": 48,
    "start_time": "2024-05-27T19:28:31.249Z"
   },
   {
    "duration": 39,
    "start_time": "2024-05-27T19:28:31.300Z"
   },
   {
    "duration": 27,
    "start_time": "2024-05-27T19:28:31.341Z"
   },
   {
    "duration": 176,
    "start_time": "2024-05-27T19:28:31.370Z"
   },
   {
    "duration": 6,
    "start_time": "2024-05-27T19:28:31.548Z"
   },
   {
    "duration": 52,
    "start_time": "2024-05-27T19:28:31.556Z"
   },
   {
    "duration": 175,
    "start_time": "2024-05-27T19:28:31.610Z"
   },
   {
    "duration": 289,
    "start_time": "2024-05-27T19:28:31.791Z"
   },
   {
    "duration": 9,
    "start_time": "2024-05-27T19:28:32.082Z"
   },
   {
    "duration": 29,
    "start_time": "2024-05-27T19:28:32.093Z"
   },
   {
    "duration": 211,
    "start_time": "2024-05-27T19:28:32.124Z"
   },
   {
    "duration": 8,
    "start_time": "2024-05-27T19:28:32.337Z"
   },
   {
    "duration": 196,
    "start_time": "2024-05-27T19:28:32.347Z"
   },
   {
    "duration": 8,
    "start_time": "2024-05-27T19:28:32.545Z"
   },
   {
    "duration": 197,
    "start_time": "2024-05-27T19:28:32.554Z"
   },
   {
    "duration": 9,
    "start_time": "2024-05-27T19:28:32.753Z"
   },
   {
    "duration": 186,
    "start_time": "2024-05-27T19:28:32.764Z"
   },
   {
    "duration": 176,
    "start_time": "2024-05-27T19:28:32.952Z"
   },
   {
    "duration": 13,
    "start_time": "2024-05-27T19:28:33.130Z"
   },
   {
    "duration": 10,
    "start_time": "2024-05-27T19:28:33.144Z"
   },
   {
    "duration": 25,
    "start_time": "2024-05-27T19:28:33.155Z"
   },
   {
    "duration": 13,
    "start_time": "2024-05-27T19:28:33.182Z"
   },
   {
    "duration": 31,
    "start_time": "2024-05-27T19:28:33.197Z"
   },
   {
    "duration": 112,
    "start_time": "2024-05-27T19:28:33.230Z"
   },
   {
    "duration": 12,
    "start_time": "2024-05-27T19:28:33.344Z"
   },
   {
    "duration": 23,
    "start_time": "2024-05-27T19:28:33.357Z"
   },
   {
    "duration": 158,
    "start_time": "2024-05-27T19:28:33.382Z"
   },
   {
    "duration": 172,
    "start_time": "2024-05-27T19:28:33.542Z"
   },
   {
    "duration": 8,
    "start_time": "2024-05-27T19:28:33.716Z"
   },
   {
    "duration": 8,
    "start_time": "2024-05-27T19:28:33.725Z"
   },
   {
    "duration": 201,
    "start_time": "2024-05-27T19:28:33.735Z"
   },
   {
    "duration": 180,
    "start_time": "2024-05-27T19:28:33.937Z"
   },
   {
    "duration": 9,
    "start_time": "2024-05-27T19:28:34.118Z"
   },
   {
    "duration": 8,
    "start_time": "2024-05-27T19:28:34.128Z"
   },
   {
    "duration": 4,
    "start_time": "2024-05-27T19:28:34.138Z"
   },
   {
    "duration": 3,
    "start_time": "2024-05-27T19:28:34.144Z"
   },
   {
    "duration": 41,
    "start_time": "2024-05-27T19:28:34.149Z"
   },
   {
    "duration": 16,
    "start_time": "2024-05-27T19:28:34.193Z"
   },
   {
    "duration": 5,
    "start_time": "2024-05-27T19:28:34.210Z"
   },
   {
    "duration": 22,
    "start_time": "2024-05-27T19:28:34.217Z"
   },
   {
    "duration": 12,
    "start_time": "2024-05-27T19:28:34.241Z"
   },
   {
    "duration": 8,
    "start_time": "2024-05-27T19:28:34.280Z"
   },
   {
    "duration": 6,
    "start_time": "2024-05-27T19:28:34.291Z"
   },
   {
    "duration": 5,
    "start_time": "2024-05-27T19:28:34.299Z"
   },
   {
    "duration": 5,
    "start_time": "2024-05-27T19:28:34.307Z"
   },
   {
    "duration": 7,
    "start_time": "2024-05-27T19:28:34.314Z"
   },
   {
    "duration": 5,
    "start_time": "2024-05-27T19:28:34.323Z"
   },
   {
    "duration": 6,
    "start_time": "2024-05-27T19:28:34.330Z"
   },
   {
    "duration": 45,
    "start_time": "2024-05-27T19:28:34.337Z"
   },
   {
    "duration": 5,
    "start_time": "2024-05-27T19:28:34.385Z"
   },
   {
    "duration": 13,
    "start_time": "2024-05-27T19:28:34.392Z"
   },
   {
    "duration": 461,
    "start_time": "2024-05-27T19:30:09.864Z"
   },
   {
    "duration": 279,
    "start_time": "2024-05-27T19:30:10.327Z"
   },
   {
    "duration": 6,
    "start_time": "2024-05-27T19:30:10.613Z"
   },
   {
    "duration": 567,
    "start_time": "2024-05-27T19:30:10.623Z"
   },
   {
    "duration": 77,
    "start_time": "2024-05-27T19:30:11.194Z"
   },
   {
    "duration": 29,
    "start_time": "2024-05-27T19:30:11.272Z"
   },
   {
    "duration": 15,
    "start_time": "2024-05-27T19:30:11.306Z"
   },
   {
    "duration": 25,
    "start_time": "2024-05-27T19:30:11.323Z"
   },
   {
    "duration": 36,
    "start_time": "2024-05-27T19:30:11.349Z"
   },
   {
    "duration": 22,
    "start_time": "2024-05-27T19:30:11.388Z"
   },
   {
    "duration": 13,
    "start_time": "2024-05-27T19:30:11.412Z"
   },
   {
    "duration": 23,
    "start_time": "2024-05-27T19:30:11.427Z"
   },
   {
    "duration": 13,
    "start_time": "2024-05-27T19:30:11.451Z"
   },
   {
    "duration": 34,
    "start_time": "2024-05-27T19:30:11.465Z"
   },
   {
    "duration": 10,
    "start_time": "2024-05-27T19:30:11.501Z"
   },
   {
    "duration": 8,
    "start_time": "2024-05-27T19:30:11.512Z"
   },
   {
    "duration": 6,
    "start_time": "2024-05-27T19:30:11.522Z"
   },
   {
    "duration": 15,
    "start_time": "2024-05-27T19:30:11.529Z"
   },
   {
    "duration": 15,
    "start_time": "2024-05-27T19:30:11.546Z"
   },
   {
    "duration": 15,
    "start_time": "2024-05-27T19:30:11.562Z"
   },
   {
    "duration": 19,
    "start_time": "2024-05-27T19:30:11.579Z"
   },
   {
    "duration": 12,
    "start_time": "2024-05-27T19:30:11.600Z"
   },
   {
    "duration": 28,
    "start_time": "2024-05-27T19:30:11.614Z"
   },
   {
    "duration": 180,
    "start_time": "2024-05-27T19:30:11.643Z"
   },
   {
    "duration": 6,
    "start_time": "2024-05-27T19:30:11.825Z"
   },
   {
    "duration": 12,
    "start_time": "2024-05-27T19:30:11.833Z"
   },
   {
    "duration": 172,
    "start_time": "2024-05-27T19:30:11.846Z"
   },
   {
    "duration": 302,
    "start_time": "2024-05-27T19:30:12.022Z"
   },
   {
    "duration": 8,
    "start_time": "2024-05-27T19:30:12.325Z"
   },
   {
    "duration": 10,
    "start_time": "2024-05-27T19:30:12.334Z"
   },
   {
    "duration": 209,
    "start_time": "2024-05-27T19:30:12.346Z"
   },
   {
    "duration": 11,
    "start_time": "2024-05-27T19:30:12.558Z"
   },
   {
    "duration": 192,
    "start_time": "2024-05-27T19:30:12.580Z"
   },
   {
    "duration": 19,
    "start_time": "2024-05-27T19:30:12.773Z"
   },
   {
    "duration": 191,
    "start_time": "2024-05-27T19:30:12.794Z"
   },
   {
    "duration": 21,
    "start_time": "2024-05-27T19:30:12.988Z"
   },
   {
    "duration": 158,
    "start_time": "2024-05-27T19:30:13.011Z"
   },
   {
    "duration": 201,
    "start_time": "2024-05-27T19:30:13.171Z"
   },
   {
    "duration": 27,
    "start_time": "2024-05-27T19:30:13.379Z"
   },
   {
    "duration": 13,
    "start_time": "2024-05-27T19:30:13.411Z"
   },
   {
    "duration": 25,
    "start_time": "2024-05-27T19:30:13.425Z"
   },
   {
    "duration": 11,
    "start_time": "2024-05-27T19:30:13.452Z"
   },
   {
    "duration": 58,
    "start_time": "2024-05-27T19:30:13.464Z"
   },
   {
    "duration": 94,
    "start_time": "2024-05-27T19:30:13.523Z"
   },
   {
    "duration": 11,
    "start_time": "2024-05-27T19:30:13.619Z"
   },
   {
    "duration": 22,
    "start_time": "2024-05-27T19:30:13.632Z"
   },
   {
    "duration": 176,
    "start_time": "2024-05-27T19:30:13.655Z"
   },
   {
    "duration": 188,
    "start_time": "2024-05-27T19:30:13.832Z"
   },
   {
    "duration": 8,
    "start_time": "2024-05-27T19:30:14.021Z"
   },
   {
    "duration": 42,
    "start_time": "2024-05-27T19:30:14.031Z"
   },
   {
    "duration": 202,
    "start_time": "2024-05-27T19:30:14.074Z"
   },
   {
    "duration": 165,
    "start_time": "2024-05-27T19:30:14.282Z"
   },
   {
    "duration": 8,
    "start_time": "2024-05-27T19:30:14.448Z"
   },
   {
    "duration": 23,
    "start_time": "2024-05-27T19:30:14.458Z"
   },
   {
    "duration": 14,
    "start_time": "2024-05-27T19:30:14.488Z"
   },
   {
    "duration": 2,
    "start_time": "2024-05-27T19:30:14.510Z"
   },
   {
    "duration": 18,
    "start_time": "2024-05-27T19:30:14.514Z"
   },
   {
    "duration": 9,
    "start_time": "2024-05-27T19:30:14.534Z"
   },
   {
    "duration": 16,
    "start_time": "2024-05-27T19:30:14.545Z"
   },
   {
    "duration": 32,
    "start_time": "2024-05-27T19:30:14.562Z"
   },
   {
    "duration": 23,
    "start_time": "2024-05-27T19:30:14.597Z"
   },
   {
    "duration": 4,
    "start_time": "2024-05-27T19:30:14.621Z"
   },
   {
    "duration": 8,
    "start_time": "2024-05-27T19:30:14.627Z"
   },
   {
    "duration": 8,
    "start_time": "2024-05-27T19:30:14.637Z"
   },
   {
    "duration": 11,
    "start_time": "2024-05-27T19:30:14.646Z"
   },
   {
    "duration": 6,
    "start_time": "2024-05-27T19:30:14.659Z"
   },
   {
    "duration": 20,
    "start_time": "2024-05-27T19:30:14.667Z"
   },
   {
    "duration": 24,
    "start_time": "2024-05-27T19:30:14.689Z"
   },
   {
    "duration": 4,
    "start_time": "2024-05-27T19:30:14.714Z"
   },
   {
    "duration": 15,
    "start_time": "2024-05-27T19:30:14.719Z"
   },
   {
    "duration": 17,
    "start_time": "2024-05-27T19:30:14.736Z"
   },
   {
    "duration": 448,
    "start_time": "2024-05-28T13:53:42.068Z"
   },
   {
    "duration": 236,
    "start_time": "2024-05-28T13:53:42.518Z"
   },
   {
    "duration": 3,
    "start_time": "2024-05-28T13:53:42.755Z"
   },
   {
    "duration": 475,
    "start_time": "2024-05-28T13:53:42.760Z"
   },
   {
    "duration": 66,
    "start_time": "2024-05-28T13:53:43.238Z"
   },
   {
    "duration": 12,
    "start_time": "2024-05-28T13:53:43.306Z"
   },
   {
    "duration": 17,
    "start_time": "2024-05-28T13:53:43.320Z"
   },
   {
    "duration": 32,
    "start_time": "2024-05-28T13:53:43.339Z"
   },
   {
    "duration": 12,
    "start_time": "2024-05-28T13:53:43.373Z"
   },
   {
    "duration": 11,
    "start_time": "2024-05-28T13:53:43.387Z"
   },
   {
    "duration": 13,
    "start_time": "2024-05-28T13:53:43.399Z"
   },
   {
    "duration": 23,
    "start_time": "2024-05-28T13:53:43.414Z"
   },
   {
    "duration": 6,
    "start_time": "2024-05-28T13:53:43.439Z"
   },
   {
    "duration": 8,
    "start_time": "2024-05-28T13:53:43.458Z"
   },
   {
    "duration": 16,
    "start_time": "2024-05-28T13:53:43.468Z"
   },
   {
    "duration": 8,
    "start_time": "2024-05-28T13:53:43.486Z"
   },
   {
    "duration": 7,
    "start_time": "2024-05-28T13:53:43.496Z"
   },
   {
    "duration": 13,
    "start_time": "2024-05-28T13:53:43.505Z"
   },
   {
    "duration": 18,
    "start_time": "2024-05-28T13:53:43.520Z"
   },
   {
    "duration": 19,
    "start_time": "2024-05-28T13:53:43.540Z"
   },
   {
    "duration": 8,
    "start_time": "2024-05-28T13:53:43.561Z"
   },
   {
    "duration": 19,
    "start_time": "2024-05-28T13:53:43.571Z"
   },
   {
    "duration": 10,
    "start_time": "2024-05-28T13:53:43.592Z"
   },
   {
    "duration": 174,
    "start_time": "2024-05-28T13:53:43.604Z"
   },
   {
    "duration": 7,
    "start_time": "2024-05-28T13:53:43.779Z"
   },
   {
    "duration": 8,
    "start_time": "2024-05-28T13:53:43.789Z"
   },
   {
    "duration": 168,
    "start_time": "2024-05-28T13:53:43.798Z"
   },
   {
    "duration": 278,
    "start_time": "2024-05-28T13:53:43.968Z"
   },
   {
    "duration": 17,
    "start_time": "2024-05-28T13:53:44.247Z"
   },
   {
    "duration": 17,
    "start_time": "2024-05-28T13:53:44.265Z"
   },
   {
    "duration": 183,
    "start_time": "2024-05-28T13:53:44.283Z"
   },
   {
    "duration": 9,
    "start_time": "2024-05-28T13:53:44.468Z"
   },
   {
    "duration": 179,
    "start_time": "2024-05-28T13:53:44.479Z"
   },
   {
    "duration": 8,
    "start_time": "2024-05-28T13:53:44.660Z"
   },
   {
    "duration": 185,
    "start_time": "2024-05-28T13:53:44.669Z"
   },
   {
    "duration": 9,
    "start_time": "2024-05-28T13:53:44.855Z"
   },
   {
    "duration": 159,
    "start_time": "2024-05-28T13:53:44.866Z"
   },
   {
    "duration": 180,
    "start_time": "2024-05-28T13:53:45.027Z"
   },
   {
    "duration": 14,
    "start_time": "2024-05-28T13:53:45.208Z"
   },
   {
    "duration": 22,
    "start_time": "2024-05-28T13:53:45.224Z"
   },
   {
    "duration": 11,
    "start_time": "2024-05-28T13:53:45.258Z"
   },
   {
    "duration": 20,
    "start_time": "2024-05-28T13:53:45.270Z"
   },
   {
    "duration": 19,
    "start_time": "2024-05-28T13:53:45.292Z"
   },
   {
    "duration": 16,
    "start_time": "2024-05-28T13:53:45.312Z"
   },
   {
    "duration": 113,
    "start_time": "2024-05-28T13:53:45.330Z"
   },
   {
    "duration": 17,
    "start_time": "2024-05-28T13:53:45.467Z"
   },
   {
    "duration": 169,
    "start_time": "2024-05-28T13:53:45.486Z"
   },
   {
    "duration": 169,
    "start_time": "2024-05-28T13:53:45.657Z"
   },
   {
    "duration": 8,
    "start_time": "2024-05-28T13:53:45.828Z"
   },
   {
    "duration": 22,
    "start_time": "2024-05-28T13:53:45.837Z"
   },
   {
    "duration": 198,
    "start_time": "2024-05-28T13:53:45.860Z"
   },
   {
    "duration": 163,
    "start_time": "2024-05-28T13:53:46.060Z"
   },
   {
    "duration": 10,
    "start_time": "2024-05-28T13:53:46.225Z"
   },
   {
    "duration": 29,
    "start_time": "2024-05-28T13:53:46.237Z"
   },
   {
    "duration": 11,
    "start_time": "2024-05-28T13:53:46.268Z"
   },
   {
    "duration": 22,
    "start_time": "2024-05-28T13:53:46.282Z"
   },
   {
    "duration": 31,
    "start_time": "2024-05-28T13:53:46.307Z"
   },
   {
    "duration": 13,
    "start_time": "2024-05-28T13:53:46.340Z"
   },
   {
    "duration": 9,
    "start_time": "2024-05-28T13:53:46.355Z"
   },
   {
    "duration": 28,
    "start_time": "2024-05-28T13:53:46.366Z"
   },
   {
    "duration": 22,
    "start_time": "2024-05-28T13:53:46.396Z"
   },
   {
    "duration": 11,
    "start_time": "2024-05-28T13:53:46.419Z"
   },
   {
    "duration": 14,
    "start_time": "2024-05-28T13:53:46.431Z"
   },
   {
    "duration": 23,
    "start_time": "2024-05-28T13:53:46.447Z"
   },
   {
    "duration": 19,
    "start_time": "2024-05-28T13:53:46.472Z"
   },
   {
    "duration": 21,
    "start_time": "2024-05-28T13:53:46.493Z"
   },
   {
    "duration": 7,
    "start_time": "2024-05-28T13:53:46.515Z"
   },
   {
    "duration": 21,
    "start_time": "2024-05-28T13:53:46.523Z"
   },
   {
    "duration": 10,
    "start_time": "2024-05-28T13:53:46.546Z"
   },
   {
    "duration": 23,
    "start_time": "2024-05-28T13:53:46.558Z"
   },
   {
    "duration": 22,
    "start_time": "2024-05-28T13:53:46.583Z"
   },
   {
    "duration": 414,
    "start_time": "2024-05-28T14:06:48.493Z"
   },
   {
    "duration": 261,
    "start_time": "2024-05-28T14:06:48.909Z"
   },
   {
    "duration": 3,
    "start_time": "2024-05-28T14:06:49.172Z"
   },
   {
    "duration": 463,
    "start_time": "2024-05-28T14:06:49.178Z"
   },
   {
    "duration": 68,
    "start_time": "2024-05-28T14:06:49.643Z"
   },
   {
    "duration": 13,
    "start_time": "2024-05-28T14:06:49.712Z"
   },
   {
    "duration": 11,
    "start_time": "2024-05-28T14:06:49.727Z"
   },
   {
    "duration": 13,
    "start_time": "2024-05-28T14:06:49.740Z"
   },
   {
    "duration": 12,
    "start_time": "2024-05-28T14:06:49.755Z"
   },
   {
    "duration": 6,
    "start_time": "2024-05-28T14:06:49.770Z"
   },
   {
    "duration": 7,
    "start_time": "2024-05-28T14:06:49.777Z"
   },
   {
    "duration": 12,
    "start_time": "2024-05-28T14:06:49.785Z"
   },
   {
    "duration": 6,
    "start_time": "2024-05-28T14:06:49.798Z"
   },
   {
    "duration": 6,
    "start_time": "2024-05-28T14:06:49.806Z"
   },
   {
    "duration": 6,
    "start_time": "2024-05-28T14:06:49.814Z"
   },
   {
    "duration": 40,
    "start_time": "2024-05-28T14:06:49.821Z"
   },
   {
    "duration": 5,
    "start_time": "2024-05-28T14:06:49.863Z"
   },
   {
    "duration": 7,
    "start_time": "2024-05-28T14:06:49.870Z"
   },
   {
    "duration": 4,
    "start_time": "2024-05-28T14:06:49.878Z"
   },
   {
    "duration": 8,
    "start_time": "2024-05-28T14:06:49.883Z"
   },
   {
    "duration": 8,
    "start_time": "2024-05-28T14:06:49.893Z"
   },
   {
    "duration": 19,
    "start_time": "2024-05-28T14:06:49.902Z"
   },
   {
    "duration": 11,
    "start_time": "2024-05-28T14:06:49.922Z"
   },
   {
    "duration": 198,
    "start_time": "2024-05-28T14:06:49.935Z"
   },
   {
    "duration": 6,
    "start_time": "2024-05-28T14:06:50.134Z"
   },
   {
    "duration": 22,
    "start_time": "2024-05-28T14:06:50.142Z"
   },
   {
    "duration": 148,
    "start_time": "2024-05-28T14:06:50.166Z"
   },
   {
    "duration": 280,
    "start_time": "2024-05-28T14:06:50.318Z"
   },
   {
    "duration": 10,
    "start_time": "2024-05-28T14:06:50.600Z"
   },
   {
    "duration": 21,
    "start_time": "2024-05-28T14:06:50.611Z"
   },
   {
    "duration": 185,
    "start_time": "2024-05-28T14:06:50.633Z"
   },
   {
    "duration": 10,
    "start_time": "2024-05-28T14:06:50.820Z"
   },
   {
    "duration": 164,
    "start_time": "2024-05-28T14:06:50.832Z"
   },
   {
    "duration": 6,
    "start_time": "2024-05-28T14:06:50.998Z"
   },
   {
    "duration": 157,
    "start_time": "2024-05-28T14:06:51.006Z"
   },
   {
    "duration": 11,
    "start_time": "2024-05-28T14:06:51.165Z"
   },
   {
    "duration": 165,
    "start_time": "2024-05-28T14:06:51.178Z"
   },
   {
    "duration": 168,
    "start_time": "2024-05-28T14:06:51.345Z"
   },
   {
    "duration": 15,
    "start_time": "2024-05-28T14:06:51.514Z"
   },
   {
    "duration": 29,
    "start_time": "2024-05-28T14:06:51.530Z"
   },
   {
    "duration": 12,
    "start_time": "2024-05-28T14:06:51.561Z"
   },
   {
    "duration": 36,
    "start_time": "2024-05-28T14:06:51.574Z"
   },
   {
    "duration": 38,
    "start_time": "2024-05-28T14:06:51.611Z"
   },
   {
    "duration": 100,
    "start_time": "2024-05-28T14:06:51.651Z"
   },
   {
    "duration": 14,
    "start_time": "2024-05-28T14:06:51.753Z"
   },
   {
    "duration": 27,
    "start_time": "2024-05-28T14:06:51.768Z"
   },
   {
    "duration": 149,
    "start_time": "2024-05-28T14:06:51.797Z"
   },
   {
    "duration": 203,
    "start_time": "2024-05-28T14:06:51.948Z"
   },
   {
    "duration": 13,
    "start_time": "2024-05-28T14:06:52.152Z"
   },
   {
    "duration": 27,
    "start_time": "2024-05-28T14:06:52.166Z"
   },
   {
    "duration": 174,
    "start_time": "2024-05-28T14:06:52.195Z"
   },
   {
    "duration": 158,
    "start_time": "2024-05-28T14:06:52.371Z"
   },
   {
    "duration": 8,
    "start_time": "2024-05-28T14:06:52.531Z"
   },
   {
    "duration": 19,
    "start_time": "2024-05-28T14:06:52.541Z"
   },
   {
    "duration": 3,
    "start_time": "2024-05-28T14:06:52.562Z"
   },
   {
    "duration": 18,
    "start_time": "2024-05-28T14:06:52.567Z"
   },
   {
    "duration": 24,
    "start_time": "2024-05-28T14:06:52.587Z"
   },
   {
    "duration": 10,
    "start_time": "2024-05-28T14:06:52.612Z"
   },
   {
    "duration": 9,
    "start_time": "2024-05-28T14:06:52.623Z"
   },
   {
    "duration": 18,
    "start_time": "2024-05-28T14:06:52.633Z"
   },
   {
    "duration": 12,
    "start_time": "2024-05-28T14:06:52.658Z"
   },
   {
    "duration": 11,
    "start_time": "2024-05-28T14:06:52.671Z"
   },
   {
    "duration": 7,
    "start_time": "2024-05-28T14:06:52.683Z"
   },
   {
    "duration": 16,
    "start_time": "2024-05-28T14:06:52.691Z"
   },
   {
    "duration": 4,
    "start_time": "2024-05-28T14:06:52.709Z"
   },
   {
    "duration": 17,
    "start_time": "2024-05-28T14:06:52.715Z"
   },
   {
    "duration": 13,
    "start_time": "2024-05-28T14:06:52.734Z"
   },
   {
    "duration": 10,
    "start_time": "2024-05-28T14:06:52.749Z"
   },
   {
    "duration": 8,
    "start_time": "2024-05-28T14:06:52.760Z"
   },
   {
    "duration": 3,
    "start_time": "2024-05-28T14:06:52.770Z"
   },
   {
    "duration": 6,
    "start_time": "2024-05-28T14:06:52.774Z"
   }
  ],
  "kernelspec": {
   "display_name": "Python 3 (ipykernel)",
   "language": "python",
   "name": "python3"
  },
  "language_info": {
   "codemirror_mode": {
    "name": "ipython",
    "version": 3
   },
   "file_extension": ".py",
   "mimetype": "text/x-python",
   "name": "python",
   "nbconvert_exporter": "python",
   "pygments_lexer": "ipython3",
   "version": "3.11.4"
  },
  "toc": {
   "base_numbering": 1,
   "nav_menu": {},
   "number_sections": true,
   "sideBar": true,
   "skip_h1_title": true,
   "title_cell": "Table of Contents",
   "title_sidebar": "Contents",
   "toc_cell": false,
   "toc_position": {},
   "toc_section_display": true,
   "toc_window_display": false
  }
 },
 "nbformat": 4,
 "nbformat_minor": 5
}
